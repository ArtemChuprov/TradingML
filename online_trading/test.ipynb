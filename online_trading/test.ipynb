{
 "cells": [
  {
   "cell_type": "code",
   "execution_count": 2,
   "metadata": {},
   "outputs": [],
   "source": [
    "from tinkoff.invest.utils import now\n",
    "import os\n",
    "from datetime import timedelta\n",
    "from tinkoff.invest import CandleInterval, Client\n",
    "from tinkoff.invest.constants import INVEST_GRPC_API, INVEST_GRPC_API_SANDBOX\n",
    "from configs import tink_API_key, company_figi\n",
    "\n",
    "TOKEN = tink_API_key\n",
    "prices = []\n",
    "\n",
    "with Client(TOKEN, target=INVEST_GRPC_API_SANDBOX) as client:\n",
    "    for candle in client.get_all_candles(\n",
    "        figi=company_figi[\"SIBN\"],\n",
    "        from_=now() - timedelta(minutes=120),\n",
    "        interval=CandleInterval.CANDLE_INTERVAL_1_MIN,\n",
    "    ):\n",
    "        prices.append(candle.close.units)"
   ]
  },
  {
   "cell_type": "code",
   "execution_count": 31,
   "metadata": {},
   "outputs": [],
   "source": [
    "from tinkoff.invest.schemas import OrderType, OrderDirection"
   ]
  },
  {
   "cell_type": "code",
   "execution_count": 4,
   "metadata": {},
   "outputs": [],
   "source": [
    "import numpy as np\n",
    "\n",
    "mean_price = np.mean(prices)\n",
    "std = np.std(prices)"
   ]
  },
  {
   "cell_type": "code",
   "execution_count": 23,
   "metadata": {},
   "outputs": [
    {
     "name": "stdout",
     "output_type": "stream",
     "text": [
      "Требуется денег:  8049.599999999999\n"
     ]
    }
   ],
   "source": [
    "std_steps = np.arange(0.5, 2.01, 0.5)\n",
    "enter_prices = []\n",
    "qty = []\n",
    "for i in range(len(std_steps)):\n",
    "    enter_prices.append(mean_price - std * std_steps[i])\n",
    "    qty.append(i + 1)\n",
    "enter_prices = np.round(enter_prices, 1)\n",
    "qty = np.array(qty, dtype=np.float32)\n",
    "\n",
    "total_sum = (qty * enter_prices).sum()\n",
    "print(\"Требуется денег: \", total_sum)"
   ]
  },
  {
   "cell_type": "code",
   "execution_count": 33,
   "metadata": {},
   "outputs": [
    {
     "name": "stderr",
     "output_type": "stream",
     "text": [
      "49d5e08bdf70b98fe8f21cc7c0d63d35 PostOrder INVALID_ARGUMENT 30019\n"
     ]
    },
    {
     "ename": "RequestError",
     "evalue": "(<StatusCode.INVALID_ARGUMENT: (3, 'invalid argument')>, '30019', Metadata(tracking_id='49d5e08bdf70b98fe8f21cc7c0d63d35', ratelimit_limit='300, 300;w=60', ratelimit_remaining=299, ratelimit_reset=57, message=\"missing parameter: 'direction'\"))",
     "output_type": "error",
     "traceback": [
      "\u001b[0;31m---------------------------------------------------------------------------\u001b[0m",
      "\u001b[0;31m_InactiveRpcError\u001b[0m                         Traceback (most recent call last)",
      "File \u001b[0;32m~/.pyenv/versions/3.10.13/envs/blockchain/lib/python3.10/site-packages/tinkoff/invest/_errors.py:23\u001b[0m, in \u001b[0;36mhandle_request_error.<locals>.decorator.<locals>.wrapper\u001b[0;34m(*args, **kwargs)\u001b[0m\n\u001b[1;32m     22\u001b[0m \u001b[38;5;28;01mtry\u001b[39;00m:\n\u001b[0;32m---> 23\u001b[0m     \u001b[38;5;28;01mreturn\u001b[39;00m \u001b[43mfunc\u001b[49m\u001b[43m(\u001b[49m\u001b[38;5;241;43m*\u001b[39;49m\u001b[43margs\u001b[49m\u001b[43m,\u001b[49m\u001b[43m \u001b[49m\u001b[38;5;241;43m*\u001b[39;49m\u001b[38;5;241;43m*\u001b[39;49m\u001b[43mkwargs\u001b[49m\u001b[43m)\u001b[49m\n\u001b[1;32m     24\u001b[0m \u001b[38;5;28;01mexcept\u001b[39;00m RpcError \u001b[38;5;28;01mas\u001b[39;00m e:\n",
      "File \u001b[0;32m~/.pyenv/versions/3.10.13/envs/blockchain/lib/python3.10/site-packages/tinkoff/invest/services.py:1293\u001b[0m, in \u001b[0;36mOrdersService.post_order\u001b[0;34m(self, figi, quantity, price, direction, account_id, order_type, order_id, instrument_id, time_in_force, price_type)\u001b[0m\n\u001b[1;32m   1292\u001b[0m request\u001b[38;5;241m.\u001b[39mprice_type \u001b[38;5;241m=\u001b[39m price_type\n\u001b[0;32m-> 1293\u001b[0m response, call \u001b[38;5;241m=\u001b[39m \u001b[38;5;28;43mself\u001b[39;49m\u001b[38;5;241;43m.\u001b[39;49m\u001b[43mstub\u001b[49m\u001b[38;5;241;43m.\u001b[39;49m\u001b[43mPostOrder\u001b[49m\u001b[38;5;241;43m.\u001b[39;49m\u001b[43mwith_call\u001b[49m\u001b[43m(\u001b[49m\n\u001b[1;32m   1294\u001b[0m \u001b[43m    \u001b[49m\u001b[43mrequest\u001b[49m\u001b[38;5;241;43m=\u001b[39;49m\u001b[43m_grpc_helpers\u001b[49m\u001b[38;5;241;43m.\u001b[39;49m\u001b[43mdataclass_to_protobuff\u001b[49m\u001b[43m(\u001b[49m\n\u001b[1;32m   1295\u001b[0m \u001b[43m        \u001b[49m\u001b[43mrequest\u001b[49m\u001b[43m,\u001b[49m\u001b[43m \u001b[49m\u001b[43morders_pb2\u001b[49m\u001b[38;5;241;43m.\u001b[39;49m\u001b[43mPostOrderRequest\u001b[49m\u001b[43m(\u001b[49m\u001b[43m)\u001b[49m\n\u001b[1;32m   1296\u001b[0m \u001b[43m    \u001b[49m\u001b[43m)\u001b[49m\u001b[43m,\u001b[49m\n\u001b[1;32m   1297\u001b[0m \u001b[43m    \u001b[49m\u001b[43mmetadata\u001b[49m\u001b[38;5;241;43m=\u001b[39;49m\u001b[38;5;28;43mself\u001b[39;49m\u001b[38;5;241;43m.\u001b[39;49m\u001b[43mmetadata\u001b[49m\u001b[43m,\u001b[49m\n\u001b[1;32m   1298\u001b[0m \u001b[43m\u001b[49m\u001b[43m)\u001b[49m\n\u001b[1;32m   1299\u001b[0m log_request(get_tracking_id_from_call(call), \u001b[38;5;124m\"\u001b[39m\u001b[38;5;124mPostOrder\u001b[39m\u001b[38;5;124m\"\u001b[39m)\n",
      "File \u001b[0;32m~/.pyenv/versions/3.10.13/envs/blockchain/lib/python3.10/site-packages/grpc/_channel.py:1193\u001b[0m, in \u001b[0;36m_UnaryUnaryMultiCallable.with_call\u001b[0;34m(self, request, timeout, metadata, credentials, wait_for_ready, compression)\u001b[0m\n\u001b[1;32m   1187\u001b[0m (\n\u001b[1;32m   1188\u001b[0m     state,\n\u001b[1;32m   1189\u001b[0m     call,\n\u001b[1;32m   1190\u001b[0m ) \u001b[38;5;241m=\u001b[39m \u001b[38;5;28mself\u001b[39m\u001b[38;5;241m.\u001b[39m_blocking(\n\u001b[1;32m   1191\u001b[0m     request, timeout, metadata, credentials, wait_for_ready, compression\n\u001b[1;32m   1192\u001b[0m )\n\u001b[0;32m-> 1193\u001b[0m \u001b[38;5;28;01mreturn\u001b[39;00m \u001b[43m_end_unary_response_blocking\u001b[49m\u001b[43m(\u001b[49m\u001b[43mstate\u001b[49m\u001b[43m,\u001b[49m\u001b[43m \u001b[49m\u001b[43mcall\u001b[49m\u001b[43m,\u001b[49m\u001b[43m \u001b[49m\u001b[38;5;28;43;01mTrue\u001b[39;49;00m\u001b[43m,\u001b[49m\u001b[43m \u001b[49m\u001b[38;5;28;43;01mNone\u001b[39;49;00m\u001b[43m)\u001b[49m\n",
      "File \u001b[0;32m~/.pyenv/versions/3.10.13/envs/blockchain/lib/python3.10/site-packages/grpc/_channel.py:1005\u001b[0m, in \u001b[0;36m_end_unary_response_blocking\u001b[0;34m(state, call, with_call, deadline)\u001b[0m\n\u001b[1;32m   1004\u001b[0m \u001b[38;5;28;01melse\u001b[39;00m:\n\u001b[0;32m-> 1005\u001b[0m     \u001b[38;5;28;01mraise\u001b[39;00m _InactiveRpcError(state)\n",
      "\u001b[0;31m_InactiveRpcError\u001b[0m: <_InactiveRpcError of RPC that terminated with:\n\tstatus = StatusCode.INVALID_ARGUMENT\n\tdetails = \"30019\"\n\tdebug_error_string = \"UNKNOWN:Error received from peer  {created_time:\"2024-03-15T11:34:03.104460738+03:00\", grpc_status:3, grpc_message:\"30019\"}\"\n>",
      "\nThe above exception was the direct cause of the following exception:\n",
      "\u001b[0;31mRequestError\u001b[0m                              Traceback (most recent call last)",
      "Cell \u001b[0;32mIn[33], line 2\u001b[0m\n\u001b[1;32m      1\u001b[0m \u001b[38;5;28;01mwith\u001b[39;00m Client(TOKEN, target\u001b[38;5;241m=\u001b[39mINVEST_GRPC_API) \u001b[38;5;28;01mas\u001b[39;00m client:\n\u001b[0;32m----> 2\u001b[0m     \u001b[43mclient\u001b[49m\u001b[38;5;241;43m.\u001b[39;49m\u001b[43morders\u001b[49m\u001b[38;5;241;43m.\u001b[39;49m\u001b[43mpost_order\u001b[49m\u001b[43m(\u001b[49m\u001b[43mfigi\u001b[49m\u001b[38;5;241;43m=\u001b[39;49m\u001b[43mcompany_figi\u001b[49m\u001b[43m[\u001b[49m\u001b[38;5;124;43m'\u001b[39;49m\u001b[38;5;124;43mSIBN\u001b[39;49m\u001b[38;5;124;43m'\u001b[39;49m\u001b[43m]\u001b[49m\u001b[43m,\u001b[49m\u001b[43m \u001b[49m\u001b[43mprice\u001b[49m\u001b[38;5;241;43m=\u001b[39;49m\u001b[38;5;241;43m200\u001b[39;49m\u001b[43m,\u001b[49m\u001b[43m \u001b[49m\u001b[43mquantity\u001b[49m\u001b[38;5;241;43m=\u001b[39;49m\u001b[38;5;241;43m2\u001b[39;49m\u001b[43m,\u001b[49m\u001b[43m \u001b[49m\u001b[43morder_type\u001b[49m\u001b[38;5;241;43m=\u001b[39;49m\u001b[38;5;241;43m1\u001b[39;49m\u001b[43m)\u001b[49m\u001b[38;5;66;03m#, direction=OrderDirection(1))\u001b[39;00m\n",
      "File \u001b[0;32m~/.pyenv/versions/3.10.13/envs/blockchain/lib/python3.10/site-packages/tinkoff/invest/_errors.py:41\u001b[0m, in \u001b[0;36mhandle_request_error.<locals>.decorator.<locals>.wrapper\u001b[0;34m(*args, **kwargs)\u001b[0m\n\u001b[1;32m     36\u001b[0m     \u001b[38;5;28;01mif\u001b[39;00m status_code \u001b[38;5;241m==\u001b[39m StatusCode\u001b[38;5;241m.\u001b[39mUNAUTHENTICATED:\n\u001b[1;32m     37\u001b[0m         \u001b[38;5;28;01mraise\u001b[39;00m UnauthenticatedError(\n\u001b[1;32m     38\u001b[0m             status_code, details, metadata\n\u001b[1;32m     39\u001b[0m         ) \u001b[38;5;28;01mfrom\u001b[39;00m \u001b[38;5;21;01me\u001b[39;00m\n\u001b[0;32m---> 41\u001b[0m     \u001b[38;5;28;01mraise\u001b[39;00m RequestError(status_code, details, metadata) \u001b[38;5;28;01mfrom\u001b[39;00m \u001b[38;5;21;01me\u001b[39;00m\n\u001b[1;32m     42\u001b[0m \u001b[38;5;28;01mraise\u001b[39;00m\n",
      "\u001b[0;31mRequestError\u001b[0m: (<StatusCode.INVALID_ARGUMENT: (3, 'invalid argument')>, '30019', Metadata(tracking_id='49d5e08bdf70b98fe8f21cc7c0d63d35', ratelimit_limit='300, 300;w=60', ratelimit_remaining=299, ratelimit_reset=57, message=\"missing parameter: 'direction'\"))"
     ]
    }
   ],
   "source": [
    "with Client(TOKEN, target=INVEST_GRPC_API) as client:\n",
    "    client.orders.post_order(\n",
    "        figi=company_figi[\"SIBN\"], price=200, quantity=2, order_type=1\n",
    "    )  # , direction=OrderDirection(1))"
   ]
  },
  {
   "cell_type": "code",
   "execution_count": 10,
   "metadata": {},
   "outputs": [
    {
     "data": {
      "text/plain": [
       "array([ 0.,  1.,  2.,  3.,  4.,  5.,  6.,  7.,  8.,  9., 10.])"
      ]
     },
     "execution_count": 10,
     "metadata": {},
     "output_type": "execute_result"
    }
   ],
   "source": [
    "from tinkoff.invest import Client, LimitOrderRequest, OrderDirection, Quotation\n",
    "\n",
    "TOKEN = \"your_api_token_here\"\n",
    "FIGI = \"figi_of_the_instrument\"\n",
    "QUANTITY = 10  # Number of shares to buy\n",
    "PRICE = 100.0  # Price at which you want to buy the shares\n",
    "\n",
    "# Start by creating a client instance\n",
    "with Client(TOKEN) as client:\n",
    "    # Create the limit order request\n",
    "    # Note that the price must be specified in the smallest currency unit (kopecks, cents, etc.)\n",
    "    # Thus, it must be transformed into `Quotation`\n",
    "    order_response = client.orders.post_order(\n",
    "        figi=FIGI,\n",
    "        quantity=QUANTITY,\n",
    "        price=Quotation(units=int(PRICE), nano=int((PRICE - int(PRICE)) * 1e9)),\n",
    "        direction=OrderDirection.ORDER_DIRECTION_BUY,\n",
    "        account_id=\"your_account_id\",\n",
    "        order_type=OrderType.ORDER_TYPE_LIMIT,\n",
    "        order_id=\"your_unique_order_id\",\n",
    "    )\n",
    "\n",
    "    # Check the response\n",
    "    if order_response:\n",
    "        print(\"Order placed successfully\")\n",
    "        print(f\"Order ID: {order_response.order_id}\")\n",
    "    else:\n",
    "        print(\"Failed to place the order\")"
   ]
  },
  {
   "cell_type": "code",
   "execution_count": 12,
   "metadata": {},
   "outputs": [
    {
     "data": {
      "text/plain": [
       "array([0. , 0.5, 1. , 1.5, 2. , 2.5, 3. , 3.5, 4. , 4.5, 5. , 5.5, 6. ,\n",
       "       6.5, 7. , 7.5, 8. , 8.5, 9. , 9.5])"
      ]
     },
     "execution_count": 12,
     "metadata": {},
     "output_type": "execute_result"
    }
   ],
   "source": [
    "np.arange(0, 10, 0.5)"
   ]
  },
  {
   "cell_type": "code",
   "execution_count": 6,
   "metadata": {},
   "outputs": [
    {
     "data": {
      "text/plain": [
       "2.288708206652497"
      ]
     },
     "execution_count": 6,
     "metadata": {},
     "output_type": "execute_result"
    }
   ],
   "source": [
    "std"
   ]
  },
  {
   "cell_type": "code",
   "execution_count": null,
   "metadata": {},
   "outputs": [],
   "source": []
  }
 ],
 "metadata": {
  "kernelspec": {
   "display_name": "blockchain",
   "language": "python",
   "name": "python3"
  },
  "language_info": {
   "codemirror_mode": {
    "name": "ipython",
    "version": 3
   },
   "file_extension": ".py",
   "mimetype": "text/x-python",
   "name": "python",
   "nbconvert_exporter": "python",
   "pygments_lexer": "ipython3",
   "version": "3.10.13"
  }
 },
 "nbformat": 4,
 "nbformat_minor": 2
}
