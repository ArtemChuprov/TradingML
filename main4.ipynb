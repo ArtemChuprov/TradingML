{
 "cells": [
  {
   "cell_type": "code",
   "execution_count": 1,
   "metadata": {
    "tags": []
   },
   "outputs": [],
   "source": [
    "import pandas as pd\n",
    "from indicators import RSI, extract_bb, MFI, CMF\n",
    "from sklearn.model_selection import train_test_split\n",
    "from sklearn.preprocessing import MinMaxScaler\n",
    "from sklearn.preprocessing import OneHotEncoder\n",
    "from sklearn.metrics import accuracy_score\n",
    "import numpy as np\n",
    "import warnings\n",
    "import torch\n",
    "import torch.nn as nn\n",
    "import torch.optim as optim\n",
    "from torch.utils.data import TensorDataset, DataLoader\n",
    "from IPython.display import clear_output\n",
    "import plotly.graph_objects as go\n",
    "import plotly.express as px\n",
    "\n",
    "import gym\n",
    "from stable_baselines3 import PPO\n",
    "from stable_baselines3.common.env_util import make_vec_env\n",
    "from gym import spaces\n",
    "from stable_baselines3.common.vec_env import DummyVecEnv\n",
    "from stable_baselines3.common.evaluation import evaluate_policy\n",
    "from stable_baselines3.common.callbacks import ProgressBarCallback\n",
    "\n",
    "warnings.filterwarnings(\"ignore\")"
   ]
  },
  {
   "cell_type": "code",
   "execution_count": 2,
   "metadata": {
    "metadata": {},
    "tags": []
   },
   "outputs": [
    {
     "data": {
      "text/html": [
       "<div>\n",
       "<style scoped>\n",
       "    .dataframe tbody tr th:only-of-type {\n",
       "        vertical-align: middle;\n",
       "    }\n",
       "\n",
       "    .dataframe tbody tr th {\n",
       "        vertical-align: top;\n",
       "    }\n",
       "\n",
       "    .dataframe thead th {\n",
       "        text-align: right;\n",
       "    }\n",
       "</style>\n",
       "<table border=\"1\" class=\"dataframe\">\n",
       "  <thead>\n",
       "    <tr style=\"text-align: right;\">\n",
       "      <th></th>\n",
       "      <th>open</th>\n",
       "      <th>high</th>\n",
       "      <th>low</th>\n",
       "      <th>close</th>\n",
       "      <th>volume</th>\n",
       "    </tr>\n",
       "  </thead>\n",
       "  <tbody>\n",
       "    <tr>\n",
       "      <th>0</th>\n",
       "      <td>162.65</td>\n",
       "      <td>162.70</td>\n",
       "      <td>162.43</td>\n",
       "      <td>162.49</td>\n",
       "      <td>218280</td>\n",
       "    </tr>\n",
       "    <tr>\n",
       "      <th>1</th>\n",
       "      <td>162.49</td>\n",
       "      <td>162.50</td>\n",
       "      <td>162.31</td>\n",
       "      <td>162.42</td>\n",
       "      <td>174320</td>\n",
       "    </tr>\n",
       "    <tr>\n",
       "      <th>2</th>\n",
       "      <td>162.43</td>\n",
       "      <td>162.49</td>\n",
       "      <td>162.30</td>\n",
       "      <td>162.43</td>\n",
       "      <td>128060</td>\n",
       "    </tr>\n",
       "    <tr>\n",
       "      <th>3</th>\n",
       "      <td>162.45</td>\n",
       "      <td>162.46</td>\n",
       "      <td>162.28</td>\n",
       "      <td>162.29</td>\n",
       "      <td>125240</td>\n",
       "    </tr>\n",
       "    <tr>\n",
       "      <th>4</th>\n",
       "      <td>162.30</td>\n",
       "      <td>162.37</td>\n",
       "      <td>162.20</td>\n",
       "      <td>162.37</td>\n",
       "      <td>228440</td>\n",
       "    </tr>\n",
       "    <tr>\n",
       "      <th>...</th>\n",
       "      <td>...</td>\n",
       "      <td>...</td>\n",
       "      <td>...</td>\n",
       "      <td>...</td>\n",
       "      <td>...</td>\n",
       "    </tr>\n",
       "    <tr>\n",
       "      <th>2127</th>\n",
       "      <td>163.37</td>\n",
       "      <td>163.40</td>\n",
       "      <td>163.30</td>\n",
       "      <td>163.40</td>\n",
       "      <td>171700</td>\n",
       "    </tr>\n",
       "    <tr>\n",
       "      <th>2128</th>\n",
       "      <td>163.40</td>\n",
       "      <td>163.82</td>\n",
       "      <td>163.39</td>\n",
       "      <td>163.71</td>\n",
       "      <td>623050</td>\n",
       "    </tr>\n",
       "    <tr>\n",
       "      <th>2129</th>\n",
       "      <td>163.70</td>\n",
       "      <td>163.82</td>\n",
       "      <td>163.61</td>\n",
       "      <td>163.80</td>\n",
       "      <td>314660</td>\n",
       "    </tr>\n",
       "    <tr>\n",
       "      <th>2130</th>\n",
       "      <td>163.80</td>\n",
       "      <td>163.82</td>\n",
       "      <td>163.60</td>\n",
       "      <td>163.70</td>\n",
       "      <td>136580</td>\n",
       "    </tr>\n",
       "    <tr>\n",
       "      <th>2131</th>\n",
       "      <td>163.69</td>\n",
       "      <td>163.73</td>\n",
       "      <td>163.66</td>\n",
       "      <td>163.71</td>\n",
       "      <td>3800</td>\n",
       "    </tr>\n",
       "  </tbody>\n",
       "</table>\n",
       "<p>2132 rows × 5 columns</p>\n",
       "</div>"
      ],
      "text/plain": [
       "        open    high     low   close  volume\n",
       "0     162.65  162.70  162.43  162.49  218280\n",
       "1     162.49  162.50  162.31  162.42  174320\n",
       "2     162.43  162.49  162.30  162.43  128060\n",
       "3     162.45  162.46  162.28  162.29  125240\n",
       "4     162.30  162.37  162.20  162.37  228440\n",
       "...      ...     ...     ...     ...     ...\n",
       "2127  163.37  163.40  163.30  163.40  171700\n",
       "2128  163.40  163.82  163.39  163.71  623050\n",
       "2129  163.70  163.82  163.61  163.80  314660\n",
       "2130  163.80  163.82  163.60  163.70  136580\n",
       "2131  163.69  163.73  163.66  163.71    3800\n",
       "\n",
       "[2132 rows x 5 columns]"
      ]
     },
     "execution_count": 2,
     "metadata": {},
     "output_type": "execute_result"
    }
   ],
   "source": [
    "df = pd.read_csv(\"gzpn_data.csv\")\n",
    "df = df.dropna().reset_index(drop=True)  # .sample(frac=1)\n",
    "df = df.drop(columns=[\"<TICKER>\", \"<PER>\", \"<DATE>\", \"<TIME>\"])\n",
    "df.columns = [\"open\", \"high\", \"low\", \"close\", \"volume\"]\n",
    "df"
   ]
  },
  {
   "cell_type": "code",
   "execution_count": 3,
   "metadata": {
    "metadata": {},
    "tags": []
   },
   "outputs": [],
   "source": [
    "n_steps = 14\n",
    "\n",
    "prices = df[\"close\"]\n",
    "\n",
    "rsi_values = RSI(prices=prices, n_steps=n_steps)\n",
    "bb_values = extract_bb(prices=prices, n_steps=n_steps)\n",
    "mfi_values = MFI(\n",
    "    open=df[\"open\"],\n",
    "    high=df[\"high\"],\n",
    "    low=df[\"low\"],\n",
    "    close=df[\"close\"],\n",
    "    volume=df[\"volume\"],\n",
    "    n_steps=n_steps,\n",
    ")\n",
    "\n",
    "\n",
    "cmf_values = CMF(\n",
    "    open=df[\"open\"],\n",
    "    high=df[\"high\"],\n",
    "    low=df[\"low\"],\n",
    "    close=df[\"close\"],\n",
    "    volume=df[\"volume\"],\n",
    "    n_steps=n_steps,\n",
    ")\n",
    "\n",
    "assert len(rsi_values) == len(\n",
    "    bb_values\n",
    "), f\"Indicators length don't coincide: {len(rsi_values)} and {len(bb_values)}\""
   ]
  },
  {
   "cell_type": "code",
   "execution_count": 4,
   "metadata": {
    "metadata": {},
    "tags": []
   },
   "outputs": [],
   "source": [
    "def prepare_target(df, steps_obs: int = 3):\n",
    "    targets = []\n",
    "    for i in range(0, len(df) - steps_obs):\n",
    "        current_price = df[\"close\"].iloc[i]\n",
    "        max_price = df[\"high\"].iloc[i + 1 : i + 1 + steps_obs].max()\n",
    "        targets.append(max_price > current_price)\n",
    "    targets += [0] * steps_obs\n",
    "    return np.array(targets, dtype=np.int32)\n",
    "\n",
    "\n",
    "steps_obs = 3\n",
    "\n",
    "targets = prepare_target(df=df, steps_obs=steps_obs)"
   ]
  },
  {
   "cell_type": "code",
   "execution_count": 5,
   "metadata": {
    "metadata": {},
    "tags": []
   },
   "outputs": [
    {
     "data": {
      "text/html": [
       "<div>\n",
       "<style scoped>\n",
       "    .dataframe tbody tr th:only-of-type {\n",
       "        vertical-align: middle;\n",
       "    }\n",
       "\n",
       "    .dataframe tbody tr th {\n",
       "        vertical-align: top;\n",
       "    }\n",
       "\n",
       "    .dataframe thead th {\n",
       "        text-align: right;\n",
       "    }\n",
       "</style>\n",
       "<table border=\"1\" class=\"dataframe\">\n",
       "  <thead>\n",
       "    <tr style=\"text-align: right;\">\n",
       "      <th></th>\n",
       "      <th>rsi</th>\n",
       "      <th>bb</th>\n",
       "      <th>mfi</th>\n",
       "      <th>cmf</th>\n",
       "      <th>target</th>\n",
       "    </tr>\n",
       "  </thead>\n",
       "  <tbody>\n",
       "    <tr>\n",
       "      <th>0</th>\n",
       "      <td>53.750000</td>\n",
       "      <td>0.834435</td>\n",
       "      <td>47.310164</td>\n",
       "      <td>0.118391</td>\n",
       "      <td>1</td>\n",
       "    </tr>\n",
       "    <tr>\n",
       "      <th>1</th>\n",
       "      <td>53.750000</td>\n",
       "      <td>0.979976</td>\n",
       "      <td>56.327443</td>\n",
       "      <td>0.202426</td>\n",
       "      <td>1</td>\n",
       "    </tr>\n",
       "    <tr>\n",
       "      <th>2</th>\n",
       "      <td>65.671642</td>\n",
       "      <td>1.006511</td>\n",
       "      <td>60.871871</td>\n",
       "      <td>0.235202</td>\n",
       "      <td>1</td>\n",
       "    </tr>\n",
       "    <tr>\n",
       "      <th>3</th>\n",
       "      <td>61.016949</td>\n",
       "      <td>0.910924</td>\n",
       "      <td>67.173006</td>\n",
       "      <td>0.238298</td>\n",
       "      <td>1</td>\n",
       "    </tr>\n",
       "    <tr>\n",
       "      <th>4</th>\n",
       "      <td>61.016949</td>\n",
       "      <td>2.210979</td>\n",
       "      <td>74.939408</td>\n",
       "      <td>0.378479</td>\n",
       "      <td>1</td>\n",
       "    </tr>\n",
       "    <tr>\n",
       "      <th>...</th>\n",
       "      <td>...</td>\n",
       "      <td>...</td>\n",
       "      <td>...</td>\n",
       "      <td>...</td>\n",
       "      <td>...</td>\n",
       "    </tr>\n",
       "    <tr>\n",
       "      <th>2113</th>\n",
       "      <td>57.291667</td>\n",
       "      <td>1.691918</td>\n",
       "      <td>32.142454</td>\n",
       "      <td>-0.255301</td>\n",
       "      <td>1</td>\n",
       "    </tr>\n",
       "    <tr>\n",
       "      <th>2114</th>\n",
       "      <td>68.800000</td>\n",
       "      <td>2.966376</td>\n",
       "      <td>47.706655</td>\n",
       "      <td>-0.086727</td>\n",
       "      <td>1</td>\n",
       "    </tr>\n",
       "    <tr>\n",
       "      <th>2115</th>\n",
       "      <td>70.895522</td>\n",
       "      <td>2.461380</td>\n",
       "      <td>53.031262</td>\n",
       "      <td>0.006295</td>\n",
       "      <td>0</td>\n",
       "    </tr>\n",
       "    <tr>\n",
       "      <th>2116</th>\n",
       "      <td>66.901408</td>\n",
       "      <td>1.604800</td>\n",
       "      <td>51.008568</td>\n",
       "      <td>0.002142</td>\n",
       "      <td>0</td>\n",
       "    </tr>\n",
       "    <tr>\n",
       "      <th>2117</th>\n",
       "      <td>63.846154</td>\n",
       "      <td>1.403666</td>\n",
       "      <td>51.335584</td>\n",
       "      <td>-0.002594</td>\n",
       "      <td>0</td>\n",
       "    </tr>\n",
       "  </tbody>\n",
       "</table>\n",
       "<p>2118 rows × 5 columns</p>\n",
       "</div>"
      ],
      "text/plain": [
       "            rsi        bb        mfi       cmf  target\n",
       "0     53.750000  0.834435  47.310164  0.118391       1\n",
       "1     53.750000  0.979976  56.327443  0.202426       1\n",
       "2     65.671642  1.006511  60.871871  0.235202       1\n",
       "3     61.016949  0.910924  67.173006  0.238298       1\n",
       "4     61.016949  2.210979  74.939408  0.378479       1\n",
       "...         ...       ...        ...       ...     ...\n",
       "2113  57.291667  1.691918  32.142454 -0.255301       1\n",
       "2114  68.800000  2.966376  47.706655 -0.086727       1\n",
       "2115  70.895522  2.461380  53.031262  0.006295       0\n",
       "2116  66.901408  1.604800  51.008568  0.002142       0\n",
       "2117  63.846154  1.403666  51.335584 -0.002594       0\n",
       "\n",
       "[2118 rows x 5 columns]"
      ]
     },
     "execution_count": 5,
     "metadata": {},
     "output_type": "execute_result"
    }
   ],
   "source": [
    "indicator_data = (\n",
    "    pd.DataFrame(\n",
    "        data=np.array([rsi_values, bb_values, mfi_values, cmf_values, targets]).T,\n",
    "        columns=[\"rsi\", \"bb\", \"mfi\", \"cmf\", \"target\"],\n",
    "    )\n",
    "    .dropna()\n",
    "    .reset_index(drop=True)\n",
    "    .astype(np.float64)\n",
    ")\n",
    "indicator_data[\"target\"] = indicator_data[\"target\"].astype(np.int32)\n",
    "indicator_data"
   ]
  },
  {
   "cell_type": "code",
   "execution_count": 6,
   "metadata": {
    "metadata": {},
    "tags": []
   },
   "outputs": [
    {
     "data": {
      "text/html": [
       "<div>\n",
       "<style scoped>\n",
       "    .dataframe tbody tr th:only-of-type {\n",
       "        vertical-align: middle;\n",
       "    }\n",
       "\n",
       "    .dataframe tbody tr th {\n",
       "        vertical-align: top;\n",
       "    }\n",
       "\n",
       "    .dataframe thead th {\n",
       "        text-align: right;\n",
       "    }\n",
       "</style>\n",
       "<table border=\"1\" class=\"dataframe\">\n",
       "  <thead>\n",
       "    <tr style=\"text-align: right;\">\n",
       "      <th></th>\n",
       "      <th>rsi</th>\n",
       "      <th>bb</th>\n",
       "      <th>mfi</th>\n",
       "      <th>cmf</th>\n",
       "      <th>target</th>\n",
       "    </tr>\n",
       "  </thead>\n",
       "  <tbody>\n",
       "    <tr>\n",
       "      <th>count</th>\n",
       "      <td>2118.000000</td>\n",
       "      <td>2118.000000</td>\n",
       "      <td>2118.000000</td>\n",
       "      <td>2118.000000</td>\n",
       "      <td>2118.000000</td>\n",
       "    </tr>\n",
       "    <tr>\n",
       "      <th>mean</th>\n",
       "      <td>49.895664</td>\n",
       "      <td>-0.024507</td>\n",
       "      <td>44.188489</td>\n",
       "      <td>0.098081</td>\n",
       "      <td>0.874410</td>\n",
       "    </tr>\n",
       "    <tr>\n",
       "      <th>std</th>\n",
       "      <td>16.466172</td>\n",
       "      <td>1.252253</td>\n",
       "      <td>18.323338</td>\n",
       "      <td>0.243771</td>\n",
       "      <td>0.331465</td>\n",
       "    </tr>\n",
       "    <tr>\n",
       "      <th>min</th>\n",
       "      <td>2.247191</td>\n",
       "      <td>-3.465921</td>\n",
       "      <td>1.173070</td>\n",
       "      <td>-0.772300</td>\n",
       "      <td>0.000000</td>\n",
       "    </tr>\n",
       "    <tr>\n",
       "      <th>25%</th>\n",
       "      <td>38.160406</td>\n",
       "      <td>-1.015955</td>\n",
       "      <td>30.561603</td>\n",
       "      <td>-0.068747</td>\n",
       "      <td>1.000000</td>\n",
       "    </tr>\n",
       "    <tr>\n",
       "      <th>50%</th>\n",
       "      <td>49.593496</td>\n",
       "      <td>-0.053811</td>\n",
       "      <td>43.494468</td>\n",
       "      <td>0.109617</td>\n",
       "      <td>1.000000</td>\n",
       "    </tr>\n",
       "    <tr>\n",
       "      <th>75%</th>\n",
       "      <td>61.283057</td>\n",
       "      <td>0.970050</td>\n",
       "      <td>57.039061</td>\n",
       "      <td>0.263337</td>\n",
       "      <td>1.000000</td>\n",
       "    </tr>\n",
       "    <tr>\n",
       "      <th>max</th>\n",
       "      <td>96.000000</td>\n",
       "      <td>3.330035</td>\n",
       "      <td>96.698208</td>\n",
       "      <td>0.766618</td>\n",
       "      <td>1.000000</td>\n",
       "    </tr>\n",
       "  </tbody>\n",
       "</table>\n",
       "</div>"
      ],
      "text/plain": [
       "               rsi           bb          mfi          cmf       target\n",
       "count  2118.000000  2118.000000  2118.000000  2118.000000  2118.000000\n",
       "mean     49.895664    -0.024507    44.188489     0.098081     0.874410\n",
       "std      16.466172     1.252253    18.323338     0.243771     0.331465\n",
       "min       2.247191    -3.465921     1.173070    -0.772300     0.000000\n",
       "25%      38.160406    -1.015955    30.561603    -0.068747     1.000000\n",
       "50%      49.593496    -0.053811    43.494468     0.109617     1.000000\n",
       "75%      61.283057     0.970050    57.039061     0.263337     1.000000\n",
       "max      96.000000     3.330035    96.698208     0.766618     1.000000"
      ]
     },
     "execution_count": 6,
     "metadata": {},
     "output_type": "execute_result"
    }
   ],
   "source": [
    "indicator_data.describe()"
   ]
  },
  {
   "cell_type": "code",
   "execution_count": 7,
   "metadata": {
    "metadata": {}
   },
   "outputs": [
    {
     "data": {
      "text/html": [
       "<div>\n",
       "<style scoped>\n",
       "    .dataframe tbody tr th:only-of-type {\n",
       "        vertical-align: middle;\n",
       "    }\n",
       "\n",
       "    .dataframe tbody tr th {\n",
       "        vertical-align: top;\n",
       "    }\n",
       "\n",
       "    .dataframe thead th {\n",
       "        text-align: right;\n",
       "    }\n",
       "</style>\n",
       "<table border=\"1\" class=\"dataframe\">\n",
       "  <thead>\n",
       "    <tr style=\"text-align: right;\">\n",
       "      <th></th>\n",
       "      <th>rsi</th>\n",
       "      <th>bb</th>\n",
       "      <th>mfi</th>\n",
       "      <th>cmf</th>\n",
       "      <th>target</th>\n",
       "      <th>open</th>\n",
       "      <th>high</th>\n",
       "      <th>low</th>\n",
       "      <th>close</th>\n",
       "      <th>volume</th>\n",
       "    </tr>\n",
       "  </thead>\n",
       "  <tbody>\n",
       "    <tr>\n",
       "      <th>0</th>\n",
       "      <td>53.750000</td>\n",
       "      <td>0.834435</td>\n",
       "      <td>47.310164</td>\n",
       "      <td>0.118391</td>\n",
       "      <td>1</td>\n",
       "      <td>162.46</td>\n",
       "      <td>162.50</td>\n",
       "      <td>162.45</td>\n",
       "      <td>162.48</td>\n",
       "      <td>156850.0</td>\n",
       "    </tr>\n",
       "    <tr>\n",
       "      <th>1</th>\n",
       "      <td>53.750000</td>\n",
       "      <td>0.979976</td>\n",
       "      <td>56.327443</td>\n",
       "      <td>0.202426</td>\n",
       "      <td>1</td>\n",
       "      <td>162.48</td>\n",
       "      <td>162.50</td>\n",
       "      <td>162.48</td>\n",
       "      <td>162.49</td>\n",
       "      <td>83300.0</td>\n",
       "    </tr>\n",
       "    <tr>\n",
       "      <th>2</th>\n",
       "      <td>65.671642</td>\n",
       "      <td>1.006511</td>\n",
       "      <td>60.871871</td>\n",
       "      <td>0.235202</td>\n",
       "      <td>1</td>\n",
       "      <td>162.50</td>\n",
       "      <td>162.50</td>\n",
       "      <td>162.49</td>\n",
       "      <td>162.50</td>\n",
       "      <td>52370.0</td>\n",
       "    </tr>\n",
       "    <tr>\n",
       "      <th>3</th>\n",
       "      <td>61.016949</td>\n",
       "      <td>0.910924</td>\n",
       "      <td>67.173006</td>\n",
       "      <td>0.238298</td>\n",
       "      <td>1</td>\n",
       "      <td>162.49</td>\n",
       "      <td>162.50</td>\n",
       "      <td>162.49</td>\n",
       "      <td>162.50</td>\n",
       "      <td>28020.0</td>\n",
       "    </tr>\n",
       "    <tr>\n",
       "      <th>4</th>\n",
       "      <td>61.016949</td>\n",
       "      <td>2.210979</td>\n",
       "      <td>74.939408</td>\n",
       "      <td>0.378479</td>\n",
       "      <td>1</td>\n",
       "      <td>162.50</td>\n",
       "      <td>162.63</td>\n",
       "      <td>162.49</td>\n",
       "      <td>162.63</td>\n",
       "      <td>62910.0</td>\n",
       "    </tr>\n",
       "    <tr>\n",
       "      <th>...</th>\n",
       "      <td>...</td>\n",
       "      <td>...</td>\n",
       "      <td>...</td>\n",
       "      <td>...</td>\n",
       "      <td>...</td>\n",
       "      <td>...</td>\n",
       "      <td>...</td>\n",
       "      <td>...</td>\n",
       "      <td>...</td>\n",
       "      <td>...</td>\n",
       "    </tr>\n",
       "    <tr>\n",
       "      <th>2113</th>\n",
       "      <td>57.291667</td>\n",
       "      <td>1.691918</td>\n",
       "      <td>32.142454</td>\n",
       "      <td>-0.255301</td>\n",
       "      <td>1</td>\n",
       "      <td>163.37</td>\n",
       "      <td>163.40</td>\n",
       "      <td>163.30</td>\n",
       "      <td>163.40</td>\n",
       "      <td>171700.0</td>\n",
       "    </tr>\n",
       "    <tr>\n",
       "      <th>2114</th>\n",
       "      <td>68.800000</td>\n",
       "      <td>2.966376</td>\n",
       "      <td>47.706655</td>\n",
       "      <td>-0.086727</td>\n",
       "      <td>1</td>\n",
       "      <td>163.40</td>\n",
       "      <td>163.82</td>\n",
       "      <td>163.39</td>\n",
       "      <td>163.71</td>\n",
       "      <td>623050.0</td>\n",
       "    </tr>\n",
       "    <tr>\n",
       "      <th>2115</th>\n",
       "      <td>70.895522</td>\n",
       "      <td>2.461380</td>\n",
       "      <td>53.031262</td>\n",
       "      <td>0.006295</td>\n",
       "      <td>0</td>\n",
       "      <td>163.70</td>\n",
       "      <td>163.82</td>\n",
       "      <td>163.61</td>\n",
       "      <td>163.80</td>\n",
       "      <td>314660.0</td>\n",
       "    </tr>\n",
       "    <tr>\n",
       "      <th>2116</th>\n",
       "      <td>66.901408</td>\n",
       "      <td>1.604800</td>\n",
       "      <td>51.008568</td>\n",
       "      <td>0.002142</td>\n",
       "      <td>0</td>\n",
       "      <td>163.80</td>\n",
       "      <td>163.82</td>\n",
       "      <td>163.60</td>\n",
       "      <td>163.70</td>\n",
       "      <td>136580.0</td>\n",
       "    </tr>\n",
       "    <tr>\n",
       "      <th>2117</th>\n",
       "      <td>63.846154</td>\n",
       "      <td>1.403666</td>\n",
       "      <td>51.335584</td>\n",
       "      <td>-0.002594</td>\n",
       "      <td>0</td>\n",
       "      <td>163.69</td>\n",
       "      <td>163.73</td>\n",
       "      <td>163.66</td>\n",
       "      <td>163.71</td>\n",
       "      <td>3800.0</td>\n",
       "    </tr>\n",
       "  </tbody>\n",
       "</table>\n",
       "<p>2118 rows × 10 columns</p>\n",
       "</div>"
      ],
      "text/plain": [
       "            rsi        bb        mfi       cmf  target    open    high  \\\n",
       "0     53.750000  0.834435  47.310164  0.118391       1  162.46  162.50   \n",
       "1     53.750000  0.979976  56.327443  0.202426       1  162.48  162.50   \n",
       "2     65.671642  1.006511  60.871871  0.235202       1  162.50  162.50   \n",
       "3     61.016949  0.910924  67.173006  0.238298       1  162.49  162.50   \n",
       "4     61.016949  2.210979  74.939408  0.378479       1  162.50  162.63   \n",
       "...         ...       ...        ...       ...     ...     ...     ...   \n",
       "2113  57.291667  1.691918  32.142454 -0.255301       1  163.37  163.40   \n",
       "2114  68.800000  2.966376  47.706655 -0.086727       1  163.40  163.82   \n",
       "2115  70.895522  2.461380  53.031262  0.006295       0  163.70  163.82   \n",
       "2116  66.901408  1.604800  51.008568  0.002142       0  163.80  163.82   \n",
       "2117  63.846154  1.403666  51.335584 -0.002594       0  163.69  163.73   \n",
       "\n",
       "         low   close    volume  \n",
       "0     162.45  162.48  156850.0  \n",
       "1     162.48  162.49   83300.0  \n",
       "2     162.49  162.50   52370.0  \n",
       "3     162.49  162.50   28020.0  \n",
       "4     162.49  162.63   62910.0  \n",
       "...      ...     ...       ...  \n",
       "2113  163.30  163.40  171700.0  \n",
       "2114  163.39  163.71  623050.0  \n",
       "2115  163.61  163.80  314660.0  \n",
       "2116  163.60  163.70  136580.0  \n",
       "2117  163.66  163.71    3800.0  \n",
       "\n",
       "[2118 rows x 10 columns]"
      ]
     },
     "execution_count": 7,
     "metadata": {},
     "output_type": "execute_result"
    }
   ],
   "source": [
    "all_data = indicator_data.copy()\n",
    "all_data[df.columns] = df.iloc[n_steps:, :].values\n",
    "\n",
    "all_data"
   ]
  },
  {
   "cell_type": "code",
   "execution_count": null,
   "metadata": {},
   "outputs": [],
   "source": []
  },
  {
   "cell_type": "markdown",
   "metadata": {},
   "source": [
    "# Обработка фичей"
   ]
  },
  {
   "cell_type": "code",
   "execution_count": 8,
   "metadata": {
    "metadata": {},
    "tags": []
   },
   "outputs": [
    {
     "data": {
      "text/html": [
       "<div>\n",
       "<style scoped>\n",
       "    .dataframe tbody tr th:only-of-type {\n",
       "        vertical-align: middle;\n",
       "    }\n",
       "\n",
       "    .dataframe tbody tr th {\n",
       "        vertical-align: top;\n",
       "    }\n",
       "\n",
       "    .dataframe thead th {\n",
       "        text-align: right;\n",
       "    }\n",
       "</style>\n",
       "<table border=\"1\" class=\"dataframe\">\n",
       "  <thead>\n",
       "    <tr style=\"text-align: right;\">\n",
       "      <th></th>\n",
       "      <th>rsi</th>\n",
       "      <th>bb</th>\n",
       "      <th>mfi</th>\n",
       "      <th>cmf</th>\n",
       "      <th>target</th>\n",
       "    </tr>\n",
       "  </thead>\n",
       "  <tbody>\n",
       "    <tr>\n",
       "      <th>0</th>\n",
       "      <td>0.549347</td>\n",
       "      <td>0.632782</td>\n",
       "      <td>0.482984</td>\n",
       "      <td>0.578777</td>\n",
       "      <td>1</td>\n",
       "    </tr>\n",
       "    <tr>\n",
       "      <th>1</th>\n",
       "      <td>0.549347</td>\n",
       "      <td>0.654197</td>\n",
       "      <td>0.577381</td>\n",
       "      <td>0.633384</td>\n",
       "      <td>1</td>\n",
       "    </tr>\n",
       "    <tr>\n",
       "      <th>2</th>\n",
       "      <td>0.676507</td>\n",
       "      <td>0.658102</td>\n",
       "      <td>0.624954</td>\n",
       "      <td>0.654682</td>\n",
       "      <td>1</td>\n",
       "    </tr>\n",
       "    <tr>\n",
       "      <th>3</th>\n",
       "      <td>0.626859</td>\n",
       "      <td>0.644037</td>\n",
       "      <td>0.690917</td>\n",
       "      <td>0.656694</td>\n",
       "      <td>1</td>\n",
       "    </tr>\n",
       "    <tr>\n",
       "      <th>4</th>\n",
       "      <td>0.626859</td>\n",
       "      <td>0.835335</td>\n",
       "      <td>0.772219</td>\n",
       "      <td>0.747785</td>\n",
       "      <td>1</td>\n",
       "    </tr>\n",
       "    <tr>\n",
       "      <th>...</th>\n",
       "      <td>...</td>\n",
       "      <td>...</td>\n",
       "      <td>...</td>\n",
       "      <td>...</td>\n",
       "      <td>...</td>\n",
       "    </tr>\n",
       "    <tr>\n",
       "      <th>2113</th>\n",
       "      <td>0.587123</td>\n",
       "      <td>0.758957</td>\n",
       "      <td>0.324201</td>\n",
       "      <td>0.335949</td>\n",
       "      <td>1</td>\n",
       "    </tr>\n",
       "    <tr>\n",
       "      <th>2114</th>\n",
       "      <td>0.709875</td>\n",
       "      <td>0.946489</td>\n",
       "      <td>0.487134</td>\n",
       "      <td>0.445490</td>\n",
       "      <td>1</td>\n",
       "    </tr>\n",
       "    <tr>\n",
       "      <th>2115</th>\n",
       "      <td>0.732227</td>\n",
       "      <td>0.872181</td>\n",
       "      <td>0.542875</td>\n",
       "      <td>0.505936</td>\n",
       "      <td>0</td>\n",
       "    </tr>\n",
       "    <tr>\n",
       "      <th>2116</th>\n",
       "      <td>0.689624</td>\n",
       "      <td>0.746138</td>\n",
       "      <td>0.521700</td>\n",
       "      <td>0.503238</td>\n",
       "      <td>0</td>\n",
       "    </tr>\n",
       "    <tr>\n",
       "      <th>2117</th>\n",
       "      <td>0.657036</td>\n",
       "      <td>0.716542</td>\n",
       "      <td>0.525124</td>\n",
       "      <td>0.500161</td>\n",
       "      <td>0</td>\n",
       "    </tr>\n",
       "  </tbody>\n",
       "</table>\n",
       "<p>2118 rows × 5 columns</p>\n",
       "</div>"
      ],
      "text/plain": [
       "           rsi        bb       mfi       cmf  target\n",
       "0     0.549347  0.632782  0.482984  0.578777       1\n",
       "1     0.549347  0.654197  0.577381  0.633384       1\n",
       "2     0.676507  0.658102  0.624954  0.654682       1\n",
       "3     0.626859  0.644037  0.690917  0.656694       1\n",
       "4     0.626859  0.835335  0.772219  0.747785       1\n",
       "...        ...       ...       ...       ...     ...\n",
       "2113  0.587123  0.758957  0.324201  0.335949       1\n",
       "2114  0.709875  0.946489  0.487134  0.445490       1\n",
       "2115  0.732227  0.872181  0.542875  0.505936       0\n",
       "2116  0.689624  0.746138  0.521700  0.503238       0\n",
       "2117  0.657036  0.716542  0.525124  0.500161       0\n",
       "\n",
       "[2118 rows x 5 columns]"
      ]
     },
     "execution_count": 8,
     "metadata": {},
     "output_type": "execute_result"
    }
   ],
   "source": [
    "scaler = MinMaxScaler()\n",
    "scaler.fit(indicator_data.iloc[:, :-1])\n",
    "indicator_data.iloc[:, :-1] = scaler.transform(indicator_data.iloc[:, :-1])\n",
    "indicator_data"
   ]
  },
  {
   "cell_type": "code",
   "execution_count": 11,
   "metadata": {
    "metadata": {}
   },
   "outputs": [
    {
     "data": {
      "text/plain": [
       "array([0.54934684, 0.65419737])"
      ]
     },
     "execution_count": 11,
     "metadata": {},
     "output_type": "execute_result"
    }
   ],
   "source": [
    "indicator_data[[\"rsi\", \"bb\"]].iloc[1].values"
   ]
  },
  {
   "cell_type": "code",
   "execution_count": 9,
   "metadata": {
    "metadata": {},
    "tags": []
   },
   "outputs": [],
   "source": [
    "X = indicator_data.iloc[:, :]\n",
    "y = indicator_data.iloc[:, -1]\n",
    "\n",
    "X_train, X_test, y_train, y_test = train_test_split(\n",
    "    X, y, test_size=0.2, random_state=0, shuffle=False\n",
    ")"
   ]
  },
  {
   "cell_type": "code",
   "execution_count": 10,
   "metadata": {
    "metadata": {}
   },
   "outputs": [],
   "source": [
    "step_data = df.iloc[:50]\n",
    "x = step_data.index\n",
    "price = step_data[\"close\"]\n",
    "\n",
    "x_buy = np.array([i for i in x[::2]])\n",
    "y_buy = price[x_buy]"
   ]
  },
  {
   "cell_type": "code",
   "execution_count": 11,
   "metadata": {
    "metadata": {}
   },
   "outputs": [
    {
     "data": {
      "text/html": [
       "<div>\n",
       "<style scoped>\n",
       "    .dataframe tbody tr th:only-of-type {\n",
       "        vertical-align: middle;\n",
       "    }\n",
       "\n",
       "    .dataframe tbody tr th {\n",
       "        vertical-align: top;\n",
       "    }\n",
       "\n",
       "    .dataframe thead th {\n",
       "        text-align: right;\n",
       "    }\n",
       "</style>\n",
       "<table border=\"1\" class=\"dataframe\">\n",
       "  <thead>\n",
       "    <tr style=\"text-align: right;\">\n",
       "      <th></th>\n",
       "      <th>rsi</th>\n",
       "      <th>bb</th>\n",
       "      <th>mfi</th>\n",
       "      <th>cmf</th>\n",
       "      <th>target</th>\n",
       "      <th>open</th>\n",
       "      <th>high</th>\n",
       "      <th>low</th>\n",
       "      <th>close</th>\n",
       "      <th>volume</th>\n",
       "    </tr>\n",
       "  </thead>\n",
       "  <tbody>\n",
       "    <tr>\n",
       "      <th>0</th>\n",
       "      <td>53.750000</td>\n",
       "      <td>0.834435</td>\n",
       "      <td>47.310164</td>\n",
       "      <td>0.118391</td>\n",
       "      <td>1</td>\n",
       "      <td>162.46</td>\n",
       "      <td>162.50</td>\n",
       "      <td>162.45</td>\n",
       "      <td>162.48</td>\n",
       "      <td>156850.0</td>\n",
       "    </tr>\n",
       "    <tr>\n",
       "      <th>1</th>\n",
       "      <td>53.750000</td>\n",
       "      <td>0.979976</td>\n",
       "      <td>56.327443</td>\n",
       "      <td>0.202426</td>\n",
       "      <td>1</td>\n",
       "      <td>162.48</td>\n",
       "      <td>162.50</td>\n",
       "      <td>162.48</td>\n",
       "      <td>162.49</td>\n",
       "      <td>83300.0</td>\n",
       "    </tr>\n",
       "    <tr>\n",
       "      <th>2</th>\n",
       "      <td>65.671642</td>\n",
       "      <td>1.006511</td>\n",
       "      <td>60.871871</td>\n",
       "      <td>0.235202</td>\n",
       "      <td>1</td>\n",
       "      <td>162.50</td>\n",
       "      <td>162.50</td>\n",
       "      <td>162.49</td>\n",
       "      <td>162.50</td>\n",
       "      <td>52370.0</td>\n",
       "    </tr>\n",
       "    <tr>\n",
       "      <th>3</th>\n",
       "      <td>61.016949</td>\n",
       "      <td>0.910924</td>\n",
       "      <td>67.173006</td>\n",
       "      <td>0.238298</td>\n",
       "      <td>1</td>\n",
       "      <td>162.49</td>\n",
       "      <td>162.50</td>\n",
       "      <td>162.49</td>\n",
       "      <td>162.50</td>\n",
       "      <td>28020.0</td>\n",
       "    </tr>\n",
       "    <tr>\n",
       "      <th>4</th>\n",
       "      <td>61.016949</td>\n",
       "      <td>2.210979</td>\n",
       "      <td>74.939408</td>\n",
       "      <td>0.378479</td>\n",
       "      <td>1</td>\n",
       "      <td>162.50</td>\n",
       "      <td>162.63</td>\n",
       "      <td>162.49</td>\n",
       "      <td>162.63</td>\n",
       "      <td>62910.0</td>\n",
       "    </tr>\n",
       "    <tr>\n",
       "      <th>...</th>\n",
       "      <td>...</td>\n",
       "      <td>...</td>\n",
       "      <td>...</td>\n",
       "      <td>...</td>\n",
       "      <td>...</td>\n",
       "      <td>...</td>\n",
       "      <td>...</td>\n",
       "      <td>...</td>\n",
       "      <td>...</td>\n",
       "      <td>...</td>\n",
       "    </tr>\n",
       "    <tr>\n",
       "      <th>2113</th>\n",
       "      <td>57.291667</td>\n",
       "      <td>1.691918</td>\n",
       "      <td>32.142454</td>\n",
       "      <td>-0.255301</td>\n",
       "      <td>1</td>\n",
       "      <td>163.37</td>\n",
       "      <td>163.40</td>\n",
       "      <td>163.30</td>\n",
       "      <td>163.40</td>\n",
       "      <td>171700.0</td>\n",
       "    </tr>\n",
       "    <tr>\n",
       "      <th>2114</th>\n",
       "      <td>68.800000</td>\n",
       "      <td>2.966376</td>\n",
       "      <td>47.706655</td>\n",
       "      <td>-0.086727</td>\n",
       "      <td>1</td>\n",
       "      <td>163.40</td>\n",
       "      <td>163.82</td>\n",
       "      <td>163.39</td>\n",
       "      <td>163.71</td>\n",
       "      <td>623050.0</td>\n",
       "    </tr>\n",
       "    <tr>\n",
       "      <th>2115</th>\n",
       "      <td>70.895522</td>\n",
       "      <td>2.461380</td>\n",
       "      <td>53.031262</td>\n",
       "      <td>0.006295</td>\n",
       "      <td>0</td>\n",
       "      <td>163.70</td>\n",
       "      <td>163.82</td>\n",
       "      <td>163.61</td>\n",
       "      <td>163.80</td>\n",
       "      <td>314660.0</td>\n",
       "    </tr>\n",
       "    <tr>\n",
       "      <th>2116</th>\n",
       "      <td>66.901408</td>\n",
       "      <td>1.604800</td>\n",
       "      <td>51.008568</td>\n",
       "      <td>0.002142</td>\n",
       "      <td>0</td>\n",
       "      <td>163.80</td>\n",
       "      <td>163.82</td>\n",
       "      <td>163.60</td>\n",
       "      <td>163.70</td>\n",
       "      <td>136580.0</td>\n",
       "    </tr>\n",
       "    <tr>\n",
       "      <th>2117</th>\n",
       "      <td>63.846154</td>\n",
       "      <td>1.403666</td>\n",
       "      <td>51.335584</td>\n",
       "      <td>-0.002594</td>\n",
       "      <td>0</td>\n",
       "      <td>163.69</td>\n",
       "      <td>163.73</td>\n",
       "      <td>163.66</td>\n",
       "      <td>163.71</td>\n",
       "      <td>3800.0</td>\n",
       "    </tr>\n",
       "  </tbody>\n",
       "</table>\n",
       "<p>2118 rows × 10 columns</p>\n",
       "</div>"
      ],
      "text/plain": [
       "            rsi        bb        mfi       cmf  target    open    high  \\\n",
       "0     53.750000  0.834435  47.310164  0.118391       1  162.46  162.50   \n",
       "1     53.750000  0.979976  56.327443  0.202426       1  162.48  162.50   \n",
       "2     65.671642  1.006511  60.871871  0.235202       1  162.50  162.50   \n",
       "3     61.016949  0.910924  67.173006  0.238298       1  162.49  162.50   \n",
       "4     61.016949  2.210979  74.939408  0.378479       1  162.50  162.63   \n",
       "...         ...       ...        ...       ...     ...     ...     ...   \n",
       "2113  57.291667  1.691918  32.142454 -0.255301       1  163.37  163.40   \n",
       "2114  68.800000  2.966376  47.706655 -0.086727       1  163.40  163.82   \n",
       "2115  70.895522  2.461380  53.031262  0.006295       0  163.70  163.82   \n",
       "2116  66.901408  1.604800  51.008568  0.002142       0  163.80  163.82   \n",
       "2117  63.846154  1.403666  51.335584 -0.002594       0  163.69  163.73   \n",
       "\n",
       "         low   close    volume  \n",
       "0     162.45  162.48  156850.0  \n",
       "1     162.48  162.49   83300.0  \n",
       "2     162.49  162.50   52370.0  \n",
       "3     162.49  162.50   28020.0  \n",
       "4     162.49  162.63   62910.0  \n",
       "...      ...     ...       ...  \n",
       "2113  163.30  163.40  171700.0  \n",
       "2114  163.39  163.71  623050.0  \n",
       "2115  163.61  163.80  314660.0  \n",
       "2116  163.60  163.70  136580.0  \n",
       "2117  163.66  163.71    3800.0  \n",
       "\n",
       "[2118 rows x 10 columns]"
      ]
     },
     "execution_count": 11,
     "metadata": {},
     "output_type": "execute_result"
    }
   ],
   "source": [
    "all_data"
   ]
  },
  {
   "cell_type": "code",
   "execution_count": 12,
   "metadata": {
    "metadata": {}
   },
   "outputs": [],
   "source": [
    "indicator_data = indicator_data.iloc[:, :2]"
   ]
  },
  {
   "cell_type": "code",
   "execution_count": 16,
   "metadata": {
    "metadata": {}
   },
   "outputs": [],
   "source": [
    "# Your DataFrame `df` should contain all observations and you will have your reward function `reward_function`\n",
    "# df = all_da.copy()\n",
    "# df.columns = [col.lower() for col in df.columns]\n",
    "\n",
    "steps_obs = 3\n",
    "commision_bps = 0\n",
    "rewards = []\n",
    "Statistics = []\n",
    "\n",
    "init_balance = 200\n",
    "init_active = 10\n",
    "\n",
    "start_price = all_data[\"close\"].iloc[0]\n",
    "init_pv = init_balance + init_active * start_price\n",
    "\n",
    "MAX_BALANCE = 2 * init_pv\n",
    "MAX_ACTIVE = 2 * init_pv / start_price\n",
    "\n",
    "\n",
    "class CustomEnv(gym.Env):\n",
    "    def __init__(self, df, init_balance, init_active, test=False):\n",
    "        super(CustomEnv, self).__init__()\n",
    "        self.df = df\n",
    "        self.test = test\n",
    "        self.seed = lambda x: 0\n",
    "        self.current_step = 0\n",
    "        # Assume observation space is a 1D array of features (adjust according to your data)\n",
    "        self.observation_space = spaces.Box(low=0, high=1, shape=(4,), dtype=np.float32)\n",
    "        self.balance = init_balance\n",
    "        self.active = init_active\n",
    "        self.init_balance = init_balance\n",
    "        self.init_active = init_active\n",
    "        self.current_price = self.df[\"close\"].iloc[self.current_step]\n",
    "        self.pv = self.balance + self.active * self.current_price\n",
    "        # Adjust according to your action space\n",
    "        self.action_space = spaces.Box(\n",
    "            low=np.array([-1]),\n",
    "            high=np.array([1]),\n",
    "            dtype=np.float32,\n",
    "        )\n",
    "\n",
    "    def reset(self):\n",
    "        # Reset the state of the environment to an initial state\n",
    "        # print(\"reseting...\")\n",
    "        self.current_step = 0\n",
    "        if self.test:\n",
    "            rewards.append([])\n",
    "            Statistics.append([])\n",
    "\n",
    "        init_state = np.append(\n",
    "            self.df[indicator_data.columns].iloc[0].values,\n",
    "            np.array([self.init_balance / MAX_BALANCE, self.init_active / MAX_ACTIVE]),\n",
    "        )\n",
    "        self.balance = init_balance\n",
    "        self.active = init_active\n",
    "        self.current_price = self.df[\"close\"].iloc[self.current_step]\n",
    "        self.pv = self.balance + self.init_active * self.current_price\n",
    "        return init_state\n",
    "\n",
    "    def reward_function(self, action):\n",
    "        next_price = self.df[\"close\"].iloc[self.current_step + 1]\n",
    "        # покупаем\n",
    "        if action > 0:\n",
    "            money_to_spend = self.balance * action\n",
    "            self.active += money_to_spend / self.current_price\n",
    "            self.balance -= money_to_spend\n",
    "        # продаем\n",
    "        elif action < 0:\n",
    "            active_to_sell = self.active * abs(action)\n",
    "            self.active -= active_to_sell\n",
    "            self.balance += active_to_sell * self.current_price\n",
    "        new_pv = self.active * next_price + self.balance\n",
    "        reward = (new_pv - self.pv) / self.pv * 1e4\n",
    "\n",
    "        return reward\n",
    "\n",
    "    def step(self, action):\n",
    "        # Calculate the reward\n",
    "\n",
    "        reward = self.reward_function(action)\n",
    "        self.current_step += 1\n",
    "        if self.current_step < len(self.df.index) - (steps_obs + 1):\n",
    "            next_state = np.append(\n",
    "                self.df[indicator_data.columns].iloc[self.current_step].values,\n",
    "                np.array([self.balance / MAX_BALANCE, self.active / MAX_ACTIVE]),\n",
    "            )\n",
    "            done = False\n",
    "        else:\n",
    "            # The episode is finished\n",
    "            next_state = np.zeros(self.observation_space.shape)\n",
    "            done = True\n",
    "\n",
    "        # Placeholder for info, additional data can be added if needed\n",
    "        info = {}\n",
    "        # print(next_state)\n",
    "        if self.test:\n",
    "            rewards[-1].append(reward)\n",
    "        self.current_price = self.df[\"close\"].iloc[self.current_step]\n",
    "        self.pv = self.active * self.current_price + self.balance\n",
    "\n",
    "        return next_state, reward, done, info\n",
    "\n",
    "\n",
    "# Create multiple environments\n",
    "env = CustomEnv(df=all_data, init_balance=init_balance, init_active=init_active)\n",
    "env = DummyVecEnv([lambda: env])"
   ]
  },
  {
   "cell_type": "code",
   "execution_count": null,
   "metadata": {},
   "outputs": [],
   "source": [
    "# Сохранение и загрузка модели\n",
    "# model.save(\"./data/PPO_MultiBinScaling.zip\")\n",
    "# model = PPO.load(\"./data/PPO_MultiBinScaling.zip\", env=env)"
   ]
  },
  {
   "cell_type": "code",
   "execution_count": 17,
   "metadata": {
    "metadata": {}
   },
   "outputs": [
    {
     "name": "stdout",
     "output_type": "stream",
     "text": [
      "Using cpu device\n"
     ]
    },
    {
     "ename": "KeyboardInterrupt",
     "evalue": "",
     "output_type": "error",
     "traceback": [
      "\u001b[0;31m---------------------------------------------------------------------------\u001b[0m",
      "\u001b[0;31mKeyboardInterrupt\u001b[0m                         Traceback (most recent call last)",
      "Cell \u001b[0;32mIn[17], line 7\u001b[0m\n\u001b[1;32m      4\u001b[0m model \u001b[38;5;241m=\u001b[39m PPO(\u001b[38;5;124m\"\u001b[39m\u001b[38;5;124mMlpPolicy\u001b[39m\u001b[38;5;124m\"\u001b[39m, env, verbose\u001b[38;5;241m=\u001b[39m\u001b[38;5;241m1\u001b[39m, device\u001b[38;5;241m=\u001b[39m\u001b[38;5;124m\"\u001b[39m\u001b[38;5;124mcpu\u001b[39m\u001b[38;5;124m\"\u001b[39m, policy_kwargs\u001b[38;5;241m=\u001b[39mpolicy_kwargs)\n\u001b[1;32m      6\u001b[0m \u001b[38;5;66;03m# Train the model\u001b[39;00m\n\u001b[0;32m----> 7\u001b[0m \u001b[43mmodel\u001b[49m\u001b[38;5;241;43m.\u001b[39;49m\u001b[43mlearn\u001b[49m\u001b[43m(\u001b[49m\u001b[43mtotal_timesteps\u001b[49m\u001b[38;5;241;43m=\u001b[39;49m\u001b[38;5;241;43m2500\u001b[39;49m\u001b[43m)\u001b[49m  \u001b[38;5;66;03m# , progress_bar=True)\u001b[39;00m\n\u001b[1;32m      9\u001b[0m \u001b[38;5;66;03m# Evaluate the trained model\u001b[39;00m\n\u001b[1;32m     10\u001b[0m mean_reward, std_reward \u001b[38;5;241m=\u001b[39m evaluate_policy(model, env, n_eval_episodes\u001b[38;5;241m=\u001b[39m\u001b[38;5;241m2\u001b[39m)\n",
      "File \u001b[0;32m~/.pyenv/versions/3.10.13/envs/ML/lib/python3.10/site-packages/stable_baselines3/ppo/ppo.py:315\u001b[0m, in \u001b[0;36mPPO.learn\u001b[0;34m(self, total_timesteps, callback, log_interval, tb_log_name, reset_num_timesteps, progress_bar)\u001b[0m\n\u001b[1;32m    306\u001b[0m \u001b[38;5;28;01mdef\u001b[39;00m \u001b[38;5;21mlearn\u001b[39m(\n\u001b[1;32m    307\u001b[0m     \u001b[38;5;28mself\u001b[39m: SelfPPO,\n\u001b[1;32m    308\u001b[0m     total_timesteps: \u001b[38;5;28mint\u001b[39m,\n\u001b[0;32m   (...)\u001b[0m\n\u001b[1;32m    313\u001b[0m     progress_bar: \u001b[38;5;28mbool\u001b[39m \u001b[38;5;241m=\u001b[39m \u001b[38;5;28;01mFalse\u001b[39;00m,\n\u001b[1;32m    314\u001b[0m ) \u001b[38;5;241m-\u001b[39m\u001b[38;5;241m>\u001b[39m SelfPPO:\n\u001b[0;32m--> 315\u001b[0m     \u001b[38;5;28;01mreturn\u001b[39;00m \u001b[38;5;28;43msuper\u001b[39;49m\u001b[43m(\u001b[49m\u001b[43m)\u001b[49m\u001b[38;5;241;43m.\u001b[39;49m\u001b[43mlearn\u001b[49m\u001b[43m(\u001b[49m\n\u001b[1;32m    316\u001b[0m \u001b[43m        \u001b[49m\u001b[43mtotal_timesteps\u001b[49m\u001b[38;5;241;43m=\u001b[39;49m\u001b[43mtotal_timesteps\u001b[49m\u001b[43m,\u001b[49m\n\u001b[1;32m    317\u001b[0m \u001b[43m        \u001b[49m\u001b[43mcallback\u001b[49m\u001b[38;5;241;43m=\u001b[39;49m\u001b[43mcallback\u001b[49m\u001b[43m,\u001b[49m\n\u001b[1;32m    318\u001b[0m \u001b[43m        \u001b[49m\u001b[43mlog_interval\u001b[49m\u001b[38;5;241;43m=\u001b[39;49m\u001b[43mlog_interval\u001b[49m\u001b[43m,\u001b[49m\n\u001b[1;32m    319\u001b[0m \u001b[43m        \u001b[49m\u001b[43mtb_log_name\u001b[49m\u001b[38;5;241;43m=\u001b[39;49m\u001b[43mtb_log_name\u001b[49m\u001b[43m,\u001b[49m\n\u001b[1;32m    320\u001b[0m \u001b[43m        \u001b[49m\u001b[43mreset_num_timesteps\u001b[49m\u001b[38;5;241;43m=\u001b[39;49m\u001b[43mreset_num_timesteps\u001b[49m\u001b[43m,\u001b[49m\n\u001b[1;32m    321\u001b[0m \u001b[43m        \u001b[49m\u001b[43mprogress_bar\u001b[49m\u001b[38;5;241;43m=\u001b[39;49m\u001b[43mprogress_bar\u001b[49m\u001b[43m,\u001b[49m\n\u001b[1;32m    322\u001b[0m \u001b[43m    \u001b[49m\u001b[43m)\u001b[49m\n",
      "File \u001b[0;32m~/.pyenv/versions/3.10.13/envs/ML/lib/python3.10/site-packages/stable_baselines3/common/on_policy_algorithm.py:300\u001b[0m, in \u001b[0;36mOnPolicyAlgorithm.learn\u001b[0;34m(self, total_timesteps, callback, log_interval, tb_log_name, reset_num_timesteps, progress_bar)\u001b[0m\n\u001b[1;32m    297\u001b[0m \u001b[38;5;28;01massert\u001b[39;00m \u001b[38;5;28mself\u001b[39m\u001b[38;5;241m.\u001b[39menv \u001b[38;5;129;01mis\u001b[39;00m \u001b[38;5;129;01mnot\u001b[39;00m \u001b[38;5;28;01mNone\u001b[39;00m\n\u001b[1;32m    299\u001b[0m \u001b[38;5;28;01mwhile\u001b[39;00m \u001b[38;5;28mself\u001b[39m\u001b[38;5;241m.\u001b[39mnum_timesteps \u001b[38;5;241m<\u001b[39m total_timesteps:\n\u001b[0;32m--> 300\u001b[0m     continue_training \u001b[38;5;241m=\u001b[39m \u001b[38;5;28;43mself\u001b[39;49m\u001b[38;5;241;43m.\u001b[39;49m\u001b[43mcollect_rollouts\u001b[49m\u001b[43m(\u001b[49m\u001b[38;5;28;43mself\u001b[39;49m\u001b[38;5;241;43m.\u001b[39;49m\u001b[43menv\u001b[49m\u001b[43m,\u001b[49m\u001b[43m \u001b[49m\u001b[43mcallback\u001b[49m\u001b[43m,\u001b[49m\u001b[43m \u001b[49m\u001b[38;5;28;43mself\u001b[39;49m\u001b[38;5;241;43m.\u001b[39;49m\u001b[43mrollout_buffer\u001b[49m\u001b[43m,\u001b[49m\u001b[43m \u001b[49m\u001b[43mn_rollout_steps\u001b[49m\u001b[38;5;241;43m=\u001b[39;49m\u001b[38;5;28;43mself\u001b[39;49m\u001b[38;5;241;43m.\u001b[39;49m\u001b[43mn_steps\u001b[49m\u001b[43m)\u001b[49m\n\u001b[1;32m    302\u001b[0m     \u001b[38;5;28;01mif\u001b[39;00m \u001b[38;5;129;01mnot\u001b[39;00m continue_training:\n\u001b[1;32m    303\u001b[0m         \u001b[38;5;28;01mbreak\u001b[39;00m\n",
      "File \u001b[0;32m~/.pyenv/versions/3.10.13/envs/ML/lib/python3.10/site-packages/stable_baselines3/common/on_policy_algorithm.py:179\u001b[0m, in \u001b[0;36mOnPolicyAlgorithm.collect_rollouts\u001b[0;34m(self, env, callback, rollout_buffer, n_rollout_steps)\u001b[0m\n\u001b[1;32m    176\u001b[0m \u001b[38;5;28;01mwith\u001b[39;00m th\u001b[38;5;241m.\u001b[39mno_grad():\n\u001b[1;32m    177\u001b[0m     \u001b[38;5;66;03m# Convert to pytorch tensor or to TensorDict\u001b[39;00m\n\u001b[1;32m    178\u001b[0m     obs_tensor \u001b[38;5;241m=\u001b[39m obs_as_tensor(\u001b[38;5;28mself\u001b[39m\u001b[38;5;241m.\u001b[39m_last_obs, \u001b[38;5;28mself\u001b[39m\u001b[38;5;241m.\u001b[39mdevice)\n\u001b[0;32m--> 179\u001b[0m     actions, values, log_probs \u001b[38;5;241m=\u001b[39m \u001b[38;5;28;43mself\u001b[39;49m\u001b[38;5;241;43m.\u001b[39;49m\u001b[43mpolicy\u001b[49m\u001b[43m(\u001b[49m\u001b[43mobs_tensor\u001b[49m\u001b[43m)\u001b[49m\n\u001b[1;32m    180\u001b[0m actions \u001b[38;5;241m=\u001b[39m actions\u001b[38;5;241m.\u001b[39mcpu()\u001b[38;5;241m.\u001b[39mnumpy()\n\u001b[1;32m    182\u001b[0m \u001b[38;5;66;03m# Rescale and perform action\u001b[39;00m\n",
      "File \u001b[0;32m~/.pyenv/versions/3.10.13/envs/ML/lib/python3.10/site-packages/torch/nn/modules/module.py:1511\u001b[0m, in \u001b[0;36mModule._wrapped_call_impl\u001b[0;34m(self, *args, **kwargs)\u001b[0m\n\u001b[1;32m   1509\u001b[0m     \u001b[38;5;28;01mreturn\u001b[39;00m \u001b[38;5;28mself\u001b[39m\u001b[38;5;241m.\u001b[39m_compiled_call_impl(\u001b[38;5;241m*\u001b[39margs, \u001b[38;5;241m*\u001b[39m\u001b[38;5;241m*\u001b[39mkwargs)  \u001b[38;5;66;03m# type: ignore[misc]\u001b[39;00m\n\u001b[1;32m   1510\u001b[0m \u001b[38;5;28;01melse\u001b[39;00m:\n\u001b[0;32m-> 1511\u001b[0m     \u001b[38;5;28;01mreturn\u001b[39;00m \u001b[38;5;28;43mself\u001b[39;49m\u001b[38;5;241;43m.\u001b[39;49m\u001b[43m_call_impl\u001b[49m\u001b[43m(\u001b[49m\u001b[38;5;241;43m*\u001b[39;49m\u001b[43margs\u001b[49m\u001b[43m,\u001b[49m\u001b[43m \u001b[49m\u001b[38;5;241;43m*\u001b[39;49m\u001b[38;5;241;43m*\u001b[39;49m\u001b[43mkwargs\u001b[49m\u001b[43m)\u001b[49m\n",
      "File \u001b[0;32m~/.pyenv/versions/3.10.13/envs/ML/lib/python3.10/site-packages/torch/nn/modules/module.py:1520\u001b[0m, in \u001b[0;36mModule._call_impl\u001b[0;34m(self, *args, **kwargs)\u001b[0m\n\u001b[1;32m   1515\u001b[0m \u001b[38;5;66;03m# If we don't have any hooks, we want to skip the rest of the logic in\u001b[39;00m\n\u001b[1;32m   1516\u001b[0m \u001b[38;5;66;03m# this function, and just call forward.\u001b[39;00m\n\u001b[1;32m   1517\u001b[0m \u001b[38;5;28;01mif\u001b[39;00m \u001b[38;5;129;01mnot\u001b[39;00m (\u001b[38;5;28mself\u001b[39m\u001b[38;5;241m.\u001b[39m_backward_hooks \u001b[38;5;129;01mor\u001b[39;00m \u001b[38;5;28mself\u001b[39m\u001b[38;5;241m.\u001b[39m_backward_pre_hooks \u001b[38;5;129;01mor\u001b[39;00m \u001b[38;5;28mself\u001b[39m\u001b[38;5;241m.\u001b[39m_forward_hooks \u001b[38;5;129;01mor\u001b[39;00m \u001b[38;5;28mself\u001b[39m\u001b[38;5;241m.\u001b[39m_forward_pre_hooks\n\u001b[1;32m   1518\u001b[0m         \u001b[38;5;129;01mor\u001b[39;00m _global_backward_pre_hooks \u001b[38;5;129;01mor\u001b[39;00m _global_backward_hooks\n\u001b[1;32m   1519\u001b[0m         \u001b[38;5;129;01mor\u001b[39;00m _global_forward_hooks \u001b[38;5;129;01mor\u001b[39;00m _global_forward_pre_hooks):\n\u001b[0;32m-> 1520\u001b[0m     \u001b[38;5;28;01mreturn\u001b[39;00m \u001b[43mforward_call\u001b[49m\u001b[43m(\u001b[49m\u001b[38;5;241;43m*\u001b[39;49m\u001b[43margs\u001b[49m\u001b[43m,\u001b[49m\u001b[43m \u001b[49m\u001b[38;5;241;43m*\u001b[39;49m\u001b[38;5;241;43m*\u001b[39;49m\u001b[43mkwargs\u001b[49m\u001b[43m)\u001b[49m\n\u001b[1;32m   1522\u001b[0m \u001b[38;5;28;01mtry\u001b[39;00m:\n\u001b[1;32m   1523\u001b[0m     result \u001b[38;5;241m=\u001b[39m \u001b[38;5;28;01mNone\u001b[39;00m\n",
      "File \u001b[0;32m~/.pyenv/versions/3.10.13/envs/ML/lib/python3.10/site-packages/stable_baselines3/common/policies.py:654\u001b[0m, in \u001b[0;36mActorCriticPolicy.forward\u001b[0;34m(self, obs, deterministic)\u001b[0m\n\u001b[1;32m    652\u001b[0m \u001b[38;5;66;03m# Evaluate the values for the given observations\u001b[39;00m\n\u001b[1;32m    653\u001b[0m values \u001b[38;5;241m=\u001b[39m \u001b[38;5;28mself\u001b[39m\u001b[38;5;241m.\u001b[39mvalue_net(latent_vf)\n\u001b[0;32m--> 654\u001b[0m distribution \u001b[38;5;241m=\u001b[39m \u001b[38;5;28;43mself\u001b[39;49m\u001b[38;5;241;43m.\u001b[39;49m\u001b[43m_get_action_dist_from_latent\u001b[49m\u001b[43m(\u001b[49m\u001b[43mlatent_pi\u001b[49m\u001b[43m)\u001b[49m\n\u001b[1;32m    655\u001b[0m actions \u001b[38;5;241m=\u001b[39m distribution\u001b[38;5;241m.\u001b[39mget_actions(deterministic\u001b[38;5;241m=\u001b[39mdeterministic)\n\u001b[1;32m    656\u001b[0m log_prob \u001b[38;5;241m=\u001b[39m distribution\u001b[38;5;241m.\u001b[39mlog_prob(actions)\n",
      "File \u001b[0;32m~/.pyenv/versions/3.10.13/envs/ML/lib/python3.10/site-packages/stable_baselines3/common/policies.py:694\u001b[0m, in \u001b[0;36mActorCriticPolicy._get_action_dist_from_latent\u001b[0;34m(self, latent_pi)\u001b[0m\n\u001b[1;32m    691\u001b[0m mean_actions \u001b[38;5;241m=\u001b[39m \u001b[38;5;28mself\u001b[39m\u001b[38;5;241m.\u001b[39maction_net(latent_pi)\n\u001b[1;32m    693\u001b[0m \u001b[38;5;28;01mif\u001b[39;00m \u001b[38;5;28misinstance\u001b[39m(\u001b[38;5;28mself\u001b[39m\u001b[38;5;241m.\u001b[39maction_dist, DiagGaussianDistribution):\n\u001b[0;32m--> 694\u001b[0m     \u001b[38;5;28;01mreturn\u001b[39;00m \u001b[38;5;28;43mself\u001b[39;49m\u001b[38;5;241;43m.\u001b[39;49m\u001b[43maction_dist\u001b[49m\u001b[38;5;241;43m.\u001b[39;49m\u001b[43mproba_distribution\u001b[49m\u001b[43m(\u001b[49m\u001b[43mmean_actions\u001b[49m\u001b[43m,\u001b[49m\u001b[43m \u001b[49m\u001b[38;5;28;43mself\u001b[39;49m\u001b[38;5;241;43m.\u001b[39;49m\u001b[43mlog_std\u001b[49m\u001b[43m)\u001b[49m\n\u001b[1;32m    695\u001b[0m \u001b[38;5;28;01melif\u001b[39;00m \u001b[38;5;28misinstance\u001b[39m(\u001b[38;5;28mself\u001b[39m\u001b[38;5;241m.\u001b[39maction_dist, CategoricalDistribution):\n\u001b[1;32m    696\u001b[0m     \u001b[38;5;66;03m# Here mean_actions are the logits before the softmax\u001b[39;00m\n\u001b[1;32m    697\u001b[0m     \u001b[38;5;28;01mreturn\u001b[39;00m \u001b[38;5;28mself\u001b[39m\u001b[38;5;241m.\u001b[39maction_dist\u001b[38;5;241m.\u001b[39mproba_distribution(action_logits\u001b[38;5;241m=\u001b[39mmean_actions)\n",
      "File \u001b[0;32m~/.pyenv/versions/3.10.13/envs/ML/lib/python3.10/site-packages/stable_baselines3/common/distributions.py:164\u001b[0m, in \u001b[0;36mDiagGaussianDistribution.proba_distribution\u001b[0;34m(self, mean_actions, log_std)\u001b[0m\n\u001b[1;32m    156\u001b[0m \u001b[38;5;250m\u001b[39m\u001b[38;5;124;03m\"\"\"\u001b[39;00m\n\u001b[1;32m    157\u001b[0m \u001b[38;5;124;03mCreate the distribution given its parameters (mean, std)\u001b[39;00m\n\u001b[1;32m    158\u001b[0m \n\u001b[0;32m   (...)\u001b[0m\n\u001b[1;32m    161\u001b[0m \u001b[38;5;124;03m:return:\u001b[39;00m\n\u001b[1;32m    162\u001b[0m \u001b[38;5;124;03m\"\"\"\u001b[39;00m\n\u001b[1;32m    163\u001b[0m action_std \u001b[38;5;241m=\u001b[39m th\u001b[38;5;241m.\u001b[39mones_like(mean_actions) \u001b[38;5;241m*\u001b[39m log_std\u001b[38;5;241m.\u001b[39mexp()\n\u001b[0;32m--> 164\u001b[0m \u001b[38;5;28mself\u001b[39m\u001b[38;5;241m.\u001b[39mdistribution \u001b[38;5;241m=\u001b[39m \u001b[43mNormal\u001b[49m\u001b[43m(\u001b[49m\u001b[43mmean_actions\u001b[49m\u001b[43m,\u001b[49m\u001b[43m \u001b[49m\u001b[43maction_std\u001b[49m\u001b[43m)\u001b[49m\n\u001b[1;32m    165\u001b[0m \u001b[38;5;28;01mreturn\u001b[39;00m \u001b[38;5;28mself\u001b[39m\n",
      "File \u001b[0;32m~/.pyenv/versions/3.10.13/envs/ML/lib/python3.10/site-packages/torch/distributions/normal.py:56\u001b[0m, in \u001b[0;36mNormal.__init__\u001b[0;34m(self, loc, scale, validate_args)\u001b[0m\n\u001b[1;32m     54\u001b[0m \u001b[38;5;28;01melse\u001b[39;00m:\n\u001b[1;32m     55\u001b[0m     batch_shape \u001b[38;5;241m=\u001b[39m \u001b[38;5;28mself\u001b[39m\u001b[38;5;241m.\u001b[39mloc\u001b[38;5;241m.\u001b[39msize()\n\u001b[0;32m---> 56\u001b[0m \u001b[38;5;28;43msuper\u001b[39;49m\u001b[43m(\u001b[49m\u001b[43m)\u001b[49m\u001b[38;5;241;43m.\u001b[39;49m\u001b[38;5;21;43m__init__\u001b[39;49m\u001b[43m(\u001b[49m\u001b[43mbatch_shape\u001b[49m\u001b[43m,\u001b[49m\u001b[43m \u001b[49m\u001b[43mvalidate_args\u001b[49m\u001b[38;5;241;43m=\u001b[39;49m\u001b[43mvalidate_args\u001b[49m\u001b[43m)\u001b[49m\n",
      "File \u001b[0;32m~/.pyenv/versions/3.10.13/envs/ML/lib/python3.10/site-packages/torch/distributions/distribution.py:66\u001b[0m, in \u001b[0;36mDistribution.__init__\u001b[0;34m(self, batch_shape, event_shape, validate_args)\u001b[0m\n\u001b[1;32m     64\u001b[0m     \u001b[38;5;28;01mcontinue\u001b[39;00m  \u001b[38;5;66;03m# skip checking lazily-constructed args\u001b[39;00m\n\u001b[1;32m     65\u001b[0m value \u001b[38;5;241m=\u001b[39m \u001b[38;5;28mgetattr\u001b[39m(\u001b[38;5;28mself\u001b[39m, param)\n\u001b[0;32m---> 66\u001b[0m valid \u001b[38;5;241m=\u001b[39m \u001b[43mconstraint\u001b[49m\u001b[38;5;241;43m.\u001b[39;49m\u001b[43mcheck\u001b[49m\u001b[43m(\u001b[49m\u001b[43mvalue\u001b[49m\u001b[43m)\u001b[49m\n\u001b[1;32m     67\u001b[0m \u001b[38;5;28;01mif\u001b[39;00m \u001b[38;5;129;01mnot\u001b[39;00m valid\u001b[38;5;241m.\u001b[39mall():\n\u001b[1;32m     68\u001b[0m     \u001b[38;5;28;01mraise\u001b[39;00m \u001b[38;5;167;01mValueError\u001b[39;00m(\n\u001b[1;32m     69\u001b[0m         \u001b[38;5;124mf\u001b[39m\u001b[38;5;124m\"\u001b[39m\u001b[38;5;124mExpected parameter \u001b[39m\u001b[38;5;132;01m{\u001b[39;00mparam\u001b[38;5;132;01m}\u001b[39;00m\u001b[38;5;124m \u001b[39m\u001b[38;5;124m\"\u001b[39m\n\u001b[1;32m     70\u001b[0m         \u001b[38;5;124mf\u001b[39m\u001b[38;5;124m\"\u001b[39m\u001b[38;5;124m(\u001b[39m\u001b[38;5;132;01m{\u001b[39;00m\u001b[38;5;28mtype\u001b[39m(value)\u001b[38;5;241m.\u001b[39m\u001b[38;5;18m__name__\u001b[39m\u001b[38;5;132;01m}\u001b[39;00m\u001b[38;5;124m of shape \u001b[39m\u001b[38;5;132;01m{\u001b[39;00m\u001b[38;5;28mtuple\u001b[39m(value\u001b[38;5;241m.\u001b[39mshape)\u001b[38;5;132;01m}\u001b[39;00m\u001b[38;5;124m) \u001b[39m\u001b[38;5;124m\"\u001b[39m\n\u001b[0;32m   (...)\u001b[0m\n\u001b[1;32m     73\u001b[0m         \u001b[38;5;124mf\u001b[39m\u001b[38;5;124m\"\u001b[39m\u001b[38;5;124mbut found invalid values:\u001b[39m\u001b[38;5;130;01m\\n\u001b[39;00m\u001b[38;5;132;01m{\u001b[39;00mvalue\u001b[38;5;132;01m}\u001b[39;00m\u001b[38;5;124m\"\u001b[39m\n\u001b[1;32m     74\u001b[0m     )\n",
      "\u001b[0;31mKeyboardInterrupt\u001b[0m: "
     ]
    }
   ],
   "source": [
    "policy_kwargs = dict(activation_fn=nn.ReLU, net_arch=dict(pi=[20, 20], vf=[20, 20]))\n",
    "\n",
    "# Create the PPO model\n",
    "model = PPO(\n",
    "    \"MlpPolicy\",\n",
    "    env,\n",
    "    verbose=1,\n",
    "    device=\"cpu\",\n",
    "    policy_kwargs=policy_kwargs,\n",
    "    learning_rate=0.0001,\n",
    "    batch_size=128,  # размер одного батча\n",
    "    n_epochs=5,  # количество повторов на каждом новом наборе батчей\n",
    "    gamma=0.99,  # степень заглядывания в будущее (от 0 до 0.99999)\n",
    "    n_steps=128 * 4,  # batch_size x количество батчей\n",
    ")\n",
    "\n",
    "# Train the model\n",
    "model.learn(total_timesteps=2500)  # , progress_bar=True)\n",
    "\n",
    "# Evaluate the trained model\n",
    "mean_reward, std_reward = evaluate_policy(model, env, n_eval_episodes=2)\n",
    "print(f\"Mean reward: {mean_reward} +/- {std_reward}\")"
   ]
  },
  {
   "cell_type": "code",
   "execution_count": null,
   "metadata": {
    "metadata": {}
   },
   "outputs": [
    {
     "name": "stdout",
     "output_type": "stream",
     "text": [
      "[[42.46575    -0.45067176  0.05483057  0.44516942]]\n",
      "[[53.94737     0.9793236   0.26998982  0.23001018]]\n",
      "[[5.3333332e+01 1.0045544e+00 4.6473113e-01 3.5388723e-02]]\n",
      "[[63.49206     0.6597164   0.          0.49983382]]\n",
      "[[59.649124    0.850015    0.          0.49983382]]\n",
      "[[48.88889     0.86629796  0.          0.49983382]]\n",
      "[[51.11111     0.86253893  0.          0.49983382]]\n"
     ]
    },
    {
     "name": "stdout",
     "output_type": "stream",
     "text": [
      "[[82.14286     0.86253893  0.          0.49983382]]\n",
      "[[87.17949     2.0831559   0.22073391  0.27926293]]\n",
      "[[85.29412     1.8733509   0.2286256   0.27138337]]\n",
      "[[93.75        1.6657321   0.          0.49962947]]\n",
      "[[96.36364     2.6980762   0.          0.49962947]]\n",
      "[[82.8125      1.6870966   0.          0.49962947]]\n",
      "[[86.56716     1.5599154   0.          0.49962947]]\n",
      "[[76.712326    0.9766236   0.13574617  0.36435813]]\n",
      "[[69.620255    0.5112316   0.07972115  0.42021456]]\n",
      "[[71.084335    0.64203644  0.50102264  0.        ]]\n",
      "[[72.72727     0.7772954   0.32246393  0.17804332]]\n",
      "[[63.75        0.35981113  0.41902605  0.08178944]]\n",
      "[[64.19753     0.43969142  0.50105226  0.        ]]\n"
     ]
    }
   ],
   "source": [
    "# Reset the environment to get the initial observation\n",
    "obs = env.reset()\n",
    "\n",
    "num_iterations = 20\n",
    "actions_taken = []\n",
    "rewards = []\n",
    "\n",
    "for _ in range(num_iterations):\n",
    "    print(obs)\n",
    "    # Choose an action randomly (replace this with your own policy)\n",
    "    action, _ = model.predict(obs, deterministic=False)\n",
    "\n",
    "    # Take a step in the environment with the predicted action\n",
    "    obs, reward, done, _ = env.step(action)\n",
    "\n",
    "    # Save the action taken\n",
    "    actions_taken.append(action)\n",
    "    rewards.append(reward)\n",
    "\n",
    "    if done:\n",
    "        break"
   ]
  },
  {
   "cell_type": "code",
   "execution_count": null,
   "metadata": {
    "metadata": {}
   },
   "outputs": [
    {
     "data": {
      "text/html": [
       "<div>\n",
       "<style scoped>\n",
       "    .dataframe tbody tr th:only-of-type {\n",
       "        vertical-align: middle;\n",
       "    }\n",
       "\n",
       "    .dataframe tbody tr th {\n",
       "        vertical-align: top;\n",
       "    }\n",
       "\n",
       "    .dataframe thead th {\n",
       "        text-align: right;\n",
       "    }\n",
       "</style>\n",
       "<table border=\"1\" class=\"dataframe\">\n",
       "  <thead>\n",
       "    <tr style=\"text-align: right;\">\n",
       "      <th></th>\n",
       "      <th>rsi</th>\n",
       "      <th>bb</th>\n",
       "      <th>target</th>\n",
       "      <th>open</th>\n",
       "      <th>high</th>\n",
       "      <th>low</th>\n",
       "      <th>close</th>\n",
       "      <th>volume</th>\n",
       "      <th>actions</th>\n",
       "      <th>rewards</th>\n",
       "    </tr>\n",
       "  </thead>\n",
       "  <tbody>\n",
       "    <tr>\n",
       "      <th>0</th>\n",
       "      <td>42.465753</td>\n",
       "      <td>-0.450672</td>\n",
       "      <td>1</td>\n",
       "      <td>162.41</td>\n",
       "      <td>162.50</td>\n",
       "      <td>162.37</td>\n",
       "      <td>162.38</td>\n",
       "      <td>102660.0</td>\n",
       "      <td>-0.483320</td>\n",
       "      <td>2.832556</td>\n",
       "    </tr>\n",
       "    <tr>\n",
       "      <th>1</th>\n",
       "      <td>53.947368</td>\n",
       "      <td>0.979324</td>\n",
       "      <td>1</td>\n",
       "      <td>162.37</td>\n",
       "      <td>162.50</td>\n",
       "      <td>162.37</td>\n",
       "      <td>162.48</td>\n",
       "      <td>70060.0</td>\n",
       "      <td>-0.846143</td>\n",
       "      <td>0.000000</td>\n",
       "    </tr>\n",
       "    <tr>\n",
       "      <th>2</th>\n",
       "      <td>53.333333</td>\n",
       "      <td>1.004554</td>\n",
       "      <td>1</td>\n",
       "      <td>162.48</td>\n",
       "      <td>162.50</td>\n",
       "      <td>162.46</td>\n",
       "      <td>162.48</td>\n",
       "      <td>18360.0</td>\n",
       "      <td>1.000000</td>\n",
       "      <td>-1.229859</td>\n",
       "    </tr>\n",
       "    <tr>\n",
       "      <th>3</th>\n",
       "      <td>63.492063</td>\n",
       "      <td>0.659716</td>\n",
       "      <td>1</td>\n",
       "      <td>162.49</td>\n",
       "      <td>162.49</td>\n",
       "      <td>162.39</td>\n",
       "      <td>162.46</td>\n",
       "      <td>39080.0</td>\n",
       "      <td>1.000000</td>\n",
       "      <td>1.230010</td>\n",
       "    </tr>\n",
       "    <tr>\n",
       "      <th>4</th>\n",
       "      <td>59.649123</td>\n",
       "      <td>0.850015</td>\n",
       "      <td>1</td>\n",
       "      <td>162.46</td>\n",
       "      <td>162.50</td>\n",
       "      <td>162.45</td>\n",
       "      <td>162.48</td>\n",
       "      <td>156850.0</td>\n",
       "      <td>0.469128</td>\n",
       "      <td>0.616268</td>\n",
       "    </tr>\n",
       "    <tr>\n",
       "      <th>5</th>\n",
       "      <td>48.888889</td>\n",
       "      <td>0.866298</td>\n",
       "      <td>1</td>\n",
       "      <td>162.48</td>\n",
       "      <td>162.50</td>\n",
       "      <td>162.48</td>\n",
       "      <td>162.49</td>\n",
       "      <td>83300.0</td>\n",
       "      <td>0.308973</td>\n",
       "      <td>0.614892</td>\n",
       "    </tr>\n",
       "    <tr>\n",
       "      <th>6</th>\n",
       "      <td>51.111111</td>\n",
       "      <td>0.862539</td>\n",
       "      <td>1</td>\n",
       "      <td>162.50</td>\n",
       "      <td>162.50</td>\n",
       "      <td>162.49</td>\n",
       "      <td>162.50</td>\n",
       "      <td>52370.0</td>\n",
       "      <td>1.000000</td>\n",
       "      <td>0.000000</td>\n",
       "    </tr>\n",
       "    <tr>\n",
       "      <th>7</th>\n",
       "      <td>82.142857</td>\n",
       "      <td>0.862539</td>\n",
       "      <td>1</td>\n",
       "      <td>162.49</td>\n",
       "      <td>162.50</td>\n",
       "      <td>162.49</td>\n",
       "      <td>162.50</td>\n",
       "      <td>28020.0</td>\n",
       "      <td>-0.441288</td>\n",
       "      <td>4.469901</td>\n",
       "    </tr>\n",
       "    <tr>\n",
       "      <th>8</th>\n",
       "      <td>87.179487</td>\n",
       "      <td>2.083156</td>\n",
       "      <td>1</td>\n",
       "      <td>162.50</td>\n",
       "      <td>162.63</td>\n",
       "      <td>162.49</td>\n",
       "      <td>162.63</td>\n",
       "      <td>62910.0</td>\n",
       "      <td>-0.028216</td>\n",
       "      <td>0.668079</td>\n",
       "    </tr>\n",
       "    <tr>\n",
       "      <th>9</th>\n",
       "      <td>85.294118</td>\n",
       "      <td>1.873351</td>\n",
       "      <td>1</td>\n",
       "      <td>162.62</td>\n",
       "      <td>162.69</td>\n",
       "      <td>162.62</td>\n",
       "      <td>162.65</td>\n",
       "      <td>54210.0</td>\n",
       "      <td>1.000000</td>\n",
       "      <td>0.615207</td>\n",
       "    </tr>\n",
       "    <tr>\n",
       "      <th>10</th>\n",
       "      <td>93.750000</td>\n",
       "      <td>1.665732</td>\n",
       "      <td>1</td>\n",
       "      <td>162.65</td>\n",
       "      <td>162.67</td>\n",
       "      <td>162.64</td>\n",
       "      <td>162.66</td>\n",
       "      <td>29610.0</td>\n",
       "      <td>1.000000</td>\n",
       "      <td>20.287870</td>\n",
       "    </tr>\n",
       "    <tr>\n",
       "      <th>11</th>\n",
       "      <td>96.363636</td>\n",
       "      <td>2.698076</td>\n",
       "      <td>1</td>\n",
       "      <td>162.65</td>\n",
       "      <td>162.99</td>\n",
       "      <td>162.64</td>\n",
       "      <td>162.99</td>\n",
       "      <td>325840.0</td>\n",
       "      <td>0.655382</td>\n",
       "      <td>-5.522642</td>\n",
       "    </tr>\n",
       "    <tr>\n",
       "      <th>12</th>\n",
       "      <td>82.812500</td>\n",
       "      <td>1.687097</td>\n",
       "      <td>1</td>\n",
       "      <td>162.98</td>\n",
       "      <td>163.00</td>\n",
       "      <td>162.86</td>\n",
       "      <td>162.90</td>\n",
       "      <td>189210.0</td>\n",
       "      <td>0.664175</td>\n",
       "      <td>3.069310</td>\n",
       "    </tr>\n",
       "    <tr>\n",
       "      <th>13</th>\n",
       "      <td>86.567164</td>\n",
       "      <td>1.559915</td>\n",
       "      <td>0</td>\n",
       "      <td>162.90</td>\n",
       "      <td>163.00</td>\n",
       "      <td>162.84</td>\n",
       "      <td>162.95</td>\n",
       "      <td>236420.0</td>\n",
       "      <td>-0.270743</td>\n",
       "      <td>-3.580987</td>\n",
       "    </tr>\n",
       "    <tr>\n",
       "      <th>14</th>\n",
       "      <td>76.712329</td>\n",
       "      <td>0.976624</td>\n",
       "      <td>1</td>\n",
       "      <td>162.92</td>\n",
       "      <td>162.95</td>\n",
       "      <td>162.85</td>\n",
       "      <td>162.87</td>\n",
       "      <td>74430.0</td>\n",
       "      <td>0.412719</td>\n",
       "      <td>-3.613652</td>\n",
       "    </tr>\n",
       "    <tr>\n",
       "      <th>15</th>\n",
       "      <td>69.620253</td>\n",
       "      <td>0.511232</td>\n",
       "      <td>1</td>\n",
       "      <td>162.86</td>\n",
       "      <td>162.87</td>\n",
       "      <td>162.79</td>\n",
       "      <td>162.80</td>\n",
       "      <td>79710.0</td>\n",
       "      <td>-1.000000</td>\n",
       "      <td>0.000000</td>\n",
       "    </tr>\n",
       "    <tr>\n",
       "      <th>16</th>\n",
       "      <td>71.084337</td>\n",
       "      <td>0.642036</td>\n",
       "      <td>1</td>\n",
       "      <td>162.80</td>\n",
       "      <td>162.86</td>\n",
       "      <td>162.71</td>\n",
       "      <td>162.85</td>\n",
       "      <td>56940.0</td>\n",
       "      <td>0.356388</td>\n",
       "      <td>1.093438</td>\n",
       "    </tr>\n",
       "    <tr>\n",
       "      <th>17</th>\n",
       "      <td>72.727273</td>\n",
       "      <td>0.777295</td>\n",
       "      <td>1</td>\n",
       "      <td>162.86</td>\n",
       "      <td>162.90</td>\n",
       "      <td>162.80</td>\n",
       "      <td>162.90</td>\n",
       "      <td>20580.0</td>\n",
       "      <td>-0.540621</td>\n",
       "      <td>-0.502245</td>\n",
       "    </tr>\n",
       "    <tr>\n",
       "      <th>18</th>\n",
       "      <td>63.750000</td>\n",
       "      <td>0.359811</td>\n",
       "      <td>1</td>\n",
       "      <td>162.90</td>\n",
       "      <td>162.90</td>\n",
       "      <td>162.85</td>\n",
       "      <td>162.85</td>\n",
       "      <td>61300.0</td>\n",
       "      <td>-1.000000</td>\n",
       "      <td>0.000000</td>\n",
       "    </tr>\n",
       "    <tr>\n",
       "      <th>19</th>\n",
       "      <td>64.197531</td>\n",
       "      <td>0.439691</td>\n",
       "      <td>1</td>\n",
       "      <td>162.88</td>\n",
       "      <td>162.90</td>\n",
       "      <td>162.85</td>\n",
       "      <td>162.88</td>\n",
       "      <td>72600.0</td>\n",
       "      <td>0.910738</td>\n",
       "      <td>2.795215</td>\n",
       "    </tr>\n",
       "  </tbody>\n",
       "</table>\n",
       "</div>"
      ],
      "text/plain": [
       "          rsi        bb  target    open    high     low   close    volume  \\\n",
       "0   42.465753 -0.450672       1  162.41  162.50  162.37  162.38  102660.0   \n",
       "1   53.947368  0.979324       1  162.37  162.50  162.37  162.48   70060.0   \n",
       "2   53.333333  1.004554       1  162.48  162.50  162.46  162.48   18360.0   \n",
       "3   63.492063  0.659716       1  162.49  162.49  162.39  162.46   39080.0   \n",
       "4   59.649123  0.850015       1  162.46  162.50  162.45  162.48  156850.0   \n",
       "5   48.888889  0.866298       1  162.48  162.50  162.48  162.49   83300.0   \n",
       "6   51.111111  0.862539       1  162.50  162.50  162.49  162.50   52370.0   \n",
       "7   82.142857  0.862539       1  162.49  162.50  162.49  162.50   28020.0   \n",
       "8   87.179487  2.083156       1  162.50  162.63  162.49  162.63   62910.0   \n",
       "9   85.294118  1.873351       1  162.62  162.69  162.62  162.65   54210.0   \n",
       "10  93.750000  1.665732       1  162.65  162.67  162.64  162.66   29610.0   \n",
       "11  96.363636  2.698076       1  162.65  162.99  162.64  162.99  325840.0   \n",
       "12  82.812500  1.687097       1  162.98  163.00  162.86  162.90  189210.0   \n",
       "13  86.567164  1.559915       0  162.90  163.00  162.84  162.95  236420.0   \n",
       "14  76.712329  0.976624       1  162.92  162.95  162.85  162.87   74430.0   \n",
       "15  69.620253  0.511232       1  162.86  162.87  162.79  162.80   79710.0   \n",
       "16  71.084337  0.642036       1  162.80  162.86  162.71  162.85   56940.0   \n",
       "17  72.727273  0.777295       1  162.86  162.90  162.80  162.90   20580.0   \n",
       "18  63.750000  0.359811       1  162.90  162.90  162.85  162.85   61300.0   \n",
       "19  64.197531  0.439691       1  162.88  162.90  162.85  162.88   72600.0   \n",
       "\n",
       "     actions    rewards  \n",
       "0  -0.483320   2.832556  \n",
       "1  -0.846143   0.000000  \n",
       "2   1.000000  -1.229859  \n",
       "3   1.000000   1.230010  \n",
       "4   0.469128   0.616268  \n",
       "5   0.308973   0.614892  \n",
       "6   1.000000   0.000000  \n",
       "7  -0.441288   4.469901  \n",
       "8  -0.028216   0.668079  \n",
       "9   1.000000   0.615207  \n",
       "10  1.000000  20.287870  \n",
       "11  0.655382  -5.522642  \n",
       "12  0.664175   3.069310  \n",
       "13 -0.270743  -3.580987  \n",
       "14  0.412719  -3.613652  \n",
       "15 -1.000000   0.000000  \n",
       "16  0.356388   1.093438  \n",
       "17 -0.540621  -0.502245  \n",
       "18 -1.000000   0.000000  \n",
       "19  0.910738   2.795215  "
      ]
     },
     "execution_count": 62,
     "metadata": {},
     "output_type": "execute_result"
    }
   ],
   "source": [
    "test_df = all_data.iloc[:num_iterations, :].copy()\n",
    "test_df[\"actions\"] = np.array(actions_taken).T[0][0]\n",
    "test_df[\"rewards\"] = np.array(rewards)\n",
    "\n",
    "test_df"
   ]
  },
  {
   "cell_type": "code",
   "execution_count": null,
   "metadata": {
    "metadata": {}
   },
   "outputs": [
    {
     "data": {
      "application/vnd.plotly.v1+json": {
       "config": {
        "plotlyServerURL": "https://plot.ly"
       },
       "data": [
        {
         "customdata": [
          [
           42.46575342465737,
           -0.45067175915546104,
           -0.4833199083805084,
           2.8325560092926025
          ],
          [
           53.94736842105253,
           0.9793236099961182,
           -0.8461428284645081,
           0
          ],
          [
           53.333333333332064,
           1.004554360476215,
           1,
           -1.2298589944839478
          ],
          [
           63.49206349206485,
           0.6597164376966684,
           1,
           1.2300103902816772
          ],
          [
           59.64912280701684,
           0.8500149840275152,
           0.46912795305252075,
           0.6162678003311157
          ],
          [
           48.88888888888987,
           0.8662979530922168,
           0.30897313356399536,
           0.6148915886878967
          ],
          [
           51.11111111111012,
           0.862538904780865,
           1,
           0
          ],
          [
           82.14285714286149,
           0.8625389047813041,
           -0.44128847122192383,
           4.469900608062744
          ],
          [
           87.17948717949017,
           2.083155767152131,
           -0.028215527534484863,
           0.6680789589881897
          ],
          [
           85.29411764706276,
           1.8733508997701955,
           1,
           0.6152067184448242
          ],
          [
           93.750000000005,
           1.6657321744893867,
           1,
           20.287870407104492
          ],
          [
           96.36363636363956,
           2.6980763586768286,
           0.6553820967674255,
           -5.522641658782959
          ],
          [
           82.81250000000195,
           1.6870965771445037,
           0.664175271987915,
           3.069309949874878
          ],
          [
           86.56716417910371,
           1.5599154548364422,
           -0.27074331045150757,
           -3.580986738204956
          ],
          [
           76.71232876712467,
           0.9766235985094692,
           0.4127189815044403,
           -3.613651990890503
          ],
          [
           69.62025316455801,
           0.5112315928781678,
           -1,
           0
          ],
          [
           71.08433734939837,
           0.6420364179915335,
           0.3563884198665619,
           1.0934380292892456
          ],
          [
           72.7272727272739,
           0.7772953892894918,
           -0.5406205654144287,
           -0.5022452473640442
          ],
          [
           63.75000000000023,
           0.35981111293807927,
           -1,
           0
          ],
          [
           64.19753086419736,
           0.439691426949211,
           0.9107379913330078,
           2.795215368270874
          ]
         ],
         "hovertemplate": "index=%{x}<br>close=%{y}<br>rsi=%{customdata[0]}<br>bb=%{customdata[1]}<br>actions=%{customdata[2]}<br>rewards=%{customdata[3]}<extra></extra>",
         "legendgroup": "",
         "line": {
          "color": "#636efa",
          "dash": "solid"
         },
         "marker": {
          "symbol": "circle"
         },
         "mode": "markers+lines",
         "name": "",
         "orientation": "v",
         "showlegend": false,
         "type": "scatter",
         "x": [
          0,
          1,
          2,
          3,
          4,
          5,
          6,
          7,
          8,
          9,
          10,
          11,
          12,
          13,
          14,
          15,
          16,
          17,
          18,
          19
         ],
         "xaxis": "x",
         "y": [
          162.38,
          162.48,
          162.48,
          162.46,
          162.48,
          162.49,
          162.5,
          162.5,
          162.63,
          162.65,
          162.66,
          162.99,
          162.9,
          162.95,
          162.87,
          162.8,
          162.85,
          162.9,
          162.85,
          162.88
         ],
         "yaxis": "y"
        }
       ],
       "layout": {
        "legend": {
         "tracegroupgap": 0
        },
        "margin": {
         "t": 60
        },
        "template": {
         "data": {
          "bar": [
           {
            "error_x": {
             "color": "#2a3f5f"
            },
            "error_y": {
             "color": "#2a3f5f"
            },
            "marker": {
             "line": {
              "color": "#E5ECF6",
              "width": 0.5
             },
             "pattern": {
              "fillmode": "overlay",
              "size": 10,
              "solidity": 0.2
             }
            },
            "type": "bar"
           }
          ],
          "barpolar": [
           {
            "marker": {
             "line": {
              "color": "#E5ECF6",
              "width": 0.5
             },
             "pattern": {
              "fillmode": "overlay",
              "size": 10,
              "solidity": 0.2
             }
            },
            "type": "barpolar"
           }
          ],
          "carpet": [
           {
            "aaxis": {
             "endlinecolor": "#2a3f5f",
             "gridcolor": "white",
             "linecolor": "white",
             "minorgridcolor": "white",
             "startlinecolor": "#2a3f5f"
            },
            "baxis": {
             "endlinecolor": "#2a3f5f",
             "gridcolor": "white",
             "linecolor": "white",
             "minorgridcolor": "white",
             "startlinecolor": "#2a3f5f"
            },
            "type": "carpet"
           }
          ],
          "choropleth": [
           {
            "colorbar": {
             "outlinewidth": 0,
             "ticks": ""
            },
            "type": "choropleth"
           }
          ],
          "contour": [
           {
            "colorbar": {
             "outlinewidth": 0,
             "ticks": ""
            },
            "colorscale": [
             [
              0,
              "#0d0887"
             ],
             [
              0.1111111111111111,
              "#46039f"
             ],
             [
              0.2222222222222222,
              "#7201a8"
             ],
             [
              0.3333333333333333,
              "#9c179e"
             ],
             [
              0.4444444444444444,
              "#bd3786"
             ],
             [
              0.5555555555555556,
              "#d8576b"
             ],
             [
              0.6666666666666666,
              "#ed7953"
             ],
             [
              0.7777777777777778,
              "#fb9f3a"
             ],
             [
              0.8888888888888888,
              "#fdca26"
             ],
             [
              1,
              "#f0f921"
             ]
            ],
            "type": "contour"
           }
          ],
          "contourcarpet": [
           {
            "colorbar": {
             "outlinewidth": 0,
             "ticks": ""
            },
            "type": "contourcarpet"
           }
          ],
          "heatmap": [
           {
            "colorbar": {
             "outlinewidth": 0,
             "ticks": ""
            },
            "colorscale": [
             [
              0,
              "#0d0887"
             ],
             [
              0.1111111111111111,
              "#46039f"
             ],
             [
              0.2222222222222222,
              "#7201a8"
             ],
             [
              0.3333333333333333,
              "#9c179e"
             ],
             [
              0.4444444444444444,
              "#bd3786"
             ],
             [
              0.5555555555555556,
              "#d8576b"
             ],
             [
              0.6666666666666666,
              "#ed7953"
             ],
             [
              0.7777777777777778,
              "#fb9f3a"
             ],
             [
              0.8888888888888888,
              "#fdca26"
             ],
             [
              1,
              "#f0f921"
             ]
            ],
            "type": "heatmap"
           }
          ],
          "heatmapgl": [
           {
            "colorbar": {
             "outlinewidth": 0,
             "ticks": ""
            },
            "colorscale": [
             [
              0,
              "#0d0887"
             ],
             [
              0.1111111111111111,
              "#46039f"
             ],
             [
              0.2222222222222222,
              "#7201a8"
             ],
             [
              0.3333333333333333,
              "#9c179e"
             ],
             [
              0.4444444444444444,
              "#bd3786"
             ],
             [
              0.5555555555555556,
              "#d8576b"
             ],
             [
              0.6666666666666666,
              "#ed7953"
             ],
             [
              0.7777777777777778,
              "#fb9f3a"
             ],
             [
              0.8888888888888888,
              "#fdca26"
             ],
             [
              1,
              "#f0f921"
             ]
            ],
            "type": "heatmapgl"
           }
          ],
          "histogram": [
           {
            "marker": {
             "pattern": {
              "fillmode": "overlay",
              "size": 10,
              "solidity": 0.2
             }
            },
            "type": "histogram"
           }
          ],
          "histogram2d": [
           {
            "colorbar": {
             "outlinewidth": 0,
             "ticks": ""
            },
            "colorscale": [
             [
              0,
              "#0d0887"
             ],
             [
              0.1111111111111111,
              "#46039f"
             ],
             [
              0.2222222222222222,
              "#7201a8"
             ],
             [
              0.3333333333333333,
              "#9c179e"
             ],
             [
              0.4444444444444444,
              "#bd3786"
             ],
             [
              0.5555555555555556,
              "#d8576b"
             ],
             [
              0.6666666666666666,
              "#ed7953"
             ],
             [
              0.7777777777777778,
              "#fb9f3a"
             ],
             [
              0.8888888888888888,
              "#fdca26"
             ],
             [
              1,
              "#f0f921"
             ]
            ],
            "type": "histogram2d"
           }
          ],
          "histogram2dcontour": [
           {
            "colorbar": {
             "outlinewidth": 0,
             "ticks": ""
            },
            "colorscale": [
             [
              0,
              "#0d0887"
             ],
             [
              0.1111111111111111,
              "#46039f"
             ],
             [
              0.2222222222222222,
              "#7201a8"
             ],
             [
              0.3333333333333333,
              "#9c179e"
             ],
             [
              0.4444444444444444,
              "#bd3786"
             ],
             [
              0.5555555555555556,
              "#d8576b"
             ],
             [
              0.6666666666666666,
              "#ed7953"
             ],
             [
              0.7777777777777778,
              "#fb9f3a"
             ],
             [
              0.8888888888888888,
              "#fdca26"
             ],
             [
              1,
              "#f0f921"
             ]
            ],
            "type": "histogram2dcontour"
           }
          ],
          "mesh3d": [
           {
            "colorbar": {
             "outlinewidth": 0,
             "ticks": ""
            },
            "type": "mesh3d"
           }
          ],
          "parcoords": [
           {
            "line": {
             "colorbar": {
              "outlinewidth": 0,
              "ticks": ""
             }
            },
            "type": "parcoords"
           }
          ],
          "pie": [
           {
            "automargin": true,
            "type": "pie"
           }
          ],
          "scatter": [
           {
            "fillpattern": {
             "fillmode": "overlay",
             "size": 10,
             "solidity": 0.2
            },
            "type": "scatter"
           }
          ],
          "scatter3d": [
           {
            "line": {
             "colorbar": {
              "outlinewidth": 0,
              "ticks": ""
             }
            },
            "marker": {
             "colorbar": {
              "outlinewidth": 0,
              "ticks": ""
             }
            },
            "type": "scatter3d"
           }
          ],
          "scattercarpet": [
           {
            "marker": {
             "colorbar": {
              "outlinewidth": 0,
              "ticks": ""
             }
            },
            "type": "scattercarpet"
           }
          ],
          "scattergeo": [
           {
            "marker": {
             "colorbar": {
              "outlinewidth": 0,
              "ticks": ""
             }
            },
            "type": "scattergeo"
           }
          ],
          "scattergl": [
           {
            "marker": {
             "colorbar": {
              "outlinewidth": 0,
              "ticks": ""
             }
            },
            "type": "scattergl"
           }
          ],
          "scattermapbox": [
           {
            "marker": {
             "colorbar": {
              "outlinewidth": 0,
              "ticks": ""
             }
            },
            "type": "scattermapbox"
           }
          ],
          "scatterpolar": [
           {
            "marker": {
             "colorbar": {
              "outlinewidth": 0,
              "ticks": ""
             }
            },
            "type": "scatterpolar"
           }
          ],
          "scatterpolargl": [
           {
            "marker": {
             "colorbar": {
              "outlinewidth": 0,
              "ticks": ""
             }
            },
            "type": "scatterpolargl"
           }
          ],
          "scatterternary": [
           {
            "marker": {
             "colorbar": {
              "outlinewidth": 0,
              "ticks": ""
             }
            },
            "type": "scatterternary"
           }
          ],
          "surface": [
           {
            "colorbar": {
             "outlinewidth": 0,
             "ticks": ""
            },
            "colorscale": [
             [
              0,
              "#0d0887"
             ],
             [
              0.1111111111111111,
              "#46039f"
             ],
             [
              0.2222222222222222,
              "#7201a8"
             ],
             [
              0.3333333333333333,
              "#9c179e"
             ],
             [
              0.4444444444444444,
              "#bd3786"
             ],
             [
              0.5555555555555556,
              "#d8576b"
             ],
             [
              0.6666666666666666,
              "#ed7953"
             ],
             [
              0.7777777777777778,
              "#fb9f3a"
             ],
             [
              0.8888888888888888,
              "#fdca26"
             ],
             [
              1,
              "#f0f921"
             ]
            ],
            "type": "surface"
           }
          ],
          "table": [
           {
            "cells": {
             "fill": {
              "color": "#EBF0F8"
             },
             "line": {
              "color": "white"
             }
            },
            "header": {
             "fill": {
              "color": "#C8D4E3"
             },
             "line": {
              "color": "white"
             }
            },
            "type": "table"
           }
          ]
         },
         "layout": {
          "annotationdefaults": {
           "arrowcolor": "#2a3f5f",
           "arrowhead": 0,
           "arrowwidth": 1
          },
          "autotypenumbers": "strict",
          "coloraxis": {
           "colorbar": {
            "outlinewidth": 0,
            "ticks": ""
           }
          },
          "colorscale": {
           "diverging": [
            [
             0,
             "#8e0152"
            ],
            [
             0.1,
             "#c51b7d"
            ],
            [
             0.2,
             "#de77ae"
            ],
            [
             0.3,
             "#f1b6da"
            ],
            [
             0.4,
             "#fde0ef"
            ],
            [
             0.5,
             "#f7f7f7"
            ],
            [
             0.6,
             "#e6f5d0"
            ],
            [
             0.7,
             "#b8e186"
            ],
            [
             0.8,
             "#7fbc41"
            ],
            [
             0.9,
             "#4d9221"
            ],
            [
             1,
             "#276419"
            ]
           ],
           "sequential": [
            [
             0,
             "#0d0887"
            ],
            [
             0.1111111111111111,
             "#46039f"
            ],
            [
             0.2222222222222222,
             "#7201a8"
            ],
            [
             0.3333333333333333,
             "#9c179e"
            ],
            [
             0.4444444444444444,
             "#bd3786"
            ],
            [
             0.5555555555555556,
             "#d8576b"
            ],
            [
             0.6666666666666666,
             "#ed7953"
            ],
            [
             0.7777777777777778,
             "#fb9f3a"
            ],
            [
             0.8888888888888888,
             "#fdca26"
            ],
            [
             1,
             "#f0f921"
            ]
           ],
           "sequentialminus": [
            [
             0,
             "#0d0887"
            ],
            [
             0.1111111111111111,
             "#46039f"
            ],
            [
             0.2222222222222222,
             "#7201a8"
            ],
            [
             0.3333333333333333,
             "#9c179e"
            ],
            [
             0.4444444444444444,
             "#bd3786"
            ],
            [
             0.5555555555555556,
             "#d8576b"
            ],
            [
             0.6666666666666666,
             "#ed7953"
            ],
            [
             0.7777777777777778,
             "#fb9f3a"
            ],
            [
             0.8888888888888888,
             "#fdca26"
            ],
            [
             1,
             "#f0f921"
            ]
           ]
          },
          "colorway": [
           "#636efa",
           "#EF553B",
           "#00cc96",
           "#ab63fa",
           "#FFA15A",
           "#19d3f3",
           "#FF6692",
           "#B6E880",
           "#FF97FF",
           "#FECB52"
          ],
          "font": {
           "color": "#2a3f5f"
          },
          "geo": {
           "bgcolor": "white",
           "lakecolor": "white",
           "landcolor": "#E5ECF6",
           "showlakes": true,
           "showland": true,
           "subunitcolor": "white"
          },
          "hoverlabel": {
           "align": "left"
          },
          "hovermode": "closest",
          "mapbox": {
           "style": "light"
          },
          "paper_bgcolor": "white",
          "plot_bgcolor": "#E5ECF6",
          "polar": {
           "angularaxis": {
            "gridcolor": "white",
            "linecolor": "white",
            "ticks": ""
           },
           "bgcolor": "#E5ECF6",
           "radialaxis": {
            "gridcolor": "white",
            "linecolor": "white",
            "ticks": ""
           }
          },
          "scene": {
           "xaxis": {
            "backgroundcolor": "#E5ECF6",
            "gridcolor": "white",
            "gridwidth": 2,
            "linecolor": "white",
            "showbackground": true,
            "ticks": "",
            "zerolinecolor": "white"
           },
           "yaxis": {
            "backgroundcolor": "#E5ECF6",
            "gridcolor": "white",
            "gridwidth": 2,
            "linecolor": "white",
            "showbackground": true,
            "ticks": "",
            "zerolinecolor": "white"
           },
           "zaxis": {
            "backgroundcolor": "#E5ECF6",
            "gridcolor": "white",
            "gridwidth": 2,
            "linecolor": "white",
            "showbackground": true,
            "ticks": "",
            "zerolinecolor": "white"
           }
          },
          "shapedefaults": {
           "line": {
            "color": "#2a3f5f"
           }
          },
          "ternary": {
           "aaxis": {
            "gridcolor": "white",
            "linecolor": "white",
            "ticks": ""
           },
           "baxis": {
            "gridcolor": "white",
            "linecolor": "white",
            "ticks": ""
           },
           "bgcolor": "#E5ECF6",
           "caxis": {
            "gridcolor": "white",
            "linecolor": "white",
            "ticks": ""
           }
          },
          "title": {
           "x": 0.05
          },
          "xaxis": {
           "automargin": true,
           "gridcolor": "white",
           "linecolor": "white",
           "ticks": "",
           "title": {
            "standoff": 15
           },
           "zerolinecolor": "white",
           "zerolinewidth": 2
          },
          "yaxis": {
           "automargin": true,
           "gridcolor": "white",
           "linecolor": "white",
           "ticks": "",
           "title": {
            "standoff": 15
           },
           "zerolinecolor": "white",
           "zerolinewidth": 2
          }
         }
        },
        "xaxis": {
         "anchor": "y",
         "domain": [
          0,
          1
         ],
         "title": {
          "text": "index"
         }
        },
        "yaxis": {
         "anchor": "x",
         "domain": [
          0,
          1
         ],
         "title": {
          "text": "close"
         }
        }
       }
      },
      "text/html": [
       "<div>                            <div id=\"622f56f8-20d2-487e-bebd-7bd0bd2ef3cb\" class=\"plotly-graph-div\" style=\"height:525px; width:100%;\"></div>            <script type=\"text/javascript\">                require([\"plotly\"], function(Plotly) {                    window.PLOTLYENV=window.PLOTLYENV || {};                                    if (document.getElementById(\"622f56f8-20d2-487e-bebd-7bd0bd2ef3cb\")) {                    Plotly.newPlot(                        \"622f56f8-20d2-487e-bebd-7bd0bd2ef3cb\",                        [{\"customdata\":[[42.46575342465737,-0.45067175915546104,-0.4833199083805084,2.8325560092926025],[53.94736842105253,0.9793236099961182,-0.8461428284645081,0.0],[53.333333333332064,1.004554360476215,1.0,-1.2298589944839478],[63.49206349206485,0.6597164376966684,1.0,1.2300103902816772],[59.64912280701684,0.8500149840275152,0.46912795305252075,0.6162678003311157],[48.88888888888987,0.8662979530922168,0.30897313356399536,0.6148915886878967],[51.11111111111012,0.862538904780865,1.0,0.0],[82.14285714286149,0.8625389047813041,-0.44128847122192383,4.469900608062744],[87.17948717949017,2.083155767152131,-0.028215527534484863,0.6680789589881897],[85.29411764706276,1.8733508997701955,1.0,0.6152067184448242],[93.750000000005,1.6657321744893867,1.0,20.287870407104492],[96.36363636363956,2.6980763586768286,0.6553820967674255,-5.522641658782959],[82.81250000000195,1.6870965771445037,0.664175271987915,3.069309949874878],[86.56716417910371,1.5599154548364422,-0.27074331045150757,-3.580986738204956],[76.71232876712467,0.9766235985094692,0.4127189815044403,-3.613651990890503],[69.62025316455801,0.5112315928781678,-1.0,0.0],[71.08433734939837,0.6420364179915335,0.3563884198665619,1.0934380292892456],[72.7272727272739,0.7772953892894918,-0.5406205654144287,-0.5022452473640442],[63.75000000000023,0.35981111293807927,-1.0,0.0],[64.19753086419736,0.439691426949211,0.9107379913330078,2.795215368270874]],\"hovertemplate\":\"index=%{x}\\u003cbr\\u003eclose=%{y}\\u003cbr\\u003ersi=%{customdata[0]}\\u003cbr\\u003ebb=%{customdata[1]}\\u003cbr\\u003eactions=%{customdata[2]}\\u003cbr\\u003erewards=%{customdata[3]}\\u003cextra\\u003e\\u003c\\u002fextra\\u003e\",\"legendgroup\":\"\",\"line\":{\"color\":\"#636efa\",\"dash\":\"solid\"},\"marker\":{\"symbol\":\"circle\"},\"mode\":\"markers+lines\",\"name\":\"\",\"orientation\":\"v\",\"showlegend\":false,\"x\":[0,1,2,3,4,5,6,7,8,9,10,11,12,13,14,15,16,17,18,19],\"xaxis\":\"x\",\"y\":[162.38,162.48,162.48,162.46,162.48,162.49,162.5,162.5,162.63,162.65,162.66,162.99,162.9,162.95,162.87,162.8,162.85,162.9,162.85,162.88],\"yaxis\":\"y\",\"type\":\"scatter\"}],                        {\"template\":{\"data\":{\"histogram2dcontour\":[{\"type\":\"histogram2dcontour\",\"colorbar\":{\"outlinewidth\":0,\"ticks\":\"\"},\"colorscale\":[[0.0,\"#0d0887\"],[0.1111111111111111,\"#46039f\"],[0.2222222222222222,\"#7201a8\"],[0.3333333333333333,\"#9c179e\"],[0.4444444444444444,\"#bd3786\"],[0.5555555555555556,\"#d8576b\"],[0.6666666666666666,\"#ed7953\"],[0.7777777777777778,\"#fb9f3a\"],[0.8888888888888888,\"#fdca26\"],[1.0,\"#f0f921\"]]}],\"choropleth\":[{\"type\":\"choropleth\",\"colorbar\":{\"outlinewidth\":0,\"ticks\":\"\"}}],\"histogram2d\":[{\"type\":\"histogram2d\",\"colorbar\":{\"outlinewidth\":0,\"ticks\":\"\"},\"colorscale\":[[0.0,\"#0d0887\"],[0.1111111111111111,\"#46039f\"],[0.2222222222222222,\"#7201a8\"],[0.3333333333333333,\"#9c179e\"],[0.4444444444444444,\"#bd3786\"],[0.5555555555555556,\"#d8576b\"],[0.6666666666666666,\"#ed7953\"],[0.7777777777777778,\"#fb9f3a\"],[0.8888888888888888,\"#fdca26\"],[1.0,\"#f0f921\"]]}],\"heatmap\":[{\"type\":\"heatmap\",\"colorbar\":{\"outlinewidth\":0,\"ticks\":\"\"},\"colorscale\":[[0.0,\"#0d0887\"],[0.1111111111111111,\"#46039f\"],[0.2222222222222222,\"#7201a8\"],[0.3333333333333333,\"#9c179e\"],[0.4444444444444444,\"#bd3786\"],[0.5555555555555556,\"#d8576b\"],[0.6666666666666666,\"#ed7953\"],[0.7777777777777778,\"#fb9f3a\"],[0.8888888888888888,\"#fdca26\"],[1.0,\"#f0f921\"]]}],\"heatmapgl\":[{\"type\":\"heatmapgl\",\"colorbar\":{\"outlinewidth\":0,\"ticks\":\"\"},\"colorscale\":[[0.0,\"#0d0887\"],[0.1111111111111111,\"#46039f\"],[0.2222222222222222,\"#7201a8\"],[0.3333333333333333,\"#9c179e\"],[0.4444444444444444,\"#bd3786\"],[0.5555555555555556,\"#d8576b\"],[0.6666666666666666,\"#ed7953\"],[0.7777777777777778,\"#fb9f3a\"],[0.8888888888888888,\"#fdca26\"],[1.0,\"#f0f921\"]]}],\"contourcarpet\":[{\"type\":\"contourcarpet\",\"colorbar\":{\"outlinewidth\":0,\"ticks\":\"\"}}],\"contour\":[{\"type\":\"contour\",\"colorbar\":{\"outlinewidth\":0,\"ticks\":\"\"},\"colorscale\":[[0.0,\"#0d0887\"],[0.1111111111111111,\"#46039f\"],[0.2222222222222222,\"#7201a8\"],[0.3333333333333333,\"#9c179e\"],[0.4444444444444444,\"#bd3786\"],[0.5555555555555556,\"#d8576b\"],[0.6666666666666666,\"#ed7953\"],[0.7777777777777778,\"#fb9f3a\"],[0.8888888888888888,\"#fdca26\"],[1.0,\"#f0f921\"]]}],\"surface\":[{\"type\":\"surface\",\"colorbar\":{\"outlinewidth\":0,\"ticks\":\"\"},\"colorscale\":[[0.0,\"#0d0887\"],[0.1111111111111111,\"#46039f\"],[0.2222222222222222,\"#7201a8\"],[0.3333333333333333,\"#9c179e\"],[0.4444444444444444,\"#bd3786\"],[0.5555555555555556,\"#d8576b\"],[0.6666666666666666,\"#ed7953\"],[0.7777777777777778,\"#fb9f3a\"],[0.8888888888888888,\"#fdca26\"],[1.0,\"#f0f921\"]]}],\"mesh3d\":[{\"type\":\"mesh3d\",\"colorbar\":{\"outlinewidth\":0,\"ticks\":\"\"}}],\"scatter\":[{\"fillpattern\":{\"fillmode\":\"overlay\",\"size\":10,\"solidity\":0.2},\"type\":\"scatter\"}],\"parcoords\":[{\"type\":\"parcoords\",\"line\":{\"colorbar\":{\"outlinewidth\":0,\"ticks\":\"\"}}}],\"scatterpolargl\":[{\"type\":\"scatterpolargl\",\"marker\":{\"colorbar\":{\"outlinewidth\":0,\"ticks\":\"\"}}}],\"bar\":[{\"error_x\":{\"color\":\"#2a3f5f\"},\"error_y\":{\"color\":\"#2a3f5f\"},\"marker\":{\"line\":{\"color\":\"#E5ECF6\",\"width\":0.5},\"pattern\":{\"fillmode\":\"overlay\",\"size\":10,\"solidity\":0.2}},\"type\":\"bar\"}],\"scattergeo\":[{\"type\":\"scattergeo\",\"marker\":{\"colorbar\":{\"outlinewidth\":0,\"ticks\":\"\"}}}],\"scatterpolar\":[{\"type\":\"scatterpolar\",\"marker\":{\"colorbar\":{\"outlinewidth\":0,\"ticks\":\"\"}}}],\"histogram\":[{\"marker\":{\"pattern\":{\"fillmode\":\"overlay\",\"size\":10,\"solidity\":0.2}},\"type\":\"histogram\"}],\"scattergl\":[{\"type\":\"scattergl\",\"marker\":{\"colorbar\":{\"outlinewidth\":0,\"ticks\":\"\"}}}],\"scatter3d\":[{\"type\":\"scatter3d\",\"line\":{\"colorbar\":{\"outlinewidth\":0,\"ticks\":\"\"}},\"marker\":{\"colorbar\":{\"outlinewidth\":0,\"ticks\":\"\"}}}],\"scattermapbox\":[{\"type\":\"scattermapbox\",\"marker\":{\"colorbar\":{\"outlinewidth\":0,\"ticks\":\"\"}}}],\"scatterternary\":[{\"type\":\"scatterternary\",\"marker\":{\"colorbar\":{\"outlinewidth\":0,\"ticks\":\"\"}}}],\"scattercarpet\":[{\"type\":\"scattercarpet\",\"marker\":{\"colorbar\":{\"outlinewidth\":0,\"ticks\":\"\"}}}],\"carpet\":[{\"aaxis\":{\"endlinecolor\":\"#2a3f5f\",\"gridcolor\":\"white\",\"linecolor\":\"white\",\"minorgridcolor\":\"white\",\"startlinecolor\":\"#2a3f5f\"},\"baxis\":{\"endlinecolor\":\"#2a3f5f\",\"gridcolor\":\"white\",\"linecolor\":\"white\",\"minorgridcolor\":\"white\",\"startlinecolor\":\"#2a3f5f\"},\"type\":\"carpet\"}],\"table\":[{\"cells\":{\"fill\":{\"color\":\"#EBF0F8\"},\"line\":{\"color\":\"white\"}},\"header\":{\"fill\":{\"color\":\"#C8D4E3\"},\"line\":{\"color\":\"white\"}},\"type\":\"table\"}],\"barpolar\":[{\"marker\":{\"line\":{\"color\":\"#E5ECF6\",\"width\":0.5},\"pattern\":{\"fillmode\":\"overlay\",\"size\":10,\"solidity\":0.2}},\"type\":\"barpolar\"}],\"pie\":[{\"automargin\":true,\"type\":\"pie\"}]},\"layout\":{\"autotypenumbers\":\"strict\",\"colorway\":[\"#636efa\",\"#EF553B\",\"#00cc96\",\"#ab63fa\",\"#FFA15A\",\"#19d3f3\",\"#FF6692\",\"#B6E880\",\"#FF97FF\",\"#FECB52\"],\"font\":{\"color\":\"#2a3f5f\"},\"hovermode\":\"closest\",\"hoverlabel\":{\"align\":\"left\"},\"paper_bgcolor\":\"white\",\"plot_bgcolor\":\"#E5ECF6\",\"polar\":{\"bgcolor\":\"#E5ECF6\",\"angularaxis\":{\"gridcolor\":\"white\",\"linecolor\":\"white\",\"ticks\":\"\"},\"radialaxis\":{\"gridcolor\":\"white\",\"linecolor\":\"white\",\"ticks\":\"\"}},\"ternary\":{\"bgcolor\":\"#E5ECF6\",\"aaxis\":{\"gridcolor\":\"white\",\"linecolor\":\"white\",\"ticks\":\"\"},\"baxis\":{\"gridcolor\":\"white\",\"linecolor\":\"white\",\"ticks\":\"\"},\"caxis\":{\"gridcolor\":\"white\",\"linecolor\":\"white\",\"ticks\":\"\"}},\"coloraxis\":{\"colorbar\":{\"outlinewidth\":0,\"ticks\":\"\"}},\"colorscale\":{\"sequential\":[[0.0,\"#0d0887\"],[0.1111111111111111,\"#46039f\"],[0.2222222222222222,\"#7201a8\"],[0.3333333333333333,\"#9c179e\"],[0.4444444444444444,\"#bd3786\"],[0.5555555555555556,\"#d8576b\"],[0.6666666666666666,\"#ed7953\"],[0.7777777777777778,\"#fb9f3a\"],[0.8888888888888888,\"#fdca26\"],[1.0,\"#f0f921\"]],\"sequentialminus\":[[0.0,\"#0d0887\"],[0.1111111111111111,\"#46039f\"],[0.2222222222222222,\"#7201a8\"],[0.3333333333333333,\"#9c179e\"],[0.4444444444444444,\"#bd3786\"],[0.5555555555555556,\"#d8576b\"],[0.6666666666666666,\"#ed7953\"],[0.7777777777777778,\"#fb9f3a\"],[0.8888888888888888,\"#fdca26\"],[1.0,\"#f0f921\"]],\"diverging\":[[0,\"#8e0152\"],[0.1,\"#c51b7d\"],[0.2,\"#de77ae\"],[0.3,\"#f1b6da\"],[0.4,\"#fde0ef\"],[0.5,\"#f7f7f7\"],[0.6,\"#e6f5d0\"],[0.7,\"#b8e186\"],[0.8,\"#7fbc41\"],[0.9,\"#4d9221\"],[1,\"#276419\"]]},\"xaxis\":{\"gridcolor\":\"white\",\"linecolor\":\"white\",\"ticks\":\"\",\"title\":{\"standoff\":15},\"zerolinecolor\":\"white\",\"automargin\":true,\"zerolinewidth\":2},\"yaxis\":{\"gridcolor\":\"white\",\"linecolor\":\"white\",\"ticks\":\"\",\"title\":{\"standoff\":15},\"zerolinecolor\":\"white\",\"automargin\":true,\"zerolinewidth\":2},\"scene\":{\"xaxis\":{\"backgroundcolor\":\"#E5ECF6\",\"gridcolor\":\"white\",\"linecolor\":\"white\",\"showbackground\":true,\"ticks\":\"\",\"zerolinecolor\":\"white\",\"gridwidth\":2},\"yaxis\":{\"backgroundcolor\":\"#E5ECF6\",\"gridcolor\":\"white\",\"linecolor\":\"white\",\"showbackground\":true,\"ticks\":\"\",\"zerolinecolor\":\"white\",\"gridwidth\":2},\"zaxis\":{\"backgroundcolor\":\"#E5ECF6\",\"gridcolor\":\"white\",\"linecolor\":\"white\",\"showbackground\":true,\"ticks\":\"\",\"zerolinecolor\":\"white\",\"gridwidth\":2}},\"shapedefaults\":{\"line\":{\"color\":\"#2a3f5f\"}},\"annotationdefaults\":{\"arrowcolor\":\"#2a3f5f\",\"arrowhead\":0,\"arrowwidth\":1},\"geo\":{\"bgcolor\":\"white\",\"landcolor\":\"#E5ECF6\",\"subunitcolor\":\"white\",\"showland\":true,\"showlakes\":true,\"lakecolor\":\"white\"},\"title\":{\"x\":0.05},\"mapbox\":{\"style\":\"light\"}}},\"xaxis\":{\"anchor\":\"y\",\"domain\":[0.0,1.0],\"title\":{\"text\":\"index\"}},\"yaxis\":{\"anchor\":\"x\",\"domain\":[0.0,1.0],\"title\":{\"text\":\"close\"}},\"legend\":{\"tracegroupgap\":0},\"margin\":{\"t\":60}},                        {\"responsive\": true}                    ).then(function(){\n",
       "                            \n",
       "var gd = document.getElementById('622f56f8-20d2-487e-bebd-7bd0bd2ef3cb');\n",
       "var x = new MutationObserver(function (mutations, observer) {{\n",
       "        var display = window.getComputedStyle(gd).display;\n",
       "        if (!display || display === 'none') {{\n",
       "            console.log([gd, 'removed!']);\n",
       "            Plotly.purge(gd);\n",
       "            observer.disconnect();\n",
       "        }}\n",
       "}});\n",
       "\n",
       "// Listen for the removal of the full notebook cells\n",
       "var notebookContainer = gd.closest('#notebook-container');\n",
       "if (notebookContainer) {{\n",
       "    x.observe(notebookContainer, {childList: true});\n",
       "}}\n",
       "\n",
       "// Listen for the clearing of the current output cell\n",
       "var outputEl = gd.closest('.output');\n",
       "if (outputEl) {{\n",
       "    x.observe(outputEl, {childList: true});\n",
       "}}\n",
       "\n",
       "                        })                };                });            </script>        </div>"
      ]
     },
     "metadata": {},
     "output_type": "display_data"
    }
   ],
   "source": [
    "fig = px.line(\n",
    "    test_df, x=test_df.index, y=\"close\", hover_data=[\"rsi\", \"bb\", \"actions\", \"rewards\"]\n",
    ")\n",
    "fig.update_traces(mode=\"markers+lines\")\n",
    "\n",
    "fig.show()"
   ]
  },
  {
   "cell_type": "code",
   "execution_count": null,
   "metadata": {},
   "outputs": [],
   "source": []
  }
 ],
 "metadata": {
  "kernelspec": {
   "display_name": "Python 3 (ipykernel)",
   "language": "python",
   "name": "python3"
  },
  "language_info": {
   "codemirror_mode": {
    "name": "ipython",
    "version": 3
   },
   "file_extension": ".py",
   "mimetype": "text/x-python",
   "name": "python",
   "nbconvert_exporter": "python",
   "pygments_lexer": "ipython3",
   "version": "3.10.13"
  }
 },
 "nbformat": 4,
 "nbformat_minor": 4
}
