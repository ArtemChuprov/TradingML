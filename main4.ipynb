{
 "cells": [
  {
   "cell_type": "code",
   "execution_count": 1,
   "metadata": {
    "tags": []
   },
   "outputs": [],
   "source": [
    "import pandas as pd\n",
    "from indicators import RSI, extract_bb\n",
    "from sklearn.model_selection import train_test_split\n",
    "from sklearn.preprocessing import MinMaxScaler\n",
    "from sklearn.preprocessing import OneHotEncoder\n",
    "from sklearn.metrics import accuracy_score\n",
    "import numpy as np\n",
    "import warnings\n",
    "import torch\n",
    "import torch.nn as nn\n",
    "import torch.optim as optim\n",
    "from torch.utils.data import TensorDataset, DataLoader\n",
    "from IPython.display import clear_output\n",
    "import plotly.graph_objects as go\n",
    "import plotly.express as px\n",
    "\n",
    "import gym\n",
    "from stable_baselines3 import PPO\n",
    "from stable_baselines3.common.env_util import make_vec_env\n",
    "from gym import spaces\n",
    "from stable_baselines3.common.vec_env import DummyVecEnv\n",
    "from stable_baselines3.common.evaluation import evaluate_policy\n",
    "from stable_baselines3.common.callbacks import ProgressBarCallback\n",
    "\n",
    "warnings.filterwarnings(\"ignore\")"
   ]
  },
  {
   "cell_type": "code",
   "execution_count": 32,
   "metadata": {
    "metadata": {},
    "tags": []
   },
   "outputs": [
    {
     "data": {
      "text/html": [
       "<div>\n",
       "<style scoped>\n",
       "    .dataframe tbody tr th:only-of-type {\n",
       "        vertical-align: middle;\n",
       "    }\n",
       "\n",
       "    .dataframe tbody tr th {\n",
       "        vertical-align: top;\n",
       "    }\n",
       "\n",
       "    .dataframe thead th {\n",
       "        text-align: right;\n",
       "    }\n",
       "</style>\n",
       "<table border=\"1\" class=\"dataframe\">\n",
       "  <thead>\n",
       "    <tr style=\"text-align: right;\">\n",
       "      <th></th>\n",
       "      <th>open</th>\n",
       "      <th>high</th>\n",
       "      <th>low</th>\n",
       "      <th>close</th>\n",
       "      <th>volume</th>\n",
       "    </tr>\n",
       "  </thead>\n",
       "  <tbody>\n",
       "    <tr>\n",
       "      <th>0</th>\n",
       "      <td>162.55</td>\n",
       "      <td>162.83</td>\n",
       "      <td>162.50</td>\n",
       "      <td>162.63</td>\n",
       "      <td>214810</td>\n",
       "    </tr>\n",
       "    <tr>\n",
       "      <th>1</th>\n",
       "      <td>162.65</td>\n",
       "      <td>162.70</td>\n",
       "      <td>162.43</td>\n",
       "      <td>162.49</td>\n",
       "      <td>218280</td>\n",
       "    </tr>\n",
       "    <tr>\n",
       "      <th>2</th>\n",
       "      <td>162.49</td>\n",
       "      <td>162.50</td>\n",
       "      <td>162.31</td>\n",
       "      <td>162.42</td>\n",
       "      <td>174320</td>\n",
       "    </tr>\n",
       "    <tr>\n",
       "      <th>3</th>\n",
       "      <td>162.43</td>\n",
       "      <td>162.49</td>\n",
       "      <td>162.30</td>\n",
       "      <td>162.43</td>\n",
       "      <td>128060</td>\n",
       "    </tr>\n",
       "    <tr>\n",
       "      <th>4</th>\n",
       "      <td>162.45</td>\n",
       "      <td>162.46</td>\n",
       "      <td>162.28</td>\n",
       "      <td>162.29</td>\n",
       "      <td>125240</td>\n",
       "    </tr>\n",
       "    <tr>\n",
       "      <th>...</th>\n",
       "      <td>...</td>\n",
       "      <td>...</td>\n",
       "      <td>...</td>\n",
       "      <td>...</td>\n",
       "      <td>...</td>\n",
       "    </tr>\n",
       "    <tr>\n",
       "      <th>2128</th>\n",
       "      <td>163.37</td>\n",
       "      <td>163.40</td>\n",
       "      <td>163.30</td>\n",
       "      <td>163.40</td>\n",
       "      <td>171700</td>\n",
       "    </tr>\n",
       "    <tr>\n",
       "      <th>2129</th>\n",
       "      <td>163.40</td>\n",
       "      <td>163.82</td>\n",
       "      <td>163.39</td>\n",
       "      <td>163.71</td>\n",
       "      <td>623050</td>\n",
       "    </tr>\n",
       "    <tr>\n",
       "      <th>2130</th>\n",
       "      <td>163.70</td>\n",
       "      <td>163.82</td>\n",
       "      <td>163.61</td>\n",
       "      <td>163.80</td>\n",
       "      <td>314660</td>\n",
       "    </tr>\n",
       "    <tr>\n",
       "      <th>2131</th>\n",
       "      <td>163.80</td>\n",
       "      <td>163.82</td>\n",
       "      <td>163.60</td>\n",
       "      <td>163.70</td>\n",
       "      <td>136580</td>\n",
       "    </tr>\n",
       "    <tr>\n",
       "      <th>2132</th>\n",
       "      <td>163.69</td>\n",
       "      <td>163.73</td>\n",
       "      <td>163.66</td>\n",
       "      <td>163.71</td>\n",
       "      <td>3800</td>\n",
       "    </tr>\n",
       "  </tbody>\n",
       "</table>\n",
       "<p>2133 rows × 5 columns</p>\n",
       "</div>"
      ],
      "text/plain": [
       "        open    high     low   close  volume\n",
       "0     162.55  162.83  162.50  162.63  214810\n",
       "1     162.65  162.70  162.43  162.49  218280\n",
       "2     162.49  162.50  162.31  162.42  174320\n",
       "3     162.43  162.49  162.30  162.43  128060\n",
       "4     162.45  162.46  162.28  162.29  125240\n",
       "...      ...     ...     ...     ...     ...\n",
       "2128  163.37  163.40  163.30  163.40  171700\n",
       "2129  163.40  163.82  163.39  163.71  623050\n",
       "2130  163.70  163.82  163.61  163.80  314660\n",
       "2131  163.80  163.82  163.60  163.70  136580\n",
       "2132  163.69  163.73  163.66  163.71    3800\n",
       "\n",
       "[2133 rows x 5 columns]"
      ]
     },
     "execution_count": 32,
     "metadata": {},
     "output_type": "execute_result"
    }
   ],
   "source": [
    "df = pd.read_csv(\"gzpn_data.csv\")\n",
    "df = df.dropna().reset_index(drop=True)  # .sample(frac=1)\n",
    "df = df.drop(columns=[\"<TICKER>\", \"<PER>\", \"<DATE>\", \"<TIME>\"])\n",
    "df.columns = [\"open\", \"high\", \"low\", \"close\", \"volume\"]\n",
    "df"
   ]
  },
  {
   "cell_type": "code",
   "execution_count": 33,
   "metadata": {
    "metadata": {},
    "tags": []
   },
   "outputs": [],
   "source": [
    "n_steps = 11\n",
    "\n",
    "prices = df[\"close\"]\n",
    "\n",
    "rsi_values = RSI(prices=prices, n_steps=n_steps)\n",
    "bb_values = extract_bb(prices=prices, n_steps=n_steps)\n",
    "\n",
    "assert len(rsi_values) == len(\n",
    "    bb_values\n",
    "), f\"Indicators length don't coincide: {len(rsi_values)} and {len(bb_values)}\""
   ]
  },
  {
   "cell_type": "code",
   "execution_count": 34,
   "metadata": {
    "metadata": {},
    "tags": []
   },
   "outputs": [],
   "source": [
    "def prepare_target(df, steps_obs: int = 3):\n",
    "    targets = []\n",
    "    for i in range(0, len(df) - steps_obs):\n",
    "        current_price = df[\"close\"].iloc[i]\n",
    "        max_price = df[\"high\"].iloc[i + 1 : i + 1 + steps_obs].max()\n",
    "        targets.append(max_price > current_price)\n",
    "    targets += [0] * steps_obs\n",
    "    return np.array(targets, dtype=np.int32)\n",
    "\n",
    "\n",
    "steps_obs = 3\n",
    "\n",
    "targets = prepare_target(df=df, steps_obs=steps_obs)"
   ]
  },
  {
   "cell_type": "code",
   "execution_count": 35,
   "metadata": {
    "metadata": {},
    "tags": []
   },
   "outputs": [
    {
     "data": {
      "text/html": [
       "<div>\n",
       "<style scoped>\n",
       "    .dataframe tbody tr th:only-of-type {\n",
       "        vertical-align: middle;\n",
       "    }\n",
       "\n",
       "    .dataframe tbody tr th {\n",
       "        vertical-align: top;\n",
       "    }\n",
       "\n",
       "    .dataframe thead th {\n",
       "        text-align: right;\n",
       "    }\n",
       "</style>\n",
       "<table border=\"1\" class=\"dataframe\">\n",
       "  <thead>\n",
       "    <tr style=\"text-align: right;\">\n",
       "      <th></th>\n",
       "      <th>rsi</th>\n",
       "      <th>bb</th>\n",
       "      <th>target</th>\n",
       "    </tr>\n",
       "  </thead>\n",
       "  <tbody>\n",
       "    <tr>\n",
       "      <th>0</th>\n",
       "      <td>42.465753</td>\n",
       "      <td>-0.450672</td>\n",
       "      <td>1</td>\n",
       "    </tr>\n",
       "    <tr>\n",
       "      <th>1</th>\n",
       "      <td>53.947368</td>\n",
       "      <td>0.979324</td>\n",
       "      <td>1</td>\n",
       "    </tr>\n",
       "    <tr>\n",
       "      <th>2</th>\n",
       "      <td>53.333333</td>\n",
       "      <td>1.004554</td>\n",
       "      <td>1</td>\n",
       "    </tr>\n",
       "    <tr>\n",
       "      <th>3</th>\n",
       "      <td>63.492063</td>\n",
       "      <td>0.659716</td>\n",
       "      <td>1</td>\n",
       "    </tr>\n",
       "    <tr>\n",
       "      <th>4</th>\n",
       "      <td>59.649123</td>\n",
       "      <td>0.850015</td>\n",
       "      <td>1</td>\n",
       "    </tr>\n",
       "    <tr>\n",
       "      <th>...</th>\n",
       "      <td>...</td>\n",
       "      <td>...</td>\n",
       "      <td>...</td>\n",
       "    </tr>\n",
       "    <tr>\n",
       "      <th>2117</th>\n",
       "      <td>59.782609</td>\n",
       "      <td>1.467361</td>\n",
       "      <td>1</td>\n",
       "    </tr>\n",
       "    <tr>\n",
       "      <th>2118</th>\n",
       "      <td>66.363636</td>\n",
       "      <td>2.596038</td>\n",
       "      <td>1</td>\n",
       "    </tr>\n",
       "    <tr>\n",
       "      <th>2119</th>\n",
       "      <td>78.846154</td>\n",
       "      <td>2.145840</td>\n",
       "      <td>0</td>\n",
       "    </tr>\n",
       "    <tr>\n",
       "      <th>2120</th>\n",
       "      <td>74.545455</td>\n",
       "      <td>1.372398</td>\n",
       "      <td>0</td>\n",
       "    </tr>\n",
       "    <tr>\n",
       "      <th>2121</th>\n",
       "      <td>76.146789</td>\n",
       "      <td>1.181168</td>\n",
       "      <td>0</td>\n",
       "    </tr>\n",
       "  </tbody>\n",
       "</table>\n",
       "<p>2122 rows × 3 columns</p>\n",
       "</div>"
      ],
      "text/plain": [
       "            rsi        bb  target\n",
       "0     42.465753 -0.450672       1\n",
       "1     53.947368  0.979324       1\n",
       "2     53.333333  1.004554       1\n",
       "3     63.492063  0.659716       1\n",
       "4     59.649123  0.850015       1\n",
       "...         ...       ...     ...\n",
       "2117  59.782609  1.467361       1\n",
       "2118  66.363636  2.596038       1\n",
       "2119  78.846154  2.145840       0\n",
       "2120  74.545455  1.372398       0\n",
       "2121  76.146789  1.181168       0\n",
       "\n",
       "[2122 rows x 3 columns]"
      ]
     },
     "execution_count": 35,
     "metadata": {},
     "output_type": "execute_result"
    }
   ],
   "source": [
    "indicator_data = (\n",
    "    pd.DataFrame(\n",
    "        data=np.array([rsi_values, bb_values, targets]).T,\n",
    "        columns=[\"rsi\", \"bb\", \"target\"],\n",
    "    )\n",
    "    .dropna()\n",
    "    .reset_index(drop=True)\n",
    "    .astype(np.float64)\n",
    ")\n",
    "indicator_data[\"target\"] = indicator_data[\"target\"].astype(np.int32)\n",
    "indicator_data"
   ]
  },
  {
   "cell_type": "code",
   "execution_count": 36,
   "metadata": {
    "metadata": {},
    "tags": []
   },
   "outputs": [
    {
     "data": {
      "text/html": [
       "<div>\n",
       "<style scoped>\n",
       "    .dataframe tbody tr th:only-of-type {\n",
       "        vertical-align: middle;\n",
       "    }\n",
       "\n",
       "    .dataframe tbody tr th {\n",
       "        vertical-align: top;\n",
       "    }\n",
       "\n",
       "    .dataframe thead th {\n",
       "        text-align: right;\n",
       "    }\n",
       "</style>\n",
       "<table border=\"1\" class=\"dataframe\">\n",
       "  <thead>\n",
       "    <tr style=\"text-align: right;\">\n",
       "      <th></th>\n",
       "      <th>rsi</th>\n",
       "      <th>bb</th>\n",
       "      <th>target</th>\n",
       "    </tr>\n",
       "  </thead>\n",
       "  <tbody>\n",
       "    <tr>\n",
       "      <th>count</th>\n",
       "      <td>2122.000000</td>\n",
       "      <td>2122.000000</td>\n",
       "      <td>2122.000000</td>\n",
       "    </tr>\n",
       "    <tr>\n",
       "      <th>mean</th>\n",
       "      <td>49.882666</td>\n",
       "      <td>-0.018201</td>\n",
       "      <td>0.874647</td>\n",
       "    </tr>\n",
       "    <tr>\n",
       "      <th>std</th>\n",
       "      <td>19.022690</td>\n",
       "      <td>1.211967</td>\n",
       "      <td>0.331197</td>\n",
       "    </tr>\n",
       "    <tr>\n",
       "      <th>min</th>\n",
       "      <td>0.000000</td>\n",
       "      <td>-3.059143</td>\n",
       "      <td>0.000000</td>\n",
       "    </tr>\n",
       "    <tr>\n",
       "      <th>25%</th>\n",
       "      <td>36.390374</td>\n",
       "      <td>-1.013441</td>\n",
       "      <td>1.000000</td>\n",
       "    </tr>\n",
       "    <tr>\n",
       "      <th>50%</th>\n",
       "      <td>49.382716</td>\n",
       "      <td>-0.019851</td>\n",
       "      <td>1.000000</td>\n",
       "    </tr>\n",
       "    <tr>\n",
       "      <th>75%</th>\n",
       "      <td>63.106796</td>\n",
       "      <td>0.947435</td>\n",
       "      <td>1.000000</td>\n",
       "    </tr>\n",
       "    <tr>\n",
       "      <th>max</th>\n",
       "      <td>100.000000</td>\n",
       "      <td>3.140485</td>\n",
       "      <td>1.000000</td>\n",
       "    </tr>\n",
       "  </tbody>\n",
       "</table>\n",
       "</div>"
      ],
      "text/plain": [
       "               rsi           bb       target\n",
       "count  2122.000000  2122.000000  2122.000000\n",
       "mean     49.882666    -0.018201     0.874647\n",
       "std      19.022690     1.211967     0.331197\n",
       "min       0.000000    -3.059143     0.000000\n",
       "25%      36.390374    -1.013441     1.000000\n",
       "50%      49.382716    -0.019851     1.000000\n",
       "75%      63.106796     0.947435     1.000000\n",
       "max     100.000000     3.140485     1.000000"
      ]
     },
     "execution_count": 36,
     "metadata": {},
     "output_type": "execute_result"
    }
   ],
   "source": [
    "indicator_data.describe()"
   ]
  },
  {
   "cell_type": "code",
   "execution_count": 37,
   "metadata": {
    "metadata": {}
   },
   "outputs": [
    {
     "data": {
      "text/html": [
       "<div>\n",
       "<style scoped>\n",
       "    .dataframe tbody tr th:only-of-type {\n",
       "        vertical-align: middle;\n",
       "    }\n",
       "\n",
       "    .dataframe tbody tr th {\n",
       "        vertical-align: top;\n",
       "    }\n",
       "\n",
       "    .dataframe thead th {\n",
       "        text-align: right;\n",
       "    }\n",
       "</style>\n",
       "<table border=\"1\" class=\"dataframe\">\n",
       "  <thead>\n",
       "    <tr style=\"text-align: right;\">\n",
       "      <th></th>\n",
       "      <th>rsi</th>\n",
       "      <th>bb</th>\n",
       "      <th>target</th>\n",
       "      <th>open</th>\n",
       "      <th>high</th>\n",
       "      <th>low</th>\n",
       "      <th>close</th>\n",
       "      <th>volume</th>\n",
       "    </tr>\n",
       "  </thead>\n",
       "  <tbody>\n",
       "    <tr>\n",
       "      <th>0</th>\n",
       "      <td>42.465753</td>\n",
       "      <td>-0.450672</td>\n",
       "      <td>1</td>\n",
       "      <td>162.41</td>\n",
       "      <td>162.50</td>\n",
       "      <td>162.37</td>\n",
       "      <td>162.38</td>\n",
       "      <td>102660.0</td>\n",
       "    </tr>\n",
       "    <tr>\n",
       "      <th>1</th>\n",
       "      <td>53.947368</td>\n",
       "      <td>0.979324</td>\n",
       "      <td>1</td>\n",
       "      <td>162.37</td>\n",
       "      <td>162.50</td>\n",
       "      <td>162.37</td>\n",
       "      <td>162.48</td>\n",
       "      <td>70060.0</td>\n",
       "    </tr>\n",
       "    <tr>\n",
       "      <th>2</th>\n",
       "      <td>53.333333</td>\n",
       "      <td>1.004554</td>\n",
       "      <td>1</td>\n",
       "      <td>162.48</td>\n",
       "      <td>162.50</td>\n",
       "      <td>162.46</td>\n",
       "      <td>162.48</td>\n",
       "      <td>18360.0</td>\n",
       "    </tr>\n",
       "    <tr>\n",
       "      <th>3</th>\n",
       "      <td>63.492063</td>\n",
       "      <td>0.659716</td>\n",
       "      <td>1</td>\n",
       "      <td>162.49</td>\n",
       "      <td>162.49</td>\n",
       "      <td>162.39</td>\n",
       "      <td>162.46</td>\n",
       "      <td>39080.0</td>\n",
       "    </tr>\n",
       "    <tr>\n",
       "      <th>4</th>\n",
       "      <td>59.649123</td>\n",
       "      <td>0.850015</td>\n",
       "      <td>1</td>\n",
       "      <td>162.46</td>\n",
       "      <td>162.50</td>\n",
       "      <td>162.45</td>\n",
       "      <td>162.48</td>\n",
       "      <td>156850.0</td>\n",
       "    </tr>\n",
       "    <tr>\n",
       "      <th>...</th>\n",
       "      <td>...</td>\n",
       "      <td>...</td>\n",
       "      <td>...</td>\n",
       "      <td>...</td>\n",
       "      <td>...</td>\n",
       "      <td>...</td>\n",
       "      <td>...</td>\n",
       "      <td>...</td>\n",
       "    </tr>\n",
       "    <tr>\n",
       "      <th>2117</th>\n",
       "      <td>59.782609</td>\n",
       "      <td>1.467361</td>\n",
       "      <td>1</td>\n",
       "      <td>163.37</td>\n",
       "      <td>163.40</td>\n",
       "      <td>163.30</td>\n",
       "      <td>163.40</td>\n",
       "      <td>171700.0</td>\n",
       "    </tr>\n",
       "    <tr>\n",
       "      <th>2118</th>\n",
       "      <td>66.363636</td>\n",
       "      <td>2.596038</td>\n",
       "      <td>1</td>\n",
       "      <td>163.40</td>\n",
       "      <td>163.82</td>\n",
       "      <td>163.39</td>\n",
       "      <td>163.71</td>\n",
       "      <td>623050.0</td>\n",
       "    </tr>\n",
       "    <tr>\n",
       "      <th>2119</th>\n",
       "      <td>78.846154</td>\n",
       "      <td>2.145840</td>\n",
       "      <td>0</td>\n",
       "      <td>163.70</td>\n",
       "      <td>163.82</td>\n",
       "      <td>163.61</td>\n",
       "      <td>163.80</td>\n",
       "      <td>314660.0</td>\n",
       "    </tr>\n",
       "    <tr>\n",
       "      <th>2120</th>\n",
       "      <td>74.545455</td>\n",
       "      <td>1.372398</td>\n",
       "      <td>0</td>\n",
       "      <td>163.80</td>\n",
       "      <td>163.82</td>\n",
       "      <td>163.60</td>\n",
       "      <td>163.70</td>\n",
       "      <td>136580.0</td>\n",
       "    </tr>\n",
       "    <tr>\n",
       "      <th>2121</th>\n",
       "      <td>76.146789</td>\n",
       "      <td>1.181168</td>\n",
       "      <td>0</td>\n",
       "      <td>163.69</td>\n",
       "      <td>163.73</td>\n",
       "      <td>163.66</td>\n",
       "      <td>163.71</td>\n",
       "      <td>3800.0</td>\n",
       "    </tr>\n",
       "  </tbody>\n",
       "</table>\n",
       "<p>2122 rows × 8 columns</p>\n",
       "</div>"
      ],
      "text/plain": [
       "            rsi        bb  target    open    high     low   close    volume\n",
       "0     42.465753 -0.450672       1  162.41  162.50  162.37  162.38  102660.0\n",
       "1     53.947368  0.979324       1  162.37  162.50  162.37  162.48   70060.0\n",
       "2     53.333333  1.004554       1  162.48  162.50  162.46  162.48   18360.0\n",
       "3     63.492063  0.659716       1  162.49  162.49  162.39  162.46   39080.0\n",
       "4     59.649123  0.850015       1  162.46  162.50  162.45  162.48  156850.0\n",
       "...         ...       ...     ...     ...     ...     ...     ...       ...\n",
       "2117  59.782609  1.467361       1  163.37  163.40  163.30  163.40  171700.0\n",
       "2118  66.363636  2.596038       1  163.40  163.82  163.39  163.71  623050.0\n",
       "2119  78.846154  2.145840       0  163.70  163.82  163.61  163.80  314660.0\n",
       "2120  74.545455  1.372398       0  163.80  163.82  163.60  163.70  136580.0\n",
       "2121  76.146789  1.181168       0  163.69  163.73  163.66  163.71    3800.0\n",
       "\n",
       "[2122 rows x 8 columns]"
      ]
     },
     "execution_count": 37,
     "metadata": {},
     "output_type": "execute_result"
    }
   ],
   "source": [
    "all_data = indicator_data.copy()\n",
    "all_data[df.columns] = df.iloc[n_steps:, :].values\n",
    "\n",
    "all_data"
   ]
  },
  {
   "cell_type": "code",
   "execution_count": null,
   "metadata": {},
   "outputs": [],
   "source": []
  },
  {
   "cell_type": "markdown",
   "metadata": {},
   "source": [
    "# Обработка фичей"
   ]
  },
  {
   "cell_type": "code",
   "execution_count": 38,
   "metadata": {
    "metadata": {},
    "tags": []
   },
   "outputs": [
    {
     "data": {
      "text/html": [
       "<div>\n",
       "<style scoped>\n",
       "    .dataframe tbody tr th:only-of-type {\n",
       "        vertical-align: middle;\n",
       "    }\n",
       "\n",
       "    .dataframe tbody tr th {\n",
       "        vertical-align: top;\n",
       "    }\n",
       "\n",
       "    .dataframe thead th {\n",
       "        text-align: right;\n",
       "    }\n",
       "</style>\n",
       "<table border=\"1\" class=\"dataframe\">\n",
       "  <thead>\n",
       "    <tr style=\"text-align: right;\">\n",
       "      <th></th>\n",
       "      <th>rsi</th>\n",
       "      <th>bb</th>\n",
       "      <th>target</th>\n",
       "    </tr>\n",
       "  </thead>\n",
       "  <tbody>\n",
       "    <tr>\n",
       "      <th>0</th>\n",
       "      <td>0.424658</td>\n",
       "      <td>0.420746</td>\n",
       "      <td>1</td>\n",
       "    </tr>\n",
       "    <tr>\n",
       "      <th>1</th>\n",
       "      <td>0.539474</td>\n",
       "      <td>0.651405</td>\n",
       "      <td>1</td>\n",
       "    </tr>\n",
       "    <tr>\n",
       "      <th>2</th>\n",
       "      <td>0.533333</td>\n",
       "      <td>0.655474</td>\n",
       "      <td>1</td>\n",
       "    </tr>\n",
       "    <tr>\n",
       "      <th>3</th>\n",
       "      <td>0.634921</td>\n",
       "      <td>0.599852</td>\n",
       "      <td>1</td>\n",
       "    </tr>\n",
       "    <tr>\n",
       "      <th>4</th>\n",
       "      <td>0.596491</td>\n",
       "      <td>0.630547</td>\n",
       "      <td>1</td>\n",
       "    </tr>\n",
       "    <tr>\n",
       "      <th>...</th>\n",
       "      <td>...</td>\n",
       "      <td>...</td>\n",
       "      <td>...</td>\n",
       "    </tr>\n",
       "    <tr>\n",
       "      <th>2117</th>\n",
       "      <td>0.597826</td>\n",
       "      <td>0.730125</td>\n",
       "      <td>1</td>\n",
       "    </tr>\n",
       "    <tr>\n",
       "      <th>2118</th>\n",
       "      <td>0.663636</td>\n",
       "      <td>0.912181</td>\n",
       "      <td>1</td>\n",
       "    </tr>\n",
       "    <tr>\n",
       "      <th>2119</th>\n",
       "      <td>0.788462</td>\n",
       "      <td>0.839564</td>\n",
       "      <td>0</td>\n",
       "    </tr>\n",
       "    <tr>\n",
       "      <th>2120</th>\n",
       "      <td>0.745455</td>\n",
       "      <td>0.714808</td>\n",
       "      <td>0</td>\n",
       "    </tr>\n",
       "    <tr>\n",
       "      <th>2121</th>\n",
       "      <td>0.761468</td>\n",
       "      <td>0.683962</td>\n",
       "      <td>0</td>\n",
       "    </tr>\n",
       "  </tbody>\n",
       "</table>\n",
       "<p>2122 rows × 3 columns</p>\n",
       "</div>"
      ],
      "text/plain": [
       "           rsi        bb  target\n",
       "0     0.424658  0.420746       1\n",
       "1     0.539474  0.651405       1\n",
       "2     0.533333  0.655474       1\n",
       "3     0.634921  0.599852       1\n",
       "4     0.596491  0.630547       1\n",
       "...        ...       ...     ...\n",
       "2117  0.597826  0.730125       1\n",
       "2118  0.663636  0.912181       1\n",
       "2119  0.788462  0.839564       0\n",
       "2120  0.745455  0.714808       0\n",
       "2121  0.761468  0.683962       0\n",
       "\n",
       "[2122 rows x 3 columns]"
      ]
     },
     "execution_count": 38,
     "metadata": {},
     "output_type": "execute_result"
    }
   ],
   "source": [
    "scaler = MinMaxScaler()\n",
    "scaler.fit(indicator_data.iloc[:, :-1])\n",
    "indicator_data.iloc[:, :-1] = scaler.transform(indicator_data.iloc[:, :-1])\n",
    "indicator_data"
   ]
  },
  {
   "cell_type": "code",
   "execution_count": 39,
   "metadata": {
    "metadata": {}
   },
   "outputs": [
    {
     "data": {
      "text/plain": [
       "array([0.53947368, 0.65140469])"
      ]
     },
     "execution_count": 39,
     "metadata": {},
     "output_type": "execute_result"
    }
   ],
   "source": [
    "indicator_data[[\"rsi\", \"bb\"]].iloc[1].values"
   ]
  },
  {
   "cell_type": "code",
   "execution_count": 40,
   "metadata": {
    "metadata": {},
    "tags": []
   },
   "outputs": [],
   "source": [
    "X = indicator_data.iloc[:, :]\n",
    "y = indicator_data.iloc[:, -1]\n",
    "\n",
    "X_train, X_test, y_train, y_test = train_test_split(\n",
    "    X, y, test_size=0.2, random_state=0, shuffle=False\n",
    ")"
   ]
  },
  {
   "cell_type": "code",
   "execution_count": 41,
   "metadata": {
    "metadata": {}
   },
   "outputs": [],
   "source": [
    "step_data = df.iloc[:50]\n",
    "x = step_data.index\n",
    "price = step_data[\"close\"]\n",
    "\n",
    "x_buy = np.array([i for i in x[::2]])\n",
    "y_buy = price[x_buy]"
   ]
  },
  {
   "cell_type": "code",
   "execution_count": 42,
   "metadata": {
    "metadata": {}
   },
   "outputs": [
    {
     "data": {
      "text/html": [
       "<div>\n",
       "<style scoped>\n",
       "    .dataframe tbody tr th:only-of-type {\n",
       "        vertical-align: middle;\n",
       "    }\n",
       "\n",
       "    .dataframe tbody tr th {\n",
       "        vertical-align: top;\n",
       "    }\n",
       "\n",
       "    .dataframe thead th {\n",
       "        text-align: right;\n",
       "    }\n",
       "</style>\n",
       "<table border=\"1\" class=\"dataframe\">\n",
       "  <thead>\n",
       "    <tr style=\"text-align: right;\">\n",
       "      <th></th>\n",
       "      <th>rsi</th>\n",
       "      <th>bb</th>\n",
       "      <th>target</th>\n",
       "      <th>open</th>\n",
       "      <th>high</th>\n",
       "      <th>low</th>\n",
       "      <th>close</th>\n",
       "      <th>volume</th>\n",
       "    </tr>\n",
       "  </thead>\n",
       "  <tbody>\n",
       "    <tr>\n",
       "      <th>0</th>\n",
       "      <td>42.465753</td>\n",
       "      <td>-0.450672</td>\n",
       "      <td>1</td>\n",
       "      <td>162.41</td>\n",
       "      <td>162.50</td>\n",
       "      <td>162.37</td>\n",
       "      <td>162.38</td>\n",
       "      <td>102660.0</td>\n",
       "    </tr>\n",
       "    <tr>\n",
       "      <th>1</th>\n",
       "      <td>53.947368</td>\n",
       "      <td>0.979324</td>\n",
       "      <td>1</td>\n",
       "      <td>162.37</td>\n",
       "      <td>162.50</td>\n",
       "      <td>162.37</td>\n",
       "      <td>162.48</td>\n",
       "      <td>70060.0</td>\n",
       "    </tr>\n",
       "    <tr>\n",
       "      <th>2</th>\n",
       "      <td>53.333333</td>\n",
       "      <td>1.004554</td>\n",
       "      <td>1</td>\n",
       "      <td>162.48</td>\n",
       "      <td>162.50</td>\n",
       "      <td>162.46</td>\n",
       "      <td>162.48</td>\n",
       "      <td>18360.0</td>\n",
       "    </tr>\n",
       "    <tr>\n",
       "      <th>3</th>\n",
       "      <td>63.492063</td>\n",
       "      <td>0.659716</td>\n",
       "      <td>1</td>\n",
       "      <td>162.49</td>\n",
       "      <td>162.49</td>\n",
       "      <td>162.39</td>\n",
       "      <td>162.46</td>\n",
       "      <td>39080.0</td>\n",
       "    </tr>\n",
       "    <tr>\n",
       "      <th>4</th>\n",
       "      <td>59.649123</td>\n",
       "      <td>0.850015</td>\n",
       "      <td>1</td>\n",
       "      <td>162.46</td>\n",
       "      <td>162.50</td>\n",
       "      <td>162.45</td>\n",
       "      <td>162.48</td>\n",
       "      <td>156850.0</td>\n",
       "    </tr>\n",
       "    <tr>\n",
       "      <th>...</th>\n",
       "      <td>...</td>\n",
       "      <td>...</td>\n",
       "      <td>...</td>\n",
       "      <td>...</td>\n",
       "      <td>...</td>\n",
       "      <td>...</td>\n",
       "      <td>...</td>\n",
       "      <td>...</td>\n",
       "    </tr>\n",
       "    <tr>\n",
       "      <th>2117</th>\n",
       "      <td>59.782609</td>\n",
       "      <td>1.467361</td>\n",
       "      <td>1</td>\n",
       "      <td>163.37</td>\n",
       "      <td>163.40</td>\n",
       "      <td>163.30</td>\n",
       "      <td>163.40</td>\n",
       "      <td>171700.0</td>\n",
       "    </tr>\n",
       "    <tr>\n",
       "      <th>2118</th>\n",
       "      <td>66.363636</td>\n",
       "      <td>2.596038</td>\n",
       "      <td>1</td>\n",
       "      <td>163.40</td>\n",
       "      <td>163.82</td>\n",
       "      <td>163.39</td>\n",
       "      <td>163.71</td>\n",
       "      <td>623050.0</td>\n",
       "    </tr>\n",
       "    <tr>\n",
       "      <th>2119</th>\n",
       "      <td>78.846154</td>\n",
       "      <td>2.145840</td>\n",
       "      <td>0</td>\n",
       "      <td>163.70</td>\n",
       "      <td>163.82</td>\n",
       "      <td>163.61</td>\n",
       "      <td>163.80</td>\n",
       "      <td>314660.0</td>\n",
       "    </tr>\n",
       "    <tr>\n",
       "      <th>2120</th>\n",
       "      <td>74.545455</td>\n",
       "      <td>1.372398</td>\n",
       "      <td>0</td>\n",
       "      <td>163.80</td>\n",
       "      <td>163.82</td>\n",
       "      <td>163.60</td>\n",
       "      <td>163.70</td>\n",
       "      <td>136580.0</td>\n",
       "    </tr>\n",
       "    <tr>\n",
       "      <th>2121</th>\n",
       "      <td>76.146789</td>\n",
       "      <td>1.181168</td>\n",
       "      <td>0</td>\n",
       "      <td>163.69</td>\n",
       "      <td>163.73</td>\n",
       "      <td>163.66</td>\n",
       "      <td>163.71</td>\n",
       "      <td>3800.0</td>\n",
       "    </tr>\n",
       "  </tbody>\n",
       "</table>\n",
       "<p>2122 rows × 8 columns</p>\n",
       "</div>"
      ],
      "text/plain": [
       "            rsi        bb  target    open    high     low   close    volume\n",
       "0     42.465753 -0.450672       1  162.41  162.50  162.37  162.38  102660.0\n",
       "1     53.947368  0.979324       1  162.37  162.50  162.37  162.48   70060.0\n",
       "2     53.333333  1.004554       1  162.48  162.50  162.46  162.48   18360.0\n",
       "3     63.492063  0.659716       1  162.49  162.49  162.39  162.46   39080.0\n",
       "4     59.649123  0.850015       1  162.46  162.50  162.45  162.48  156850.0\n",
       "...         ...       ...     ...     ...     ...     ...     ...       ...\n",
       "2117  59.782609  1.467361       1  163.37  163.40  163.30  163.40  171700.0\n",
       "2118  66.363636  2.596038       1  163.40  163.82  163.39  163.71  623050.0\n",
       "2119  78.846154  2.145840       0  163.70  163.82  163.61  163.80  314660.0\n",
       "2120  74.545455  1.372398       0  163.80  163.82  163.60  163.70  136580.0\n",
       "2121  76.146789  1.181168       0  163.69  163.73  163.66  163.71    3800.0\n",
       "\n",
       "[2122 rows x 8 columns]"
      ]
     },
     "execution_count": 42,
     "metadata": {},
     "output_type": "execute_result"
    }
   ],
   "source": [
    "all_data"
   ]
  },
  {
   "cell_type": "code",
   "execution_count": 43,
   "metadata": {
    "metadata": {}
   },
   "outputs": [],
   "source": [
    "indicator_data = indicator_data.iloc[:, :2]"
   ]
  },
  {
   "cell_type": "code",
   "execution_count": 59,
   "metadata": {
    "metadata": {}
   },
   "outputs": [],
   "source": [
    "# Your DataFrame `df` should contain all observations and you will have your reward function `reward_function`\n",
    "# df = all_da.copy()\n",
    "# df.columns = [col.lower() for col in df.columns]\n",
    "\n",
    "steps_obs = 3\n",
    "commision_bps = 0\n",
    "rewards = []\n",
    "Statistics = []\n",
    "\n",
    "init_balance = 200\n",
    "init_active = 10\n",
    "\n",
    "start_price = all_data[\"close\"].iloc[0]\n",
    "init_pv = init_balance + init_active * start_price\n",
    "\n",
    "MAX_BALANCE = 2 * init_pv\n",
    "MAX_ACTIVE = 2 * init_pv / start_price\n",
    "\n",
    "\n",
    "class CustomEnv(gym.Env):\n",
    "    def __init__(self, df, init_balance, init_active, test=False):\n",
    "        super(CustomEnv, self).__init__()\n",
    "        self.df = df\n",
    "        self.test = test\n",
    "        self.seed = lambda x: 0\n",
    "        self.current_step = 0\n",
    "        # Assume observation space is a 1D array of features (adjust according to your data)\n",
    "        self.observation_space = spaces.Box(low=0, high=1, shape=(4,), dtype=np.float32)\n",
    "        self.balance = init_balance\n",
    "        self.active = init_active\n",
    "        self.init_balance = init_balance\n",
    "        self.init_active = init_active\n",
    "        self.current_price = self.df[\"close\"].iloc[self.current_step]\n",
    "        self.pv = self.balance + self.active * self.current_price\n",
    "        # Adjust according to your action space\n",
    "        self.action_space = spaces.Box(\n",
    "            low=np.array([-1]),\n",
    "            high=np.array([1]),\n",
    "            dtype=np.float32,\n",
    "        )\n",
    "\n",
    "    def reset(self):\n",
    "        # Reset the state of the environment to an initial state\n",
    "        # print(\"reseting...\")\n",
    "        self.current_step = 0\n",
    "        if self.test:\n",
    "            rewards.append([])\n",
    "            Statistics.append([])\n",
    "\n",
    "        init_state = np.append(\n",
    "            self.df[indicator_data.columns].iloc[0].values,\n",
    "            np.array([self.init_balance / MAX_BALANCE, self.init_active / MAX_ACTIVE]),\n",
    "        )\n",
    "        self.balance = init_balance\n",
    "        self.active = init_active\n",
    "        self.current_price = self.df[\"close\"].iloc[self.current_step]\n",
    "        self.pv = self.balance + self.init_active * self.current_price\n",
    "        return init_state\n",
    "\n",
    "    def reward_function(self, action):\n",
    "        next_price = self.df[\"close\"].iloc[self.current_step + 1]\n",
    "        # покупаем\n",
    "        if action > 0:\n",
    "            money_to_spend = self.balance * action\n",
    "            self.active += money_to_spend / self.current_price\n",
    "            self.balance -= money_to_spend\n",
    "        # продаем\n",
    "        elif action < 0:\n",
    "            active_to_sell = self.active * abs(action)\n",
    "            self.active -= active_to_sell\n",
    "            self.balance += active_to_sell * self.current_price\n",
    "        new_pv = self.active * next_price + self.balance\n",
    "        reward = (new_pv - self.pv) / self.pv * 1e4\n",
    "\n",
    "        return reward\n",
    "\n",
    "    def step(self, action):\n",
    "        # Calculate the reward\n",
    "\n",
    "        reward = self.reward_function(action)\n",
    "        self.current_step += 1\n",
    "        if self.current_step < len(self.df.index) - (steps_obs + 1):\n",
    "            next_state = np.append(\n",
    "                self.df[indicator_data.columns].iloc[self.current_step].values,\n",
    "                np.array([self.balance / MAX_BALANCE, self.active / MAX_ACTIVE]),\n",
    "            )\n",
    "            done = False\n",
    "        else:\n",
    "            # The episode is finished\n",
    "            next_state = np.zeros(self.observation_space.shape)\n",
    "            done = True\n",
    "\n",
    "        # Placeholder for info, additional data can be added if needed\n",
    "        info = {}\n",
    "        # print(next_state)\n",
    "        if self.test:\n",
    "            rewards[-1].append(reward)\n",
    "        self.current_price = self.df[\"close\"].iloc[self.current_step]\n",
    "        self.pv = self.active * self.current_price + self.balance\n",
    "\n",
    "        return next_state, reward, done, info\n",
    "\n",
    "\n",
    "# Create multiple environments\n",
    "env = CustomEnv(df=all_data, init_balance=init_balance, init_active=init_active)\n",
    "env = DummyVecEnv([lambda: env])"
   ]
  },
  {
   "cell_type": "code",
   "execution_count": 60,
   "metadata": {
    "metadata": {}
   },
   "outputs": [
    {
     "name": "stdout",
     "output_type": "stream",
     "text": [
      "Using cpu device\n",
      "-----------------------------\n",
      "| time/              |      |\n",
      "|    fps             | 125  |\n",
      "|    iterations      | 1    |\n",
      "|    time_elapsed    | 16   |\n",
      "|    total_timesteps | 2048 |\n",
      "-----------------------------\n",
      "------------------------------------------\n",
      "| time/                   |              |\n",
      "|    fps                  | 119          |\n",
      "|    iterations           | 2            |\n",
      "|    time_elapsed         | 34           |\n",
      "|    total_timesteps      | 4096         |\n",
      "| train/                  |              |\n",
      "|    approx_kl            | 0.0027503548 |\n",
      "|    clip_fraction        | 0.0197       |\n",
      "|    clip_range           | 0.2          |\n",
      "|    entropy_loss         | -1.41        |\n",
      "|    explained_variance   | -0.0656      |\n",
      "|    learning_rate        | 0.0003       |\n",
      "|    loss                 | 95.6         |\n",
      "|    n_updates            | 10           |\n",
      "|    policy_gradient_loss | 0.000572     |\n",
      "|    std                  | 0.985        |\n",
      "|    value_loss           | 193          |\n",
      "------------------------------------------\n",
      "Mean reward: 72.9864634014084 +/- 0.0\n"
     ]
    }
   ],
   "source": [
    "policy_kwargs = dict(activation_fn=nn.ReLU, net_arch=dict(pi=[20, 20], vf=[20, 20]))\n",
    "\n",
    "# Create the PPO model\n",
    "model = PPO(\"MlpPolicy\", env, verbose=1, device=\"cpu\", policy_kwargs=policy_kwargs)\n",
    "\n",
    "# Train the model\n",
    "model.learn(total_timesteps=2500)  # , progress_bar=True)\n",
    "\n",
    "# Evaluate the trained model\n",
    "mean_reward, std_reward = evaluate_policy(model, env, n_eval_episodes=2)\n",
    "print(f\"Mean reward: {mean_reward} +/- {std_reward}\")"
   ]
  },
  {
   "cell_type": "code",
   "execution_count": 61,
   "metadata": {
    "metadata": {}
   },
   "outputs": [
    {
     "name": "stdout",
     "output_type": "stream",
     "text": [
      "[[42.46575    -0.45067176  0.05483057  0.44516942]]\n",
      "[[53.94737     0.9793236   0.26998982  0.23001018]]\n",
      "[[5.3333332e+01 1.0045544e+00 4.6473113e-01 3.5388723e-02]]\n",
      "[[63.49206     0.6597164   0.          0.49983382]]\n",
      "[[59.649124    0.850015    0.          0.49983382]]\n",
      "[[48.88889     0.86629796  0.          0.49983382]]\n",
      "[[51.11111     0.86253893  0.          0.49983382]]\n"
     ]
    },
    {
     "name": "stdout",
     "output_type": "stream",
     "text": [
      "[[82.14286     0.86253893  0.          0.49983382]]\n",
      "[[87.17949     2.0831559   0.22073391  0.27926293]]\n",
      "[[85.29412     1.8733509   0.2286256   0.27138337]]\n",
      "[[93.75        1.6657321   0.          0.49962947]]\n",
      "[[96.36364     2.6980762   0.          0.49962947]]\n",
      "[[82.8125      1.6870966   0.          0.49962947]]\n",
      "[[86.56716     1.5599154   0.          0.49962947]]\n",
      "[[76.712326    0.9766236   0.13574617  0.36435813]]\n",
      "[[69.620255    0.5112316   0.07972115  0.42021456]]\n",
      "[[71.084335    0.64203644  0.50102264  0.        ]]\n",
      "[[72.72727     0.7772954   0.32246393  0.17804332]]\n",
      "[[63.75        0.35981113  0.41902605  0.08178944]]\n",
      "[[64.19753     0.43969142  0.50105226  0.        ]]\n"
     ]
    }
   ],
   "source": [
    "# Reset the environment to get the initial observation\n",
    "obs = env.reset()\n",
    "\n",
    "num_iterations = 20\n",
    "actions_taken = []\n",
    "rewards = []\n",
    "\n",
    "for _ in range(num_iterations):\n",
    "    print(obs)\n",
    "    # Choose an action randomly (replace this with your own policy)\n",
    "    action, _ = model.predict(obs, deterministic=False)\n",
    "\n",
    "    # Take a step in the environment with the predicted action\n",
    "    obs, reward, done, _ = env.step(action)\n",
    "\n",
    "    # Save the action taken\n",
    "    actions_taken.append(action)\n",
    "    rewards.append(reward)\n",
    "\n",
    "    if done:\n",
    "        break"
   ]
  },
  {
   "cell_type": "code",
   "execution_count": 62,
   "metadata": {
    "metadata": {}
   },
   "outputs": [
    {
     "data": {
      "text/html": [
       "<div>\n",
       "<style scoped>\n",
       "    .dataframe tbody tr th:only-of-type {\n",
       "        vertical-align: middle;\n",
       "    }\n",
       "\n",
       "    .dataframe tbody tr th {\n",
       "        vertical-align: top;\n",
       "    }\n",
       "\n",
       "    .dataframe thead th {\n",
       "        text-align: right;\n",
       "    }\n",
       "</style>\n",
       "<table border=\"1\" class=\"dataframe\">\n",
       "  <thead>\n",
       "    <tr style=\"text-align: right;\">\n",
       "      <th></th>\n",
       "      <th>rsi</th>\n",
       "      <th>bb</th>\n",
       "      <th>target</th>\n",
       "      <th>open</th>\n",
       "      <th>high</th>\n",
       "      <th>low</th>\n",
       "      <th>close</th>\n",
       "      <th>volume</th>\n",
       "      <th>actions</th>\n",
       "      <th>rewards</th>\n",
       "    </tr>\n",
       "  </thead>\n",
       "  <tbody>\n",
       "    <tr>\n",
       "      <th>0</th>\n",
       "      <td>42.465753</td>\n",
       "      <td>-0.450672</td>\n",
       "      <td>1</td>\n",
       "      <td>162.41</td>\n",
       "      <td>162.50</td>\n",
       "      <td>162.37</td>\n",
       "      <td>162.38</td>\n",
       "      <td>102660.0</td>\n",
       "      <td>-0.483320</td>\n",
       "      <td>2.832556</td>\n",
       "    </tr>\n",
       "    <tr>\n",
       "      <th>1</th>\n",
       "      <td>53.947368</td>\n",
       "      <td>0.979324</td>\n",
       "      <td>1</td>\n",
       "      <td>162.37</td>\n",
       "      <td>162.50</td>\n",
       "      <td>162.37</td>\n",
       "      <td>162.48</td>\n",
       "      <td>70060.0</td>\n",
       "      <td>-0.846143</td>\n",
       "      <td>0.000000</td>\n",
       "    </tr>\n",
       "    <tr>\n",
       "      <th>2</th>\n",
       "      <td>53.333333</td>\n",
       "      <td>1.004554</td>\n",
       "      <td>1</td>\n",
       "      <td>162.48</td>\n",
       "      <td>162.50</td>\n",
       "      <td>162.46</td>\n",
       "      <td>162.48</td>\n",
       "      <td>18360.0</td>\n",
       "      <td>1.000000</td>\n",
       "      <td>-1.229859</td>\n",
       "    </tr>\n",
       "    <tr>\n",
       "      <th>3</th>\n",
       "      <td>63.492063</td>\n",
       "      <td>0.659716</td>\n",
       "      <td>1</td>\n",
       "      <td>162.49</td>\n",
       "      <td>162.49</td>\n",
       "      <td>162.39</td>\n",
       "      <td>162.46</td>\n",
       "      <td>39080.0</td>\n",
       "      <td>1.000000</td>\n",
       "      <td>1.230010</td>\n",
       "    </tr>\n",
       "    <tr>\n",
       "      <th>4</th>\n",
       "      <td>59.649123</td>\n",
       "      <td>0.850015</td>\n",
       "      <td>1</td>\n",
       "      <td>162.46</td>\n",
       "      <td>162.50</td>\n",
       "      <td>162.45</td>\n",
       "      <td>162.48</td>\n",
       "      <td>156850.0</td>\n",
       "      <td>0.469128</td>\n",
       "      <td>0.616268</td>\n",
       "    </tr>\n",
       "    <tr>\n",
       "      <th>5</th>\n",
       "      <td>48.888889</td>\n",
       "      <td>0.866298</td>\n",
       "      <td>1</td>\n",
       "      <td>162.48</td>\n",
       "      <td>162.50</td>\n",
       "      <td>162.48</td>\n",
       "      <td>162.49</td>\n",
       "      <td>83300.0</td>\n",
       "      <td>0.308973</td>\n",
       "      <td>0.614892</td>\n",
       "    </tr>\n",
       "    <tr>\n",
       "      <th>6</th>\n",
       "      <td>51.111111</td>\n",
       "      <td>0.862539</td>\n",
       "      <td>1</td>\n",
       "      <td>162.50</td>\n",
       "      <td>162.50</td>\n",
       "      <td>162.49</td>\n",
       "      <td>162.50</td>\n",
       "      <td>52370.0</td>\n",
       "      <td>1.000000</td>\n",
       "      <td>0.000000</td>\n",
       "    </tr>\n",
       "    <tr>\n",
       "      <th>7</th>\n",
       "      <td>82.142857</td>\n",
       "      <td>0.862539</td>\n",
       "      <td>1</td>\n",
       "      <td>162.49</td>\n",
       "      <td>162.50</td>\n",
       "      <td>162.49</td>\n",
       "      <td>162.50</td>\n",
       "      <td>28020.0</td>\n",
       "      <td>-0.441288</td>\n",
       "      <td>4.469901</td>\n",
       "    </tr>\n",
       "    <tr>\n",
       "      <th>8</th>\n",
       "      <td>87.179487</td>\n",
       "      <td>2.083156</td>\n",
       "      <td>1</td>\n",
       "      <td>162.50</td>\n",
       "      <td>162.63</td>\n",
       "      <td>162.49</td>\n",
       "      <td>162.63</td>\n",
       "      <td>62910.0</td>\n",
       "      <td>-0.028216</td>\n",
       "      <td>0.668079</td>\n",
       "    </tr>\n",
       "    <tr>\n",
       "      <th>9</th>\n",
       "      <td>85.294118</td>\n",
       "      <td>1.873351</td>\n",
       "      <td>1</td>\n",
       "      <td>162.62</td>\n",
       "      <td>162.69</td>\n",
       "      <td>162.62</td>\n",
       "      <td>162.65</td>\n",
       "      <td>54210.0</td>\n",
       "      <td>1.000000</td>\n",
       "      <td>0.615207</td>\n",
       "    </tr>\n",
       "    <tr>\n",
       "      <th>10</th>\n",
       "      <td>93.750000</td>\n",
       "      <td>1.665732</td>\n",
       "      <td>1</td>\n",
       "      <td>162.65</td>\n",
       "      <td>162.67</td>\n",
       "      <td>162.64</td>\n",
       "      <td>162.66</td>\n",
       "      <td>29610.0</td>\n",
       "      <td>1.000000</td>\n",
       "      <td>20.287870</td>\n",
       "    </tr>\n",
       "    <tr>\n",
       "      <th>11</th>\n",
       "      <td>96.363636</td>\n",
       "      <td>2.698076</td>\n",
       "      <td>1</td>\n",
       "      <td>162.65</td>\n",
       "      <td>162.99</td>\n",
       "      <td>162.64</td>\n",
       "      <td>162.99</td>\n",
       "      <td>325840.0</td>\n",
       "      <td>0.655382</td>\n",
       "      <td>-5.522642</td>\n",
       "    </tr>\n",
       "    <tr>\n",
       "      <th>12</th>\n",
       "      <td>82.812500</td>\n",
       "      <td>1.687097</td>\n",
       "      <td>1</td>\n",
       "      <td>162.98</td>\n",
       "      <td>163.00</td>\n",
       "      <td>162.86</td>\n",
       "      <td>162.90</td>\n",
       "      <td>189210.0</td>\n",
       "      <td>0.664175</td>\n",
       "      <td>3.069310</td>\n",
       "    </tr>\n",
       "    <tr>\n",
       "      <th>13</th>\n",
       "      <td>86.567164</td>\n",
       "      <td>1.559915</td>\n",
       "      <td>0</td>\n",
       "      <td>162.90</td>\n",
       "      <td>163.00</td>\n",
       "      <td>162.84</td>\n",
       "      <td>162.95</td>\n",
       "      <td>236420.0</td>\n",
       "      <td>-0.270743</td>\n",
       "      <td>-3.580987</td>\n",
       "    </tr>\n",
       "    <tr>\n",
       "      <th>14</th>\n",
       "      <td>76.712329</td>\n",
       "      <td>0.976624</td>\n",
       "      <td>1</td>\n",
       "      <td>162.92</td>\n",
       "      <td>162.95</td>\n",
       "      <td>162.85</td>\n",
       "      <td>162.87</td>\n",
       "      <td>74430.0</td>\n",
       "      <td>0.412719</td>\n",
       "      <td>-3.613652</td>\n",
       "    </tr>\n",
       "    <tr>\n",
       "      <th>15</th>\n",
       "      <td>69.620253</td>\n",
       "      <td>0.511232</td>\n",
       "      <td>1</td>\n",
       "      <td>162.86</td>\n",
       "      <td>162.87</td>\n",
       "      <td>162.79</td>\n",
       "      <td>162.80</td>\n",
       "      <td>79710.0</td>\n",
       "      <td>-1.000000</td>\n",
       "      <td>0.000000</td>\n",
       "    </tr>\n",
       "    <tr>\n",
       "      <th>16</th>\n",
       "      <td>71.084337</td>\n",
       "      <td>0.642036</td>\n",
       "      <td>1</td>\n",
       "      <td>162.80</td>\n",
       "      <td>162.86</td>\n",
       "      <td>162.71</td>\n",
       "      <td>162.85</td>\n",
       "      <td>56940.0</td>\n",
       "      <td>0.356388</td>\n",
       "      <td>1.093438</td>\n",
       "    </tr>\n",
       "    <tr>\n",
       "      <th>17</th>\n",
       "      <td>72.727273</td>\n",
       "      <td>0.777295</td>\n",
       "      <td>1</td>\n",
       "      <td>162.86</td>\n",
       "      <td>162.90</td>\n",
       "      <td>162.80</td>\n",
       "      <td>162.90</td>\n",
       "      <td>20580.0</td>\n",
       "      <td>-0.540621</td>\n",
       "      <td>-0.502245</td>\n",
       "    </tr>\n",
       "    <tr>\n",
       "      <th>18</th>\n",
       "      <td>63.750000</td>\n",
       "      <td>0.359811</td>\n",
       "      <td>1</td>\n",
       "      <td>162.90</td>\n",
       "      <td>162.90</td>\n",
       "      <td>162.85</td>\n",
       "      <td>162.85</td>\n",
       "      <td>61300.0</td>\n",
       "      <td>-1.000000</td>\n",
       "      <td>0.000000</td>\n",
       "    </tr>\n",
       "    <tr>\n",
       "      <th>19</th>\n",
       "      <td>64.197531</td>\n",
       "      <td>0.439691</td>\n",
       "      <td>1</td>\n",
       "      <td>162.88</td>\n",
       "      <td>162.90</td>\n",
       "      <td>162.85</td>\n",
       "      <td>162.88</td>\n",
       "      <td>72600.0</td>\n",
       "      <td>0.910738</td>\n",
       "      <td>2.795215</td>\n",
       "    </tr>\n",
       "  </tbody>\n",
       "</table>\n",
       "</div>"
      ],
      "text/plain": [
       "          rsi        bb  target    open    high     low   close    volume  \\\n",
       "0   42.465753 -0.450672       1  162.41  162.50  162.37  162.38  102660.0   \n",
       "1   53.947368  0.979324       1  162.37  162.50  162.37  162.48   70060.0   \n",
       "2   53.333333  1.004554       1  162.48  162.50  162.46  162.48   18360.0   \n",
       "3   63.492063  0.659716       1  162.49  162.49  162.39  162.46   39080.0   \n",
       "4   59.649123  0.850015       1  162.46  162.50  162.45  162.48  156850.0   \n",
       "5   48.888889  0.866298       1  162.48  162.50  162.48  162.49   83300.0   \n",
       "6   51.111111  0.862539       1  162.50  162.50  162.49  162.50   52370.0   \n",
       "7   82.142857  0.862539       1  162.49  162.50  162.49  162.50   28020.0   \n",
       "8   87.179487  2.083156       1  162.50  162.63  162.49  162.63   62910.0   \n",
       "9   85.294118  1.873351       1  162.62  162.69  162.62  162.65   54210.0   \n",
       "10  93.750000  1.665732       1  162.65  162.67  162.64  162.66   29610.0   \n",
       "11  96.363636  2.698076       1  162.65  162.99  162.64  162.99  325840.0   \n",
       "12  82.812500  1.687097       1  162.98  163.00  162.86  162.90  189210.0   \n",
       "13  86.567164  1.559915       0  162.90  163.00  162.84  162.95  236420.0   \n",
       "14  76.712329  0.976624       1  162.92  162.95  162.85  162.87   74430.0   \n",
       "15  69.620253  0.511232       1  162.86  162.87  162.79  162.80   79710.0   \n",
       "16  71.084337  0.642036       1  162.80  162.86  162.71  162.85   56940.0   \n",
       "17  72.727273  0.777295       1  162.86  162.90  162.80  162.90   20580.0   \n",
       "18  63.750000  0.359811       1  162.90  162.90  162.85  162.85   61300.0   \n",
       "19  64.197531  0.439691       1  162.88  162.90  162.85  162.88   72600.0   \n",
       "\n",
       "     actions    rewards  \n",
       "0  -0.483320   2.832556  \n",
       "1  -0.846143   0.000000  \n",
       "2   1.000000  -1.229859  \n",
       "3   1.000000   1.230010  \n",
       "4   0.469128   0.616268  \n",
       "5   0.308973   0.614892  \n",
       "6   1.000000   0.000000  \n",
       "7  -0.441288   4.469901  \n",
       "8  -0.028216   0.668079  \n",
       "9   1.000000   0.615207  \n",
       "10  1.000000  20.287870  \n",
       "11  0.655382  -5.522642  \n",
       "12  0.664175   3.069310  \n",
       "13 -0.270743  -3.580987  \n",
       "14  0.412719  -3.613652  \n",
       "15 -1.000000   0.000000  \n",
       "16  0.356388   1.093438  \n",
       "17 -0.540621  -0.502245  \n",
       "18 -1.000000   0.000000  \n",
       "19  0.910738   2.795215  "
      ]
     },
     "execution_count": 62,
     "metadata": {},
     "output_type": "execute_result"
    }
   ],
   "source": [
    "test_df = all_data.iloc[:num_iterations, :].copy()\n",
    "test_df[\"actions\"] = np.array(actions_taken).T[0][0]\n",
    "test_df[\"rewards\"] = np.array(rewards)\n",
    "\n",
    "test_df"
   ]
  },
  {
   "cell_type": "code",
   "execution_count": 63,
   "metadata": {
    "metadata": {}
   },
   "outputs": [
    {
     "data": {
      "application/vnd.plotly.v1+json": {
       "config": {
        "plotlyServerURL": "https://plot.ly"
       },
       "data": [
        {
         "customdata": [
          [
           42.46575342465737,
           -0.45067175915546104,
           -0.4833199083805084,
           2.8325560092926025
          ],
          [
           53.94736842105253,
           0.9793236099961182,
           -0.8461428284645081,
           0
          ],
          [
           53.333333333332064,
           1.004554360476215,
           1,
           -1.2298589944839478
          ],
          [
           63.49206349206485,
           0.6597164376966684,
           1,
           1.2300103902816772
          ],
          [
           59.64912280701684,
           0.8500149840275152,
           0.46912795305252075,
           0.6162678003311157
          ],
          [
           48.88888888888987,
           0.8662979530922168,
           0.30897313356399536,
           0.6148915886878967
          ],
          [
           51.11111111111012,
           0.862538904780865,
           1,
           0
          ],
          [
           82.14285714286149,
           0.8625389047813041,
           -0.44128847122192383,
           4.469900608062744
          ],
          [
           87.17948717949017,
           2.083155767152131,
           -0.028215527534484863,
           0.6680789589881897
          ],
          [
           85.29411764706276,
           1.8733508997701955,
           1,
           0.6152067184448242
          ],
          [
           93.750000000005,
           1.6657321744893867,
           1,
           20.287870407104492
          ],
          [
           96.36363636363956,
           2.6980763586768286,
           0.6553820967674255,
           -5.522641658782959
          ],
          [
           82.81250000000195,
           1.6870965771445037,
           0.664175271987915,
           3.069309949874878
          ],
          [
           86.56716417910371,
           1.5599154548364422,
           -0.27074331045150757,
           -3.580986738204956
          ],
          [
           76.71232876712467,
           0.9766235985094692,
           0.4127189815044403,
           -3.613651990890503
          ],
          [
           69.62025316455801,
           0.5112315928781678,
           -1,
           0
          ],
          [
           71.08433734939837,
           0.6420364179915335,
           0.3563884198665619,
           1.0934380292892456
          ],
          [
           72.7272727272739,
           0.7772953892894918,
           -0.5406205654144287,
           -0.5022452473640442
          ],
          [
           63.75000000000023,
           0.35981111293807927,
           -1,
           0
          ],
          [
           64.19753086419736,
           0.439691426949211,
           0.9107379913330078,
           2.795215368270874
          ]
         ],
         "hovertemplate": "index=%{x}<br>close=%{y}<br>rsi=%{customdata[0]}<br>bb=%{customdata[1]}<br>actions=%{customdata[2]}<br>rewards=%{customdata[3]}<extra></extra>",
         "legendgroup": "",
         "line": {
          "color": "#636efa",
          "dash": "solid"
         },
         "marker": {
          "symbol": "circle"
         },
         "mode": "markers+lines",
         "name": "",
         "orientation": "v",
         "showlegend": false,
         "type": "scatter",
         "x": [
          0,
          1,
          2,
          3,
          4,
          5,
          6,
          7,
          8,
          9,
          10,
          11,
          12,
          13,
          14,
          15,
          16,
          17,
          18,
          19
         ],
         "xaxis": "x",
         "y": [
          162.38,
          162.48,
          162.48,
          162.46,
          162.48,
          162.49,
          162.5,
          162.5,
          162.63,
          162.65,
          162.66,
          162.99,
          162.9,
          162.95,
          162.87,
          162.8,
          162.85,
          162.9,
          162.85,
          162.88
         ],
         "yaxis": "y"
        }
       ],
       "layout": {
        "legend": {
         "tracegroupgap": 0
        },
        "margin": {
         "t": 60
        },
        "template": {
         "data": {
          "bar": [
           {
            "error_x": {
             "color": "#2a3f5f"
            },
            "error_y": {
             "color": "#2a3f5f"
            },
            "marker": {
             "line": {
              "color": "#E5ECF6",
              "width": 0.5
             },
             "pattern": {
              "fillmode": "overlay",
              "size": 10,
              "solidity": 0.2
             }
            },
            "type": "bar"
           }
          ],
          "barpolar": [
           {
            "marker": {
             "line": {
              "color": "#E5ECF6",
              "width": 0.5
             },
             "pattern": {
              "fillmode": "overlay",
              "size": 10,
              "solidity": 0.2
             }
            },
            "type": "barpolar"
           }
          ],
          "carpet": [
           {
            "aaxis": {
             "endlinecolor": "#2a3f5f",
             "gridcolor": "white",
             "linecolor": "white",
             "minorgridcolor": "white",
             "startlinecolor": "#2a3f5f"
            },
            "baxis": {
             "endlinecolor": "#2a3f5f",
             "gridcolor": "white",
             "linecolor": "white",
             "minorgridcolor": "white",
             "startlinecolor": "#2a3f5f"
            },
            "type": "carpet"
           }
          ],
          "choropleth": [
           {
            "colorbar": {
             "outlinewidth": 0,
             "ticks": ""
            },
            "type": "choropleth"
           }
          ],
          "contour": [
           {
            "colorbar": {
             "outlinewidth": 0,
             "ticks": ""
            },
            "colorscale": [
             [
              0,
              "#0d0887"
             ],
             [
              0.1111111111111111,
              "#46039f"
             ],
             [
              0.2222222222222222,
              "#7201a8"
             ],
             [
              0.3333333333333333,
              "#9c179e"
             ],
             [
              0.4444444444444444,
              "#bd3786"
             ],
             [
              0.5555555555555556,
              "#d8576b"
             ],
             [
              0.6666666666666666,
              "#ed7953"
             ],
             [
              0.7777777777777778,
              "#fb9f3a"
             ],
             [
              0.8888888888888888,
              "#fdca26"
             ],
             [
              1,
              "#f0f921"
             ]
            ],
            "type": "contour"
           }
          ],
          "contourcarpet": [
           {
            "colorbar": {
             "outlinewidth": 0,
             "ticks": ""
            },
            "type": "contourcarpet"
           }
          ],
          "heatmap": [
           {
            "colorbar": {
             "outlinewidth": 0,
             "ticks": ""
            },
            "colorscale": [
             [
              0,
              "#0d0887"
             ],
             [
              0.1111111111111111,
              "#46039f"
             ],
             [
              0.2222222222222222,
              "#7201a8"
             ],
             [
              0.3333333333333333,
              "#9c179e"
             ],
             [
              0.4444444444444444,
              "#bd3786"
             ],
             [
              0.5555555555555556,
              "#d8576b"
             ],
             [
              0.6666666666666666,
              "#ed7953"
             ],
             [
              0.7777777777777778,
              "#fb9f3a"
             ],
             [
              0.8888888888888888,
              "#fdca26"
             ],
             [
              1,
              "#f0f921"
             ]
            ],
            "type": "heatmap"
           }
          ],
          "heatmapgl": [
           {
            "colorbar": {
             "outlinewidth": 0,
             "ticks": ""
            },
            "colorscale": [
             [
              0,
              "#0d0887"
             ],
             [
              0.1111111111111111,
              "#46039f"
             ],
             [
              0.2222222222222222,
              "#7201a8"
             ],
             [
              0.3333333333333333,
              "#9c179e"
             ],
             [
              0.4444444444444444,
              "#bd3786"
             ],
             [
              0.5555555555555556,
              "#d8576b"
             ],
             [
              0.6666666666666666,
              "#ed7953"
             ],
             [
              0.7777777777777778,
              "#fb9f3a"
             ],
             [
              0.8888888888888888,
              "#fdca26"
             ],
             [
              1,
              "#f0f921"
             ]
            ],
            "type": "heatmapgl"
           }
          ],
          "histogram": [
           {
            "marker": {
             "pattern": {
              "fillmode": "overlay",
              "size": 10,
              "solidity": 0.2
             }
            },
            "type": "histogram"
           }
          ],
          "histogram2d": [
           {
            "colorbar": {
             "outlinewidth": 0,
             "ticks": ""
            },
            "colorscale": [
             [
              0,
              "#0d0887"
             ],
             [
              0.1111111111111111,
              "#46039f"
             ],
             [
              0.2222222222222222,
              "#7201a8"
             ],
             [
              0.3333333333333333,
              "#9c179e"
             ],
             [
              0.4444444444444444,
              "#bd3786"
             ],
             [
              0.5555555555555556,
              "#d8576b"
             ],
             [
              0.6666666666666666,
              "#ed7953"
             ],
             [
              0.7777777777777778,
              "#fb9f3a"
             ],
             [
              0.8888888888888888,
              "#fdca26"
             ],
             [
              1,
              "#f0f921"
             ]
            ],
            "type": "histogram2d"
           }
          ],
          "histogram2dcontour": [
           {
            "colorbar": {
             "outlinewidth": 0,
             "ticks": ""
            },
            "colorscale": [
             [
              0,
              "#0d0887"
             ],
             [
              0.1111111111111111,
              "#46039f"
             ],
             [
              0.2222222222222222,
              "#7201a8"
             ],
             [
              0.3333333333333333,
              "#9c179e"
             ],
             [
              0.4444444444444444,
              "#bd3786"
             ],
             [
              0.5555555555555556,
              "#d8576b"
             ],
             [
              0.6666666666666666,
              "#ed7953"
             ],
             [
              0.7777777777777778,
              "#fb9f3a"
             ],
             [
              0.8888888888888888,
              "#fdca26"
             ],
             [
              1,
              "#f0f921"
             ]
            ],
            "type": "histogram2dcontour"
           }
          ],
          "mesh3d": [
           {
            "colorbar": {
             "outlinewidth": 0,
             "ticks": ""
            },
            "type": "mesh3d"
           }
          ],
          "parcoords": [
           {
            "line": {
             "colorbar": {
              "outlinewidth": 0,
              "ticks": ""
             }
            },
            "type": "parcoords"
           }
          ],
          "pie": [
           {
            "automargin": true,
            "type": "pie"
           }
          ],
          "scatter": [
           {
            "fillpattern": {
             "fillmode": "overlay",
             "size": 10,
             "solidity": 0.2
            },
            "type": "scatter"
           }
          ],
          "scatter3d": [
           {
            "line": {
             "colorbar": {
              "outlinewidth": 0,
              "ticks": ""
             }
            },
            "marker": {
             "colorbar": {
              "outlinewidth": 0,
              "ticks": ""
             }
            },
            "type": "scatter3d"
           }
          ],
          "scattercarpet": [
           {
            "marker": {
             "colorbar": {
              "outlinewidth": 0,
              "ticks": ""
             }
            },
            "type": "scattercarpet"
           }
          ],
          "scattergeo": [
           {
            "marker": {
             "colorbar": {
              "outlinewidth": 0,
              "ticks": ""
             }
            },
            "type": "scattergeo"
           }
          ],
          "scattergl": [
           {
            "marker": {
             "colorbar": {
              "outlinewidth": 0,
              "ticks": ""
             }
            },
            "type": "scattergl"
           }
          ],
          "scattermapbox": [
           {
            "marker": {
             "colorbar": {
              "outlinewidth": 0,
              "ticks": ""
             }
            },
            "type": "scattermapbox"
           }
          ],
          "scatterpolar": [
           {
            "marker": {
             "colorbar": {
              "outlinewidth": 0,
              "ticks": ""
             }
            },
            "type": "scatterpolar"
           }
          ],
          "scatterpolargl": [
           {
            "marker": {
             "colorbar": {
              "outlinewidth": 0,
              "ticks": ""
             }
            },
            "type": "scatterpolargl"
           }
          ],
          "scatterternary": [
           {
            "marker": {
             "colorbar": {
              "outlinewidth": 0,
              "ticks": ""
             }
            },
            "type": "scatterternary"
           }
          ],
          "surface": [
           {
            "colorbar": {
             "outlinewidth": 0,
             "ticks": ""
            },
            "colorscale": [
             [
              0,
              "#0d0887"
             ],
             [
              0.1111111111111111,
              "#46039f"
             ],
             [
              0.2222222222222222,
              "#7201a8"
             ],
             [
              0.3333333333333333,
              "#9c179e"
             ],
             [
              0.4444444444444444,
              "#bd3786"
             ],
             [
              0.5555555555555556,
              "#d8576b"
             ],
             [
              0.6666666666666666,
              "#ed7953"
             ],
             [
              0.7777777777777778,
              "#fb9f3a"
             ],
             [
              0.8888888888888888,
              "#fdca26"
             ],
             [
              1,
              "#f0f921"
             ]
            ],
            "type": "surface"
           }
          ],
          "table": [
           {
            "cells": {
             "fill": {
              "color": "#EBF0F8"
             },
             "line": {
              "color": "white"
             }
            },
            "header": {
             "fill": {
              "color": "#C8D4E3"
             },
             "line": {
              "color": "white"
             }
            },
            "type": "table"
           }
          ]
         },
         "layout": {
          "annotationdefaults": {
           "arrowcolor": "#2a3f5f",
           "arrowhead": 0,
           "arrowwidth": 1
          },
          "autotypenumbers": "strict",
          "coloraxis": {
           "colorbar": {
            "outlinewidth": 0,
            "ticks": ""
           }
          },
          "colorscale": {
           "diverging": [
            [
             0,
             "#8e0152"
            ],
            [
             0.1,
             "#c51b7d"
            ],
            [
             0.2,
             "#de77ae"
            ],
            [
             0.3,
             "#f1b6da"
            ],
            [
             0.4,
             "#fde0ef"
            ],
            [
             0.5,
             "#f7f7f7"
            ],
            [
             0.6,
             "#e6f5d0"
            ],
            [
             0.7,
             "#b8e186"
            ],
            [
             0.8,
             "#7fbc41"
            ],
            [
             0.9,
             "#4d9221"
            ],
            [
             1,
             "#276419"
            ]
           ],
           "sequential": [
            [
             0,
             "#0d0887"
            ],
            [
             0.1111111111111111,
             "#46039f"
            ],
            [
             0.2222222222222222,
             "#7201a8"
            ],
            [
             0.3333333333333333,
             "#9c179e"
            ],
            [
             0.4444444444444444,
             "#bd3786"
            ],
            [
             0.5555555555555556,
             "#d8576b"
            ],
            [
             0.6666666666666666,
             "#ed7953"
            ],
            [
             0.7777777777777778,
             "#fb9f3a"
            ],
            [
             0.8888888888888888,
             "#fdca26"
            ],
            [
             1,
             "#f0f921"
            ]
           ],
           "sequentialminus": [
            [
             0,
             "#0d0887"
            ],
            [
             0.1111111111111111,
             "#46039f"
            ],
            [
             0.2222222222222222,
             "#7201a8"
            ],
            [
             0.3333333333333333,
             "#9c179e"
            ],
            [
             0.4444444444444444,
             "#bd3786"
            ],
            [
             0.5555555555555556,
             "#d8576b"
            ],
            [
             0.6666666666666666,
             "#ed7953"
            ],
            [
             0.7777777777777778,
             "#fb9f3a"
            ],
            [
             0.8888888888888888,
             "#fdca26"
            ],
            [
             1,
             "#f0f921"
            ]
           ]
          },
          "colorway": [
           "#636efa",
           "#EF553B",
           "#00cc96",
           "#ab63fa",
           "#FFA15A",
           "#19d3f3",
           "#FF6692",
           "#B6E880",
           "#FF97FF",
           "#FECB52"
          ],
          "font": {
           "color": "#2a3f5f"
          },
          "geo": {
           "bgcolor": "white",
           "lakecolor": "white",
           "landcolor": "#E5ECF6",
           "showlakes": true,
           "showland": true,
           "subunitcolor": "white"
          },
          "hoverlabel": {
           "align": "left"
          },
          "hovermode": "closest",
          "mapbox": {
           "style": "light"
          },
          "paper_bgcolor": "white",
          "plot_bgcolor": "#E5ECF6",
          "polar": {
           "angularaxis": {
            "gridcolor": "white",
            "linecolor": "white",
            "ticks": ""
           },
           "bgcolor": "#E5ECF6",
           "radialaxis": {
            "gridcolor": "white",
            "linecolor": "white",
            "ticks": ""
           }
          },
          "scene": {
           "xaxis": {
            "backgroundcolor": "#E5ECF6",
            "gridcolor": "white",
            "gridwidth": 2,
            "linecolor": "white",
            "showbackground": true,
            "ticks": "",
            "zerolinecolor": "white"
           },
           "yaxis": {
            "backgroundcolor": "#E5ECF6",
            "gridcolor": "white",
            "gridwidth": 2,
            "linecolor": "white",
            "showbackground": true,
            "ticks": "",
            "zerolinecolor": "white"
           },
           "zaxis": {
            "backgroundcolor": "#E5ECF6",
            "gridcolor": "white",
            "gridwidth": 2,
            "linecolor": "white",
            "showbackground": true,
            "ticks": "",
            "zerolinecolor": "white"
           }
          },
          "shapedefaults": {
           "line": {
            "color": "#2a3f5f"
           }
          },
          "ternary": {
           "aaxis": {
            "gridcolor": "white",
            "linecolor": "white",
            "ticks": ""
           },
           "baxis": {
            "gridcolor": "white",
            "linecolor": "white",
            "ticks": ""
           },
           "bgcolor": "#E5ECF6",
           "caxis": {
            "gridcolor": "white",
            "linecolor": "white",
            "ticks": ""
           }
          },
          "title": {
           "x": 0.05
          },
          "xaxis": {
           "automargin": true,
           "gridcolor": "white",
           "linecolor": "white",
           "ticks": "",
           "title": {
            "standoff": 15
           },
           "zerolinecolor": "white",
           "zerolinewidth": 2
          },
          "yaxis": {
           "automargin": true,
           "gridcolor": "white",
           "linecolor": "white",
           "ticks": "",
           "title": {
            "standoff": 15
           },
           "zerolinecolor": "white",
           "zerolinewidth": 2
          }
         }
        },
        "xaxis": {
         "anchor": "y",
         "domain": [
          0,
          1
         ],
         "title": {
          "text": "index"
         }
        },
        "yaxis": {
         "anchor": "x",
         "domain": [
          0,
          1
         ],
         "title": {
          "text": "close"
         }
        }
       }
      },
      "text/html": [
       "<div>                            <div id=\"622f56f8-20d2-487e-bebd-7bd0bd2ef3cb\" class=\"plotly-graph-div\" style=\"height:525px; width:100%;\"></div>            <script type=\"text/javascript\">                require([\"plotly\"], function(Plotly) {                    window.PLOTLYENV=window.PLOTLYENV || {};                                    if (document.getElementById(\"622f56f8-20d2-487e-bebd-7bd0bd2ef3cb\")) {                    Plotly.newPlot(                        \"622f56f8-20d2-487e-bebd-7bd0bd2ef3cb\",                        [{\"customdata\":[[42.46575342465737,-0.45067175915546104,-0.4833199083805084,2.8325560092926025],[53.94736842105253,0.9793236099961182,-0.8461428284645081,0.0],[53.333333333332064,1.004554360476215,1.0,-1.2298589944839478],[63.49206349206485,0.6597164376966684,1.0,1.2300103902816772],[59.64912280701684,0.8500149840275152,0.46912795305252075,0.6162678003311157],[48.88888888888987,0.8662979530922168,0.30897313356399536,0.6148915886878967],[51.11111111111012,0.862538904780865,1.0,0.0],[82.14285714286149,0.8625389047813041,-0.44128847122192383,4.469900608062744],[87.17948717949017,2.083155767152131,-0.028215527534484863,0.6680789589881897],[85.29411764706276,1.8733508997701955,1.0,0.6152067184448242],[93.750000000005,1.6657321744893867,1.0,20.287870407104492],[96.36363636363956,2.6980763586768286,0.6553820967674255,-5.522641658782959],[82.81250000000195,1.6870965771445037,0.664175271987915,3.069309949874878],[86.56716417910371,1.5599154548364422,-0.27074331045150757,-3.580986738204956],[76.71232876712467,0.9766235985094692,0.4127189815044403,-3.613651990890503],[69.62025316455801,0.5112315928781678,-1.0,0.0],[71.08433734939837,0.6420364179915335,0.3563884198665619,1.0934380292892456],[72.7272727272739,0.7772953892894918,-0.5406205654144287,-0.5022452473640442],[63.75000000000023,0.35981111293807927,-1.0,0.0],[64.19753086419736,0.439691426949211,0.9107379913330078,2.795215368270874]],\"hovertemplate\":\"index=%{x}\\u003cbr\\u003eclose=%{y}\\u003cbr\\u003ersi=%{customdata[0]}\\u003cbr\\u003ebb=%{customdata[1]}\\u003cbr\\u003eactions=%{customdata[2]}\\u003cbr\\u003erewards=%{customdata[3]}\\u003cextra\\u003e\\u003c\\u002fextra\\u003e\",\"legendgroup\":\"\",\"line\":{\"color\":\"#636efa\",\"dash\":\"solid\"},\"marker\":{\"symbol\":\"circle\"},\"mode\":\"markers+lines\",\"name\":\"\",\"orientation\":\"v\",\"showlegend\":false,\"x\":[0,1,2,3,4,5,6,7,8,9,10,11,12,13,14,15,16,17,18,19],\"xaxis\":\"x\",\"y\":[162.38,162.48,162.48,162.46,162.48,162.49,162.5,162.5,162.63,162.65,162.66,162.99,162.9,162.95,162.87,162.8,162.85,162.9,162.85,162.88],\"yaxis\":\"y\",\"type\":\"scatter\"}],                        {\"template\":{\"data\":{\"histogram2dcontour\":[{\"type\":\"histogram2dcontour\",\"colorbar\":{\"outlinewidth\":0,\"ticks\":\"\"},\"colorscale\":[[0.0,\"#0d0887\"],[0.1111111111111111,\"#46039f\"],[0.2222222222222222,\"#7201a8\"],[0.3333333333333333,\"#9c179e\"],[0.4444444444444444,\"#bd3786\"],[0.5555555555555556,\"#d8576b\"],[0.6666666666666666,\"#ed7953\"],[0.7777777777777778,\"#fb9f3a\"],[0.8888888888888888,\"#fdca26\"],[1.0,\"#f0f921\"]]}],\"choropleth\":[{\"type\":\"choropleth\",\"colorbar\":{\"outlinewidth\":0,\"ticks\":\"\"}}],\"histogram2d\":[{\"type\":\"histogram2d\",\"colorbar\":{\"outlinewidth\":0,\"ticks\":\"\"},\"colorscale\":[[0.0,\"#0d0887\"],[0.1111111111111111,\"#46039f\"],[0.2222222222222222,\"#7201a8\"],[0.3333333333333333,\"#9c179e\"],[0.4444444444444444,\"#bd3786\"],[0.5555555555555556,\"#d8576b\"],[0.6666666666666666,\"#ed7953\"],[0.7777777777777778,\"#fb9f3a\"],[0.8888888888888888,\"#fdca26\"],[1.0,\"#f0f921\"]]}],\"heatmap\":[{\"type\":\"heatmap\",\"colorbar\":{\"outlinewidth\":0,\"ticks\":\"\"},\"colorscale\":[[0.0,\"#0d0887\"],[0.1111111111111111,\"#46039f\"],[0.2222222222222222,\"#7201a8\"],[0.3333333333333333,\"#9c179e\"],[0.4444444444444444,\"#bd3786\"],[0.5555555555555556,\"#d8576b\"],[0.6666666666666666,\"#ed7953\"],[0.7777777777777778,\"#fb9f3a\"],[0.8888888888888888,\"#fdca26\"],[1.0,\"#f0f921\"]]}],\"heatmapgl\":[{\"type\":\"heatmapgl\",\"colorbar\":{\"outlinewidth\":0,\"ticks\":\"\"},\"colorscale\":[[0.0,\"#0d0887\"],[0.1111111111111111,\"#46039f\"],[0.2222222222222222,\"#7201a8\"],[0.3333333333333333,\"#9c179e\"],[0.4444444444444444,\"#bd3786\"],[0.5555555555555556,\"#d8576b\"],[0.6666666666666666,\"#ed7953\"],[0.7777777777777778,\"#fb9f3a\"],[0.8888888888888888,\"#fdca26\"],[1.0,\"#f0f921\"]]}],\"contourcarpet\":[{\"type\":\"contourcarpet\",\"colorbar\":{\"outlinewidth\":0,\"ticks\":\"\"}}],\"contour\":[{\"type\":\"contour\",\"colorbar\":{\"outlinewidth\":0,\"ticks\":\"\"},\"colorscale\":[[0.0,\"#0d0887\"],[0.1111111111111111,\"#46039f\"],[0.2222222222222222,\"#7201a8\"],[0.3333333333333333,\"#9c179e\"],[0.4444444444444444,\"#bd3786\"],[0.5555555555555556,\"#d8576b\"],[0.6666666666666666,\"#ed7953\"],[0.7777777777777778,\"#fb9f3a\"],[0.8888888888888888,\"#fdca26\"],[1.0,\"#f0f921\"]]}],\"surface\":[{\"type\":\"surface\",\"colorbar\":{\"outlinewidth\":0,\"ticks\":\"\"},\"colorscale\":[[0.0,\"#0d0887\"],[0.1111111111111111,\"#46039f\"],[0.2222222222222222,\"#7201a8\"],[0.3333333333333333,\"#9c179e\"],[0.4444444444444444,\"#bd3786\"],[0.5555555555555556,\"#d8576b\"],[0.6666666666666666,\"#ed7953\"],[0.7777777777777778,\"#fb9f3a\"],[0.8888888888888888,\"#fdca26\"],[1.0,\"#f0f921\"]]}],\"mesh3d\":[{\"type\":\"mesh3d\",\"colorbar\":{\"outlinewidth\":0,\"ticks\":\"\"}}],\"scatter\":[{\"fillpattern\":{\"fillmode\":\"overlay\",\"size\":10,\"solidity\":0.2},\"type\":\"scatter\"}],\"parcoords\":[{\"type\":\"parcoords\",\"line\":{\"colorbar\":{\"outlinewidth\":0,\"ticks\":\"\"}}}],\"scatterpolargl\":[{\"type\":\"scatterpolargl\",\"marker\":{\"colorbar\":{\"outlinewidth\":0,\"ticks\":\"\"}}}],\"bar\":[{\"error_x\":{\"color\":\"#2a3f5f\"},\"error_y\":{\"color\":\"#2a3f5f\"},\"marker\":{\"line\":{\"color\":\"#E5ECF6\",\"width\":0.5},\"pattern\":{\"fillmode\":\"overlay\",\"size\":10,\"solidity\":0.2}},\"type\":\"bar\"}],\"scattergeo\":[{\"type\":\"scattergeo\",\"marker\":{\"colorbar\":{\"outlinewidth\":0,\"ticks\":\"\"}}}],\"scatterpolar\":[{\"type\":\"scatterpolar\",\"marker\":{\"colorbar\":{\"outlinewidth\":0,\"ticks\":\"\"}}}],\"histogram\":[{\"marker\":{\"pattern\":{\"fillmode\":\"overlay\",\"size\":10,\"solidity\":0.2}},\"type\":\"histogram\"}],\"scattergl\":[{\"type\":\"scattergl\",\"marker\":{\"colorbar\":{\"outlinewidth\":0,\"ticks\":\"\"}}}],\"scatter3d\":[{\"type\":\"scatter3d\",\"line\":{\"colorbar\":{\"outlinewidth\":0,\"ticks\":\"\"}},\"marker\":{\"colorbar\":{\"outlinewidth\":0,\"ticks\":\"\"}}}],\"scattermapbox\":[{\"type\":\"scattermapbox\",\"marker\":{\"colorbar\":{\"outlinewidth\":0,\"ticks\":\"\"}}}],\"scatterternary\":[{\"type\":\"scatterternary\",\"marker\":{\"colorbar\":{\"outlinewidth\":0,\"ticks\":\"\"}}}],\"scattercarpet\":[{\"type\":\"scattercarpet\",\"marker\":{\"colorbar\":{\"outlinewidth\":0,\"ticks\":\"\"}}}],\"carpet\":[{\"aaxis\":{\"endlinecolor\":\"#2a3f5f\",\"gridcolor\":\"white\",\"linecolor\":\"white\",\"minorgridcolor\":\"white\",\"startlinecolor\":\"#2a3f5f\"},\"baxis\":{\"endlinecolor\":\"#2a3f5f\",\"gridcolor\":\"white\",\"linecolor\":\"white\",\"minorgridcolor\":\"white\",\"startlinecolor\":\"#2a3f5f\"},\"type\":\"carpet\"}],\"table\":[{\"cells\":{\"fill\":{\"color\":\"#EBF0F8\"},\"line\":{\"color\":\"white\"}},\"header\":{\"fill\":{\"color\":\"#C8D4E3\"},\"line\":{\"color\":\"white\"}},\"type\":\"table\"}],\"barpolar\":[{\"marker\":{\"line\":{\"color\":\"#E5ECF6\",\"width\":0.5},\"pattern\":{\"fillmode\":\"overlay\",\"size\":10,\"solidity\":0.2}},\"type\":\"barpolar\"}],\"pie\":[{\"automargin\":true,\"type\":\"pie\"}]},\"layout\":{\"autotypenumbers\":\"strict\",\"colorway\":[\"#636efa\",\"#EF553B\",\"#00cc96\",\"#ab63fa\",\"#FFA15A\",\"#19d3f3\",\"#FF6692\",\"#B6E880\",\"#FF97FF\",\"#FECB52\"],\"font\":{\"color\":\"#2a3f5f\"},\"hovermode\":\"closest\",\"hoverlabel\":{\"align\":\"left\"},\"paper_bgcolor\":\"white\",\"plot_bgcolor\":\"#E5ECF6\",\"polar\":{\"bgcolor\":\"#E5ECF6\",\"angularaxis\":{\"gridcolor\":\"white\",\"linecolor\":\"white\",\"ticks\":\"\"},\"radialaxis\":{\"gridcolor\":\"white\",\"linecolor\":\"white\",\"ticks\":\"\"}},\"ternary\":{\"bgcolor\":\"#E5ECF6\",\"aaxis\":{\"gridcolor\":\"white\",\"linecolor\":\"white\",\"ticks\":\"\"},\"baxis\":{\"gridcolor\":\"white\",\"linecolor\":\"white\",\"ticks\":\"\"},\"caxis\":{\"gridcolor\":\"white\",\"linecolor\":\"white\",\"ticks\":\"\"}},\"coloraxis\":{\"colorbar\":{\"outlinewidth\":0,\"ticks\":\"\"}},\"colorscale\":{\"sequential\":[[0.0,\"#0d0887\"],[0.1111111111111111,\"#46039f\"],[0.2222222222222222,\"#7201a8\"],[0.3333333333333333,\"#9c179e\"],[0.4444444444444444,\"#bd3786\"],[0.5555555555555556,\"#d8576b\"],[0.6666666666666666,\"#ed7953\"],[0.7777777777777778,\"#fb9f3a\"],[0.8888888888888888,\"#fdca26\"],[1.0,\"#f0f921\"]],\"sequentialminus\":[[0.0,\"#0d0887\"],[0.1111111111111111,\"#46039f\"],[0.2222222222222222,\"#7201a8\"],[0.3333333333333333,\"#9c179e\"],[0.4444444444444444,\"#bd3786\"],[0.5555555555555556,\"#d8576b\"],[0.6666666666666666,\"#ed7953\"],[0.7777777777777778,\"#fb9f3a\"],[0.8888888888888888,\"#fdca26\"],[1.0,\"#f0f921\"]],\"diverging\":[[0,\"#8e0152\"],[0.1,\"#c51b7d\"],[0.2,\"#de77ae\"],[0.3,\"#f1b6da\"],[0.4,\"#fde0ef\"],[0.5,\"#f7f7f7\"],[0.6,\"#e6f5d0\"],[0.7,\"#b8e186\"],[0.8,\"#7fbc41\"],[0.9,\"#4d9221\"],[1,\"#276419\"]]},\"xaxis\":{\"gridcolor\":\"white\",\"linecolor\":\"white\",\"ticks\":\"\",\"title\":{\"standoff\":15},\"zerolinecolor\":\"white\",\"automargin\":true,\"zerolinewidth\":2},\"yaxis\":{\"gridcolor\":\"white\",\"linecolor\":\"white\",\"ticks\":\"\",\"title\":{\"standoff\":15},\"zerolinecolor\":\"white\",\"automargin\":true,\"zerolinewidth\":2},\"scene\":{\"xaxis\":{\"backgroundcolor\":\"#E5ECF6\",\"gridcolor\":\"white\",\"linecolor\":\"white\",\"showbackground\":true,\"ticks\":\"\",\"zerolinecolor\":\"white\",\"gridwidth\":2},\"yaxis\":{\"backgroundcolor\":\"#E5ECF6\",\"gridcolor\":\"white\",\"linecolor\":\"white\",\"showbackground\":true,\"ticks\":\"\",\"zerolinecolor\":\"white\",\"gridwidth\":2},\"zaxis\":{\"backgroundcolor\":\"#E5ECF6\",\"gridcolor\":\"white\",\"linecolor\":\"white\",\"showbackground\":true,\"ticks\":\"\",\"zerolinecolor\":\"white\",\"gridwidth\":2}},\"shapedefaults\":{\"line\":{\"color\":\"#2a3f5f\"}},\"annotationdefaults\":{\"arrowcolor\":\"#2a3f5f\",\"arrowhead\":0,\"arrowwidth\":1},\"geo\":{\"bgcolor\":\"white\",\"landcolor\":\"#E5ECF6\",\"subunitcolor\":\"white\",\"showland\":true,\"showlakes\":true,\"lakecolor\":\"white\"},\"title\":{\"x\":0.05},\"mapbox\":{\"style\":\"light\"}}},\"xaxis\":{\"anchor\":\"y\",\"domain\":[0.0,1.0],\"title\":{\"text\":\"index\"}},\"yaxis\":{\"anchor\":\"x\",\"domain\":[0.0,1.0],\"title\":{\"text\":\"close\"}},\"legend\":{\"tracegroupgap\":0},\"margin\":{\"t\":60}},                        {\"responsive\": true}                    ).then(function(){\n",
       "                            \n",
       "var gd = document.getElementById('622f56f8-20d2-487e-bebd-7bd0bd2ef3cb');\n",
       "var x = new MutationObserver(function (mutations, observer) {{\n",
       "        var display = window.getComputedStyle(gd).display;\n",
       "        if (!display || display === 'none') {{\n",
       "            console.log([gd, 'removed!']);\n",
       "            Plotly.purge(gd);\n",
       "            observer.disconnect();\n",
       "        }}\n",
       "}});\n",
       "\n",
       "// Listen for the removal of the full notebook cells\n",
       "var notebookContainer = gd.closest('#notebook-container');\n",
       "if (notebookContainer) {{\n",
       "    x.observe(notebookContainer, {childList: true});\n",
       "}}\n",
       "\n",
       "// Listen for the clearing of the current output cell\n",
       "var outputEl = gd.closest('.output');\n",
       "if (outputEl) {{\n",
       "    x.observe(outputEl, {childList: true});\n",
       "}}\n",
       "\n",
       "                        })                };                });            </script>        </div>"
      ]
     },
     "metadata": {},
     "output_type": "display_data"
    }
   ],
   "source": [
    "fig = px.line(\n",
    "    test_df, x=test_df.index, y=\"close\", hover_data=[\"rsi\", \"bb\", \"actions\", \"rewards\"]\n",
    ")\n",
    "fig.update_traces(mode=\"markers+lines\")\n",
    "\n",
    "fig.show()"
   ]
  },
  {
   "cell_type": "code",
   "execution_count": null,
   "metadata": {},
   "outputs": [],
   "source": []
  }
 ],
 "metadata": {
  "kernelspec": {
   "display_name": "Python 3 (ipykernel)",
   "language": "python",
   "name": "python3"
  },
  "language_info": {
   "codemirror_mode": {
    "name": "ipython",
    "version": 3
   },
   "file_extension": ".py",
   "mimetype": "text/x-python",
   "name": "python",
   "nbconvert_exporter": "python",
   "pygments_lexer": "ipython3",
   "version": "3.10.13"
  }
 },
 "nbformat": 4,
 "nbformat_minor": 4
}
