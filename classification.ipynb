{
 "cells": [
  {
   "cell_type": "code",
   "execution_count": 17,
   "metadata": {},
   "outputs": [],
   "source": [
    "from sklearn.datasets import load_iris\n",
    "from sklearn.linear_model import LogisticRegression\n",
    "import pandas as pd\n",
    "import warnings\n",
    "\n",
    "warnings.filterwarnings(\"ignore\")\n",
    "\n",
    "X, y = load_iris(return_X_y=True)\n",
    "clf = LogisticRegression()\n",
    "clf.fit(X, y)"
   ]
  },
  {
   "cell_type": "code",
   "execution_count": 18,
   "metadata": {},
   "outputs": [
    {
     "data": {
      "text/plain": [
       "array([0, 0, 0, 0, 0, 0, 0, 0, 0, 0, 0, 0, 0, 0, 0, 0, 0, 0, 0, 0, 0, 0,\n",
       "       0, 0, 0, 0, 0, 0, 0, 0, 0, 0, 0, 0, 0, 0, 0, 0, 0, 0, 0, 0, 0, 0,\n",
       "       0, 0, 0, 0, 0, 0, 1, 1, 1, 1, 1, 1, 1, 1, 1, 1, 1, 1, 1, 1, 1, 1,\n",
       "       1, 1, 1, 1, 2, 1, 1, 1, 1, 1, 1, 2, 1, 1, 1, 1, 1, 2, 1, 1, 1, 1,\n",
       "       1, 1, 1, 1, 1, 1, 1, 1, 1, 1, 1, 1, 2, 2, 2, 2, 2, 2, 1, 2, 2, 2,\n",
       "       2, 2, 2, 2, 2, 2, 2, 2, 2, 2, 2, 2, 2, 2, 2, 2, 2, 2, 2, 2, 2, 2,\n",
       "       2, 2, 2, 2, 2, 2, 2, 2, 2, 2, 2, 2, 2, 2, 2, 2, 2, 2])"
      ]
     },
     "execution_count": 18,
     "metadata": {},
     "output_type": "execute_result"
    }
   ],
   "source": [
    "y_pred = clf.predict(X)\n",
    "y_pred"
   ]
  },
  {
   "cell_type": "code",
   "execution_count": 19,
   "metadata": {},
   "outputs": [
    {
     "data": {
      "text/plain": [
       "array([[9.81799409e-01, 1.82005762e-02, 1.43509289e-08],\n",
       "       [9.71722782e-01, 2.82771875e-02, 3.00214335e-08],\n",
       "       [9.85449853e-01, 1.45501346e-02, 1.22625619e-08],\n",
       "       [9.76297276e-01, 2.37026841e-02, 3.95248163e-08],\n",
       "       [9.85387220e-01, 1.46127680e-02, 1.18801860e-08],\n",
       "       [9.70467574e-01, 2.95323524e-02, 7.31408213e-08],\n",
       "       [9.86890863e-01, 1.31091168e-02, 1.98733151e-08],\n",
       "       [9.76401386e-01, 2.35985865e-02, 2.74894620e-08],\n",
       "       [9.79844184e-01, 2.01557858e-02, 3.05368709e-08],\n",
       "       [9.69132603e-01, 3.08673656e-02, 3.14946471e-08],\n",
       "       [9.76505046e-01, 2.34949350e-02, 1.91188786e-08],\n",
       "       [9.75413011e-01, 2.45869454e-02, 4.36280770e-08],\n",
       "       [9.74558403e-01, 2.54415753e-02, 2.13806563e-08],\n",
       "       [9.91973065e-01, 8.02693123e-03, 3.87417749e-09],\n",
       "       [9.88201566e-01, 1.17984307e-02, 2.79191411e-09],\n",
       "       [9.86775072e-01, 1.32249156e-02, 1.27161196e-08],\n",
       "       [9.88115684e-01, 1.18843072e-02, 9.14838900e-09],\n",
       "       [9.81555339e-01, 1.84446410e-02, 1.95946498e-08],\n",
       "       [9.56587437e-01, 4.34124953e-02, 6.80455548e-08],\n",
       "       [9.84122705e-01, 1.58772742e-02, 2.04146009e-08],\n",
       "       [9.46772274e-01, 5.32276403e-02, 8.59698185e-08],\n",
       "       [9.81748733e-01, 1.82512343e-02, 3.27030292e-08],\n",
       "       [9.96008106e-01, 3.99189299e-03, 1.30495512e-09],\n",
       "       [9.52330681e-01, 4.76690824e-02, 2.36256603e-07],\n",
       "       [9.51865478e-01, 4.81343165e-02, 2.05179791e-07],\n",
       "       [9.51563527e-01, 4.84363864e-02, 8.64884720e-08],\n",
       "       [9.69630413e-01, 3.03695012e-02, 8.60073394e-08],\n",
       "       [9.74933698e-01, 2.50662772e-02, 2.48200831e-08],\n",
       "       [9.77350947e-01, 2.26490355e-02, 1.73200331e-08],\n",
       "       [9.71231365e-01, 2.87685772e-02, 5.82439555e-08],\n",
       "       [9.64293873e-01, 3.57060572e-02, 7.01097635e-08],\n",
       "       [9.64956245e-01, 3.50436980e-02, 5.72819839e-08],\n",
       "       [9.88382462e-01, 1.16175306e-02, 6.97275774e-09],\n",
       "       [9.89069428e-01, 1.09305670e-02, 5.26031808e-09],\n",
       "       [9.68724080e-01, 3.12758775e-02, 4.29951141e-08],\n",
       "       [9.84670435e-01, 1.53295570e-02, 7.95258495e-09],\n",
       "       [9.78957503e-01, 2.10424879e-02, 9.57639898e-09],\n",
       "       [9.86871093e-01, 1.31288986e-02, 8.44891351e-09],\n",
       "       [9.85855212e-01, 1.41447725e-02, 1.54699758e-08],\n",
       "       [9.74110077e-01, 2.58898952e-02, 2.82784954e-08],\n",
       "       [9.86632238e-01, 1.33677505e-02, 1.13085550e-08],\n",
       "       [9.62248551e-01, 3.77513827e-02, 6.60622408e-08],\n",
       "       [9.89018957e-01, 1.09810316e-02, 1.12258716e-08],\n",
       "       [9.72468919e-01, 2.75309438e-02, 1.36837594e-07],\n",
       "       [9.60265793e-01, 3.97339858e-02, 2.21457576e-07],\n",
       "       [9.73876769e-01, 2.61231911e-02, 3.98518150e-08],\n",
       "       [9.80321568e-01, 1.96784069e-02, 2.51509981e-08],\n",
       "       [9.83348116e-01, 1.66518639e-02, 2.00449075e-08],\n",
       "       [9.78589055e-01, 2.14109264e-02, 1.85813759e-08],\n",
       "       [9.78680196e-01, 2.13197851e-02, 1.91800035e-08],\n",
       "       [2.11770050e-03, 8.74346439e-01, 1.23535861e-01],\n",
       "       [5.77985605e-03, 8.59935129e-01, 1.34285015e-01],\n",
       "       [1.05444199e-03, 7.25634146e-01, 2.73311412e-01],\n",
       "       [1.53571300e-02, 9.39293819e-01, 4.53490508e-02],\n",
       "       [2.36451580e-03, 8.14764103e-01, 1.82871381e-01],\n",
       "       [6.91818619e-03, 8.60183014e-01, 1.32898800e-01],\n",
       "       [3.73728264e-03, 7.17193460e-01, 2.79069257e-01],\n",
       "       [1.47583761e-01, 8.49330325e-01, 3.08591438e-03],\n",
       "       [2.76415840e-03, 8.96724424e-01, 1.00511418e-01],\n",
       "       [4.11925188e-02, 9.11869096e-01, 4.69383853e-02],\n",
       "       [5.57801175e-02, 9.37661780e-01, 6.55810267e-03],\n",
       "       [1.50801212e-02, 8.98692958e-01, 8.62269207e-02],\n",
       "       [9.09586211e-03, 9.76453462e-01, 1.44506763e-02],\n",
       "       [3.02236089e-03, 7.79470906e-01, 2.17506734e-01],\n",
       "       [7.42916177e-02, 9.15191591e-01, 1.05167913e-02],\n",
       "       [5.26565910e-03, 9.26374812e-01, 6.83595285e-02],\n",
       "       [8.61780203e-03, 7.74769052e-01, 2.16613146e-01],\n",
       "       [1.63657518e-02, 9.65253325e-01, 1.83809234e-02],\n",
       "       [1.80277694e-03, 7.99250436e-01, 1.98946787e-01],\n",
       "       [2.38873556e-02, 9.59413887e-01, 1.66987572e-02],\n",
       "       [2.27781443e-03, 4.40337918e-01, 5.57384268e-01],\n",
       "       [1.67901295e-02, 9.56693014e-01, 2.65168561e-02],\n",
       "       [7.08931068e-04, 5.95311166e-01, 4.03979903e-01],\n",
       "       [3.01485954e-03, 8.60214446e-01, 1.36770695e-01],\n",
       "       [7.05125064e-03, 9.42908862e-01, 5.00398875e-02],\n",
       "       [5.05905499e-03, 9.20048875e-01, 7.48920696e-02],\n",
       "       [1.11459017e-03, 8.01458895e-01, 1.97426515e-01],\n",
       "       [5.73913003e-04, 4.81124817e-01, 5.18301270e-01],\n",
       "       [5.43884951e-03, 8.12855890e-01, 1.81705260e-01],\n",
       "       [6.17122844e-02, 9.34884730e-01, 3.40298584e-03],\n",
       "       [2.90767272e-02, 9.57201153e-01, 1.37221201e-02],\n",
       "       [3.70994816e-02, 9.55310941e-01, 7.58957703e-03],\n",
       "       [2.51045254e-02, 9.56462589e-01, 1.84328858e-02],\n",
       "       [4.43667531e-04, 3.49564979e-01, 6.49991353e-01],\n",
       "       [1.01025226e-02, 7.51062842e-01, 2.38834636e-01],\n",
       "       [9.89019798e-03, 7.89303055e-01, 2.00806747e-01],\n",
       "       [2.25121265e-03, 8.05390993e-01, 1.92357795e-01],\n",
       "       [2.75736429e-03, 9.12543781e-01, 8.46988550e-02],\n",
       "       [2.68553409e-02, 9.28687055e-01, 4.44576042e-02],\n",
       "       [1.98148759e-02, 9.37860954e-01, 4.23241702e-02],\n",
       "       [8.63886593e-03, 8.97820607e-01, 9.35405268e-02],\n",
       "       [4.60574636e-03, 8.28502304e-01, 1.66891950e-01],\n",
       "       [1.75188752e-02, 9.56934204e-01, 2.55469203e-02],\n",
       "       [1.21663028e-01, 8.75252755e-01, 3.08421649e-03],\n",
       "       [1.43650073e-02, 9.20340989e-01, 6.52940033e-02],\n",
       "       [1.98310107e-02, 9.38302584e-01, 4.18664049e-02],\n",
       "       [1.69747400e-02, 9.25478624e-01, 5.75466361e-02],\n",
       "       [8.45636849e-03, 9.35100220e-01, 5.64434112e-02],\n",
       "       [2.43981008e-01, 7.54711691e-01, 1.30730104e-03],\n",
       "       [1.90471543e-02, 9.36004166e-01, 4.49486799e-02],\n",
       "       [8.85647369e-07, 3.92300781e-03, 9.96076107e-01],\n",
       "       [2.38677241e-04, 1.61968706e-01, 8.37792617e-01],\n",
       "       [2.45101387e-06, 2.56140271e-02, 9.74383522e-01],\n",
       "       [3.08116616e-05, 8.19143152e-02, 9.18054873e-01],\n",
       "       [3.67389465e-06, 1.74492269e-02, 9.82547099e-01],\n",
       "       [5.47528998e-08, 4.67064246e-03, 9.95329303e-01],\n",
       "       [5.67577722e-03, 5.11794222e-01, 4.82530001e-01],\n",
       "       [6.16138700e-07, 2.15022466e-02, 9.78497137e-01],\n",
       "       [5.15469649e-06, 5.32317169e-02, 9.46763128e-01],\n",
       "       [6.45639941e-07, 5.77433368e-03, 9.94225021e-01],\n",
       "       [2.98561340e-04, 2.10396509e-01, 7.89304930e-01],\n",
       "       [7.17018388e-05, 1.36871738e-01, 8.63056560e-01],\n",
       "       [2.09849810e-05, 6.51772126e-02, 9.34801802e-01],\n",
       "       [2.24862925e-04, 1.44119559e-01, 8.55655578e-01],\n",
       "       [6.74552527e-05, 4.30952056e-02, 9.56837339e-01],\n",
       "       [5.07686273e-05, 5.39001945e-02, 9.46049037e-01],\n",
       "       [5.49624598e-05, 1.23248109e-01, 8.76696928e-01],\n",
       "       [8.41730571e-08, 3.62001867e-03, 9.96379897e-01],\n",
       "       [3.10213127e-09, 1.00168743e-03, 9.98998309e-01],\n",
       "       [3.84900070e-04, 4.50296160e-01, 5.49318940e-01],\n",
       "       [5.52080323e-06, 2.38490662e-02, 9.76145413e-01],\n",
       "       [6.02538961e-04, 1.89548939e-01, 8.09848522e-01],\n",
       "       [3.10552386e-08, 4.68390429e-03, 9.95316065e-01],\n",
       "       [5.78761651e-04, 3.91718967e-01, 6.07702271e-01],\n",
       "       [1.26762997e-05, 3.87680589e-02, 9.61219265e-01],\n",
       "       [4.82215814e-06, 5.19281065e-02, 9.48067071e-01],\n",
       "       [1.06042213e-03, 4.55228138e-01, 5.43711440e-01],\n",
       "       [1.01056138e-03, 3.85027535e-01, 6.13961904e-01],\n",
       "       [1.04729260e-05, 3.62517241e-02, 9.63737803e-01],\n",
       "       [1.67813375e-05, 1.42879643e-01, 8.57103576e-01],\n",
       "       [1.05323810e-06, 2.92810264e-02, 9.70717920e-01],\n",
       "       [7.01589499e-07, 1.77011222e-02, 9.82298176e-01],\n",
       "       [7.74072225e-06, 2.71603374e-02, 9.72831922e-01],\n",
       "       [5.23428930e-04, 4.75944981e-01, 5.23531590e-01],\n",
       "       [6.19058563e-05, 1.89361370e-01, 8.10576724e-01],\n",
       "       [3.88662523e-07, 1.17396254e-02, 9.88259986e-01],\n",
       "       [1.14208742e-05, 1.73516808e-02, 9.82636898e-01],\n",
       "       [6.68834815e-05, 1.19976495e-01, 8.79956621e-01],\n",
       "       [1.60118721e-03, 4.39864402e-01, 5.58534411e-01],\n",
       "       [3.91989859e-05, 9.33827804e-02, 9.06578021e-01],\n",
       "       [6.19720931e-06, 2.02261599e-02, 9.79767643e-01],\n",
       "       [9.83059455e-05, 1.19948451e-01, 8.79953243e-01],\n",
       "       [2.38677241e-04, 1.61968706e-01, 8.37792617e-01],\n",
       "       [2.01820201e-06, 1.26108558e-02, 9.87387126e-01],\n",
       "       [3.74475380e-06, 1.20914119e-02, 9.87904843e-01],\n",
       "       [5.50414721e-05, 7.96224399e-02, 9.20322519e-01],\n",
       "       [2.23820592e-04, 2.50264921e-01, 7.49511258e-01],\n",
       "       [1.36555408e-04, 1.56836052e-01, 8.43027393e-01],\n",
       "       [4.48998045e-05, 3.84727725e-02, 9.61482328e-01],\n",
       "       [4.68932883e-04, 2.35009783e-01, 7.64521285e-01]])"
      ]
     },
     "execution_count": 19,
     "metadata": {},
     "output_type": "execute_result"
    }
   ],
   "source": [
    "clf.predict_proba(X)"
   ]
  },
  {
   "cell_type": "code",
   "execution_count": 20,
   "metadata": {},
   "outputs": [
    {
     "data": {
      "text/plain": [
       "0.9733333333333334"
      ]
     },
     "execution_count": 20,
     "metadata": {},
     "output_type": "execute_result"
    }
   ],
   "source": [
    "from sklearn.metrics import accuracy_score\n",
    "\n",
    "accuracy_score(y, y_pred)"
   ]
  },
  {
   "cell_type": "code",
   "execution_count": null,
   "metadata": {},
   "outputs": [],
   "source": []
  },
  {
   "cell_type": "code",
   "execution_count": 14,
   "metadata": {},
   "outputs": [
    {
     "data": {
      "text/html": [
       "<div>\n",
       "<style scoped>\n",
       "    .dataframe tbody tr th:only-of-type {\n",
       "        vertical-align: middle;\n",
       "    }\n",
       "\n",
       "    .dataframe tbody tr th {\n",
       "        vertical-align: top;\n",
       "    }\n",
       "\n",
       "    .dataframe thead th {\n",
       "        text-align: right;\n",
       "    }\n",
       "</style>\n",
       "<table border=\"1\" class=\"dataframe\">\n",
       "  <thead>\n",
       "    <tr style=\"text-align: right;\">\n",
       "      <th></th>\n",
       "      <th>sepal length (cm)</th>\n",
       "      <th>sepal width (cm)</th>\n",
       "      <th>petal length (cm)</th>\n",
       "      <th>petal width (cm)</th>\n",
       "    </tr>\n",
       "  </thead>\n",
       "  <tbody>\n",
       "    <tr>\n",
       "      <th>0</th>\n",
       "      <td>5.1</td>\n",
       "      <td>3.5</td>\n",
       "      <td>1.4</td>\n",
       "      <td>0.2</td>\n",
       "    </tr>\n",
       "    <tr>\n",
       "      <th>1</th>\n",
       "      <td>4.9</td>\n",
       "      <td>3.0</td>\n",
       "      <td>1.4</td>\n",
       "      <td>0.2</td>\n",
       "    </tr>\n",
       "    <tr>\n",
       "      <th>2</th>\n",
       "      <td>4.7</td>\n",
       "      <td>3.2</td>\n",
       "      <td>1.3</td>\n",
       "      <td>0.2</td>\n",
       "    </tr>\n",
       "    <tr>\n",
       "      <th>3</th>\n",
       "      <td>4.6</td>\n",
       "      <td>3.1</td>\n",
       "      <td>1.5</td>\n",
       "      <td>0.2</td>\n",
       "    </tr>\n",
       "    <tr>\n",
       "      <th>4</th>\n",
       "      <td>5.0</td>\n",
       "      <td>3.6</td>\n",
       "      <td>1.4</td>\n",
       "      <td>0.2</td>\n",
       "    </tr>\n",
       "    <tr>\n",
       "      <th>...</th>\n",
       "      <td>...</td>\n",
       "      <td>...</td>\n",
       "      <td>...</td>\n",
       "      <td>...</td>\n",
       "    </tr>\n",
       "    <tr>\n",
       "      <th>145</th>\n",
       "      <td>6.7</td>\n",
       "      <td>3.0</td>\n",
       "      <td>5.2</td>\n",
       "      <td>2.3</td>\n",
       "    </tr>\n",
       "    <tr>\n",
       "      <th>146</th>\n",
       "      <td>6.3</td>\n",
       "      <td>2.5</td>\n",
       "      <td>5.0</td>\n",
       "      <td>1.9</td>\n",
       "    </tr>\n",
       "    <tr>\n",
       "      <th>147</th>\n",
       "      <td>6.5</td>\n",
       "      <td>3.0</td>\n",
       "      <td>5.2</td>\n",
       "      <td>2.0</td>\n",
       "    </tr>\n",
       "    <tr>\n",
       "      <th>148</th>\n",
       "      <td>6.2</td>\n",
       "      <td>3.4</td>\n",
       "      <td>5.4</td>\n",
       "      <td>2.3</td>\n",
       "    </tr>\n",
       "    <tr>\n",
       "      <th>149</th>\n",
       "      <td>5.9</td>\n",
       "      <td>3.0</td>\n",
       "      <td>5.1</td>\n",
       "      <td>1.8</td>\n",
       "    </tr>\n",
       "  </tbody>\n",
       "</table>\n",
       "<p>150 rows × 4 columns</p>\n",
       "</div>"
      ],
      "text/plain": [
       "     sepal length (cm)  sepal width (cm)  petal length (cm)  petal width (cm)\n",
       "0                  5.1               3.5                1.4               0.2\n",
       "1                  4.9               3.0                1.4               0.2\n",
       "2                  4.7               3.2                1.3               0.2\n",
       "3                  4.6               3.1                1.5               0.2\n",
       "4                  5.0               3.6                1.4               0.2\n",
       "..                 ...               ...                ...               ...\n",
       "145                6.7               3.0                5.2               2.3\n",
       "146                6.3               2.5                5.0               1.9\n",
       "147                6.5               3.0                5.2               2.0\n",
       "148                6.2               3.4                5.4               2.3\n",
       "149                5.9               3.0                5.1               1.8\n",
       "\n",
       "[150 rows x 4 columns]"
      ]
     },
     "execution_count": 14,
     "metadata": {},
     "output_type": "execute_result"
    }
   ],
   "source": [
    "all_data = load_iris()\n",
    "pd.DataFrame(all_data[\"data\"], columns=all_data[\"feature_names\"])"
   ]
  },
  {
   "cell_type": "code",
   "execution_count": 15,
   "metadata": {},
   "outputs": [
    {
     "data": {
      "text/plain": [
       "array([0, 0, 0, 0, 0, 0, 0, 0, 0, 0, 0, 0, 0, 0, 0, 0, 0, 0, 0, 0, 0, 0,\n",
       "       0, 0, 0, 0, 0, 0, 0, 0, 0, 0, 0, 0, 0, 0, 0, 0, 0, 0, 0, 0, 0, 0,\n",
       "       0, 0, 0, 0, 0, 0, 1, 1, 1, 1, 1, 1, 1, 1, 1, 1, 1, 1, 1, 1, 1, 1,\n",
       "       1, 1, 1, 1, 1, 1, 1, 1, 1, 1, 1, 1, 1, 1, 1, 1, 1, 1, 1, 1, 1, 1,\n",
       "       1, 1, 1, 1, 1, 1, 1, 1, 1, 1, 1, 1, 2, 2, 2, 2, 2, 2, 2, 2, 2, 2,\n",
       "       2, 2, 2, 2, 2, 2, 2, 2, 2, 2, 2, 2, 2, 2, 2, 2, 2, 2, 2, 2, 2, 2,\n",
       "       2, 2, 2, 2, 2, 2, 2, 2, 2, 2, 2, 2, 2, 2, 2, 2, 2, 2])"
      ]
     },
     "execution_count": 15,
     "metadata": {},
     "output_type": "execute_result"
    }
   ],
   "source": [
    "all_data[\"target\"]"
   ]
  },
  {
   "cell_type": "code",
   "execution_count": 10,
   "metadata": {},
   "outputs": [
    {
     "data": {
      "text/plain": [
       "dict_keys(['data', 'target', 'frame', 'target_names', 'DESCR', 'feature_names', 'filename', 'data_module'])"
      ]
     },
     "execution_count": 10,
     "metadata": {},
     "output_type": "execute_result"
    }
   ],
   "source": [
    "all_data.keys()"
   ]
  },
  {
   "cell_type": "code",
   "execution_count": 11,
   "metadata": {},
   "outputs": [
    {
     "data": {
      "text/plain": [
       "['sepal length (cm)',\n",
       " 'sepal width (cm)',\n",
       " 'petal length (cm)',\n",
       " 'petal width (cm)']"
      ]
     },
     "execution_count": 11,
     "metadata": {},
     "output_type": "execute_result"
    }
   ],
   "source": [
    "all_data[\"feature_names\"]"
   ]
  },
  {
   "cell_type": "code",
   "execution_count": null,
   "metadata": {},
   "outputs": [],
   "source": []
  },
  {
   "cell_type": "code",
   "execution_count": 2,
   "metadata": {},
   "outputs": [
    {
     "data": {
      "text/html": [
       "<style>#sk-container-id-1 {color: black;}#sk-container-id-1 pre{padding: 0;}#sk-container-id-1 div.sk-toggleable {background-color: white;}#sk-container-id-1 label.sk-toggleable__label {cursor: pointer;display: block;width: 100%;margin-bottom: 0;padding: 0.3em;box-sizing: border-box;text-align: center;}#sk-container-id-1 label.sk-toggleable__label-arrow:before {content: \"▸\";float: left;margin-right: 0.25em;color: #696969;}#sk-container-id-1 label.sk-toggleable__label-arrow:hover:before {color: black;}#sk-container-id-1 div.sk-estimator:hover label.sk-toggleable__label-arrow:before {color: black;}#sk-container-id-1 div.sk-toggleable__content {max-height: 0;max-width: 0;overflow: hidden;text-align: left;background-color: #f0f8ff;}#sk-container-id-1 div.sk-toggleable__content pre {margin: 0.2em;color: black;border-radius: 0.25em;background-color: #f0f8ff;}#sk-container-id-1 input.sk-toggleable__control:checked~div.sk-toggleable__content {max-height: 200px;max-width: 100%;overflow: auto;}#sk-container-id-1 input.sk-toggleable__control:checked~label.sk-toggleable__label-arrow:before {content: \"▾\";}#sk-container-id-1 div.sk-estimator input.sk-toggleable__control:checked~label.sk-toggleable__label {background-color: #d4ebff;}#sk-container-id-1 div.sk-label input.sk-toggleable__control:checked~label.sk-toggleable__label {background-color: #d4ebff;}#sk-container-id-1 input.sk-hidden--visually {border: 0;clip: rect(1px 1px 1px 1px);clip: rect(1px, 1px, 1px, 1px);height: 1px;margin: -1px;overflow: hidden;padding: 0;position: absolute;width: 1px;}#sk-container-id-1 div.sk-estimator {font-family: monospace;background-color: #f0f8ff;border: 1px dotted black;border-radius: 0.25em;box-sizing: border-box;margin-bottom: 0.5em;}#sk-container-id-1 div.sk-estimator:hover {background-color: #d4ebff;}#sk-container-id-1 div.sk-parallel-item::after {content: \"\";width: 100%;border-bottom: 1px solid gray;flex-grow: 1;}#sk-container-id-1 div.sk-label:hover label.sk-toggleable__label {background-color: #d4ebff;}#sk-container-id-1 div.sk-serial::before {content: \"\";position: absolute;border-left: 1px solid gray;box-sizing: border-box;top: 0;bottom: 0;left: 50%;z-index: 0;}#sk-container-id-1 div.sk-serial {display: flex;flex-direction: column;align-items: center;background-color: white;padding-right: 0.2em;padding-left: 0.2em;position: relative;}#sk-container-id-1 div.sk-item {position: relative;z-index: 1;}#sk-container-id-1 div.sk-parallel {display: flex;align-items: stretch;justify-content: center;background-color: white;position: relative;}#sk-container-id-1 div.sk-item::before, #sk-container-id-1 div.sk-parallel-item::before {content: \"\";position: absolute;border-left: 1px solid gray;box-sizing: border-box;top: 0;bottom: 0;left: 50%;z-index: -1;}#sk-container-id-1 div.sk-parallel-item {display: flex;flex-direction: column;z-index: 1;position: relative;background-color: white;}#sk-container-id-1 div.sk-parallel-item:first-child::after {align-self: flex-end;width: 50%;}#sk-container-id-1 div.sk-parallel-item:last-child::after {align-self: flex-start;width: 50%;}#sk-container-id-1 div.sk-parallel-item:only-child::after {width: 0;}#sk-container-id-1 div.sk-dashed-wrapped {border: 1px dashed gray;margin: 0 0.4em 0.5em 0.4em;box-sizing: border-box;padding-bottom: 0.4em;background-color: white;}#sk-container-id-1 div.sk-label label {font-family: monospace;font-weight: bold;display: inline-block;line-height: 1.2em;}#sk-container-id-1 div.sk-label-container {text-align: center;}#sk-container-id-1 div.sk-container {/* jupyter's `normalize.less` sets `[hidden] { display: none; }` but bootstrap.min.css set `[hidden] { display: none !important; }` so we also need the `!important` here to be able to override the default hidden behavior on the sphinx rendered scikit-learn.org. See: https://github.com/scikit-learn/scikit-learn/issues/21755 */display: inline-block !important;position: relative;}#sk-container-id-1 div.sk-text-repr-fallback {display: none;}</style><div id=\"sk-container-id-1\" class=\"sk-top-container\"><div class=\"sk-text-repr-fallback\"><pre>LogisticRegression()</pre><b>In a Jupyter environment, please rerun this cell to show the HTML representation or trust the notebook. <br />On GitHub, the HTML representation is unable to render, please try loading this page with nbviewer.org.</b></div><div class=\"sk-container\" hidden><div class=\"sk-item\"><div class=\"sk-estimator sk-toggleable\"><input class=\"sk-toggleable__control sk-hidden--visually\" id=\"sk-estimator-id-1\" type=\"checkbox\" checked><label for=\"sk-estimator-id-1\" class=\"sk-toggleable__label sk-toggleable__label-arrow\">LogisticRegression</label><div class=\"sk-toggleable__content\"><pre>LogisticRegression()</pre></div></div></div></div></div>"
      ],
      "text/plain": [
       "LogisticRegression()"
      ]
     },
     "execution_count": 2,
     "metadata": {},
     "output_type": "execute_result"
    }
   ],
   "source": [
    "import sklearn\n",
    "\n",
    "sklearn.linear_model.LogisticRegression()"
   ]
  },
  {
   "cell_type": "code",
   "execution_count": null,
   "metadata": {},
   "outputs": [],
   "source": []
  }
 ],
 "metadata": {
  "kernelspec": {
   "display_name": "base",
   "language": "python",
   "name": "python3"
  },
  "language_info": {
   "codemirror_mode": {
    "name": "ipython",
    "version": 3
   },
   "file_extension": ".py",
   "mimetype": "text/x-python",
   "name": "python",
   "nbconvert_exporter": "python",
   "pygments_lexer": "ipython3",
   "version": "3.1.0"
  }
 },
 "nbformat": 4,
 "nbformat_minor": 2
}
