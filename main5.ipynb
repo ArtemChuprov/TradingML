{
 "cells": [
  {
   "cell_type": "code",
   "execution_count": 1,
   "metadata": {
    "tags": []
   },
   "outputs": [],
   "source": [
    "import pandas as pd\n",
    "from indicators import RSI, extract_bb, MFI, CMF\n",
    "from sklearn.model_selection import train_test_split\n",
    "from sklearn.preprocessing import MinMaxScaler\n",
    "import numpy as np\n",
    "import warnings\n",
    "import torch.nn as nn\n",
    "\n",
    "from IPython.display import clear_output\n",
    "import plotly.graph_objects as go\n",
    "import plotly.express as px\n",
    "from sb3_contrib import RecurrentPPO\n",
    "import gym\n",
    "from stable_baselines3 import PPO\n",
    "from stable_baselines3.common.env_util import make_vec_env\n",
    "from gym import spaces\n",
    "from stable_baselines3.common.vec_env import DummyVecEnv\n",
    "from stable_baselines3.common.evaluation import evaluate_policy\n",
    "from stable_baselines3.common.callbacks import ProgressBarCallback\n",
    "\n",
    "warnings.filterwarnings(\"ignore\")"
   ]
  },
  {
   "cell_type": "code",
   "execution_count": 2,
   "metadata": {
    "metadata": {},
    "tags": []
   },
   "outputs": [
    {
     "data": {
      "text/html": [
       "<div>\n",
       "<style scoped>\n",
       "    .dataframe tbody tr th:only-of-type {\n",
       "        vertical-align: middle;\n",
       "    }\n",
       "\n",
       "    .dataframe tbody tr th {\n",
       "        vertical-align: top;\n",
       "    }\n",
       "\n",
       "    .dataframe thead th {\n",
       "        text-align: right;\n",
       "    }\n",
       "</style>\n",
       "<table border=\"1\" class=\"dataframe\">\n",
       "  <thead>\n",
       "    <tr style=\"text-align: right;\">\n",
       "      <th></th>\n",
       "      <th>open</th>\n",
       "      <th>high</th>\n",
       "      <th>low</th>\n",
       "      <th>close</th>\n",
       "      <th>volume</th>\n",
       "    </tr>\n",
       "  </thead>\n",
       "  <tbody>\n",
       "    <tr>\n",
       "      <th>0</th>\n",
       "      <td>162.65</td>\n",
       "      <td>162.70</td>\n",
       "      <td>162.43</td>\n",
       "      <td>162.49</td>\n",
       "      <td>218280</td>\n",
       "    </tr>\n",
       "    <tr>\n",
       "      <th>1</th>\n",
       "      <td>162.49</td>\n",
       "      <td>162.50</td>\n",
       "      <td>162.31</td>\n",
       "      <td>162.42</td>\n",
       "      <td>174320</td>\n",
       "    </tr>\n",
       "    <tr>\n",
       "      <th>2</th>\n",
       "      <td>162.43</td>\n",
       "      <td>162.49</td>\n",
       "      <td>162.30</td>\n",
       "      <td>162.43</td>\n",
       "      <td>128060</td>\n",
       "    </tr>\n",
       "    <tr>\n",
       "      <th>3</th>\n",
       "      <td>162.45</td>\n",
       "      <td>162.46</td>\n",
       "      <td>162.28</td>\n",
       "      <td>162.29</td>\n",
       "      <td>125240</td>\n",
       "    </tr>\n",
       "    <tr>\n",
       "      <th>4</th>\n",
       "      <td>162.30</td>\n",
       "      <td>162.37</td>\n",
       "      <td>162.20</td>\n",
       "      <td>162.37</td>\n",
       "      <td>228440</td>\n",
       "    </tr>\n",
       "    <tr>\n",
       "      <th>...</th>\n",
       "      <td>...</td>\n",
       "      <td>...</td>\n",
       "      <td>...</td>\n",
       "      <td>...</td>\n",
       "      <td>...</td>\n",
       "    </tr>\n",
       "    <tr>\n",
       "      <th>2127</th>\n",
       "      <td>163.37</td>\n",
       "      <td>163.40</td>\n",
       "      <td>163.30</td>\n",
       "      <td>163.40</td>\n",
       "      <td>171700</td>\n",
       "    </tr>\n",
       "    <tr>\n",
       "      <th>2128</th>\n",
       "      <td>163.40</td>\n",
       "      <td>163.82</td>\n",
       "      <td>163.39</td>\n",
       "      <td>163.71</td>\n",
       "      <td>623050</td>\n",
       "    </tr>\n",
       "    <tr>\n",
       "      <th>2129</th>\n",
       "      <td>163.70</td>\n",
       "      <td>163.82</td>\n",
       "      <td>163.61</td>\n",
       "      <td>163.80</td>\n",
       "      <td>314660</td>\n",
       "    </tr>\n",
       "    <tr>\n",
       "      <th>2130</th>\n",
       "      <td>163.80</td>\n",
       "      <td>163.82</td>\n",
       "      <td>163.60</td>\n",
       "      <td>163.70</td>\n",
       "      <td>136580</td>\n",
       "    </tr>\n",
       "    <tr>\n",
       "      <th>2131</th>\n",
       "      <td>163.69</td>\n",
       "      <td>163.73</td>\n",
       "      <td>163.66</td>\n",
       "      <td>163.71</td>\n",
       "      <td>3800</td>\n",
       "    </tr>\n",
       "  </tbody>\n",
       "</table>\n",
       "<p>2132 rows × 5 columns</p>\n",
       "</div>"
      ],
      "text/plain": [
       "        open    high     low   close  volume\n",
       "0     162.65  162.70  162.43  162.49  218280\n",
       "1     162.49  162.50  162.31  162.42  174320\n",
       "2     162.43  162.49  162.30  162.43  128060\n",
       "3     162.45  162.46  162.28  162.29  125240\n",
       "4     162.30  162.37  162.20  162.37  228440\n",
       "...      ...     ...     ...     ...     ...\n",
       "2127  163.37  163.40  163.30  163.40  171700\n",
       "2128  163.40  163.82  163.39  163.71  623050\n",
       "2129  163.70  163.82  163.61  163.80  314660\n",
       "2130  163.80  163.82  163.60  163.70  136580\n",
       "2131  163.69  163.73  163.66  163.71    3800\n",
       "\n",
       "[2132 rows x 5 columns]"
      ]
     },
     "execution_count": 2,
     "metadata": {},
     "output_type": "execute_result"
    }
   ],
   "source": [
    "df = pd.read_csv(\"gzpn_data.csv\")\n",
    "df = df.dropna().reset_index(drop=True)  # .sample(frac=1)\n",
    "df = df.drop(columns=[\"<TICKER>\", \"<PER>\", \"<DATE>\", \"<TIME>\"])\n",
    "df.columns = [\"open\", \"high\", \"low\", \"close\", \"volume\"]\n",
    "df"
   ]
  },
  {
   "cell_type": "code",
   "execution_count": 42,
   "metadata": {
    "metadata": {},
    "tags": []
   },
   "outputs": [],
   "source": [
    "n_steps = 14\n",
    "\n",
    "prices = df[\"close\"]\n",
    "\n",
    "rsi_values = RSI(prices=prices, n_steps=n_steps)\n",
    "bb_values = extract_bb(prices=prices, n_steps=n_steps)\n",
    "mfi_values = MFI(\n",
    "    open=df[\"open\"],\n",
    "    high=df[\"high\"],\n",
    "    low=df[\"low\"],\n",
    "    close=df[\"close\"],\n",
    "    volume=df[\"volume\"],\n",
    "    n_steps=n_steps,\n",
    ")\n",
    "\n",
    "\n",
    "cmf_values = CMF(\n",
    "    open=df[\"open\"],\n",
    "    high=df[\"high\"],\n",
    "    low=df[\"low\"],\n",
    "    close=df[\"close\"],\n",
    "    volume=df[\"volume\"],\n",
    "    n_steps=n_steps,\n",
    ")\n",
    "\n",
    "assert len(rsi_values) == len(\n",
    "    bb_values\n",
    "), f\"Indicators length don't coincide: {len(rsi_values)} and {len(bb_values)}\""
   ]
  },
  {
   "cell_type": "code",
   "execution_count": 43,
   "metadata": {
    "metadata": {},
    "tags": []
   },
   "outputs": [],
   "source": [
    "def prepare_target(df, steps_obs: int = 3):\n",
    "    targets = []\n",
    "    for i in range(0, len(df) - steps_obs):\n",
    "        current_price = df[\"close\"].iloc[i]\n",
    "        max_price = df[\"high\"].iloc[i + 1 : i + 1 + steps_obs].max()\n",
    "        targets.append(max_price > current_price)\n",
    "    targets += [0] * steps_obs\n",
    "    return np.array(targets, dtype=np.int32)"
   ]
  },
  {
   "cell_type": "code",
   "execution_count": 44,
   "metadata": {
    "metadata": {},
    "tags": []
   },
   "outputs": [
    {
     "data": {
      "text/html": [
       "<div>\n",
       "<style scoped>\n",
       "    .dataframe tbody tr th:only-of-type {\n",
       "        vertical-align: middle;\n",
       "    }\n",
       "\n",
       "    .dataframe tbody tr th {\n",
       "        vertical-align: top;\n",
       "    }\n",
       "\n",
       "    .dataframe thead th {\n",
       "        text-align: right;\n",
       "    }\n",
       "</style>\n",
       "<table border=\"1\" class=\"dataframe\">\n",
       "  <thead>\n",
       "    <tr style=\"text-align: right;\">\n",
       "      <th></th>\n",
       "      <th>rsi</th>\n",
       "      <th>bb</th>\n",
       "      <th>mfi</th>\n",
       "      <th>cmf</th>\n",
       "    </tr>\n",
       "  </thead>\n",
       "  <tbody>\n",
       "    <tr>\n",
       "      <th>0</th>\n",
       "      <td>53.750000</td>\n",
       "      <td>0.834435</td>\n",
       "      <td>47.310164</td>\n",
       "      <td>0.118391</td>\n",
       "    </tr>\n",
       "    <tr>\n",
       "      <th>1</th>\n",
       "      <td>53.750000</td>\n",
       "      <td>0.979976</td>\n",
       "      <td>56.327443</td>\n",
       "      <td>0.202426</td>\n",
       "    </tr>\n",
       "    <tr>\n",
       "      <th>2</th>\n",
       "      <td>65.671642</td>\n",
       "      <td>1.006511</td>\n",
       "      <td>60.871871</td>\n",
       "      <td>0.235202</td>\n",
       "    </tr>\n",
       "    <tr>\n",
       "      <th>3</th>\n",
       "      <td>61.016949</td>\n",
       "      <td>0.910924</td>\n",
       "      <td>67.173006</td>\n",
       "      <td>0.238298</td>\n",
       "    </tr>\n",
       "    <tr>\n",
       "      <th>4</th>\n",
       "      <td>61.016949</td>\n",
       "      <td>2.210979</td>\n",
       "      <td>74.939408</td>\n",
       "      <td>0.378479</td>\n",
       "    </tr>\n",
       "    <tr>\n",
       "      <th>...</th>\n",
       "      <td>...</td>\n",
       "      <td>...</td>\n",
       "      <td>...</td>\n",
       "      <td>...</td>\n",
       "    </tr>\n",
       "    <tr>\n",
       "      <th>2113</th>\n",
       "      <td>57.291667</td>\n",
       "      <td>1.691918</td>\n",
       "      <td>32.142454</td>\n",
       "      <td>-0.255301</td>\n",
       "    </tr>\n",
       "    <tr>\n",
       "      <th>2114</th>\n",
       "      <td>68.800000</td>\n",
       "      <td>2.966376</td>\n",
       "      <td>47.706655</td>\n",
       "      <td>-0.086727</td>\n",
       "    </tr>\n",
       "    <tr>\n",
       "      <th>2115</th>\n",
       "      <td>70.895522</td>\n",
       "      <td>2.461380</td>\n",
       "      <td>53.031262</td>\n",
       "      <td>0.006295</td>\n",
       "    </tr>\n",
       "    <tr>\n",
       "      <th>2116</th>\n",
       "      <td>66.901408</td>\n",
       "      <td>1.604800</td>\n",
       "      <td>51.008568</td>\n",
       "      <td>0.002142</td>\n",
       "    </tr>\n",
       "    <tr>\n",
       "      <th>2117</th>\n",
       "      <td>63.846154</td>\n",
       "      <td>1.403666</td>\n",
       "      <td>51.335584</td>\n",
       "      <td>-0.002594</td>\n",
       "    </tr>\n",
       "  </tbody>\n",
       "</table>\n",
       "<p>2118 rows × 4 columns</p>\n",
       "</div>"
      ],
      "text/plain": [
       "            rsi        bb        mfi       cmf\n",
       "0     53.750000  0.834435  47.310164  0.118391\n",
       "1     53.750000  0.979976  56.327443  0.202426\n",
       "2     65.671642  1.006511  60.871871  0.235202\n",
       "3     61.016949  0.910924  67.173006  0.238298\n",
       "4     61.016949  2.210979  74.939408  0.378479\n",
       "...         ...       ...        ...       ...\n",
       "2113  57.291667  1.691918  32.142454 -0.255301\n",
       "2114  68.800000  2.966376  47.706655 -0.086727\n",
       "2115  70.895522  2.461380  53.031262  0.006295\n",
       "2116  66.901408  1.604800  51.008568  0.002142\n",
       "2117  63.846154  1.403666  51.335584 -0.002594\n",
       "\n",
       "[2118 rows x 4 columns]"
      ]
     },
     "execution_count": 44,
     "metadata": {},
     "output_type": "execute_result"
    }
   ],
   "source": [
    "indicator_data = (\n",
    "    pd.DataFrame(\n",
    "        data=np.array([rsi_values, bb_values, mfi_values, cmf_values]).T,\n",
    "        columns=[\"rsi\", \"bb\", \"mfi\", \"cmf\"],\n",
    "    )\n",
    "    .dropna()\n",
    "    .reset_index(drop=True)\n",
    "    .astype(np.float64)\n",
    ")\n",
    "indicator_data"
   ]
  },
  {
   "cell_type": "code",
   "execution_count": 45,
   "metadata": {
    "metadata": {},
    "tags": []
   },
   "outputs": [
    {
     "data": {
      "text/html": [
       "<div>\n",
       "<style scoped>\n",
       "    .dataframe tbody tr th:only-of-type {\n",
       "        vertical-align: middle;\n",
       "    }\n",
       "\n",
       "    .dataframe tbody tr th {\n",
       "        vertical-align: top;\n",
       "    }\n",
       "\n",
       "    .dataframe thead th {\n",
       "        text-align: right;\n",
       "    }\n",
       "</style>\n",
       "<table border=\"1\" class=\"dataframe\">\n",
       "  <thead>\n",
       "    <tr style=\"text-align: right;\">\n",
       "      <th></th>\n",
       "      <th>rsi</th>\n",
       "      <th>bb</th>\n",
       "      <th>mfi</th>\n",
       "      <th>cmf</th>\n",
       "    </tr>\n",
       "  </thead>\n",
       "  <tbody>\n",
       "    <tr>\n",
       "      <th>count</th>\n",
       "      <td>2118.000000</td>\n",
       "      <td>2118.000000</td>\n",
       "      <td>2118.000000</td>\n",
       "      <td>2118.000000</td>\n",
       "    </tr>\n",
       "    <tr>\n",
       "      <th>mean</th>\n",
       "      <td>49.895664</td>\n",
       "      <td>-0.024507</td>\n",
       "      <td>44.188489</td>\n",
       "      <td>0.098081</td>\n",
       "    </tr>\n",
       "    <tr>\n",
       "      <th>std</th>\n",
       "      <td>16.466172</td>\n",
       "      <td>1.252253</td>\n",
       "      <td>18.323338</td>\n",
       "      <td>0.243771</td>\n",
       "    </tr>\n",
       "    <tr>\n",
       "      <th>min</th>\n",
       "      <td>2.247191</td>\n",
       "      <td>-3.465921</td>\n",
       "      <td>1.173070</td>\n",
       "      <td>-0.772300</td>\n",
       "    </tr>\n",
       "    <tr>\n",
       "      <th>25%</th>\n",
       "      <td>38.160406</td>\n",
       "      <td>-1.015955</td>\n",
       "      <td>30.561603</td>\n",
       "      <td>-0.068747</td>\n",
       "    </tr>\n",
       "    <tr>\n",
       "      <th>50%</th>\n",
       "      <td>49.593496</td>\n",
       "      <td>-0.053811</td>\n",
       "      <td>43.494468</td>\n",
       "      <td>0.109617</td>\n",
       "    </tr>\n",
       "    <tr>\n",
       "      <th>75%</th>\n",
       "      <td>61.283057</td>\n",
       "      <td>0.970050</td>\n",
       "      <td>57.039061</td>\n",
       "      <td>0.263337</td>\n",
       "    </tr>\n",
       "    <tr>\n",
       "      <th>max</th>\n",
       "      <td>96.000000</td>\n",
       "      <td>3.330035</td>\n",
       "      <td>96.698208</td>\n",
       "      <td>0.766618</td>\n",
       "    </tr>\n",
       "  </tbody>\n",
       "</table>\n",
       "</div>"
      ],
      "text/plain": [
       "               rsi           bb          mfi          cmf\n",
       "count  2118.000000  2118.000000  2118.000000  2118.000000\n",
       "mean     49.895664    -0.024507    44.188489     0.098081\n",
       "std      16.466172     1.252253    18.323338     0.243771\n",
       "min       2.247191    -3.465921     1.173070    -0.772300\n",
       "25%      38.160406    -1.015955    30.561603    -0.068747\n",
       "50%      49.593496    -0.053811    43.494468     0.109617\n",
       "75%      61.283057     0.970050    57.039061     0.263337\n",
       "max      96.000000     3.330035    96.698208     0.766618"
      ]
     },
     "execution_count": 45,
     "metadata": {},
     "output_type": "execute_result"
    }
   ],
   "source": [
    "indicator_data.describe()"
   ]
  },
  {
   "cell_type": "code",
   "execution_count": null,
   "metadata": {
    "metadata": {}
   },
   "outputs": [],
   "source": []
  },
  {
   "cell_type": "code",
   "execution_count": null,
   "metadata": {},
   "outputs": [],
   "source": []
  },
  {
   "cell_type": "markdown",
   "metadata": {},
   "source": [
    "# Обработка фичей"
   ]
  },
  {
   "cell_type": "code",
   "execution_count": 46,
   "metadata": {
    "metadata": {},
    "tags": []
   },
   "outputs": [
    {
     "data": {
      "text/html": [
       "<div>\n",
       "<style scoped>\n",
       "    .dataframe tbody tr th:only-of-type {\n",
       "        vertical-align: middle;\n",
       "    }\n",
       "\n",
       "    .dataframe tbody tr th {\n",
       "        vertical-align: top;\n",
       "    }\n",
       "\n",
       "    .dataframe thead th {\n",
       "        text-align: right;\n",
       "    }\n",
       "</style>\n",
       "<table border=\"1\" class=\"dataframe\">\n",
       "  <thead>\n",
       "    <tr style=\"text-align: right;\">\n",
       "      <th></th>\n",
       "      <th>rsi</th>\n",
       "      <th>bb</th>\n",
       "      <th>mfi</th>\n",
       "      <th>cmf</th>\n",
       "    </tr>\n",
       "  </thead>\n",
       "  <tbody>\n",
       "    <tr>\n",
       "      <th>0</th>\n",
       "      <td>0.549347</td>\n",
       "      <td>0.632782</td>\n",
       "      <td>0.482984</td>\n",
       "      <td>0.118391</td>\n",
       "    </tr>\n",
       "    <tr>\n",
       "      <th>1</th>\n",
       "      <td>0.549347</td>\n",
       "      <td>0.654197</td>\n",
       "      <td>0.577381</td>\n",
       "      <td>0.202426</td>\n",
       "    </tr>\n",
       "    <tr>\n",
       "      <th>2</th>\n",
       "      <td>0.676507</td>\n",
       "      <td>0.658102</td>\n",
       "      <td>0.624954</td>\n",
       "      <td>0.235202</td>\n",
       "    </tr>\n",
       "    <tr>\n",
       "      <th>3</th>\n",
       "      <td>0.626859</td>\n",
       "      <td>0.644037</td>\n",
       "      <td>0.690917</td>\n",
       "      <td>0.238298</td>\n",
       "    </tr>\n",
       "    <tr>\n",
       "      <th>4</th>\n",
       "      <td>0.626859</td>\n",
       "      <td>0.835335</td>\n",
       "      <td>0.772219</td>\n",
       "      <td>0.378479</td>\n",
       "    </tr>\n",
       "    <tr>\n",
       "      <th>...</th>\n",
       "      <td>...</td>\n",
       "      <td>...</td>\n",
       "      <td>...</td>\n",
       "      <td>...</td>\n",
       "    </tr>\n",
       "    <tr>\n",
       "      <th>2113</th>\n",
       "      <td>0.587123</td>\n",
       "      <td>0.758957</td>\n",
       "      <td>0.324201</td>\n",
       "      <td>-0.255301</td>\n",
       "    </tr>\n",
       "    <tr>\n",
       "      <th>2114</th>\n",
       "      <td>0.709875</td>\n",
       "      <td>0.946489</td>\n",
       "      <td>0.487134</td>\n",
       "      <td>-0.086727</td>\n",
       "    </tr>\n",
       "    <tr>\n",
       "      <th>2115</th>\n",
       "      <td>0.732227</td>\n",
       "      <td>0.872181</td>\n",
       "      <td>0.542875</td>\n",
       "      <td>0.006295</td>\n",
       "    </tr>\n",
       "    <tr>\n",
       "      <th>2116</th>\n",
       "      <td>0.689624</td>\n",
       "      <td>0.746138</td>\n",
       "      <td>0.521700</td>\n",
       "      <td>0.002142</td>\n",
       "    </tr>\n",
       "    <tr>\n",
       "      <th>2117</th>\n",
       "      <td>0.657036</td>\n",
       "      <td>0.716542</td>\n",
       "      <td>0.525124</td>\n",
       "      <td>-0.002594</td>\n",
       "    </tr>\n",
       "  </tbody>\n",
       "</table>\n",
       "<p>2118 rows × 4 columns</p>\n",
       "</div>"
      ],
      "text/plain": [
       "           rsi        bb       mfi       cmf\n",
       "0     0.549347  0.632782  0.482984  0.118391\n",
       "1     0.549347  0.654197  0.577381  0.202426\n",
       "2     0.676507  0.658102  0.624954  0.235202\n",
       "3     0.626859  0.644037  0.690917  0.238298\n",
       "4     0.626859  0.835335  0.772219  0.378479\n",
       "...        ...       ...       ...       ...\n",
       "2113  0.587123  0.758957  0.324201 -0.255301\n",
       "2114  0.709875  0.946489  0.487134 -0.086727\n",
       "2115  0.732227  0.872181  0.542875  0.006295\n",
       "2116  0.689624  0.746138  0.521700  0.002142\n",
       "2117  0.657036  0.716542  0.525124 -0.002594\n",
       "\n",
       "[2118 rows x 4 columns]"
      ]
     },
     "execution_count": 46,
     "metadata": {},
     "output_type": "execute_result"
    }
   ],
   "source": [
    "scaler = MinMaxScaler()\n",
    "scaler.fit(indicator_data.iloc[:, :-1])\n",
    "indicator_data.iloc[:, :-1] = scaler.transform(indicator_data.iloc[:, :-1])\n",
    "indicator_data"
   ]
  },
  {
   "cell_type": "code",
   "execution_count": 47,
   "metadata": {
    "metadata": {}
   },
   "outputs": [
    {
     "data": {
      "text/plain": [
       "array([0.54934684, 0.65419737])"
      ]
     },
     "execution_count": 47,
     "metadata": {},
     "output_type": "execute_result"
    }
   ],
   "source": [
    "indicator_data[[\"rsi\", \"bb\"]].iloc[1].values"
   ]
  },
  {
   "cell_type": "code",
   "execution_count": 11,
   "metadata": {},
   "outputs": [
    {
     "data": {
      "text/html": [
       "<div>\n",
       "<style scoped>\n",
       "    .dataframe tbody tr th:only-of-type {\n",
       "        vertical-align: middle;\n",
       "    }\n",
       "\n",
       "    .dataframe tbody tr th {\n",
       "        vertical-align: top;\n",
       "    }\n",
       "\n",
       "    .dataframe thead th {\n",
       "        text-align: right;\n",
       "    }\n",
       "</style>\n",
       "<table border=\"1\" class=\"dataframe\">\n",
       "  <thead>\n",
       "    <tr style=\"text-align: right;\">\n",
       "      <th></th>\n",
       "      <th>rsi</th>\n",
       "      <th>bb</th>\n",
       "      <th>mfi</th>\n",
       "      <th>cmf</th>\n",
       "    </tr>\n",
       "  </thead>\n",
       "  <tbody>\n",
       "    <tr>\n",
       "      <th>0</th>\n",
       "      <td>0.549347</td>\n",
       "      <td>0.632782</td>\n",
       "      <td>0.482984</td>\n",
       "      <td>0.118391</td>\n",
       "    </tr>\n",
       "    <tr>\n",
       "      <th>1</th>\n",
       "      <td>0.549347</td>\n",
       "      <td>0.654197</td>\n",
       "      <td>0.577381</td>\n",
       "      <td>0.202426</td>\n",
       "    </tr>\n",
       "    <tr>\n",
       "      <th>2</th>\n",
       "      <td>0.676507</td>\n",
       "      <td>0.658102</td>\n",
       "      <td>0.624954</td>\n",
       "      <td>0.235202</td>\n",
       "    </tr>\n",
       "    <tr>\n",
       "      <th>3</th>\n",
       "      <td>0.626859</td>\n",
       "      <td>0.644037</td>\n",
       "      <td>0.690917</td>\n",
       "      <td>0.238298</td>\n",
       "    </tr>\n",
       "    <tr>\n",
       "      <th>4</th>\n",
       "      <td>0.626859</td>\n",
       "      <td>0.835335</td>\n",
       "      <td>0.772219</td>\n",
       "      <td>0.378479</td>\n",
       "    </tr>\n",
       "    <tr>\n",
       "      <th>...</th>\n",
       "      <td>...</td>\n",
       "      <td>...</td>\n",
       "      <td>...</td>\n",
       "      <td>...</td>\n",
       "    </tr>\n",
       "    <tr>\n",
       "      <th>2113</th>\n",
       "      <td>0.587123</td>\n",
       "      <td>0.758957</td>\n",
       "      <td>0.324201</td>\n",
       "      <td>-0.255301</td>\n",
       "    </tr>\n",
       "    <tr>\n",
       "      <th>2114</th>\n",
       "      <td>0.709875</td>\n",
       "      <td>0.946489</td>\n",
       "      <td>0.487134</td>\n",
       "      <td>-0.086727</td>\n",
       "    </tr>\n",
       "    <tr>\n",
       "      <th>2115</th>\n",
       "      <td>0.732227</td>\n",
       "      <td>0.872181</td>\n",
       "      <td>0.542875</td>\n",
       "      <td>0.006295</td>\n",
       "    </tr>\n",
       "    <tr>\n",
       "      <th>2116</th>\n",
       "      <td>0.689624</td>\n",
       "      <td>0.746138</td>\n",
       "      <td>0.521700</td>\n",
       "      <td>0.002142</td>\n",
       "    </tr>\n",
       "    <tr>\n",
       "      <th>2117</th>\n",
       "      <td>0.657036</td>\n",
       "      <td>0.716542</td>\n",
       "      <td>0.525124</td>\n",
       "      <td>-0.002594</td>\n",
       "    </tr>\n",
       "  </tbody>\n",
       "</table>\n",
       "<p>2118 rows × 4 columns</p>\n",
       "</div>"
      ],
      "text/plain": [
       "           rsi        bb       mfi       cmf\n",
       "0     0.549347  0.632782  0.482984  0.118391\n",
       "1     0.549347  0.654197  0.577381  0.202426\n",
       "2     0.676507  0.658102  0.624954  0.235202\n",
       "3     0.626859  0.644037  0.690917  0.238298\n",
       "4     0.626859  0.835335  0.772219  0.378479\n",
       "...        ...       ...       ...       ...\n",
       "2113  0.587123  0.758957  0.324201 -0.255301\n",
       "2114  0.709875  0.946489  0.487134 -0.086727\n",
       "2115  0.732227  0.872181  0.542875  0.006295\n",
       "2116  0.689624  0.746138  0.521700  0.002142\n",
       "2117  0.657036  0.716542  0.525124 -0.002594\n",
       "\n",
       "[2118 rows x 4 columns]"
      ]
     },
     "execution_count": 11,
     "metadata": {},
     "output_type": "execute_result"
    }
   ],
   "source": [
    "indicator_data"
   ]
  },
  {
   "cell_type": "code",
   "execution_count": 48,
   "metadata": {},
   "outputs": [
    {
     "data": {
      "text/html": [
       "<div>\n",
       "<style scoped>\n",
       "    .dataframe tbody tr th:only-of-type {\n",
       "        vertical-align: middle;\n",
       "    }\n",
       "\n",
       "    .dataframe tbody tr th {\n",
       "        vertical-align: top;\n",
       "    }\n",
       "\n",
       "    .dataframe thead th {\n",
       "        text-align: right;\n",
       "    }\n",
       "</style>\n",
       "<table border=\"1\" class=\"dataframe\">\n",
       "  <thead>\n",
       "    <tr style=\"text-align: right;\">\n",
       "      <th></th>\n",
       "      <th>rsi</th>\n",
       "      <th>bb</th>\n",
       "      <th>mfi</th>\n",
       "      <th>cmf</th>\n",
       "      <th>open</th>\n",
       "      <th>high</th>\n",
       "      <th>low</th>\n",
       "      <th>close</th>\n",
       "      <th>volume</th>\n",
       "    </tr>\n",
       "  </thead>\n",
       "  <tbody>\n",
       "    <tr>\n",
       "      <th>0</th>\n",
       "      <td>0.549347</td>\n",
       "      <td>0.632782</td>\n",
       "      <td>0.482984</td>\n",
       "      <td>0.118391</td>\n",
       "      <td>162.46</td>\n",
       "      <td>162.50</td>\n",
       "      <td>162.45</td>\n",
       "      <td>162.48</td>\n",
       "      <td>156850.0</td>\n",
       "    </tr>\n",
       "    <tr>\n",
       "      <th>1</th>\n",
       "      <td>0.549347</td>\n",
       "      <td>0.654197</td>\n",
       "      <td>0.577381</td>\n",
       "      <td>0.202426</td>\n",
       "      <td>162.48</td>\n",
       "      <td>162.50</td>\n",
       "      <td>162.48</td>\n",
       "      <td>162.49</td>\n",
       "      <td>83300.0</td>\n",
       "    </tr>\n",
       "    <tr>\n",
       "      <th>2</th>\n",
       "      <td>0.676507</td>\n",
       "      <td>0.658102</td>\n",
       "      <td>0.624954</td>\n",
       "      <td>0.235202</td>\n",
       "      <td>162.50</td>\n",
       "      <td>162.50</td>\n",
       "      <td>162.49</td>\n",
       "      <td>162.50</td>\n",
       "      <td>52370.0</td>\n",
       "    </tr>\n",
       "    <tr>\n",
       "      <th>3</th>\n",
       "      <td>0.626859</td>\n",
       "      <td>0.644037</td>\n",
       "      <td>0.690917</td>\n",
       "      <td>0.238298</td>\n",
       "      <td>162.49</td>\n",
       "      <td>162.50</td>\n",
       "      <td>162.49</td>\n",
       "      <td>162.50</td>\n",
       "      <td>28020.0</td>\n",
       "    </tr>\n",
       "    <tr>\n",
       "      <th>4</th>\n",
       "      <td>0.626859</td>\n",
       "      <td>0.835335</td>\n",
       "      <td>0.772219</td>\n",
       "      <td>0.378479</td>\n",
       "      <td>162.50</td>\n",
       "      <td>162.63</td>\n",
       "      <td>162.49</td>\n",
       "      <td>162.63</td>\n",
       "      <td>62910.0</td>\n",
       "    </tr>\n",
       "    <tr>\n",
       "      <th>...</th>\n",
       "      <td>...</td>\n",
       "      <td>...</td>\n",
       "      <td>...</td>\n",
       "      <td>...</td>\n",
       "      <td>...</td>\n",
       "      <td>...</td>\n",
       "      <td>...</td>\n",
       "      <td>...</td>\n",
       "      <td>...</td>\n",
       "    </tr>\n",
       "    <tr>\n",
       "      <th>2113</th>\n",
       "      <td>0.587123</td>\n",
       "      <td>0.758957</td>\n",
       "      <td>0.324201</td>\n",
       "      <td>-0.255301</td>\n",
       "      <td>163.37</td>\n",
       "      <td>163.40</td>\n",
       "      <td>163.30</td>\n",
       "      <td>163.40</td>\n",
       "      <td>171700.0</td>\n",
       "    </tr>\n",
       "    <tr>\n",
       "      <th>2114</th>\n",
       "      <td>0.709875</td>\n",
       "      <td>0.946489</td>\n",
       "      <td>0.487134</td>\n",
       "      <td>-0.086727</td>\n",
       "      <td>163.40</td>\n",
       "      <td>163.82</td>\n",
       "      <td>163.39</td>\n",
       "      <td>163.71</td>\n",
       "      <td>623050.0</td>\n",
       "    </tr>\n",
       "    <tr>\n",
       "      <th>2115</th>\n",
       "      <td>0.732227</td>\n",
       "      <td>0.872181</td>\n",
       "      <td>0.542875</td>\n",
       "      <td>0.006295</td>\n",
       "      <td>163.70</td>\n",
       "      <td>163.82</td>\n",
       "      <td>163.61</td>\n",
       "      <td>163.80</td>\n",
       "      <td>314660.0</td>\n",
       "    </tr>\n",
       "    <tr>\n",
       "      <th>2116</th>\n",
       "      <td>0.689624</td>\n",
       "      <td>0.746138</td>\n",
       "      <td>0.521700</td>\n",
       "      <td>0.002142</td>\n",
       "      <td>163.80</td>\n",
       "      <td>163.82</td>\n",
       "      <td>163.60</td>\n",
       "      <td>163.70</td>\n",
       "      <td>136580.0</td>\n",
       "    </tr>\n",
       "    <tr>\n",
       "      <th>2117</th>\n",
       "      <td>0.657036</td>\n",
       "      <td>0.716542</td>\n",
       "      <td>0.525124</td>\n",
       "      <td>-0.002594</td>\n",
       "      <td>163.69</td>\n",
       "      <td>163.73</td>\n",
       "      <td>163.66</td>\n",
       "      <td>163.71</td>\n",
       "      <td>3800.0</td>\n",
       "    </tr>\n",
       "  </tbody>\n",
       "</table>\n",
       "<p>2118 rows × 9 columns</p>\n",
       "</div>"
      ],
      "text/plain": [
       "           rsi        bb       mfi       cmf    open    high     low   close  \\\n",
       "0     0.549347  0.632782  0.482984  0.118391  162.46  162.50  162.45  162.48   \n",
       "1     0.549347  0.654197  0.577381  0.202426  162.48  162.50  162.48  162.49   \n",
       "2     0.676507  0.658102  0.624954  0.235202  162.50  162.50  162.49  162.50   \n",
       "3     0.626859  0.644037  0.690917  0.238298  162.49  162.50  162.49  162.50   \n",
       "4     0.626859  0.835335  0.772219  0.378479  162.50  162.63  162.49  162.63   \n",
       "...        ...       ...       ...       ...     ...     ...     ...     ...   \n",
       "2113  0.587123  0.758957  0.324201 -0.255301  163.37  163.40  163.30  163.40   \n",
       "2114  0.709875  0.946489  0.487134 -0.086727  163.40  163.82  163.39  163.71   \n",
       "2115  0.732227  0.872181  0.542875  0.006295  163.70  163.82  163.61  163.80   \n",
       "2116  0.689624  0.746138  0.521700  0.002142  163.80  163.82  163.60  163.70   \n",
       "2117  0.657036  0.716542  0.525124 -0.002594  163.69  163.73  163.66  163.71   \n",
       "\n",
       "        volume  \n",
       "0     156850.0  \n",
       "1      83300.0  \n",
       "2      52370.0  \n",
       "3      28020.0  \n",
       "4      62910.0  \n",
       "...        ...  \n",
       "2113  171700.0  \n",
       "2114  623050.0  \n",
       "2115  314660.0  \n",
       "2116  136580.0  \n",
       "2117    3800.0  \n",
       "\n",
       "[2118 rows x 9 columns]"
      ]
     },
     "execution_count": 48,
     "metadata": {},
     "output_type": "execute_result"
    }
   ],
   "source": [
    "all_data = indicator_data.copy()\n",
    "all_data[df.columns] = df.iloc[n_steps:, :].values\n",
    "\n",
    "all_data"
   ]
  },
  {
   "cell_type": "code",
   "execution_count": 49,
   "metadata": {
    "metadata": {}
   },
   "outputs": [],
   "source": [
    "# Your DataFrame `df` should contain all observations and you will have your reward function `reward_function`\n",
    "# df = all_da.copy()\n",
    "# df.columns = [col.lower() for col in df.columns]\n",
    "\n",
    "steps_obs = 1\n",
    "commision_bps = 0\n",
    "rewards = []\n",
    "Statistics = []\n",
    "\n",
    "init_balance = 200\n",
    "init_active = 10\n",
    "\n",
    "start_price = all_data[\"close\"].iloc[0]\n",
    "init_pv = init_balance + init_active * start_price\n",
    "rnn_steps = 2\n",
    "\n",
    "MAX_BALANCE = 2 * init_pv\n",
    "MAX_ACTIVE = 2 * init_pv / start_price\n",
    "\n",
    "\n",
    "class CustomEnv(gym.Env):\n",
    "    def __init__(self, df, init_balance, init_active, test=False):\n",
    "        super(CustomEnv, self).__init__()\n",
    "        self.df = df\n",
    "        self.test = test\n",
    "        self.seed = lambda x: 0\n",
    "        self.current_step = 0\n",
    "        # Assume observation space is a 1D array of features (adjust according to your data)\n",
    "        self.observation_space = spaces.Box(\n",
    "            low=0,\n",
    "            high=1,\n",
    "            shape=(rnn_steps, len(indicator_data.columns) + 2),\n",
    "            dtype=np.float32,\n",
    "        )\n",
    "        self.balance = init_balance\n",
    "        self.active = init_active\n",
    "        self.init_balance = init_balance\n",
    "        self.init_active = init_active\n",
    "        self.current_price = self.df[\"close\"].iloc[self.current_step]\n",
    "        self.pv = self.balance + self.active * self.current_price\n",
    "        # Adjust according to your action space\n",
    "        self.action_space = spaces.Box(\n",
    "            low=np.array([-1]),\n",
    "            high=np.array([1]),\n",
    "            dtype=np.float32,\n",
    "        )\n",
    "\n",
    "    def reset(self):\n",
    "        # Reset the state of the environment to an initial state\n",
    "        print(\"reseting...\")\n",
    "        self.current_step = rnn_steps - 1\n",
    "        if self.test:\n",
    "            rewards.append([])\n",
    "            Statistics.append([])\n",
    "\n",
    "        init_state = np.append(\n",
    "            self.df[indicator_data.columns]\n",
    "            .iloc[self.current_step - rnn_steps + 1 : self.current_step + 1]\n",
    "            .values,\n",
    "            np.array(\n",
    "                [\n",
    "                    [self.balance / MAX_BALANCE, self.active / MAX_ACTIVE]\n",
    "                    for i in range(rnn_steps)\n",
    "                ]\n",
    "            ),\n",
    "            axis=1,\n",
    "        )\n",
    "        self.balance = init_balance\n",
    "        self.active = init_active\n",
    "        self.current_price = self.df[\"close\"].iloc[self.current_step]\n",
    "        self.pv = self.balance + self.init_active * self.current_price\n",
    "        return init_state\n",
    "\n",
    "    def reward_function(self, action):\n",
    "        action = float(action)\n",
    "        next_price = self.df[\"close\"].iloc[self.current_step + 1]\n",
    "        # покупаем\n",
    "        if action > 0:\n",
    "            money_to_spend = self.balance * action\n",
    "            self.active += money_to_spend / self.current_price\n",
    "            self.balance -= money_to_spend\n",
    "        # продаем\n",
    "        elif action < 0:\n",
    "            active_to_sell = self.active * abs(action)\n",
    "            self.active -= active_to_sell\n",
    "            self.balance += active_to_sell * self.current_price\n",
    "        new_pv = self.active * next_price + self.balance\n",
    "        reward = (new_pv - self.pv) / self.pv * 1e4\n",
    "\n",
    "        return reward\n",
    "\n",
    "    def step(self, action):\n",
    "        # Calculate the reward\n",
    "\n",
    "        reward = self.reward_function(action)\n",
    "        self.current_step += 1\n",
    "        if self.current_step < len(self.df.index) - (steps_obs + 1):\n",
    "            next_state = np.append(\n",
    "                self.df[indicator_data.columns]\n",
    "                .iloc[self.current_step - rnn_steps + 1 : self.current_step + 1]\n",
    "                .values,\n",
    "                np.array(\n",
    "                    [\n",
    "                        [self.balance / MAX_BALANCE, self.active / MAX_ACTIVE]\n",
    "                        for i in range(rnn_steps)\n",
    "                    ]\n",
    "                ),\n",
    "                axis=1,\n",
    "            )\n",
    "            done = False\n",
    "        else:\n",
    "            # The episode is finished\n",
    "            next_state = np.zeros(self.observation_space.shape)\n",
    "            done = True\n",
    "\n",
    "        # Placeholder for info, additional data can be added if needed\n",
    "        info = {}\n",
    "        # print(next_state)\n",
    "        if self.test:\n",
    "            rewards[-1].append(reward)\n",
    "        self.current_price = self.df[\"close\"].iloc[self.current_step]\n",
    "        self.pv = self.active * self.current_price + self.balance\n",
    "\n",
    "        return next_state, reward, done, info\n",
    "\n",
    "\n",
    "# Create multiple environments\n",
    "env = CustomEnv(df=all_data, init_balance=init_balance, init_active=init_active)\n",
    "env = DummyVecEnv([lambda: env])"
   ]
  },
  {
   "cell_type": "code",
   "execution_count": 50,
   "metadata": {},
   "outputs": [],
   "source": [
    "# Сохранение и загрузка модели\n",
    "# model.save(\"./data/PPO_MultiBinScaling.zip\")\n",
    "# model = PPO.load(\"./data/PPO_MultiBinScaling.zip\", env=env)"
   ]
  },
  {
   "cell_type": "code",
   "execution_count": 59,
   "metadata": {
    "metadata": {}
   },
   "outputs": [
    {
     "name": "stdout",
     "output_type": "stream",
     "text": [
      "Using cpu device\n",
      "reseting...\n",
      "----------------------------\n",
      "| time/              |     |\n",
      "|    fps             | 189 |\n",
      "|    iterations      | 1   |\n",
      "|    time_elapsed    | 2   |\n",
      "|    total_timesteps | 512 |\n",
      "----------------------------\n",
      "-------------------------------------------\n",
      "| time/                   |               |\n",
      "|    fps                  | 161           |\n",
      "|    iterations           | 2             |\n",
      "|    time_elapsed         | 6             |\n",
      "|    total_timesteps      | 1024          |\n",
      "| train/                  |               |\n",
      "|    approx_kl            | 5.2375253e-07 |\n",
      "|    clip_fraction        | 0             |\n",
      "|    clip_range           | 0.2           |\n",
      "|    entropy_loss         | -1.42         |\n",
      "|    explained_variance   | -0.000518     |\n",
      "|    learning_rate        | 0.0001        |\n",
      "|    loss                 | 15.9          |\n",
      "|    n_updates            | 5             |\n",
      "|    policy_gradient_loss | -1.56e-05     |\n",
      "|    std                  | 1             |\n",
      "|    value_loss           | 68.2          |\n",
      "-------------------------------------------\n",
      "-------------------------------------------\n",
      "| time/                   |               |\n",
      "|    fps                  | 179           |\n",
      "|    iterations           | 3             |\n",
      "|    time_elapsed         | 8             |\n",
      "|    total_timesteps      | 1536          |\n",
      "| train/                  |               |\n",
      "|    approx_kl            | 2.6717316e-07 |\n",
      "|    clip_fraction        | 0             |\n",
      "|    clip_range           | 0.2           |\n",
      "|    entropy_loss         | -1.42         |\n",
      "|    explained_variance   | 9.52e-05      |\n",
      "|    learning_rate        | 0.0001        |\n",
      "|    loss                 | 13.8          |\n",
      "|    n_updates            | 10            |\n",
      "|    policy_gradient_loss | -1.37e-05     |\n",
      "|    std                  | 1             |\n",
      "|    value_loss           | 191           |\n",
      "-------------------------------------------\n",
      "-------------------------------------------\n",
      "| time/                   |               |\n",
      "|    fps                  | 186           |\n",
      "|    iterations           | 4             |\n",
      "|    time_elapsed         | 10            |\n",
      "|    total_timesteps      | 2048          |\n",
      "| train/                  |               |\n",
      "|    approx_kl            | 2.7042115e-06 |\n",
      "|    clip_fraction        | 0             |\n",
      "|    clip_range           | 0.2           |\n",
      "|    entropy_loss         | -1.42         |\n",
      "|    explained_variance   | 2.29e-05      |\n",
      "|    learning_rate        | 0.0001        |\n",
      "|    loss                 | 130           |\n",
      "|    n_updates            | 15            |\n",
      "|    policy_gradient_loss | -8e-05        |\n",
      "|    std                  | 0.998         |\n",
      "|    value_loss           | 240           |\n",
      "-------------------------------------------\n",
      "reseting...\n",
      "------------------------------------------\n",
      "| time/                   |              |\n",
      "|    fps                  | 193          |\n",
      "|    iterations           | 5            |\n",
      "|    time_elapsed         | 13           |\n",
      "|    total_timesteps      | 2560         |\n",
      "| train/                  |              |\n",
      "|    approx_kl            | 4.074769e-06 |\n",
      "|    clip_fraction        | 0            |\n",
      "|    clip_range           | 0.2          |\n",
      "|    entropy_loss         | -1.42        |\n",
      "|    explained_variance   | -0.000242    |\n",
      "|    learning_rate        | 0.0001       |\n",
      "|    loss                 | 30           |\n",
      "|    n_updates            | 20           |\n",
      "|    policy_gradient_loss | -0.00017     |\n",
      "|    std                  | 0.997        |\n",
      "|    value_loss           | 66.5         |\n",
      "------------------------------------------\n",
      "------------------------------------------\n",
      "| time/                   |              |\n",
      "|    fps                  | 190          |\n",
      "|    iterations           | 6            |\n",
      "|    time_elapsed         | 16           |\n",
      "|    total_timesteps      | 3072         |\n",
      "| train/                  |              |\n",
      "|    approx_kl            | 4.552421e-06 |\n",
      "|    clip_fraction        | 0            |\n",
      "|    clip_range           | 0.2          |\n",
      "|    entropy_loss         | -1.42        |\n",
      "|    explained_variance   | 0.00028      |\n",
      "|    learning_rate        | 0.0001       |\n",
      "|    loss                 | 10.5         |\n",
      "|    n_updates            | 25           |\n",
      "|    policy_gradient_loss | 1.93e-05     |\n",
      "|    std                  | 0.996        |\n",
      "|    value_loss           | 96.2         |\n",
      "------------------------------------------\n",
      "-------------------------------------------\n",
      "| time/                   |               |\n",
      "|    fps                  | 195           |\n",
      "|    iterations           | 7             |\n",
      "|    time_elapsed         | 18            |\n",
      "|    total_timesteps      | 3584          |\n",
      "| train/                  |               |\n",
      "|    approx_kl            | 1.4740508e-06 |\n",
      "|    clip_fraction        | 0             |\n",
      "|    clip_range           | 0.2           |\n",
      "|    entropy_loss         | -1.41         |\n",
      "|    explained_variance   | -0.000186     |\n",
      "|    learning_rate        | 0.0001        |\n",
      "|    loss                 | 155           |\n",
      "|    n_updates            | 30            |\n",
      "|    policy_gradient_loss | -1.3e-05      |\n",
      "|    std                  | 0.996         |\n",
      "|    value_loss           | 126           |\n",
      "-------------------------------------------\n",
      "-------------------------------------------\n",
      "| time/                   |               |\n",
      "|    fps                  | 199           |\n",
      "|    iterations           | 8             |\n",
      "|    time_elapsed         | 20            |\n",
      "|    total_timesteps      | 4096          |\n",
      "| train/                  |               |\n",
      "|    approx_kl            | 7.4412674e-07 |\n",
      "|    clip_fraction        | 0             |\n",
      "|    clip_range           | 0.2           |\n",
      "|    entropy_loss         | -1.41         |\n",
      "|    explained_variance   | -0.000245     |\n",
      "|    learning_rate        | 0.0001        |\n",
      "|    loss                 | 80.9          |\n",
      "|    n_updates            | 35            |\n",
      "|    policy_gradient_loss | -5.14e-05     |\n",
      "|    std                  | 0.997         |\n",
      "|    value_loss           | 111           |\n",
      "-------------------------------------------\n",
      "reseting...\n",
      "------------------------------------------\n",
      "| time/                   |              |\n",
      "|    fps                  | 203          |\n",
      "|    iterations           | 9            |\n",
      "|    time_elapsed         | 22           |\n",
      "|    total_timesteps      | 4608         |\n",
      "| train/                  |              |\n",
      "|    approx_kl            | 9.179348e-07 |\n",
      "|    clip_fraction        | 0            |\n",
      "|    clip_range           | 0.2          |\n",
      "|    entropy_loss         | -1.42        |\n",
      "|    explained_variance   | -0.000303    |\n",
      "|    learning_rate        | 0.0001       |\n",
      "|    loss                 | 48.3         |\n",
      "|    n_updates            | 40           |\n",
      "|    policy_gradient_loss | -5.32e-05    |\n",
      "|    std                  | 0.998        |\n",
      "|    value_loss           | 94.2         |\n",
      "------------------------------------------\n",
      "-------------------------------------------\n",
      "| time/                   |               |\n",
      "|    fps                  | 199           |\n",
      "|    iterations           | 10            |\n",
      "|    time_elapsed         | 25            |\n",
      "|    total_timesteps      | 5120          |\n",
      "| train/                  |               |\n",
      "|    approx_kl            | 2.9135263e-06 |\n",
      "|    clip_fraction        | 0             |\n",
      "|    clip_range           | 0.2           |\n",
      "|    entropy_loss         | -1.42         |\n",
      "|    explained_variance   | 6.85e-05      |\n",
      "|    learning_rate        | 0.0001        |\n",
      "|    loss                 | 7.97          |\n",
      "|    n_updates            | 45            |\n",
      "|    policy_gradient_loss | -9.74e-05     |\n",
      "|    std                  | 0.999         |\n",
      "|    value_loss           | 55.2          |\n",
      "-------------------------------------------\n",
      "-------------------------------------------\n",
      "| time/                   |               |\n",
      "|    fps                  | 202           |\n",
      "|    iterations           | 11            |\n",
      "|    time_elapsed         | 27            |\n",
      "|    total_timesteps      | 5632          |\n",
      "| train/                  |               |\n",
      "|    approx_kl            | 9.3865674e-07 |\n",
      "|    clip_fraction        | 0             |\n",
      "|    clip_range           | 0.2           |\n",
      "|    entropy_loss         | -1.42         |\n",
      "|    explained_variance   | 3.28e-05      |\n",
      "|    learning_rate        | 0.0001        |\n",
      "|    loss                 | 96.6          |\n",
      "|    n_updates            | 50            |\n",
      "|    policy_gradient_loss | 3.61e-05      |\n",
      "|    std                  | 1             |\n",
      "|    value_loss           | 186           |\n",
      "-------------------------------------------\n",
      "-------------------------------------------\n",
      "| time/                   |               |\n",
      "|    fps                  | 205           |\n",
      "|    iterations           | 12            |\n",
      "|    time_elapsed         | 29            |\n",
      "|    total_timesteps      | 6144          |\n",
      "| train/                  |               |\n",
      "|    approx_kl            | 3.8649887e-08 |\n",
      "|    clip_fraction        | 0             |\n",
      "|    clip_range           | 0.2           |\n",
      "|    entropy_loss         | -1.42         |\n",
      "|    explained_variance   | 0.00023       |\n",
      "|    learning_rate        | 0.0001        |\n",
      "|    loss                 | 218           |\n",
      "|    n_updates            | 55            |\n",
      "|    policy_gradient_loss | -2.81e-07     |\n",
      "|    std                  | 1             |\n",
      "|    value_loss           | 447           |\n",
      "-------------------------------------------\n",
      "reseting...\n",
      "-------------------------------------------\n",
      "| time/                   |               |\n",
      "|    fps                  | 209           |\n",
      "|    iterations           | 13            |\n",
      "|    time_elapsed         | 31            |\n",
      "|    total_timesteps      | 6656          |\n",
      "| train/                  |               |\n",
      "|    approx_kl            | 1.1420343e-07 |\n",
      "|    clip_fraction        | 0             |\n",
      "|    clip_range           | 0.2           |\n",
      "|    entropy_loss         | -1.42         |\n",
      "|    explained_variance   | -2.05e-05     |\n",
      "|    learning_rate        | 0.0001        |\n",
      "|    loss                 | 37.9          |\n",
      "|    n_updates            | 60            |\n",
      "|    policy_gradient_loss | -5.13e-06     |\n",
      "|    std                  | 1             |\n",
      "|    value_loss           | 102           |\n",
      "-------------------------------------------\n",
      "-------------------------------------------\n",
      "| time/                   |               |\n",
      "|    fps                  | 205           |\n",
      "|    iterations           | 14            |\n",
      "|    time_elapsed         | 34            |\n",
      "|    total_timesteps      | 7168          |\n",
      "| train/                  |               |\n",
      "|    approx_kl            | 2.7229544e-07 |\n",
      "|    clip_fraction        | 0             |\n",
      "|    clip_range           | 0.2           |\n",
      "|    entropy_loss         | -1.42         |\n",
      "|    explained_variance   | -0.000167     |\n",
      "|    learning_rate        | 0.0001        |\n",
      "|    loss                 | 23.3          |\n",
      "|    n_updates            | 65            |\n",
      "|    policy_gradient_loss | -1.63e-05     |\n",
      "|    std                  | 1             |\n",
      "|    value_loss           | 55.3          |\n",
      "-------------------------------------------\n",
      "-------------------------------------------\n",
      "| time/                   |               |\n",
      "|    fps                  | 208           |\n",
      "|    iterations           | 15            |\n",
      "|    time_elapsed         | 36            |\n",
      "|    total_timesteps      | 7680          |\n",
      "| train/                  |               |\n",
      "|    approx_kl            | 2.2316817e-07 |\n",
      "|    clip_fraction        | 0             |\n",
      "|    clip_range           | 0.2           |\n",
      "|    entropy_loss         | -1.42         |\n",
      "|    explained_variance   | 2.98e-06      |\n",
      "|    learning_rate        | 0.0001        |\n",
      "|    loss                 | 28.5          |\n",
      "|    n_updates            | 70            |\n",
      "|    policy_gradient_loss | 2.46e-06      |\n",
      "|    std                  | 1             |\n",
      "|    value_loss           | 226           |\n",
      "-------------------------------------------\n",
      "-------------------------------------------\n",
      "| time/                   |               |\n",
      "|    fps                  | 211           |\n",
      "|    iterations           | 16            |\n",
      "|    time_elapsed         | 38            |\n",
      "|    total_timesteps      | 8192          |\n",
      "| train/                  |               |\n",
      "|    approx_kl            | 1.8603168e-07 |\n",
      "|    clip_fraction        | 0             |\n",
      "|    clip_range           | 0.2           |\n",
      "|    entropy_loss         | -1.42         |\n",
      "|    explained_variance   | -6.79e-06     |\n",
      "|    learning_rate        | 0.0001        |\n",
      "|    loss                 | 130           |\n",
      "|    n_updates            | 75            |\n",
      "|    policy_gradient_loss | -1.87e-06     |\n",
      "|    std                  | 1             |\n",
      "|    value_loss           | 202           |\n",
      "-------------------------------------------\n",
      "reseting...\n",
      "reseting...\n",
      "reseting...\n",
      "Mean reward: 43.94898095116109 +/- 0.0003659031127192236\n"
     ]
    }
   ],
   "source": [
    "policy_kwargs = dict(\n",
    "    activation_fn=nn.ReLU,\n",
    "    net_arch=dict(pi=[20, 20], vf=[20, 20]),\n",
    "    lstm_hidden_size=8,\n",
    "    n_lstm_layers=1,\n",
    ")\n",
    "\n",
    "# Create the PPO model\n",
    "model = RecurrentPPO(\n",
    "    \"MlpLstmPolicy\",\n",
    "    env,\n",
    "    verbose=1,\n",
    "    device=\"cpu\",\n",
    "    policy_kwargs=policy_kwargs,\n",
    "    learning_rate=0.0001,\n",
    "    batch_size=128,  # размер одного батча\n",
    "    n_epochs=5,  # количество повторов на каждом новом наборе батчей\n",
    "    gamma=0.99,  # степень заглядывания в будущее (от 0 до 0.99999)\n",
    "    n_steps=128 * 4,  # batch_size x количество батчей\n",
    ")\n",
    "\n",
    "# # Train the model\n",
    "model.learn(total_timesteps=8000)  # , progress_bar=True)\n",
    "\n",
    "# Evaluate the trained model\n",
    "mean_reward, std_reward = evaluate_policy(model, env, n_eval_episodes=2)\n",
    "print(f\"Mean reward: {mean_reward} +/- {std_reward}\")"
   ]
  },
  {
   "cell_type": "code",
   "execution_count": null,
   "metadata": {},
   "outputs": [],
   "source": []
  },
  {
   "cell_type": "code",
   "execution_count": null,
   "metadata": {},
   "outputs": [],
   "source": []
  },
  {
   "cell_type": "code",
   "execution_count": null,
   "metadata": {},
   "outputs": [],
   "source": []
  },
  {
   "cell_type": "code",
   "execution_count": 60,
   "metadata": {
    "metadata": {}
   },
   "outputs": [
    {
     "name": "stdout",
     "output_type": "stream",
     "text": [
      "reseting...\n",
      "[[[0.54934686 0.63278157 0.4829838  0.11839067 0.05480053 0.44519946]\n",
      "  [0.54934686 0.6541974  0.5773807  0.20242633 0.05480053 0.44519946]]]\n",
      "[[[0.54934686 0.6541974  0.5773807  0.20242633 0.2044625  0.2955467 ]\n",
      "  [0.67650723 0.65810204 0.6249538  0.23520164 0.2044625  0.2955467 ]]]\n",
      "[[[0.67650723 0.65810204 0.6249538  0.23520164 0.3059261  0.19409558]\n",
      "  [0.62685865 0.6440367  0.69091696 0.23829797 0.3059261  0.19409558]]]\n",
      "[[[0.62685865 0.6440367  0.69091696 0.23829797 0.419828   0.08020771]\n",
      "  [0.62685865 0.835335   0.7722191  0.37847912 0.419828   0.08020771]]]\n",
      "[[[0.62685865 0.835335   0.7722191  0.37847912 0.39571083 0.10430263]\n",
      "  [0.65156597 0.79856586 0.73336536 0.23354925 0.39571083 0.10430263]]]\n",
      "[[[0.65156597 0.79856586 0.73336536 0.23354925 0.419798   0.08024065]\n",
      "  [0.9214569  0.7635302  0.6770725  0.07029834 0.419798   0.08024065]]]\n",
      "[[[0.9214569  0.7635302  0.6770725  0.07029834 0.42824516 0.07180284]\n",
      "  [0.9715564  0.929557   0.78918284 0.30962658 0.42824516 0.07180284]]]\n",
      "[[[0.9715564  0.929557   0.78918284 0.30962658 0.36944503 0.13041897]\n",
      "  [0.8487318  0.78633356 0.72958446 0.2910883  0.36944503 0.13041897]]]\n",
      "[[[0.8487318  0.78633356 0.72958446 0.2910883  0.17647345 0.32289302]\n",
      "  [0.8941466  0.7716014  0.7498222  0.3413643  0.17647345 0.32289302]]]\n",
      "[[[0.8941466  0.7716014  0.7498222  0.3413643  0.5003005  0.        ]\n",
      "  [0.7794698  0.68554825 0.7074035  0.29068825 0.5003005  0.        ]]]\n",
      "[[[0.7794698  0.68554825 0.7074035  0.29068825 0.5003005  0.        ]\n",
      "  [0.71251655 0.6186584  0.71829504 0.31318584 0.5003005  0.        ]]]\n",
      "[[[0.71251655 0.6186584  0.71829504 0.31318584 0.5003005  0.        ]\n",
      "  [0.7484213  0.6380718  0.7155369  0.31651676 0.5003005  0.        ]]]\n",
      "[[[0.7484213  0.6380718  0.7155369  0.31651676 0.5003005  0.        ]\n",
      "  [0.7582295  0.6552496  0.72890335 0.3298619  0.5003005  0.        ]]]\n",
      "[[[0.7582295  0.6552496  0.72890335 0.3298619  0.27647808 0.22324534]\n",
      "  [0.71359724 0.6022316  0.71795344 0.27412233 0.27647808 0.22324534]]]\n",
      "[[[0.71359724 0.6022316  0.71795344 0.27412233 0.13119172 0.3682016 ]\n",
      "  [0.72045285 0.610862   0.6460823  0.27849713 0.13119172 0.3682016 ]]]\n",
      "[[[0.72045285 0.610862   0.6460823  0.27849713 0.43487054 0.06526858]\n",
      "  [0.73640394 0.637588   0.63513917 0.30539978 0.43487054 0.06526858]]]\n",
      "[[[0.73640394 0.637588   0.63513917 0.30539978 0.50031984 0.        ]\n",
      "  [0.65271294 0.57714707 0.6276342  0.25239673 0.50031984 0.        ]]]\n",
      "[[[0.65271294 0.57714707 0.6276342  0.25239673 0.3205474  0.17933099]\n",
      "  [0.63688046 0.54924893 0.58336645 0.24265645 0.3205474  0.17933099]]]\n",
      "[[[0.63688046 0.54924893 0.58336645 0.24265645 0.         0.49911082]\n",
      "  [0.6252866  0.51630884 0.52030045 0.1930348  0.         0.49911082]]]\n",
      "[[[0.6252866  0.51630884 0.52030045 0.1930348  0.5002781  0.        ]\n",
      "  [0.39183742 0.49007857 0.47725725 0.19598287 0.5002781  0.        ]]]\n"
     ]
    }
   ],
   "source": [
    "# Reset the environment to get the initial observation\n",
    "obs = env.reset()\n",
    "\n",
    "num_iterations = 20\n",
    "actions_taken = []\n",
    "rewards = []\n",
    "\n",
    "for _ in range(num_iterations):\n",
    "    print(obs)\n",
    "    # Choose an action randomly (replace this with your own policy)\n",
    "    action, _ = model.predict(obs, deterministic=False)\n",
    "\n",
    "    # Take a step in the environment with the predicted action\n",
    "    obs, reward, done, _ = env.step(action)\n",
    "\n",
    "    # Save the action taken\n",
    "    actions_taken.append(action)\n",
    "    rewards.append(reward)\n",
    "\n",
    "    if done:\n",
    "        break"
   ]
  },
  {
   "cell_type": "code",
   "execution_count": 61,
   "metadata": {
    "metadata": {}
   },
   "outputs": [
    {
     "data": {
      "text/html": [
       "<div>\n",
       "<style scoped>\n",
       "    .dataframe tbody tr th:only-of-type {\n",
       "        vertical-align: middle;\n",
       "    }\n",
       "\n",
       "    .dataframe tbody tr th {\n",
       "        vertical-align: top;\n",
       "    }\n",
       "\n",
       "    .dataframe thead th {\n",
       "        text-align: right;\n",
       "    }\n",
       "</style>\n",
       "<table border=\"1\" class=\"dataframe\">\n",
       "  <thead>\n",
       "    <tr style=\"text-align: right;\">\n",
       "      <th></th>\n",
       "      <th>rsi</th>\n",
       "      <th>bb</th>\n",
       "      <th>mfi</th>\n",
       "      <th>cmf</th>\n",
       "      <th>open</th>\n",
       "      <th>high</th>\n",
       "      <th>low</th>\n",
       "      <th>close</th>\n",
       "      <th>volume</th>\n",
       "      <th>actions</th>\n",
       "      <th>rewards</th>\n",
       "    </tr>\n",
       "  </thead>\n",
       "  <tbody>\n",
       "    <tr>\n",
       "      <th>1</th>\n",
       "      <td>0.549347</td>\n",
       "      <td>0.654197</td>\n",
       "      <td>0.577381</td>\n",
       "      <td>0.202426</td>\n",
       "      <td>162.48</td>\n",
       "      <td>162.50</td>\n",
       "      <td>162.48</td>\n",
       "      <td>162.49</td>\n",
       "      <td>83300.0</td>\n",
       "      <td>-0.336148</td>\n",
       "      <td>0.363775</td>\n",
       "    </tr>\n",
       "    <tr>\n",
       "      <th>2</th>\n",
       "      <td>0.676507</td>\n",
       "      <td>0.658102</td>\n",
       "      <td>0.624954</td>\n",
       "      <td>0.235202</td>\n",
       "      <td>162.50</td>\n",
       "      <td>162.50</td>\n",
       "      <td>162.49</td>\n",
       "      <td>162.50</td>\n",
       "      <td>52370.0</td>\n",
       "      <td>-0.343266</td>\n",
       "      <td>0.000000</td>\n",
       "    </tr>\n",
       "    <tr>\n",
       "      <th>3</th>\n",
       "      <td>0.626859</td>\n",
       "      <td>0.644037</td>\n",
       "      <td>0.690917</td>\n",
       "      <td>0.238298</td>\n",
       "      <td>162.49</td>\n",
       "      <td>162.50</td>\n",
       "      <td>162.49</td>\n",
       "      <td>162.50</td>\n",
       "      <td>28020.0</td>\n",
       "      <td>-0.586762</td>\n",
       "      <td>1.283364</td>\n",
       "    </tr>\n",
       "    <tr>\n",
       "      <th>4</th>\n",
       "      <td>0.626859</td>\n",
       "      <td>0.835335</td>\n",
       "      <td>0.772219</td>\n",
       "      <td>0.378479</td>\n",
       "      <td>162.50</td>\n",
       "      <td>162.63</td>\n",
       "      <td>162.49</td>\n",
       "      <td>162.63</td>\n",
       "      <td>62910.0</td>\n",
       "      <td>0.057445</td>\n",
       "      <td>0.256720</td>\n",
       "    </tr>\n",
       "    <tr>\n",
       "      <th>5</th>\n",
       "      <td>0.651566</td>\n",
       "      <td>0.798566</td>\n",
       "      <td>0.733365</td>\n",
       "      <td>0.233549</td>\n",
       "      <td>162.62</td>\n",
       "      <td>162.69</td>\n",
       "      <td>162.62</td>\n",
       "      <td>162.65</td>\n",
       "      <td>54210.0</td>\n",
       "      <td>-0.230694</td>\n",
       "      <td>0.098746</td>\n",
       "    </tr>\n",
       "    <tr>\n",
       "      <th>6</th>\n",
       "      <td>0.921457</td>\n",
       "      <td>0.763530</td>\n",
       "      <td>0.677073</td>\n",
       "      <td>0.070298</td>\n",
       "      <td>162.65</td>\n",
       "      <td>162.67</td>\n",
       "      <td>162.64</td>\n",
       "      <td>162.66</td>\n",
       "      <td>29610.0</td>\n",
       "      <td>-0.105156</td>\n",
       "      <td>2.915915</td>\n",
       "    </tr>\n",
       "    <tr>\n",
       "      <th>7</th>\n",
       "      <td>0.971556</td>\n",
       "      <td>0.929557</td>\n",
       "      <td>0.789183</td>\n",
       "      <td>0.309627</td>\n",
       "      <td>162.65</td>\n",
       "      <td>162.99</td>\n",
       "      <td>162.64</td>\n",
       "      <td>162.99</td>\n",
       "      <td>325840.0</td>\n",
       "      <td>0.137305</td>\n",
       "      <td>-1.444029</td>\n",
       "    </tr>\n",
       "    <tr>\n",
       "      <th>8</th>\n",
       "      <td>0.848732</td>\n",
       "      <td>0.786334</td>\n",
       "      <td>0.729584</td>\n",
       "      <td>0.291088</td>\n",
       "      <td>162.98</td>\n",
       "      <td>163.00</td>\n",
       "      <td>162.86</td>\n",
       "      <td>162.90</td>\n",
       "      <td>189210.0</td>\n",
       "      <td>0.522328</td>\n",
       "      <td>1.986480</td>\n",
       "    </tr>\n",
       "    <tr>\n",
       "      <th>9</th>\n",
       "      <td>0.894147</td>\n",
       "      <td>0.771601</td>\n",
       "      <td>0.749822</td>\n",
       "      <td>0.341364</td>\n",
       "      <td>162.90</td>\n",
       "      <td>163.00</td>\n",
       "      <td>162.84</td>\n",
       "      <td>162.95</td>\n",
       "      <td>236420.0</td>\n",
       "      <td>-1.000000</td>\n",
       "      <td>0.000000</td>\n",
       "    </tr>\n",
       "    <tr>\n",
       "      <th>10</th>\n",
       "      <td>0.779470</td>\n",
       "      <td>0.685548</td>\n",
       "      <td>0.707404</td>\n",
       "      <td>0.290688</td>\n",
       "      <td>162.92</td>\n",
       "      <td>162.95</td>\n",
       "      <td>162.85</td>\n",
       "      <td>162.87</td>\n",
       "      <td>74430.0</td>\n",
       "      <td>-0.229764</td>\n",
       "      <td>0.000000</td>\n",
       "    </tr>\n",
       "    <tr>\n",
       "      <th>11</th>\n",
       "      <td>0.712517</td>\n",
       "      <td>0.618658</td>\n",
       "      <td>0.718295</td>\n",
       "      <td>0.313186</td>\n",
       "      <td>162.86</td>\n",
       "      <td>162.87</td>\n",
       "      <td>162.79</td>\n",
       "      <td>162.80</td>\n",
       "      <td>79710.0</td>\n",
       "      <td>-1.000000</td>\n",
       "      <td>0.000000</td>\n",
       "    </tr>\n",
       "    <tr>\n",
       "      <th>12</th>\n",
       "      <td>0.748421</td>\n",
       "      <td>0.638072</td>\n",
       "      <td>0.715537</td>\n",
       "      <td>0.316517</td>\n",
       "      <td>162.80</td>\n",
       "      <td>162.86</td>\n",
       "      <td>162.71</td>\n",
       "      <td>162.85</td>\n",
       "      <td>56940.0</td>\n",
       "      <td>-1.000000</td>\n",
       "      <td>0.000000</td>\n",
       "    </tr>\n",
       "    <tr>\n",
       "      <th>13</th>\n",
       "      <td>0.758229</td>\n",
       "      <td>0.655250</td>\n",
       "      <td>0.728903</td>\n",
       "      <td>0.329862</td>\n",
       "      <td>162.86</td>\n",
       "      <td>162.90</td>\n",
       "      <td>162.80</td>\n",
       "      <td>162.90</td>\n",
       "      <td>20580.0</td>\n",
       "      <td>0.447376</td>\n",
       "      <td>-1.373161</td>\n",
       "    </tr>\n",
       "    <tr>\n",
       "      <th>14</th>\n",
       "      <td>0.713597</td>\n",
       "      <td>0.602232</td>\n",
       "      <td>0.717953</td>\n",
       "      <td>0.274122</td>\n",
       "      <td>162.90</td>\n",
       "      <td>162.90</td>\n",
       "      <td>162.85</td>\n",
       "      <td>162.85</td>\n",
       "      <td>61300.0</td>\n",
       "      <td>0.525490</td>\n",
       "      <td>1.359051</td>\n",
       "    </tr>\n",
       "    <tr>\n",
       "      <th>15</th>\n",
       "      <td>0.720453</td>\n",
       "      <td>0.610862</td>\n",
       "      <td>0.646082</td>\n",
       "      <td>0.278497</td>\n",
       "      <td>162.88</td>\n",
       "      <td>162.90</td>\n",
       "      <td>162.85</td>\n",
       "      <td>162.88</td>\n",
       "      <td>72600.0</td>\n",
       "      <td>-0.822737</td>\n",
       "      <td>0.401462</td>\n",
       "    </tr>\n",
       "    <tr>\n",
       "      <th>16</th>\n",
       "      <td>0.736404</td>\n",
       "      <td>0.637588</td>\n",
       "      <td>0.635139</td>\n",
       "      <td>0.305400</td>\n",
       "      <td>162.89</td>\n",
       "      <td>162.95</td>\n",
       "      <td>162.85</td>\n",
       "      <td>162.93</td>\n",
       "      <td>44000.0</td>\n",
       "      <td>-1.000000</td>\n",
       "      <td>0.000000</td>\n",
       "    </tr>\n",
       "    <tr>\n",
       "      <th>17</th>\n",
       "      <td>0.652713</td>\n",
       "      <td>0.577147</td>\n",
       "      <td>0.627634</td>\n",
       "      <td>0.252397</td>\n",
       "      <td>162.92</td>\n",
       "      <td>162.93</td>\n",
       "      <td>162.85</td>\n",
       "      <td>162.88</td>\n",
       "      <td>68520.0</td>\n",
       "      <td>0.359315</td>\n",
       "      <td>-0.220601</td>\n",
       "    </tr>\n",
       "    <tr>\n",
       "      <th>18</th>\n",
       "      <td>0.636880</td>\n",
       "      <td>0.549249</td>\n",
       "      <td>0.583366</td>\n",
       "      <td>0.242656</td>\n",
       "      <td>162.88</td>\n",
       "      <td>162.88</td>\n",
       "      <td>162.85</td>\n",
       "      <td>162.87</td>\n",
       "      <td>83180.0</td>\n",
       "      <td>1.000000</td>\n",
       "      <td>-0.613987</td>\n",
       "    </tr>\n",
       "    <tr>\n",
       "      <th>19</th>\n",
       "      <td>0.625287</td>\n",
       "      <td>0.516309</td>\n",
       "      <td>0.520300</td>\n",
       "      <td>0.193035</td>\n",
       "      <td>162.86</td>\n",
       "      <td>162.87</td>\n",
       "      <td>162.85</td>\n",
       "      <td>162.86</td>\n",
       "      <td>112180.0</td>\n",
       "      <td>-1.000000</td>\n",
       "      <td>0.000000</td>\n",
       "    </tr>\n",
       "    <tr>\n",
       "      <th>20</th>\n",
       "      <td>0.391837</td>\n",
       "      <td>0.490079</td>\n",
       "      <td>0.477257</td>\n",
       "      <td>0.195983</td>\n",
       "      <td>162.86</td>\n",
       "      <td>162.87</td>\n",
       "      <td>162.85</td>\n",
       "      <td>162.86</td>\n",
       "      <td>71030.0</td>\n",
       "      <td>-0.739168</td>\n",
       "      <td>0.000000</td>\n",
       "    </tr>\n",
       "  </tbody>\n",
       "</table>\n",
       "</div>"
      ],
      "text/plain": [
       "         rsi        bb       mfi       cmf    open    high     low   close  \\\n",
       "1   0.549347  0.654197  0.577381  0.202426  162.48  162.50  162.48  162.49   \n",
       "2   0.676507  0.658102  0.624954  0.235202  162.50  162.50  162.49  162.50   \n",
       "3   0.626859  0.644037  0.690917  0.238298  162.49  162.50  162.49  162.50   \n",
       "4   0.626859  0.835335  0.772219  0.378479  162.50  162.63  162.49  162.63   \n",
       "5   0.651566  0.798566  0.733365  0.233549  162.62  162.69  162.62  162.65   \n",
       "6   0.921457  0.763530  0.677073  0.070298  162.65  162.67  162.64  162.66   \n",
       "7   0.971556  0.929557  0.789183  0.309627  162.65  162.99  162.64  162.99   \n",
       "8   0.848732  0.786334  0.729584  0.291088  162.98  163.00  162.86  162.90   \n",
       "9   0.894147  0.771601  0.749822  0.341364  162.90  163.00  162.84  162.95   \n",
       "10  0.779470  0.685548  0.707404  0.290688  162.92  162.95  162.85  162.87   \n",
       "11  0.712517  0.618658  0.718295  0.313186  162.86  162.87  162.79  162.80   \n",
       "12  0.748421  0.638072  0.715537  0.316517  162.80  162.86  162.71  162.85   \n",
       "13  0.758229  0.655250  0.728903  0.329862  162.86  162.90  162.80  162.90   \n",
       "14  0.713597  0.602232  0.717953  0.274122  162.90  162.90  162.85  162.85   \n",
       "15  0.720453  0.610862  0.646082  0.278497  162.88  162.90  162.85  162.88   \n",
       "16  0.736404  0.637588  0.635139  0.305400  162.89  162.95  162.85  162.93   \n",
       "17  0.652713  0.577147  0.627634  0.252397  162.92  162.93  162.85  162.88   \n",
       "18  0.636880  0.549249  0.583366  0.242656  162.88  162.88  162.85  162.87   \n",
       "19  0.625287  0.516309  0.520300  0.193035  162.86  162.87  162.85  162.86   \n",
       "20  0.391837  0.490079  0.477257  0.195983  162.86  162.87  162.85  162.86   \n",
       "\n",
       "      volume   actions   rewards  \n",
       "1    83300.0 -0.336148  0.363775  \n",
       "2    52370.0 -0.343266  0.000000  \n",
       "3    28020.0 -0.586762  1.283364  \n",
       "4    62910.0  0.057445  0.256720  \n",
       "5    54210.0 -0.230694  0.098746  \n",
       "6    29610.0 -0.105156  2.915915  \n",
       "7   325840.0  0.137305 -1.444029  \n",
       "8   189210.0  0.522328  1.986480  \n",
       "9   236420.0 -1.000000  0.000000  \n",
       "10   74430.0 -0.229764  0.000000  \n",
       "11   79710.0 -1.000000  0.000000  \n",
       "12   56940.0 -1.000000  0.000000  \n",
       "13   20580.0  0.447376 -1.373161  \n",
       "14   61300.0  0.525490  1.359051  \n",
       "15   72600.0 -0.822737  0.401462  \n",
       "16   44000.0 -1.000000  0.000000  \n",
       "17   68520.0  0.359315 -0.220601  \n",
       "18   83180.0  1.000000 -0.613987  \n",
       "19  112180.0 -1.000000  0.000000  \n",
       "20   71030.0 -0.739168  0.000000  "
      ]
     },
     "execution_count": 61,
     "metadata": {},
     "output_type": "execute_result"
    }
   ],
   "source": [
    "test_df = all_data.iloc[rnn_steps - 1 : num_iterations + (rnn_steps - 1), :].copy()\n",
    "test_df[\"actions\"] = np.array(actions_taken).T[0][0]\n",
    "test_df[\"rewards\"] = np.array(rewards)\n",
    "\n",
    "test_df"
   ]
  },
  {
   "cell_type": "code",
   "execution_count": 62,
   "metadata": {
    "metadata": {}
   },
   "outputs": [
    {
     "data": {
      "application/vnd.plotly.v1+json": {
       "config": {
        "plotlyServerURL": "https://plot.ly"
       },
       "data": [
        {
         "customdata": [
          [
           0.5493468360498566,
           0.6541973749856562,
           -0.336147665977478,
           0.3637746274471283
          ],
          [
           0.6765072051058343,
           0.6581020162519651,
           -0.34326595067977905,
           0
          ],
          [
           0.6268586378926518,
           0.6440367306347307,
           -0.5867618322372437,
           1.283364176750183
          ],
          [
           0.6268586378926518,
           0.8353349947752647,
           0.05744536221027374,
           0.2567201852798462
          ],
          [
           0.6515659955257269,
           0.7985658380981133,
           -0.23069392144680023,
           0.0987456664443016
          ],
          [
           0.9214568988059322,
           0.763530198259452,
           -0.10515627264976501,
           2.9159152507781982
          ],
          [
           0.9715564077980484,
           0.9295570250363692,
           0.13730481266975403,
           -1.4440292119979858
          ],
          [
           0.8487318051076641,
           0.7863335368419275,
           0.52232825756073,
           1.9864795207977295
          ],
          [
           0.8941466315521394,
           0.7716013939436909,
           -1,
           0
          ],
          [
           0.7794698111093434,
           0.6855482232988737,
           -0.2297636866569519,
           0
          ],
          [
           0.7125165502442882,
           0.6186584293999795,
           -1,
           0
          ],
          [
           0.7484213310411045,
           0.6380717554871216,
           -1,
           0
          ],
          [
           0.7582294662831771,
           0.6552495835366101,
           0.44737595319747925,
           -1.3731613159179688
          ],
          [
           0.7135972338385602,
           0.6022316068012722,
           0.5254896283149719,
           1.3590508699417114
          ],
          [
           0.720452820389906,
           0.6108620247231007,
           -0.8227368593215942,
           0.40146151185035706
          ],
          [
           0.7364039376133293,
           0.6375880446952913,
           -1,
           0
          ],
          [
           0.6527129145661301,
           0.5771470745703644,
           0.35931506752967834,
           -0.22060109674930573
          ],
          [
           0.6368804452040542,
           0.5492489196044643,
           1,
           -0.613986611366272
          ],
          [
           0.6252865896869523,
           0.5163088690352678,
           -1,
           0
          ],
          [
           0.39183743113898484,
           0.49007856805210664,
           -0.7391684651374817,
           0
          ]
         ],
         "hovertemplate": "index=%{x}<br>close=%{y}<br>rsi=%{customdata[0]}<br>bb=%{customdata[1]}<br>actions=%{customdata[2]}<br>rewards=%{customdata[3]}<extra></extra>",
         "legendgroup": "",
         "line": {
          "color": "#636efa",
          "dash": "solid"
         },
         "marker": {
          "symbol": "circle"
         },
         "mode": "markers+lines",
         "name": "",
         "orientation": "v",
         "showlegend": false,
         "type": "scatter",
         "x": [
          1,
          2,
          3,
          4,
          5,
          6,
          7,
          8,
          9,
          10,
          11,
          12,
          13,
          14,
          15,
          16,
          17,
          18,
          19,
          20
         ],
         "xaxis": "x",
         "y": [
          162.49,
          162.5,
          162.5,
          162.63,
          162.65,
          162.66,
          162.99,
          162.9,
          162.95,
          162.87,
          162.8,
          162.85,
          162.9,
          162.85,
          162.88,
          162.93,
          162.88,
          162.87,
          162.86,
          162.86
         ],
         "yaxis": "y"
        }
       ],
       "layout": {
        "legend": {
         "tracegroupgap": 0
        },
        "margin": {
         "t": 60
        },
        "template": {
         "data": {
          "bar": [
           {
            "error_x": {
             "color": "#2a3f5f"
            },
            "error_y": {
             "color": "#2a3f5f"
            },
            "marker": {
             "line": {
              "color": "#E5ECF6",
              "width": 0.5
             },
             "pattern": {
              "fillmode": "overlay",
              "size": 10,
              "solidity": 0.2
             }
            },
            "type": "bar"
           }
          ],
          "barpolar": [
           {
            "marker": {
             "line": {
              "color": "#E5ECF6",
              "width": 0.5
             },
             "pattern": {
              "fillmode": "overlay",
              "size": 10,
              "solidity": 0.2
             }
            },
            "type": "barpolar"
           }
          ],
          "carpet": [
           {
            "aaxis": {
             "endlinecolor": "#2a3f5f",
             "gridcolor": "white",
             "linecolor": "white",
             "minorgridcolor": "white",
             "startlinecolor": "#2a3f5f"
            },
            "baxis": {
             "endlinecolor": "#2a3f5f",
             "gridcolor": "white",
             "linecolor": "white",
             "minorgridcolor": "white",
             "startlinecolor": "#2a3f5f"
            },
            "type": "carpet"
           }
          ],
          "choropleth": [
           {
            "colorbar": {
             "outlinewidth": 0,
             "ticks": ""
            },
            "type": "choropleth"
           }
          ],
          "contour": [
           {
            "colorbar": {
             "outlinewidth": 0,
             "ticks": ""
            },
            "colorscale": [
             [
              0,
              "#0d0887"
             ],
             [
              0.1111111111111111,
              "#46039f"
             ],
             [
              0.2222222222222222,
              "#7201a8"
             ],
             [
              0.3333333333333333,
              "#9c179e"
             ],
             [
              0.4444444444444444,
              "#bd3786"
             ],
             [
              0.5555555555555556,
              "#d8576b"
             ],
             [
              0.6666666666666666,
              "#ed7953"
             ],
             [
              0.7777777777777778,
              "#fb9f3a"
             ],
             [
              0.8888888888888888,
              "#fdca26"
             ],
             [
              1,
              "#f0f921"
             ]
            ],
            "type": "contour"
           }
          ],
          "contourcarpet": [
           {
            "colorbar": {
             "outlinewidth": 0,
             "ticks": ""
            },
            "type": "contourcarpet"
           }
          ],
          "heatmap": [
           {
            "colorbar": {
             "outlinewidth": 0,
             "ticks": ""
            },
            "colorscale": [
             [
              0,
              "#0d0887"
             ],
             [
              0.1111111111111111,
              "#46039f"
             ],
             [
              0.2222222222222222,
              "#7201a8"
             ],
             [
              0.3333333333333333,
              "#9c179e"
             ],
             [
              0.4444444444444444,
              "#bd3786"
             ],
             [
              0.5555555555555556,
              "#d8576b"
             ],
             [
              0.6666666666666666,
              "#ed7953"
             ],
             [
              0.7777777777777778,
              "#fb9f3a"
             ],
             [
              0.8888888888888888,
              "#fdca26"
             ],
             [
              1,
              "#f0f921"
             ]
            ],
            "type": "heatmap"
           }
          ],
          "heatmapgl": [
           {
            "colorbar": {
             "outlinewidth": 0,
             "ticks": ""
            },
            "colorscale": [
             [
              0,
              "#0d0887"
             ],
             [
              0.1111111111111111,
              "#46039f"
             ],
             [
              0.2222222222222222,
              "#7201a8"
             ],
             [
              0.3333333333333333,
              "#9c179e"
             ],
             [
              0.4444444444444444,
              "#bd3786"
             ],
             [
              0.5555555555555556,
              "#d8576b"
             ],
             [
              0.6666666666666666,
              "#ed7953"
             ],
             [
              0.7777777777777778,
              "#fb9f3a"
             ],
             [
              0.8888888888888888,
              "#fdca26"
             ],
             [
              1,
              "#f0f921"
             ]
            ],
            "type": "heatmapgl"
           }
          ],
          "histogram": [
           {
            "marker": {
             "pattern": {
              "fillmode": "overlay",
              "size": 10,
              "solidity": 0.2
             }
            },
            "type": "histogram"
           }
          ],
          "histogram2d": [
           {
            "colorbar": {
             "outlinewidth": 0,
             "ticks": ""
            },
            "colorscale": [
             [
              0,
              "#0d0887"
             ],
             [
              0.1111111111111111,
              "#46039f"
             ],
             [
              0.2222222222222222,
              "#7201a8"
             ],
             [
              0.3333333333333333,
              "#9c179e"
             ],
             [
              0.4444444444444444,
              "#bd3786"
             ],
             [
              0.5555555555555556,
              "#d8576b"
             ],
             [
              0.6666666666666666,
              "#ed7953"
             ],
             [
              0.7777777777777778,
              "#fb9f3a"
             ],
             [
              0.8888888888888888,
              "#fdca26"
             ],
             [
              1,
              "#f0f921"
             ]
            ],
            "type": "histogram2d"
           }
          ],
          "histogram2dcontour": [
           {
            "colorbar": {
             "outlinewidth": 0,
             "ticks": ""
            },
            "colorscale": [
             [
              0,
              "#0d0887"
             ],
             [
              0.1111111111111111,
              "#46039f"
             ],
             [
              0.2222222222222222,
              "#7201a8"
             ],
             [
              0.3333333333333333,
              "#9c179e"
             ],
             [
              0.4444444444444444,
              "#bd3786"
             ],
             [
              0.5555555555555556,
              "#d8576b"
             ],
             [
              0.6666666666666666,
              "#ed7953"
             ],
             [
              0.7777777777777778,
              "#fb9f3a"
             ],
             [
              0.8888888888888888,
              "#fdca26"
             ],
             [
              1,
              "#f0f921"
             ]
            ],
            "type": "histogram2dcontour"
           }
          ],
          "mesh3d": [
           {
            "colorbar": {
             "outlinewidth": 0,
             "ticks": ""
            },
            "type": "mesh3d"
           }
          ],
          "parcoords": [
           {
            "line": {
             "colorbar": {
              "outlinewidth": 0,
              "ticks": ""
             }
            },
            "type": "parcoords"
           }
          ],
          "pie": [
           {
            "automargin": true,
            "type": "pie"
           }
          ],
          "scatter": [
           {
            "fillpattern": {
             "fillmode": "overlay",
             "size": 10,
             "solidity": 0.2
            },
            "type": "scatter"
           }
          ],
          "scatter3d": [
           {
            "line": {
             "colorbar": {
              "outlinewidth": 0,
              "ticks": ""
             }
            },
            "marker": {
             "colorbar": {
              "outlinewidth": 0,
              "ticks": ""
             }
            },
            "type": "scatter3d"
           }
          ],
          "scattercarpet": [
           {
            "marker": {
             "colorbar": {
              "outlinewidth": 0,
              "ticks": ""
             }
            },
            "type": "scattercarpet"
           }
          ],
          "scattergeo": [
           {
            "marker": {
             "colorbar": {
              "outlinewidth": 0,
              "ticks": ""
             }
            },
            "type": "scattergeo"
           }
          ],
          "scattergl": [
           {
            "marker": {
             "colorbar": {
              "outlinewidth": 0,
              "ticks": ""
             }
            },
            "type": "scattergl"
           }
          ],
          "scattermapbox": [
           {
            "marker": {
             "colorbar": {
              "outlinewidth": 0,
              "ticks": ""
             }
            },
            "type": "scattermapbox"
           }
          ],
          "scatterpolar": [
           {
            "marker": {
             "colorbar": {
              "outlinewidth": 0,
              "ticks": ""
             }
            },
            "type": "scatterpolar"
           }
          ],
          "scatterpolargl": [
           {
            "marker": {
             "colorbar": {
              "outlinewidth": 0,
              "ticks": ""
             }
            },
            "type": "scatterpolargl"
           }
          ],
          "scatterternary": [
           {
            "marker": {
             "colorbar": {
              "outlinewidth": 0,
              "ticks": ""
             }
            },
            "type": "scatterternary"
           }
          ],
          "surface": [
           {
            "colorbar": {
             "outlinewidth": 0,
             "ticks": ""
            },
            "colorscale": [
             [
              0,
              "#0d0887"
             ],
             [
              0.1111111111111111,
              "#46039f"
             ],
             [
              0.2222222222222222,
              "#7201a8"
             ],
             [
              0.3333333333333333,
              "#9c179e"
             ],
             [
              0.4444444444444444,
              "#bd3786"
             ],
             [
              0.5555555555555556,
              "#d8576b"
             ],
             [
              0.6666666666666666,
              "#ed7953"
             ],
             [
              0.7777777777777778,
              "#fb9f3a"
             ],
             [
              0.8888888888888888,
              "#fdca26"
             ],
             [
              1,
              "#f0f921"
             ]
            ],
            "type": "surface"
           }
          ],
          "table": [
           {
            "cells": {
             "fill": {
              "color": "#EBF0F8"
             },
             "line": {
              "color": "white"
             }
            },
            "header": {
             "fill": {
              "color": "#C8D4E3"
             },
             "line": {
              "color": "white"
             }
            },
            "type": "table"
           }
          ]
         },
         "layout": {
          "annotationdefaults": {
           "arrowcolor": "#2a3f5f",
           "arrowhead": 0,
           "arrowwidth": 1
          },
          "autotypenumbers": "strict",
          "coloraxis": {
           "colorbar": {
            "outlinewidth": 0,
            "ticks": ""
           }
          },
          "colorscale": {
           "diverging": [
            [
             0,
             "#8e0152"
            ],
            [
             0.1,
             "#c51b7d"
            ],
            [
             0.2,
             "#de77ae"
            ],
            [
             0.3,
             "#f1b6da"
            ],
            [
             0.4,
             "#fde0ef"
            ],
            [
             0.5,
             "#f7f7f7"
            ],
            [
             0.6,
             "#e6f5d0"
            ],
            [
             0.7,
             "#b8e186"
            ],
            [
             0.8,
             "#7fbc41"
            ],
            [
             0.9,
             "#4d9221"
            ],
            [
             1,
             "#276419"
            ]
           ],
           "sequential": [
            [
             0,
             "#0d0887"
            ],
            [
             0.1111111111111111,
             "#46039f"
            ],
            [
             0.2222222222222222,
             "#7201a8"
            ],
            [
             0.3333333333333333,
             "#9c179e"
            ],
            [
             0.4444444444444444,
             "#bd3786"
            ],
            [
             0.5555555555555556,
             "#d8576b"
            ],
            [
             0.6666666666666666,
             "#ed7953"
            ],
            [
             0.7777777777777778,
             "#fb9f3a"
            ],
            [
             0.8888888888888888,
             "#fdca26"
            ],
            [
             1,
             "#f0f921"
            ]
           ],
           "sequentialminus": [
            [
             0,
             "#0d0887"
            ],
            [
             0.1111111111111111,
             "#46039f"
            ],
            [
             0.2222222222222222,
             "#7201a8"
            ],
            [
             0.3333333333333333,
             "#9c179e"
            ],
            [
             0.4444444444444444,
             "#bd3786"
            ],
            [
             0.5555555555555556,
             "#d8576b"
            ],
            [
             0.6666666666666666,
             "#ed7953"
            ],
            [
             0.7777777777777778,
             "#fb9f3a"
            ],
            [
             0.8888888888888888,
             "#fdca26"
            ],
            [
             1,
             "#f0f921"
            ]
           ]
          },
          "colorway": [
           "#636efa",
           "#EF553B",
           "#00cc96",
           "#ab63fa",
           "#FFA15A",
           "#19d3f3",
           "#FF6692",
           "#B6E880",
           "#FF97FF",
           "#FECB52"
          ],
          "font": {
           "color": "#2a3f5f"
          },
          "geo": {
           "bgcolor": "white",
           "lakecolor": "white",
           "landcolor": "#E5ECF6",
           "showlakes": true,
           "showland": true,
           "subunitcolor": "white"
          },
          "hoverlabel": {
           "align": "left"
          },
          "hovermode": "closest",
          "mapbox": {
           "style": "light"
          },
          "paper_bgcolor": "white",
          "plot_bgcolor": "#E5ECF6",
          "polar": {
           "angularaxis": {
            "gridcolor": "white",
            "linecolor": "white",
            "ticks": ""
           },
           "bgcolor": "#E5ECF6",
           "radialaxis": {
            "gridcolor": "white",
            "linecolor": "white",
            "ticks": ""
           }
          },
          "scene": {
           "xaxis": {
            "backgroundcolor": "#E5ECF6",
            "gridcolor": "white",
            "gridwidth": 2,
            "linecolor": "white",
            "showbackground": true,
            "ticks": "",
            "zerolinecolor": "white"
           },
           "yaxis": {
            "backgroundcolor": "#E5ECF6",
            "gridcolor": "white",
            "gridwidth": 2,
            "linecolor": "white",
            "showbackground": true,
            "ticks": "",
            "zerolinecolor": "white"
           },
           "zaxis": {
            "backgroundcolor": "#E5ECF6",
            "gridcolor": "white",
            "gridwidth": 2,
            "linecolor": "white",
            "showbackground": true,
            "ticks": "",
            "zerolinecolor": "white"
           }
          },
          "shapedefaults": {
           "line": {
            "color": "#2a3f5f"
           }
          },
          "ternary": {
           "aaxis": {
            "gridcolor": "white",
            "linecolor": "white",
            "ticks": ""
           },
           "baxis": {
            "gridcolor": "white",
            "linecolor": "white",
            "ticks": ""
           },
           "bgcolor": "#E5ECF6",
           "caxis": {
            "gridcolor": "white",
            "linecolor": "white",
            "ticks": ""
           }
          },
          "title": {
           "x": 0.05
          },
          "xaxis": {
           "automargin": true,
           "gridcolor": "white",
           "linecolor": "white",
           "ticks": "",
           "title": {
            "standoff": 15
           },
           "zerolinecolor": "white",
           "zerolinewidth": 2
          },
          "yaxis": {
           "automargin": true,
           "gridcolor": "white",
           "linecolor": "white",
           "ticks": "",
           "title": {
            "standoff": 15
           },
           "zerolinecolor": "white",
           "zerolinewidth": 2
          }
         }
        },
        "xaxis": {
         "anchor": "y",
         "domain": [
          0,
          1
         ],
         "title": {
          "text": "index"
         }
        },
        "yaxis": {
         "anchor": "x",
         "domain": [
          0,
          1
         ],
         "title": {
          "text": "close"
         }
        }
       }
      },
      "text/html": [
       "<div>                            <div id=\"e9584d0c-ed5e-4873-92bd-3d0931e49564\" class=\"plotly-graph-div\" style=\"height:525px; width:100%;\"></div>            <script type=\"text/javascript\">                require([\"plotly\"], function(Plotly) {                    window.PLOTLYENV=window.PLOTLYENV || {};                                    if (document.getElementById(\"e9584d0c-ed5e-4873-92bd-3d0931e49564\")) {                    Plotly.newPlot(                        \"e9584d0c-ed5e-4873-92bd-3d0931e49564\",                        [{\"customdata\":[[0.5493468360498566,0.6541973749856562,-0.336147665977478,0.3637746274471283],[0.6765072051058343,0.6581020162519651,-0.34326595067977905,0.0],[0.6268586378926518,0.6440367306347307,-0.5867618322372437,1.283364176750183],[0.6268586378926518,0.8353349947752647,0.05744536221027374,0.2567201852798462],[0.6515659955257269,0.7985658380981133,-0.23069392144680023,0.0987456664443016],[0.9214568988059322,0.763530198259452,-0.10515627264976501,2.9159152507781982],[0.9715564077980484,0.9295570250363692,0.13730481266975403,-1.4440292119979858],[0.8487318051076641,0.7863335368419275,0.52232825756073,1.9864795207977295],[0.8941466315521394,0.7716013939436909,-1.0,0.0],[0.7794698111093434,0.6855482232988737,-0.2297636866569519,0.0],[0.7125165502442882,0.6186584293999795,-1.0,0.0],[0.7484213310411045,0.6380717554871216,-1.0,0.0],[0.7582294662831771,0.6552495835366101,0.44737595319747925,-1.3731613159179688],[0.7135972338385602,0.6022316068012722,0.5254896283149719,1.3590508699417114],[0.720452820389906,0.6108620247231007,-0.8227368593215942,0.40146151185035706],[0.7364039376133293,0.6375880446952913,-1.0,0.0],[0.6527129145661301,0.5771470745703644,0.35931506752967834,-0.22060109674930573],[0.6368804452040542,0.5492489196044643,1.0,-0.613986611366272],[0.6252865896869523,0.5163088690352678,-1.0,0.0],[0.39183743113898484,0.49007856805210664,-0.7391684651374817,0.0]],\"hovertemplate\":\"index=%{x}\\u003cbr\\u003eclose=%{y}\\u003cbr\\u003ersi=%{customdata[0]}\\u003cbr\\u003ebb=%{customdata[1]}\\u003cbr\\u003eactions=%{customdata[2]}\\u003cbr\\u003erewards=%{customdata[3]}\\u003cextra\\u003e\\u003c\\u002fextra\\u003e\",\"legendgroup\":\"\",\"line\":{\"color\":\"#636efa\",\"dash\":\"solid\"},\"marker\":{\"symbol\":\"circle\"},\"mode\":\"markers+lines\",\"name\":\"\",\"orientation\":\"v\",\"showlegend\":false,\"x\":[1,2,3,4,5,6,7,8,9,10,11,12,13,14,15,16,17,18,19,20],\"xaxis\":\"x\",\"y\":[162.49,162.5,162.5,162.63,162.65,162.66,162.99,162.9,162.95,162.87,162.8,162.85,162.9,162.85,162.88,162.93,162.88,162.87,162.86,162.86],\"yaxis\":\"y\",\"type\":\"scatter\"}],                        {\"template\":{\"data\":{\"histogram2dcontour\":[{\"type\":\"histogram2dcontour\",\"colorbar\":{\"outlinewidth\":0,\"ticks\":\"\"},\"colorscale\":[[0.0,\"#0d0887\"],[0.1111111111111111,\"#46039f\"],[0.2222222222222222,\"#7201a8\"],[0.3333333333333333,\"#9c179e\"],[0.4444444444444444,\"#bd3786\"],[0.5555555555555556,\"#d8576b\"],[0.6666666666666666,\"#ed7953\"],[0.7777777777777778,\"#fb9f3a\"],[0.8888888888888888,\"#fdca26\"],[1.0,\"#f0f921\"]]}],\"choropleth\":[{\"type\":\"choropleth\",\"colorbar\":{\"outlinewidth\":0,\"ticks\":\"\"}}],\"histogram2d\":[{\"type\":\"histogram2d\",\"colorbar\":{\"outlinewidth\":0,\"ticks\":\"\"},\"colorscale\":[[0.0,\"#0d0887\"],[0.1111111111111111,\"#46039f\"],[0.2222222222222222,\"#7201a8\"],[0.3333333333333333,\"#9c179e\"],[0.4444444444444444,\"#bd3786\"],[0.5555555555555556,\"#d8576b\"],[0.6666666666666666,\"#ed7953\"],[0.7777777777777778,\"#fb9f3a\"],[0.8888888888888888,\"#fdca26\"],[1.0,\"#f0f921\"]]}],\"heatmap\":[{\"type\":\"heatmap\",\"colorbar\":{\"outlinewidth\":0,\"ticks\":\"\"},\"colorscale\":[[0.0,\"#0d0887\"],[0.1111111111111111,\"#46039f\"],[0.2222222222222222,\"#7201a8\"],[0.3333333333333333,\"#9c179e\"],[0.4444444444444444,\"#bd3786\"],[0.5555555555555556,\"#d8576b\"],[0.6666666666666666,\"#ed7953\"],[0.7777777777777778,\"#fb9f3a\"],[0.8888888888888888,\"#fdca26\"],[1.0,\"#f0f921\"]]}],\"heatmapgl\":[{\"type\":\"heatmapgl\",\"colorbar\":{\"outlinewidth\":0,\"ticks\":\"\"},\"colorscale\":[[0.0,\"#0d0887\"],[0.1111111111111111,\"#46039f\"],[0.2222222222222222,\"#7201a8\"],[0.3333333333333333,\"#9c179e\"],[0.4444444444444444,\"#bd3786\"],[0.5555555555555556,\"#d8576b\"],[0.6666666666666666,\"#ed7953\"],[0.7777777777777778,\"#fb9f3a\"],[0.8888888888888888,\"#fdca26\"],[1.0,\"#f0f921\"]]}],\"contourcarpet\":[{\"type\":\"contourcarpet\",\"colorbar\":{\"outlinewidth\":0,\"ticks\":\"\"}}],\"contour\":[{\"type\":\"contour\",\"colorbar\":{\"outlinewidth\":0,\"ticks\":\"\"},\"colorscale\":[[0.0,\"#0d0887\"],[0.1111111111111111,\"#46039f\"],[0.2222222222222222,\"#7201a8\"],[0.3333333333333333,\"#9c179e\"],[0.4444444444444444,\"#bd3786\"],[0.5555555555555556,\"#d8576b\"],[0.6666666666666666,\"#ed7953\"],[0.7777777777777778,\"#fb9f3a\"],[0.8888888888888888,\"#fdca26\"],[1.0,\"#f0f921\"]]}],\"surface\":[{\"type\":\"surface\",\"colorbar\":{\"outlinewidth\":0,\"ticks\":\"\"},\"colorscale\":[[0.0,\"#0d0887\"],[0.1111111111111111,\"#46039f\"],[0.2222222222222222,\"#7201a8\"],[0.3333333333333333,\"#9c179e\"],[0.4444444444444444,\"#bd3786\"],[0.5555555555555556,\"#d8576b\"],[0.6666666666666666,\"#ed7953\"],[0.7777777777777778,\"#fb9f3a\"],[0.8888888888888888,\"#fdca26\"],[1.0,\"#f0f921\"]]}],\"mesh3d\":[{\"type\":\"mesh3d\",\"colorbar\":{\"outlinewidth\":0,\"ticks\":\"\"}}],\"scatter\":[{\"fillpattern\":{\"fillmode\":\"overlay\",\"size\":10,\"solidity\":0.2},\"type\":\"scatter\"}],\"parcoords\":[{\"type\":\"parcoords\",\"line\":{\"colorbar\":{\"outlinewidth\":0,\"ticks\":\"\"}}}],\"scatterpolargl\":[{\"type\":\"scatterpolargl\",\"marker\":{\"colorbar\":{\"outlinewidth\":0,\"ticks\":\"\"}}}],\"bar\":[{\"error_x\":{\"color\":\"#2a3f5f\"},\"error_y\":{\"color\":\"#2a3f5f\"},\"marker\":{\"line\":{\"color\":\"#E5ECF6\",\"width\":0.5},\"pattern\":{\"fillmode\":\"overlay\",\"size\":10,\"solidity\":0.2}},\"type\":\"bar\"}],\"scattergeo\":[{\"type\":\"scattergeo\",\"marker\":{\"colorbar\":{\"outlinewidth\":0,\"ticks\":\"\"}}}],\"scatterpolar\":[{\"type\":\"scatterpolar\",\"marker\":{\"colorbar\":{\"outlinewidth\":0,\"ticks\":\"\"}}}],\"histogram\":[{\"marker\":{\"pattern\":{\"fillmode\":\"overlay\",\"size\":10,\"solidity\":0.2}},\"type\":\"histogram\"}],\"scattergl\":[{\"type\":\"scattergl\",\"marker\":{\"colorbar\":{\"outlinewidth\":0,\"ticks\":\"\"}}}],\"scatter3d\":[{\"type\":\"scatter3d\",\"line\":{\"colorbar\":{\"outlinewidth\":0,\"ticks\":\"\"}},\"marker\":{\"colorbar\":{\"outlinewidth\":0,\"ticks\":\"\"}}}],\"scattermapbox\":[{\"type\":\"scattermapbox\",\"marker\":{\"colorbar\":{\"outlinewidth\":0,\"ticks\":\"\"}}}],\"scatterternary\":[{\"type\":\"scatterternary\",\"marker\":{\"colorbar\":{\"outlinewidth\":0,\"ticks\":\"\"}}}],\"scattercarpet\":[{\"type\":\"scattercarpet\",\"marker\":{\"colorbar\":{\"outlinewidth\":0,\"ticks\":\"\"}}}],\"carpet\":[{\"aaxis\":{\"endlinecolor\":\"#2a3f5f\",\"gridcolor\":\"white\",\"linecolor\":\"white\",\"minorgridcolor\":\"white\",\"startlinecolor\":\"#2a3f5f\"},\"baxis\":{\"endlinecolor\":\"#2a3f5f\",\"gridcolor\":\"white\",\"linecolor\":\"white\",\"minorgridcolor\":\"white\",\"startlinecolor\":\"#2a3f5f\"},\"type\":\"carpet\"}],\"table\":[{\"cells\":{\"fill\":{\"color\":\"#EBF0F8\"},\"line\":{\"color\":\"white\"}},\"header\":{\"fill\":{\"color\":\"#C8D4E3\"},\"line\":{\"color\":\"white\"}},\"type\":\"table\"}],\"barpolar\":[{\"marker\":{\"line\":{\"color\":\"#E5ECF6\",\"width\":0.5},\"pattern\":{\"fillmode\":\"overlay\",\"size\":10,\"solidity\":0.2}},\"type\":\"barpolar\"}],\"pie\":[{\"automargin\":true,\"type\":\"pie\"}]},\"layout\":{\"autotypenumbers\":\"strict\",\"colorway\":[\"#636efa\",\"#EF553B\",\"#00cc96\",\"#ab63fa\",\"#FFA15A\",\"#19d3f3\",\"#FF6692\",\"#B6E880\",\"#FF97FF\",\"#FECB52\"],\"font\":{\"color\":\"#2a3f5f\"},\"hovermode\":\"closest\",\"hoverlabel\":{\"align\":\"left\"},\"paper_bgcolor\":\"white\",\"plot_bgcolor\":\"#E5ECF6\",\"polar\":{\"bgcolor\":\"#E5ECF6\",\"angularaxis\":{\"gridcolor\":\"white\",\"linecolor\":\"white\",\"ticks\":\"\"},\"radialaxis\":{\"gridcolor\":\"white\",\"linecolor\":\"white\",\"ticks\":\"\"}},\"ternary\":{\"bgcolor\":\"#E5ECF6\",\"aaxis\":{\"gridcolor\":\"white\",\"linecolor\":\"white\",\"ticks\":\"\"},\"baxis\":{\"gridcolor\":\"white\",\"linecolor\":\"white\",\"ticks\":\"\"},\"caxis\":{\"gridcolor\":\"white\",\"linecolor\":\"white\",\"ticks\":\"\"}},\"coloraxis\":{\"colorbar\":{\"outlinewidth\":0,\"ticks\":\"\"}},\"colorscale\":{\"sequential\":[[0.0,\"#0d0887\"],[0.1111111111111111,\"#46039f\"],[0.2222222222222222,\"#7201a8\"],[0.3333333333333333,\"#9c179e\"],[0.4444444444444444,\"#bd3786\"],[0.5555555555555556,\"#d8576b\"],[0.6666666666666666,\"#ed7953\"],[0.7777777777777778,\"#fb9f3a\"],[0.8888888888888888,\"#fdca26\"],[1.0,\"#f0f921\"]],\"sequentialminus\":[[0.0,\"#0d0887\"],[0.1111111111111111,\"#46039f\"],[0.2222222222222222,\"#7201a8\"],[0.3333333333333333,\"#9c179e\"],[0.4444444444444444,\"#bd3786\"],[0.5555555555555556,\"#d8576b\"],[0.6666666666666666,\"#ed7953\"],[0.7777777777777778,\"#fb9f3a\"],[0.8888888888888888,\"#fdca26\"],[1.0,\"#f0f921\"]],\"diverging\":[[0,\"#8e0152\"],[0.1,\"#c51b7d\"],[0.2,\"#de77ae\"],[0.3,\"#f1b6da\"],[0.4,\"#fde0ef\"],[0.5,\"#f7f7f7\"],[0.6,\"#e6f5d0\"],[0.7,\"#b8e186\"],[0.8,\"#7fbc41\"],[0.9,\"#4d9221\"],[1,\"#276419\"]]},\"xaxis\":{\"gridcolor\":\"white\",\"linecolor\":\"white\",\"ticks\":\"\",\"title\":{\"standoff\":15},\"zerolinecolor\":\"white\",\"automargin\":true,\"zerolinewidth\":2},\"yaxis\":{\"gridcolor\":\"white\",\"linecolor\":\"white\",\"ticks\":\"\",\"title\":{\"standoff\":15},\"zerolinecolor\":\"white\",\"automargin\":true,\"zerolinewidth\":2},\"scene\":{\"xaxis\":{\"backgroundcolor\":\"#E5ECF6\",\"gridcolor\":\"white\",\"linecolor\":\"white\",\"showbackground\":true,\"ticks\":\"\",\"zerolinecolor\":\"white\",\"gridwidth\":2},\"yaxis\":{\"backgroundcolor\":\"#E5ECF6\",\"gridcolor\":\"white\",\"linecolor\":\"white\",\"showbackground\":true,\"ticks\":\"\",\"zerolinecolor\":\"white\",\"gridwidth\":2},\"zaxis\":{\"backgroundcolor\":\"#E5ECF6\",\"gridcolor\":\"white\",\"linecolor\":\"white\",\"showbackground\":true,\"ticks\":\"\",\"zerolinecolor\":\"white\",\"gridwidth\":2}},\"shapedefaults\":{\"line\":{\"color\":\"#2a3f5f\"}},\"annotationdefaults\":{\"arrowcolor\":\"#2a3f5f\",\"arrowhead\":0,\"arrowwidth\":1},\"geo\":{\"bgcolor\":\"white\",\"landcolor\":\"#E5ECF6\",\"subunitcolor\":\"white\",\"showland\":true,\"showlakes\":true,\"lakecolor\":\"white\"},\"title\":{\"x\":0.05},\"mapbox\":{\"style\":\"light\"}}},\"xaxis\":{\"anchor\":\"y\",\"domain\":[0.0,1.0],\"title\":{\"text\":\"index\"}},\"yaxis\":{\"anchor\":\"x\",\"domain\":[0.0,1.0],\"title\":{\"text\":\"close\"}},\"legend\":{\"tracegroupgap\":0},\"margin\":{\"t\":60}},                        {\"responsive\": true}                    ).then(function(){\n",
       "                            \n",
       "var gd = document.getElementById('e9584d0c-ed5e-4873-92bd-3d0931e49564');\n",
       "var x = new MutationObserver(function (mutations, observer) {{\n",
       "        var display = window.getComputedStyle(gd).display;\n",
       "        if (!display || display === 'none') {{\n",
       "            console.log([gd, 'removed!']);\n",
       "            Plotly.purge(gd);\n",
       "            observer.disconnect();\n",
       "        }}\n",
       "}});\n",
       "\n",
       "// Listen for the removal of the full notebook cells\n",
       "var notebookContainer = gd.closest('#notebook-container');\n",
       "if (notebookContainer) {{\n",
       "    x.observe(notebookContainer, {childList: true});\n",
       "}}\n",
       "\n",
       "// Listen for the clearing of the current output cell\n",
       "var outputEl = gd.closest('.output');\n",
       "if (outputEl) {{\n",
       "    x.observe(outputEl, {childList: true});\n",
       "}}\n",
       "\n",
       "                        })                };                });            </script>        </div>"
      ]
     },
     "metadata": {},
     "output_type": "display_data"
    }
   ],
   "source": [
    "fig = px.line(\n",
    "    test_df, x=test_df.index, y=\"close\", hover_data=[\"rsi\", \"bb\", \"actions\", \"rewards\"]\n",
    ")\n",
    "fig.update_traces(mode=\"markers+lines\")\n",
    "\n",
    "fig.show()"
   ]
  },
  {
   "cell_type": "code",
   "execution_count": null,
   "metadata": {},
   "outputs": [],
   "source": []
  }
 ],
 "metadata": {
  "kernelspec": {
   "display_name": "Python 3 (ipykernel)",
   "language": "python",
   "name": "python3"
  },
  "language_info": {
   "codemirror_mode": {
    "name": "ipython",
    "version": 3
   },
   "file_extension": ".py",
   "mimetype": "text/x-python",
   "name": "python",
   "nbconvert_exporter": "python",
   "pygments_lexer": "ipython3",
   "version": "3.10.13"
  }
 },
 "nbformat": 4,
 "nbformat_minor": 4
}
