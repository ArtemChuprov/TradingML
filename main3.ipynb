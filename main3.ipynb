{
 "cells": [
  {
   "cell_type": "code",
   "execution_count": 9,
   "metadata": {
    "tags": []
   },
   "outputs": [],
   "source": [
    "import pandas as pd\n",
    "from indicators import RSI, extract_bb\n",
    "from sklearn.model_selection import train_test_split\n",
    "from sklearn.preprocessing import MinMaxScaler\n",
    "from sklearn.preprocessing import OneHotEncoder\n",
    "from sklearn.metrics import accuracy_score\n",
    "import numpy as np\n",
    "import warnings\n",
    "import torch\n",
    "import torch.nn as nn\n",
    "import torch.optim as optim\n",
    "from torch.utils.data import TensorDataset, DataLoader\n",
    "from IPython.display import clear_output\n",
    "import plotly.graph_objects as go\n",
    "import plotly.express as px\n",
    "\n",
    "warnings.filterwarnings(\"ignore\")"
   ]
  },
  {
   "cell_type": "code",
   "execution_count": 8,
   "metadata": {},
   "outputs": [
    {
     "name": "stdout",
     "output_type": "stream",
     "text": [
      "Collecting plotly\n",
      "  Downloading plotly-5.21.0-py3-none-any.whl (15.7 MB)\n",
      "\u001b[2K     \u001b[90m━━━━━━━━━━━━━━━━━━━━━━━━━━━━━━━━━━━━━━━━\u001b[0m \u001b[32m15.7/15.7 MB\u001b[0m \u001b[31m9.3 MB/s\u001b[0m eta \u001b[36m0:00:00\u001b[0m:00:01\u001b[0m00:01\u001b[0m\n",
      "\u001b[?25hRequirement already satisfied: packaging in /home/artem/.pyenv/versions/3.10.13/envs/ML/lib/python3.10/site-packages (from plotly) (24.0)\n",
      "Collecting tenacity>=6.2.0\n",
      "  Downloading tenacity-8.2.3-py3-none-any.whl (24 kB)\n",
      "Installing collected packages: tenacity, plotly\n",
      "Successfully installed plotly-5.21.0 tenacity-8.2.3\n",
      "\n",
      "\u001b[1m[\u001b[0m\u001b[34;49mnotice\u001b[0m\u001b[1;39;49m]\u001b[0m\u001b[39;49m A new release of pip is available: \u001b[0m\u001b[31;49m23.0.1\u001b[0m\u001b[39;49m -> \u001b[0m\u001b[32;49m24.0\u001b[0m\n",
      "\u001b[1m[\u001b[0m\u001b[34;49mnotice\u001b[0m\u001b[1;39;49m]\u001b[0m\u001b[39;49m To update, run: \u001b[0m\u001b[32;49mpip install --upgrade pip\u001b[0m\n",
      "Note: you may need to restart the kernel to use updated packages.\n"
     ]
    }
   ],
   "source": [
    "pip install plotly"
   ]
  },
  {
   "cell_type": "code",
   "execution_count": null,
   "metadata": {
    "tags": []
   },
   "outputs": [
    {
     "data": {
      "text/html": [
       "<div>\n",
       "<style scoped>\n",
       "    .dataframe tbody tr th:only-of-type {\n",
       "        vertical-align: middle;\n",
       "    }\n",
       "\n",
       "    .dataframe tbody tr th {\n",
       "        vertical-align: top;\n",
       "    }\n",
       "\n",
       "    .dataframe thead th {\n",
       "        text-align: right;\n",
       "    }\n",
       "</style>\n",
       "<table border=\"1\" class=\"dataframe\">\n",
       "  <thead>\n",
       "    <tr style=\"text-align: right;\">\n",
       "      <th></th>\n",
       "      <th>open</th>\n",
       "      <th>high</th>\n",
       "      <th>low</th>\n",
       "      <th>close</th>\n",
       "      <th>volume</th>\n",
       "    </tr>\n",
       "  </thead>\n",
       "  <tbody>\n",
       "    <tr>\n",
       "      <th>0</th>\n",
       "      <td>168.18</td>\n",
       "      <td>168.18</td>\n",
       "      <td>168.03</td>\n",
       "      <td>168.07</td>\n",
       "      <td>35390</td>\n",
       "    </tr>\n",
       "    <tr>\n",
       "      <th>1</th>\n",
       "      <td>166.28</td>\n",
       "      <td>166.29</td>\n",
       "      <td>166.20</td>\n",
       "      <td>166.21</td>\n",
       "      <td>202120</td>\n",
       "    </tr>\n",
       "    <tr>\n",
       "      <th>2</th>\n",
       "      <td>166.20</td>\n",
       "      <td>166.31</td>\n",
       "      <td>166.20</td>\n",
       "      <td>166.30</td>\n",
       "      <td>22990</td>\n",
       "    </tr>\n",
       "    <tr>\n",
       "      <th>3</th>\n",
       "      <td>164.13</td>\n",
       "      <td>164.13</td>\n",
       "      <td>164.03</td>\n",
       "      <td>164.04</td>\n",
       "      <td>13120</td>\n",
       "    </tr>\n",
       "    <tr>\n",
       "      <th>4</th>\n",
       "      <td>166.23</td>\n",
       "      <td>166.23</td>\n",
       "      <td>166.03</td>\n",
       "      <td>166.13</td>\n",
       "      <td>84960</td>\n",
       "    </tr>\n",
       "    <tr>\n",
       "      <th>...</th>\n",
       "      <td>...</td>\n",
       "      <td>...</td>\n",
       "      <td>...</td>\n",
       "      <td>...</td>\n",
       "      <td>...</td>\n",
       "    </tr>\n",
       "    <tr>\n",
       "      <th>2128</th>\n",
       "      <td>163.28</td>\n",
       "      <td>163.38</td>\n",
       "      <td>163.26</td>\n",
       "      <td>163.38</td>\n",
       "      <td>45040</td>\n",
       "    </tr>\n",
       "    <tr>\n",
       "      <th>2129</th>\n",
       "      <td>167.89</td>\n",
       "      <td>167.89</td>\n",
       "      <td>167.78</td>\n",
       "      <td>167.80</td>\n",
       "      <td>21310</td>\n",
       "    </tr>\n",
       "    <tr>\n",
       "      <th>2130</th>\n",
       "      <td>163.59</td>\n",
       "      <td>163.60</td>\n",
       "      <td>163.50</td>\n",
       "      <td>163.54</td>\n",
       "      <td>91250</td>\n",
       "    </tr>\n",
       "    <tr>\n",
       "      <th>2131</th>\n",
       "      <td>166.72</td>\n",
       "      <td>166.75</td>\n",
       "      <td>166.47</td>\n",
       "      <td>166.49</td>\n",
       "      <td>105300</td>\n",
       "    </tr>\n",
       "    <tr>\n",
       "      <th>2132</th>\n",
       "      <td>163.49</td>\n",
       "      <td>163.49</td>\n",
       "      <td>163.49</td>\n",
       "      <td>163.49</td>\n",
       "      <td>276730</td>\n",
       "    </tr>\n",
       "  </tbody>\n",
       "</table>\n",
       "<p>2133 rows × 5 columns</p>\n",
       "</div>"
      ],
      "text/plain": [
       "        open    high     low   close  volume\n",
       "0     168.18  168.18  168.03  168.07   35390\n",
       "1     166.28  166.29  166.20  166.21  202120\n",
       "2     166.20  166.31  166.20  166.30   22990\n",
       "3     164.13  164.13  164.03  164.04   13120\n",
       "4     166.23  166.23  166.03  166.13   84960\n",
       "...      ...     ...     ...     ...     ...\n",
       "2128  163.28  163.38  163.26  163.38   45040\n",
       "2129  167.89  167.89  167.78  167.80   21310\n",
       "2130  163.59  163.60  163.50  163.54   91250\n",
       "2131  166.72  166.75  166.47  166.49  105300\n",
       "2132  163.49  163.49  163.49  163.49  276730\n",
       "\n",
       "[2133 rows x 5 columns]"
      ]
     },
     "execution_count": 2,
     "metadata": {},
     "output_type": "execute_result"
    }
   ],
   "source": [
    "df = pd.read_csv(\"gzpn_data.csv\")\n",
    "df = df.dropna().sample(frac=1).reset_index(drop=True)\n",
    "df = df.drop(columns=[\"<TICKER>\", \"<PER>\", \"<DATE>\", \"<TIME>\"])\n",
    "df.columns = [\"open\", \"high\", \"low\", \"close\", \"volume\"]\n",
    "df"
   ]
  },
  {
   "cell_type": "code",
   "execution_count": null,
   "metadata": {
    "tags": []
   },
   "outputs": [],
   "source": [
    "n_steps = 11\n",
    "\n",
    "prices = df[\"close\"]\n",
    "\n",
    "rsi_values = RSI(prices=prices, n_steps=n_steps)\n",
    "bb_values = extract_bb(prices=prices, n_steps=n_steps)\n",
    "\n",
    "assert len(rsi_values) == len(\n",
    "    bb_values\n",
    "), f\"Indicators length don't coincide: {len(rsi_values)} and {len(bb_values)}\""
   ]
  },
  {
   "cell_type": "code",
   "execution_count": null,
   "metadata": {
    "tags": []
   },
   "outputs": [],
   "source": [
    "def prepare_target(df, steps_obs: int = 3):\n",
    "    targets = []\n",
    "    for i in range(0, len(df) - steps_obs):\n",
    "        current_price = df[\"close\"].iloc[i]\n",
    "        max_price = df[\"high\"].iloc[i + 1 : i + 1 + steps_obs].max()\n",
    "        targets.append(max_price > current_price)\n",
    "    targets += [0] * steps_obs\n",
    "    return np.array(targets, dtype=np.int32)\n",
    "\n",
    "\n",
    "steps_obs = 3\n",
    "\n",
    "targets = prepare_target(df=df, steps_obs=steps_obs)"
   ]
  },
  {
   "cell_type": "code",
   "execution_count": null,
   "metadata": {
    "tags": []
   },
   "outputs": [
    {
     "data": {
      "text/html": [
       "<div>\n",
       "<style scoped>\n",
       "    .dataframe tbody tr th:only-of-type {\n",
       "        vertical-align: middle;\n",
       "    }\n",
       "\n",
       "    .dataframe tbody tr th {\n",
       "        vertical-align: top;\n",
       "    }\n",
       "\n",
       "    .dataframe thead th {\n",
       "        text-align: right;\n",
       "    }\n",
       "</style>\n",
       "<table border=\"1\" class=\"dataframe\">\n",
       "  <thead>\n",
       "    <tr style=\"text-align: right;\">\n",
       "      <th></th>\n",
       "      <th>rsi</th>\n",
       "      <th>bb</th>\n",
       "      <th>target</th>\n",
       "    </tr>\n",
       "  </thead>\n",
       "  <tbody>\n",
       "    <tr>\n",
       "      <th>0</th>\n",
       "      <td>42.566510</td>\n",
       "      <td>-1.228299</td>\n",
       "      <td>1</td>\n",
       "    </tr>\n",
       "    <tr>\n",
       "      <th>1</th>\n",
       "      <td>51.131824</td>\n",
       "      <td>1.174911</td>\n",
       "      <td>1</td>\n",
       "    </tr>\n",
       "    <tr>\n",
       "      <th>2</th>\n",
       "      <td>50.086957</td>\n",
       "      <td>-0.663223</td>\n",
       "      <td>1</td>\n",
       "    </tr>\n",
       "    <tr>\n",
       "      <th>3</th>\n",
       "      <td>53.951063</td>\n",
       "      <td>1.827532</td>\n",
       "      <td>0</td>\n",
       "    </tr>\n",
       "    <tr>\n",
       "      <th>4</th>\n",
       "      <td>55.578512</td>\n",
       "      <td>0.528205</td>\n",
       "      <td>1</td>\n",
       "    </tr>\n",
       "    <tr>\n",
       "      <th>...</th>\n",
       "      <td>...</td>\n",
       "      <td>...</td>\n",
       "      <td>...</td>\n",
       "    </tr>\n",
       "    <tr>\n",
       "      <th>2117</th>\n",
       "      <td>44.632153</td>\n",
       "      <td>-1.456529</td>\n",
       "      <td>1</td>\n",
       "    </tr>\n",
       "    <tr>\n",
       "      <th>2118</th>\n",
       "      <td>48.030691</td>\n",
       "      <td>0.905347</td>\n",
       "      <td>0</td>\n",
       "    </tr>\n",
       "    <tr>\n",
       "      <th>2119</th>\n",
       "      <td>41.938365</td>\n",
       "      <td>-1.435991</td>\n",
       "      <td>0</td>\n",
       "    </tr>\n",
       "    <tr>\n",
       "      <th>2120</th>\n",
       "      <td>46.058091</td>\n",
       "      <td>0.306427</td>\n",
       "      <td>0</td>\n",
       "    </tr>\n",
       "    <tr>\n",
       "      <th>2121</th>\n",
       "      <td>44.453344</td>\n",
       "      <td>-1.241618</td>\n",
       "      <td>0</td>\n",
       "    </tr>\n",
       "  </tbody>\n",
       "</table>\n",
       "<p>2122 rows × 3 columns</p>\n",
       "</div>"
      ],
      "text/plain": [
       "            rsi        bb  target\n",
       "0     42.566510 -1.228299       1\n",
       "1     51.131824  1.174911       1\n",
       "2     50.086957 -0.663223       1\n",
       "3     53.951063  1.827532       0\n",
       "4     55.578512  0.528205       1\n",
       "...         ...       ...     ...\n",
       "2117  44.632153 -1.456529       1\n",
       "2118  48.030691  0.905347       0\n",
       "2119  41.938365 -1.435991       0\n",
       "2120  46.058091  0.306427       0\n",
       "2121  44.453344 -1.241618       0\n",
       "\n",
       "[2122 rows x 3 columns]"
      ]
     },
     "execution_count": 5,
     "metadata": {},
     "output_type": "execute_result"
    }
   ],
   "source": [
    "indicator_data = (\n",
    "    pd.DataFrame(\n",
    "        data=np.array([rsi_values, bb_values, targets]).T,\n",
    "        columns=[\"rsi\", \"bb\", \"target\"],\n",
    "    )\n",
    "    .dropna()\n",
    "    .reset_index(drop=True)\n",
    "    .astype(np.float64)\n",
    ")\n",
    "indicator_data[\"target\"] = indicator_data[\"target\"].astype(np.int32)\n",
    "indicator_data"
   ]
  },
  {
   "cell_type": "code",
   "execution_count": null,
   "metadata": {
    "tags": []
   },
   "outputs": [
    {
     "data": {
      "text/html": [
       "<div>\n",
       "<style scoped>\n",
       "    .dataframe tbody tr th:only-of-type {\n",
       "        vertical-align: middle;\n",
       "    }\n",
       "\n",
       "    .dataframe tbody tr th {\n",
       "        vertical-align: top;\n",
       "    }\n",
       "\n",
       "    .dataframe thead th {\n",
       "        text-align: right;\n",
       "    }\n",
       "</style>\n",
       "<table border=\"1\" class=\"dataframe\">\n",
       "  <thead>\n",
       "    <tr style=\"text-align: right;\">\n",
       "      <th></th>\n",
       "      <th>rsi</th>\n",
       "      <th>bb</th>\n",
       "      <th>target</th>\n",
       "    </tr>\n",
       "  </thead>\n",
       "  <tbody>\n",
       "    <tr>\n",
       "      <th>count</th>\n",
       "      <td>2122.000000</td>\n",
       "      <td>2122.000000</td>\n",
       "      <td>2122.000000</td>\n",
       "    </tr>\n",
       "    <tr>\n",
       "      <th>mean</th>\n",
       "      <td>50.023984</td>\n",
       "      <td>-0.003008</td>\n",
       "      <td>0.764373</td>\n",
       "    </tr>\n",
       "    <tr>\n",
       "      <th>std</th>\n",
       "      <td>6.856173</td>\n",
       "      <td>0.947829</td>\n",
       "      <td>0.424490</td>\n",
       "    </tr>\n",
       "    <tr>\n",
       "      <th>min</th>\n",
       "      <td>14.791667</td>\n",
       "      <td>-1.935489</td>\n",
       "      <td>0.000000</td>\n",
       "    </tr>\n",
       "    <tr>\n",
       "      <th>25%</th>\n",
       "      <td>45.356781</td>\n",
       "      <td>-0.828638</td>\n",
       "      <td>1.000000</td>\n",
       "    </tr>\n",
       "    <tr>\n",
       "      <th>50%</th>\n",
       "      <td>50.000000</td>\n",
       "      <td>-0.188444</td>\n",
       "      <td>1.000000</td>\n",
       "    </tr>\n",
       "    <tr>\n",
       "      <th>75%</th>\n",
       "      <td>54.885700</td>\n",
       "      <td>0.803437</td>\n",
       "      <td>1.000000</td>\n",
       "    </tr>\n",
       "    <tr>\n",
       "      <th>max</th>\n",
       "      <td>79.097744</td>\n",
       "      <td>2.526117</td>\n",
       "      <td>1.000000</td>\n",
       "    </tr>\n",
       "  </tbody>\n",
       "</table>\n",
       "</div>"
      ],
      "text/plain": [
       "               rsi           bb       target\n",
       "count  2122.000000  2122.000000  2122.000000\n",
       "mean     50.023984    -0.003008     0.764373\n",
       "std       6.856173     0.947829     0.424490\n",
       "min      14.791667    -1.935489     0.000000\n",
       "25%      45.356781    -0.828638     1.000000\n",
       "50%      50.000000    -0.188444     1.000000\n",
       "75%      54.885700     0.803437     1.000000\n",
       "max      79.097744     2.526117     1.000000"
      ]
     },
     "execution_count": 6,
     "metadata": {},
     "output_type": "execute_result"
    }
   ],
   "source": [
    "indicator_data.describe()"
   ]
  },
  {
   "cell_type": "code",
   "execution_count": null,
   "metadata": {},
   "outputs": [
    {
     "data": {
      "text/html": [
       "<div>\n",
       "<style scoped>\n",
       "    .dataframe tbody tr th:only-of-type {\n",
       "        vertical-align: middle;\n",
       "    }\n",
       "\n",
       "    .dataframe tbody tr th {\n",
       "        vertical-align: top;\n",
       "    }\n",
       "\n",
       "    .dataframe thead th {\n",
       "        text-align: right;\n",
       "    }\n",
       "</style>\n",
       "<table border=\"1\" class=\"dataframe\">\n",
       "  <thead>\n",
       "    <tr style=\"text-align: right;\">\n",
       "      <th></th>\n",
       "      <th>rsi</th>\n",
       "      <th>bb</th>\n",
       "      <th>target</th>\n",
       "      <th>open</th>\n",
       "      <th>high</th>\n",
       "      <th>low</th>\n",
       "      <th>close</th>\n",
       "      <th>volume</th>\n",
       "    </tr>\n",
       "  </thead>\n",
       "  <tbody>\n",
       "    <tr>\n",
       "      <th>0</th>\n",
       "      <td>42.566510</td>\n",
       "      <td>-1.228299</td>\n",
       "      <td>1</td>\n",
       "      <td>163.36</td>\n",
       "      <td>163.36</td>\n",
       "      <td>163.28</td>\n",
       "      <td>163.36</td>\n",
       "      <td>177090.0</td>\n",
       "    </tr>\n",
       "    <tr>\n",
       "      <th>1</th>\n",
       "      <td>51.131824</td>\n",
       "      <td>1.174911</td>\n",
       "      <td>1</td>\n",
       "      <td>166.70</td>\n",
       "      <td>166.81</td>\n",
       "      <td>166.66</td>\n",
       "      <td>166.81</td>\n",
       "      <td>27390.0</td>\n",
       "    </tr>\n",
       "    <tr>\n",
       "      <th>2</th>\n",
       "      <td>50.086957</td>\n",
       "      <td>-0.663223</td>\n",
       "      <td>1</td>\n",
       "      <td>164.00</td>\n",
       "      <td>164.08</td>\n",
       "      <td>163.97</td>\n",
       "      <td>164.08</td>\n",
       "      <td>7740.0</td>\n",
       "    </tr>\n",
       "    <tr>\n",
       "      <th>3</th>\n",
       "      <td>53.951063</td>\n",
       "      <td>1.827532</td>\n",
       "      <td>0</td>\n",
       "      <td>168.07</td>\n",
       "      <td>168.15</td>\n",
       "      <td>168.03</td>\n",
       "      <td>168.10</td>\n",
       "      <td>31330.0</td>\n",
       "    </tr>\n",
       "    <tr>\n",
       "      <th>4</th>\n",
       "      <td>55.578512</td>\n",
       "      <td>0.528205</td>\n",
       "      <td>1</td>\n",
       "      <td>165.84</td>\n",
       "      <td>166.20</td>\n",
       "      <td>165.83</td>\n",
       "      <td>166.17</td>\n",
       "      <td>246030.0</td>\n",
       "    </tr>\n",
       "    <tr>\n",
       "      <th>...</th>\n",
       "      <td>...</td>\n",
       "      <td>...</td>\n",
       "      <td>...</td>\n",
       "      <td>...</td>\n",
       "      <td>...</td>\n",
       "      <td>...</td>\n",
       "      <td>...</td>\n",
       "      <td>...</td>\n",
       "    </tr>\n",
       "    <tr>\n",
       "      <th>2117</th>\n",
       "      <td>44.632153</td>\n",
       "      <td>-1.456529</td>\n",
       "      <td>1</td>\n",
       "      <td>163.28</td>\n",
       "      <td>163.38</td>\n",
       "      <td>163.26</td>\n",
       "      <td>163.38</td>\n",
       "      <td>45040.0</td>\n",
       "    </tr>\n",
       "    <tr>\n",
       "      <th>2118</th>\n",
       "      <td>48.030691</td>\n",
       "      <td>0.905347</td>\n",
       "      <td>0</td>\n",
       "      <td>167.89</td>\n",
       "      <td>167.89</td>\n",
       "      <td>167.78</td>\n",
       "      <td>167.80</td>\n",
       "      <td>21310.0</td>\n",
       "    </tr>\n",
       "    <tr>\n",
       "      <th>2119</th>\n",
       "      <td>41.938365</td>\n",
       "      <td>-1.435991</td>\n",
       "      <td>0</td>\n",
       "      <td>163.59</td>\n",
       "      <td>163.60</td>\n",
       "      <td>163.50</td>\n",
       "      <td>163.54</td>\n",
       "      <td>91250.0</td>\n",
       "    </tr>\n",
       "    <tr>\n",
       "      <th>2120</th>\n",
       "      <td>46.058091</td>\n",
       "      <td>0.306427</td>\n",
       "      <td>0</td>\n",
       "      <td>166.72</td>\n",
       "      <td>166.75</td>\n",
       "      <td>166.47</td>\n",
       "      <td>166.49</td>\n",
       "      <td>105300.0</td>\n",
       "    </tr>\n",
       "    <tr>\n",
       "      <th>2121</th>\n",
       "      <td>44.453344</td>\n",
       "      <td>-1.241618</td>\n",
       "      <td>0</td>\n",
       "      <td>163.49</td>\n",
       "      <td>163.49</td>\n",
       "      <td>163.49</td>\n",
       "      <td>163.49</td>\n",
       "      <td>276730.0</td>\n",
       "    </tr>\n",
       "  </tbody>\n",
       "</table>\n",
       "<p>2122 rows × 8 columns</p>\n",
       "</div>"
      ],
      "text/plain": [
       "            rsi        bb  target    open    high     low   close    volume\n",
       "0     42.566510 -1.228299       1  163.36  163.36  163.28  163.36  177090.0\n",
       "1     51.131824  1.174911       1  166.70  166.81  166.66  166.81   27390.0\n",
       "2     50.086957 -0.663223       1  164.00  164.08  163.97  164.08    7740.0\n",
       "3     53.951063  1.827532       0  168.07  168.15  168.03  168.10   31330.0\n",
       "4     55.578512  0.528205       1  165.84  166.20  165.83  166.17  246030.0\n",
       "...         ...       ...     ...     ...     ...     ...     ...       ...\n",
       "2117  44.632153 -1.456529       1  163.28  163.38  163.26  163.38   45040.0\n",
       "2118  48.030691  0.905347       0  167.89  167.89  167.78  167.80   21310.0\n",
       "2119  41.938365 -1.435991       0  163.59  163.60  163.50  163.54   91250.0\n",
       "2120  46.058091  0.306427       0  166.72  166.75  166.47  166.49  105300.0\n",
       "2121  44.453344 -1.241618       0  163.49  163.49  163.49  163.49  276730.0\n",
       "\n",
       "[2122 rows x 8 columns]"
      ]
     },
     "execution_count": 7,
     "metadata": {},
     "output_type": "execute_result"
    }
   ],
   "source": [
    "all_data = indicator_data.copy()\n",
    "all_data[df.columns] = df.iloc[n_steps:, :].values\n",
    "\n",
    "all_data"
   ]
  },
  {
   "cell_type": "code",
   "execution_count": null,
   "metadata": {},
   "outputs": [],
   "source": []
  },
  {
   "cell_type": "markdown",
   "metadata": {},
   "source": [
    "# Обработка фичей"
   ]
  },
  {
   "cell_type": "code",
   "execution_count": null,
   "metadata": {
    "tags": []
   },
   "outputs": [
    {
     "data": {
      "text/html": [
       "<div>\n",
       "<style scoped>\n",
       "    .dataframe tbody tr th:only-of-type {\n",
       "        vertical-align: middle;\n",
       "    }\n",
       "\n",
       "    .dataframe tbody tr th {\n",
       "        vertical-align: top;\n",
       "    }\n",
       "\n",
       "    .dataframe thead th {\n",
       "        text-align: right;\n",
       "    }\n",
       "</style>\n",
       "<table border=\"1\" class=\"dataframe\">\n",
       "  <thead>\n",
       "    <tr style=\"text-align: right;\">\n",
       "      <th></th>\n",
       "      <th>rsi</th>\n",
       "      <th>bb</th>\n",
       "      <th>target</th>\n",
       "    </tr>\n",
       "  </thead>\n",
       "  <tbody>\n",
       "    <tr>\n",
       "      <th>0</th>\n",
       "      <td>0.431916</td>\n",
       "      <td>0.158506</td>\n",
       "      <td>1</td>\n",
       "    </tr>\n",
       "    <tr>\n",
       "      <th>1</th>\n",
       "      <td>0.565112</td>\n",
       "      <td>0.697148</td>\n",
       "      <td>1</td>\n",
       "    </tr>\n",
       "    <tr>\n",
       "      <th>2</th>\n",
       "      <td>0.548864</td>\n",
       "      <td>0.285159</td>\n",
       "      <td>1</td>\n",
       "    </tr>\n",
       "    <tr>\n",
       "      <th>3</th>\n",
       "      <td>0.608953</td>\n",
       "      <td>0.843423</td>\n",
       "      <td>0</td>\n",
       "    </tr>\n",
       "    <tr>\n",
       "      <th>4</th>\n",
       "      <td>0.634261</td>\n",
       "      <td>0.552199</td>\n",
       "      <td>1</td>\n",
       "    </tr>\n",
       "    <tr>\n",
       "      <th>...</th>\n",
       "      <td>...</td>\n",
       "      <td>...</td>\n",
       "      <td>...</td>\n",
       "    </tr>\n",
       "    <tr>\n",
       "      <th>2117</th>\n",
       "      <td>0.464038</td>\n",
       "      <td>0.107351</td>\n",
       "      <td>1</td>\n",
       "    </tr>\n",
       "    <tr>\n",
       "      <th>2118</th>\n",
       "      <td>0.516888</td>\n",
       "      <td>0.636730</td>\n",
       "      <td>0</td>\n",
       "    </tr>\n",
       "    <tr>\n",
       "      <th>2119</th>\n",
       "      <td>0.422148</td>\n",
       "      <td>0.111955</td>\n",
       "      <td>0</td>\n",
       "    </tr>\n",
       "    <tr>\n",
       "      <th>2120</th>\n",
       "      <td>0.486213</td>\n",
       "      <td>0.502491</td>\n",
       "      <td>0</td>\n",
       "    </tr>\n",
       "    <tr>\n",
       "      <th>2121</th>\n",
       "      <td>0.461258</td>\n",
       "      <td>0.155520</td>\n",
       "      <td>0</td>\n",
       "    </tr>\n",
       "  </tbody>\n",
       "</table>\n",
       "<p>2122 rows × 3 columns</p>\n",
       "</div>"
      ],
      "text/plain": [
       "           rsi        bb  target\n",
       "0     0.431916  0.158506       1\n",
       "1     0.565112  0.697148       1\n",
       "2     0.548864  0.285159       1\n",
       "3     0.608953  0.843423       0\n",
       "4     0.634261  0.552199       1\n",
       "...        ...       ...     ...\n",
       "2117  0.464038  0.107351       1\n",
       "2118  0.516888  0.636730       0\n",
       "2119  0.422148  0.111955       0\n",
       "2120  0.486213  0.502491       0\n",
       "2121  0.461258  0.155520       0\n",
       "\n",
       "[2122 rows x 3 columns]"
      ]
     },
     "execution_count": 8,
     "metadata": {},
     "output_type": "execute_result"
    }
   ],
   "source": [
    "scaler = MinMaxScaler()\n",
    "scaler.fit(indicator_data.iloc[:, :-1])\n",
    "indicator_data.iloc[:, :-1] = scaler.transform(indicator_data.iloc[:, :-1])\n",
    "indicator_data"
   ]
  },
  {
   "cell_type": "code",
   "execution_count": null,
   "metadata": {},
   "outputs": [
    {
     "data": {
      "text/plain": [
       "array([0.56511233, 0.69714802])"
      ]
     },
     "execution_count": 11,
     "metadata": {},
     "output_type": "execute_result"
    }
   ],
   "source": [
    "indicator_data[[\"rsi\", \"bb\"]].iloc[1].values"
   ]
  },
  {
   "cell_type": "code",
   "execution_count": null,
   "metadata": {
    "tags": []
   },
   "outputs": [],
   "source": [
    "X = indicator_data.iloc[:, :]\n",
    "y = indicator_data.iloc[:, -1]\n",
    "\n",
    "X_train, X_test, y_train, y_test = train_test_split(\n",
    "    X, y, test_size=0.2, random_state=0, shuffle=False\n",
    ")"
   ]
  },
  {
   "cell_type": "markdown",
   "metadata": {},
   "source": [
    "## Reccurent neural network"
   ]
  },
  {
   "cell_type": "code",
   "execution_count": 10,
   "metadata": {},
   "outputs": [],
   "source": [
    "X_train = torch.Tensor(X_train.values)\n",
    "y_train = torch.Tensor(y_train.values).reshape(-1, 1)\n",
    "X_test = torch.Tensor(X_test.values)\n",
    "y_test = torch.Tensor(y_test.values).reshape(-1, 1)"
   ]
  },
  {
   "cell_type": "code",
   "execution_count": 11,
   "metadata": {},
   "outputs": [],
   "source": [
    "def count_parameters(model):\n",
    "    return sum(p.numel() for p in model.parameters() if p.requires_grad)"
   ]
  },
  {
   "cell_type": "code",
   "execution_count": 12,
   "metadata": {},
   "outputs": [],
   "source": [
    "def prepare_input(data, sequence_length):\n",
    "    \"\"\"\n",
    "    Prepare input data for an RNN by creating sequences of fixed length.\n",
    "\n",
    "    Args:\n",
    "    - data (torch.Tensor): 1D tensor containing the input data.\n",
    "    - sequence_length (int): Length of each sequence.\n",
    "\n",
    "    Returns:\n",
    "    - torch.Tensor: 3D tensor containing the input data in suitable format for RNN.\n",
    "    \"\"\"\n",
    "    input_sequences = []\n",
    "    for i in range(len(data) - sequence_length + 1):\n",
    "        input_seq = data[i : i + sequence_length]\n",
    "        input_sequences.append(input_seq)\n",
    "    return torch.stack(input_sequences)\n",
    "\n",
    "\n",
    "sequence_length = 3\n",
    "X_train_rnn = prepare_input(X_train, sequence_length)\n",
    "y_train_rnn = y_train[sequence_length - 1 :]\n",
    "\n",
    "X_test_rnn = prepare_input(X_test, sequence_length)\n",
    "y_test_rnn = y_test[sequence_length - 1 :]"
   ]
  },
  {
   "cell_type": "code",
   "execution_count": 13,
   "metadata": {},
   "outputs": [
    {
     "data": {
      "text/plain": [
       "(torch.Size([1695, 1]), torch.Size([1695, 3, 2]))"
      ]
     },
     "execution_count": 13,
     "metadata": {},
     "output_type": "execute_result"
    }
   ],
   "source": [
    "y_train_rnn.shape, X_train_rnn.shape"
   ]
  },
  {
   "cell_type": "code",
   "execution_count": 14,
   "metadata": {},
   "outputs": [
    {
     "data": {
      "text/plain": [
       "117"
      ]
     },
     "execution_count": 14,
     "metadata": {},
     "output_type": "execute_result"
    }
   ],
   "source": [
    "# Define a simple neural network\n",
    "class SequentialModel(nn.Module):\n",
    "    def __init__(\n",
    "        self,\n",
    "        input_size: int = 2,\n",
    "        hidden_size: int = 8,\n",
    "        output_size: int = 1,\n",
    "        rnn_layers: int = 2,\n",
    "        n_layers: int = 2,\n",
    "        dropout: float = 0.1,\n",
    "        input_layer_type=nn.RNN,\n",
    "    ):\n",
    "        super(SequentialModel, self).__init__()\n",
    "        self.rnn_layer = input_layer_type(\n",
    "            input_size=input_size,\n",
    "            hidden_size=hidden_size,\n",
    "            num_layers=rnn_layers,\n",
    "            batch_first=True,\n",
    "            dropout=dropout,\n",
    "        )\n",
    "        self.fcc_layers = []\n",
    "        for i in range(n_layers):\n",
    "            self.fcc_layers.append(nn.Linear(hidden_size, hidden_size))\n",
    "        self.output_layer = nn.Linear(hidden_size, output_size)\n",
    "        self.dropout = nn.Dropout(dropout)\n",
    "\n",
    "    def forward(self, x):\n",
    "        rnn_output, h0 = self.rnn_layer(x)\n",
    "        x = torch.relu(rnn_output[:, -1, :])\n",
    "        for fcc_layer in self.fcc_layers:\n",
    "            x = torch.relu(fcc_layer(x))\n",
    "            x = self.dropout(x)\n",
    "        x = self.output_layer(x)\n",
    "        return x\n",
    "\n",
    "\n",
    "# data_num = 1024\n",
    "# Generate some random data\n",
    "# X = torch.Tensor(X)\n",
    "# y = torch.Tensor(y).reshape(-1,1)\n",
    "\n",
    "batch_size = 256\n",
    "dataset_train = TensorDataset(X_train_rnn, y_train_rnn)\n",
    "dataset_test = TensorDataset(X_test_rnn, y_test_rnn)\n",
    "dataloader_train = DataLoader(dataset_train, batch_size=batch_size, shuffle=True)\n",
    "dataloader_test = DataLoader(dataset_test, batch_size=batch_size, shuffle=True)\n",
    "\n",
    "# Initialize model and optimizer\n",
    "model = SequentialModel(\n",
    "    input_size=2,\n",
    "    hidden_size=4,\n",
    "    rnn_layers=3,\n",
    "    n_layers=2,\n",
    "    output_size=1,\n",
    "    dropout=0.1,\n",
    "    input_layer_type=nn.RNN,\n",
    ")\n",
    "criterion = nn.BCEWithLogitsLoss()\n",
    "optimizer = optim.Adam(model.parameters(), lr=0.0001)\n",
    "\n",
    "count_parameters(model)"
   ]
  },
  {
   "cell_type": "code",
   "execution_count": 21,
   "metadata": {},
   "outputs": [],
   "source": [
    "# Training loop\n",
    "def train_model(model, epochs=200):\n",
    "    print(\"New model started training!\")\n",
    "    for epoch in range(epochs):\n",
    "        loss_train = []\n",
    "\n",
    "        for inputs, labels in dataloader_train:\n",
    "            optimizer.zero_grad()\n",
    "            outputs = model(inputs)\n",
    "            loss = criterion(outputs, labels)\n",
    "            loss.backward()\n",
    "            loss_train.append(loss.item())\n",
    "            optimizer.step()\n",
    "\n",
    "        if epoch % 100 == 0:\n",
    "            loss_test = []\n",
    "            for inputs, labels in dataloader_test:\n",
    "                optimizer.zero_grad()\n",
    "                outputs = model(inputs)\n",
    "                loss = criterion(outputs, labels)\n",
    "                loss_test.append(loss.item())\n",
    "                optimizer.step()\n",
    "            print(\n",
    "                f\"Epoch [{epoch+1}/{epochs}], Loss_train: {np.mean(loss_train):.4f}, Loss_test: {np.mean(loss_test):.4f}\"\n",
    "            )\n",
    "    final_loss = np.mean(loss_test)\n",
    "    print(f\"Ready! Final loss: {final_loss}\")\n",
    "    clear_output()\n",
    "    return final_loss"
   ]
  },
  {
   "cell_type": "code",
   "execution_count": 26,
   "metadata": {},
   "outputs": [],
   "source": [
    "# parameters_dict = dict()\n",
    "\n",
    "# for hidden_size in [3, 5, 7, 8]:\n",
    "#     for rnn_style in [nn.RNN, nn.GRU]:\n",
    "#         for n_layer in [2, 4, 6]:\n",
    "#             model = SequentialModel(\n",
    "#                 input_size=2,\n",
    "#                 hidden_size=hidden_size,\n",
    "#                 rnn_layers=2,\n",
    "#                 n_layers=n_layer,\n",
    "#                 output_size=1,\n",
    "#                 dropout=0.2,\n",
    "#                 input_layer_type=rnn_style,\n",
    "#             )\n",
    "#             res = train_model(model, epochs=1200)\n",
    "#             parameters_dict[(hidden_size, rnn_style, n_layer)] = res\n",
    "\n",
    "\n",
    "# Save the trained model\n",
    "# torch.save(model.state_dict(), 'simple_model.pth')"
   ]
  },
  {
   "cell_type": "code",
   "execution_count": 23,
   "metadata": {},
   "outputs": [],
   "source": [
    "model = SequentialModel(\n",
    "    input_size=2,\n",
    "    hidden_size=6,\n",
    "    rnn_layers=2,\n",
    "    n_layers=2,\n",
    "    output_size=1,\n",
    "    dropout=0.2,\n",
    "    input_layer_type=nn.RNN,\n",
    ")\n",
    "res = train_model(model, epochs=1200)"
   ]
  },
  {
   "cell_type": "code",
   "execution_count": 30,
   "metadata": {},
   "outputs": [
    {
     "name": "stdout",
     "output_type": "stream",
     "text": [
      "423\n"
     ]
    },
    {
     "data": {
      "text/plain": [
       "array([0.48289207, 0.49171916, 0.48434538, 0.4818354 , 0.49042454,\n",
       "       0.4757252 , 0.4756102 , 0.47925428, 0.48108092, 0.49599296,\n",
       "       0.50336343, 0.47588325, 0.4910559 , 0.48464203, 0.498937  ,\n",
       "       0.48385406, 0.49337173, 0.4823302 , 0.5051695 , 0.4925246 ,\n",
       "       0.4773228 , 0.47869602, 0.48490414, 0.48903054, 0.48435125,\n",
       "       0.48971248, 0.4854227 , 0.47939187, 0.488855  , 0.5102887 ,\n",
       "       0.48491767, 0.50604296, 0.48573604, 0.48784897, 0.5069868 ,\n",
       "       0.48847416, 0.49384877, 0.47464365, 0.51301926, 0.48806584,\n",
       "       0.49764916, 0.49083892, 0.4993389 , 0.48630106, 0.4835228 ,\n",
       "       0.49539402, 0.48599398, 0.48159242, 0.49046138, 0.48534596,\n",
       "       0.49533698, 0.4838616 , 0.47511604, 0.5135093 , 0.4900063 ,\n",
       "       0.48364976, 0.47876367, 0.5029655 , 0.47444355, 0.48447898,\n",
       "       0.49774596, 0.51052403, 0.4931579 , 0.48797056, 0.48730204,\n",
       "       0.4961907 , 0.5054474 , 0.51244307, 0.4751256 , 0.49125192,\n",
       "       0.49912143, 0.4854019 , 0.4731048 , 0.48266467, 0.46873668,\n",
       "       0.50549376, 0.47993296, 0.4843126 , 0.494682  , 0.48297542,\n",
       "       0.48762694, 0.4985654 , 0.48026422, 0.48219612, 0.5069483 ,\n",
       "       0.50011426, 0.48933402, 0.49041307, 0.48420033, 0.47538793,\n",
       "       0.5143649 , 0.4785746 , 0.46762016, 0.4844971 , 0.4789314 ,\n",
       "       0.48770943, 0.48410246, 0.5031162 , 0.49609146, 0.47511363,\n",
       "       0.48979744, 0.48367894, 0.48073784, 0.50667024, 0.5000335 ,\n",
       "       0.4840766 , 0.5129418 , 0.4822558 , 0.49428695, 0.475114  ,\n",
       "       0.4901921 , 0.47517067, 0.5134548 , 0.48748574, 0.49509913,\n",
       "       0.49124616, 0.47975504, 0.48530385, 0.4795139 , 0.49587315,\n",
       "       0.4792716 , 0.48514065, 0.49582732, 0.48743108, 0.47890276,\n",
       "       0.49667197, 0.49535593, 0.49540246, 0.49052596, 0.49493736,\n",
       "       0.47611558, 0.4740049 , 0.489481  , 0.50982773, 0.4812818 ,\n",
       "       0.48580885, 0.4799747 , 0.48110664, 0.48739046, 0.49054655,\n",
       "       0.5065855 , 0.49151933, 0.49034417, 0.47514558, 0.5156044 ,\n",
       "       0.48145074, 0.49114206, 0.48639882, 0.50424564, 0.49631596,\n",
       "       0.49774086, 0.506277  , 0.48737848, 0.49548116, 0.48446184,\n",
       "       0.5156308 , 0.48483866, 0.47551465, 0.47920159, 0.50033325,\n",
       "       0.4875653 , 0.47313437, 0.4893147 , 0.4781455 , 0.47781816,\n",
       "       0.50337493, 0.47773004, 0.48784074, 0.49465436, 0.4793487 ,\n",
       "       0.49332926, 0.4850978 , 0.46856397, 0.47917598, 0.4789525 ,\n",
       "       0.48633024, 0.49428654, 0.47956157, 0.49763635, 0.48767722,\n",
       "       0.48465812, 0.48994797, 0.49359828, 0.49421158, 0.4775672 ,\n",
       "       0.47974834, 0.5032556 , 0.5127149 , 0.49581626, 0.483803  ,\n",
       "       0.47501418, 0.4844924 , 0.4947549 , 0.49087125, 0.48383376,\n",
       "       0.484974  , 0.4948392 , 0.51113343, 0.47808808, 0.4965456 ,\n",
       "       0.48429158, 0.48908004, 0.50590885, 0.47962776, 0.47562125,\n",
       "       0.47842035, 0.48670805, 0.49023873, 0.5019093 , 0.4752342 ,\n",
       "       0.48620242, 0.5156308 , 0.4967105 , 0.47536293, 0.48722288,\n",
       "       0.5038241 , 0.47956622, 0.47554544, 0.4784717 , 0.5025586 ,\n",
       "       0.48500586, 0.5156308 , 0.47388566, 0.48666543, 0.4762289 ,\n",
       "       0.4720779 , 0.48485857, 0.50916344, 0.47500503, 0.473778  ,\n",
       "       0.47264737, 0.50541675, 0.47956398, 0.49240497, 0.4837794 ,\n",
       "       0.47541887, 0.5026195 , 0.50647527, 0.49094597, 0.4800393 ,\n",
       "       0.4806637 , 0.48521417, 0.49104246, 0.48423338, 0.4802134 ,\n",
       "       0.47137508, 0.48817   , 0.4804767 , 0.49076667, 0.4836586 ,\n",
       "       0.47509602, 0.51009154, 0.48054832, 0.48478505, 0.48247415,\n",
       "       0.4843504 , 0.4875741 , 0.47934744, 0.5039712 , 0.4966275 ,\n",
       "       0.5056254 , 0.4911034 , 0.48390773, 0.48706165, 0.4844607 ,\n",
       "       0.50514495, 0.50634104, 0.51285034, 0.49047366, 0.50804204,\n",
       "       0.49645793, 0.48102874, 0.4934666 , 0.4801181 , 0.47901696,\n",
       "       0.4889323 , 0.48522815, 0.5156308 , 0.4844229 , 0.4831101 ,\n",
       "       0.48462355, 0.49028638, 0.49312153, 0.48928732, 0.5040262 ,\n",
       "       0.4845215 , 0.49339667, 0.50629634, 0.5135118 , 0.47520953,\n",
       "       0.4865809 , 0.4924308 , 0.48787066, 0.4870027 , 0.4796575 ,\n",
       "       0.50416166, 0.48038357, 0.47293538, 0.495459  , 0.48508424,\n",
       "       0.48510453, 0.50031334, 0.4844252 , 0.47843742, 0.5068175 ,\n",
       "       0.47183546, 0.48425332, 0.48688155, 0.4893702 , 0.47513306,\n",
       "       0.48704988, 0.4950827 , 0.495717  , 0.4895943 , 0.49412507,\n",
       "       0.49332386, 0.4753557 , 0.48000804, 0.488711  , 0.4899778 ,\n",
       "       0.48454416, 0.49617726, 0.4814746 , 0.47757995, 0.47521746,\n",
       "       0.4827159 , 0.5054642 , 0.47561747, 0.5055444 , 0.5026859 ,\n",
       "       0.48323455, 0.50722545, 0.50393087, 0.49548498, 0.47510675,\n",
       "       0.49150753, 0.48679686, 0.4838001 , 0.49636975, 0.48564747,\n",
       "       0.5059317 , 0.4825378 , 0.49203637, 0.48235616, 0.47748312,\n",
       "       0.4791468 , 0.5034374 , 0.5107594 , 0.4743025 , 0.4903181 ,\n",
       "       0.50777394, 0.50134027, 0.471934  , 0.48982364, 0.47389904,\n",
       "       0.4822203 , 0.48985836, 0.49233902, 0.49295458, 0.50023746,\n",
       "       0.47222432, 0.5084787 , 0.49632365, 0.47753978, 0.4784484 ,\n",
       "       0.4904441 , 0.47162297, 0.48547062, 0.49107546, 0.48524985,\n",
       "       0.5176118 , 0.47315636, 0.4960779 , 0.48839444, 0.51004136,\n",
       "       0.49317297, 0.4847809 , 0.49602348, 0.47075745, 0.48874646,\n",
       "       0.4953044 , 0.4735985 , 0.49976444, 0.48575827, 0.48442155,\n",
       "       0.4890414 , 0.49877265, 0.49661624, 0.4911202 , 0.48308957,\n",
       "       0.47293627, 0.4634587 , 0.4751177 , 0.48477182, 0.47525978,\n",
       "       0.49160072, 0.49459213, 0.47462583, 0.48067582, 0.48459888,\n",
       "       0.49362507, 0.48806867, 0.47521466, 0.49635208, 0.4972581 ,\n",
       "       0.4888293 , 0.47513193, 0.49153113, 0.48461354, 0.48496768,\n",
       "       0.48063195, 0.49332395, 0.5150823 , 0.48465532, 0.4909443 ,\n",
       "       0.48882645, 0.47870696, 0.5025075 , 0.4732217 , 0.5018778 ,\n",
       "       0.4977385 , 0.48319548, 0.48824468], dtype=float32)"
      ]
     },
     "execution_count": 30,
     "metadata": {},
     "output_type": "execute_result"
    }
   ],
   "source": [
    "# Собираем вместе все данные\n",
    "\n",
    "y_pred = torch.sigmoid(model(X_test_rnn)).T[0].detach().numpy()\n",
    "print(len(y_pred))\n",
    "test_prices = df.iloc[]"
   ]
  },
  {
   "cell_type": "code",
   "execution_count": null,
   "metadata": {},
   "outputs": [],
   "source": []
  },
  {
   "cell_type": "code",
   "execution_count": null,
   "metadata": {},
   "outputs": [],
   "source": [
    "step_data = df.iloc[:50]\n",
    "x = step_data.index\n",
    "price = step_data[\"close\"]\n",
    "\n",
    "x_buy = np.array([i for i in x[::2]])\n",
    "y_buy = price[x_buy]"
   ]
  },
  {
   "cell_type": "code",
   "execution_count": 41,
   "metadata": {},
   "outputs": [
    {
     "data": {
      "application/vnd.plotly.v1+json": {
       "config": {
        "plotlyServerURL": "https://plot.ly"
       },
       "data": [
        {
         "customdata": [
          [
           50.08183306055646,
           0.5680852991672404
          ],
          [
           49.35483870967747,
           -1.1485056568125263
          ],
          [
           49.1085899513776,
           0.4557244992848551
          ],
          [
           42.31701405719829,
           -1.1782947165388624
          ],
          [
           57.22863741339489,
           1.145853140511071
          ],
          [
           49.45107398568015,
           0.35897779222795523
          ],
          [
           48.41121495327108,
           -1.0668675525550317
          ],
          [
           54.62392108508015,
           0.8126429204749162
          ],
          [
           53.48088531187122,
           0.2618902789665487
          ],
          [
           45.77861163227014,
           0.5988840626315761
          ],
          [
           44.14292175486204,
           -1.2289617224839369
          ],
          [
           59.75409836065573,
           1.731520345807318
          ],
          [
           45.99171998494544,
           -0.8985582314353492
          ],
          [
           51.64969450101833,
           -0.6819205546408238
          ],
          [
           49.446337308347545,
           0.8312738723601005
          ],
          [
           52.458276950834474,
           0.7083601512373355
          ],
          [
           57.774465971187276,
           0.6008917351076667
          ],
          [
           50.43731778425649,
           0.5748598226970943
          ],
          [
           43.46733668341708,
           -1.5632768954893637
          ],
          [
           41.619097042034255,
           -1.253195261594968
          ],
          [
           51.151801535735345,
           -0.7784912723709851
          ],
          [
           42.60929909784871,
           0.5044088230252367
          ],
          [
           63.152709359605915,
           0.5365480285926754
          ],
          [
           62.63736263736269,
           0.8846689994022905
          ],
          [
           35.01427212178869,
           -1.083017993790787
          ],
          [
           55.82147477360936,
           1.629155239237882
          ],
          [
           51.46094215861661,
           0.7442229123566272
          ],
          [
           42.68656716417912,
           -0.9615386480171475
          ],
          [
           59.049079754601195,
           0.6361865506161567
          ],
          [
           50.528634361233436,
           -0.9303139484262722
          ],
          [
           55.54235946159938,
           0.622137263900944
          ],
          [
           46.126622099882034,
           -0.8185771078295165
          ],
          [
           44.591439688715965,
           -1.107553032847952
          ],
          [
           49.431818181818144,
           0.4648123170800424
          ],
          [
           51.026392961876844,
           -0.6773684214145756
          ],
          [
           44.49522226838388,
           0.3535638387128554
          ],
          [
           48.67564046895351,
           0.5239671262872097
          ],
          [
           49.16666666666668,
           -1.2175597024380862
          ],
          [
           50.385273972602754,
           1.168134674083567
          ],
          [
           49.957555178268294,
           -1.116538103014093
          ],
          [
           53.1585220500596,
           1.7632980350538279
          ],
          [
           49.35448174105497,
           -0.860406557279644
          ],
          [
           53.160511363636374,
           0.15789521839051454
          ],
          [
           45.332837486054295,
           -0.7553197020759159
          ],
          [
           54.82820976491861,
           0.9010821121382134
          ],
          [
           51.63776493256261,
           0.8303257351358163
          ],
          [
           53.5012967765839,
           1.4264883384307459
          ],
          [
           54.75919605612443,
           0.027783157192622643
          ],
          [
           43.692430917100495,
           -0.9841222450915089
          ],
          [
           50.02292526364051,
           -1.1354692795957833
          ],
          [
           46.27895515032029,
           0.635164713705291
          ],
          [
           57.71358328211433,
           0.3144551603783075
          ],
          [
           46.37336504161712,
           -0.7779576255655214
          ],
          [
           46.263345195729556,
           -1.5455117397564029
          ],
          [
           38.072453861927464,
           -0.9766841977377334
          ],
          [
           45.1219512195122,
           -0.042685955442496266
          ],
          [
           36.46546359676414,
           -0.5962842690941764
          ],
          [
           42.89897510980956,
           -0.5457385306915639
          ],
          [
           50.77989601386485,
           -0.43647193290455516
          ],
          [
           63.42780026990553,
           1.894699568834494
          ],
          [
           51.692047377326595,
           1.3837936229436214
          ],
          [
           50.412541254125394,
           0.8147702858594174
          ],
          [
           55.39437896645513,
           0.25254052946836997
          ],
          [
           54.749103942652354,
           -0.6949017157213084
          ],
          [
           48.55334538878846,
           -1.0034585401489111
          ],
          [
           56.1970746728253,
           1.1383604677487202
          ],
          [
           49.35767410412441,
           -0.8081770123080804
          ],
          [
           49.863945578231316,
           -0.6976536897776311
          ],
          [
           55.258358662613944,
           0.33502817150577174
          ],
          [
           36.179921773142176,
           -1.1378096775482125
          ],
          [
           40.176322418136,
           -0.6364251940846118
          ],
          [
           42.4183006535948,
           -0.4450778352761461
          ],
          [
           52.88403157255621,
           1.2237829789860057
          ],
          [
           51.38643067846607,
           -0.2677842517194757
          ],
          [
           58.310477235326395,
           1.1864098772633933
          ],
          [
           50.06570302233896,
           1.4289598860426616
          ],
          [
           60.91127098321356,
           1.0390979143428292
          ],
          [
           47.97724399494314,
           -1.1791441066505324
          ],
          [
           44.57912457912461,
           -0.6159371564080476
          ],
          [
           60.59782608695656,
           0.9176888393568738
          ],
          [
           49.38949938949943,
           -0.7666576904445477
          ],
          [
           47.8991596638655,
           -1.0775636066479344
          ],
          [
           50.76574021554165,
           1.0391091567633013
          ],
          [
           46.205472379969024,
           -1.4619995992388801
          ],
          [
           40.92970521541953,
           -1.1244114596038781
          ],
          [
           40.829074389551415,
           -0.6409123841880521
          ],
          [
           50.39215686274508,
           1.1680767827426988
          ],
          [
           58.21064552661374,
           0.8892070526999197
          ],
          [
           50.211640211640244,
           -0.24779304278887618
          ],
          [
           42.319011183048815,
           -0.5412699373262119
          ],
          [
           50.27210884353736,
           -0.39993608723258056
          ],
          [
           49.5640509725017,
           -0.6702195004680727
          ],
          [
           37.12374581939804,
           -0.48039545306284087
          ],
          [
           65.88124410933082,
           1.1017509034246036
          ],
          [
           69.08625106746369,
           1.788528597989357
          ],
          [
           50.41039671682628,
           -0.5528584435750007
          ],
          [
           44.5294567712318,
           0.34539356519353054
          ],
          [
           50.74074074074081,
           0.8974321276950402
          ],
          [
           60.847457627118544,
           1.1344104969624889
          ],
          [
           48.74405974202306,
           -0.9823090368717493
          ],
          [
           58.40220385674935,
           1.223333219333212
          ],
          [
           64.08268733850134,
           1.79280097336173
          ],
          [
           56.192236598890965,
           0.3286430829936383
          ],
          [
           54.81410867492847,
           1.179757428652415
          ],
          [
           42.55939974989579,
           -1.2984413911540396
          ],
          [
           49.06295050456508,
           -1.3017667747009758
          ],
          [
           46.97348674337166,
           -0.779325646162869
          ],
          [
           51.12955278930385,
           0.5486780876833052
          ],
          [
           44.38943894389439,
           -0.926045087084584
          ],
          [
           57.13080168776369,
           0.5128290999613784
          ],
          [
           48.202137998056344,
           0.2735506379451515
          ],
          [
           37.23062815222372,
           -1.2994779982156854
          ],
          [
           51.20244862264971,
           0.5799406753645778
          ],
          [
           45.73823940381933,
           0.4948520775416542
          ],
          [
           56.17848970251714,
           0.32295200802882484
          ],
          [
           57.259475218658906,
           0.4192695537705376
          ],
          [
           48.40425531914895,
           -1.1817056681816887
          ],
          [
           48.01714898177919,
           0.45802940443029366
          ],
          [
           58.7666263603386,
           0.8591998536746066
          ],
          [
           47.21088435374151,
           0.224985326206989
          ],
          [
           49.15966386554629,
           0.17002227955884083
          ],
          [
           54.25038639876361,
           -1.0512356556205944
          ],
          [
           50.66666666666665,
           1.0247270771244368
          ],
          [
           58.54961832061061,
           1.9223791122417007
          ],
          [
           52.6063100137174,
           0.5212770082638098
          ],
          [
           44.335260115606914,
           -1.3973948546902621
          ],
          [
           62.246489859594405,
           1.364297626729311
          ],
          [
           43.81130312937878,
           -1.3945682880283021
          ],
          [
           49.85410587744895,
           0.4011124682278789
          ],
          [
           50.167785234899355,
           -0.09132016804169828
          ],
          [
           45.136778115501514,
           -1.3853989442667187
          ],
          [
           48.7540192926045,
           -1.0695805285663509
          ],
          [
           49.40476190476194,
           0.496364765075426
          ],
          [
           41.721091048789866,
           -0.7889151077890084
          ],
          [
           49.0091463414634,
           0.3119837811427131
          ],
          [
           53.49417637271216,
           0.11332477892647926
          ],
          [
           39.888164026095055,
           -0.807528969368507
          ],
          [
           50.92207019631173,
           -0.867435489668365
          ],
          [
           39.692982456140385,
           -0.6324099052592926
          ],
          [
           51.04986876640418,
           0.9631422633873434
          ],
          [
           63.51451973194338,
           1.474120474459137
          ],
          [
           62.3963828183873,
           1.2655482083486593
          ],
          [
           49.30362116991641,
           0.7959244892324079
          ],
          [
           65.72717023675321,
           1.0013663087197675
          ],
          [
           64.52742123687288,
           1.808145883765579
          ],
          [
           65.75505350772895,
           1.2561797998322288
          ],
          [
           68.01968019680201,
           0.3448623057034695
          ],
          [
           48.466257668711684,
           -1.444950908791639
          ],
          [
           50.042480883602344,
           -1.1453197653999765
          ],
          [
           52.4271844660194,
           0.3496943542487576
          ],
          [
           45.51231135822081,
           -0.365866360632734
          ],
          [
           54.5637583892618,
           1.0426214495160389
          ],
          [
           50.62266500622661,
           0.047324386716179875
          ],
          [
           48.348157560355745,
           -0.053160408015310925
          ],
          [
           39.90546927751516,
           -0.4887744578463709
          ],
          [
           36.868371802869596,
           -1.2749214519836078
          ],
          [
           49.76851851851848,
           0.3862982467487318
          ],
          [
           58.46363018354854,
           -0.013281541279491554
          ],
          [
           48.60774818401935,
           -1.3571469694252636
          ],
          [
           44.72656249999999,
           -0.3569913623724618
          ],
          [
           51.85897435897431,
           0.39057295688420335
          ],
          [
           49.49562878278411,
           1.456132395506794
          ],
          [
           41.605426794799335,
           -1.3903493661707365
          ],
          [
           49.32466233116556,
           0.34288734062072757
          ],
          [
           45.79656293543892,
           -1.101286158470702
          ],
          [
           48.78772884710537,
           -1.1395918325597771
          ],
          [
           50.40728318160035,
           0.9571440607739383
          ],
          [
           52.468827930174584,
           0.8040861718414969
          ],
          [
           58.86961387800788,
           0.6808961183963704
          ],
          [
           55.291970802919735,
           0.8153693807997843
          ],
          [
           51.07073329007143,
           0.5739430503258184
          ],
          [
           44.927536231884034,
           0.45161064833701003
          ],
          [
           70.61567164179118,
           1.1843106318269576
          ],
          [
           62.139423076923194,
           1.2366784833393485
          ],
          [
           86.22950819672164,
           1.1298541063384688
          ],
          [
           60.045662100456774,
           -0.8007916083178016
          ],
          [
           47.28915662650611,
           -0.17921582117398518
          ],
          [
           47.75449101796419,
           -0.5116264717477692
          ],
          [
           48.70229007633576,
           -0.5483873960698077
          ],
          [
           44.72440944881899,
           -0.6564868205292153
          ],
          [
           32.908458864426365,
           -2.246222486555125
          ],
          [
           31.450719822812886,
           -1.9049759266053303
          ],
          [
           22.914072229140757,
           -1.365533385205369
          ],
          [
           25.600961538461505,
           -0.9724479766398318
          ],
          [
           45.17271922054913,
           0.8025278615385499
          ],
          [
           60.642092746730036,
           0.8217579829334788
          ],
          [
           36.6130558183538,
           -1.136957663641051
          ],
          [
           36.553030303030326,
           -0.973265545254093
          ],
          [
           48.4046692607004,
           0.5750885859184048
          ],
          [
           52.56222547584183,
           1.1431394343627168
          ],
          [
           49.38101788170571,
           -0.8333383911676429
          ],
          [
           61.17051209904332,
           1.3572158014029798
          ],
          [
           50.72463768115937,
           -0.6165264349232834
          ],
          [
           49.29302779132133,
           -0.7774232804564557
          ],
          [
           44.5924347362813,
           -0.04336567409507012
          ],
          [
           41.435643564356425,
           -0.9955119632072722
          ],
          [
           50.3529411764706,
           -0.7411124289256467
          ],
          [
           48.190045248868735,
           -1.0444292563535003
          ],
          [
           51.12059765208115,
           1.0917386007108494
          ],
          [
           49.026154702281595,
           1.0253308137147155
          ],
          [
           64.46483180428132,
           1.7210165886357325
          ],
          [
           38.94258101193856,
           -0.8303261059971798
          ],
          [
           49.24965893587995,
           -0.6363988117559177
          ],
          [
           49.89633724948168,
           -0.5189430945532217
          ],
          [
           44.798785117691715,
           -0.5152565719757335
          ],
          [
           48.51973684210532,
           -0.8151001285774229
          ],
          [
           60.15276893698282,
           1.211471257925745
          ],
          [
           58.91521197007487,
           0.532694085470171
          ],
          [
           50.113550340651024,
           0.7286099054424999
          ],
          [
           55.50303848750845,
           1.4157738817326866
          ],
          [
           41.46964856230033,
           0.09245258312029823
          ],
          [
           52.04490777866889,
           -0.7154689564723208
          ],
          [
           59.73063973063982,
           0.9063558518443157
          ],
          [
           58.54785478547859,
           0.5996573076205005
          ],
          [
           50.311968235961466,
           -0.9368445974298394
          ],
          [
           58.60323886639674,
           0.6033697193772246
          ],
          [
           42.74809160305342,
           -0.923419707310819
          ],
          [
           44.36898698358796,
           -1.2889702678805615
          ],
          [
           49.27760577915377,
           0.36762101312629064
          ],
          [
           44.868199663488454,
           0.5010724476783185
          ],
          [
           45.09582863585115,
           -1.059780915702176
          ],
          [
           57.181136120042844,
           0.9887712698212082
          ],
          [
           42.557764642665184,
           -0.9920701044958546
          ],
          [
           44.163528778913324,
           -0.802656971170872
          ],
          [
           55.97765363128491,
           0.6627549115131776
          ],
          [
           42.20554272517321,
           -0.8888278665902299
          ],
          [
           57.03910614525145,
           1.2151932456976742
          ],
          [
           56.753752084491424,
           0.8828322303565731
          ],
          [
           43.20043691971595,
           -1.1171541447301057
          ],
          [
           54.265611257695696,
           1.85095761402699
          ],
          [
           49.89890820865344,
           -0.9107985317292007
          ],
          [
           53.26291965296118,
           1.5918853646397875
          ],
          [
           59.277917716204826,
           1.3088124561825643
          ],
          [
           48.577449947312964,
           -1.102014598410679
          ],
          [
           50.3560528992879,
           0.22618436252672902
          ],
          [
           57.08404802744424,
           0.9742687842056226
          ],
          [
           48.02516602586509,
           -0.21428915800610127
          ],
          [
           45.617529880478074,
           -1.200087734737375
          ],
          [
           50.144927536231904,
           -0.9800008266309289
          ],
          [
           39.121160409556374,
           -1.0450034108905681
          ],
          [
           56.073509636934105,
           0.38070071804006184
          ],
          [
           44.75291504719598,
           0.4128252799004718
          ],
          [
           39.01258470474351,
           -0.921061967018141
          ],
          [
           62.977283711938114,
           1.5163367742108926
          ],
          [
           48.66412213740458,
           0.12014571740516343
          ],
          [
           38.720073664825065,
           -1.2148988775544243
          ],
          [
           45.97927972372968,
           -0.6309916113836422
          ],
          [
           49.33827421916359,
           -0.8093615510102775
          ],
          [
           50.670103092783485,
           -0.38783587541373205
          ],
          [
           57.78191985088535,
           0.9120617750631114
          ],
          [
           50.54585152838425,
           0.8681331623447808
          ],
          [
           43.47417840375588,
           -0.874927623031696
          ],
          [
           55.37583254043764,
           0.48312692256724626
          ],
          [
           35.441020191285915,
           -0.9188005784792472
          ],
          [
           43.92812887236677,
           -0.6790776357868639
          ],
          [
           60,
           1.1389750307014317
          ],
          [
           50.42783799201362,
           -0.3052277993554404
          ],
          [
           51.246376811594224,
           -0.5994032540070405
          ],
          [
           49.134328358208975,
           -0.65636749700014
          ],
          [
           49.97064004697595,
           1.18927242105142
          ],
          [
           48.483080513418955,
           0.8253346579003606
          ],
          [
           60.33402922755746,
           1.070018084194913
          ],
          [
           42.243116185359334,
           -0.7935992626109561
          ],
          [
           52.291325695581044,
           -0.7381456031712138
          ],
          [
           50.12594458438288,
           -0.6877833544952534
          ],
          [
           51.231527093596114,
           1.236139299165668
          ],
          [
           68.72393661384498,
           1.953365643033234
          ],
          [
           67.43044189852701,
           1.4072427854662277
          ],
          [
           48.5562757807896,
           -1.125616124416795
          ],
          [
           48.73752201996475,
           0.2898302759674158
          ],
          [
           43.45549738219894,
           -0.9834038796498246
          ],
          [
           43.779281624154116,
           -0.6241137028402669
          ],
          [
           57.84418356456776,
           0.6420972384078591
          ],
          [
           47.35449735449732,
           -1.228168001090146
          ],
          [
           48.47560975609759,
           -0.9800922536888063
          ],
          [
           42.767295597484264,
           -0.662078296538418
          ],
          [
           43.69347929557353,
           0.3731221856197171
          ],
          [
           50.22065313327453,
           1.290500105261021
          ],
          [
           58.12053115423902,
           0.6287375810934407
          ],
          [
           51.16140559857054,
           0.8236957221514377
          ],
          [
           49.001711351968076,
           -0.9114180375510402
          ],
          [
           53.291536050156715,
           0.27868769277903604
          ],
          [
           42.205323193916314,
           -0.6821689576165039
          ],
          [
           51.5593895155939,
           -0.9826817778706056
          ],
          [
           52.00525969756735,
           -0.5754034851385433
          ],
          [
           49.221394719025085,
           -0.7533753112170694
          ],
          [
           50.36399735274657,
           0.6729136107534897
          ],
          [
           36.72776646300056,
           -0.456050789350549
          ],
          [
           50.06622516556285,
           0.8205922337089476
          ],
          [
           42.34490608992602,
           -0.628205674057604
          ],
          [
           57.17776420280999,
           0.8511505041859666
          ],
          [
           53.4528552456839,
           1.4398204636678582
          ],
          [
           60.92715231788075,
           1.3331314132627912
          ],
          [
           52.90734824281157,
           -0.5777880378330827
          ],
          [
           51.70380078636963,
           -0.5050634891494871
          ],
          [
           51.267056530214376,
           -0.8323400131025748
          ],
          [
           52.13784301212504,
           1.209956265931596
          ],
          [
           59.68772178850252,
           1.184873249925765
          ],
          [
           42.15488215488222,
           -0.8776119918086068
          ],
          [
           57.89473684210526,
           0.4913876164655909
          ],
          [
           51.88452285485164,
           0.6149500349430727
          ],
          [
           40.16913319238905,
           -1.2584497184485144
          ],
          [
           39.999999999999964,
           -0.9573258874262195
          ],
          [
           47.76371308016877,
           -1.0845610739938667
          ],
          [
           57.68967874231032,
           1.0293187781844637
          ],
          [
           48.78612716763009,
           -1.0747567711988646
          ],
          [
           49.971767363071734,
           1.08367152781877
          ],
          [
           42.10268948655252,
           -0.9076120835879713
          ],
          [
           49.462365591397855,
           -0.687602501699782
          ],
          [
           51.78185745140396,
           1.3305154036774736
          ],
          [
           44.533459000942536,
           -0.6720480413242967
          ],
          [
           46.94485842026828,
           -1.3610594298459324
          ],
          [
           55.332496863237154,
           1.2338703069994776
          ],
          [
           56.84121621621616,
           1.1560663918715453
          ],
          [
           44.51013513513516,
           -0.6317930578751467
          ],
          [
           57.30526315789472,
           1.0522192387898321
          ],
          [
           41.89852700490998,
           -1.153009919232312
          ],
          [
           54.31596091205213,
           0.5205799349662831
          ],
          [
           49.08955778520994,
           -0.7901185941371267
          ],
          [
           48.36034677723332,
           0.5825240837746913
          ],
          [
           49.980522010128524,
           -0.6058457336397217
          ],
          [
           51.25848981222533,
           -0.9015885207834969
          ],
          [
           50.325732899022796,
           1.054579957421573
          ],
          [
           49.12920210611582,
           0.712262324817032
          ],
          [
           51.15984816533105,
           -0.40935357670625694
          ],
          [
           42.19841639496973,
           -0.8014819273686756
          ],
          [
           53.06351883080384,
           -0.5541797866085983
          ],
          [
           39.57553058676653,
           -1.2476797396059953
          ],
          [
           59.43661971830983,
           1.3861359015604306
          ],
          [
           52.73794002607563,
           1.243847506092808
          ],
          [
           55.41095890410964,
           0.3613650543239489
          ],
          [
           61.14864864864868,
           0.932800378606233
          ],
          [
           46.36591478696741,
           0.41404064520546513
          ],
          [
           40.778839088905265,
           -0.949652642871385
          ],
          [
           55.55555555555556,
           0.525865619026694
          ],
          [
           49.67532467532469,
           -1.0051407372174144
          ],
          [
           47.146562905317786,
           -1.1318104306348982
          ],
          [
           61.941964285714306,
           1.11973303943651
          ],
          [
           45.41858932102838,
           0.13538024518497224
          ],
          [
           49.16615194564543,
           0.7019354170388622
          ],
          [
           43.592552026286945,
           -1.409390965847456
          ],
          [
           51.207958313595434,
           1.1779488510449598
          ],
          [
           46.275684931506824,
           -0.6996946569803456
          ],
          [
           50.16241299303943,
           -0.6936265644990852
          ],
          [
           52.16035634743876,
           1.1926974215619877
          ],
          [
           51.06846925425204,
           -0.683874412636016
          ],
          [
           51.29215943933422,
           -0.7457498772930992
          ],
          [
           41.063053673788474,
           -0.8655743818898743
          ],
          [
           52.16124332200094,
           0.7932374248403748
          ],
          [
           49.38712972420835,
           0.8187935932786633
          ],
          [
           52.29853975121686,
           -0.5981232071522372
          ],
          [
           39.48787061994606,
           -0.5820819692311507
          ],
          [
           47.411003236246,
           -0.9167036145565055
          ],
          [
           59.079118028534424,
           1.4397697940072203
          ],
          [
           52.051671732522884,
           1.5621309245162187
          ],
          [
           63.01747930082805,
           0.9684086677685969
          ],
          [
           62.959558823529385,
           0.8143551791243824
          ],
          [
           65.3742110009017,
           0.9057158997403512
          ],
          [
           38.88396811337473,
           -1.0525837398870348
          ],
          [
           51.10793423874197,
           0.5885924927109848
          ],
          [
           49.930167597765426,
           -0.9889943976892458
          ],
          [
           57.463592233009734,
           0.533259787229265
          ],
          [
           51.91885964912277,
           -0.9228395182041456
          ],
          [
           40.680183126226304,
           -1.1158968787891919
          ],
          [
           38.29931972789116,
           -1.0918119314756538
          ],
          [
           37.68406961178043,
           -1.3878007341864054
          ],
          [
           40.67237969676989,
           -0.8962281310675543
          ],
          [
           38.56951871657747,
           -0.8727894192988586
          ],
          [
           51.80817610062896,
           -0.17908271726609318
          ],
          [
           36.75623800383883,
           -0.40676928415999203
          ],
          [
           42.18061674008805,
           -1.3174833090413882
          ],
          [
           57.14285714285711,
           2.548604738211839
          ],
          [
           50.179211469534096,
           -0.06575703202185508
          ],
          [
           51.388888888888864,
           0.08030327951336132
          ],
          [
           47.187928669410084,
           -0.6256092898303073
          ],
          [
           54.356568364611284,
           0.23396259244212014
          ],
          [
           50.03304692663588,
           -0.28844208429325674
          ],
          [
           59.123682750970616,
           1.5440040391027112
          ],
          [
           47.97659678205751,
           -0.5758278765234953
          ],
          [
           59.094551282051235,
           1.8920672964820784
          ],
          [
           57.37067288992606,
           0.7513273592210508
          ],
          [
           40.40139616055847,
           -0.6222641381888628
          ],
          [
           54.00565504241278,
           0.38410377271515767
          ],
          [
           48.41168996188056,
           -0.8083134466626454
          ],
          [
           50.33025099075299,
           -0.8312683981480993
          ],
          [
           52.88220551378445,
           0.5393200762136101
          ],
          [
           50.4583499402152,
           -0.6251410986050139
          ],
          [
           43.14697926059509,
           -0.6853534402608552
          ],
          [
           57.116536158452334,
           0.8385382149746528
          ],
          [
           38.50899742930592,
           -0.5917197302641584
          ],
          [
           42.34030525720752,
           -0.7322247615976609
          ],
          [
           55.0898203592814,
           0.6080748924508836
          ],
          [
           52.046035805626644,
           1.4926551333375324
          ],
          [
           61.83320811419985,
           1.2895695904612103
          ],
          [
           62.25416036308624,
           1.1533440988222734
          ],
          [
           53.6675951717734,
           0.9836864149836578
          ],
          [
           65.85635359116023,
           0.956898469507005
          ],
          [
           62.736842105263236,
           0.45366870072101917
          ],
          [
           52.86284953395478,
           0.9267488056000983
          ],
          [
           67.7474402730377,
           -0.002272144800868124
          ],
          [
           78.82205513784461,
           1.6924891229094612
          ],
          [
           39.86074847693654,
           -2.089156250441192
          ],
          [
           34.19047619047623,
           -1.8586006723859707
          ],
          [
           47.77021919879061,
           -0.016227683417712135
          ],
          [
           46.884272997032625,
           -0.17968913919079066
          ],
          [
           39.31464174454827,
           -1.524945963608259
          ],
          [
           50.153531218014336,
           0.646538972610714
          ],
          [
           44.585987261146514,
           -0.9917516872453618
          ],
          [
           41.044434264773265,
           -1.156368497243902
          ],
          [
           49.617996604414245,
           0.3483560894966589
          ],
          [
           45.12251502542762,
           0.6181493884119273
          ],
          [
           50.80687142113484,
           -0.8272969572557096
          ],
          [
           57.31707317073168,
           1.122497758172057
          ],
          [
           45.631067961165016,
           -0.4482322623245833
          ],
          [
           46.420215255030406,
           -0.49336504654115365
          ],
          [
           53.535882661079164,
           -0.19440321784043757
          ],
          [
           47.731290512669375,
           0.9108086308196094
          ],
          [
           57.898498927805534,
           0.7106787682469663
          ],
          [
           51.62523900573612,
           -0.9510091422265532
          ],
          [
           47.97806716929402,
           0.2688873765710813
          ],
          [
           39.96372430471583,
           -1.6154239732701898
          ],
          [
           51.75913396481726,
           -0.652190260515544
          ],
          [
           40.58333333333337,
           -0.2943221741216734
          ],
          [
           48.55433698903294,
           -0.6480055820035308
          ],
          [
           45.904761904761834,
           -0.9945772853203382
          ],
          [
           60.664819944598285,
           2.195864415292655
          ],
          [
           42.8911362284355,
           -0.6499311847727255
          ],
          [
           52.47376311844081,
           1.4195169995823282
          ],
          [
           58.20399113082042,
           1.091426651275269
          ],
          [
           54.19198055893074,
           1.0566656615938717
          ],
          [
           51.71014492753624,
           -0.8471430114576267
          ],
          [
           50.65165876777252,
           -0.38288021170895997
          ],
          [
           50.20920502092048,
           -0.38653772079651166
          ],
          [
           47.72727272727276,
           -1.0757148847985387
          ],
          [
           51.26333520494109,
           -0.5966267869058333
          ],
          [
           42.287234042553166,
           0.23376100003206052
          ],
          [
           51.62337662337666,
           -0.5639045661044473
          ],
          [
           49.662162162162105,
           1.3546758649136161
          ],
          [
           51.488616462346656,
           1.1347226529437153
          ],
          [
           39.55223880597013,
           -0.9279107632962124
          ],
          [
           51.346801346801335,
           -0.6171181256688061
          ],
          [
           57.59354365370519,
           1.1741774688078885
          ],
          [
           48.0049875311721,
           -0.7354491020058423
          ],
          [
           52.43495663775849,
           -0.589238744248417
          ],
          [
           50.24424284717373,
           -0.5071678864013817
          ],
          [
           54.61489497135581,
           1.3119535887411258
          ],
          [
           58.686730506155975,
           1.0392390433541387
          ],
          [
           50.16501650165025,
           1.0886828881413622
          ],
          [
           39.506172839506185,
           -0.9863617392367829
          ],
          [
           56.419662509170955,
           0.12778785735412362
          ],
          [
           49.932705248990644,
           -0.7433682301479163
          ],
          [
           51.93798449612402,
           1.1785783736432753
          ],
          [
           62.287480680061854,
           1.0066686470847306
          ],
          [
           48.67529266789893,
           -1.1195607782427415
          ],
          [
           56.524008350730675,
           0.6881095228669835
          ],
          [
           41.649269311064764,
           -1.1594522332398516
          ],
          [
           41.78010471204187,
           -1.1422665885820815
          ],
          [
           46.81970349115254,
           0.2714977280918078
          ],
          [
           58.13333333333333,
           0.9934124599017553
          ],
          [
           45.4500978473581,
           -0.9959133393669872
          ],
          [
           57.09204090706979,
           1.1487157341238952
          ],
          [
           43.13380281690142,
           -0.8425819187197013
          ],
          [
           44.453998280309534,
           -0.5289247387667954
          ],
          [
           58.428446005267766,
           1.2925274197872691
          ],
          [
           43.87234042553194,
           -0.8442770080024138
          ],
          [
           49.87905176584419,
           -0.8665203124071856
          ],
          [
           55.94017094017093,
           0.9028929149634063
          ],
          [
           52.94386125057049,
           1.0949705160030265
          ],
          [
           43.5993349958437,
           -0.9381773429621793
          ],
          [
           55.13324595893402,
           0.3815941951216324
          ],
          [
           49.108027750247736,
           0.915291541759326
          ],
          [
           49.79899497487434,
           -0.977860461545132
          ],
          [
           59.29095354523227,
           1.9028915163729518
          ],
          [
           43.55020684467845,
           -0.8331527838147875
          ],
          [
           56.743295019157095,
           0.7916352041630613
          ],
          [
           55.0967261904762,
           0.41996461046744654
          ],
          [
           44.68796433878161,
           -1.1358953034342703
          ],
          [
           52.41291147331418,
           1.3496823874179769
          ],
          [
           55.20026926960619,
           0.4314229942988172
          ],
          [
           47.47172322022625,
           -0.7517558860946332
          ],
          [
           45.64921821889872,
           -0.8906824415276747
          ],
          [
           50.224382946896036,
           -0.9237297881193467
          ],
          [
           37.70041227668347,
           -0.9108726048046804
          ],
          [
           51.22228538942582,
           -0.5615782777402123
          ],
          [
           40.6639004149377,
           -0.38402963100144716
          ],
          [
           48.88304862023652,
           0.4519983279546362
          ],
          [
           52.394366197183125,
           -0.5208215824368381
          ],
          [
           36.763330215154255,
           0.48335021472215095
          ],
          [
           46.86192468619249,
           0.711129353952093
          ],
          [
           48.90829694323135,
           -0.6162672814144328
          ],
          [
           62.28956228956236,
           2.0116531250018195
          ],
          [
           63.68330464716009,
           1.554976030698128
          ],
          [
           52.70655270655267,
           -0.6019100296781046
          ],
          [
           62.07881210736718,
           2.0093849603087905
          ],
          [
           47.07167832167831,
           -1.457141073199876
          ],
          [
           43.883225208526454,
           -1.1817899134820062
          ],
          [
           49.336609336609314,
           -0.8030141216365826
          ],
          [
           55.84582441113493,
           1.5071637308729293
          ],
          [
           45.27002537151141,
           -0.9276918435784074
          ],
          [
           49.92307692307694,
           -0.6023825841303908
          ],
          [
           49.749131609417226,
           0.7621244314191947
          ],
          [
           47.811572700296736,
           0.15891834105817415
          ],
          [
           49.217258495609016,
           -0.6780284606888933
          ],
          [
           46.47887323943663,
           0.7922974191175115
          ],
          [
           62.74976213130349,
           1.32731481687044
          ],
          [
           51.61676646706587,
           -0.5353031793756786
          ],
          [
           49.10607866507744,
           -0.9169084782852274
          ],
          [
           46.71381031613976,
           0.6836523796770249
          ],
          [
           57.29591836734695,
           0.3971870921051095
          ],
          [
           49.26605504587158,
           -0.9245347208900466
          ],
          [
           41.85068349106199,
           -0.9163973043500493
          ],
          [
           48.94925679138904,
           -0.03969302061578711
          ],
          [
           53.863508178229004,
           -0.054556150556442806
          ],
          [
           41.370716510903485,
           -0.724857799876253
          ],
          [
           45.06713368359604,
           0.8177095851826427
          ],
          [
           49.61439588688945,
           -0.7360769525448315
          ],
          [
           51.02445472571052,
           -0.8228839619030544
          ],
          [
           36.94915254237281,
           -0.8038970382587388
          ],
          [
           37.55383290267003,
           -0.943111974706244
          ],
          [
           50.43478260869556,
           -0.6031209632901618
          ],
          [
           48.06282722513087,
           -0.839123753321913
          ],
          [
           52.16972034715533,
           1.3066093653706539
          ],
          [
           43.45381526104422,
           -0.7548653710952079
          ],
          [
           52.02312138728315,
           0.1389619050247979
          ],
          [
           50.21422450728357,
           1.8541870638199216
          ],
          [
           49.57698815566839,
           -0.4547493751109525
          ],
          [
           49.829931972789154,
           -0.49730560796065093
          ],
          [
           59.57300275482093,
           1.697641438898326
          ],
          [
           60.809883321894304,
           1.4946019175211092
          ],
          [
           54.71938775510209,
           0.3811978651760036
          ],
          [
           49.028571428571496,
           -1.2113372317756288
          ],
          [
           43.32909783989825,
           -0.7320782651087138
          ],
          [
           62.47191011235957,
           1.8050359654149006
          ],
          [
           49.39642684693385,
           -0.4756679426519937
          ],
          [
           40.958268933539415,
           -1.0474326872172832
          ],
          [
           57.263681592039774,
           0.962215069500354
          ],
          [
           53.86055217594761,
           0.18088248918210417
          ],
          [
           54.24593967517404,
           1.5738976279600896
          ],
          [
           50.24070021881841,
           0.6289077032465574
          ],
          [
           46.14147909967843,
           -1.0759593489200951
          ],
          [
           51.37016093953893,
           -0.7646916925555062
          ],
          [
           53.39724885368908,
           0.1003273762732252
          ],
          [
           47.363465160075314,
           0.7726452733168585
          ],
          [
           48.834951456310705,
           -0.9465421613935865
          ],
          [
           51.299032093734056,
           -0.8032518066598844
          ],
          [
           54.45450214387805,
           1.6191107720272164
          ],
          [
           46.05157131345687,
           -1.0966056562095787
          ],
          [
           45.65746753246751,
           0.3689610901332723
          ],
          [
           48.748921484037936,
           0.3546325087215228
          ],
          [
           49.88962472406185,
           -0.9893147160852582
          ],
          [
           51.26663804207815,
           -0.3516219849620184
          ],
          [
           55.80218068535825,
           1.5664809050491102
          ],
          [
           43.662453023573605,
           -1.058482568905893
          ],
          [
           54.145166838665276,
           0.40815498723089444
          ],
          [
           54.9966239027684,
           0.702869711573513
          ],
          [
           46.20661824051656,
           0.6228654006247735
          ],
          [
           51.809954751131244,
           -0.7545130135051762
          ],
          [
           47.79411764705888,
           -0.041837133678583584
          ],
          [
           51.502732240437155,
           0.7888944063991082
          ],
          [
           58.47983453981386,
           0.5883106176781417
          ],
          [
           49.07451352634074,
           -0.9387643144003983
          ],
          [
           37.50728013977874,
           -0.9314835354216874
          ],
          [
           51.355661881977674,
           -1.1626507475004342
          ],
          [
           48.39255499153978,
           0.37153868712924126
          ],
          [
           37.802197802197895,
           -1.365726400039189
          ],
          [
           54.42834138486306,
           1.8135412792094603
          ],
          [
           53.907496012759175,
           0.17134050236026876
          ],
          [
           52.20507166482906,
           0.4857550007991601
          ],
          [
           41.76408076514346,
           -0.9475284912487906
          ],
          [
           42.14477211796244,
           -0.8898783708279384
          ],
          [
           57.53280839895016,
           0.9984750055727221
          ],
          [
           48.892905558065955,
           -0.8141097673271758
          ],
          [
           50.50412465627865,
           -0.6800680116303839
          ],
          [
           52.71453590192648,
           1.1007640760083603
          ],
          [
           55.896007428040846,
           0.36648883818642464
          ],
          [
           37.266417512012836,
           -0.8527202460496351
          ],
          [
           52.39361702127662,
           0.6844335198454036
          ],
          [
           44.31390977443612,
           -0.9505593498932423
          ],
          [
           49.60547080483954,
           -0.8259405420866797
          ],
          [
           51.13402061855669,
           -0.3918489027658777
          ],
          [
           53.665689149560116,
           1.8682954885546335
          ],
          [
           50.459558823529385,
           -0.7551876439748335
          ],
          [
           49.22374429223744,
           -0.8051220686101137
          ],
          [
           42.0833333333333,
           -0.5012613620154668
          ],
          [
           52.07835642618251,
           1.006189984183235
          ],
          [
           59.75168132436621,
           1.3259685887874535
          ],
          [
           52.28915662650599,
           1.1182701643750024
          ],
          [
           57.71276595744678,
           0.3086467524317474
          ],
          [
           60.200878844946644,
           0.7858473949466925
          ],
          [
           57.34089477000625,
           0.4416294023364001
          ],
          [
           34.52131376659676,
           -1.055676214421805
          ],
          [
           50.56065239551484,
           -1.0194646712426572
          ],
          [
           63.540824575586186,
           0.7635166808638324
          ],
          [
           57.299843014128776,
           0.08239236444572237
          ],
          [
           35.58379666401896,
           -1.636486259932602
          ],
          [
           34.491114701131025,
           -1.2972389976194074
          ],
          [
           46.724598930481335,
           0.45237026741500513
          ],
          [
           44.579081632653114,
           -0.732168995083139
          ],
          [
           41.10885733603792,
           -0.6183811529314021
          ],
          [
           54.405286343612374,
           1.7191260942320639
          ],
          [
           50.433894844308355,
           -0.6519032943536421
          ],
          [
           56.43786451323462,
           1.0536954593165997
          ],
          [
           48.88888888888889,
           0.6706091130743473
          ],
          [
           56.77328316086545,
           1.6970535044498705
          ],
          [
           56.087360594795534,
           0.11162019256023391
          ],
          [
           59.85556499575188,
           1.2773345139999415
          ],
          [
           43.79815100154084,
           -1.3880745460071588
          ],
          [
           49.63826366559484,
           -0.9224788825168048
          ],
          [
           51.5491866769946,
           -0.3557054954857956
          ],
          [
           45.86758978797058,
           0.142497470747402
          ],
          [
           60.03770028275211,
           1.0991827136779206
          ],
          [
           44.29708222811668,
           -0.9254091939293412
          ],
          [
           44.93273542600892,
           -0.9781333602754924
          ],
          [
           46.32867132867131,
           0.5964189283063018
          ],
          [
           45.88744588744593,
           -0.9310708138207379
          ],
          [
           46.02763385146803,
           0.5095061347417476
          ],
          [
           50.73774393146114,
           -1.0363873382927353
          ],
          [
           47.66125061546039,
           -1.0442174545960008
          ],
          [
           52.755555555555524,
           0.691268187780692
          ],
          [
           51.571753986332574,
           0.8681342850212768
          ],
          [
           45.08840864440078,
           0.4696405543314959
          ],
          [
           55.9414990859233,
           0.3695521055054179
          ],
          [
           54.77326968973746,
           0.27666506547382996
          ],
          [
           40.09038089089735,
           -0.8963207333664633
          ],
          [
           54.95958853783981,
           -0.08452854609992116
          ],
          [
           47.78534923339021,
           0.48323499804138625
          ],
          [
           65.68306010928968,
           0.6606313737110373
          ],
          [
           53.1858407079646,
           -1.07357674928991
          ],
          [
           35.56638246041406,
           -1.1086585378021416
          ],
          [
           32.005141388174664,
           -1.1955698447397567
          ],
          [
           52.83582089552236,
           1.2301265084083852
          ],
          [
           47.75179856115107,
           0.2765732596555385
          ],
          [
           55.546357615894095,
           1.4109082129043702
          ],
          [
           61.95752539242857,
           0.9640541717451333
          ],
          [
           52.81553398058247,
           0.3330903422841387
          ],
          [
           41.471861471861274,
           -1.2431296655361754
          ],
          [
           50.54864667154355,
           0.7462387481959076
          ],
          [
           58.01847187237618,
           0.21331062565476286
          ],
          [
           48.6505681818182,
           -1.3087429955017709
          ],
          [
           57.420494699646675,
           0.8106739823287037
          ],
          [
           49.965397923875464,
           0.8814945715003208
          ],
          [
           55.29850746268652,
           0.8882803866345165
          ],
          [
           39.907038512616246,
           -1.410673557717369
          ],
          [
           41.023890784982974,
           -1.2287135274038374
          ],
          [
           43.73219373219377,
           -0.9605500281211858
          ],
          [
           49.317269076305266,
           -1.0028885879670406
          ],
          [
           47.67827529021558,
           0.5347508135861553
          ],
          [
           51.08412836079791,
           0.5230630341769377
          ],
          [
           50.25597269624574,
           -1.0702814895726933
          ],
          [
           33.21878579610538,
           -0.8994177991858598
          ],
          [
           35.508849557522126,
           -0.5347888442308277
          ],
          [
           33.33333333333333,
           -0.5639751825542366
          ],
          [
           49.671052631579016,
           -0.5030521253167244
          ],
          [
           64.1755634638196,
           1.8709440474958106
          ],
          [
           48.52941176470592,
           -0.6729204189350907
          ],
          [
           50.281954887218056,
           -0.5907226503790046
          ],
          [
           35.03808487486398,
           -1.1124321506160564
          ],
          [
           57.17360114777618,
           2.2240543941517084
          ],
          [
           51.38620245003226,
           -0.3481374736260793
          ],
          [
           51.790281329923275,
           -0.1476824053943008
          ],
          [
           48.324742268041206,
           -0.5026831137386182
          ],
          [
           48.44961240310081,
           -0.6184752753207428
          ],
          [
           56.20842572062079,
           1.1015534136709477
          ],
          [
           51.41451414514148,
           1.256403380881773
          ],
          [
           59.24875974486172,
           0.8411141100990259
          ],
          [
           50.5487804878049,
           -0.4995765569207718
          ],
          [
           50.703363914373135,
           -0.8609921004870443
          ],
          [
           45.466847090663045,
           1.0051593185144712
          ],
          [
           49.66740576496672,
           -0.6956503995195514
          ],
          [
           53.64193328795097,
           0.3179413761891147
          ],
          [
           51.20207927225473,
           -0.5787893718617786
          ],
          [
           48.88337468982626,
           -1.1325108033824547
          ],
          [
           40.6340057636888,
           -0.8322884598209762
          ],
          [
           54.774972557629,
           1.9599088087687866
          ],
          [
           50.27707808564235,
           0.7387608385986214
          ],
          [
           49.57774465971183,
           -0.6552858487109542
          ],
          [
           57.25190839694652,
           0.9547374842774263
          ],
          [
           43.41620626151012,
           -0.6476979724002562
          ],
          [
           49.06347554630597,
           -0.8054579261900516
          ],
          [
           43.30666666666671,
           -1.0940900921896313
          ],
          [
           49.59999999999999,
           -0.4089625452398212
          ],
          [
           60.23255813953488,
           1.431912133137241
          ],
          [
           50.42185616713542,
           -0.5250476060582862
          ],
          [
           37.145650048875815,
           -0.8006983320370755
          ],
          [
           42.21508828250403,
           -0.6489020844606413
          ],
          [
           50.09174311926606,
           -0.3644423473452678
          ],
          [
           38.74195854181554,
           -0.5077845418939541
          ],
          [
           61.20401337792643,
           1.650170393689505
          ],
          [
           60.79734219269106,
           1.4075046721564841
          ],
          [
           53.41506129597196,
           -0.3310504193514368
          ],
          [
           57.800105764146004,
           1.1904045215583743
          ],
          [
           38.25538623226484,
           -0.9522073854590928
          ],
          [
           61.05675146771038,
           1.582067302997755
          ],
          [
           58.45433255269323,
           0.9279830814990143
          ],
          [
           50.08216926869349,
           -0.7570495674567123
          ],
          [
           49.647741400745986,
           -0.7409023668276891
          ],
          [
           55.78154425612051,
           0.6188707085316247
          ],
          [
           43.759873617693536,
           -0.7185419550133452
          ],
          [
           50.32165832737667,
           0.7429384283624006
          ],
          [
           55.4986204178163,
           0.6047074710087537
          ],
          [
           44.24990051730996,
           -0.7732167782832293
          ],
          [
           51.19705340699819,
           -0.9468764256602588
          ],
          [
           43.2244242099625,
           0.2864805014514937
          ],
          [
           53.309572301425625,
           1.3688344336149472
          ],
          [
           55.81023454157786,
           0.18299998905752135
          ],
          [
           59.62006819288847,
           1.235830460169704
          ],
          [
           42.44474515110509,
           -1.3432693395954631
          ],
          [
           50.24248302618822,
           -0.8363494556730657
          ],
          [
           40.934371523915466,
           -0.8904392794498039
          ],
          [
           48.731974142217815,
           0.4093395178451122
          ],
          [
           58.906334596643276,
           1.013462006082976
          ],
          [
           50.55762081784388,
           -0.8061705382294674
          ],
          [
           45.40790148794246,
           -0.7377220963043373
          ],
          [
           37.77777777777783,
           -0.762082389995363
          ],
          [
           53.021664766248584,
           0.8090267893161015
          ],
          [
           49.69474969474971,
           1.2936487774093801
          ],
          [
           59.94108983799711,
           0.3027069655583062
          ],
          [
           60.55112400290064,
           1.0584413178737704
          ],
          [
           50.48367593712213,
           -0.9331160284582056
          ],
          [
           41.649048625792794,
           -0.9611112356777364
          ],
          [
           36.89024390243904,
           -0.9633737683295036
          ],
          [
           52.67249757045668,
           -0.5000542931749493
          ],
          [
           57.87197231833917,
           0.5069555573336307
          ],
          [
           61.164274322169,
           1.0078427542433996
          ],
          [
           42.9333333333333,
           -0.12761948563366068
          ],
          [
           33.93590797041905,
           -1.2265537551759158
          ],
          [
           53.74001452432825,
           1.034140539174776
          ],
          [
           38.70967741935481,
           -1.2041837200518744
          ],
          [
           48.51711026615975,
           -0.9356544306094485
          ],
          [
           51.16959064327493,
           -0.375380385849248
          ],
          [
           58.816276202219434,
           1.3486047675341046
          ],
          [
           58.30212234706615,
           1.33380943200755
          ],
          [
           44.612794612794566,
           -0.8476948555344284
          ],
          [
           49.462365591397905,
           0.85342988843931
          ],
          [
           54.4857768052516,
           0.9529237264971929
          ],
          [
           59.35637663885572,
           0.8791375829592472
          ],
          [
           41.27082048118442,
           -0.7645067563472617
          ],
          [
           51.501154734411145,
           -0.9607992773893741
          ],
          [
           50.03819709702058,
           -0.9411913930746364
          ],
          [
           59.75384615384613,
           1.21005793200197
          ],
          [
           42.5936942296252,
           -0.7722363850050409
          ],
          [
           39.10034602076125,
           -1.245917791030293
          ],
          [
           57.59493670886079,
           0.7360050741838167
          ],
          [
           49.59294436906375,
           0.7538896834685163
          ],
          [
           41.3081909251621,
           -0.8536892150161592
          ],
          [
           40.14891179839636,
           -1.0452927500356435
          ],
          [
           57.60393873085337,
           1.146657137385316
          ],
          [
           58.27338129496395,
           1.0968250481191288
          ],
          [
           49.9762695775985,
           -0.873811475518949
          ],
          [
           40.079590676520745,
           -0.6949286760035215
          ],
          [
           48.25462012320332,
           -0.7882419530274096
          ],
          [
           65.05517603783503,
           2.05442191173251
          ],
          [
           43.42667299477929,
           -0.6891268429963238
          ],
          [
           42.977923907937985,
           -0.8487729732813847
          ],
          [
           54.712535344015066,
           0.47262410818203404
          ],
          [
           56.22276029055695,
           0.48492894869708464
          ],
          [
           50.356946732564516,
           0.9089352385259144
          ],
          [
           50.27412280701761,
           0.7150109983766755
          ],
          [
           61.8954248366013,
           0.8529468942309842
          ],
          [
           49.91834512792596,
           -0.8113761308269198
          ],
          [
           50.91991341991342,
           -0.7216772148093837
          ],
          [
           29.999999999999957,
           -0.9442160860803734
          ],
          [
           52.56696428571435,
           -0.642809476460453
          ],
          [
           62.582469368520385,
           0.6763458485985752
          ],
          [
           38.775510204081534,
           -1.0872329312306686
          ],
          [
           52.97491039426518,
           0.9080345949865987
          ],
          [
           46.67159763313608,
           0.45154476406613553
          ],
          [
           49.502133712659976,
           0.824699729283578
          ],
          [
           47.77618364418937,
           0.7456783346188249
          ],
          [
           59.30543187889579,
           0.3670840178047547
          ],
          [
           57.83783783783786,
           0.40207055872754965
          ],
          [
           64.63210702341132,
           1.1871951686609439
          ],
          [
           48.07041299932298,
           -1.3614271960959985
          ],
          [
           47.357584076870246,
           -0.2192085786649261
          ],
          [
           50.36496350364972,
           -1.528015111910601
          ],
          [
           34.680451127819566,
           -1.3450470194891577
          ],
          [
           38.715953307392994,
           -1.1768896703362517
          ],
          [
           47.89081885856083,
           0.6426160709419838
          ],
          [
           41.865509761388275,
           -0.6633934318356323
          ],
          [
           47.95486600846268,
           0.17633837323566254
          ],
          [
           54.98452012383897,
           1.6169314470849145
          ],
          [
           40.96320346320345,
           -0.8660299093301521
          ],
          [
           48.83870967741931,
           -1.0066214500343995
          ],
          [
           45.04504504504502,
           -0.43324016519094793
          ],
          [
           60.875079264426056,
           1.5630215146530124
          ],
          [
           61.381074168797966,
           1.331139435669629
          ],
          [
           60.90614886731394,
           1.1652354024509468
          ],
          [
           48.978153629316346,
           0.32505369265742445
          ],
          [
           47.37559645535111,
           -1.19174423022057
          ],
          [
           43.97677793904208,
           -0.9475303084121887
          ],
          [
           44.65949820788536,
           0.3558225515053336
          ],
          [
           61.94029850746273,
           0.549834422130754
          ],
          [
           49.73782771535583,
           -1.1352953011087812
          ],
          [
           58.83435582822087,
           0.9221069822190797
          ],
          [
           48.90730972117561,
           0.7422026053103492
          ],
          [
           48.76033057851235,
           0.5803892009792461
          ],
          [
           38.56366928183464,
           -1.372225030303102
          ],
          [
           44.533662754786945,
           -0.7218068739780311
          ],
          [
           57.18932986337016,
           0.3880089879420246
          ],
          [
           50.20266357845974,
           -0.8470977073947771
          ],
          [
           43.71727748691091,
           -0.7150218758660943
          ],
          [
           40.218088518280865,
           -1.1556567285867132
          ],
          [
           59.013157894736835,
           0.6397198869203548
          ],
          [
           50.47694753577108,
           1.2136528621452165
          ],
          [
           40.18987341772149,
           -0.9385236829029636
          ],
          [
           41.640770665009285,
           -0.5839244030744508
          ],
          [
           53.61538461538463,
           -0.2780763301900193
          ],
          [
           55.985401459853996,
           1.0130569184055305
          ],
          [
           44.84536082474232,
           -0.2731853929813964
          ],
          [
           61.17814052519523,
           1.526670967448532
          ],
          [
           49.64370546318288,
           -0.6630747758074803
          ],
          [
           59.136387572406534,
           1.2718818186564267
          ],
          [
           49.708624708624725,
           0.5342701890077165
          ],
          [
           42.19362059317294,
           -0.822434384377656
          ],
          [
           49.7689768976898,
           -1.068802009893304
          ],
          [
           50.77619663648127,
           -0.4486090402802815
          ],
          [
           48.37268666241219,
           -0.866009324014372
          ],
          [
           40.05287508261735,
           -1.4610388540430879
          ],
          [
           49.468791500663926,
           -0.38576202781183583
          ],
          [
           49.63600264725343,
           1.42106952783963
          ],
          [
           67.02508960573478,
           1.9622266514634903
          ],
          [
           52.09003215434089,
           1.1559212028454593
          ],
          [
           42.46395806028838,
           -0.8522296576244774
          ],
          [
           47.61204996326229,
           -0.7416984851055776
          ],
          [
           62.81179138321991,
           1.5077017864865683
          ],
          [
           55.4255319148936,
           0.5228822630325209
          ],
          [
           57.34341252699786,
           0.5124004987591346
          ],
          [
           58.70646766169158,
           0.17022430443097367
          ],
          [
           55.58858501783599,
           0.1402847191525024
          ],
          [
           42.04968944099377,
           -0.9990561032217617
          ],
          [
           47.993311036789294,
           0.9760216399909797
          ],
          [
           42.942643391521166,
           -0.9062308426523075
          ],
          [
           58.95127118644067,
           0.6528764186632893
          ],
          [
           51.05504587155964,
           -1.0049885749923422
          ],
          [
           37.65859284890427,
           -1.124337565325023
          ],
          [
           50.820568927789964,
           0.4708941359624784
          ],
          [
           48.9235737351992,
           0.27850378028727574
          ],
          [
           50.553097345132706,
           0.3275988939807181
          ],
          [
           53.120083901415825,
           1.082714429052979
          ],
          [
           59.07514450867054,
           1.0087673084416342
          ],
          [
           45.03448275862071,
           0.3633466050612419
          ],
          [
           60.17699115044246,
           0.43306406980286877
          ],
          [
           33.6742722265933,
           -1.9011068039058612
          ],
          [
           61.0556348074179,
           0.7467503930056734
          ],
          [
           59.11602209944754,
           0.38448904674908146
          ],
          [
           55.62218890554721,
           1.2415332352203794
          ],
          [
           44.99696785930866,
           -1.307566850217662
          ],
          [
           49.91717283268912,
           -0.09694629512492699
          ],
          [
           52.71115745568299,
           1.219059345304417
          ],
          [
           48.54651162790692,
           0.17046606726494756
          ],
          [
           49.850746268656714,
           -0.012174804132618695
          ],
          [
           48.459244532803176,
           -0.1386640894061484
          ],
          [
           60.11097410604192,
           -0.1374733788866688
          ],
          [
           38.3859649122807,
           -1.3852575853131028
          ],
          [
           37.363387978142036,
           -1.9849003464799764
          ],
          [
           51.45579671784008,
           1.3902307380326526
          ],
          [
           48.893360160965806,
           -1.0334636255390417
          ],
          [
           50,
           0.18409723326307356
          ],
          [
           39.00293255131964,
           -1.0666658172670689
          ],
          [
           41.80199057097958,
           -0.9997912102279388
          ],
          [
           44.24870466321243,
           -0.5825835821492208
          ],
          [
           49.56647398843929,
           0.48151585209171033
          ],
          [
           45.713016437139025,
           -0.47474615369815626
          ],
          [
           49.518768046198296,
           -0.6987190187087923
          ],
          [
           53.04003954522991,
           -0.3368088218762806
          ],
          [
           35.19781718963158,
           -0.17935047107303734
          ],
          [
           60.90104585679803,
           1.1358350808631525
          ],
          [
           39.25233644859815,
           -1.1675281590616662
          ],
          [
           56.9219957835559,
           0.9755593500477705
          ],
          [
           57.122708039492316,
           0.9380130887003061
          ],
          [
           48.3643361128929,
           -0.7723664375834349
          ],
          [
           56.9288389513109,
           2.2528756001254355
          ],
          [
           49.48837209302326,
           -0.6388177767961718
          ],
          [
           51.11745126010461,
           -0.4744139736436663
          ],
          [
           50.695443645083905,
           -0.3185044919329727
          ],
          [
           56.788566624632246,
           1.4148127660987462
          ],
          [
           43.68358913813462,
           -0.9091303646878467
          ],
          [
           52.24944320712693,
           -0.5361292028489935
          ],
          [
           45.11166253101738,
           -0.607928584939986
          ],
          [
           50.36330608537693,
           0.457467068669365
          ],
          [
           50.755148741418736,
           -0.5540242262531099
          ],
          [
           49.12529550827422,
           1.6116550042538382
          ],
          [
           49.078885214926814,
           -0.8278010322830348
          ],
          [
           54.127659574468076,
           0.6814601062987755
          ],
          [
           47.75776159448066,
           -1.0269083479922436
          ],
          [
           46.48606203376517,
           0.471964330762742
          ],
          [
           48.188848188848155,
           -1.2410319067463398
          ],
          [
           54.71362504446818,
           1.1983424338467972
          ],
          [
           54.461756373937696,
           0.7789977422904574
          ],
          [
           47.854077253218904,
           -0.26250067794682297
          ],
          [
           57.55562935901696,
           1.6370185700059394
          ],
          [
           42.847854356306875,
           -0.7737882104830724
          ],
          [
           50.17129805862201,
           -0.8092072862000081
          ],
          [
           50.60377358490565,
           0.6783738056130997
          ],
          [
           50.85324232081909,
           -0.8373534265845979
          ],
          [
           50.7598784194529,
           0.5835198693631182
          ],
          [
           57.240788346186804,
           0.38864613309230417
          ],
          [
           43.14553990610324,
           -0.748101895618878
          ],
          [
           50.88607594936706,
           0.7599409529152764
          ],
          [
           55.0724637681159,
           0.8179309403913839
          ],
          [
           38.186046511627865,
           -1.079753582906326
          ],
          [
           57.613579630554206,
           0.7700072998500335
          ],
          [
           51.26610395379829,
           -0.6267480213419564
          ],
          [
           51.309365290723484,
           1.0333148872592695
          ],
          [
           58.32492431886986,
           0.8728724257162251
          ],
          [
           44.17690417690417,
           -1.1057693519618623
          ],
          [
           45.819236346060926,
           -0.8541779700026917
          ],
          [
           49.37500000000006,
           -1.0957121082475068
          ],
          [
           48.869016307206714,
           0.6589366709710879
          ],
          [
           48.68004223864836,
           0.5602361969822909
          ],
          [
           55.575647980711345,
           -0.05201882574976449
          ],
          [
           41.304347826086975,
           -0.6270060228338437
          ],
          [
           57.32248520710058,
           0.5963895575477572
          ],
          [
           37.98798798798789,
           -1.1247260053226513
          ],
          [
           46.42857142857135,
           0.3906491013833907
          ],
          [
           50.56577086280055,
           -0.8999778079196437
          ],
          [
           48.542274052478106,
           -0.8254225482743316
          ],
          [
           52.01793721973091,
           -0.5987667005811588
          ],
          [
           49.16864608076017,
           1.0023504503702203
          ],
          [
           50.879877582249506,
           1.2003965480977365
          ],
          [
           44.068919814446595,
           -1.2452950371096994
          ],
          [
           55.4224086279209,
           1.0142832329148668
          ],
          [
           43.2163742690059,
           -0.8326743189284606
          ],
          [
           52.026578073089745,
           -0.4589909005353943
          ],
          [
           51.6085790884719,
           1.1827233727151176
          ],
          [
           47.76674937965262,
           -1.2824338811378702
          ],
          [
           50.59171597633141,
           -0.4916372575254197
          ],
          [
           50.23837902264596,
           -0.36910234111113976
          ],
          [
           48.773006134969314,
           0.7079346174420175
          ],
          [
           40.71856287425155,
           -1.242950195728354
          ],
          [
           52.8528528528529,
           -0.12095992654383318
          ],
          [
           42.234332425068125,
           -0.5152602082754838
          ],
          [
           60.31948881789134,
           1.8709049288720807
          ],
          [
           57.03422053231939,
           1.3532815447079651
          ],
          [
           41.12149532710275,
           -1.060992184847349
          ],
          [
           61.69749727965183,
           1.6193862178670966
          ],
          [
           47.146067415730315,
           -1.1301774537047384
          ],
          [
           47.918511957484505,
           -0.8278084665135254
          ],
          [
           51.88216039279867,
           1.0163200015566698
          ],
          [
           55.85903083700441,
           0.47154674750390946
          ],
          [
           48.71355060034307,
           -0.561920776090499
          ],
          [
           49.28416485900214,
           -0.7998977408970782
          ],
          [
           52.65289590927501,
           1.6126326012377872
          ],
          [
           50.74160811865729,
           0.7233417991622877
          ],
          [
           51.06048703849179,
           -0.7266988769894671
          ],
          [
           44.20062695924763,
           -0.06590718751797862
          ],
          [
           53.150242326332766,
           -0.6151260677323419
          ],
          [
           51.17550574084201,
           -0.6112699131225715
          ],
          [
           45.78020643594417,
           0.13752068978110185
          ],
          [
           52.84222737819023,
           0.9361841525028521
          ],
          [
           58.73629916183101,
           0.8080146290308067
          ],
          [
           65.20737327188941,
           1.718057683833728
          ],
          [
           35.365183964854495,
           -1.2193743910347663
          ],
          [
           41.514806378132135,
           -0.8191314474095922
          ],
          [
           56.09605911330047,
           0.26321640538325614
          ],
          [
           56.550883607556386,
           1.0243912711338048
          ],
          [
           58.92063492063493,
           0.7168862082021091
          ],
          [
           51.129476584022036,
           -0.7651609678712301
          ],
          [
           54.67552376085842,
           0.7575848311851888
          ],
          [
           42.823639774859274,
           -1.1575280923184585
          ],
          [
           44.613962089690276,
           -0.7889942481547954
          ],
          [
           47.571115973741755,
           1.05376719187864
          ],
          [
           51.443445338381416,
           -0.9473972902269985
          ],
          [
           49.8043052837573,
           -0.749962146577146
          ],
          [
           50.29069767441861,
           0.3522548316702433
          ],
          [
           52.477999073645194,
           1.4836297516177501
          ],
          [
           48.71023215821154,
           0.2824701063888151
          ],
          [
           55.819477434679385,
           0.5667221182651989
          ],
          [
           50.92348284960428,
           0.9972024675181363
          ],
          [
           48.9350912778905,
           -1.307798619455278
          ],
          [
           48.700967906265866,
           -0.9024310385496208
          ],
          [
           37.769562538508936,
           -0.9173356681971735
          ],
          [
           49.118589743589745,
           -0.992330611064933
          ],
          [
           56.53661875427789,
           0.35446537883950147
          ],
          [
           43.12370421561848,
           -0.7594271363160906
          ],
          [
           35.24783634933121,
           -0.48387279163773456
          ],
          [
           51.24610591900309,
           0.7306920172028795
          ],
          [
           47.82608695652171,
           0.6530896001379367
          ],
          [
           46.58187599364062,
           0.9613073960058122
          ],
          [
           50.04269854824931,
           -1.0103412413294766
          ],
          [
           51.41196013289038,
           -0.37472608579004446
          ],
          [
           51.15702479338843,
           -0.5090505995184691
          ],
          [
           61.53846153846161,
           1.4679732395895926
          ],
          [
           43.831168831168895,
           -0.7812537516771136
          ],
          [
           57.313997477931906,
           0.8253904318907805
          ],
          [
           52.83950617283958,
           0.18479260354939495
          ],
          [
           48.273527420446875,
           0.5853278575237598
          ],
          [
           50.58499655884373,
           0.6427338100176987
          ],
          [
           41.555285540704716,
           -1.1066015130092453
          ],
          [
           52.59259259259256,
           -0.7662243332063643
          ],
          [
           56.25427204374578,
           0.7792487786559543
          ],
          [
           50.30562347188271,
           -0.8033169380830454
          ],
          [
           38.649425287356195,
           -1.0967752722686095
          ],
          [
           60.11519078473724,
           1.171527881358619
          ],
          [
           52.60906757912751,
           1.294661287406686
          ],
          [
           45.96412556053807,
           -0.841126446880333
          ],
          [
           51.378614660390035,
           0.9419107430059546
          ],
          [
           49.40079893475364,
           0.5773415928018267
          ],
          [
           60.73059360730588,
           0.9598754923067491
          ],
          [
           48.645242596093325,
           -1.1621820471543458
          ],
          [
           41.992882562277586,
           -1.0955993718015054
          ],
          [
           59.60433950223353,
           1.2155537665273979
          ],
          [
           50.13419216317771,
           -1.0047449917278886
          ],
          [
           50.66383430695698,
           0.9703495059378595
          ],
          [
           50.026609898882356,
           0.7632613226965889
          ],
          [
           59.53791469194311,
           1.1186403787664951
          ],
          [
           47.24550898203597,
           -0.12940231374189368
          ],
          [
           43.68770764119602,
           -1.2382029429843637
          ],
          [
           46.865203761755524,
           -0.10340835772159018
          ],
          [
           51.46299483648878,
           -0.8256575023105058
          ],
          [
           49.859943977591,
           -0.9657572006138151
          ],
          [
           38.19060773480663,
           -0.9306070909820526
          ],
          [
           47.92027729636054,
           -1.154859439918933
          ],
          [
           46.53024911032029,
           0.7270862238731437
          ],
          [
           50.37783375314862,
           1.04116805724234
          ],
          [
           37.623066104078724,
           -0.7374253387451217
          ],
          [
           42.902967121090576,
           -0.751722198257182
          ],
          [
           52.21631205673759,
           -0.23167822851204986
          ],
          [
           52.38515901060068,
           1.142345342248556
          ],
          [
           66.31147540983608,
           2.056578856128255
          ],
          [
           50.21725636250773,
           -0.690948124940868
          ],
          [
           50.03115264797514,
           -0.6544902573838086
          ],
          [
           51.408450704225345,
           -0.6607354216523302
          ],
          [
           51.1897106109324,
           0.9337578987495719
          ],
          [
           44.937499999999986,
           0.083798844164309
          ],
          [
           47.99732977303073,
           -0.9992089525310545
          ],
          [
           49.2957746478873,
           -0.7594981170237476
          ],
          [
           50.361129349967214,
           -0.20965437882336788
          ],
          [
           43.311641359363726,
           -0.42447989448265877
          ],
          [
           46.702923181509185,
           1.3526093598016788
          ],
          [
           49.60288808664265,
           -0.7179393385755249
          ],
          [
           49.67555875991347,
           -0.6057514138886984
          ],
          [
           47.3865199449793,
           -1.043718025946126
          ],
          [
           40.466926070038966,
           -0.22164370328295388
          ],
          [
           54.46175637393774,
           1.3775227492746314
          ],
          [
           51.30086724482993,
           -0.47038961572185445
          ],
          [
           55.703883495145696,
           0.7828735396381358
          ],
          [
           49.82035928143712,
           -0.10401657244379546
          ],
          [
           50.18094089264174,
           -0.2779341742122406
          ],
          [
           41.83098591549301,
           0.2225814135704904
          ],
          [
           51.11876075731493,
           -0.5273142769045629
          ],
          [
           53.40442986054134,
           0.16938706452007307
          ],
          [
           53.013029315960935,
           -0.6440663192199414
          ],
          [
           63.295165394402034,
           2.4553321010367823
          ],
          [
           43.021914648212196,
           -0.4793309330465091
          ],
          [
           48.504551365409604,
           -1.0161679696503048
          ],
          [
           52.8571428571428,
           1.1873205505685613
          ],
          [
           50.713877784123355,
           -0.15271386207010845
          ],
          [
           49.74789915966386,
           -0.4395009577837006
          ],
          [
           47.679814385150785,
           -0.4546699529183278
          ],
          [
           50.1525320317267,
           -0.5161560706883663
          ],
          [
           48.258391386953825,
           -0.45677006114479457
          ],
          [
           54.927007299270095,
           0.4704695046001345
          ],
          [
           33.583208395802075,
           -0.5312760407452704
          ],
          [
           59.881756756756815,
           1.1096674155854758
          ],
          [
           54.03963414634149,
           -0.1727984019707608
          ],
          [
           36.98252069917204,
           -0.9037504856910373
          ],
          [
           46.792849631966256,
           -0.5741337496930721
          ],
          [
           49.062844542447685,
           -0.5189033818799895
          ],
          [
           51.122994652406476,
           -0.08087446860410587
          ],
          [
           48.28282828282825,
           -0.8154148554160657
          ],
          [
           63.05916305916317,
           2.3724935945532883
          ],
          [
           45.58457711442787,
           -0.5134092284844518
          ],
          [
           49.89788972089857,
           -0.5549806483475072
          ],
          [
           38.62520458265133,
           -0.5608953176039089
          ],
          [
           45.38461538461532,
           -0.7600190587241742
          ],
          [
           59.43238731218697,
           1.2440535105828399
          ],
          [
           46.78321678321682,
           -0.929508433783269
          ],
          [
           49.32885906040262,
           -0.4136952318146505
          ],
          [
           49.19246298788691,
           -0.18169940337846505
          ],
          [
           58.49397590361442,
           1.4245749839330215
          ],
          [
           37.240932642487046,
           -0.5559794015611161
          ],
          [
           49.58402662229608,
           -0.42294443051816427
          ],
          [
           60.26490066225164,
           2.0390133093530864
          ],
          [
           50.52748473070516,
           -0.3513993159856086
          ],
          [
           50.02748763056629,
           -0.6948661454167858
          ],
          [
           45.40540540540539,
           -0.0687951451718706
          ],
          [
           52.68292682926835,
           -0.4546560482318478
          ],
          [
           59.75103734439836,
           1.7649532138231714
          ],
          [
           49.22071392659634,
           -0.6242442651164875
          ],
          [
           42.71128757799203,
           -0.5319285804834256
          ],
          [
           50.099800399201605,
           -0.6473417798372629
          ],
          [
           55.98591549295784,
           1.0347736835742167
          ],
          [
           48.87525562372183,
           1.3254461415830658
          ],
          [
           48.57723577235775,
           -0.8459482673946553
          ],
          [
           59.681998864281724,
           1.488087192078469
          ],
          [
           55.715935334872974,
           0.9251496021325081
          ],
          [
           58.64833906071018,
           1.117074641407484
          ],
          [
           41.28654970760233,
           -0.7531153846449239
          ],
          [
           50.75485262401144,
           -0.8407306552409186
          ],
          [
           57.453416149068346,
           0.7932999913949685
          ],
          [
           50.16268980477224,
           -0.9846252834372708
          ],
          [
           52.234927234927206,
           0.9547828757757495
          ],
          [
           51.50395778364121,
           1.0951666314465864
          ],
          [
           50.85982282438765,
           -1.093316127693616
          ],
          [
           40.30131826741997,
           -0.9684540068056048
          ],
          [
           47.34982332155484,
           -0.0196740428180123
          ],
          [
           47.41176470588237,
           0.47270991029271653
          ],
          [
           60.15625000000001,
           1.2056830144704571
          ],
          [
           55.29622980251349,
           0.27814626831974765
          ],
          [
           50,
           0.563362091016707
          ],
          [
           51.83900069396243,
           -0.963387387654866
          ],
          [
           37.67993226079598,
           -1.0775803170735525
          ],
          [
           46.39475600873996,
           0.5346221788758796
          ],
          [
           50.59571088165213,
           -0.9955438005436975
          ],
          [
           47.7153558052434,
           -1.391455677523608
          ],
          [
           55.256410256410206,
           1.303700619735758
          ],
          [
           42.157894736842145,
           -1.4740139756367905
          ],
          [
           40.562466197944815,
           -0.8835031300494459
          ],
          [
           45.63106796116505,
           -0.4659218654326421
          ],
          [
           51.82186234817813,
           1.4348639383570634
          ],
          [
           55.74305933587374,
           0.9495493885833568
          ],
          [
           51.76946410515669,
           -0.16124767906979867
          ],
          [
           42.8649535265172,
           -0.7300184843310863
          ],
          [
           56.90288713910759,
           1.0697907171939924
          ],
          [
           52.54483761512363,
           -0.37944462589248773
          ],
          [
           46.61941112322789,
           0.5593880273441479
          ],
          [
           60.11042097998622,
           0.5421278328739928
          ],
          [
           50.789639924194574,
           -0.7193142821706265
          ],
          [
           57.12713263621354,
           1.1832267444576194
          ],
          [
           44.66076696165192,
           -0.13854641551068506
          ],
          [
           42.72009029345371,
           -1.2170750300301616
          ],
          [
           54.10921125206841,
           0.6819161625407331
          ],
          [
           58.159232072275564,
           1.0789535351726363
          ],
          [
           41.97814836112714,
           -1.0949553006833186
          ],
          [
           57.62430939226514,
           1.2251272254875014
          ],
          [
           53.57142857142857,
           1.1706984107975877
          ],
          [
           50.52325581395343,
           0.39418737741035953
          ],
          [
           50.46457607433216,
           -1.105945170795932
          ],
          [
           39.86394557823127,
           -1.1343115547023277
          ],
          [
           54.488386691776526,
           0.7896629024104677
          ],
          [
           61.0113107119095,
           1.1116029075681488
          ],
          [
           42.77777777777777,
           -1.2081551081344524
          ],
          [
           49.12184412733262,
           0.3897474944522312
          ],
          [
           59.69418960244645,
           0.8846518013352307
          ],
          [
           49.183976261127604,
           0.6834276603614705
          ],
          [
           55.86340206185566,
           1.6891435950187006
          ],
          [
           45.03896103896104,
           -1.065056850269548
          ],
          [
           47.42888402625821,
           -1.3958644933251305
          ],
          [
           55.86141433317514,
           0.3497576631161343
          ],
          [
           49.18032786885242,
           0.28380180595552396
          ],
          [
           45.41088580576307,
           -0.36090101256323165
          ],
          [
           58.64160097028501,
           0.36929629306967227
          ],
          [
           42.84859365649305,
           -1.1236370727990805
          ],
          [
           53.437347635299915,
           1.3757593333890208
          ],
          [
           50.85846867749421,
           0.560741040509522
          ],
          [
           38.96898208824819,
           -1.1602373004975417
          ],
          [
           50.05313496280556,
           -0.7608575613541388
          ],
          [
           52.449888641425375,
           -0.7494049798444442
          ],
          [
           43.51851851851861,
           -0.596690607565806
          ],
          [
           40.914786967418564,
           -1.173259163885565
          ],
          [
           46.841776110068835,
           -0.4817155183312731
          ],
          [
           42.00398142003987,
           -0.525215276678364
          ],
          [
           51.53225806451611,
           -0.42202824730959354
          ],
          [
           37.26513569937383,
           0.7585149610769523
          ],
          [
           31.01650738488287,
           -1.2113609168174724
          ],
          [
           66.54438738077754,
           2.219391126089133
          ],
          [
           48.58276643990931,
           -0.4848973901980176
          ],
          [
           48.25450450450458,
           -0.6833481731847172
          ],
          [
           53.74937091092094,
           0.8454143072452395
          ],
          [
           52.27606461086639,
           -0.145545805600501
          ],
          [
           48.917966784096606,
           -0.39260168924684075
          ],
          [
           49.8227848101266,
           -0.35630269127386227
          ],
          [
           48.22485207100592,
           -0.6928063006249431
          ],
          [
           55.01285347043697,
           1.877091901597925
          ],
          [
           58.953168044077174,
           0.8365427412415112
          ],
          [
           45.65349544072944,
           0.8655806214534806
          ],
          [
           62.066115702479344,
           0.6536524525057951
          ],
          [
           68.74084919472914,
           1.6238753209438324
          ],
          [
           50.75921908893713,
           0.18404690547845817
          ],
          [
           60.089352196574886,
           0.6365568700536832
          ],
          [
           61.96319018404913,
           0.5709378191177039
          ],
          [
           48.12575574365174,
           -1.4048189326038947
          ],
          [
           61.19475473530845,
           0.9694301295304306
          ],
          [
           39.84575835475581,
           -1.140710885912738
          ],
          [
           43.03164908384233,
           -1.3761422768587916
          ],
          [
           39.62362780972296,
           -1.6993902450227367
          ],
          [
           47.438855560683,
           -0.18058172908156989
          ],
          [
           46.3747645951036,
           0.6016681659365752
          ],
          [
           49.84817813765182,
           0.05766090345558192
          ],
          [
           47.1466666666667,
           0.22209705230445057
          ],
          [
           41.513869299482906,
           -1.136909210897591
          ],
          [
           57.899761336515496,
           0.8037716168595311
          ],
          [
           38.52880658436214,
           -0.8789771051784686
          ],
          [
           55.48352242031334,
           0.6469321048652247
          ],
          [
           49.35127342623736,
           -0.7852447155582348
          ],
          [
           61.34559130798162,
           1.7454898562713526
          ],
          [
           53.60178970917223,
           0.9190515036692217
          ],
          [
           49.85795454545454,
           0.669300760537944
          ],
          [
           50.2865329512894,
           0.06905636722670906
          ],
          [
           50.14340344168254,
           0.11072772749201205
          ],
          [
           59.08855515277056,
           0.6539973257188392
          ],
          [
           50.435323383084615,
           0.5502549478575821
          ],
          [
           50.91023226616445,
           -1.453307681813647
          ],
          [
           43.12727272727269,
           -0.8964468140468819
          ],
          [
           59.370199692780304,
           0.14632138388646102
          ],
          [
           29.90990990990997,
           -1.3772305170490895
          ],
          [
           34.57760314341863,
           -1.267813781591404
          ],
          [
           47.93856103476157,
           0.5174434811546826
          ],
          [
           54.200988467874815,
           1.0262200170092728
          ],
          [
           42.479018721756056,
           -1.2983267882194027
          ],
          [
           53.35078534031413,
           1.637755410688238
          ],
          [
           49.70731707317072,
           0.6536262336304426
          ],
          [
           55.561613958560564,
           0.20084019645323042
          ],
          [
           56.486919380672724,
           0.8307613043697586
          ],
          [
           51.04651162790701,
           0.5373600814943894
          ],
          [
           55.012531328320875,
           -0.3673347766473955
          ],
          [
           56.668678334339205,
           0.2025007881643613
          ],
          [
           47.90665751544264,
           -0.22569274061583836
          ],
          [
           47.25503822098672,
           -0.005366610428131662
          ],
          [
           49.85337243401762,
           -1.8116119566690443
          ],
          [
           24.835886214441928,
           -1.4758876077995775
          ],
          [
           47.05882352941178,
           0.1433902449507936
          ],
          [
           54.1999999999999,
           0.8255085155856217
          ],
          [
           50.325379609544484,
           0.9792011789795885
          ],
          [
           37.815810920945346,
           -1.542356437091542
          ],
          [
           54.783841247342295,
           0.8446574098196044
          ],
          [
           42.848297213622274,
           -1.1395604472827485
          ],
          [
           43.96442185514618,
           -0.993903006492975
          ],
          [
           41.13520408163264,
           -1.078905356374208
          ],
          [
           50.597907324364705,
           -0.7372670442695243
          ],
          [
           51.865398683247946,
           -0.4179481674411811
          ],
          [
           38.57868020304563,
           -0.8679910580497022
          ],
          [
           37.682403433476566,
           -0.5825867803854147
          ],
          [
           48.47409510290984,
           1.1975761266433307
          ],
          [
           51.97869101978695,
           -0.28059237020681826
          ],
          [
           34.59759481961146,
           -0.736304098659349
          ],
          [
           61.21323529411758,
           1.4610252492749924
          ],
          [
           49.553571428571416,
           -0.4315265326536804
          ],
          [
           51.96078431372553,
           -0.22380283368139944
          ],
          [
           57.95379537953794,
           1.49344645255154
          ],
          [
           58.09210526315791,
           1.4568781891821203
          ],
          [
           51.010976314269186,
           -0.6908823302838275
          ],
          [
           48.439306358381444,
           -0.9447860310148035
          ],
          [
           48.349739432542,
           0.8453098984336627
          ],
          [
           48.973607038123106,
           -0.7478529889117982
          ],
          [
           57.10426796326306,
           0.9660619655850401
          ],
          [
           42.66592303402121,
           -0.7908742671956904
          ],
          [
           50.225660863958716,
           -0.7310471958499062
          ],
          [
           60.75241484494152,
           2.0796275608156085
          ],
          [
           44.03254972875222,
           -0.8491714106900065
          ],
          [
           49.4487545937117,
           0.7392234312552457
          ],
          [
           55.14571948998184,
           0.5896850346681715
          ],
          [
           54.45143884892091,
           0.21447159414361086
          ],
          [
           43.89454209065681,
           -1.0347908006806412
          ],
          [
           50.07503751875939,
           -0.7506538911524465
          ],
          [
           52.340019102196806,
           1.187981032366204
          ],
          [
           63.33973128598846,
           1.8946927685718853
          ],
          [
           49.733434881949755,
           -0.8153037705254469
          ],
          [
           48.174322732626656,
           0.8160733315648291
          ],
          [
           50.266284309709185,
           -0.9522520403176598
          ],
          [
           50.61025223759157,
           0.5841182020077076
          ],
          [
           45.335276967930014,
           -1.0537281388129116
          ],
          [
           52.71523178807945,
           0.732119289564398
          ],
          [
           54.99136442141622,
           0.33710204169650493
          ],
          [
           49.95134609146935,
           -0.8065744499471236
          ],
          [
           49.49263502454991,
           0.5152361336842703
          ],
          [
           41.37487953742373,
           -0.9571298044014692
          ],
          [
           51.211072664359854,
           -0.6131195474416591
          ],
          [
           52.912801484230044,
           1.8486481352269204
          ],
          [
           50.21126760563376,
           -0.9055616510470467
          ],
          [
           44.44009397024275,
           -0.7877548103963287
          ],
          [
           55.29079159935381,
           0.4154110904398196
          ],
          [
           49.45205479452053,
           0.7610528385174408
          ],
          [
           44.494658997534906,
           -1.061683125037353
          ],
          [
           50.157021085688704,
           -0.7257802578908057
          ],
          [
           42.40409207161125,
           -0.6898781745978427
          ],
          [
           55.39112050739956,
           0.4774444742176811
          ],
          [
           56.359875904860345,
           0.9708868091777225
          ],
          [
           41.84210526315791,
           0.6216494888323535
          ],
          [
           51.29032258064525,
           -0.6791523631449462
          ],
          [
           60.17287234042556,
           1.1967524588854337
          ],
          [
           53.709428129829924,
           1.1464661077116822
          ],
          [
           49.29906542056083,
           0.6568061438603401
          ],
          [
           52.92642140468236,
           -0.8725172939161032
          ],
          [
           49.66777408637868,
           -0.9909948407419815
          ],
          [
           48.42105263157888,
           -1.2793136396502067
          ],
          [
           52.988929889298916,
           0.8720593460482613
          ],
          [
           52.67459138187222,
           1.18328159681476
          ],
          [
           44.84503478810871,
           -0.6183597938787511
          ],
          [
           56.10583446404337,
           0.22657989884777904
          ],
          [
           55.224913494809655,
           1.5609710339121474
          ],
          [
           41.747572815533985,
           -1.0580181856946151
          ],
          [
           41.61290322580645,
           -1.1739112882829057
          ],
          [
           56.10882956878849,
           0.6879440765696244
          ],
          [
           55.1185073121533,
           0.2718244652050977
          ],
          [
           57.94718485301445,
           0.5776302177858511
          ],
          [
           41.78498985801214,
           -1.2021527707092172
          ],
          [
           40.88568486096809,
           -0.9942990870530725
          ],
          [
           54.62577962577963,
           0.5877495971883794
          ],
          [
           48.49272349272353,
           -0.029241176509823247
          ],
          [
           37.218045112781944,
           -1.083817628375387
          ],
          [
           61.66666666666676,
           1.6184040233371366
          ],
          [
           56.868395773294885,
           0.5767984234466896
          ],
          [
           43.40190667335674,
           -0.8289934841478608
          ],
          [
           51.59059474412172,
           0.5981317964203127
          ],
          [
           43.726552730304306,
           -1.122152237148824
          ],
          [
           51.34883720930235,
           -0.6789568029886911
          ],
          [
           49.25442684063375,
           -0.7948157502777934
          ],
          [
           51.362215274676224,
           1.116605998682051
          ],
          [
           47.81704781704779,
           -0.5882802782452132
          ],
          [
           56.607574536663975,
           0.9106928059315784
          ],
          [
           39.77371627502174,
           -0.7989946075410568
          ],
          [
           50.0214684413912,
           0.5219090601932018
          ],
          [
           56.51769087523272,
           1.0299255571885704
          ],
          [
           43.97617956939993,
           -0.7902017778407491
          ],
          [
           50.9283819628647,
           -0.7934281309669887
          ],
          [
           48.89249054565101,
           -0.7888475148114998
          ],
          [
           58.19444444444442,
           1.3289525213001654
          ],
          [
           49.26670287887015,
           0.9550352705963397
          ],
          [
           56.90087829360097,
           0.5971590260122808
          ],
          [
           41.50222788033094,
           -0.78479773141803
          ],
          [
           49.09638554216874,
           -1.1249147423334644
          ],
          [
           41.52249134948087,
           -0.4994120449996922
          ],
          [
           43.99337199668601,
           0.08971115788939057
          ],
          [
           60.6707317073171,
           0.5759037437164041
          ],
          [
           50.72217502124052,
           -0.6730432097169178
          ],
          [
           60.12838801711836,
           0.9712745474861314
          ],
          [
           37.56694720734501,
           -0.906658206551401
          ],
          [
           37.85659213569768,
           -1.0683806024696316
          ],
          [
           51.90744215134463,
           1.433412951131304
          ],
          [
           47.42857142857141,
           -1.1870240481611112
          ],
          [
           50.4342790966995,
           -0.7433698267006341
          ],
          [
           56.72396359959554,
           1.4813753295164185
          ],
          [
           46.45454545454545,
           -0.7929116605040422
          ],
          [
           51.462711166048635,
           1.0817602715210863
          ],
          [
           49.057344854673964,
           -0.8898597147024571
          ],
          [
           44.02244281398365,
           -0.6595958547406154
          ],
          [
           56.63052543786488,
           1.2593325504065265
          ],
          [
           50.46451133407654,
           -0.5093373844712171
          ],
          [
           49.60302457466917,
           1.0895422340163001
          ],
          [
           51.8987341772152,
           -0.5066029388995151
          ],
          [
           51.22342559165661,
           -0.3554527548509691
          ],
          [
           42.8506787330317,
           -0.706341695332597
          ],
          [
           51.01509630400837,
           -0.5240060849232674
          ],
          [
           49.78655282817499,
           1.1875030753993265
          ],
          [
           50.08051529790661,
           -0.8946484346659503
          ],
          [
           51.30890052356021,
           -0.3388521384417696
          ],
          [
           39.605181986428136,
           -0.7203772758504992
          ],
          [
           47.6968796433879,
           -0.9675447160719135
          ],
          [
           37.36654804270459,
           -0.31410174865366536
          ],
          [
           65.91439688715955,
           2.2394462848830647
          ],
          [
           65.80796252927405,
           1.9141815624719318
          ],
          [
           56.12516644474036,
           0.3611715188691683
          ],
          [
           48.53205512282801,
           -0.7071078432099778
          ],
          [
           50.20289855072471,
           0.7991213416084698
          ],
          [
           51.121605667060194,
           -0.6523849950663628
          ],
          [
           47.28773584905656,
           -0.8516497001210493
          ],
          [
           57.494969818913454,
           0.813870235546677
          ],
          [
           50.73235685752326,
           -0.7502005079872425
          ],
          [
           49.65986394557829,
           -0.6419015584141171
          ],
          [
           38.87665198237891,
           -0.5008555870279
          ],
          [
           37.367303609341825,
           -0.842213122211292
          ],
          [
           46.541617819460726,
           -0.23039733984191665
          ],
          [
           62.22811671087526,
           2.1408230266233006
          ],
          [
           49.209039548022595,
           0.9060514974844341
          ],
          [
           61.05590062111804,
           1.3054141466245335
          ],
          [
           52.25943646996285,
           -0.5059409253487309
          ],
          [
           40.175219023779746,
           -0.8129300974339058
          ],
          [
           51.881918819188265,
           -0.5227842497241757
          ],
          [
           60.41287188828169,
           1.2714741272717984
          ],
          [
           48.431174089068804,
           -0.830421059759188
          ],
          [
           57.058823529411804,
           0.7722549391377652
          ],
          [
           47.65974765974764,
           -1.0575248253515914
          ],
          [
           39.310995752713495,
           -0.8465941908050496
          ],
          [
           51.436146707909806,
           0.8358374033669108
          ],
          [
           47.32343679712101,
           0.5965905195184759
          ],
          [
           50.28680688336516,
           -0.5299262079785193
          ],
          [
           50.919651500484015,
           -0.5969127650356466
          ],
          [
           57.08844688954718,
           1.4258559906326147
          ],
          [
           42.13528932355341,
           -0.9828706276169918
          ],
          [
           50.377002827521196,
           -0.7481349725812303
          ],
          [
           50.58657907085875,
           1.1300608194552826
          ],
          [
           57.43207245604695,
           0.5208700772694039
          ],
          [
           57.27272727272728,
           0.7500854161678058
          ],
          [
           40.906578220011056,
           -0.9738475968379869
          ],
          [
           41.22562674094711,
           -1.267406529629164
          ],
          [
           56.52841781874046,
           0.9964884561975335
          ],
          [
           57.536382536382575,
           0.9645954101468592
          ],
          [
           47.55555555555551,
           0.7741095339659905
          ],
          [
           51.12627986348119,
           -0.9903370580330658
          ],
          [
           57.5577949021933,
           0.6385664172295076
          ],
          [
           48.82058613295216,
           0.6660869408218396
          ],
          [
           49.172066234701155,
           0.06641249365330684
          ],
          [
           50.629370629370655,
           0.6381056606751864
          ],
          [
           67.67976278724981,
           1.622015027623408
          ],
          [
           61.31631967763587,
           0.360467825785593
          ],
          [
           39.01918976545847,
           -1.4204590852921122
          ],
          [
           41.51329243353784,
           -1.2075472130580762
          ],
          [
           49.1007194244604,
           0.29351106161544394
          ],
          [
           61.083743842364505,
           0.6330865062544664
          ],
          [
           52.93617021276594,
           0.6853771505691882
          ],
          [
           47.19367588932805,
           -0.2786040444104444
          ],
          [
           53.80434782608701,
           0.4566057453038277
          ],
          [
           41.14513981358194,
           -1.4838775096686756
          ],
          [
           43.622448979591866,
           0.2815244101448778
          ],
          [
           41.783750763591975,
           -1.3170875883421809
          ],
          [
           51.55234657039713,
           -0.9980194232696061
          ],
          [
           48.437500000000064,
           -0.9779228762901632
          ],
          [
           50.85106382978726,
           0.8317813984453697
          ],
          [
           39.55002960331561,
           -1.4122324026951887
          ],
          [
           40.117302052785945,
           -1.0345615351583808
          ],
          [
           43.79652605459059,
           -0.7495414132021354
          ],
          [
           55.0148957298907,
           2.1254082963668033
          ],
          [
           49.42016057091884,
           -0.7015750890690637
          ],
          [
           50.52356020942405,
           1.016904215780253
          ],
          [
           48.55345911949686,
           -0.9429379035266892
          ],
          [
           50.06105006105007,
           -0.28992873942022196
          ],
          [
           54.51113627784068,
           0.7896750607463363
          ],
          [
           47.23008491710472,
           0.18168026510349272
          ],
          [
           55.791855203619924,
           0.45343723583490353
          ],
          [
           50.291909924937414,
           -0.6339859422834213
          ],
          [
           49.53974895397489,
           -0.7354556825140575
          ],
          [
           37.5453133091662,
           -0.5351526402282122
          ],
          [
           53.9746158984636,
           -0.09839614400875193
          ],
          [
           38.662567255957,
           -0.7008333964577813
          ],
          [
           65.32066508313541,
           1.5897604494469426
          ],
          [
           46.28681177976953,
           -1.2249931060614445
          ],
          [
           52.94447560291647,
           1.686069116368256
          ],
          [
           54.06643757159226,
           1.05042583440199
          ],
          [
           52.740129640542165,
           1.0893457711892445
          ],
          [
           48.32613390928724,
           -1.11791181740995
          ],
          [
           57.11687130513869,
           0.99391563014175
          ],
          [
           59.088937093275476,
           1.4811925818409475
          ],
          [
           49.82469809115699,
           -0.4251151949587412
          ],
          [
           56.17100371747211,
           0.7264245762691574
          ],
          [
           49.91603694374477,
           0.5497888873941505
          ],
          [
           57.88704965920151,
           0.030281046038583257
          ],
          [
           44.483775811209426,
           -0.35493093465365166
          ],
          [
           40.66882416396977,
           -1.7670790628342157
          ],
          [
           39.088983050847446,
           -1.630849965737213
          ],
          [
           63.120567375886566,
           1.4371891822684362
          ],
          [
           47.55859374999999,
           0.005937354349766314
          ],
          [
           38.468677494199525,
           -1.287342652381859
          ],
          [
           53.12947921643574,
           0.19236631450593486
          ],
          [
           43.11611954924057,
           -0.6123132084132882
          ],
          [
           43.46968950221784,
           -0.5731486708191813
          ],
          [
           50.597976080956805,
           0.6721087098487194
          ],
          [
           53.3426834969612,
           0.9090855101768587
          ],
          [
           59.93804852865252,
           0.9496890622544629
          ],
          [
           61.10526315789472,
           0.7848992556428918
          ],
          [
           33.63148479427551,
           -1.199647881106066
          ],
          [
           39.058171745152386,
           -1.5036320470952564
          ],
          [
           56.98630136986307,
           0.06539745692071403
          ],
          [
           46.525423728813585,
           0.07364962004712874
          ],
          [
           61.74724342663279,
           1.0182049384908152
          ],
          [
           56.7630961688819,
           0.3684363154573182
          ],
          [
           57.78625954198471,
           1.5583409963918757
          ],
          [
           47.733333333333306,
           0.14471107426214416
          ],
          [
           38.43180563224739,
           -1.4712573306360464
          ],
          [
           42.51434533124674,
           -0.7118511625667677
          ],
          [
           59.8233995584989,
           0.7334301630487563
          ],
          [
           52.59582726831633,
           -0.7829559507337788
          ],
          [
           57.35486687036224,
           1.5289483065425764
          ],
          [
           46.811542572141036,
           -1.1507393375179489
          ],
          [
           46.906116642958736,
           -0.18555215064580266
          ],
          [
           50.90010589481119,
           0.4020054444895935
          ],
          [
           42.066290550070526,
           -0.7755157537859784
          ],
          [
           50.22911526260133,
           0.41054649574762336
          ],
          [
           50.4424778761062,
           -1.0773145639301949
          ],
          [
           48.81170018281535,
           -0.7796563436924447
          ],
          [
           50.33699893579284,
           0.9769713780946803
          ],
          [
           50.48025613660621,
           -0.6842959335795896
          ],
          [
           49.45533769063184,
           1.5253764624408683
          ],
          [
           56.89223057644112,
           0.6069782954650607
          ],
          [
           46.876243533625164,
           -0.8136025882395466
          ],
          [
           48.77206446661547,
           0.31220816050623484
          ],
          [
           50.01967729240455,
           -0.7158886826094595
          ],
          [
           53.85174418604652,
           1.5681632406196138
          ],
          [
           58.553931252469404,
           0.898899994623346
          ],
          [
           50.89316987740809,
           -0.7778575152448102
          ],
          [
           49.910682386566656,
           0.5725576053449003
          ],
          [
           58.5843373493976,
           1.1965617098699697
          ],
          [
           41.58895934352856,
           -1.0768620054698448
          ],
          [
           44.866771159874595,
           -0.9429935282200348
          ],
          [
           49.057412167952016,
           -1.164405161763394
          ],
          [
           49.70389170896788,
           0.13246242525907612
          ],
          [
           56.0140474100088,
           0.5398515368133615
          ],
          [
           38.81640260950602,
           -0.9692673226553677
          ],
          [
           40.702781844802345,
           -0.935618989133089
          ],
          [
           57.11442786069649,
           0.7695067404712688
          ],
          [
           49.41927990708474,
           0.7834214696015834
          ],
          [
           36.74986723313857,
           -0.992171754644437
          ],
          [
           57.10059171597628,
           0.5720517430454791
          ],
          [
           56.22369212266985,
           0.793432599803257
          ],
          [
           55.754323196183684,
           0.04118936712063116
          ],
          [
           41.90997566909975,
           -1.3104281566135925
          ],
          [
           50.338013520540805,
           1.0208638445016809
          ],
          [
           49.615581752947264,
           -1.0725675522598297
          ],
          [
           49.26133469179828,
           -0.9779810490137306
          ],
          [
           41.51497357604227,
           -0.6547375675728939
          ],
          [
           41.24854142357055,
           -0.7881816340290956
          ],
          [
           50.35612535612534,
           -0.7173859442212311
          ],
          [
           50.17869907076487,
           1.1692032404334394
          ],
          [
           43.30660086366442,
           -0.455490136411111
          ],
          [
           46.78780012978582,
           -0.21171255088366314
          ],
          [
           54.25131677953348,
           -0.10102696976456635
          ],
          [
           45.02712477396024,
           1.1341699806370626
          ],
          [
           51.39318885448906,
           -0.5683026218187432
          ],
          [
           61.80150125104246,
           1.6982700448129702
          ],
          [
           49.53136265320838,
           -0.6002747711931301
          ],
          [
           63.24324324324328,
           2.429834893201513
          ],
          [
           50.73720728534259,
           -0.5819049059345077
          ],
          [
           42.748815165876756,
           -0.9971282646515321
          ],
          [
           56.076854334227,
           1.036544338394106
          ],
          [
           49.22341696535247,
           -0.6367334502837723
          ],
          [
           54.336917562724004,
           0.9326224491133811
          ],
          [
           46.42979159549025,
           -0.789295611892303
          ],
          [
           54.79814692256786,
           0.8199422911615821
          ],
          [
           45.83198183587415,
           -0.8027974169346159
          ],
          [
           54.99527261266939,
           0.8932558631230161
          ],
          [
           45.1682176091625,
           0.33511875301429356
          ],
          [
           48.95267649340576,
           -1.0167904963822632
          ],
          [
           51.51987529228371,
           -0.5765655355442806
          ],
          [
           42.351398601398586,
           -0.9963535232036291
          ],
          [
           48.72690963554663,
           -0.9628020442360606
          ],
          [
           38.645197112715124,
           -1.233684101155728
          ],
          [
           58.89508362899138,
           1.4016487906643726
          ],
          [
           41.76726219217768,
           -0.7318391400350202
          ],
          [
           50.60240963855422,
           -0.38982377016692493
          ],
          [
           49.83314794215795,
           1.3908342297995564
          ],
          [
           53.30602691632533,
           1.2269431229239591
          ],
          [
           57.58533501896338,
           0.6367700585620506
          ],
          [
           54.551282051282016,
           0.4462466454311113
          ],
          [
           50.23612750885483,
           -0.7766450544562524
          ],
          [
           52.18377765173004,
           -0.3361497253078009
          ],
          [
           60.362694300518164,
           0.9322870533295011
          ],
          [
           49.13563829787237,
           0.9848186315141848
          ],
          [
           62.3102866779089,
           0.41460717104806
          ],
          [
           57.921635434412224,
           0.19906342221080686
          ],
          [
           36.08445297504794,
           -1.1171794075723607
          ],
          [
           37.98882681564237,
           -0.8403009495600012
          ],
          [
           51.98938992042435,
           0.6281141996915295
          ],
          [
           43.6525612472161,
           -1.2143007269857484
          ],
          [
           51.83887915936947,
           -1.001161881180982
          ],
          [
           45.62334217506628,
           -1.25440820131169
          ],
          [
           34.22459893048139,
           -0.9317382437866728
          ],
          [
           30.270270270270302,
           -1.057313681001877
          ],
          [
           32.979976442874076,
           -0.9077911955134543
          ],
          [
           53.475935828877006,
           1.5467473757817287
          ],
          [
           49.46413849958781,
           -0.36721440604138744
          ],
          [
           55.74007220216608,
           1.4064676158054794
          ],
          [
           42.16524216524218,
           -0.22031792238773878
          ],
          [
           64.45859872611466,
           2.161307947862895
          ],
          [
           64.50381679389317,
           1.8075526458283873
          ],
          [
           59.263588544710764,
           0.6414106679669194
          ],
          [
           51.687198714515254,
           -0.4372730079856806
          ],
          [
           57.6081672338357,
           0.584285843264286
          ],
          [
           51.34315424610054,
           -0.8004643813964994
          ],
          [
           44.40594059405941,
           -0.6975094044798729
          ],
          [
           50.083752093802346,
           -0.9528830132880952
          ],
          [
           47.47356051703881,
           -0.1217855732379436
          ],
          [
           48.851269649334874,
           -1.0112732912890299
          ],
          [
           43.297587131367294,
           0.5126541224513405
          ],
          [
           37.869822485207116,
           -0.7088662168744032
          ],
          [
           49.822064056939496,
           0.6775175082706275
          ],
          [
           49.18032786885246,
           -0.8291760022170709
          ],
          [
           51.42697257974263,
           1.67149504081998
          ],
          [
           48.598625066102585,
           -1.1631027261060611
          ],
          [
           54.664179104477604,
           1.1109554179390981
          ],
          [
           57.09057639524242,
           1.3981738730978397
          ],
          [
           47.41306191687872,
           -0.8077278578336742
          ],
          [
           51.231527093596085,
           -0.6497642374237438
          ],
          [
           43.431372549019585,
           -0.9823455089768046
          ],
          [
           48.397609994568164,
           -0.9412876770924864
          ],
          [
           52.40480961923843,
           1.4078397921838504
          ],
          [
           56.17615467239532,
           0.6778134400061914
          ],
          [
           47.338403041825075,
           0.5889673706688568
          ],
          [
           60.58394160583939,
           0.41590593608680015
          ],
          [
           53.134040501446506,
           1.022621242614944
          ],
          [
           38.09141940657578,
           -0.9929180213765824
          ],
          [
           63.9016897081413,
           1.342608472634526
          ],
          [
           50.06211180124226,
           -0.7046709857194409
          ],
          [
           49.96900185988844,
           -1.1092928017666348
          ],
          [
           51.96428571428571,
           -0.6449400595567785
          ],
          [
           38.83058470764627,
           -0.7638752976132551
          ],
          [
           39.90755007704165,
           -1.1494772928659946
          ],
          [
           40.51321928460348,
           -0.9649094015454488
          ],
          [
           53.94013439218087,
           1.408274691892733
          ],
          [
           41.98836594394502,
           -0.704162363720821
          ],
          [
           56.067172264355385,
           0.8363568091487068
          ],
          [
           38.61047835990889,
           -0.7399432380146461
          ],
          [
           55.528989838613256,
           0.8221800351776111
          ],
          [
           52.103196859226024,
           -0.21114529327555512
          ],
          [
           54.934036939314,
           1.0734709523720265
          ],
          [
           57.171819564115594,
           1.4123187827350212
          ],
          [
           50.56028686687584,
           -0.7755876494981043
          ],
          [
           48.91304347826087,
           -1.1504921829517087
          ],
          [
           38.94844308320569,
           -1.2012544313921671
          ],
          [
           47.09876543209877,
           -1.1404019159548442
          ],
          [
           41.819416157501706,
           -0.446896240002307
          ],
          [
           60.58784235136937,
           1.2709642336655655
          ],
          [
           48.99178491411498,
           0.721212520680504
          ],
          [
           55.21885521885526,
           0.448588143971819
          ],
          [
           48.29931972789118,
           0.6362699331572539
          ],
          [
           46.693386773547104,
           0.8660980394374849
          ],
          [
           68.5962373371925,
           0.8897574337381616
          ],
          [
           49.37499999999997,
           -1.0862410939239202
          ],
          [
           63.241106719367615,
           0.8760470097330683
          ],
          [
           53.51170568561868,
           -0.6750411615967628
          ],
          [
           49.964614295824525,
           -0.8536179134342758
          ],
          [
           35.080304311073476,
           -1.3392264840883978
          ],
          [
           50.83758193736351,
           0.5863833050908206
          ],
          [
           45.29526281635296,
           -0.7199463293120836
          ],
          [
           45.57779212395093,
           -0.3814550103915397
          ],
          [
           50.93131548311988,
           1.2106697094154484
          ],
          [
           44.484350949204725,
           -0.4386395446862385
          ],
          [
           58.69565217391303,
           0.9492920590250125
          ],
          [
           42.89085545722718,
           -0.6097267056402474
          ],
          [
           57.864523536165315,
           1.3392489787490414
          ],
          [
           50.83207261724656,
           -0.5065300577031088
          ],
          [
           58.092618065107715,
           1.306762493832435
          ],
          [
           45.4293628808864,
           -0.7417341418106275
          ],
          [
           59.01162790697673,
           1.9766037152366458
          ],
          [
           53.632148377125176,
           0.5386916906603231
          ],
          [
           49.03035413153456,
           0.37595663753506225
          ],
          [
           49.935594675826536,
           -0.9510977965280999
          ],
          [
           49.436253252385036,
           0.20693487276836467
          ],
          [
           49.41482444733424,
           -1.279232899842166
          ],
          [
           42.70986745213549,
           -1.0229975011625718
          ],
          [
           52.740434332988634,
           -0.14892233200215635
          ],
          [
           47.920227920227944,
           0.4283929142863236
          ],
          [
           48.61271676300581,
           -1.1493104136298737
          ],
          [
           31.562740569668975,
           -0.9390213215261212
          ],
          [
           51.049963794351896,
           0.8434024554047455
          ],
          [
           43.84328358208957,
           -0.581789924011928
          ],
          [
           48.58718125430738,
           -0.76292110806671
          ],
          [
           50.985545335085455,
           1.2506757821097894
          ],
          [
           65.14131897711977,
           2.034152612913505
          ],
          [
           51.01279317697227,
           -0.5391354590615665
          ],
          [
           46.51296829971181,
           -0.6329158641537588
          ],
          [
           48.0112044817927,
           0.1657532231257451
          ],
          [
           49.28119608970673,
           -1.047245306025469
          ],
          [
           55.22842639593908,
           0.5498605801975592
          ],
          [
           55.205688166582036,
           1.879698537474235
          ],
          [
           48.70071684587811,
           -0.9323148087654878
          ],
          [
           49.45404913557785,
           -0.8141368107839315
          ],
          [
           47.86485218207416,
           0.07256024491486335
          ],
          [
           37.99908214777417,
           -1.1818915827922853
          ],
          [
           49.22501336183861,
           -0.5742135646760901
          ],
          [
           48.57594936708863,
           -0.644187682241409
          ],
          [
           53.0798845043311,
           1.1277145785444969
          ],
          [
           51.68697282099343,
           -0.3794458005503218
          ],
          [
           44.59320288362514,
           -0.557900649507945
          ],
          [
           44.98977505112472,
           1.058903551441373
          ],
          [
           57.89473684210531,
           0.6754142148047523
          ],
          [
           60.2379461490294,
           1.466048334045184
          ],
          [
           52.19960604070909,
           0.7069606200122346
          ],
          [
           52.96469020652904,
           -0.7868958759265202
          ],
          [
           49.68152866242037,
           -0.7155083244627642
          ],
          [
           59.98817966903074,
           1.1721998756640701
          ],
          [
           42.45169082125601,
           -0.7256528713389971
          ],
          [
           56.44057249533292,
           0.5547649676619388
          ],
          [
           49.88998899889984,
           -1.0975478809360086
          ],
          [
           41.149870801033536,
           -0.8165464940822234
          ],
          [
           40.47013977128332,
           -1.3550456676563163
          ],
          [
           47.565752658086154,
           0.7090821818731843
          ],
          [
           44.20176807072283,
           -0.7653291424962798
          ],
          [
           47.51257685858017,
           -1.1730218762916
          ],
          [
           54.03543307086619,
           0.7123652210590216
          ],
          [
           49.4862087614927,
           1.385107641654396
          ],
          [
           58.53812224322625,
           1.2290600412310273
          ],
          [
           44.45125689760882,
           -0.27903611027134567
          ],
          [
           58.6250795671547,
           0.9488952443831589
          ],
          [
           50.42832667047402,
           -0.440554021295956
          ],
          [
           55.332568807339406,
           0.05946418824379253
          ],
          [
           56.86600221483945,
           1.9320141875494392
          ],
          [
           51.6599597585513,
           -0.5989503990489724
          ],
          [
           52.883625128733264,
           -0.720958602645302
          ],
          [
           54.68053491827633,
           1.0934594667423918
          ],
          [
           43.618450515002266,
           -1.125729434755419
          ],
          [
           49.820645675567945,
           0.6819307042841882
          ],
          [
           48.809058961343254,
           -1.041233486580108
          ],
          [
           51.263940520446106,
           0.9481602925036036
          ],
          [
           50.23679417122039,
           -0.7156544059925808
          ],
          [
           48.93457943925235,
           -0.5440838871316472
          ],
          [
           46.91022153128643,
           0.8568569106034543
          ],
          [
           53.71606586559861,
           0.28920242684578484
          ],
          [
           58.7144622991347,
           1.6560048286368783
          ],
          [
           43.70282081843467,
           -0.8794355119788886
          ],
          [
           52.97984224364589,
           -0.2860735097549674
          ],
          [
           50.89244851258579,
           0.9547431417620006
          ],
          [
           54.50980392156864,
           -0.1395056101496847
          ],
          [
           42.38018309100695,
           -0.9430211997678852
          ],
          [
           48.7910725356479,
           -1.1553389367115716
          ],
          [
           56.31940772078272,
           0.8273201558815934
          ],
          [
           40.826612903225744,
           -1.400871695286424
          ],
          [
           51.77147918511954,
           0.7590420178420051
          ],
          [
           44.87966021708355,
           0.30873802098719644
          ],
          [
           48.769230769230724,
           -1.1004783250939878
          ],
          [
           47.3379019504481,
           -0.6415417343799245
          ],
          [
           39.05817174515239,
           -1.2429290346721478
          ],
          [
           56.4917127071823,
           1.7783423168393255
          ],
          [
           49.00159744408946,
           -0.7674945424472808
          ],
          [
           53.64041604754831,
           0.48416827681297314
          ],
          [
           48.51485148514852,
           0.5195307244217254
          ],
          [
           50.14925373134333,
           -0.9912995188517896
          ],
          [
           42.470472440944874,
           -0.6079328141192217
          ],
          [
           43.063872255489024,
           -0.9064707126293025
          ],
          [
           55.53899652260313,
           0.6608731505778492
          ],
          [
           56.95045695045699,
           1.2836938966768001
          ],
          [
           59.022931206380875,
           0.9485813743720135
          ],
          [
           44.54912516823687,
           0.7998144434224648
          ],
          [
           69.80155306298535,
           1.3527821935580013
          ],
          [
           43.561442236938916,
           -0.7849253372289414
          ],
          [
           51.91222570532911,
           0.6158795352186646
          ],
          [
           59.1006423982869,
           0.15132518748294763
          ],
          [
           58.77697841726619,
           0.3540809958542508
          ],
          [
           52.70967741935485,
           -1.0319058915739936
          ],
          [
           51.06809078771694,
           0.16604399514118956
          ],
          [
           38.85196374622354,
           -1.813013966545669
          ],
          [
           40.1823708206686,
           -1.3934234687561484
          ],
          [
           49.03995848469122,
           0.4614923537656922
          ],
          [
           38.12709030100331,
           -1.3022137917801047
          ],
          [
           50.056882821387894,
           -0.6730933609817217
          ],
          [
           49.21920185078085,
           0.9963151921242437
          ],
          [
           52.70906949352184,
           1.1059475224566486
          ],
          [
           47.75124930594114,
           0.21453195501416808
          ],
          [
           56.31358467983239,
           0.7798983790601605
          ],
          [
           51.26835781041387,
           0.963486269416683
          ],
          [
           62.899262899262766,
           0.8037919249463917
          ],
          [
           59.95203836930456,
           0.47034452704649377
          ],
          [
           38.1030253475062,
           -1.3838553693728626
          ],
          [
           52.966101694915245,
           -1.1804867527520293
          ],
          [
           48.4356894553883,
           -1.0023869960568237
          ],
          [
           35.60057887120115,
           -0.7148544540115661
          ],
          [
           27.90055248618785,
           -1.2412849705444855
          ],
          [
           38.16425120772949,
           -0.8265882389007653
          ],
          [
           31.059245960502906,
           -0.5730569075466527
          ],
          [
           43.85964912280699,
           0.6856924853451295
          ],
          [
           35.08771929824569,
           -0.5892684459503388
          ],
          [
           52.79329608938545,
           1.6521712295266104
          ],
          [
           67.822966507177,
           1.5159255083497851
          ],
          [
           70.1773835920177,
           1.9294692032738592
          ],
          [
           47.845804988662046,
           -1.0827243786150516
          ],
          [
           55.4263565891473,
           0.7803833324985185
          ],
          [
           49.97087944088529,
           -0.928577212179016
          ],
          [
           49.3812610489099,
           -0.7698401902691129
          ],
          [
           48.57988165680469,
           -0.8419124337176287
          ],
          [
           51.31652661064425,
           0.744364274771765
          ],
          [
           55.6162720097146,
           0.417324389399402
          ],
          [
           50.27210884353746,
           0.9367465387468138
          ],
          [
           41.68076706147779,
           -1.1176004033339264
          ],
          [
           38.92498523331368,
           -0.8370990939441685
          ],
          [
           51.64576802507842,
           -0.732019087227102
          ],
          [
           39.7460937499999,
           -0.41037086445450666
          ],
          [
           48.33729216152018,
           -0.9183554684321827
          ],
          [
           52.71739130434783,
           -0.07909587306027767
          ],
          [
           61.95165622202339,
           1.365967780821995
          ],
          [
           40.627885503231724,
           -0.3661126840412388
          ],
          [
           50.32679738562085,
           0.8699335458311976
          ],
          [
           37.89625360230537,
           -0.9510450254453114
          ],
          [
           51.34892086330941,
           -0.47933747005967864
          ],
          [
           50.22789425706477,
           -0.3955617950622057
          ],
          [
           50.45787545787543,
           -0.42252124416249426
          ],
          [
           48.420074349442494,
           -0.5591285524027737
          ],
          [
           49.19735599622278,
           -0.9707230993394219
          ],
          [
           47.409579667644195,
           -0.3735128289722032
          ],
          [
           47.20314033366051,
           1.3595432295961403
          ],
          [
           50.73839662447264,
           -0.01635311141489981
          ],
          [
           60.22146507666098,
           2.58725132695063
          ],
          [
           53.805175038051736,
           -0.08163077692726742
          ],
          [
           59.88103106411096,
           1.421941672625438
          ],
          [
           63.58136721113128,
           1.777143911865555
          ],
          [
           58.97867564534225,
           0.9156861722585328
          ],
          [
           50.456072971675454,
           -0.7511726965609202
          ],
          [
           56.588805641251675,
           0.3854201048512137
          ],
          [
           57.17391304347824,
           0.7251856085923835
          ],
          [
           45.40628828093099,
           -1.2722771060360503
          ],
          [
           47.05882352941173,
           -1.4944682841218524
          ],
          [
           46.51560495938437,
           0.4893004151510763
          ],
          [
           47.84520668425684,
           -1.1678995657596967
          ],
          [
           42.87090558766864,
           -0.7946276938640129
          ],
          [
           37.231384307846035,
           -1.0685721965345658
          ],
          [
           48.42105263157895,
           0.5883902040378909
          ],
          [
           51.03714423540757,
           -0.35599139074168495
          ],
          [
           42.65770423991726,
           -0.791466447924293
          ],
          [
           49.61381190368017,
           1.2559740301847189
          ],
          [
           51.77809388335703,
           -0.22614278669810184
          ],
          [
           52.830188679245325,
           -0.2160424018514534
          ],
          [
           47.60881246641595,
           0.8491652418329333
          ],
          [
           51.30283729009841,
           -0.5885100826204653
          ],
          [
           57.503789792824634,
           1.5615979977435548
          ],
          [
           51.37697516930025,
           -0.6818743352682385
          ],
          [
           51.48648648648648,
           1.354080409482449
          ],
          [
           48.742004264392314,
           -0.9316410345808336
          ],
          [
           50.53050397877986,
           -0.8535351575067212
          ],
          [
           42.260061919504636,
           -0.6044669293512344
          ],
          [
           56.94235588972427,
           1.3286777487971813
          ],
          [
           50.22104332449158,
           -0.4587007137645233
          ],
          [
           51.61151697464547,
           1.044659442397156
          ],
          [
           49.16086778550963,
           -0.9998080107388065
          ],
          [
           44.25493716337521,
           -0.37279748082347547
          ],
          [
           48.45208845208846,
           -1.0453888071514579
          ],
          [
           44.6437994722955,
           0.21533586760296086
          ],
          [
           48.76080691642657,
           -0.9101263237640728
          ],
          [
           49.51121334100061,
           -0.6874605636195958
          ],
          [
           55.158324821246204,
           1.0631780909132775
          ],
          [
           42.15469613259667,
           -0.2352963868801908
          ],
          [
           57.95580110497235,
           1.5319753802158524
          ],
          [
           42.87222808870113,
           -0.4985870414994213
          ],
          [
           49.69400244798044,
           -0.8058617646985016
          ],
          [
           56.5309360126917,
           1.63852922395167
          ],
          [
           58.736263736263666,
           1.1200060374713103
          ],
          [
           55.137395459976176,
           1.1304754662484346
          ],
          [
           62.21646143875556,
           1.1578928973226488
          ],
          [
           48.6862442040185,
           -1.2821662384542916
          ],
          [
           55.336322869955126,
           1.5409096891159277
          ],
          [
           48.58267716535433,
           -1.1008986851602158
          ],
          [
           48.359035191775384,
           0.40009769275122875
          ],
          [
           49.05736060970719,
           -1.0876665674920492
          ],
          [
           51.317891373801906,
           -0.6353889220760263
          ],
          [
           49.14476428869422,
           0.5160951180774083
          ],
          [
           48.87966804979255,
           0.11175054159709041
          ],
          [
           50.362610797743706,
           0.7121425606890079
          ],
          [
           44.743637034304705,
           -0.7170811296244898
          ],
          [
           57.21608832807569,
           0.6498415527250743
          ],
          [
           40.51532652154597,
           -0.6765004345451044
          ],
          [
           57.08582834331338,
           0.5570066171181624
          ],
          [
           50.7163323782235,
           0.8775391617889335
          ],
          [
           51.875732708089146,
           -1.0186672956075467
          ],
          [
           55.8364712210866,
           0.6483138274471949
          ],
          [
           51.73427395649612,
           1.0717383155990508
          ],
          [
           46.364594309799784,
           -1.0869034960339592
          ],
          [
           42.404371584699426,
           -1.1658744063066304
          ],
          [
           55.0997150997151,
           0.3773962334251713
          ],
          [
           48.66449511400651,
           0.5957821023634855
          ],
          [
           58.9546502690239,
           0.6372095950016139
          ],
          [
           42.1259842519685,
           -0.9613131710542491
          ],
          [
           41.06012658227851,
           -1.086453144170833
          ],
          [
           59.627831715210334,
           0.8419171969013001
          ],
          [
           42.33576642335774,
           -0.8746066656199564
          ],
          [
           38.10741687979547,
           -1.0256404614267653
          ],
          [
           44.4333996023857,
           -1.446238254561741
          ],
          [
           60.52830188679249,
           1.5036957205453194
          ],
          [
           43.70529327610879,
           -0.6756069429850693
          ],
          [
           46.89608636977064,
           0.08882631556837726
          ],
          [
           47.60319573901466,
           0.461272418203597
          ],
          [
           56.62472242783129,
           0.8971136805968067
          ],
          [
           50.13106159895148,
           -0.5839002159365332
          ],
          [
           52.43749999999999,
           1.6153693965719012
          ],
          [
           48.44110854503467,
           -1.0468569731005837
          ],
          [
           55.8572146807441,
           1.0360312169162333
          ],
          [
           56.1678463094034,
           0.3825902586735952
          ],
          [
           48.39285714285709,
           0.6938396163406672
          ],
          [
           50.591163658991896,
           -0.9822397240852521
          ],
          [
           46.13887086307594,
           -1.1023048657339993
          ],
          [
           54.57033388067867,
           1.452155516249535
          ],
          [
           43.3211344922232,
           -1.5609902242639258
          ],
          [
           47.97630799605135,
           -1.1649354953400515
          ],
          [
           39.97722095671977,
           -0.8637455977901624
          ],
          [
           55.95533498759303,
           0.38101960260410284
          ],
          [
           41.122715404699726,
           -0.7572642118414851
          ],
          [
           50.47846889952152,
           0.651405693978979
          ],
          [
           44.9200913242009,
           -0.23232869363494302
          ],
          [
           55.1564310544612,
           0.9750840703194414
          ],
          [
           55.934195064629805,
           0.9166618840288447
          ],
          [
           37.575030012004824,
           -1.1298780593509383
          ],
          [
           58.75816993464058,
           0.6960583867500009
          ],
          [
           49.80056980056982,
           -0.9403765773075975
          ],
          [
           50.50561797752811,
           -0.636169051273134
          ],
          [
           56.83488486036257,
           2.170104416236067
          ],
          [
           59.27439959121106,
           1.2348422951962785
          ],
          [
           43.45429490124024,
           -1.1785082490657337
          ],
          [
           53.87858347386174,
           0.5817209010924307
          ],
          [
           55.14555145551456,
           1.5565444066206464
          ],
          [
           52.31427460132244,
           0.7122225636826311
          ],
          [
           55.14555145551456,
           -0.05006365869351015
          ],
          [
           45.423728813559315,
           -0.8817159418338674
          ],
          [
           56.294736842105294,
           0.2731690332922042
          ],
          [
           48.95635673624287,
           -1.1098965573338437
          ],
          [
           39.085144927536234,
           -0.9687840591273058
          ],
          [
           50.241351568785205,
           0.7592395791177862
          ],
          [
           52.412924884599256,
           -0.7222131757974898
          ],
          [
           54.476114010437605,
           1.40242459416489
          ],
          [
           45.38120209762003,
           0.22153965033725642
          ],
          [
           47.1895973154363,
           -0.01673831579298112
          ],
          [
           45.88091353996736,
           -1.0499933647204944
          ],
          [
           55.60344827586203,
           0.6478674194114767
          ],
          [
           44.19762543086941,
           -1.04783834545388
          ],
          [
           56.63650075414783,
           0.7146974925823882
          ],
          [
           53.77289377289377,
           0.13020975431460616
          ],
          [
           49.07183212267957,
           0.737933385771607
          ],
          [
           48.973016512283486,
           -1.2311862788383536
          ],
          [
           46.17672047578587,
           0.6463828067402676
          ],
          [
           44.93592393551056,
           -1.051073224444993
          ],
          [
           45.519262981574514,
           -1.0340006103832704
          ],
          [
           55.59686080132178,
           0.7103787769341385
          ],
          [
           43.5791217895609,
           -1.0355027688176635
          ],
          [
           50.119104335397765,
           -1.0643846604560778
          ],
          [
           48.42364532019701,
           0.7360383323523823
          ],
          [
           51.40332640332638,
           0.6455999238170084
          ],
          [
           42.77138569284646,
           -0.6337619068710422
          ],
          [
           49.16618746405983,
           -0.9884343235231883
          ],
          [
           41.61162483487454,
           -0.287714066973087
          ],
          [
           57.48757984386084,
           0.9006414924657526
          ],
          [
           50.27932960893855,
           -0.5997179591854526
          ],
          [
           52.34979179060081,
           1.624416924907374
          ],
          [
           51.01449275362318,
           -0.7327456489010997
          ],
          [
           49.971607041453744,
           -0.8931520903575293
          ],
          [
           44.09898477157364,
           -0.2700625780501134
          ],
          [
           49.4839449541285,
           0.8737029715157778
          ],
          [
           61.79647527003974,
           1.9896057096090727
          ],
          [
           57.09033613445384,
           0.6354127584186304
          ],
          [
           55.030236393622836,
           0.5304360629698317
          ],
          [
           45.48476454293629,
           -0.5867860597480418
          ],
          [
           49.13225613405149,
           -1.074084804529716
          ],
          [
           36.579925650557634,
           -0.9297585429765732
          ],
          [
           49.61389961389969,
           -0.7864525765115781
          ],
          [
           62.5882352941177,
           1.0106302690209548
          ],
          [
           49.09344490934452,
           -0.6074526833232109
          ],
          [
           40.95826893353937,
           -0.8586714704169738
          ],
          [
           45.27220630372494,
           1.0647279756293213
          ],
          [
           41.93762441937622,
           -0.8473632478619321
          ],
          [
           41.79894179894182,
           -0.795380666775096
          ],
          [
           60.81229418221736,
           2.082786714314076
          ],
          [
           63.097949886104786,
           1.6375789188090617
          ],
          [
           49.753030983385685,
           -0.7801308467689487
          ],
          [
           49.86559139784946,
           -0.6505786199028348
          ],
          [
           45.09322865554465,
           -0.24060369042873544
          ],
          [
           50.49450549450543,
           -0.4517675363271051
          ],
          [
           57.60391198044005,
           0.9065320570020221
          ],
          [
           47.17607973421924,
           0.36796688500667396
          ],
          [
           50.473933649289094,
           -0.7765707978245758
          ],
          [
           50.384387936132455,
           -0.6927218367067416
          ],
          [
           30.37156704361884,
           -0.8055484910847608
          ],
          [
           42.68209666439754,
           0.4498044656147296
          ],
          [
           52.77777777777775,
           -0.4915070334942856
          ],
          [
           50.29337803855824,
           -0.6175334206617923
          ],
          [
           48.34494773519154,
           -0.29422911631495247
          ],
          [
           49.11504424778766,
           -0.48324443553245616
          ],
          [
           48.706512042818936,
           1.479313879509914
          ],
          [
           51.075771749298504,
           1.0136502740492705
          ],
          [
           64.4418872266974,
           1.2139846233917027
          ],
          [
           64.36781609195414,
           1.091680603001938
          ],
          [
           51.89990732159407,
           -0.7807816514880127
          ],
          [
           36.35294117647054,
           -0.953006106020905
          ],
          [
           64.81294236602643,
           1.4164155420141393
          ],
          [
           60.87369420702756,
           0.6749436276369435
          ],
          [
           57.75193798449628,
           0.3911991610539635
          ],
          [
           48.41592201462231,
           -1.292900600186423
          ],
          [
           48.457792207792224,
           0.5531650491893387
          ],
          [
           54.47647951441583,
           1.2739675780766806
          ],
          [
           42.82238442822388,
           -1.161463057964451
          ],
          [
           43.73865698729584,
           -0.8703956206566821
          ],
          [
           59.205143191116335,
           1.1356793410424957
          ],
          [
           63.14067611777536,
           1.7172561676798948
          ],
          [
           54.27069645203683,
           1.3241954415063313
          ],
          [
           45.111960677225575,
           -1.0395580108726372
          ],
          [
           51.24254473161034,
           0.20404724612629785
          ],
          [
           59.13461538461535,
           0.596429147779267
          ],
          [
           49.85439720442629,
           0.018595783024983246
          ],
          [
           38.10264385692067,
           -1.7632389434985405
          ],
          [
           57.59682224428998,
           0.5135145037070808
          ],
          [
           54.619435136428926,
           0.06543414740817932
          ],
          [
           41.92118226600984,
           -1.1901016604999568
          ],
          [
           37.94736842105258,
           -1.084748556037607
          ],
          [
           45.3817153628652,
           0.2593534862917219
          ],
          [
           57.90061418202125,
           0.7942672557289988
          ],
          [
           50.70079219987809,
           0.6192146356013272
          ],
          [
           46.66666666666663,
           0.16268318395809597
          ],
          [
           43.523316062176164,
           -1.1093830389650396
          ],
          [
           53.16455696202524,
           -1.0373064650416153
          ],
          [
           48.80860876249038,
           0.8905594259617198
          ],
          [
           52.30642504118616,
           0.7248077814257764
          ],
          [
           55.94713656387659,
           -0.26744370381283
          ],
          [
           61.65644171779142,
           1.0206746223380305
          ],
          [
           52.27906976744189,
           0.7865516351724384
          ],
          [
           39.16532905296949,
           -1.167099420272059
          ],
          [
           39.41841680129243,
           -1.2747563601652567
          ],
          [
           53.32437877770318,
           0.9965211672451714
          ],
          [
           49.968533668974224,
           -1.114217076954792
          ],
          [
           50.06305170239599,
           -1.0345700844847496
          ],
          [
           54.113557358053264,
           1.5764351545282442
          ],
          [
           43.041474654377865,
           -1.1951788213269539
          ],
          [
           47.884615384615394,
           -0.6888049744470346
          ],
          [
           42.22568902756109,
           -0.7216714651214338
          ],
          [
           48.08510638297872,
           0.4922521919498515
          ],
          [
           47.28033472803351,
           -1.0354734138472572
          ],
          [
           50.50091074681239,
           -0.35782967591607434
          ],
          [
           47.58919961427194,
           0.74185933031938
          ],
          [
           58.565310492505326,
           1.1869104995905435
          ],
          [
           59.62765957446809,
           1.3027533807477394
          ],
          [
           38.335220838052095,
           -0.6528171245652405
          ],
          [
           50.334572490706336,
           -0.8323273563977474
          ],
          [
           55.19785378940303,
           0.6139775729103744
          ],
          [
           51.05459057071962,
           -0.48402118027513535
          ],
          [
           49.7772119669,
           0.6022063226920766
          ],
          [
           61.10260336906589,
           0.5992588697698474
          ],
          [
           49.232914923291496,
           -0.8703174001324074
          ],
          [
           40.81313526192339,
           -1.1418544075207282
          ],
          [
           34.439834024896285,
           -1.2621767843126523
          ],
          [
           47.6474486414844,
           0.9958090402507734
          ],
          [
           56.793048973143755,
           0.5163202174929077
          ],
          [
           50.42075736325387,
           -0.7643200450254163
          ],
          [
           44.022169437846436,
           -0.40891817652777984
          ],
          [
           58.127340823969995,
           1.2181325453919007
          ],
          [
           50.370370370370374,
           0.8295116819562529
          ],
          [
           49.174917491749106,
           0.615124490218036
          ],
          [
           50.55131467345207,
           -0.7559937081315125
          ],
          [
           49.542809642560215,
           -0.9960099449553735
          ],
          [
           59.91620111731848,
           0.910902476761068
          ],
          [
           51.27334465195252,
           1.258527528746231
          ],
          [
           60.21241830065364,
           1.8058698904363628
          ],
          [
           47.981770833333314,
           -1.37963047679187
          ],
          [
           60.67913385826774,
           1.659687888414955
          ],
          [
           43.216723549488094,
           -1.2034455771414563
          ],
          [
           51.13895216400915,
           0.480393400790232
          ],
          [
           47.16386554621848,
           -0.6798861412214791
          ],
          [
           53.662811076060294,
           0.2943862640291961
          ],
          [
           55.75313807531383,
           0.6054274164979596
          ],
          [
           51.73069608216051,
           0.6057037986162234
          ],
          [
           48.876190476190466,
           0.10197160228343223
          ],
          [
           42.68745360059391,
           -0.9369168808442581
          ],
          [
           57.31257681278162,
           0.4496752686605322
          ],
          [
           46.038322112894875,
           0.7156975631897066
          ],
          [
           50.626423690205,
           -1.4399222624217463
          ],
          [
           39.328201539538114,
           -1.2323915441928968
          ],
          [
           49.960411718131475,
           -0.8970502598754881
          ],
          [
           48.742903487429025,
           0.23244152270691223
          ],
          [
           49.80142970611592,
           0.7654158658590249
          ],
          [
           45.61933534743203,
           0.14458309815620202
          ],
          [
           51.89591078066911,
           0.8259134952945791
          ],
          [
           46.59546061415225,
           -1.4294974762512362
          ],
          [
           50.15576323987543,
           0.9430546294562707
          ],
          [
           47.108947048082804,
           0.39008303223529556
          ],
          [
           52.58152173913041,
           -0.7357587596212539
          ],
          [
           50.42735042735041,
           -0.9526138140981897
          ],
          [
           47.45071380013596,
           -1.087451367952967
          ],
          [
           42.61321455085382,
           -0.9041107545636189
          ],
          [
           54.82174167153713,
           1.7836805851976765
          ],
          [
           45.93535749265426,
           -0.6414817986845212
          ],
          [
           42.199999999999996,
           -0.8016861730243833
          ],
          [
           52.17910447761191,
           -0.5299136944355101
          ],
          [
           51.366120218579205,
           1.3462151239498206
          ],
          [
           47.341913822048085,
           0.05765670109246279
          ],
          [
           46.89578713968957,
           -0.9860842364142752
          ],
          [
           49.58077138065957,
           -0.617362209099354
          ],
          [
           57.97239409804853,
           1.1923664317441414
          ],
          [
           56.30331753554501,
           0.8246961916226131
          ],
          [
           50.48335123523095,
           1.5870178426130057
          ],
          [
           57.668711656441715,
           0.5328040633489498
          ],
          [
           50.75593952483801,
           -0.7440283837243342
          ],
          [
           54.559043348281044,
           0.21577961679018312
          ],
          [
           40.11506276150629,
           -1.083372844269892
          ],
          [
           46.082949308755815,
           -0.8839692923415342
          ],
          [
           59.277777777777764,
           0.6603528710171156
          ],
          [
           50.66666666666669,
           -0.7822091314260906
          ],
          [
           41.61309175920514,
           -0.7583954127462142
          ],
          [
           51.85556670010024,
           0.9468705644708714
          ],
          [
           39.615384615384635,
           -0.6663751924858301
          ],
          [
           54.001721170395896,
           1.5737991524308914
          ],
          [
           56.328545780969534,
           0.8030793661159699
          ],
          [
           51.07398568019091,
           0.5289023441140672
          ],
          [
           50.04677268475213,
           -1.0590991849216187
          ],
          [
           50.440835266821345,
           -0.6695039734946708
          ],
          [
           48.40579710144928,
           0.2654515428083086
          ],
          [
           49.38393297190735,
           -1.0464180431883985
          ],
          [
           55.13324595893409,
           0.5885451666330487
          ],
          [
           45.78665367754508,
           0
          ],
          [
           47.52275025278055,
           -1.2655899941787074
          ],
          [
           49.266862170087954,
           1.5107293954777625
          ],
          [
           42.531645569620224,
           -1.1450861234802752
          ],
          [
           43.26180257510734,
           -1.068243677526566
          ],
          [
           49.880210828941046,
           -0.7389311799006129
          ],
          [
           48.41231069858328,
           -0.6689793381357813
          ],
          [
           44.27440633245378,
           -0.49634346406254926
          ],
          [
           58.67727498756839,
           1.3089540387993006
          ],
          [
           56.30914826498417,
           1.7818097943364688
          ],
          [
           45.55508294342832,
           -0.7296477063533688
          ],
          [
           50.25809479117789,
           -0.6200344584954496
          ],
          [
           42.82632146709815,
           0.41786841093666516
          ],
          [
           53.7212449255752,
           -0.2194964413865641
          ],
          [
           60.63268892794378,
           1.094963180002806
          ],
          [
           59.642857142857196,
           0.9002184235092446
          ],
          [
           54.99451152579582,
           0.02137500861300183
          ],
          [
           58.1632653061225,
           0.7925878758263354
          ],
          [
           40.99538224730625,
           -1.049765542487974
          ],
          [
           34.49972662657193,
           -1.2493774989855329
          ],
          [
           60.036166365280316,
           0.748264829253043
          ],
          [
           59.74805038992201,
           0.9362816591419963
          ],
          [
           43.753533069530796,
           -1.1534216076456345
          ],
          [
           59.54376163873367,
           1.672588751340055
          ],
          [
           47.65840220385674,
           0.07016484607386837
          ],
          [
           43.63177805800758,
           -1.0792746818542214
          ],
          [
           46.27730717788679,
           -0.9886476742488276
          ],
          [
           48.548249359521755,
           0.5245560693338965
          ],
          [
           50.26525198938994,
           -0.7895039057673401
          ],
          [
           51.42083897158321,
           -0.6459795038831327
          ],
          [
           42.590618336887,
           -0.5364321998674489
          ],
          [
           42.05263157894735,
           -0.7686024045844803
          ],
          [
           61.930426261636455,
           1.6762179311232088
          ],
          [
           38.44984802431611,
           -0.5078822248760183
          ],
          [
           51.98372329603256,
           0.7608292635566252
          ],
          [
           55.69482288828338,
           0.5652180842496589
          ],
          [
           50.82048731974138,
           -0.5596659144498395
          ],
          [
           50.20140986908362,
           0.8362852400485322
          ],
          [
           57.96359499431173,
           0.8243894949036229
          ],
          [
           61.76927056389033,
           1.618463954100101
          ],
          [
           54.36802973977693,
           0.1730208850304832
          ],
          [
           55.7162855809613,
           0.20982372708550223
          ],
          [
           50.675675675675656,
           1.419340718962167
          ],
          [
           56.55452436194892,
           -0.11337356022268008
          ],
          [
           41.95639363582796,
           -1.3995592440218991
          ],
          [
           44.1303011677935,
           -1.3541979673979803
          ],
          [
           55.68603213844254,
           -0.12681821916922936
          ],
          [
           40.88089330024811,
           -1.3782234221553797
          ],
          [
           41.96102314250905,
           -1.073470971615008
          ],
          [
           45.4493417286777,
           0.5595288315453246
          ],
          [
           52.980132450331155,
           0.5783373381507546
          ],
          [
           50.38961038961031,
           0.4092915661841734
          ],
          [
           39.08554572271389,
           0.02417620747404282
          ],
          [
           42.63877715205152,
           -0.6759544362920368
          ],
          [
           60.64356435643562,
           0.9071778445026004
          ],
          [
           55.479452054794535,
           0.12415540438329978
          ],
          [
           41.45785876993164,
           -1.3010607366961073
          ],
          [
           53.234265734265655,
           -0.8365405037236541
          ],
          [
           51.53985507246379,
           -0.6366855957841596
          ],
          [
           32.17097862767143,
           -1.1970692320605332
          ],
          [
           30.56768558951957,
           -1.3404143739469065
          ],
          [
           40.12345679012347,
           -0.396169353135499
          ],
          [
           41.40127388535026,
           -0.5348789872761024
          ]
         ],
         "hovertemplate": "index=%{x}<br>close=%{y}<br>rsi=%{customdata[0]}<br>bb=%{customdata[1]}<extra></extra>",
         "legendgroup": "",
         "line": {
          "color": "#636efa",
          "dash": "solid"
         },
         "marker": {
          "symbol": "circle"
         },
         "mode": "markers+lines",
         "name": "",
         "showlegend": false,
         "type": "scattergl",
         "x": [
          0,
          1,
          2,
          3,
          4,
          5,
          6,
          7,
          8,
          9,
          10,
          11,
          12,
          13,
          14,
          15,
          16,
          17,
          18,
          19,
          20,
          21,
          22,
          23,
          24,
          25,
          26,
          27,
          28,
          29,
          30,
          31,
          32,
          33,
          34,
          35,
          36,
          37,
          38,
          39,
          40,
          41,
          42,
          43,
          44,
          45,
          46,
          47,
          48,
          49,
          50,
          51,
          52,
          53,
          54,
          55,
          56,
          57,
          58,
          59,
          60,
          61,
          62,
          63,
          64,
          65,
          66,
          67,
          68,
          69,
          70,
          71,
          72,
          73,
          74,
          75,
          76,
          77,
          78,
          79,
          80,
          81,
          82,
          83,
          84,
          85,
          86,
          87,
          88,
          89,
          90,
          91,
          92,
          93,
          94,
          95,
          96,
          97,
          98,
          99,
          100,
          101,
          102,
          103,
          104,
          105,
          106,
          107,
          108,
          109,
          110,
          111,
          112,
          113,
          114,
          115,
          116,
          117,
          118,
          119,
          120,
          121,
          122,
          123,
          124,
          125,
          126,
          127,
          128,
          129,
          130,
          131,
          132,
          133,
          134,
          135,
          136,
          137,
          138,
          139,
          140,
          141,
          142,
          143,
          144,
          145,
          146,
          147,
          148,
          149,
          150,
          151,
          152,
          153,
          154,
          155,
          156,
          157,
          158,
          159,
          160,
          161,
          162,
          163,
          164,
          165,
          166,
          167,
          168,
          169,
          170,
          171,
          172,
          173,
          174,
          175,
          176,
          177,
          178,
          179,
          180,
          181,
          182,
          183,
          184,
          185,
          186,
          187,
          188,
          189,
          190,
          191,
          192,
          193,
          194,
          195,
          196,
          197,
          198,
          199,
          200,
          201,
          202,
          203,
          204,
          205,
          206,
          207,
          208,
          209,
          210,
          211,
          212,
          213,
          214,
          215,
          216,
          217,
          218,
          219,
          220,
          221,
          222,
          223,
          224,
          225,
          226,
          227,
          228,
          229,
          230,
          231,
          232,
          233,
          234,
          235,
          236,
          237,
          238,
          239,
          240,
          241,
          242,
          243,
          244,
          245,
          246,
          247,
          248,
          249,
          250,
          251,
          252,
          253,
          254,
          255,
          256,
          257,
          258,
          259,
          260,
          261,
          262,
          263,
          264,
          265,
          266,
          267,
          268,
          269,
          270,
          271,
          272,
          273,
          274,
          275,
          276,
          277,
          278,
          279,
          280,
          281,
          282,
          283,
          284,
          285,
          286,
          287,
          288,
          289,
          290,
          291,
          292,
          293,
          294,
          295,
          296,
          297,
          298,
          299,
          300,
          301,
          302,
          303,
          304,
          305,
          306,
          307,
          308,
          309,
          310,
          311,
          312,
          313,
          314,
          315,
          316,
          317,
          318,
          319,
          320,
          321,
          322,
          323,
          324,
          325,
          326,
          327,
          328,
          329,
          330,
          331,
          332,
          333,
          334,
          335,
          336,
          337,
          338,
          339,
          340,
          341,
          342,
          343,
          344,
          345,
          346,
          347,
          348,
          349,
          350,
          351,
          352,
          353,
          354,
          355,
          356,
          357,
          358,
          359,
          360,
          361,
          362,
          363,
          364,
          365,
          366,
          367,
          368,
          369,
          370,
          371,
          372,
          373,
          374,
          375,
          376,
          377,
          378,
          379,
          380,
          381,
          382,
          383,
          384,
          385,
          386,
          387,
          388,
          389,
          390,
          391,
          392,
          393,
          394,
          395,
          396,
          397,
          398,
          399,
          400,
          401,
          402,
          403,
          404,
          405,
          406,
          407,
          408,
          409,
          410,
          411,
          412,
          413,
          414,
          415,
          416,
          417,
          418,
          419,
          420,
          421,
          422,
          423,
          424,
          425,
          426,
          427,
          428,
          429,
          430,
          431,
          432,
          433,
          434,
          435,
          436,
          437,
          438,
          439,
          440,
          441,
          442,
          443,
          444,
          445,
          446,
          447,
          448,
          449,
          450,
          451,
          452,
          453,
          454,
          455,
          456,
          457,
          458,
          459,
          460,
          461,
          462,
          463,
          464,
          465,
          466,
          467,
          468,
          469,
          470,
          471,
          472,
          473,
          474,
          475,
          476,
          477,
          478,
          479,
          480,
          481,
          482,
          483,
          484,
          485,
          486,
          487,
          488,
          489,
          490,
          491,
          492,
          493,
          494,
          495,
          496,
          497,
          498,
          499,
          500,
          501,
          502,
          503,
          504,
          505,
          506,
          507,
          508,
          509,
          510,
          511,
          512,
          513,
          514,
          515,
          516,
          517,
          518,
          519,
          520,
          521,
          522,
          523,
          524,
          525,
          526,
          527,
          528,
          529,
          530,
          531,
          532,
          533,
          534,
          535,
          536,
          537,
          538,
          539,
          540,
          541,
          542,
          543,
          544,
          545,
          546,
          547,
          548,
          549,
          550,
          551,
          552,
          553,
          554,
          555,
          556,
          557,
          558,
          559,
          560,
          561,
          562,
          563,
          564,
          565,
          566,
          567,
          568,
          569,
          570,
          571,
          572,
          573,
          574,
          575,
          576,
          577,
          578,
          579,
          580,
          581,
          582,
          583,
          584,
          585,
          586,
          587,
          588,
          589,
          590,
          591,
          592,
          593,
          594,
          595,
          596,
          597,
          598,
          599,
          600,
          601,
          602,
          603,
          604,
          605,
          606,
          607,
          608,
          609,
          610,
          611,
          612,
          613,
          614,
          615,
          616,
          617,
          618,
          619,
          620,
          621,
          622,
          623,
          624,
          625,
          626,
          627,
          628,
          629,
          630,
          631,
          632,
          633,
          634,
          635,
          636,
          637,
          638,
          639,
          640,
          641,
          642,
          643,
          644,
          645,
          646,
          647,
          648,
          649,
          650,
          651,
          652,
          653,
          654,
          655,
          656,
          657,
          658,
          659,
          660,
          661,
          662,
          663,
          664,
          665,
          666,
          667,
          668,
          669,
          670,
          671,
          672,
          673,
          674,
          675,
          676,
          677,
          678,
          679,
          680,
          681,
          682,
          683,
          684,
          685,
          686,
          687,
          688,
          689,
          690,
          691,
          692,
          693,
          694,
          695,
          696,
          697,
          698,
          699,
          700,
          701,
          702,
          703,
          704,
          705,
          706,
          707,
          708,
          709,
          710,
          711,
          712,
          713,
          714,
          715,
          716,
          717,
          718,
          719,
          720,
          721,
          722,
          723,
          724,
          725,
          726,
          727,
          728,
          729,
          730,
          731,
          732,
          733,
          734,
          735,
          736,
          737,
          738,
          739,
          740,
          741,
          742,
          743,
          744,
          745,
          746,
          747,
          748,
          749,
          750,
          751,
          752,
          753,
          754,
          755,
          756,
          757,
          758,
          759,
          760,
          761,
          762,
          763,
          764,
          765,
          766,
          767,
          768,
          769,
          770,
          771,
          772,
          773,
          774,
          775,
          776,
          777,
          778,
          779,
          780,
          781,
          782,
          783,
          784,
          785,
          786,
          787,
          788,
          789,
          790,
          791,
          792,
          793,
          794,
          795,
          796,
          797,
          798,
          799,
          800,
          801,
          802,
          803,
          804,
          805,
          806,
          807,
          808,
          809,
          810,
          811,
          812,
          813,
          814,
          815,
          816,
          817,
          818,
          819,
          820,
          821,
          822,
          823,
          824,
          825,
          826,
          827,
          828,
          829,
          830,
          831,
          832,
          833,
          834,
          835,
          836,
          837,
          838,
          839,
          840,
          841,
          842,
          843,
          844,
          845,
          846,
          847,
          848,
          849,
          850,
          851,
          852,
          853,
          854,
          855,
          856,
          857,
          858,
          859,
          860,
          861,
          862,
          863,
          864,
          865,
          866,
          867,
          868,
          869,
          870,
          871,
          872,
          873,
          874,
          875,
          876,
          877,
          878,
          879,
          880,
          881,
          882,
          883,
          884,
          885,
          886,
          887,
          888,
          889,
          890,
          891,
          892,
          893,
          894,
          895,
          896,
          897,
          898,
          899,
          900,
          901,
          902,
          903,
          904,
          905,
          906,
          907,
          908,
          909,
          910,
          911,
          912,
          913,
          914,
          915,
          916,
          917,
          918,
          919,
          920,
          921,
          922,
          923,
          924,
          925,
          926,
          927,
          928,
          929,
          930,
          931,
          932,
          933,
          934,
          935,
          936,
          937,
          938,
          939,
          940,
          941,
          942,
          943,
          944,
          945,
          946,
          947,
          948,
          949,
          950,
          951,
          952,
          953,
          954,
          955,
          956,
          957,
          958,
          959,
          960,
          961,
          962,
          963,
          964,
          965,
          966,
          967,
          968,
          969,
          970,
          971,
          972,
          973,
          974,
          975,
          976,
          977,
          978,
          979,
          980,
          981,
          982,
          983,
          984,
          985,
          986,
          987,
          988,
          989,
          990,
          991,
          992,
          993,
          994,
          995,
          996,
          997,
          998,
          999,
          1000,
          1001,
          1002,
          1003,
          1004,
          1005,
          1006,
          1007,
          1008,
          1009,
          1010,
          1011,
          1012,
          1013,
          1014,
          1015,
          1016,
          1017,
          1018,
          1019,
          1020,
          1021,
          1022,
          1023,
          1024,
          1025,
          1026,
          1027,
          1028,
          1029,
          1030,
          1031,
          1032,
          1033,
          1034,
          1035,
          1036,
          1037,
          1038,
          1039,
          1040,
          1041,
          1042,
          1043,
          1044,
          1045,
          1046,
          1047,
          1048,
          1049,
          1050,
          1051,
          1052,
          1053,
          1054,
          1055,
          1056,
          1057,
          1058,
          1059,
          1060,
          1061,
          1062,
          1063,
          1064,
          1065,
          1066,
          1067,
          1068,
          1069,
          1070,
          1071,
          1072,
          1073,
          1074,
          1075,
          1076,
          1077,
          1078,
          1079,
          1080,
          1081,
          1082,
          1083,
          1084,
          1085,
          1086,
          1087,
          1088,
          1089,
          1090,
          1091,
          1092,
          1093,
          1094,
          1095,
          1096,
          1097,
          1098,
          1099,
          1100,
          1101,
          1102,
          1103,
          1104,
          1105,
          1106,
          1107,
          1108,
          1109,
          1110,
          1111,
          1112,
          1113,
          1114,
          1115,
          1116,
          1117,
          1118,
          1119,
          1120,
          1121,
          1122,
          1123,
          1124,
          1125,
          1126,
          1127,
          1128,
          1129,
          1130,
          1131,
          1132,
          1133,
          1134,
          1135,
          1136,
          1137,
          1138,
          1139,
          1140,
          1141,
          1142,
          1143,
          1144,
          1145,
          1146,
          1147,
          1148,
          1149,
          1150,
          1151,
          1152,
          1153,
          1154,
          1155,
          1156,
          1157,
          1158,
          1159,
          1160,
          1161,
          1162,
          1163,
          1164,
          1165,
          1166,
          1167,
          1168,
          1169,
          1170,
          1171,
          1172,
          1173,
          1174,
          1175,
          1176,
          1177,
          1178,
          1179,
          1180,
          1181,
          1182,
          1183,
          1184,
          1185,
          1186,
          1187,
          1188,
          1189,
          1190,
          1191,
          1192,
          1193,
          1194,
          1195,
          1196,
          1197,
          1198,
          1199,
          1200,
          1201,
          1202,
          1203,
          1204,
          1205,
          1206,
          1207,
          1208,
          1209,
          1210,
          1211,
          1212,
          1213,
          1214,
          1215,
          1216,
          1217,
          1218,
          1219,
          1220,
          1221,
          1222,
          1223,
          1224,
          1225,
          1226,
          1227,
          1228,
          1229,
          1230,
          1231,
          1232,
          1233,
          1234,
          1235,
          1236,
          1237,
          1238,
          1239,
          1240,
          1241,
          1242,
          1243,
          1244,
          1245,
          1246,
          1247,
          1248,
          1249,
          1250,
          1251,
          1252,
          1253,
          1254,
          1255,
          1256,
          1257,
          1258,
          1259,
          1260,
          1261,
          1262,
          1263,
          1264,
          1265,
          1266,
          1267,
          1268,
          1269,
          1270,
          1271,
          1272,
          1273,
          1274,
          1275,
          1276,
          1277,
          1278,
          1279,
          1280,
          1281,
          1282,
          1283,
          1284,
          1285,
          1286,
          1287,
          1288,
          1289,
          1290,
          1291,
          1292,
          1293,
          1294,
          1295,
          1296,
          1297,
          1298,
          1299,
          1300,
          1301,
          1302,
          1303,
          1304,
          1305,
          1306,
          1307,
          1308,
          1309,
          1310,
          1311,
          1312,
          1313,
          1314,
          1315,
          1316,
          1317,
          1318,
          1319,
          1320,
          1321,
          1322,
          1323,
          1324,
          1325,
          1326,
          1327,
          1328,
          1329,
          1330,
          1331,
          1332,
          1333,
          1334,
          1335,
          1336,
          1337,
          1338,
          1339,
          1340,
          1341,
          1342,
          1343,
          1344,
          1345,
          1346,
          1347,
          1348,
          1349,
          1350,
          1351,
          1352,
          1353,
          1354,
          1355,
          1356,
          1357,
          1358,
          1359,
          1360,
          1361,
          1362,
          1363,
          1364,
          1365,
          1366,
          1367,
          1368,
          1369,
          1370,
          1371,
          1372,
          1373,
          1374,
          1375,
          1376,
          1377,
          1378,
          1379,
          1380,
          1381,
          1382,
          1383,
          1384,
          1385,
          1386,
          1387,
          1388,
          1389,
          1390,
          1391,
          1392,
          1393,
          1394,
          1395,
          1396,
          1397,
          1398,
          1399,
          1400,
          1401,
          1402,
          1403,
          1404,
          1405,
          1406,
          1407,
          1408,
          1409,
          1410,
          1411,
          1412,
          1413,
          1414,
          1415,
          1416,
          1417,
          1418,
          1419,
          1420,
          1421,
          1422,
          1423,
          1424,
          1425,
          1426,
          1427,
          1428,
          1429,
          1430,
          1431,
          1432,
          1433,
          1434,
          1435,
          1436,
          1437,
          1438,
          1439,
          1440,
          1441,
          1442,
          1443,
          1444,
          1445,
          1446,
          1447,
          1448,
          1449,
          1450,
          1451,
          1452,
          1453,
          1454,
          1455,
          1456,
          1457,
          1458,
          1459,
          1460,
          1461,
          1462,
          1463,
          1464,
          1465,
          1466,
          1467,
          1468,
          1469,
          1470,
          1471,
          1472,
          1473,
          1474,
          1475,
          1476,
          1477,
          1478,
          1479,
          1480,
          1481,
          1482,
          1483,
          1484,
          1485,
          1486,
          1487,
          1488,
          1489,
          1490,
          1491,
          1492,
          1493,
          1494,
          1495,
          1496,
          1497,
          1498,
          1499,
          1500,
          1501,
          1502,
          1503,
          1504,
          1505,
          1506,
          1507,
          1508,
          1509,
          1510,
          1511,
          1512,
          1513,
          1514,
          1515,
          1516,
          1517,
          1518,
          1519,
          1520,
          1521,
          1522,
          1523,
          1524,
          1525,
          1526,
          1527,
          1528,
          1529,
          1530,
          1531,
          1532,
          1533,
          1534,
          1535,
          1536,
          1537,
          1538,
          1539,
          1540,
          1541,
          1542,
          1543,
          1544,
          1545,
          1546,
          1547,
          1548,
          1549,
          1550,
          1551,
          1552,
          1553,
          1554,
          1555,
          1556,
          1557,
          1558,
          1559,
          1560,
          1561,
          1562,
          1563,
          1564,
          1565,
          1566,
          1567,
          1568,
          1569,
          1570,
          1571,
          1572,
          1573,
          1574,
          1575,
          1576,
          1577,
          1578,
          1579,
          1580,
          1581,
          1582,
          1583,
          1584,
          1585,
          1586,
          1587,
          1588,
          1589,
          1590,
          1591,
          1592,
          1593,
          1594,
          1595,
          1596,
          1597,
          1598,
          1599,
          1600,
          1601,
          1602,
          1603,
          1604,
          1605,
          1606,
          1607,
          1608,
          1609,
          1610,
          1611,
          1612,
          1613,
          1614,
          1615,
          1616,
          1617,
          1618,
          1619,
          1620,
          1621,
          1622,
          1623,
          1624,
          1625,
          1626,
          1627,
          1628,
          1629,
          1630,
          1631,
          1632,
          1633,
          1634,
          1635,
          1636,
          1637,
          1638,
          1639,
          1640,
          1641,
          1642,
          1643,
          1644,
          1645,
          1646,
          1647,
          1648,
          1649,
          1650,
          1651,
          1652,
          1653,
          1654,
          1655,
          1656,
          1657,
          1658,
          1659,
          1660,
          1661,
          1662,
          1663,
          1664,
          1665,
          1666,
          1667,
          1668,
          1669,
          1670,
          1671,
          1672,
          1673,
          1674,
          1675,
          1676,
          1677,
          1678,
          1679,
          1680,
          1681,
          1682,
          1683,
          1684,
          1685,
          1686,
          1687,
          1688,
          1689,
          1690,
          1691,
          1692,
          1693,
          1694,
          1695,
          1696,
          1697,
          1698,
          1699,
          1700,
          1701,
          1702,
          1703,
          1704,
          1705,
          1706,
          1707,
          1708,
          1709,
          1710,
          1711,
          1712,
          1713,
          1714,
          1715,
          1716,
          1717,
          1718,
          1719,
          1720,
          1721,
          1722,
          1723,
          1724,
          1725,
          1726,
          1727,
          1728,
          1729,
          1730,
          1731,
          1732,
          1733,
          1734,
          1735,
          1736,
          1737,
          1738,
          1739,
          1740,
          1741,
          1742,
          1743,
          1744,
          1745,
          1746,
          1747,
          1748,
          1749,
          1750,
          1751,
          1752,
          1753,
          1754,
          1755,
          1756,
          1757,
          1758,
          1759,
          1760,
          1761,
          1762,
          1763,
          1764,
          1765,
          1766,
          1767,
          1768,
          1769,
          1770,
          1771,
          1772,
          1773,
          1774,
          1775,
          1776,
          1777,
          1778,
          1779,
          1780,
          1781,
          1782,
          1783,
          1784,
          1785,
          1786,
          1787,
          1788,
          1789,
          1790,
          1791,
          1792,
          1793,
          1794,
          1795,
          1796,
          1797,
          1798,
          1799,
          1800,
          1801,
          1802,
          1803,
          1804,
          1805,
          1806,
          1807,
          1808,
          1809,
          1810,
          1811,
          1812,
          1813,
          1814,
          1815,
          1816,
          1817,
          1818,
          1819,
          1820,
          1821,
          1822,
          1823,
          1824,
          1825,
          1826,
          1827,
          1828,
          1829,
          1830,
          1831,
          1832,
          1833,
          1834,
          1835,
          1836,
          1837,
          1838,
          1839,
          1840,
          1841,
          1842,
          1843,
          1844,
          1845,
          1846,
          1847,
          1848,
          1849,
          1850,
          1851,
          1852,
          1853,
          1854,
          1855,
          1856,
          1857,
          1858,
          1859,
          1860,
          1861,
          1862,
          1863,
          1864,
          1865,
          1866,
          1867,
          1868,
          1869,
          1870,
          1871,
          1872,
          1873,
          1874,
          1875,
          1876,
          1877,
          1878,
          1879,
          1880,
          1881,
          1882,
          1883,
          1884,
          1885,
          1886,
          1887,
          1888,
          1889,
          1890,
          1891,
          1892,
          1893,
          1894,
          1895,
          1896,
          1897,
          1898,
          1899,
          1900,
          1901,
          1902,
          1903,
          1904,
          1905,
          1906,
          1907,
          1908,
          1909,
          1910,
          1911,
          1912,
          1913,
          1914,
          1915,
          1916,
          1917,
          1918,
          1919,
          1920,
          1921,
          1922,
          1923,
          1924,
          1925,
          1926,
          1927,
          1928,
          1929,
          1930,
          1931,
          1932,
          1933,
          1934,
          1935,
          1936,
          1937,
          1938,
          1939,
          1940,
          1941,
          1942,
          1943,
          1944,
          1945,
          1946,
          1947,
          1948,
          1949,
          1950,
          1951,
          1952,
          1953,
          1954,
          1955,
          1956,
          1957,
          1958,
          1959,
          1960,
          1961,
          1962,
          1963,
          1964,
          1965,
          1966,
          1967,
          1968,
          1969,
          1970,
          1971,
          1972,
          1973,
          1974,
          1975,
          1976,
          1977,
          1978,
          1979,
          1980,
          1981,
          1982,
          1983,
          1984,
          1985,
          1986,
          1987,
          1988,
          1989,
          1990,
          1991,
          1992,
          1993,
          1994,
          1995,
          1996,
          1997,
          1998,
          1999,
          2000,
          2001,
          2002,
          2003,
          2004,
          2005,
          2006,
          2007,
          2008,
          2009,
          2010,
          2011,
          2012,
          2013,
          2014,
          2015,
          2016,
          2017,
          2018,
          2019,
          2020,
          2021,
          2022,
          2023,
          2024,
          2025,
          2026,
          2027,
          2028,
          2029,
          2030,
          2031,
          2032,
          2033,
          2034,
          2035,
          2036,
          2037,
          2038,
          2039,
          2040,
          2041,
          2042,
          2043,
          2044,
          2045,
          2046,
          2047,
          2048,
          2049,
          2050,
          2051,
          2052,
          2053,
          2054,
          2055,
          2056,
          2057,
          2058,
          2059,
          2060,
          2061,
          2062,
          2063,
          2064,
          2065,
          2066,
          2067,
          2068,
          2069,
          2070,
          2071,
          2072,
          2073,
          2074,
          2075,
          2076,
          2077,
          2078,
          2079,
          2080,
          2081,
          2082,
          2083,
          2084,
          2085,
          2086,
          2087,
          2088,
          2089,
          2090,
          2091,
          2092,
          2093,
          2094,
          2095,
          2096,
          2097,
          2098,
          2099,
          2100,
          2101,
          2102,
          2103,
          2104,
          2105,
          2106,
          2107,
          2108,
          2109,
          2110,
          2111,
          2112,
          2113,
          2114,
          2115,
          2116,
          2117,
          2118,
          2119,
          2120,
          2121
         ],
         "xaxis": "x",
         "y": [
          165.83,
          163.3,
          165.66,
          163.18,
          166.84,
          165.51,
          163.24,
          166.27,
          165.51,
          166.22,
          163.24,
          168.06,
          163.53,
          163.99,
          166.58,
          166.6,
          166.37,
          166.42,
          162.91,
          162.99,
          163.63,
          165.93,
          166.2,
          166.52,
          163.43,
          168.4,
          166.86,
          163.48,
          166.45,
          163.23,
          166.43,
          163.96,
          163.42,
          166.2,
          163.99,
          165.75,
          166.25,
          163.1,
          166.63,
          163.21,
          168.02,
          163.61,
          165.2,
          163.69,
          166.66,
          166.6,
          168.14,
          165.61,
          163.48,
          163.22,
          166.51,
          166.12,
          163.98,
          162.43,
          163.17,
          165,
          163.79,
          163.67,
          163.66,
          167.2,
          166.91,
          166.22,
          165.17,
          163.49,
          162.85,
          166.61,
          163.6,
          163.63,
          165.39,
          162.96,
          163.79,
          163.9,
          166.12,
          163.96,
          165.88,
          166.63,
          166.33,
          162.99,
          163.78,
          166.08,
          163.59,
          163.2,
          166.39,
          162.49,
          162.68,
          163.4,
          166.49,
          165.89,
          163.86,
          163.47,
          163.67,
          163.07,
          163.31,
          165.86,
          167.15,
          163.52,
          165.06,
          166.09,
          166.42,
          163.1,
          166.72,
          168.52,
          165.99,
          167.88,
          163.58,
          163.13,
          163.85,
          166.58,
          163.7,
          166.48,
          165.98,
          162.95,
          166.54,
          166.05,
          165.74,
          165.62,
          163.25,
          165.84,
          166.6,
          165.66,
          165.74,
          164.05,
          166.7,
          168.29,
          166.5,
          163.66,
          167.96,
          163.19,
          166.53,
          165.74,
          163.18,
          163.43,
          166.4,
          163.98,
          165.98,
          165.34,
          163.62,
          163.5,
          163.71,
          166.06,
          166.81,
          166.72,
          166.25,
          166.77,
          168.47,
          167.99,
          166.55,
          163.15,
          163.72,
          166.66,
          165.68,
          168.08,
          166.45,
          166.25,
          165.48,
          163.78,
          166.47,
          165.64,
          163.26,
          165.04,
          166.26,
          167.93,
          163.48,
          165.98,
          163.67,
          163.29,
          166.64,
          166.63,
          166.43,
          166.78,
          166.59,
          166.53,
          167.9,
          168,
          168.09,
          165.05,
          166.28,
          166.33,
          166.26,
          166.11,
          163.64,
          163.18,
          163.55,
          163.94,
          167,
          166.84,
          163.45,
          163.49,
          165.85,
          166.81,
          163.46,
          167.15,
          163.85,
          163.65,
          164.97,
          163.38,
          163.57,
          162.85,
          166.27,
          166.46,
          168.19,
          163.26,
          163.63,
          163.62,
          163.6,
          163.02,
          166.76,
          165.71,
          166.3,
          168.09,
          165.52,
          163.77,
          166.52,
          166.21,
          163.71,
          166.42,
          164.1,
          163.72,
          166.02,
          166.26,
          163.78,
          166.45,
          163.75,
          164.04,
          165.85,
          163.72,
          166.62,
          166.15,
          163.53,
          168.2,
          163.73,
          168.18,
          168.17,
          163.23,
          166.06,
          167.85,
          165.49,
          163.51,
          163.61,
          163.1,
          166.44,
          166.29,
          163.63,
          168.6,
          165.5,
          162.95,
          163.86,
          163.26,
          163.87,
          166.44,
          166.64,
          163.51,
          165.89,
          163.12,
          163.54,
          166.2,
          164.01,
          163.69,
          163.58,
          166.43,
          166.12,
          166.48,
          163.58,
          163.68,
          163.57,
          166.5,
          168.5,
          167.95,
          163.09,
          166,
          163.62,
          164.09,
          166.52,
          162.48,
          162.87,
          163.51,
          165.85,
          168.05,
          166.27,
          166.39,
          163.27,
          165.35,
          163.65,
          162.95,
          163.48,
          163.28,
          165.96,
          164.14,
          166.29,
          163.7,
          165.62,
          166.39,
          166.62,
          163.86,
          164,
          163.67,
          166.63,
          166.87,
          163.96,
          165.95,
          166.09,
          163.6,
          163.79,
          163.33,
          166.25,
          163.25,
          166.62,
          163.64,
          163.77,
          166.61,
          163.77,
          162.37,
          166.34,
          166.57,
          163.65,
          166.72,
          162.66,
          165.76,
          163.28,
          165.74,
          163.76,
          163,
          166.5,
          166.14,
          164.2,
          163.37,
          163.75,
          162.42,
          166.63,
          166.58,
          165.34,
          166.3,
          165.63,
          163.63,
          165.73,
          163.27,
          162.87,
          166.7,
          165.24,
          166.31,
          163,
          166.81,
          163.89,
          163.7,
          166.7,
          163.76,
          163.46,
          163.27,
          166.13,
          166.07,
          163.85,
          163.69,
          163.25,
          166.5,
          167.24,
          166.59,
          166.28,
          166.68,
          163.62,
          166.38,
          163.83,
          166.15,
          163.95,
          163.65,
          163.8,
          162.91,
          163.45,
          163.26,
          164.08,
          163.62,
          162.41,
          167.9,
          164,
          164.03,
          162.98,
          164.21,
          163.46,
          166.55,
          163.25,
          168.16,
          166.2,
          163.5,
          165.7,
          163.28,
          163.13,
          165.59,
          163.69,
          163.51,
          166.34,
          163.69,
          163.49,
          165.2,
          166.34,
          166.43,
          166.37,
          166.38,
          166.56,
          165.93,
          166.77,
          165.77,
          168.09,
          162.87,
          163.02,
          165.84,
          165.53,
          162.95,
          166.62,
          163.55,
          162.86,
          165.59,
          165.98,
          163.18,
          166.26,
          163.95,
          164,
          164.3,
          165.85,
          165.76,
          163.37,
          165,
          162.66,
          163.7,
          164,
          163.66,
          163.14,
          167.38,
          163.46,
          166.75,
          166.33,
          166.38,
          163.25,
          163.92,
          164.07,
          162.86,
          163.59,
          165.06,
          163.86,
          166.67,
          166.67,
          163.3,
          163.57,
          165.99,
          163.43,
          163.59,
          163.66,
          166.51,
          166.4,
          166.71,
          163.44,
          165.05,
          163.55,
          166.59,
          166.61,
          163.16,
          166.16,
          163.31,
          163.26,
          165.38,
          166.49,
          163.19,
          166.74,
          163.47,
          164.03,
          167,
          163.28,
          163.26,
          166.04,
          166.67,
          163.41,
          165.54,
          166.38,
          163.39,
          168.59,
          163.57,
          166.8,
          166,
          163.18,
          168.18,
          166.5,
          164.02,
          163.82,
          163.51,
          163.22,
          164,
          164.1,
          165.66,
          163.86,
          165.35,
          165.9,
          163.82,
          166.74,
          166.69,
          163.98,
          168.23,
          162.76,
          163.02,
          163.59,
          168.08,
          163.29,
          163.78,
          166.61,
          165.51,
          163.57,
          166.48,
          168.12,
          163.83,
          163.14,
          166.5,
          166.15,
          163.46,
          163.51,
          165.1,
          164.94,
          163.71,
          166.43,
          163.71,
          163.45,
          163.42,
          163.26,
          163.54,
          163.14,
          165.55,
          163.31,
          164.2,
          166.48,
          163.61,
          163.41,
          166.2,
          166.41,
          165.02,
          162.8,
          163.45,
          167.75,
          163.95,
          162.97,
          166.53,
          165.06,
          168.03,
          166.52,
          163.1,
          163.43,
          165.08,
          166.63,
          163.47,
          163.48,
          168.4,
          163.1,
          165.89,
          165.94,
          163.05,
          164.02,
          168.06,
          162.92,
          165.88,
          166.44,
          166.52,
          163.9,
          164.99,
          166.6,
          166.33,
          163.63,
          163.77,
          163.26,
          165.5,
          163.11,
          168.17,
          165.37,
          165.79,
          163.5,
          163.4,
          166.5,
          163.28,
          163.48,
          166.74,
          165.65,
          163.4,
          166.27,
          163.37,
          163.35,
          163.84,
          168,
          163.48,
          163.14,
          163.7,
          166.52,
          167.17,
          167.03,
          165.69,
          166.6,
          166.17,
          163.57,
          163.59,
          166.49,
          165.56,
          162.89,
          163.33,
          166.05,
          163.99,
          163.97,
          167.77,
          163.74,
          166.46,
          166.05,
          168.44,
          165.51,
          167.97,
          162.83,
          163.81,
          164.77,
          165.86,
          168,
          163.88,
          163.79,
          166.76,
          163.61,
          166.13,
          163.14,
          162.86,
          166.01,
          166.55,
          166,
          165.83,
          165.39,
          163.69,
          164.96,
          165.61,
          166.01,
          163.58,
          163.64,
          163.75,
          166.57,
          165.33,
          166.73,
          166.28,
          165.54,
          163.64,
          166.16,
          165.49,
          163.26,
          166.27,
          166.56,
          166.75,
          163.69,
          163.65,
          163.78,
          163.47,
          165.6,
          165.74,
          163.32,
          163.34,
          163.94,
          163.73,
          163.65,
          166.04,
          163.46,
          163.53,
          162.85,
          167.74,
          163.75,
          163.9,
          163.42,
          163.25,
          165.89,
          166.5,
          166.07,
          163.71,
          163.08,
          166.4,
          163.66,
          164.97,
          163.79,
          162.89,
          163.29,
          168.24,
          166.18,
          163.54,
          166.31,
          163.54,
          163.3,
          162.46,
          163.64,
          167.29,
          163.5,
          162.98,
          163.27,
          163.57,
          163.16,
          166.89,
          166.55,
          163.63,
          166.59,
          162.82,
          168.02,
          166.59,
          163.31,
          163.4,
          166.23,
          163.73,
          166.73,
          166.42,
          163.7,
          163.34,
          165.49,
          167.89,
          165.49,
          167.35,
          162.88,
          163.83,
          163.47,
          165.91,
          166.99,
          163.58,
          163.7,
          163.71,
          166.55,
          167.25,
          165.58,
          166.74,
          163.63,
          163.54,
          163.55,
          164.13,
          165.52,
          166.51,
          164.96,
          163.34,
          166.61,
          163.1,
          163.24,
          163.86,
          166.41,
          166.79,
          163.6,
          166.3,
          166.6,
          166.48,
          163.78,
          163.49,
          163.25,
          167.03,
          163.92,
          163.01,
          166.24,
          166.18,
          163.65,
          163.04,
          166.56,
          166.48,
          163.24,
          163.54,
          163.41,
          168.74,
          163.47,
          163.19,
          165.65,
          165.61,
          166.69,
          166.58,
          166.88,
          163.51,
          163.75,
          163.3,
          163.93,
          165.86,
          163.23,
          166.44,
          165.79,
          166.44,
          166.26,
          165.6,
          165.49,
          166.8,
          163.36,
          165.09,
          163.33,
          163.18,
          163.47,
          165.93,
          164.01,
          165.02,
          167.1,
          163.46,
          163,
          163.66,
          166.76,
          166.74,
          166.84,
          165.64,
          163.24,
          163.36,
          165.61,
          166.02,
          162.93,
          166.54,
          166.47,
          166.41,
          163.05,
          163.87,
          165.45,
          163.43,
          163.69,
          162.97,
          165.67,
          166.66,
          163.37,
          163.72,
          163.99,
          165.51,
          164.05,
          166.58,
          163.57,
          166.44,
          165.57,
          163.87,
          163.3,
          163.96,
          163.48,
          162.5,
          163.89,
          166.47,
          168.32,
          166.96,
          163.27,
          163.22,
          167.82,
          166,
          166.2,
          165.65,
          165.77,
          163.91,
          167.6,
          164.13,
          166.65,
          163.68,
          163.54,
          166.3,
          165.8,
          165.85,
          166.96,
          167.05,
          166.16,
          166.43,
          162.5,
          166.78,
          166.18,
          167.8,
          164.15,
          165.82,
          168,
          166.45,
          166.1,
          165.81,
          165.78,
          163.47,
          162.48,
          168.35,
          163.71,
          165.82,
          163.5,
          163.32,
          163.88,
          165.63,
          163.85,
          163.27,
          163.71,
          164.01,
          166.42,
          162.83,
          165.47,
          165.34,
          163.37,
          168.22,
          163.63,
          163.74,
          164,
          167.24,
          163.21,
          163.84,
          163.5,
          165.5,
          163.7,
          167.85,
          163.24,
          165.68,
          162.83,
          165.45,
          162.32,
          166.49,
          166.02,
          164.3,
          168.25,
          163.45,
          163.33,
          166,
          163.28,
          165.85,
          165.7,
          163.57,
          166.44,
          166.54,
          163.17,
          166.5,
          163.9,
          166.59,
          166.58,
          163.48,
          163.97,
          163.33,
          166.01,
          166.04,
          165.02,
          164.02,
          165.88,
          163.39,
          165.48,
          163.64,
          163.57,
          163.87,
          165.8,
          166.27,
          163.23,
          165.83,
          163.56,
          164,
          165.96,
          162.92,
          163.77,
          163.95,
          165.4,
          162.86,
          164.18,
          163.55,
          166.79,
          166.22,
          162.92,
          167.22,
          162.5,
          163.01,
          166.32,
          165.52,
          163.58,
          163.22,
          168.1,
          166.6,
          163.46,
          164.63,
          163.67,
          163.44,
          164.93,
          166.5,
          166.29,
          168.5,
          162.77,
          163.62,
          165.44,
          166.78,
          166.48,
          163.85,
          166.76,
          163.44,
          163.96,
          167.39,
          163.38,
          163.54,
          165.56,
          167.85,
          165.88,
          166.3,
          167.11,
          163.02,
          163.45,
          163.42,
          163.16,
          165.45,
          163.57,
          164.1,
          166.2,
          165.74,
          166.25,
          163.03,
          163.79,
          163.7,
          166.55,
          163.55,
          165.89,
          165.02,
          165.69,
          165.91,
          163.47,
          163.73,
          165.62,
          163.8,
          163.39,
          166.36,
          166.5,
          163.94,
          166.1,
          165.73,
          166.29,
          163.3,
          163.37,
          166.81,
          163.44,
          166.61,
          166.51,
          167.16,
          165.18,
          163.45,
          165.09,
          163.81,
          163.32,
          163.39,
          162.96,
          165.83,
          166.6,
          163.64,
          163.41,
          163.95,
          165.63,
          167.79,
          163.39,
          163.4,
          163.4,
          166.2,
          164.98,
          163.04,
          163.2,
          164.06,
          163.78,
          166.82,
          163.28,
          163.31,
          162.64,
          163.75,
          166.24,
          163.43,
          165.08,
          164,
          163.84,
          164.5,
          163.54,
          164.14,
          163.38,
          167.93,
          163.82,
          162.97,
          166.04,
          164.25,
          163.75,
          163.7,
          163.59,
          163.59,
          165,
          163.55,
          166.16,
          164.03,
          163.21,
          163.64,
          163.58,
          163.91,
          163.25,
          167.21,
          163.58,
          163.52,
          163.38,
          163.07,
          165.47,
          162.72,
          163.38,
          163.67,
          166.07,
          163.27,
          163.48,
          166.62,
          163.57,
          163.08,
          163.94,
          163.49,
          166.67,
          163.36,
          163.5,
          163.3,
          165.52,
          166.29,
          163.15,
          166.49,
          165.92,
          166.51,
          163.69,
          163.57,
          165.9,
          163.36,
          166.38,
          166.86,
          163.48,
          163.4,
          165.02,
          165.63,
          166.81,
          165.34,
          165.9,
          163.89,
          163.47,
          165.87,
          163.63,
          162.79,
          166.66,
          162.65,
          163.32,
          163.81,
          166.62,
          166,
          164.17,
          163.26,
          166.26,
          163.84,
          165.42,
          165.58,
          163.57,
          166.4,
          164.81,
          163.42,
          165.66,
          166.15,
          163.47,
          166.6,
          166.6,
          165.76,
          163.73,
          163.42,
          166.24,
          166.73,
          163.32,
          165.83,
          166.64,
          166.38,
          168.42,
          163.85,
          162.79,
          165.89,
          165.94,
          165.01,
          166.17,
          163.44,
          168.05,
          166.75,
          163.37,
          163.87,
          163.67,
          163.93,
          163.04,
          164,
          163.76,
          163.82,
          165.61,
          162.38,
          167.88,
          163.37,
          163.05,
          165.42,
          163.97,
          163.57,
          163.69,
          163.1,
          167.95,
          166.28,
          166.45,
          166.29,
          168.17,
          165.63,
          166.68,
          166.69,
          163.07,
          167.71,
          164,
          163.77,
          162.48,
          165.18,
          166.63,
          165.57,
          165.61,
          163.08,
          166.38,
          163.25,
          166.03,
          163.5,
          167.91,
          166.79,
          166.57,
          165.69,
          165.67,
          166.59,
          166.52,
          163.54,
          164.14,
          165.94,
          163.45,
          163.65,
          166.06,
          166.71,
          163.34,
          167.87,
          166.4,
          165.58,
          166.57,
          166.3,
          165.05,
          165.86,
          165.45,
          165.92,
          163.3,
          163.27,
          165.8,
          166.42,
          166.63,
          163.31,
          166.4,
          163.55,
          163.55,
          163.14,
          163.46,
          163.78,
          163.1,
          163.55,
          166.2,
          163.83,
          163.07,
          165.99,
          163.43,
          163.66,
          165.87,
          166.24,
          163.45,
          163.01,
          165.63,
          163.48,
          165.7,
          163.36,
          163.5,
          167.89,
          163.23,
          165.97,
          165.71,
          164.99,
          162.99,
          163.51,
          166.68,
          168.92,
          163.36,
          166.96,
          163.36,
          166.27,
          163.15,
          166.63,
          165.88,
          163.48,
          166.37,
          163.55,
          163.99,
          168.53,
          163.48,
          163.43,
          165.77,
          166.39,
          163.2,
          163.55,
          163.4,
          165.59,
          166.45,
          166.05,
          163.8,
          166.49,
          166.73,
          166.21,
          163.9,
          163.47,
          163.01,
          166.4,
          167.17,
          164.42,
          165.6,
          168,
          163.67,
          163.09,
          166.28,
          165.5,
          166.2,
          163.16,
          163.63,
          166.2,
          165.02,
          163.24,
          168.15,
          165.95,
          163.65,
          166.19,
          163.19,
          163.74,
          163.31,
          166.81,
          163.97,
          166.52,
          163.45,
          165.96,
          166.45,
          163.56,
          163.54,
          163.33,
          166.85,
          166.54,
          166.17,
          163.85,
          163.21,
          164,
          165,
          165.66,
          163.71,
          166.17,
          163.6,
          163.39,
          166.78,
          162.95,
          163.36,
          166.66,
          163.44,
          166.37,
          163.23,
          163.4,
          166.78,
          163.64,
          166.57,
          163.91,
          163.97,
          163.5,
          163.83,
          166.29,
          163.26,
          163.9,
          163.41,
          163.02,
          163.73,
          168,
          168.02,
          165.34,
          163.34,
          166.36,
          163.64,
          162.98,
          166.39,
          163.35,
          163.58,
          163.96,
          163.26,
          164.16,
          167.95,
          166.08,
          167.2,
          163.83,
          163.25,
          163.86,
          167.01,
          163.34,
          166.38,
          163.01,
          163.42,
          166.73,
          166.01,
          163.95,
          163.63,
          167.21,
          163.15,
          163.5,
          166.63,
          165.8,
          166.14,
          163.44,
          162.86,
          166.5,
          166.53,
          166.44,
          163.48,
          166.05,
          166.3,
          165.57,
          166.32,
          168.21,
          166.23,
          163.41,
          164.04,
          166.14,
          166.63,
          166.74,
          165.59,
          166.55,
          163.66,
          166.21,
          163.54,
          163.84,
          163.62,
          166.38,
          163.1,
          163.37,
          163.59,
          168.57,
          163.4,
          166.45,
          162.85,
          163.87,
          166.01,
          165.01,
          165.66,
          163.51,
          163.37,
          163.76,
          164.59,
          163.5,
          166.72,
          162.71,
          167.06,
          166.43,
          166.59,
          162.89,
          166.5,
          167.95,
          164.5,
          166.82,
          166.68,
          165.95,
          165.19,
          162.97,
          162.47,
          168.44,
          165.5,
          162.98,
          165.81,
          164.01,
          164.03,
          166.21,
          166.62,
          166.82,
          166.69,
          162.95,
          162.34,
          165.02,
          164.99,
          166.78,
          165.76,
          168.25,
          165.94,
          162.63,
          163.82,
          166.51,
          163.41,
          168.39,
          163.2,
          165.04,
          166.27,
          163.75,
          166.07,
          162.88,
          163.17,
          166.7,
          163.68,
          168.09,
          166.5,
          163.47,
          165.63,
          163.76,
          168.19,
          167.21,
          163.68,
          166.65,
          168.24,
          163.58,
          163.88,
          163.03,
          165.49,
          166.5,
          163.39,
          163.4,
          166.54,
          166.45,
          163.25,
          165.98,
          165.95,
          164.96,
          162.83,
          166.63,
          163.24,
          163.11,
          163.65,
          163.45,
          163.35,
          166.03,
          163.78,
          163.97,
          163.96,
          165.53,
          163.51,
          165.94,
          163.52,
          168.35,
          163.69,
          162.97,
          166.5,
          163.58,
          166.38,
          163.44,
          166.41,
          163.37,
          166.69,
          165.65,
          163.15,
          163.75,
          163,
          163.07,
          162.29,
          166.95,
          163,
          163.59,
          166.63,
          166.78,
          165.55,
          165.17,
          163.08,
          163.84,
          166.29,
          166.69,
          165.92,
          165.45,
          163.73,
          164.2,
          166,
          163.46,
          163.5,
          162.85,
          163.34,
          163.04,
          163.03,
          166.23,
          163.6,
          165.79,
          163.8,
          168,
          168.06,
          166.02,
          163.97,
          166.17,
          163.65,
          163.97,
          163.63,
          164.93,
          163.42,
          166,
          163.96,
          165.96,
          163.69,
          166.68,
          163.12,
          165.97,
          166.73,
          163.71,
          163.97,
          163.32,
          163.37,
          166.92,
          165.99,
          165.84,
          165.73,
          166.62,
          163.76,
          167.33,
          163.99,
          163.31,
          164.03,
          163.94,
          163.37,
          163.4,
          167.02,
          163.59,
          166,
          163.33,
          165.84,
          164.06,
          165.9,
          166.77,
          163.62,
          162.9,
          162.69,
          162.65,
          163.59,
          166.5,
          165.57,
          165.3,
          165.55,
          166.11,
          166.19,
          162.78,
          166.04,
          163.7,
          163.58,
          162.97,
          165.8,
          163.85,
          164.18,
          166.43,
          164.04,
          165.9,
          163.63,
          166.44,
          163.91,
          166.5,
          163.82,
          168.19,
          166.06,
          165.97,
          164.01,
          165.64,
          163.36,
          163.47,
          164.97,
          165.77,
          163.34,
          163.4,
          166.35,
          163.99,
          163.6,
          165.94,
          167.86,
          163.85,
          163.76,
          165.06,
          163.09,
          165.46,
          168.4,
          163.41,
          163.36,
          165.03,
          162.63,
          163.56,
          163.22,
          166.34,
          163.81,
          163.36,
          166.44,
          165.81,
          166.63,
          165.7,
          163.52,
          163.47,
          166.6,
          163.84,
          165.88,
          163.32,
          163.7,
          162.81,
          165.76,
          163.47,
          162.63,
          165.11,
          166.41,
          166.55,
          164.07,
          166.03,
          163.85,
          164.67,
          168.24,
          164.13,
          163.75,
          167,
          163.56,
          166.46,
          163.46,
          166.71,
          163.98,
          164.1,
          166.65,
          165.8,
          167.98,
          163.83,
          164.92,
          166.85,
          165.3,
          163.88,
          163.59,
          166.49,
          163.01,
          166.6,
          165.81,
          163.35,
          163.91,
          162.9,
          168.12,
          163.38,
          165.55,
          165.77,
          163.08,
          163.54,
          163.03,
          165.58,
          166.8,
          166.52,
          166.5,
          167.97,
          163.8,
          166.38,
          165.63,
          165.98,
          163.87,
          165.9,
          163.11,
          163.29,
          166.13,
          163,
          163.82,
          166.11,
          166.55,
          165.17,
          165.98,
          166.28,
          166.26,
          165.78,
          163.22,
          163.56,
          163.55,
          164.12,
          163.35,
          163.7,
          163.87,
          165.44,
          163.71,
          166.38,
          166.2,
          167.2,
          162.98,
          165.8,
          163.34,
          163.49,
          163.39,
          165.91,
          165.56,
          166.46,
          163.25,
          163.45,
          163.4,
          163.7,
          163.06,
          163.99,
          166.06,
          163.88,
          165.64,
          163.1,
          163.55,
          163.5,
          163.5,
          163.36,
          162.89,
          163.46,
          165.49,
          164.02,
          168.04,
          164.1,
          166.54,
          167.99,
          166.7,
          163.55,
          165.88,
          166.76,
          163.24,
          162.63,
          166.41,
          163.12,
          163.58,
          162.88,
          166.01,
          163.98,
          163.04,
          166.59,
          163.99,
          163.8,
          165.52,
          163.57,
          166.55,
          163.49,
          166.67,
          163.39,
          163.28,
          163.59,
          166.76,
          163.9,
          166.27,
          163.16,
          163.99,
          162.86,
          164.64,
          162.96,
          163.11,
          165.61,
          163.92,
          166.78,
          163.57,
          163.06,
          166.46,
          166.04,
          166.36,
          166.73,
          162.6,
          167.99,
          163.2,
          165.95,
          163.1,
          163.72,
          166.05,
          165.5,
          166.54,
          163.88,
          166.26,
          163.72,
          166.04,
          166.2,
          163.74,
          165.89,
          166.64,
          164.12,
          163.76,
          165.67,
          165.85,
          166.05,
          164.04,
          163.94,
          166.12,
          164,
          163.85,
          163,
          166.55,
          163.91,
          164.93,
          165.33,
          165.83,
          163.98,
          166.9,
          163.46,
          166.18,
          165.44,
          166.01,
          164.1,
          163.74,
          167,
          162.91,
          163.16,
          163.38,
          165.38,
          163.46,
          165.6,
          164.23,
          165.88,
          165.76,
          162.86,
          165.59,
          163.09,
          163.56,
          168.17,
          167.09,
          162.75,
          166.07,
          168.39,
          166.95,
          165.37,
          163.43,
          166.08,
          163.01,
          163.35,
          167.21,
          163.9,
          168.3,
          166.1,
          165.61,
          163.35,
          166.29,
          163.05,
          166.53,
          165.41,
          166.75,
          163.39,
          166.5,
          163.65,
          163.47,
          166.06,
          163.19,
          163.1,
          165.89,
          165.95,
          163.86,
          163.1,
          163.96,
          165.76,
          163.56,
          166.85,
          163.54,
          163.09,
          164.03,
          165.77,
          168.01,
          165.8,
          165.79,
          164.13,
          163.27,
          163.24,
          163.46,
          166.3,
          163.77,
          163.43,
          166.69,
          163.37,
          163.31,
          168.07,
          167.87,
          163.13,
          163.4,
          164.3,
          163.95,
          166.54,
          165.67,
          163.53,
          163.44,
          163.21,
          165.72,
          163.79,
          163.47,
          163.92,
          163.75,
          166.25,
          165.9,
          166.04,
          165.94,
          163.62,
          163.4,
          166.72,
          165.76,
          165.52,
          163.36,
          165.87,
          167.08,
          163.68,
          163.87,
          166.77,
          168.22,
          168.02,
          163.97,
          166.02,
          166.78,
          165.82,
          162.49,
          166.74,
          165.8,
          163.49,
          163.64,
          166.06,
          166.8,
          166.25,
          165.7,
          163.57,
          163.39,
          166.43,
          166.36,
          164.84,
          166.68,
          166.55,
          164.1,
          163.63,
          166.69,
          163.56,
          163.41,
          167.85,
          163.34,
          163.96,
          163.69,
          165.74,
          162.93,
          163.85,
          165.69,
          166.76,
          167.03,
          163.73,
          163.43,
          165.51,
          164.03,
          165.67,
          165.83,
          163.63,
          163.34,
          163.01,
          166.32,
          165.45,
          163.55,
          164,
          166.2,
          165.76,
          165.63,
          163.76,
          163.23,
          165.85,
          166.62,
          167.95,
          162.93,
          168.34,
          163.02,
          166.36,
          164.01,
          165.85,
          166.53,
          166.76,
          166.03,
          164.01,
          166.5,
          166.81,
          163.24,
          163.31,
          164,
          165.54,
          166.48,
          165.6,
          166.54,
          162.99,
          166.55,
          165.86,
          164,
          163.44,
          163.25,
          163.55,
          168.13,
          163.94,
          163.42,
          163.72,
          167,
          164.91,
          162.88,
          163.29,
          166.6,
          166.21,
          168.31,
          166.44,
          163.7,
          165.55,
          163.22,
          163.55,
          166.22,
          163.56,
          163.73,
          166.95,
          163.99,
          168.3,
          166.52,
          166,
          163.24,
          163.74,
          165.56,
          163.31,
          166.08,
          165.22,
          163.01,
          168,
          162.98,
          162.86,
          163.19,
          163.09,
          163.39,
          166.8,
          168.48,
          163.13,
          163.12,
          165.34,
          164.08,
          166.49,
          166.43,
          164.91,
          166.59,
          163.29,
          162.81,
          166.46,
          166.37,
          163.13,
          168.18,
          165.47,
          163.4,
          163.24,
          165.91,
          163.41,
          163.44,
          163.68,
          163.35,
          168,
          163.62,
          166.25,
          165.49,
          163.57,
          165.99,
          166.21,
          167.99,
          165.56,
          165.8,
          168.26,
          165.88,
          163.52,
          163.58,
          165.41,
          163.05,
          163.57,
          166.4,
          166.46,
          165.92,
          165.3,
          164.05,
          166.1,
          165.02,
          163.16,
          163.79,
          163.91,
          163.23,
          162.9,
          164,
          163.68
         ],
         "yaxis": "y"
        }
       ],
       "layout": {
        "legend": {
         "tracegroupgap": 0
        },
        "margin": {
         "t": 60
        },
        "template": {
         "data": {
          "bar": [
           {
            "error_x": {
             "color": "#2a3f5f"
            },
            "error_y": {
             "color": "#2a3f5f"
            },
            "marker": {
             "line": {
              "color": "#E5ECF6",
              "width": 0.5
             },
             "pattern": {
              "fillmode": "overlay",
              "size": 10,
              "solidity": 0.2
             }
            },
            "type": "bar"
           }
          ],
          "barpolar": [
           {
            "marker": {
             "line": {
              "color": "#E5ECF6",
              "width": 0.5
             },
             "pattern": {
              "fillmode": "overlay",
              "size": 10,
              "solidity": 0.2
             }
            },
            "type": "barpolar"
           }
          ],
          "carpet": [
           {
            "aaxis": {
             "endlinecolor": "#2a3f5f",
             "gridcolor": "white",
             "linecolor": "white",
             "minorgridcolor": "white",
             "startlinecolor": "#2a3f5f"
            },
            "baxis": {
             "endlinecolor": "#2a3f5f",
             "gridcolor": "white",
             "linecolor": "white",
             "minorgridcolor": "white",
             "startlinecolor": "#2a3f5f"
            },
            "type": "carpet"
           }
          ],
          "choropleth": [
           {
            "colorbar": {
             "outlinewidth": 0,
             "ticks": ""
            },
            "type": "choropleth"
           }
          ],
          "contour": [
           {
            "colorbar": {
             "outlinewidth": 0,
             "ticks": ""
            },
            "colorscale": [
             [
              0,
              "#0d0887"
             ],
             [
              0.1111111111111111,
              "#46039f"
             ],
             [
              0.2222222222222222,
              "#7201a8"
             ],
             [
              0.3333333333333333,
              "#9c179e"
             ],
             [
              0.4444444444444444,
              "#bd3786"
             ],
             [
              0.5555555555555556,
              "#d8576b"
             ],
             [
              0.6666666666666666,
              "#ed7953"
             ],
             [
              0.7777777777777778,
              "#fb9f3a"
             ],
             [
              0.8888888888888888,
              "#fdca26"
             ],
             [
              1,
              "#f0f921"
             ]
            ],
            "type": "contour"
           }
          ],
          "contourcarpet": [
           {
            "colorbar": {
             "outlinewidth": 0,
             "ticks": ""
            },
            "type": "contourcarpet"
           }
          ],
          "heatmap": [
           {
            "colorbar": {
             "outlinewidth": 0,
             "ticks": ""
            },
            "colorscale": [
             [
              0,
              "#0d0887"
             ],
             [
              0.1111111111111111,
              "#46039f"
             ],
             [
              0.2222222222222222,
              "#7201a8"
             ],
             [
              0.3333333333333333,
              "#9c179e"
             ],
             [
              0.4444444444444444,
              "#bd3786"
             ],
             [
              0.5555555555555556,
              "#d8576b"
             ],
             [
              0.6666666666666666,
              "#ed7953"
             ],
             [
              0.7777777777777778,
              "#fb9f3a"
             ],
             [
              0.8888888888888888,
              "#fdca26"
             ],
             [
              1,
              "#f0f921"
             ]
            ],
            "type": "heatmap"
           }
          ],
          "heatmapgl": [
           {
            "colorbar": {
             "outlinewidth": 0,
             "ticks": ""
            },
            "colorscale": [
             [
              0,
              "#0d0887"
             ],
             [
              0.1111111111111111,
              "#46039f"
             ],
             [
              0.2222222222222222,
              "#7201a8"
             ],
             [
              0.3333333333333333,
              "#9c179e"
             ],
             [
              0.4444444444444444,
              "#bd3786"
             ],
             [
              0.5555555555555556,
              "#d8576b"
             ],
             [
              0.6666666666666666,
              "#ed7953"
             ],
             [
              0.7777777777777778,
              "#fb9f3a"
             ],
             [
              0.8888888888888888,
              "#fdca26"
             ],
             [
              1,
              "#f0f921"
             ]
            ],
            "type": "heatmapgl"
           }
          ],
          "histogram": [
           {
            "marker": {
             "pattern": {
              "fillmode": "overlay",
              "size": 10,
              "solidity": 0.2
             }
            },
            "type": "histogram"
           }
          ],
          "histogram2d": [
           {
            "colorbar": {
             "outlinewidth": 0,
             "ticks": ""
            },
            "colorscale": [
             [
              0,
              "#0d0887"
             ],
             [
              0.1111111111111111,
              "#46039f"
             ],
             [
              0.2222222222222222,
              "#7201a8"
             ],
             [
              0.3333333333333333,
              "#9c179e"
             ],
             [
              0.4444444444444444,
              "#bd3786"
             ],
             [
              0.5555555555555556,
              "#d8576b"
             ],
             [
              0.6666666666666666,
              "#ed7953"
             ],
             [
              0.7777777777777778,
              "#fb9f3a"
             ],
             [
              0.8888888888888888,
              "#fdca26"
             ],
             [
              1,
              "#f0f921"
             ]
            ],
            "type": "histogram2d"
           }
          ],
          "histogram2dcontour": [
           {
            "colorbar": {
             "outlinewidth": 0,
             "ticks": ""
            },
            "colorscale": [
             [
              0,
              "#0d0887"
             ],
             [
              0.1111111111111111,
              "#46039f"
             ],
             [
              0.2222222222222222,
              "#7201a8"
             ],
             [
              0.3333333333333333,
              "#9c179e"
             ],
             [
              0.4444444444444444,
              "#bd3786"
             ],
             [
              0.5555555555555556,
              "#d8576b"
             ],
             [
              0.6666666666666666,
              "#ed7953"
             ],
             [
              0.7777777777777778,
              "#fb9f3a"
             ],
             [
              0.8888888888888888,
              "#fdca26"
             ],
             [
              1,
              "#f0f921"
             ]
            ],
            "type": "histogram2dcontour"
           }
          ],
          "mesh3d": [
           {
            "colorbar": {
             "outlinewidth": 0,
             "ticks": ""
            },
            "type": "mesh3d"
           }
          ],
          "parcoords": [
           {
            "line": {
             "colorbar": {
              "outlinewidth": 0,
              "ticks": ""
             }
            },
            "type": "parcoords"
           }
          ],
          "pie": [
           {
            "automargin": true,
            "type": "pie"
           }
          ],
          "scatter": [
           {
            "fillpattern": {
             "fillmode": "overlay",
             "size": 10,
             "solidity": 0.2
            },
            "type": "scatter"
           }
          ],
          "scatter3d": [
           {
            "line": {
             "colorbar": {
              "outlinewidth": 0,
              "ticks": ""
             }
            },
            "marker": {
             "colorbar": {
              "outlinewidth": 0,
              "ticks": ""
             }
            },
            "type": "scatter3d"
           }
          ],
          "scattercarpet": [
           {
            "marker": {
             "colorbar": {
              "outlinewidth": 0,
              "ticks": ""
             }
            },
            "type": "scattercarpet"
           }
          ],
          "scattergeo": [
           {
            "marker": {
             "colorbar": {
              "outlinewidth": 0,
              "ticks": ""
             }
            },
            "type": "scattergeo"
           }
          ],
          "scattergl": [
           {
            "marker": {
             "colorbar": {
              "outlinewidth": 0,
              "ticks": ""
             }
            },
            "type": "scattergl"
           }
          ],
          "scattermapbox": [
           {
            "marker": {
             "colorbar": {
              "outlinewidth": 0,
              "ticks": ""
             }
            },
            "type": "scattermapbox"
           }
          ],
          "scatterpolar": [
           {
            "marker": {
             "colorbar": {
              "outlinewidth": 0,
              "ticks": ""
             }
            },
            "type": "scatterpolar"
           }
          ],
          "scatterpolargl": [
           {
            "marker": {
             "colorbar": {
              "outlinewidth": 0,
              "ticks": ""
             }
            },
            "type": "scatterpolargl"
           }
          ],
          "scatterternary": [
           {
            "marker": {
             "colorbar": {
              "outlinewidth": 0,
              "ticks": ""
             }
            },
            "type": "scatterternary"
           }
          ],
          "surface": [
           {
            "colorbar": {
             "outlinewidth": 0,
             "ticks": ""
            },
            "colorscale": [
             [
              0,
              "#0d0887"
             ],
             [
              0.1111111111111111,
              "#46039f"
             ],
             [
              0.2222222222222222,
              "#7201a8"
             ],
             [
              0.3333333333333333,
              "#9c179e"
             ],
             [
              0.4444444444444444,
              "#bd3786"
             ],
             [
              0.5555555555555556,
              "#d8576b"
             ],
             [
              0.6666666666666666,
              "#ed7953"
             ],
             [
              0.7777777777777778,
              "#fb9f3a"
             ],
             [
              0.8888888888888888,
              "#fdca26"
             ],
             [
              1,
              "#f0f921"
             ]
            ],
            "type": "surface"
           }
          ],
          "table": [
           {
            "cells": {
             "fill": {
              "color": "#EBF0F8"
             },
             "line": {
              "color": "white"
             }
            },
            "header": {
             "fill": {
              "color": "#C8D4E3"
             },
             "line": {
              "color": "white"
             }
            },
            "type": "table"
           }
          ]
         },
         "layout": {
          "annotationdefaults": {
           "arrowcolor": "#2a3f5f",
           "arrowhead": 0,
           "arrowwidth": 1
          },
          "autotypenumbers": "strict",
          "coloraxis": {
           "colorbar": {
            "outlinewidth": 0,
            "ticks": ""
           }
          },
          "colorscale": {
           "diverging": [
            [
             0,
             "#8e0152"
            ],
            [
             0.1,
             "#c51b7d"
            ],
            [
             0.2,
             "#de77ae"
            ],
            [
             0.3,
             "#f1b6da"
            ],
            [
             0.4,
             "#fde0ef"
            ],
            [
             0.5,
             "#f7f7f7"
            ],
            [
             0.6,
             "#e6f5d0"
            ],
            [
             0.7,
             "#b8e186"
            ],
            [
             0.8,
             "#7fbc41"
            ],
            [
             0.9,
             "#4d9221"
            ],
            [
             1,
             "#276419"
            ]
           ],
           "sequential": [
            [
             0,
             "#0d0887"
            ],
            [
             0.1111111111111111,
             "#46039f"
            ],
            [
             0.2222222222222222,
             "#7201a8"
            ],
            [
             0.3333333333333333,
             "#9c179e"
            ],
            [
             0.4444444444444444,
             "#bd3786"
            ],
            [
             0.5555555555555556,
             "#d8576b"
            ],
            [
             0.6666666666666666,
             "#ed7953"
            ],
            [
             0.7777777777777778,
             "#fb9f3a"
            ],
            [
             0.8888888888888888,
             "#fdca26"
            ],
            [
             1,
             "#f0f921"
            ]
           ],
           "sequentialminus": [
            [
             0,
             "#0d0887"
            ],
            [
             0.1111111111111111,
             "#46039f"
            ],
            [
             0.2222222222222222,
             "#7201a8"
            ],
            [
             0.3333333333333333,
             "#9c179e"
            ],
            [
             0.4444444444444444,
             "#bd3786"
            ],
            [
             0.5555555555555556,
             "#d8576b"
            ],
            [
             0.6666666666666666,
             "#ed7953"
            ],
            [
             0.7777777777777778,
             "#fb9f3a"
            ],
            [
             0.8888888888888888,
             "#fdca26"
            ],
            [
             1,
             "#f0f921"
            ]
           ]
          },
          "colorway": [
           "#636efa",
           "#EF553B",
           "#00cc96",
           "#ab63fa",
           "#FFA15A",
           "#19d3f3",
           "#FF6692",
           "#B6E880",
           "#FF97FF",
           "#FECB52"
          ],
          "font": {
           "color": "#2a3f5f"
          },
          "geo": {
           "bgcolor": "white",
           "lakecolor": "white",
           "landcolor": "#E5ECF6",
           "showlakes": true,
           "showland": true,
           "subunitcolor": "white"
          },
          "hoverlabel": {
           "align": "left"
          },
          "hovermode": "closest",
          "mapbox": {
           "style": "light"
          },
          "paper_bgcolor": "white",
          "plot_bgcolor": "#E5ECF6",
          "polar": {
           "angularaxis": {
            "gridcolor": "white",
            "linecolor": "white",
            "ticks": ""
           },
           "bgcolor": "#E5ECF6",
           "radialaxis": {
            "gridcolor": "white",
            "linecolor": "white",
            "ticks": ""
           }
          },
          "scene": {
           "xaxis": {
            "backgroundcolor": "#E5ECF6",
            "gridcolor": "white",
            "gridwidth": 2,
            "linecolor": "white",
            "showbackground": true,
            "ticks": "",
            "zerolinecolor": "white"
           },
           "yaxis": {
            "backgroundcolor": "#E5ECF6",
            "gridcolor": "white",
            "gridwidth": 2,
            "linecolor": "white",
            "showbackground": true,
            "ticks": "",
            "zerolinecolor": "white"
           },
           "zaxis": {
            "backgroundcolor": "#E5ECF6",
            "gridcolor": "white",
            "gridwidth": 2,
            "linecolor": "white",
            "showbackground": true,
            "ticks": "",
            "zerolinecolor": "white"
           }
          },
          "shapedefaults": {
           "line": {
            "color": "#2a3f5f"
           }
          },
          "ternary": {
           "aaxis": {
            "gridcolor": "white",
            "linecolor": "white",
            "ticks": ""
           },
           "baxis": {
            "gridcolor": "white",
            "linecolor": "white",
            "ticks": ""
           },
           "bgcolor": "#E5ECF6",
           "caxis": {
            "gridcolor": "white",
            "linecolor": "white",
            "ticks": ""
           }
          },
          "title": {
           "x": 0.05
          },
          "xaxis": {
           "automargin": true,
           "gridcolor": "white",
           "linecolor": "white",
           "ticks": "",
           "title": {
            "standoff": 15
           },
           "zerolinecolor": "white",
           "zerolinewidth": 2
          },
          "yaxis": {
           "automargin": true,
           "gridcolor": "white",
           "linecolor": "white",
           "ticks": "",
           "title": {
            "standoff": 15
           },
           "zerolinecolor": "white",
           "zerolinewidth": 2
          }
         }
        },
        "xaxis": {
         "anchor": "y",
         "domain": [
          0,
          1
         ],
         "title": {
          "text": "index"
         }
        },
        "yaxis": {
         "anchor": "x",
         "domain": [
          0,
          1
         ],
         "title": {
          "text": "close"
         }
        }
       }
      },
      "text/html": [
       "<div>                            <div id=\"d1cfe368-a227-4508-8470-c31b53c60d33\" class=\"plotly-graph-div\" style=\"height:525px; width:100%;\"></div>            <script type=\"text/javascript\">                require([\"plotly\"], function(Plotly) {                    window.PLOTLYENV=window.PLOTLYENV || {};                                    if (document.getElementById(\"d1cfe368-a227-4508-8470-c31b53c60d33\")) {                    Plotly.newPlot(                        \"d1cfe368-a227-4508-8470-c31b53c60d33\",                        [{\"customdata\":[[50.08183306055646,0.5680852991672404],[49.35483870967747,-1.1485056568125263],[49.1085899513776,0.4557244992848551],[42.31701405719829,-1.1782947165388624],[57.22863741339489,1.145853140511071],[49.45107398568015,0.35897779222795523],[48.41121495327108,-1.0668675525550317],[54.62392108508015,0.8126429204749162],[53.48088531187122,0.2618902789665487],[45.77861163227014,0.5988840626315761],[44.14292175486204,-1.2289617224839369],[59.75409836065573,1.731520345807318],[45.99171998494544,-0.8985582314353492],[51.64969450101833,-0.6819205546408238],[49.446337308347545,0.8312738723601005],[52.458276950834474,0.7083601512373355],[57.774465971187276,0.6008917351076667],[50.43731778425649,0.5748598226970943],[43.46733668341708,-1.5632768954893637],[41.619097042034255,-1.253195261594968],[51.151801535735345,-0.7784912723709851],[42.60929909784871,0.5044088230252367],[63.152709359605915,0.5365480285926754],[62.63736263736269,0.8846689994022905],[35.01427212178869,-1.083017993790787],[55.82147477360936,1.629155239237882],[51.46094215861661,0.7442229123566272],[42.68656716417912,-0.9615386480171475],[59.049079754601195,0.6361865506161567],[50.528634361233436,-0.9303139484262722],[55.54235946159938,0.622137263900944],[46.126622099882034,-0.8185771078295165],[44.591439688715965,-1.107553032847952],[49.431818181818144,0.4648123170800424],[51.026392961876844,-0.6773684214145756],[44.49522226838388,0.3535638387128554],[48.67564046895351,0.5239671262872097],[49.16666666666668,-1.2175597024380862],[50.385273972602754,1.168134674083567],[49.957555178268294,-1.116538103014093],[53.1585220500596,1.7632980350538279],[49.35448174105497,-0.860406557279644],[53.160511363636374,0.15789521839051454],[45.332837486054295,-0.7553197020759159],[54.82820976491861,0.9010821121382134],[51.63776493256261,0.8303257351358163],[53.5012967765839,1.4264883384307459],[54.75919605612443,0.027783157192622643],[43.692430917100495,-0.9841222450915089],[50.02292526364051,-1.1354692795957833],[46.27895515032029,0.635164713705291],[57.71358328211433,0.3144551603783075],[46.37336504161712,-0.7779576255655214],[46.263345195729556,-1.5455117397564029],[38.072453861927464,-0.9766841977377334],[45.1219512195122,-0.042685955442496266],[36.46546359676414,-0.5962842690941764],[42.89897510980956,-0.5457385306915639],[50.77989601386485,-0.43647193290455516],[63.42780026990553,1.894699568834494],[51.692047377326595,1.3837936229436214],[50.412541254125394,0.8147702858594174],[55.39437896645513,0.25254052946836997],[54.749103942652354,-0.6949017157213084],[48.55334538878846,-1.0034585401489111],[56.1970746728253,1.1383604677487202],[49.35767410412441,-0.8081770123080804],[49.863945578231316,-0.6976536897776311],[55.258358662613944,0.33502817150577174],[36.179921773142176,-1.1378096775482125],[40.176322418136,-0.6364251940846118],[42.4183006535948,-0.4450778352761461],[52.88403157255621,1.2237829789860057],[51.38643067846607,-0.2677842517194757],[58.310477235326395,1.1864098772633933],[50.06570302233896,1.4289598860426616],[60.91127098321356,1.0390979143428292],[47.97724399494314,-1.1791441066505324],[44.57912457912461,-0.6159371564080476],[60.59782608695656,0.9176888393568738],[49.38949938949943,-0.7666576904445477],[47.8991596638655,-1.0775636066479344],[50.76574021554165,1.0391091567633013],[46.205472379969024,-1.4619995992388801],[40.92970521541953,-1.1244114596038781],[40.829074389551415,-0.6409123841880521],[50.39215686274508,1.1680767827426988],[58.21064552661374,0.8892070526999197],[50.211640211640244,-0.24779304278887618],[42.319011183048815,-0.5412699373262119],[50.27210884353736,-0.39993608723258056],[49.5640509725017,-0.6702195004680727],[37.12374581939804,-0.48039545306284087],[65.88124410933082,1.1017509034246036],[69.08625106746369,1.788528597989357],[50.41039671682628,-0.5528584435750007],[44.5294567712318,0.34539356519353054],[50.74074074074081,0.8974321276950402],[60.847457627118544,1.1344104969624889],[48.74405974202306,-0.9823090368717493],[58.40220385674935,1.223333219333212],[64.08268733850134,1.79280097336173],[56.192236598890965,0.3286430829936383],[54.81410867492847,1.179757428652415],[42.55939974989579,-1.2984413911540396],[49.06295050456508,-1.3017667747009758],[46.97348674337166,-0.779325646162869],[51.12955278930385,0.5486780876833052],[44.38943894389439,-0.926045087084584],[57.13080168776369,0.5128290999613784],[48.202137998056344,0.2735506379451515],[37.23062815222372,-1.2994779982156854],[51.20244862264971,0.5799406753645778],[45.73823940381933,0.4948520775416542],[56.17848970251714,0.32295200802882484],[57.259475218658906,0.4192695537705376],[48.40425531914895,-1.1817056681816887],[48.01714898177919,0.45802940443029366],[58.7666263603386,0.8591998536746066],[47.21088435374151,0.224985326206989],[49.15966386554629,0.17002227955884083],[54.25038639876361,-1.0512356556205944],[50.66666666666665,1.0247270771244368],[58.54961832061061,1.9223791122417007],[52.6063100137174,0.5212770082638098],[44.335260115606914,-1.3973948546902621],[62.246489859594405,1.364297626729311],[43.81130312937878,-1.3945682880283021],[49.85410587744895,0.4011124682278789],[50.167785234899355,-0.09132016804169828],[45.136778115501514,-1.3853989442667187],[48.7540192926045,-1.0695805285663509],[49.40476190476194,0.496364765075426],[41.721091048789866,-0.7889151077890084],[49.0091463414634,0.3119837811427131],[53.49417637271216,0.11332477892647926],[39.888164026095055,-0.807528969368507],[50.92207019631173,-0.867435489668365],[39.692982456140385,-0.6324099052592926],[51.04986876640418,0.9631422633873434],[63.51451973194338,1.474120474459137],[62.3963828183873,1.2655482083486593],[49.30362116991641,0.7959244892324079],[65.72717023675321,1.0013663087197675],[64.52742123687288,1.808145883765579],[65.75505350772895,1.2561797998322288],[68.01968019680201,0.3448623057034695],[48.466257668711684,-1.444950908791639],[50.042480883602344,-1.1453197653999765],[52.4271844660194,0.3496943542487576],[45.51231135822081,-0.365866360632734],[54.5637583892618,1.0426214495160389],[50.62266500622661,0.047324386716179875],[48.348157560355745,-0.053160408015310925],[39.90546927751516,-0.4887744578463709],[36.868371802869596,-1.2749214519836078],[49.76851851851848,0.3862982467487318],[58.46363018354854,-0.013281541279491554],[48.60774818401935,-1.3571469694252636],[44.72656249999999,-0.3569913623724618],[51.85897435897431,0.39057295688420335],[49.49562878278411,1.456132395506794],[41.605426794799335,-1.3903493661707365],[49.32466233116556,0.34288734062072757],[45.79656293543892,-1.101286158470702],[48.78772884710537,-1.1395918325597771],[50.40728318160035,0.9571440607739383],[52.468827930174584,0.8040861718414969],[58.86961387800788,0.6808961183963704],[55.291970802919735,0.8153693807997843],[51.07073329007143,0.5739430503258184],[44.927536231884034,0.45161064833701003],[70.61567164179118,1.1843106318269576],[62.139423076923194,1.2366784833393485],[86.22950819672164,1.1298541063384688],[60.045662100456774,-0.8007916083178016],[47.28915662650611,-0.17921582117398518],[47.75449101796419,-0.5116264717477692],[48.70229007633576,-0.5483873960698077],[44.72440944881899,-0.6564868205292153],[32.908458864426365,-2.246222486555125],[31.450719822812886,-1.9049759266053303],[22.914072229140757,-1.365533385205369],[25.600961538461505,-0.9724479766398318],[45.17271922054913,0.8025278615385499],[60.642092746730036,0.8217579829334788],[36.6130558183538,-1.136957663641051],[36.553030303030326,-0.973265545254093],[48.4046692607004,0.5750885859184048],[52.56222547584183,1.1431394343627168],[49.38101788170571,-0.8333383911676429],[61.17051209904332,1.3572158014029798],[50.72463768115937,-0.6165264349232834],[49.29302779132133,-0.7774232804564557],[44.5924347362813,-0.04336567409507012],[41.435643564356425,-0.9955119632072722],[50.3529411764706,-0.7411124289256467],[48.190045248868735,-1.0444292563535003],[51.12059765208115,1.0917386007108494],[49.026154702281595,1.0253308137147155],[64.46483180428132,1.7210165886357325],[38.94258101193856,-0.8303261059971798],[49.24965893587995,-0.6363988117559177],[49.89633724948168,-0.5189430945532217],[44.798785117691715,-0.5152565719757335],[48.51973684210532,-0.8151001285774229],[60.15276893698282,1.211471257925745],[58.91521197007487,0.532694085470171],[50.113550340651024,0.7286099054424999],[55.50303848750845,1.4157738817326866],[41.46964856230033,0.09245258312029823],[52.04490777866889,-0.7154689564723208],[59.73063973063982,0.9063558518443157],[58.54785478547859,0.5996573076205005],[50.311968235961466,-0.9368445974298394],[58.60323886639674,0.6033697193772246],[42.74809160305342,-0.923419707310819],[44.36898698358796,-1.2889702678805615],[49.27760577915377,0.36762101312629064],[44.868199663488454,0.5010724476783185],[45.09582863585115,-1.059780915702176],[57.181136120042844,0.9887712698212082],[42.557764642665184,-0.9920701044958546],[44.163528778913324,-0.802656971170872],[55.97765363128491,0.6627549115131776],[42.20554272517321,-0.8888278665902299],[57.03910614525145,1.2151932456976742],[56.753752084491424,0.8828322303565731],[43.20043691971595,-1.1171541447301057],[54.265611257695696,1.85095761402699],[49.89890820865344,-0.9107985317292007],[53.26291965296118,1.5918853646397875],[59.277917716204826,1.3088124561825643],[48.577449947312964,-1.102014598410679],[50.3560528992879,0.22618436252672902],[57.08404802744424,0.9742687842056226],[48.02516602586509,-0.21428915800610127],[45.617529880478074,-1.200087734737375],[50.144927536231904,-0.9800008266309289],[39.121160409556374,-1.0450034108905681],[56.073509636934105,0.38070071804006184],[44.75291504719598,0.4128252799004718],[39.01258470474351,-0.921061967018141],[62.977283711938114,1.5163367742108926],[48.66412213740458,0.12014571740516343],[38.720073664825065,-1.2148988775544243],[45.97927972372968,-0.6309916113836422],[49.33827421916359,-0.8093615510102775],[50.670103092783485,-0.38783587541373205],[57.78191985088535,0.9120617750631114],[50.54585152838425,0.8681331623447808],[43.47417840375588,-0.874927623031696],[55.37583254043764,0.48312692256724626],[35.441020191285915,-0.9188005784792472],[43.92812887236677,-0.6790776357868639],[60.0,1.1389750307014317],[50.42783799201362,-0.3052277993554404],[51.246376811594224,-0.5994032540070405],[49.134328358208975,-0.65636749700014],[49.97064004697595,1.18927242105142],[48.483080513418955,0.8253346579003606],[60.33402922755746,1.070018084194913],[42.243116185359334,-0.7935992626109561],[52.291325695581044,-0.7381456031712138],[50.12594458438288,-0.6877833544952534],[51.231527093596114,1.236139299165668],[68.72393661384498,1.953365643033234],[67.43044189852701,1.4072427854662277],[48.5562757807896,-1.125616124416795],[48.73752201996475,0.2898302759674158],[43.45549738219894,-0.9834038796498246],[43.779281624154116,-0.6241137028402669],[57.84418356456776,0.6420972384078591],[47.35449735449732,-1.228168001090146],[48.47560975609759,-0.9800922536888063],[42.767295597484264,-0.662078296538418],[43.69347929557353,0.3731221856197171],[50.22065313327453,1.290500105261021],[58.12053115423902,0.6287375810934407],[51.16140559857054,0.8236957221514377],[49.001711351968076,-0.9114180375510402],[53.291536050156715,0.27868769277903604],[42.205323193916314,-0.6821689576165039],[51.5593895155939,-0.9826817778706056],[52.00525969756735,-0.5754034851385433],[49.221394719025085,-0.7533753112170694],[50.36399735274657,0.6729136107534897],[36.72776646300056,-0.456050789350549],[50.06622516556285,0.8205922337089476],[42.34490608992602,-0.628205674057604],[57.17776420280999,0.8511505041859666],[53.4528552456839,1.4398204636678582],[60.92715231788075,1.3331314132627912],[52.90734824281157,-0.5777880378330827],[51.70380078636963,-0.5050634891494871],[51.267056530214376,-0.8323400131025748],[52.13784301212504,1.209956265931596],[59.68772178850252,1.184873249925765],[42.15488215488222,-0.8776119918086068],[57.89473684210526,0.4913876164655909],[51.88452285485164,0.6149500349430727],[40.16913319238905,-1.2584497184485144],[39.999999999999964,-0.9573258874262195],[47.76371308016877,-1.0845610739938667],[57.68967874231032,1.0293187781844637],[48.78612716763009,-1.0747567711988646],[49.971767363071734,1.08367152781877],[42.10268948655252,-0.9076120835879713],[49.462365591397855,-0.687602501699782],[51.78185745140396,1.3305154036774736],[44.533459000942536,-0.6720480413242967],[46.94485842026828,-1.3610594298459324],[55.332496863237154,1.2338703069994776],[56.84121621621616,1.1560663918715453],[44.51013513513516,-0.6317930578751467],[57.30526315789472,1.0522192387898321],[41.89852700490998,-1.153009919232312],[54.31596091205213,0.5205799349662831],[49.08955778520994,-0.7901185941371267],[48.36034677723332,0.5825240837746913],[49.980522010128524,-0.6058457336397217],[51.25848981222533,-0.9015885207834969],[50.325732899022796,1.054579957421573],[49.12920210611582,0.712262324817032],[51.15984816533105,-0.40935357670625694],[42.19841639496973,-0.8014819273686756],[53.06351883080384,-0.5541797866085983],[39.57553058676653,-1.2476797396059953],[59.43661971830983,1.3861359015604306],[52.73794002607563,1.243847506092808],[55.41095890410964,0.3613650543239489],[61.14864864864868,0.932800378606233],[46.36591478696741,0.41404064520546513],[40.778839088905265,-0.949652642871385],[55.55555555555556,0.525865619026694],[49.67532467532469,-1.0051407372174144],[47.146562905317786,-1.1318104306348982],[61.941964285714306,1.11973303943651],[45.41858932102838,0.13538024518497224],[49.16615194564543,0.7019354170388622],[43.592552026286945,-1.409390965847456],[51.207958313595434,1.1779488510449598],[46.275684931506824,-0.6996946569803456],[50.16241299303943,-0.6936265644990852],[52.16035634743876,1.1926974215619877],[51.06846925425204,-0.683874412636016],[51.29215943933422,-0.7457498772930992],[41.063053673788474,-0.8655743818898743],[52.16124332200094,0.7932374248403748],[49.38712972420835,0.8187935932786633],[52.29853975121686,-0.5981232071522372],[39.48787061994606,-0.5820819692311507],[47.411003236246,-0.9167036145565055],[59.079118028534424,1.4397697940072203],[52.051671732522884,1.5621309245162187],[63.01747930082805,0.9684086677685969],[62.959558823529385,0.8143551791243824],[65.3742110009017,0.9057158997403512],[38.88396811337473,-1.0525837398870348],[51.10793423874197,0.5885924927109848],[49.930167597765426,-0.9889943976892458],[57.463592233009734,0.533259787229265],[51.91885964912277,-0.9228395182041456],[40.680183126226304,-1.1158968787891919],[38.29931972789116,-1.0918119314756538],[37.68406961178043,-1.3878007341864054],[40.67237969676989,-0.8962281310675543],[38.56951871657747,-0.8727894192988586],[51.80817610062896,-0.17908271726609318],[36.75623800383883,-0.40676928415999203],[42.18061674008805,-1.3174833090413882],[57.14285714285711,2.548604738211839],[50.179211469534096,-0.06575703202185508],[51.388888888888864,0.08030327951336132],[47.187928669410084,-0.6256092898303073],[54.356568364611284,0.23396259244212014],[50.03304692663588,-0.28844208429325674],[59.123682750970616,1.5440040391027112],[47.97659678205751,-0.5758278765234953],[59.094551282051235,1.8920672964820784],[57.37067288992606,0.7513273592210508],[40.40139616055847,-0.6222641381888628],[54.00565504241278,0.38410377271515767],[48.41168996188056,-0.8083134466626454],[50.33025099075299,-0.8312683981480993],[52.88220551378445,0.5393200762136101],[50.4583499402152,-0.6251410986050139],[43.14697926059509,-0.6853534402608552],[57.116536158452334,0.8385382149746528],[38.50899742930592,-0.5917197302641584],[42.34030525720752,-0.7322247615976609],[55.0898203592814,0.6080748924508836],[52.046035805626644,1.4926551333375324],[61.83320811419985,1.2895695904612103],[62.25416036308624,1.1533440988222734],[53.6675951717734,0.9836864149836578],[65.85635359116023,0.956898469507005],[62.736842105263236,0.45366870072101917],[52.86284953395478,0.9267488056000983],[67.7474402730377,-0.002272144800868124],[78.82205513784461,1.6924891229094612],[39.86074847693654,-2.089156250441192],[34.19047619047623,-1.8586006723859707],[47.77021919879061,-0.016227683417712135],[46.884272997032625,-0.17968913919079066],[39.31464174454827,-1.524945963608259],[50.153531218014336,0.646538972610714],[44.585987261146514,-0.9917516872453618],[41.044434264773265,-1.156368497243902],[49.617996604414245,0.3483560894966589],[45.12251502542762,0.6181493884119273],[50.80687142113484,-0.8272969572557096],[57.31707317073168,1.122497758172057],[45.631067961165016,-0.4482322623245833],[46.420215255030406,-0.49336504654115365],[53.535882661079164,-0.19440321784043757],[47.731290512669375,0.9108086308196094],[57.898498927805534,0.7106787682469663],[51.62523900573612,-0.9510091422265532],[47.97806716929402,0.2688873765710813],[39.96372430471583,-1.6154239732701898],[51.75913396481726,-0.652190260515544],[40.58333333333337,-0.2943221741216734],[48.55433698903294,-0.6480055820035308],[45.904761904761834,-0.9945772853203382],[60.664819944598285,2.195864415292655],[42.8911362284355,-0.6499311847727255],[52.47376311844081,1.4195169995823282],[58.20399113082042,1.091426651275269],[54.19198055893074,1.0566656615938717],[51.71014492753624,-0.8471430114576267],[50.65165876777252,-0.38288021170895997],[50.20920502092048,-0.38653772079651166],[47.72727272727276,-1.0757148847985387],[51.26333520494109,-0.5966267869058333],[42.287234042553166,0.23376100003206052],[51.62337662337666,-0.5639045661044473],[49.662162162162105,1.3546758649136161],[51.488616462346656,1.1347226529437153],[39.55223880597013,-0.9279107632962124],[51.346801346801335,-0.6171181256688061],[57.59354365370519,1.1741774688078885],[48.0049875311721,-0.7354491020058423],[52.43495663775849,-0.589238744248417],[50.24424284717373,-0.5071678864013817],[54.61489497135581,1.3119535887411258],[58.686730506155975,1.0392390433541387],[50.16501650165025,1.0886828881413622],[39.506172839506185,-0.9863617392367829],[56.419662509170955,0.12778785735412362],[49.932705248990644,-0.7433682301479163],[51.93798449612402,1.1785783736432753],[62.287480680061854,1.0066686470847306],[48.67529266789893,-1.1195607782427415],[56.524008350730675,0.6881095228669835],[41.649269311064764,-1.1594522332398516],[41.78010471204187,-1.1422665885820815],[46.81970349115254,0.2714977280918078],[58.13333333333333,0.9934124599017553],[45.4500978473581,-0.9959133393669872],[57.09204090706979,1.1487157341238952],[43.13380281690142,-0.8425819187197013],[44.453998280309534,-0.5289247387667954],[58.428446005267766,1.2925274197872691],[43.87234042553194,-0.8442770080024138],[49.87905176584419,-0.8665203124071856],[55.94017094017093,0.9028929149634063],[52.94386125057049,1.0949705160030265],[43.5993349958437,-0.9381773429621793],[55.13324595893402,0.3815941951216324],[49.108027750247736,0.915291541759326],[49.79899497487434,-0.977860461545132],[59.29095354523227,1.9028915163729518],[43.55020684467845,-0.8331527838147875],[56.743295019157095,0.7916352041630613],[55.0967261904762,0.41996461046744654],[44.68796433878161,-1.1358953034342703],[52.41291147331418,1.3496823874179769],[55.20026926960619,0.4314229942988172],[47.47172322022625,-0.7517558860946332],[45.64921821889872,-0.8906824415276747],[50.224382946896036,-0.9237297881193467],[37.70041227668347,-0.9108726048046804],[51.22228538942582,-0.5615782777402123],[40.6639004149377,-0.38402963100144716],[48.88304862023652,0.4519983279546362],[52.394366197183125,-0.5208215824368381],[36.763330215154255,0.48335021472215095],[46.86192468619249,0.711129353952093],[48.90829694323135,-0.6162672814144328],[62.28956228956236,2.0116531250018195],[63.68330464716009,1.554976030698128],[52.70655270655267,-0.6019100296781046],[62.07881210736718,2.0093849603087905],[47.07167832167831,-1.457141073199876],[43.883225208526454,-1.1817899134820062],[49.336609336609314,-0.8030141216365826],[55.84582441113493,1.5071637308729293],[45.27002537151141,-0.9276918435784074],[49.92307692307694,-0.6023825841303908],[49.749131609417226,0.7621244314191947],[47.811572700296736,0.15891834105817415],[49.217258495609016,-0.6780284606888933],[46.47887323943663,0.7922974191175115],[62.74976213130349,1.32731481687044],[51.61676646706587,-0.5353031793756786],[49.10607866507744,-0.9169084782852274],[46.71381031613976,0.6836523796770249],[57.29591836734695,0.3971870921051095],[49.26605504587158,-0.9245347208900466],[41.85068349106199,-0.9163973043500493],[48.94925679138904,-0.03969302061578711],[53.863508178229004,-0.054556150556442806],[41.370716510903485,-0.724857799876253],[45.06713368359604,0.8177095851826427],[49.61439588688945,-0.7360769525448315],[51.02445472571052,-0.8228839619030544],[36.94915254237281,-0.8038970382587388],[37.55383290267003,-0.943111974706244],[50.43478260869556,-0.6031209632901618],[48.06282722513087,-0.839123753321913],[52.16972034715533,1.3066093653706539],[43.45381526104422,-0.7548653710952079],[52.02312138728315,0.1389619050247979],[50.21422450728357,1.8541870638199216],[49.57698815566839,-0.4547493751109525],[49.829931972789154,-0.49730560796065093],[59.57300275482093,1.697641438898326],[60.809883321894304,1.4946019175211092],[54.71938775510209,0.3811978651760036],[49.028571428571496,-1.2113372317756288],[43.32909783989825,-0.7320782651087138],[62.47191011235957,1.8050359654149006],[49.39642684693385,-0.4756679426519937],[40.958268933539415,-1.0474326872172832],[57.263681592039774,0.962215069500354],[53.86055217594761,0.18088248918210417],[54.24593967517404,1.5738976279600896],[50.24070021881841,0.6289077032465574],[46.14147909967843,-1.0759593489200951],[51.37016093953893,-0.7646916925555062],[53.39724885368908,0.1003273762732252],[47.363465160075314,0.7726452733168585],[48.834951456310705,-0.9465421613935865],[51.299032093734056,-0.8032518066598844],[54.45450214387805,1.6191107720272164],[46.05157131345687,-1.0966056562095787],[45.65746753246751,0.3689610901332723],[48.748921484037936,0.3546325087215228],[49.88962472406185,-0.9893147160852582],[51.26663804207815,-0.3516219849620184],[55.80218068535825,1.5664809050491102],[43.662453023573605,-1.058482568905893],[54.145166838665276,0.40815498723089444],[54.9966239027684,0.702869711573513],[46.20661824051656,0.6228654006247735],[51.809954751131244,-0.7545130135051762],[47.79411764705888,-0.041837133678583584],[51.502732240437155,0.7888944063991082],[58.47983453981386,0.5883106176781417],[49.07451352634074,-0.9387643144003983],[37.50728013977874,-0.9314835354216874],[51.355661881977674,-1.1626507475004342],[48.39255499153978,0.37153868712924126],[37.802197802197895,-1.365726400039189],[54.42834138486306,1.8135412792094603],[53.907496012759175,0.17134050236026876],[52.20507166482906,0.4857550007991601],[41.76408076514346,-0.9475284912487906],[42.14477211796244,-0.8898783708279384],[57.53280839895016,0.9984750055727221],[48.892905558065955,-0.8141097673271758],[50.50412465627865,-0.6800680116303839],[52.71453590192648,1.1007640760083603],[55.896007428040846,0.36648883818642464],[37.266417512012836,-0.8527202460496351],[52.39361702127662,0.6844335198454036],[44.31390977443612,-0.9505593498932423],[49.60547080483954,-0.8259405420866797],[51.13402061855669,-0.3918489027658777],[53.665689149560116,1.8682954885546335],[50.459558823529385,-0.7551876439748335],[49.22374429223744,-0.8051220686101137],[42.0833333333333,-0.5012613620154668],[52.07835642618251,1.006189984183235],[59.75168132436621,1.3259685887874535],[52.28915662650599,1.1182701643750024],[57.71276595744678,0.3086467524317474],[60.200878844946644,0.7858473949466925],[57.34089477000625,0.4416294023364001],[34.52131376659676,-1.055676214421805],[50.56065239551484,-1.0194646712426572],[63.540824575586186,0.7635166808638324],[57.299843014128776,0.08239236444572237],[35.58379666401896,-1.636486259932602],[34.491114701131025,-1.2972389976194074],[46.724598930481335,0.45237026741500513],[44.579081632653114,-0.732168995083139],[41.10885733603792,-0.6183811529314021],[54.405286343612374,1.7191260942320639],[50.433894844308355,-0.6519032943536421],[56.43786451323462,1.0536954593165997],[48.88888888888889,0.6706091130743473],[56.77328316086545,1.6970535044498705],[56.087360594795534,0.11162019256023391],[59.85556499575188,1.2773345139999415],[43.79815100154084,-1.3880745460071588],[49.63826366559484,-0.9224788825168048],[51.5491866769946,-0.3557054954857956],[45.86758978797058,0.142497470747402],[60.03770028275211,1.0991827136779206],[44.29708222811668,-0.9254091939293412],[44.93273542600892,-0.9781333602754924],[46.32867132867131,0.5964189283063018],[45.88744588744593,-0.9310708138207379],[46.02763385146803,0.5095061347417476],[50.73774393146114,-1.0363873382927353],[47.66125061546039,-1.0442174545960008],[52.755555555555524,0.691268187780692],[51.571753986332574,0.8681342850212768],[45.08840864440078,0.4696405543314959],[55.9414990859233,0.3695521055054179],[54.77326968973746,0.27666506547382996],[40.09038089089735,-0.8963207333664633],[54.95958853783981,-0.08452854609992116],[47.78534923339021,0.48323499804138625],[65.68306010928968,0.6606313737110373],[53.1858407079646,-1.07357674928991],[35.56638246041406,-1.1086585378021416],[32.005141388174664,-1.1955698447397567],[52.83582089552236,1.2301265084083852],[47.75179856115107,0.2765732596555385],[55.546357615894095,1.4109082129043702],[61.95752539242857,0.9640541717451333],[52.81553398058247,0.3330903422841387],[41.471861471861274,-1.2431296655361754],[50.54864667154355,0.7462387481959076],[58.01847187237618,0.21331062565476286],[48.6505681818182,-1.3087429955017709],[57.420494699646675,0.8106739823287037],[49.965397923875464,0.8814945715003208],[55.29850746268652,0.8882803866345165],[39.907038512616246,-1.410673557717369],[41.023890784982974,-1.2287135274038374],[43.73219373219377,-0.9605500281211858],[49.317269076305266,-1.0028885879670406],[47.67827529021558,0.5347508135861553],[51.08412836079791,0.5230630341769377],[50.25597269624574,-1.0702814895726933],[33.21878579610538,-0.8994177991858598],[35.508849557522126,-0.5347888442308277],[33.33333333333333,-0.5639751825542366],[49.671052631579016,-0.5030521253167244],[64.1755634638196,1.8709440474958106],[48.52941176470592,-0.6729204189350907],[50.281954887218056,-0.5907226503790046],[35.03808487486398,-1.1124321506160564],[57.17360114777618,2.2240543941517084],[51.38620245003226,-0.3481374736260793],[51.790281329923275,-0.1476824053943008],[48.324742268041206,-0.5026831137386182],[48.44961240310081,-0.6184752753207428],[56.20842572062079,1.1015534136709477],[51.41451414514148,1.256403380881773],[59.24875974486172,0.8411141100990259],[50.5487804878049,-0.4995765569207718],[50.703363914373135,-0.8609921004870443],[45.466847090663045,1.0051593185144712],[49.66740576496672,-0.6956503995195514],[53.64193328795097,0.3179413761891147],[51.20207927225473,-0.5787893718617786],[48.88337468982626,-1.1325108033824547],[40.6340057636888,-0.8322884598209762],[54.774972557629,1.9599088087687866],[50.27707808564235,0.7387608385986214],[49.57774465971183,-0.6552858487109542],[57.25190839694652,0.9547374842774263],[43.41620626151012,-0.6476979724002562],[49.06347554630597,-0.8054579261900516],[43.30666666666671,-1.0940900921896313],[49.59999999999999,-0.4089625452398212],[60.23255813953488,1.431912133137241],[50.42185616713542,-0.5250476060582862],[37.145650048875815,-0.8006983320370755],[42.21508828250403,-0.6489020844606413],[50.09174311926606,-0.3644423473452678],[38.74195854181554,-0.5077845418939541],[61.20401337792643,1.650170393689505],[60.79734219269106,1.4075046721564841],[53.41506129597196,-0.3310504193514368],[57.800105764146004,1.1904045215583743],[38.25538623226484,-0.9522073854590928],[61.05675146771038,1.582067302997755],[58.45433255269323,0.9279830814990143],[50.08216926869349,-0.7570495674567123],[49.647741400745986,-0.7409023668276891],[55.78154425612051,0.6188707085316247],[43.759873617693536,-0.7185419550133452],[50.32165832737667,0.7429384283624006],[55.4986204178163,0.6047074710087537],[44.24990051730996,-0.7732167782832293],[51.19705340699819,-0.9468764256602588],[43.2244242099625,0.2864805014514937],[53.309572301425625,1.3688344336149472],[55.81023454157786,0.18299998905752135],[59.62006819288847,1.235830460169704],[42.44474515110509,-1.3432693395954631],[50.24248302618822,-0.8363494556730657],[40.934371523915466,-0.8904392794498039],[48.731974142217815,0.4093395178451122],[58.906334596643276,1.013462006082976],[50.55762081784388,-0.8061705382294674],[45.40790148794246,-0.7377220963043373],[37.77777777777783,-0.762082389995363],[53.021664766248584,0.8090267893161015],[49.69474969474971,1.2936487774093801],[59.94108983799711,0.3027069655583062],[60.55112400290064,1.0584413178737704],[50.48367593712213,-0.9331160284582056],[41.649048625792794,-0.9611112356777364],[36.89024390243904,-0.9633737683295036],[52.67249757045668,-0.5000542931749493],[57.87197231833917,0.5069555573336307],[61.164274322169,1.0078427542433996],[42.9333333333333,-0.12761948563366068],[33.93590797041905,-1.2265537551759158],[53.74001452432825,1.034140539174776],[38.70967741935481,-1.2041837200518744],[48.51711026615975,-0.9356544306094485],[51.16959064327493,-0.375380385849248],[58.816276202219434,1.3486047675341046],[58.30212234706615,1.33380943200755],[44.612794612794566,-0.8476948555344284],[49.462365591397905,0.85342988843931],[54.4857768052516,0.9529237264971929],[59.35637663885572,0.8791375829592472],[41.27082048118442,-0.7645067563472617],[51.501154734411145,-0.9607992773893741],[50.03819709702058,-0.9411913930746364],[59.75384615384613,1.21005793200197],[42.5936942296252,-0.7722363850050409],[39.10034602076125,-1.245917791030293],[57.59493670886079,0.7360050741838167],[49.59294436906375,0.7538896834685163],[41.3081909251621,-0.8536892150161592],[40.14891179839636,-1.0452927500356435],[57.60393873085337,1.146657137385316],[58.27338129496395,1.0968250481191288],[49.9762695775985,-0.873811475518949],[40.079590676520745,-0.6949286760035215],[48.25462012320332,-0.7882419530274096],[65.05517603783503,2.05442191173251],[43.42667299477929,-0.6891268429963238],[42.977923907937985,-0.8487729732813847],[54.712535344015066,0.47262410818203404],[56.22276029055695,0.48492894869708464],[50.356946732564516,0.9089352385259144],[50.27412280701761,0.7150109983766755],[61.8954248366013,0.8529468942309842],[49.91834512792596,-0.8113761308269198],[50.91991341991342,-0.7216772148093837],[29.999999999999957,-0.9442160860803734],[52.56696428571435,-0.642809476460453],[62.582469368520385,0.6763458485985752],[38.775510204081534,-1.0872329312306686],[52.97491039426518,0.9080345949865987],[46.67159763313608,0.45154476406613553],[49.502133712659976,0.824699729283578],[47.77618364418937,0.7456783346188249],[59.30543187889579,0.3670840178047547],[57.83783783783786,0.40207055872754965],[64.63210702341132,1.1871951686609439],[48.07041299932298,-1.3614271960959985],[47.357584076870246,-0.2192085786649261],[50.36496350364972,-1.528015111910601],[34.680451127819566,-1.3450470194891577],[38.715953307392994,-1.1768896703362517],[47.89081885856083,0.6426160709419838],[41.865509761388275,-0.6633934318356323],[47.95486600846268,0.17633837323566254],[54.98452012383897,1.6169314470849145],[40.96320346320345,-0.8660299093301521],[48.83870967741931,-1.0066214500343995],[45.04504504504502,-0.43324016519094793],[60.875079264426056,1.5630215146530124],[61.381074168797966,1.331139435669629],[60.90614886731394,1.1652354024509468],[48.978153629316346,0.32505369265742445],[47.37559645535111,-1.19174423022057],[43.97677793904208,-0.9475303084121887],[44.65949820788536,0.3558225515053336],[61.94029850746273,0.549834422130754],[49.73782771535583,-1.1352953011087812],[58.83435582822087,0.9221069822190797],[48.90730972117561,0.7422026053103492],[48.76033057851235,0.5803892009792461],[38.56366928183464,-1.372225030303102],[44.533662754786945,-0.7218068739780311],[57.18932986337016,0.3880089879420246],[50.20266357845974,-0.8470977073947771],[43.71727748691091,-0.7150218758660943],[40.218088518280865,-1.1556567285867132],[59.013157894736835,0.6397198869203548],[50.47694753577108,1.2136528621452165],[40.18987341772149,-0.9385236829029636],[41.640770665009285,-0.5839244030744508],[53.61538461538463,-0.2780763301900193],[55.985401459853996,1.0130569184055305],[44.84536082474232,-0.2731853929813964],[61.17814052519523,1.526670967448532],[49.64370546318288,-0.6630747758074803],[59.136387572406534,1.2718818186564267],[49.708624708624725,0.5342701890077165],[42.19362059317294,-0.822434384377656],[49.7689768976898,-1.068802009893304],[50.77619663648127,-0.4486090402802815],[48.37268666241219,-0.866009324014372],[40.05287508261735,-1.4610388540430879],[49.468791500663926,-0.38576202781183583],[49.63600264725343,1.42106952783963],[67.02508960573478,1.9622266514634903],[52.09003215434089,1.1559212028454593],[42.46395806028838,-0.8522296576244774],[47.61204996326229,-0.7416984851055776],[62.81179138321991,1.5077017864865683],[55.4255319148936,0.5228822630325209],[57.34341252699786,0.5124004987591346],[58.70646766169158,0.17022430443097367],[55.58858501783599,0.1402847191525024],[42.04968944099377,-0.9990561032217617],[47.993311036789294,0.9760216399909797],[42.942643391521166,-0.9062308426523075],[58.95127118644067,0.6528764186632893],[51.05504587155964,-1.0049885749923422],[37.65859284890427,-1.124337565325023],[50.820568927789964,0.4708941359624784],[48.9235737351992,0.27850378028727574],[50.553097345132706,0.3275988939807181],[53.120083901415825,1.082714429052979],[59.07514450867054,1.0087673084416342],[45.03448275862071,0.3633466050612419],[60.17699115044246,0.43306406980286877],[33.6742722265933,-1.9011068039058612],[61.0556348074179,0.7467503930056734],[59.11602209944754,0.38448904674908146],[55.62218890554721,1.2415332352203794],[44.99696785930866,-1.307566850217662],[49.91717283268912,-0.09694629512492699],[52.71115745568299,1.219059345304417],[48.54651162790692,0.17046606726494756],[49.850746268656714,-0.012174804132618695],[48.459244532803176,-0.1386640894061484],[60.11097410604192,-0.1374733788866688],[38.3859649122807,-1.3852575853131028],[37.363387978142036,-1.9849003464799764],[51.45579671784008,1.3902307380326526],[48.893360160965806,-1.0334636255390417],[50.0,0.18409723326307356],[39.00293255131964,-1.0666658172670689],[41.80199057097958,-0.9997912102279388],[44.24870466321243,-0.5825835821492208],[49.56647398843929,0.48151585209171033],[45.713016437139025,-0.47474615369815626],[49.518768046198296,-0.6987190187087923],[53.04003954522991,-0.3368088218762806],[35.19781718963158,-0.17935047107303734],[60.90104585679803,1.1358350808631525],[39.25233644859815,-1.1675281590616662],[56.9219957835559,0.9755593500477705],[57.122708039492316,0.9380130887003061],[48.3643361128929,-0.7723664375834349],[56.9288389513109,2.2528756001254355],[49.48837209302326,-0.6388177767961718],[51.11745126010461,-0.4744139736436663],[50.695443645083905,-0.3185044919329727],[56.788566624632246,1.4148127660987462],[43.68358913813462,-0.9091303646878467],[52.24944320712693,-0.5361292028489935],[45.11166253101738,-0.607928584939986],[50.36330608537693,0.457467068669365],[50.755148741418736,-0.5540242262531099],[49.12529550827422,1.6116550042538382],[49.078885214926814,-0.8278010322830348],[54.127659574468076,0.6814601062987755],[47.75776159448066,-1.0269083479922436],[46.48606203376517,0.471964330762742],[48.188848188848155,-1.2410319067463398],[54.71362504446818,1.1983424338467972],[54.461756373937696,0.7789977422904574],[47.854077253218904,-0.26250067794682297],[57.55562935901696,1.6370185700059394],[42.847854356306875,-0.7737882104830724],[50.17129805862201,-0.8092072862000081],[50.60377358490565,0.6783738056130997],[50.85324232081909,-0.8373534265845979],[50.7598784194529,0.5835198693631182],[57.240788346186804,0.38864613309230417],[43.14553990610324,-0.748101895618878],[50.88607594936706,0.7599409529152764],[55.0724637681159,0.8179309403913839],[38.186046511627865,-1.079753582906326],[57.613579630554206,0.7700072998500335],[51.26610395379829,-0.6267480213419564],[51.309365290723484,1.0333148872592695],[58.32492431886986,0.8728724257162251],[44.17690417690417,-1.1057693519618623],[45.819236346060926,-0.8541779700026917],[49.37500000000006,-1.0957121082475068],[48.869016307206714,0.6589366709710879],[48.68004223864836,0.5602361969822909],[55.575647980711345,-0.05201882574976449],[41.304347826086975,-0.6270060228338437],[57.32248520710058,0.5963895575477572],[37.98798798798789,-1.1247260053226513],[46.42857142857135,0.3906491013833907],[50.56577086280055,-0.8999778079196437],[48.542274052478106,-0.8254225482743316],[52.01793721973091,-0.5987667005811588],[49.16864608076017,1.0023504503702203],[50.879877582249506,1.2003965480977365],[44.068919814446595,-1.2452950371096994],[55.4224086279209,1.0142832329148668],[43.2163742690059,-0.8326743189284606],[52.026578073089745,-0.4589909005353943],[51.6085790884719,1.1827233727151176],[47.76674937965262,-1.2824338811378702],[50.59171597633141,-0.4916372575254197],[50.23837902264596,-0.36910234111113976],[48.773006134969314,0.7079346174420175],[40.71856287425155,-1.242950195728354],[52.8528528528529,-0.12095992654383318],[42.234332425068125,-0.5152602082754838],[60.31948881789134,1.8709049288720807],[57.03422053231939,1.3532815447079651],[41.12149532710275,-1.060992184847349],[61.69749727965183,1.6193862178670966],[47.146067415730315,-1.1301774537047384],[47.918511957484505,-0.8278084665135254],[51.88216039279867,1.0163200015566698],[55.85903083700441,0.47154674750390946],[48.71355060034307,-0.561920776090499],[49.28416485900214,-0.7998977408970782],[52.65289590927501,1.6126326012377872],[50.74160811865729,0.7233417991622877],[51.06048703849179,-0.7266988769894671],[44.20062695924763,-0.06590718751797862],[53.150242326332766,-0.6151260677323419],[51.17550574084201,-0.6112699131225715],[45.78020643594417,0.13752068978110185],[52.84222737819023,0.9361841525028521],[58.73629916183101,0.8080146290308067],[65.20737327188941,1.718057683833728],[35.365183964854495,-1.2193743910347663],[41.514806378132135,-0.8191314474095922],[56.09605911330047,0.26321640538325614],[56.550883607556386,1.0243912711338048],[58.92063492063493,0.7168862082021091],[51.129476584022036,-0.7651609678712301],[54.67552376085842,0.7575848311851888],[42.823639774859274,-1.1575280923184585],[44.613962089690276,-0.7889942481547954],[47.571115973741755,1.05376719187864],[51.443445338381416,-0.9473972902269985],[49.8043052837573,-0.749962146577146],[50.29069767441861,0.3522548316702433],[52.477999073645194,1.4836297516177501],[48.71023215821154,0.2824701063888151],[55.819477434679385,0.5667221182651989],[50.92348284960428,0.9972024675181363],[48.9350912778905,-1.307798619455278],[48.700967906265866,-0.9024310385496208],[37.769562538508936,-0.9173356681971735],[49.118589743589745,-0.992330611064933],[56.53661875427789,0.35446537883950147],[43.12370421561848,-0.7594271363160906],[35.24783634933121,-0.48387279163773456],[51.24610591900309,0.7306920172028795],[47.82608695652171,0.6530896001379367],[46.58187599364062,0.9613073960058122],[50.04269854824931,-1.0103412413294766],[51.41196013289038,-0.37472608579004446],[51.15702479338843,-0.5090505995184691],[61.53846153846161,1.4679732395895926],[43.831168831168895,-0.7812537516771136],[57.313997477931906,0.8253904318907805],[52.83950617283958,0.18479260354939495],[48.273527420446875,0.5853278575237598],[50.58499655884373,0.6427338100176987],[41.555285540704716,-1.1066015130092453],[52.59259259259256,-0.7662243332063643],[56.25427204374578,0.7792487786559543],[50.30562347188271,-0.8033169380830454],[38.649425287356195,-1.0967752722686095],[60.11519078473724,1.171527881358619],[52.60906757912751,1.294661287406686],[45.96412556053807,-0.841126446880333],[51.378614660390035,0.9419107430059546],[49.40079893475364,0.5773415928018267],[60.73059360730588,0.9598754923067491],[48.645242596093325,-1.1621820471543458],[41.992882562277586,-1.0955993718015054],[59.60433950223353,1.2155537665273979],[50.13419216317771,-1.0047449917278886],[50.66383430695698,0.9703495059378595],[50.026609898882356,0.7632613226965889],[59.53791469194311,1.1186403787664951],[47.24550898203597,-0.12940231374189368],[43.68770764119602,-1.2382029429843637],[46.865203761755524,-0.10340835772159018],[51.46299483648878,-0.8256575023105058],[49.859943977591,-0.9657572006138151],[38.19060773480663,-0.9306070909820526],[47.92027729636054,-1.154859439918933],[46.53024911032029,0.7270862238731437],[50.37783375314862,1.04116805724234],[37.623066104078724,-0.7374253387451217],[42.902967121090576,-0.751722198257182],[52.21631205673759,-0.23167822851204986],[52.38515901060068,1.142345342248556],[66.31147540983608,2.056578856128255],[50.21725636250773,-0.690948124940868],[50.03115264797514,-0.6544902573838086],[51.408450704225345,-0.6607354216523302],[51.1897106109324,0.9337578987495719],[44.937499999999986,0.083798844164309],[47.99732977303073,-0.9992089525310545],[49.2957746478873,-0.7594981170237476],[50.361129349967214,-0.20965437882336788],[43.311641359363726,-0.42447989448265877],[46.702923181509185,1.3526093598016788],[49.60288808664265,-0.7179393385755249],[49.67555875991347,-0.6057514138886984],[47.3865199449793,-1.043718025946126],[40.466926070038966,-0.22164370328295388],[54.46175637393774,1.3775227492746314],[51.30086724482993,-0.47038961572185445],[55.703883495145696,0.7828735396381358],[49.82035928143712,-0.10401657244379546],[50.18094089264174,-0.2779341742122406],[41.83098591549301,0.2225814135704904],[51.11876075731493,-0.5273142769045629],[53.40442986054134,0.16938706452007307],[53.013029315960935,-0.6440663192199414],[63.295165394402034,2.4553321010367823],[43.021914648212196,-0.4793309330465091],[48.504551365409604,-1.0161679696503048],[52.8571428571428,1.1873205505685613],[50.713877784123355,-0.15271386207010845],[49.74789915966386,-0.4395009577837006],[47.679814385150785,-0.4546699529183278],[50.1525320317267,-0.5161560706883663],[48.258391386953825,-0.45677006114479457],[54.927007299270095,0.4704695046001345],[33.583208395802075,-0.5312760407452704],[59.881756756756815,1.1096674155854758],[54.03963414634149,-0.1727984019707608],[36.98252069917204,-0.9037504856910373],[46.792849631966256,-0.5741337496930721],[49.062844542447685,-0.5189033818799895],[51.122994652406476,-0.08087446860410587],[48.28282828282825,-0.8154148554160657],[63.05916305916317,2.3724935945532883],[45.58457711442787,-0.5134092284844518],[49.89788972089857,-0.5549806483475072],[38.62520458265133,-0.5608953176039089],[45.38461538461532,-0.7600190587241742],[59.43238731218697,1.2440535105828399],[46.78321678321682,-0.929508433783269],[49.32885906040262,-0.4136952318146505],[49.19246298788691,-0.18169940337846505],[58.49397590361442,1.4245749839330215],[37.240932642487046,-0.5559794015611161],[49.58402662229608,-0.42294443051816427],[60.26490066225164,2.0390133093530864],[50.52748473070516,-0.3513993159856086],[50.02748763056629,-0.6948661454167858],[45.40540540540539,-0.0687951451718706],[52.68292682926835,-0.4546560482318478],[59.75103734439836,1.7649532138231714],[49.22071392659634,-0.6242442651164875],[42.71128757799203,-0.5319285804834256],[50.099800399201605,-0.6473417798372629],[55.98591549295784,1.0347736835742167],[48.87525562372183,1.3254461415830658],[48.57723577235775,-0.8459482673946553],[59.681998864281724,1.488087192078469],[55.715935334872974,0.9251496021325081],[58.64833906071018,1.117074641407484],[41.28654970760233,-0.7531153846449239],[50.75485262401144,-0.8407306552409186],[57.453416149068346,0.7932999913949685],[50.16268980477224,-0.9846252834372708],[52.234927234927206,0.9547828757757495],[51.50395778364121,1.0951666314465864],[50.85982282438765,-1.093316127693616],[40.30131826741997,-0.9684540068056048],[47.34982332155484,-0.0196740428180123],[47.41176470588237,0.47270991029271653],[60.15625000000001,1.2056830144704571],[55.29622980251349,0.27814626831974765],[50.0,0.563362091016707],[51.83900069396243,-0.963387387654866],[37.67993226079598,-1.0775803170735525],[46.39475600873996,0.5346221788758796],[50.59571088165213,-0.9955438005436975],[47.7153558052434,-1.391455677523608],[55.256410256410206,1.303700619735758],[42.157894736842145,-1.4740139756367905],[40.562466197944815,-0.8835031300494459],[45.63106796116505,-0.4659218654326421],[51.82186234817813,1.4348639383570634],[55.74305933587374,0.9495493885833568],[51.76946410515669,-0.16124767906979867],[42.8649535265172,-0.7300184843310863],[56.90288713910759,1.0697907171939924],[52.54483761512363,-0.37944462589248773],[46.61941112322789,0.5593880273441479],[60.11042097998622,0.5421278328739928],[50.789639924194574,-0.7193142821706265],[57.12713263621354,1.1832267444576194],[44.66076696165192,-0.13854641551068506],[42.72009029345371,-1.2170750300301616],[54.10921125206841,0.6819161625407331],[58.159232072275564,1.0789535351726363],[41.97814836112714,-1.0949553006833186],[57.62430939226514,1.2251272254875014],[53.57142857142857,1.1706984107975877],[50.52325581395343,0.39418737741035953],[50.46457607433216,-1.105945170795932],[39.86394557823127,-1.1343115547023277],[54.488386691776526,0.7896629024104677],[61.0113107119095,1.1116029075681488],[42.77777777777777,-1.2081551081344524],[49.12184412733262,0.3897474944522312],[59.69418960244645,0.8846518013352307],[49.183976261127604,0.6834276603614705],[55.86340206185566,1.6891435950187006],[45.03896103896104,-1.065056850269548],[47.42888402625821,-1.3958644933251305],[55.86141433317514,0.3497576631161343],[49.18032786885242,0.28380180595552396],[45.41088580576307,-0.36090101256323165],[58.64160097028501,0.36929629306967227],[42.84859365649305,-1.1236370727990805],[53.437347635299915,1.3757593333890208],[50.85846867749421,0.560741040509522],[38.96898208824819,-1.1602373004975417],[50.05313496280556,-0.7608575613541388],[52.449888641425375,-0.7494049798444442],[43.51851851851861,-0.596690607565806],[40.914786967418564,-1.173259163885565],[46.841776110068835,-0.4817155183312731],[42.00398142003987,-0.525215276678364],[51.53225806451611,-0.42202824730959354],[37.26513569937383,0.7585149610769523],[31.01650738488287,-1.2113609168174724],[66.54438738077754,2.219391126089133],[48.58276643990931,-0.4848973901980176],[48.25450450450458,-0.6833481731847172],[53.74937091092094,0.8454143072452395],[52.27606461086639,-0.145545805600501],[48.917966784096606,-0.39260168924684075],[49.8227848101266,-0.35630269127386227],[48.22485207100592,-0.6928063006249431],[55.01285347043697,1.877091901597925],[58.953168044077174,0.8365427412415112],[45.65349544072944,0.8655806214534806],[62.066115702479344,0.6536524525057951],[68.74084919472914,1.6238753209438324],[50.75921908893713,0.18404690547845817],[60.089352196574886,0.6365568700536832],[61.96319018404913,0.5709378191177039],[48.12575574365174,-1.4048189326038947],[61.19475473530845,0.9694301295304306],[39.84575835475581,-1.140710885912738],[43.03164908384233,-1.3761422768587916],[39.62362780972296,-1.6993902450227367],[47.438855560683,-0.18058172908156989],[46.3747645951036,0.6016681659365752],[49.84817813765182,0.05766090345558192],[47.1466666666667,0.22209705230445057],[41.513869299482906,-1.136909210897591],[57.899761336515496,0.8037716168595311],[38.52880658436214,-0.8789771051784686],[55.48352242031334,0.6469321048652247],[49.35127342623736,-0.7852447155582348],[61.34559130798162,1.7454898562713526],[53.60178970917223,0.9190515036692217],[49.85795454545454,0.669300760537944],[50.2865329512894,0.06905636722670906],[50.14340344168254,0.11072772749201205],[59.08855515277056,0.6539973257188392],[50.435323383084615,0.5502549478575821],[50.91023226616445,-1.453307681813647],[43.12727272727269,-0.8964468140468819],[59.370199692780304,0.14632138388646102],[29.90990990990997,-1.3772305170490895],[34.57760314341863,-1.267813781591404],[47.93856103476157,0.5174434811546826],[54.200988467874815,1.0262200170092728],[42.479018721756056,-1.2983267882194027],[53.35078534031413,1.637755410688238],[49.70731707317072,0.6536262336304426],[55.561613958560564,0.20084019645323042],[56.486919380672724,0.8307613043697586],[51.04651162790701,0.5373600814943894],[55.012531328320875,-0.3673347766473955],[56.668678334339205,0.2025007881643613],[47.90665751544264,-0.22569274061583836],[47.25503822098672,-0.005366610428131662],[49.85337243401762,-1.8116119566690443],[24.835886214441928,-1.4758876077995775],[47.05882352941178,0.1433902449507936],[54.1999999999999,0.8255085155856217],[50.325379609544484,0.9792011789795885],[37.815810920945346,-1.542356437091542],[54.783841247342295,0.8446574098196044],[42.848297213622274,-1.1395604472827485],[43.96442185514618,-0.993903006492975],[41.13520408163264,-1.078905356374208],[50.597907324364705,-0.7372670442695243],[51.865398683247946,-0.4179481674411811],[38.57868020304563,-0.8679910580497022],[37.682403433476566,-0.5825867803854147],[48.47409510290984,1.1975761266433307],[51.97869101978695,-0.28059237020681826],[34.59759481961146,-0.736304098659349],[61.21323529411758,1.4610252492749924],[49.553571428571416,-0.4315265326536804],[51.96078431372553,-0.22380283368139944],[57.95379537953794,1.49344645255154],[58.09210526315791,1.4568781891821203],[51.010976314269186,-0.6908823302838275],[48.439306358381444,-0.9447860310148035],[48.349739432542,0.8453098984336627],[48.973607038123106,-0.7478529889117982],[57.10426796326306,0.9660619655850401],[42.66592303402121,-0.7908742671956904],[50.225660863958716,-0.7310471958499062],[60.75241484494152,2.0796275608156085],[44.03254972875222,-0.8491714106900065],[49.4487545937117,0.7392234312552457],[55.14571948998184,0.5896850346681715],[54.45143884892091,0.21447159414361086],[43.89454209065681,-1.0347908006806412],[50.07503751875939,-0.7506538911524465],[52.340019102196806,1.187981032366204],[63.33973128598846,1.8946927685718853],[49.733434881949755,-0.8153037705254469],[48.174322732626656,0.8160733315648291],[50.266284309709185,-0.9522520403176598],[50.61025223759157,0.5841182020077076],[45.335276967930014,-1.0537281388129116],[52.71523178807945,0.732119289564398],[54.99136442141622,0.33710204169650493],[49.95134609146935,-0.8065744499471236],[49.49263502454991,0.5152361336842703],[41.37487953742373,-0.9571298044014692],[51.211072664359854,-0.6131195474416591],[52.912801484230044,1.8486481352269204],[50.21126760563376,-0.9055616510470467],[44.44009397024275,-0.7877548103963287],[55.29079159935381,0.4154110904398196],[49.45205479452053,0.7610528385174408],[44.494658997534906,-1.061683125037353],[50.157021085688704,-0.7257802578908057],[42.40409207161125,-0.6898781745978427],[55.39112050739956,0.4774444742176811],[56.359875904860345,0.9708868091777225],[41.84210526315791,0.6216494888323535],[51.29032258064525,-0.6791523631449462],[60.17287234042556,1.1967524588854337],[53.709428129829924,1.1464661077116822],[49.29906542056083,0.6568061438603401],[52.92642140468236,-0.8725172939161032],[49.66777408637868,-0.9909948407419815],[48.42105263157888,-1.2793136396502067],[52.988929889298916,0.8720593460482613],[52.67459138187222,1.18328159681476],[44.84503478810871,-0.6183597938787511],[56.10583446404337,0.22657989884777904],[55.224913494809655,1.5609710339121474],[41.747572815533985,-1.0580181856946151],[41.61290322580645,-1.1739112882829057],[56.10882956878849,0.6879440765696244],[55.1185073121533,0.2718244652050977],[57.94718485301445,0.5776302177858511],[41.78498985801214,-1.2021527707092172],[40.88568486096809,-0.9942990870530725],[54.62577962577963,0.5877495971883794],[48.49272349272353,-0.029241176509823247],[37.218045112781944,-1.083817628375387],[61.66666666666676,1.6184040233371366],[56.868395773294885,0.5767984234466896],[43.40190667335674,-0.8289934841478608],[51.59059474412172,0.5981317964203127],[43.726552730304306,-1.122152237148824],[51.34883720930235,-0.6789568029886911],[49.25442684063375,-0.7948157502777934],[51.362215274676224,1.116605998682051],[47.81704781704779,-0.5882802782452132],[56.607574536663975,0.9106928059315784],[39.77371627502174,-0.7989946075410568],[50.0214684413912,0.5219090601932018],[56.51769087523272,1.0299255571885704],[43.97617956939993,-0.7902017778407491],[50.9283819628647,-0.7934281309669887],[48.89249054565101,-0.7888475148114998],[58.19444444444442,1.3289525213001654],[49.26670287887015,0.9550352705963397],[56.90087829360097,0.5971590260122808],[41.50222788033094,-0.78479773141803],[49.09638554216874,-1.1249147423334644],[41.52249134948087,-0.4994120449996922],[43.99337199668601,0.08971115788939057],[60.6707317073171,0.5759037437164041],[50.72217502124052,-0.6730432097169178],[60.12838801711836,0.9712745474861314],[37.56694720734501,-0.906658206551401],[37.85659213569768,-1.0683806024696316],[51.90744215134463,1.433412951131304],[47.42857142857141,-1.1870240481611112],[50.4342790966995,-0.7433698267006341],[56.72396359959554,1.4813753295164185],[46.45454545454545,-0.7929116605040422],[51.462711166048635,1.0817602715210863],[49.057344854673964,-0.8898597147024571],[44.02244281398365,-0.6595958547406154],[56.63052543786488,1.2593325504065265],[50.46451133407654,-0.5093373844712171],[49.60302457466917,1.0895422340163001],[51.8987341772152,-0.5066029388995151],[51.22342559165661,-0.3554527548509691],[42.8506787330317,-0.706341695332597],[51.01509630400837,-0.5240060849232674],[49.78655282817499,1.1875030753993265],[50.08051529790661,-0.8946484346659503],[51.30890052356021,-0.3388521384417696],[39.605181986428136,-0.7203772758504992],[47.6968796433879,-0.9675447160719135],[37.36654804270459,-0.31410174865366536],[65.91439688715955,2.2394462848830647],[65.80796252927405,1.9141815624719318],[56.12516644474036,0.3611715188691683],[48.53205512282801,-0.7071078432099778],[50.20289855072471,0.7991213416084698],[51.121605667060194,-0.6523849950663628],[47.28773584905656,-0.8516497001210493],[57.494969818913454,0.813870235546677],[50.73235685752326,-0.7502005079872425],[49.65986394557829,-0.6419015584141171],[38.87665198237891,-0.5008555870279],[37.367303609341825,-0.842213122211292],[46.541617819460726,-0.23039733984191665],[62.22811671087526,2.1408230266233006],[49.209039548022595,0.9060514974844341],[61.05590062111804,1.3054141466245335],[52.25943646996285,-0.5059409253487309],[40.175219023779746,-0.8129300974339058],[51.881918819188265,-0.5227842497241757],[60.41287188828169,1.2714741272717984],[48.431174089068804,-0.830421059759188],[57.058823529411804,0.7722549391377652],[47.65974765974764,-1.0575248253515914],[39.310995752713495,-0.8465941908050496],[51.436146707909806,0.8358374033669108],[47.32343679712101,0.5965905195184759],[50.28680688336516,-0.5299262079785193],[50.919651500484015,-0.5969127650356466],[57.08844688954718,1.4258559906326147],[42.13528932355341,-0.9828706276169918],[50.377002827521196,-0.7481349725812303],[50.58657907085875,1.1300608194552826],[57.43207245604695,0.5208700772694039],[57.27272727272728,0.7500854161678058],[40.906578220011056,-0.9738475968379869],[41.22562674094711,-1.267406529629164],[56.52841781874046,0.9964884561975335],[57.536382536382575,0.9645954101468592],[47.55555555555551,0.7741095339659905],[51.12627986348119,-0.9903370580330658],[57.5577949021933,0.6385664172295076],[48.82058613295216,0.6660869408218396],[49.172066234701155,0.06641249365330684],[50.629370629370655,0.6381056606751864],[67.67976278724981,1.622015027623408],[61.31631967763587,0.360467825785593],[39.01918976545847,-1.4204590852921122],[41.51329243353784,-1.2075472130580762],[49.1007194244604,0.29351106161544394],[61.083743842364505,0.6330865062544664],[52.93617021276594,0.6853771505691882],[47.19367588932805,-0.2786040444104444],[53.80434782608701,0.4566057453038277],[41.14513981358194,-1.4838775096686756],[43.622448979591866,0.2815244101448778],[41.783750763591975,-1.3170875883421809],[51.55234657039713,-0.9980194232696061],[48.437500000000064,-0.9779228762901632],[50.85106382978726,0.8317813984453697],[39.55002960331561,-1.4122324026951887],[40.117302052785945,-1.0345615351583808],[43.79652605459059,-0.7495414132021354],[55.0148957298907,2.1254082963668033],[49.42016057091884,-0.7015750890690637],[50.52356020942405,1.016904215780253],[48.55345911949686,-0.9429379035266892],[50.06105006105007,-0.28992873942022196],[54.51113627784068,0.7896750607463363],[47.23008491710472,0.18168026510349272],[55.791855203619924,0.45343723583490353],[50.291909924937414,-0.6339859422834213],[49.53974895397489,-0.7354556825140575],[37.5453133091662,-0.5351526402282122],[53.9746158984636,-0.09839614400875193],[38.662567255957,-0.7008333964577813],[65.32066508313541,1.5897604494469426],[46.28681177976953,-1.2249931060614445],[52.94447560291647,1.686069116368256],[54.06643757159226,1.05042583440199],[52.740129640542165,1.0893457711892445],[48.32613390928724,-1.11791181740995],[57.11687130513869,0.99391563014175],[59.088937093275476,1.4811925818409475],[49.82469809115699,-0.4251151949587412],[56.17100371747211,0.7264245762691574],[49.91603694374477,0.5497888873941505],[57.88704965920151,0.030281046038583257],[44.483775811209426,-0.35493093465365166],[40.66882416396977,-1.7670790628342157],[39.088983050847446,-1.630849965737213],[63.120567375886566,1.4371891822684362],[47.55859374999999,0.005937354349766314],[38.468677494199525,-1.287342652381859],[53.12947921643574,0.19236631450593486],[43.11611954924057,-0.6123132084132882],[43.46968950221784,-0.5731486708191813],[50.597976080956805,0.6721087098487194],[53.3426834969612,0.9090855101768587],[59.93804852865252,0.9496890622544629],[61.10526315789472,0.7848992556428918],[33.63148479427551,-1.199647881106066],[39.058171745152386,-1.5036320470952564],[56.98630136986307,0.06539745692071403],[46.525423728813585,0.07364962004712874],[61.74724342663279,1.0182049384908152],[56.7630961688819,0.3684363154573182],[57.78625954198471,1.5583409963918757],[47.733333333333306,0.14471107426214416],[38.43180563224739,-1.4712573306360464],[42.51434533124674,-0.7118511625667677],[59.8233995584989,0.7334301630487563],[52.59582726831633,-0.7829559507337788],[57.35486687036224,1.5289483065425764],[46.811542572141036,-1.1507393375179489],[46.906116642958736,-0.18555215064580266],[50.90010589481119,0.4020054444895935],[42.066290550070526,-0.7755157537859784],[50.22911526260133,0.41054649574762336],[50.4424778761062,-1.0773145639301949],[48.81170018281535,-0.7796563436924447],[50.33699893579284,0.9769713780946803],[50.48025613660621,-0.6842959335795896],[49.45533769063184,1.5253764624408683],[56.89223057644112,0.6069782954650607],[46.876243533625164,-0.8136025882395466],[48.77206446661547,0.31220816050623484],[50.01967729240455,-0.7158886826094595],[53.85174418604652,1.5681632406196138],[58.553931252469404,0.898899994623346],[50.89316987740809,-0.7778575152448102],[49.910682386566656,0.5725576053449003],[58.5843373493976,1.1965617098699697],[41.58895934352856,-1.0768620054698448],[44.866771159874595,-0.9429935282200348],[49.057412167952016,-1.164405161763394],[49.70389170896788,0.13246242525907612],[56.0140474100088,0.5398515368133615],[38.81640260950602,-0.9692673226553677],[40.702781844802345,-0.935618989133089],[57.11442786069649,0.7695067404712688],[49.41927990708474,0.7834214696015834],[36.74986723313857,-0.992171754644437],[57.10059171597628,0.5720517430454791],[56.22369212266985,0.793432599803257],[55.754323196183684,0.04118936712063116],[41.90997566909975,-1.3104281566135925],[50.338013520540805,1.0208638445016809],[49.615581752947264,-1.0725675522598297],[49.26133469179828,-0.9779810490137306],[41.51497357604227,-0.6547375675728939],[41.24854142357055,-0.7881816340290956],[50.35612535612534,-0.7173859442212311],[50.17869907076487,1.1692032404334394],[43.30660086366442,-0.455490136411111],[46.78780012978582,-0.21171255088366314],[54.25131677953348,-0.10102696976456635],[45.02712477396024,1.1341699806370626],[51.39318885448906,-0.5683026218187432],[61.80150125104246,1.6982700448129702],[49.53136265320838,-0.6002747711931301],[63.24324324324328,2.429834893201513],[50.73720728534259,-0.5819049059345077],[42.748815165876756,-0.9971282646515321],[56.076854334227,1.036544338394106],[49.22341696535247,-0.6367334502837723],[54.336917562724004,0.9326224491133811],[46.42979159549025,-0.789295611892303],[54.79814692256786,0.8199422911615821],[45.83198183587415,-0.8027974169346159],[54.99527261266939,0.8932558631230161],[45.1682176091625,0.33511875301429356],[48.95267649340576,-1.0167904963822632],[51.51987529228371,-0.5765655355442806],[42.351398601398586,-0.9963535232036291],[48.72690963554663,-0.9628020442360606],[38.645197112715124,-1.233684101155728],[58.89508362899138,1.4016487906643726],[41.76726219217768,-0.7318391400350202],[50.60240963855422,-0.38982377016692493],[49.83314794215795,1.3908342297995564],[53.30602691632533,1.2269431229239591],[57.58533501896338,0.6367700585620506],[54.551282051282016,0.4462466454311113],[50.23612750885483,-0.7766450544562524],[52.18377765173004,-0.3361497253078009],[60.362694300518164,0.9322870533295011],[49.13563829787237,0.9848186315141848],[62.3102866779089,0.41460717104806],[57.921635434412224,0.19906342221080686],[36.08445297504794,-1.1171794075723607],[37.98882681564237,-0.8403009495600012],[51.98938992042435,0.6281141996915295],[43.6525612472161,-1.2143007269857484],[51.83887915936947,-1.001161881180982],[45.62334217506628,-1.25440820131169],[34.22459893048139,-0.9317382437866728],[30.270270270270302,-1.057313681001877],[32.979976442874076,-0.9077911955134543],[53.475935828877006,1.5467473757817287],[49.46413849958781,-0.36721440604138744],[55.74007220216608,1.4064676158054794],[42.16524216524218,-0.22031792238773878],[64.45859872611466,2.161307947862895],[64.50381679389317,1.8075526458283873],[59.263588544710764,0.6414106679669194],[51.687198714515254,-0.4372730079856806],[57.6081672338357,0.584285843264286],[51.34315424610054,-0.8004643813964994],[44.40594059405941,-0.6975094044798729],[50.083752093802346,-0.9528830132880952],[47.47356051703881,-0.1217855732379436],[48.851269649334874,-1.0112732912890299],[43.297587131367294,0.5126541224513405],[37.869822485207116,-0.7088662168744032],[49.822064056939496,0.6775175082706275],[49.18032786885246,-0.8291760022170709],[51.42697257974263,1.67149504081998],[48.598625066102585,-1.1631027261060611],[54.664179104477604,1.1109554179390981],[57.09057639524242,1.3981738730978397],[47.41306191687872,-0.8077278578336742],[51.231527093596085,-0.6497642374237438],[43.431372549019585,-0.9823455089768046],[48.397609994568164,-0.9412876770924864],[52.40480961923843,1.4078397921838504],[56.17615467239532,0.6778134400061914],[47.338403041825075,0.5889673706688568],[60.58394160583939,0.41590593608680015],[53.134040501446506,1.022621242614944],[38.09141940657578,-0.9929180213765824],[63.9016897081413,1.342608472634526],[50.06211180124226,-0.7046709857194409],[49.96900185988844,-1.1092928017666348],[51.96428571428571,-0.6449400595567785],[38.83058470764627,-0.7638752976132551],[39.90755007704165,-1.1494772928659946],[40.51321928460348,-0.9649094015454488],[53.94013439218087,1.408274691892733],[41.98836594394502,-0.704162363720821],[56.067172264355385,0.8363568091487068],[38.61047835990889,-0.7399432380146461],[55.528989838613256,0.8221800351776111],[52.103196859226024,-0.21114529327555512],[54.934036939314,1.0734709523720265],[57.171819564115594,1.4123187827350212],[50.56028686687584,-0.7755876494981043],[48.91304347826087,-1.1504921829517087],[38.94844308320569,-1.2012544313921671],[47.09876543209877,-1.1404019159548442],[41.819416157501706,-0.446896240002307],[60.58784235136937,1.2709642336655655],[48.99178491411498,0.721212520680504],[55.21885521885526,0.448588143971819],[48.29931972789118,0.6362699331572539],[46.693386773547104,0.8660980394374849],[68.5962373371925,0.8897574337381616],[49.37499999999997,-1.0862410939239202],[63.241106719367615,0.8760470097330683],[53.51170568561868,-0.6750411615967628],[49.964614295824525,-0.8536179134342758],[35.080304311073476,-1.3392264840883978],[50.83758193736351,0.5863833050908206],[45.29526281635296,-0.7199463293120836],[45.57779212395093,-0.3814550103915397],[50.93131548311988,1.2106697094154484],[44.484350949204725,-0.4386395446862385],[58.69565217391303,0.9492920590250125],[42.89085545722718,-0.6097267056402474],[57.864523536165315,1.3392489787490414],[50.83207261724656,-0.5065300577031088],[58.092618065107715,1.306762493832435],[45.4293628808864,-0.7417341418106275],[59.01162790697673,1.9766037152366458],[53.632148377125176,0.5386916906603231],[49.03035413153456,0.37595663753506225],[49.935594675826536,-0.9510977965280999],[49.436253252385036,0.20693487276836467],[49.41482444733424,-1.279232899842166],[42.70986745213549,-1.0229975011625718],[52.740434332988634,-0.14892233200215635],[47.920227920227944,0.4283929142863236],[48.61271676300581,-1.1493104136298737],[31.562740569668975,-0.9390213215261212],[51.049963794351896,0.8434024554047455],[43.84328358208957,-0.581789924011928],[48.58718125430738,-0.76292110806671],[50.985545335085455,1.2506757821097894],[65.14131897711977,2.034152612913505],[51.01279317697227,-0.5391354590615665],[46.51296829971181,-0.6329158641537588],[48.0112044817927,0.1657532231257451],[49.28119608970673,-1.047245306025469],[55.22842639593908,0.5498605801975592],[55.205688166582036,1.879698537474235],[48.70071684587811,-0.9323148087654878],[49.45404913557785,-0.8141368107839315],[47.86485218207416,0.07256024491486335],[37.99908214777417,-1.1818915827922853],[49.22501336183861,-0.5742135646760901],[48.57594936708863,-0.644187682241409],[53.0798845043311,1.1277145785444969],[51.68697282099343,-0.3794458005503218],[44.59320288362514,-0.557900649507945],[44.98977505112472,1.058903551441373],[57.89473684210531,0.6754142148047523],[60.2379461490294,1.466048334045184],[52.19960604070909,0.7069606200122346],[52.96469020652904,-0.7868958759265202],[49.68152866242037,-0.7155083244627642],[59.98817966903074,1.1721998756640701],[42.45169082125601,-0.7256528713389971],[56.44057249533292,0.5547649676619388],[49.88998899889984,-1.0975478809360086],[41.149870801033536,-0.8165464940822234],[40.47013977128332,-1.3550456676563163],[47.565752658086154,0.7090821818731843],[44.20176807072283,-0.7653291424962798],[47.51257685858017,-1.1730218762916],[54.03543307086619,0.7123652210590216],[49.4862087614927,1.385107641654396],[58.53812224322625,1.2290600412310273],[44.45125689760882,-0.27903611027134567],[58.6250795671547,0.9488952443831589],[50.42832667047402,-0.440554021295956],[55.332568807339406,0.05946418824379253],[56.86600221483945,1.9320141875494392],[51.6599597585513,-0.5989503990489724],[52.883625128733264,-0.720958602645302],[54.68053491827633,1.0934594667423918],[43.618450515002266,-1.125729434755419],[49.820645675567945,0.6819307042841882],[48.809058961343254,-1.041233486580108],[51.263940520446106,0.9481602925036036],[50.23679417122039,-0.7156544059925808],[48.93457943925235,-0.5440838871316472],[46.91022153128643,0.8568569106034543],[53.71606586559861,0.28920242684578484],[58.7144622991347,1.6560048286368783],[43.70282081843467,-0.8794355119788886],[52.97984224364589,-0.2860735097549674],[50.89244851258579,0.9547431417620006],[54.50980392156864,-0.1395056101496847],[42.38018309100695,-0.9430211997678852],[48.7910725356479,-1.1553389367115716],[56.31940772078272,0.8273201558815934],[40.826612903225744,-1.400871695286424],[51.77147918511954,0.7590420178420051],[44.87966021708355,0.30873802098719644],[48.769230769230724,-1.1004783250939878],[47.3379019504481,-0.6415417343799245],[39.05817174515239,-1.2429290346721478],[56.4917127071823,1.7783423168393255],[49.00159744408946,-0.7674945424472808],[53.64041604754831,0.48416827681297314],[48.51485148514852,0.5195307244217254],[50.14925373134333,-0.9912995188517896],[42.470472440944874,-0.6079328141192217],[43.063872255489024,-0.9064707126293025],[55.53899652260313,0.6608731505778492],[56.95045695045699,1.2836938966768001],[59.022931206380875,0.9485813743720135],[44.54912516823687,0.7998144434224648],[69.80155306298535,1.3527821935580013],[43.561442236938916,-0.7849253372289414],[51.91222570532911,0.6158795352186646],[59.1006423982869,0.15132518748294763],[58.77697841726619,0.3540809958542508],[52.70967741935485,-1.0319058915739936],[51.06809078771694,0.16604399514118956],[38.85196374622354,-1.813013966545669],[40.1823708206686,-1.3934234687561484],[49.03995848469122,0.4614923537656922],[38.12709030100331,-1.3022137917801047],[50.056882821387894,-0.6730933609817217],[49.21920185078085,0.9963151921242437],[52.70906949352184,1.1059475224566486],[47.75124930594114,0.21453195501416808],[56.31358467983239,0.7798983790601605],[51.26835781041387,0.963486269416683],[62.899262899262766,0.8037919249463917],[59.95203836930456,0.47034452704649377],[38.1030253475062,-1.3838553693728626],[52.966101694915245,-1.1804867527520293],[48.4356894553883,-1.0023869960568237],[35.60057887120115,-0.7148544540115661],[27.90055248618785,-1.2412849705444855],[38.16425120772949,-0.8265882389007653],[31.059245960502906,-0.5730569075466527],[43.85964912280699,0.6856924853451295],[35.08771929824569,-0.5892684459503388],[52.79329608938545,1.6521712295266104],[67.822966507177,1.5159255083497851],[70.1773835920177,1.9294692032738592],[47.845804988662046,-1.0827243786150516],[55.4263565891473,0.7803833324985185],[49.97087944088529,-0.928577212179016],[49.3812610489099,-0.7698401902691129],[48.57988165680469,-0.8419124337176287],[51.31652661064425,0.744364274771765],[55.6162720097146,0.417324389399402],[50.27210884353746,0.9367465387468138],[41.68076706147779,-1.1176004033339264],[38.92498523331368,-0.8370990939441685],[51.64576802507842,-0.732019087227102],[39.7460937499999,-0.41037086445450666],[48.33729216152018,-0.9183554684321827],[52.71739130434783,-0.07909587306027767],[61.95165622202339,1.365967780821995],[40.627885503231724,-0.3661126840412388],[50.32679738562085,0.8699335458311976],[37.89625360230537,-0.9510450254453114],[51.34892086330941,-0.47933747005967864],[50.22789425706477,-0.3955617950622057],[50.45787545787543,-0.42252124416249426],[48.420074349442494,-0.5591285524027737],[49.19735599622278,-0.9707230993394219],[47.409579667644195,-0.3735128289722032],[47.20314033366051,1.3595432295961403],[50.73839662447264,-0.01635311141489981],[60.22146507666098,2.58725132695063],[53.805175038051736,-0.08163077692726742],[59.88103106411096,1.421941672625438],[63.58136721113128,1.777143911865555],[58.97867564534225,0.9156861722585328],[50.456072971675454,-0.7511726965609202],[56.588805641251675,0.3854201048512137],[57.17391304347824,0.7251856085923835],[45.40628828093099,-1.2722771060360503],[47.05882352941173,-1.4944682841218524],[46.51560495938437,0.4893004151510763],[47.84520668425684,-1.1678995657596967],[42.87090558766864,-0.7946276938640129],[37.231384307846035,-1.0685721965345658],[48.42105263157895,0.5883902040378909],[51.03714423540757,-0.35599139074168495],[42.65770423991726,-0.791466447924293],[49.61381190368017,1.2559740301847189],[51.77809388335703,-0.22614278669810184],[52.830188679245325,-0.2160424018514534],[47.60881246641595,0.8491652418329333],[51.30283729009841,-0.5885100826204653],[57.503789792824634,1.5615979977435548],[51.37697516930025,-0.6818743352682385],[51.48648648648648,1.354080409482449],[48.742004264392314,-0.9316410345808336],[50.53050397877986,-0.8535351575067212],[42.260061919504636,-0.6044669293512344],[56.94235588972427,1.3286777487971813],[50.22104332449158,-0.4587007137645233],[51.61151697464547,1.044659442397156],[49.16086778550963,-0.9998080107388065],[44.25493716337521,-0.37279748082347547],[48.45208845208846,-1.0453888071514579],[44.6437994722955,0.21533586760296086],[48.76080691642657,-0.9101263237640728],[49.51121334100061,-0.6874605636195958],[55.158324821246204,1.0631780909132775],[42.15469613259667,-0.2352963868801908],[57.95580110497235,1.5319753802158524],[42.87222808870113,-0.4985870414994213],[49.69400244798044,-0.8058617646985016],[56.5309360126917,1.63852922395167],[58.736263736263666,1.1200060374713103],[55.137395459976176,1.1304754662484346],[62.21646143875556,1.1578928973226488],[48.6862442040185,-1.2821662384542916],[55.336322869955126,1.5409096891159277],[48.58267716535433,-1.1008986851602158],[48.359035191775384,0.40009769275122875],[49.05736060970719,-1.0876665674920492],[51.317891373801906,-0.6353889220760263],[49.14476428869422,0.5160951180774083],[48.87966804979255,0.11175054159709041],[50.362610797743706,0.7121425606890079],[44.743637034304705,-0.7170811296244898],[57.21608832807569,0.6498415527250743],[40.51532652154597,-0.6765004345451044],[57.08582834331338,0.5570066171181624],[50.7163323782235,0.8775391617889335],[51.875732708089146,-1.0186672956075467],[55.8364712210866,0.6483138274471949],[51.73427395649612,1.0717383155990508],[46.364594309799784,-1.0869034960339592],[42.404371584699426,-1.1658744063066304],[55.0997150997151,0.3773962334251713],[48.66449511400651,0.5957821023634855],[58.9546502690239,0.6372095950016139],[42.1259842519685,-0.9613131710542491],[41.06012658227851,-1.086453144170833],[59.627831715210334,0.8419171969013001],[42.33576642335774,-0.8746066656199564],[38.10741687979547,-1.0256404614267653],[44.4333996023857,-1.446238254561741],[60.52830188679249,1.5036957205453194],[43.70529327610879,-0.6756069429850693],[46.89608636977064,0.08882631556837726],[47.60319573901466,0.461272418203597],[56.62472242783129,0.8971136805968067],[50.13106159895148,-0.5839002159365332],[52.43749999999999,1.6153693965719012],[48.44110854503467,-1.0468569731005837],[55.8572146807441,1.0360312169162333],[56.1678463094034,0.3825902586735952],[48.39285714285709,0.6938396163406672],[50.591163658991896,-0.9822397240852521],[46.13887086307594,-1.1023048657339993],[54.57033388067867,1.452155516249535],[43.3211344922232,-1.5609902242639258],[47.97630799605135,-1.1649354953400515],[39.97722095671977,-0.8637455977901624],[55.95533498759303,0.38101960260410284],[41.122715404699726,-0.7572642118414851],[50.47846889952152,0.651405693978979],[44.9200913242009,-0.23232869363494302],[55.1564310544612,0.9750840703194414],[55.934195064629805,0.9166618840288447],[37.575030012004824,-1.1298780593509383],[58.75816993464058,0.6960583867500009],[49.80056980056982,-0.9403765773075975],[50.50561797752811,-0.636169051273134],[56.83488486036257,2.170104416236067],[59.27439959121106,1.2348422951962785],[43.45429490124024,-1.1785082490657337],[53.87858347386174,0.5817209010924307],[55.14555145551456,1.5565444066206464],[52.31427460132244,0.7122225636826311],[55.14555145551456,-0.05006365869351015],[45.423728813559315,-0.8817159418338674],[56.294736842105294,0.2731690332922042],[48.95635673624287,-1.1098965573338437],[39.085144927536234,-0.9687840591273058],[50.241351568785205,0.7592395791177862],[52.412924884599256,-0.7222131757974898],[54.476114010437605,1.40242459416489],[45.38120209762003,0.22153965033725642],[47.1895973154363,-0.01673831579298112],[45.88091353996736,-1.0499933647204944],[55.60344827586203,0.6478674194114767],[44.19762543086941,-1.04783834545388],[56.63650075414783,0.7146974925823882],[53.77289377289377,0.13020975431460616],[49.07183212267957,0.737933385771607],[48.973016512283486,-1.2311862788383536],[46.17672047578587,0.6463828067402676],[44.93592393551056,-1.051073224444993],[45.519262981574514,-1.0340006103832704],[55.59686080132178,0.7103787769341385],[43.5791217895609,-1.0355027688176635],[50.119104335397765,-1.0643846604560778],[48.42364532019701,0.7360383323523823],[51.40332640332638,0.6455999238170084],[42.77138569284646,-0.6337619068710422],[49.16618746405983,-0.9884343235231883],[41.61162483487454,-0.287714066973087],[57.48757984386084,0.9006414924657526],[50.27932960893855,-0.5997179591854526],[52.34979179060081,1.624416924907374],[51.01449275362318,-0.7327456489010997],[49.971607041453744,-0.8931520903575293],[44.09898477157364,-0.2700625780501134],[49.4839449541285,0.8737029715157778],[61.79647527003974,1.9896057096090727],[57.09033613445384,0.6354127584186304],[55.030236393622836,0.5304360629698317],[45.48476454293629,-0.5867860597480418],[49.13225613405149,-1.074084804529716],[36.579925650557634,-0.9297585429765732],[49.61389961389969,-0.7864525765115781],[62.5882352941177,1.0106302690209548],[49.09344490934452,-0.6074526833232109],[40.95826893353937,-0.8586714704169738],[45.27220630372494,1.0647279756293213],[41.93762441937622,-0.8473632478619321],[41.79894179894182,-0.795380666775096],[60.81229418221736,2.082786714314076],[63.097949886104786,1.6375789188090617],[49.753030983385685,-0.7801308467689487],[49.86559139784946,-0.6505786199028348],[45.09322865554465,-0.24060369042873544],[50.49450549450543,-0.4517675363271051],[57.60391198044005,0.9065320570020221],[47.17607973421924,0.36796688500667396],[50.473933649289094,-0.7765707978245758],[50.384387936132455,-0.6927218367067416],[30.37156704361884,-0.8055484910847608],[42.68209666439754,0.4498044656147296],[52.77777777777775,-0.4915070334942856],[50.29337803855824,-0.6175334206617923],[48.34494773519154,-0.29422911631495247],[49.11504424778766,-0.48324443553245616],[48.706512042818936,1.479313879509914],[51.075771749298504,1.0136502740492705],[64.4418872266974,1.2139846233917027],[64.36781609195414,1.091680603001938],[51.89990732159407,-0.7807816514880127],[36.35294117647054,-0.953006106020905],[64.81294236602643,1.4164155420141393],[60.87369420702756,0.6749436276369435],[57.75193798449628,0.3911991610539635],[48.41592201462231,-1.292900600186423],[48.457792207792224,0.5531650491893387],[54.47647951441583,1.2739675780766806],[42.82238442822388,-1.161463057964451],[43.73865698729584,-0.8703956206566821],[59.205143191116335,1.1356793410424957],[63.14067611777536,1.7172561676798948],[54.27069645203683,1.3241954415063313],[45.111960677225575,-1.0395580108726372],[51.24254473161034,0.20404724612629785],[59.13461538461535,0.596429147779267],[49.85439720442629,0.018595783024983246],[38.10264385692067,-1.7632389434985405],[57.59682224428998,0.5135145037070808],[54.619435136428926,0.06543414740817932],[41.92118226600984,-1.1901016604999568],[37.94736842105258,-1.084748556037607],[45.3817153628652,0.2593534862917219],[57.90061418202125,0.7942672557289988],[50.70079219987809,0.6192146356013272],[46.66666666666663,0.16268318395809597],[43.523316062176164,-1.1093830389650396],[53.16455696202524,-1.0373064650416153],[48.80860876249038,0.8905594259617198],[52.30642504118616,0.7248077814257764],[55.94713656387659,-0.26744370381283],[61.65644171779142,1.0206746223380305],[52.27906976744189,0.7865516351724384],[39.16532905296949,-1.167099420272059],[39.41841680129243,-1.2747563601652567],[53.32437877770318,0.9965211672451714],[49.968533668974224,-1.114217076954792],[50.06305170239599,-1.0345700844847496],[54.113557358053264,1.5764351545282442],[43.041474654377865,-1.1951788213269539],[47.884615384615394,-0.6888049744470346],[42.22568902756109,-0.7216714651214338],[48.08510638297872,0.4922521919498515],[47.28033472803351,-1.0354734138472572],[50.50091074681239,-0.35782967591607434],[47.58919961427194,0.74185933031938],[58.565310492505326,1.1869104995905435],[59.62765957446809,1.3027533807477394],[38.335220838052095,-0.6528171245652405],[50.334572490706336,-0.8323273563977474],[55.19785378940303,0.6139775729103744],[51.05459057071962,-0.48402118027513535],[49.7772119669,0.6022063226920766],[61.10260336906589,0.5992588697698474],[49.232914923291496,-0.8703174001324074],[40.81313526192339,-1.1418544075207282],[34.439834024896285,-1.2621767843126523],[47.6474486414844,0.9958090402507734],[56.793048973143755,0.5163202174929077],[50.42075736325387,-0.7643200450254163],[44.022169437846436,-0.40891817652777984],[58.127340823969995,1.2181325453919007],[50.370370370370374,0.8295116819562529],[49.174917491749106,0.615124490218036],[50.55131467345207,-0.7559937081315125],[49.542809642560215,-0.9960099449553735],[59.91620111731848,0.910902476761068],[51.27334465195252,1.258527528746231],[60.21241830065364,1.8058698904363628],[47.981770833333314,-1.37963047679187],[60.67913385826774,1.659687888414955],[43.216723549488094,-1.2034455771414563],[51.13895216400915,0.480393400790232],[47.16386554621848,-0.6798861412214791],[53.662811076060294,0.2943862640291961],[55.75313807531383,0.6054274164979596],[51.73069608216051,0.6057037986162234],[48.876190476190466,0.10197160228343223],[42.68745360059391,-0.9369168808442581],[57.31257681278162,0.4496752686605322],[46.038322112894875,0.7156975631897066],[50.626423690205,-1.4399222624217463],[39.328201539538114,-1.2323915441928968],[49.960411718131475,-0.8970502598754881],[48.742903487429025,0.23244152270691223],[49.80142970611592,0.7654158658590249],[45.61933534743203,0.14458309815620202],[51.89591078066911,0.8259134952945791],[46.59546061415225,-1.4294974762512362],[50.15576323987543,0.9430546294562707],[47.108947048082804,0.39008303223529556],[52.58152173913041,-0.7357587596212539],[50.42735042735041,-0.9526138140981897],[47.45071380013596,-1.087451367952967],[42.61321455085382,-0.9041107545636189],[54.82174167153713,1.7836805851976765],[45.93535749265426,-0.6414817986845212],[42.199999999999996,-0.8016861730243833],[52.17910447761191,-0.5299136944355101],[51.366120218579205,1.3462151239498206],[47.341913822048085,0.05765670109246279],[46.89578713968957,-0.9860842364142752],[49.58077138065957,-0.617362209099354],[57.97239409804853,1.1923664317441414],[56.30331753554501,0.8246961916226131],[50.48335123523095,1.5870178426130057],[57.668711656441715,0.5328040633489498],[50.75593952483801,-0.7440283837243342],[54.559043348281044,0.21577961679018312],[40.11506276150629,-1.083372844269892],[46.082949308755815,-0.8839692923415342],[59.277777777777764,0.6603528710171156],[50.66666666666669,-0.7822091314260906],[41.61309175920514,-0.7583954127462142],[51.85556670010024,0.9468705644708714],[39.615384615384635,-0.6663751924858301],[54.001721170395896,1.5737991524308914],[56.328545780969534,0.8030793661159699],[51.07398568019091,0.5289023441140672],[50.04677268475213,-1.0590991849216187],[50.440835266821345,-0.6695039734946708],[48.40579710144928,0.2654515428083086],[49.38393297190735,-1.0464180431883985],[55.13324595893409,0.5885451666330487],[45.78665367754508,0.0],[47.52275025278055,-1.2655899941787074],[49.266862170087954,1.5107293954777625],[42.531645569620224,-1.1450861234802752],[43.26180257510734,-1.068243677526566],[49.880210828941046,-0.7389311799006129],[48.41231069858328,-0.6689793381357813],[44.27440633245378,-0.49634346406254926],[58.67727498756839,1.3089540387993006],[56.30914826498417,1.7818097943364688],[45.55508294342832,-0.7296477063533688],[50.25809479117789,-0.6200344584954496],[42.82632146709815,0.41786841093666516],[53.7212449255752,-0.2194964413865641],[60.63268892794378,1.094963180002806],[59.642857142857196,0.9002184235092446],[54.99451152579582,0.02137500861300183],[58.1632653061225,0.7925878758263354],[40.99538224730625,-1.049765542487974],[34.49972662657193,-1.2493774989855329],[60.036166365280316,0.748264829253043],[59.74805038992201,0.9362816591419963],[43.753533069530796,-1.1534216076456345],[59.54376163873367,1.672588751340055],[47.65840220385674,0.07016484607386837],[43.63177805800758,-1.0792746818542214],[46.27730717788679,-0.9886476742488276],[48.548249359521755,0.5245560693338965],[50.26525198938994,-0.7895039057673401],[51.42083897158321,-0.6459795038831327],[42.590618336887,-0.5364321998674489],[42.05263157894735,-0.7686024045844803],[61.930426261636455,1.6762179311232088],[38.44984802431611,-0.5078822248760183],[51.98372329603256,0.7608292635566252],[55.69482288828338,0.5652180842496589],[50.82048731974138,-0.5596659144498395],[50.20140986908362,0.8362852400485322],[57.96359499431173,0.8243894949036229],[61.76927056389033,1.618463954100101],[54.36802973977693,0.1730208850304832],[55.7162855809613,0.20982372708550223],[50.675675675675656,1.419340718962167],[56.55452436194892,-0.11337356022268008],[41.95639363582796,-1.3995592440218991],[44.1303011677935,-1.3541979673979803],[55.68603213844254,-0.12681821916922936],[40.88089330024811,-1.3782234221553797],[41.96102314250905,-1.073470971615008],[45.4493417286777,0.5595288315453246],[52.980132450331155,0.5783373381507546],[50.38961038961031,0.4092915661841734],[39.08554572271389,0.02417620747404282],[42.63877715205152,-0.6759544362920368],[60.64356435643562,0.9071778445026004],[55.479452054794535,0.12415540438329978],[41.45785876993164,-1.3010607366961073],[53.234265734265655,-0.8365405037236541],[51.53985507246379,-0.6366855957841596],[32.17097862767143,-1.1970692320605332],[30.56768558951957,-1.3404143739469065],[40.12345679012347,-0.396169353135499],[41.40127388535026,-0.5348789872761024]],\"hovertemplate\":\"index=%{x}\\u003cbr\\u003eclose=%{y}\\u003cbr\\u003ersi=%{customdata[0]}\\u003cbr\\u003ebb=%{customdata[1]}\\u003cextra\\u003e\\u003c\\u002fextra\\u003e\",\"legendgroup\":\"\",\"line\":{\"color\":\"#636efa\",\"dash\":\"solid\"},\"marker\":{\"symbol\":\"circle\"},\"mode\":\"markers+lines\",\"name\":\"\",\"showlegend\":false,\"x\":[0,1,2,3,4,5,6,7,8,9,10,11,12,13,14,15,16,17,18,19,20,21,22,23,24,25,26,27,28,29,30,31,32,33,34,35,36,37,38,39,40,41,42,43,44,45,46,47,48,49,50,51,52,53,54,55,56,57,58,59,60,61,62,63,64,65,66,67,68,69,70,71,72,73,74,75,76,77,78,79,80,81,82,83,84,85,86,87,88,89,90,91,92,93,94,95,96,97,98,99,100,101,102,103,104,105,106,107,108,109,110,111,112,113,114,115,116,117,118,119,120,121,122,123,124,125,126,127,128,129,130,131,132,133,134,135,136,137,138,139,140,141,142,143,144,145,146,147,148,149,150,151,152,153,154,155,156,157,158,159,160,161,162,163,164,165,166,167,168,169,170,171,172,173,174,175,176,177,178,179,180,181,182,183,184,185,186,187,188,189,190,191,192,193,194,195,196,197,198,199,200,201,202,203,204,205,206,207,208,209,210,211,212,213,214,215,216,217,218,219,220,221,222,223,224,225,226,227,228,229,230,231,232,233,234,235,236,237,238,239,240,241,242,243,244,245,246,247,248,249,250,251,252,253,254,255,256,257,258,259,260,261,262,263,264,265,266,267,268,269,270,271,272,273,274,275,276,277,278,279,280,281,282,283,284,285,286,287,288,289,290,291,292,293,294,295,296,297,298,299,300,301,302,303,304,305,306,307,308,309,310,311,312,313,314,315,316,317,318,319,320,321,322,323,324,325,326,327,328,329,330,331,332,333,334,335,336,337,338,339,340,341,342,343,344,345,346,347,348,349,350,351,352,353,354,355,356,357,358,359,360,361,362,363,364,365,366,367,368,369,370,371,372,373,374,375,376,377,378,379,380,381,382,383,384,385,386,387,388,389,390,391,392,393,394,395,396,397,398,399,400,401,402,403,404,405,406,407,408,409,410,411,412,413,414,415,416,417,418,419,420,421,422,423,424,425,426,427,428,429,430,431,432,433,434,435,436,437,438,439,440,441,442,443,444,445,446,447,448,449,450,451,452,453,454,455,456,457,458,459,460,461,462,463,464,465,466,467,468,469,470,471,472,473,474,475,476,477,478,479,480,481,482,483,484,485,486,487,488,489,490,491,492,493,494,495,496,497,498,499,500,501,502,503,504,505,506,507,508,509,510,511,512,513,514,515,516,517,518,519,520,521,522,523,524,525,526,527,528,529,530,531,532,533,534,535,536,537,538,539,540,541,542,543,544,545,546,547,548,549,550,551,552,553,554,555,556,557,558,559,560,561,562,563,564,565,566,567,568,569,570,571,572,573,574,575,576,577,578,579,580,581,582,583,584,585,586,587,588,589,590,591,592,593,594,595,596,597,598,599,600,601,602,603,604,605,606,607,608,609,610,611,612,613,614,615,616,617,618,619,620,621,622,623,624,625,626,627,628,629,630,631,632,633,634,635,636,637,638,639,640,641,642,643,644,645,646,647,648,649,650,651,652,653,654,655,656,657,658,659,660,661,662,663,664,665,666,667,668,669,670,671,672,673,674,675,676,677,678,679,680,681,682,683,684,685,686,687,688,689,690,691,692,693,694,695,696,697,698,699,700,701,702,703,704,705,706,707,708,709,710,711,712,713,714,715,716,717,718,719,720,721,722,723,724,725,726,727,728,729,730,731,732,733,734,735,736,737,738,739,740,741,742,743,744,745,746,747,748,749,750,751,752,753,754,755,756,757,758,759,760,761,762,763,764,765,766,767,768,769,770,771,772,773,774,775,776,777,778,779,780,781,782,783,784,785,786,787,788,789,790,791,792,793,794,795,796,797,798,799,800,801,802,803,804,805,806,807,808,809,810,811,812,813,814,815,816,817,818,819,820,821,822,823,824,825,826,827,828,829,830,831,832,833,834,835,836,837,838,839,840,841,842,843,844,845,846,847,848,849,850,851,852,853,854,855,856,857,858,859,860,861,862,863,864,865,866,867,868,869,870,871,872,873,874,875,876,877,878,879,880,881,882,883,884,885,886,887,888,889,890,891,892,893,894,895,896,897,898,899,900,901,902,903,904,905,906,907,908,909,910,911,912,913,914,915,916,917,918,919,920,921,922,923,924,925,926,927,928,929,930,931,932,933,934,935,936,937,938,939,940,941,942,943,944,945,946,947,948,949,950,951,952,953,954,955,956,957,958,959,960,961,962,963,964,965,966,967,968,969,970,971,972,973,974,975,976,977,978,979,980,981,982,983,984,985,986,987,988,989,990,991,992,993,994,995,996,997,998,999,1000,1001,1002,1003,1004,1005,1006,1007,1008,1009,1010,1011,1012,1013,1014,1015,1016,1017,1018,1019,1020,1021,1022,1023,1024,1025,1026,1027,1028,1029,1030,1031,1032,1033,1034,1035,1036,1037,1038,1039,1040,1041,1042,1043,1044,1045,1046,1047,1048,1049,1050,1051,1052,1053,1054,1055,1056,1057,1058,1059,1060,1061,1062,1063,1064,1065,1066,1067,1068,1069,1070,1071,1072,1073,1074,1075,1076,1077,1078,1079,1080,1081,1082,1083,1084,1085,1086,1087,1088,1089,1090,1091,1092,1093,1094,1095,1096,1097,1098,1099,1100,1101,1102,1103,1104,1105,1106,1107,1108,1109,1110,1111,1112,1113,1114,1115,1116,1117,1118,1119,1120,1121,1122,1123,1124,1125,1126,1127,1128,1129,1130,1131,1132,1133,1134,1135,1136,1137,1138,1139,1140,1141,1142,1143,1144,1145,1146,1147,1148,1149,1150,1151,1152,1153,1154,1155,1156,1157,1158,1159,1160,1161,1162,1163,1164,1165,1166,1167,1168,1169,1170,1171,1172,1173,1174,1175,1176,1177,1178,1179,1180,1181,1182,1183,1184,1185,1186,1187,1188,1189,1190,1191,1192,1193,1194,1195,1196,1197,1198,1199,1200,1201,1202,1203,1204,1205,1206,1207,1208,1209,1210,1211,1212,1213,1214,1215,1216,1217,1218,1219,1220,1221,1222,1223,1224,1225,1226,1227,1228,1229,1230,1231,1232,1233,1234,1235,1236,1237,1238,1239,1240,1241,1242,1243,1244,1245,1246,1247,1248,1249,1250,1251,1252,1253,1254,1255,1256,1257,1258,1259,1260,1261,1262,1263,1264,1265,1266,1267,1268,1269,1270,1271,1272,1273,1274,1275,1276,1277,1278,1279,1280,1281,1282,1283,1284,1285,1286,1287,1288,1289,1290,1291,1292,1293,1294,1295,1296,1297,1298,1299,1300,1301,1302,1303,1304,1305,1306,1307,1308,1309,1310,1311,1312,1313,1314,1315,1316,1317,1318,1319,1320,1321,1322,1323,1324,1325,1326,1327,1328,1329,1330,1331,1332,1333,1334,1335,1336,1337,1338,1339,1340,1341,1342,1343,1344,1345,1346,1347,1348,1349,1350,1351,1352,1353,1354,1355,1356,1357,1358,1359,1360,1361,1362,1363,1364,1365,1366,1367,1368,1369,1370,1371,1372,1373,1374,1375,1376,1377,1378,1379,1380,1381,1382,1383,1384,1385,1386,1387,1388,1389,1390,1391,1392,1393,1394,1395,1396,1397,1398,1399,1400,1401,1402,1403,1404,1405,1406,1407,1408,1409,1410,1411,1412,1413,1414,1415,1416,1417,1418,1419,1420,1421,1422,1423,1424,1425,1426,1427,1428,1429,1430,1431,1432,1433,1434,1435,1436,1437,1438,1439,1440,1441,1442,1443,1444,1445,1446,1447,1448,1449,1450,1451,1452,1453,1454,1455,1456,1457,1458,1459,1460,1461,1462,1463,1464,1465,1466,1467,1468,1469,1470,1471,1472,1473,1474,1475,1476,1477,1478,1479,1480,1481,1482,1483,1484,1485,1486,1487,1488,1489,1490,1491,1492,1493,1494,1495,1496,1497,1498,1499,1500,1501,1502,1503,1504,1505,1506,1507,1508,1509,1510,1511,1512,1513,1514,1515,1516,1517,1518,1519,1520,1521,1522,1523,1524,1525,1526,1527,1528,1529,1530,1531,1532,1533,1534,1535,1536,1537,1538,1539,1540,1541,1542,1543,1544,1545,1546,1547,1548,1549,1550,1551,1552,1553,1554,1555,1556,1557,1558,1559,1560,1561,1562,1563,1564,1565,1566,1567,1568,1569,1570,1571,1572,1573,1574,1575,1576,1577,1578,1579,1580,1581,1582,1583,1584,1585,1586,1587,1588,1589,1590,1591,1592,1593,1594,1595,1596,1597,1598,1599,1600,1601,1602,1603,1604,1605,1606,1607,1608,1609,1610,1611,1612,1613,1614,1615,1616,1617,1618,1619,1620,1621,1622,1623,1624,1625,1626,1627,1628,1629,1630,1631,1632,1633,1634,1635,1636,1637,1638,1639,1640,1641,1642,1643,1644,1645,1646,1647,1648,1649,1650,1651,1652,1653,1654,1655,1656,1657,1658,1659,1660,1661,1662,1663,1664,1665,1666,1667,1668,1669,1670,1671,1672,1673,1674,1675,1676,1677,1678,1679,1680,1681,1682,1683,1684,1685,1686,1687,1688,1689,1690,1691,1692,1693,1694,1695,1696,1697,1698,1699,1700,1701,1702,1703,1704,1705,1706,1707,1708,1709,1710,1711,1712,1713,1714,1715,1716,1717,1718,1719,1720,1721,1722,1723,1724,1725,1726,1727,1728,1729,1730,1731,1732,1733,1734,1735,1736,1737,1738,1739,1740,1741,1742,1743,1744,1745,1746,1747,1748,1749,1750,1751,1752,1753,1754,1755,1756,1757,1758,1759,1760,1761,1762,1763,1764,1765,1766,1767,1768,1769,1770,1771,1772,1773,1774,1775,1776,1777,1778,1779,1780,1781,1782,1783,1784,1785,1786,1787,1788,1789,1790,1791,1792,1793,1794,1795,1796,1797,1798,1799,1800,1801,1802,1803,1804,1805,1806,1807,1808,1809,1810,1811,1812,1813,1814,1815,1816,1817,1818,1819,1820,1821,1822,1823,1824,1825,1826,1827,1828,1829,1830,1831,1832,1833,1834,1835,1836,1837,1838,1839,1840,1841,1842,1843,1844,1845,1846,1847,1848,1849,1850,1851,1852,1853,1854,1855,1856,1857,1858,1859,1860,1861,1862,1863,1864,1865,1866,1867,1868,1869,1870,1871,1872,1873,1874,1875,1876,1877,1878,1879,1880,1881,1882,1883,1884,1885,1886,1887,1888,1889,1890,1891,1892,1893,1894,1895,1896,1897,1898,1899,1900,1901,1902,1903,1904,1905,1906,1907,1908,1909,1910,1911,1912,1913,1914,1915,1916,1917,1918,1919,1920,1921,1922,1923,1924,1925,1926,1927,1928,1929,1930,1931,1932,1933,1934,1935,1936,1937,1938,1939,1940,1941,1942,1943,1944,1945,1946,1947,1948,1949,1950,1951,1952,1953,1954,1955,1956,1957,1958,1959,1960,1961,1962,1963,1964,1965,1966,1967,1968,1969,1970,1971,1972,1973,1974,1975,1976,1977,1978,1979,1980,1981,1982,1983,1984,1985,1986,1987,1988,1989,1990,1991,1992,1993,1994,1995,1996,1997,1998,1999,2000,2001,2002,2003,2004,2005,2006,2007,2008,2009,2010,2011,2012,2013,2014,2015,2016,2017,2018,2019,2020,2021,2022,2023,2024,2025,2026,2027,2028,2029,2030,2031,2032,2033,2034,2035,2036,2037,2038,2039,2040,2041,2042,2043,2044,2045,2046,2047,2048,2049,2050,2051,2052,2053,2054,2055,2056,2057,2058,2059,2060,2061,2062,2063,2064,2065,2066,2067,2068,2069,2070,2071,2072,2073,2074,2075,2076,2077,2078,2079,2080,2081,2082,2083,2084,2085,2086,2087,2088,2089,2090,2091,2092,2093,2094,2095,2096,2097,2098,2099,2100,2101,2102,2103,2104,2105,2106,2107,2108,2109,2110,2111,2112,2113,2114,2115,2116,2117,2118,2119,2120,2121],\"xaxis\":\"x\",\"y\":[165.83,163.3,165.66,163.18,166.84,165.51,163.24,166.27,165.51,166.22,163.24,168.06,163.53,163.99,166.58,166.6,166.37,166.42,162.91,162.99,163.63,165.93,166.2,166.52,163.43,168.4,166.86,163.48,166.45,163.23,166.43,163.96,163.42,166.2,163.99,165.75,166.25,163.1,166.63,163.21,168.02,163.61,165.2,163.69,166.66,166.6,168.14,165.61,163.48,163.22,166.51,166.12,163.98,162.43,163.17,165.0,163.79,163.67,163.66,167.2,166.91,166.22,165.17,163.49,162.85,166.61,163.6,163.63,165.39,162.96,163.79,163.9,166.12,163.96,165.88,166.63,166.33,162.99,163.78,166.08,163.59,163.2,166.39,162.49,162.68,163.4,166.49,165.89,163.86,163.47,163.67,163.07,163.31,165.86,167.15,163.52,165.06,166.09,166.42,163.1,166.72,168.52,165.99,167.88,163.58,163.13,163.85,166.58,163.7,166.48,165.98,162.95,166.54,166.05,165.74,165.62,163.25,165.84,166.6,165.66,165.74,164.05,166.7,168.29,166.5,163.66,167.96,163.19,166.53,165.74,163.18,163.43,166.4,163.98,165.98,165.34,163.62,163.5,163.71,166.06,166.81,166.72,166.25,166.77,168.47,167.99,166.55,163.15,163.72,166.66,165.68,168.08,166.45,166.25,165.48,163.78,166.47,165.64,163.26,165.04,166.26,167.93,163.48,165.98,163.67,163.29,166.64,166.63,166.43,166.78,166.59,166.53,167.9,168.0,168.09,165.05,166.28,166.33,166.26,166.11,163.64,163.18,163.55,163.94,167.0,166.84,163.45,163.49,165.85,166.81,163.46,167.15,163.85,163.65,164.97,163.38,163.57,162.85,166.27,166.46,168.19,163.26,163.63,163.62,163.6,163.02,166.76,165.71,166.3,168.09,165.52,163.77,166.52,166.21,163.71,166.42,164.1,163.72,166.02,166.26,163.78,166.45,163.75,164.04,165.85,163.72,166.62,166.15,163.53,168.2,163.73,168.18,168.17,163.23,166.06,167.85,165.49,163.51,163.61,163.1,166.44,166.29,163.63,168.6,165.5,162.95,163.86,163.26,163.87,166.44,166.64,163.51,165.89,163.12,163.54,166.2,164.01,163.69,163.58,166.43,166.12,166.48,163.58,163.68,163.57,166.5,168.5,167.95,163.09,166.0,163.62,164.09,166.52,162.48,162.87,163.51,165.85,168.05,166.27,166.39,163.27,165.35,163.65,162.95,163.48,163.28,165.96,164.14,166.29,163.7,165.62,166.39,166.62,163.86,164.0,163.67,166.63,166.87,163.96,165.95,166.09,163.6,163.79,163.33,166.25,163.25,166.62,163.64,163.77,166.61,163.77,162.37,166.34,166.57,163.65,166.72,162.66,165.76,163.28,165.74,163.76,163.0,166.5,166.14,164.2,163.37,163.75,162.42,166.63,166.58,165.34,166.3,165.63,163.63,165.73,163.27,162.87,166.7,165.24,166.31,163.0,166.81,163.89,163.7,166.7,163.76,163.46,163.27,166.13,166.07,163.85,163.69,163.25,166.5,167.24,166.59,166.28,166.68,163.62,166.38,163.83,166.15,163.95,163.65,163.8,162.91,163.45,163.26,164.08,163.62,162.41,167.9,164.0,164.03,162.98,164.21,163.46,166.55,163.25,168.16,166.2,163.5,165.7,163.28,163.13,165.59,163.69,163.51,166.34,163.69,163.49,165.2,166.34,166.43,166.37,166.38,166.56,165.93,166.77,165.77,168.09,162.87,163.02,165.84,165.53,162.95,166.62,163.55,162.86,165.59,165.98,163.18,166.26,163.95,164.0,164.3,165.85,165.76,163.37,165.0,162.66,163.7,164.0,163.66,163.14,167.38,163.46,166.75,166.33,166.38,163.25,163.92,164.07,162.86,163.59,165.06,163.86,166.67,166.67,163.3,163.57,165.99,163.43,163.59,163.66,166.51,166.4,166.71,163.44,165.05,163.55,166.59,166.61,163.16,166.16,163.31,163.26,165.38,166.49,163.19,166.74,163.47,164.03,167.0,163.28,163.26,166.04,166.67,163.41,165.54,166.38,163.39,168.59,163.57,166.8,166.0,163.18,168.18,166.5,164.02,163.82,163.51,163.22,164.0,164.1,165.66,163.86,165.35,165.9,163.82,166.74,166.69,163.98,168.23,162.76,163.02,163.59,168.08,163.29,163.78,166.61,165.51,163.57,166.48,168.12,163.83,163.14,166.5,166.15,163.46,163.51,165.1,164.94,163.71,166.43,163.71,163.45,163.42,163.26,163.54,163.14,165.55,163.31,164.2,166.48,163.61,163.41,166.2,166.41,165.02,162.8,163.45,167.75,163.95,162.97,166.53,165.06,168.03,166.52,163.1,163.43,165.08,166.63,163.47,163.48,168.4,163.1,165.89,165.94,163.05,164.02,168.06,162.92,165.88,166.44,166.52,163.9,164.99,166.6,166.33,163.63,163.77,163.26,165.5,163.11,168.17,165.37,165.79,163.5,163.4,166.5,163.28,163.48,166.74,165.65,163.4,166.27,163.37,163.35,163.84,168.0,163.48,163.14,163.7,166.52,167.17,167.03,165.69,166.6,166.17,163.57,163.59,166.49,165.56,162.89,163.33,166.05,163.99,163.97,167.77,163.74,166.46,166.05,168.44,165.51,167.97,162.83,163.81,164.77,165.86,168.0,163.88,163.79,166.76,163.61,166.13,163.14,162.86,166.01,166.55,166.0,165.83,165.39,163.69,164.96,165.61,166.01,163.58,163.64,163.75,166.57,165.33,166.73,166.28,165.54,163.64,166.16,165.49,163.26,166.27,166.56,166.75,163.69,163.65,163.78,163.47,165.6,165.74,163.32,163.34,163.94,163.73,163.65,166.04,163.46,163.53,162.85,167.74,163.75,163.9,163.42,163.25,165.89,166.5,166.07,163.71,163.08,166.4,163.66,164.97,163.79,162.89,163.29,168.24,166.18,163.54,166.31,163.54,163.3,162.46,163.64,167.29,163.5,162.98,163.27,163.57,163.16,166.89,166.55,163.63,166.59,162.82,168.02,166.59,163.31,163.4,166.23,163.73,166.73,166.42,163.7,163.34,165.49,167.89,165.49,167.35,162.88,163.83,163.47,165.91,166.99,163.58,163.7,163.71,166.55,167.25,165.58,166.74,163.63,163.54,163.55,164.13,165.52,166.51,164.96,163.34,166.61,163.1,163.24,163.86,166.41,166.79,163.6,166.3,166.6,166.48,163.78,163.49,163.25,167.03,163.92,163.01,166.24,166.18,163.65,163.04,166.56,166.48,163.24,163.54,163.41,168.74,163.47,163.19,165.65,165.61,166.69,166.58,166.88,163.51,163.75,163.3,163.93,165.86,163.23,166.44,165.79,166.44,166.26,165.6,165.49,166.8,163.36,165.09,163.33,163.18,163.47,165.93,164.01,165.02,167.1,163.46,163.0,163.66,166.76,166.74,166.84,165.64,163.24,163.36,165.61,166.02,162.93,166.54,166.47,166.41,163.05,163.87,165.45,163.43,163.69,162.97,165.67,166.66,163.37,163.72,163.99,165.51,164.05,166.58,163.57,166.44,165.57,163.87,163.3,163.96,163.48,162.5,163.89,166.47,168.32,166.96,163.27,163.22,167.82,166.0,166.2,165.65,165.77,163.91,167.6,164.13,166.65,163.68,163.54,166.3,165.8,165.85,166.96,167.05,166.16,166.43,162.5,166.78,166.18,167.8,164.15,165.82,168.0,166.45,166.1,165.81,165.78,163.47,162.48,168.35,163.71,165.82,163.5,163.32,163.88,165.63,163.85,163.27,163.71,164.01,166.42,162.83,165.47,165.34,163.37,168.22,163.63,163.74,164.0,167.24,163.21,163.84,163.5,165.5,163.7,167.85,163.24,165.68,162.83,165.45,162.32,166.49,166.02,164.3,168.25,163.45,163.33,166.0,163.28,165.85,165.7,163.57,166.44,166.54,163.17,166.5,163.9,166.59,166.58,163.48,163.97,163.33,166.01,166.04,165.02,164.02,165.88,163.39,165.48,163.64,163.57,163.87,165.8,166.27,163.23,165.83,163.56,164.0,165.96,162.92,163.77,163.95,165.4,162.86,164.18,163.55,166.79,166.22,162.92,167.22,162.5,163.01,166.32,165.52,163.58,163.22,168.1,166.6,163.46,164.63,163.67,163.44,164.93,166.5,166.29,168.5,162.77,163.62,165.44,166.78,166.48,163.85,166.76,163.44,163.96,167.39,163.38,163.54,165.56,167.85,165.88,166.3,167.11,163.02,163.45,163.42,163.16,165.45,163.57,164.1,166.2,165.74,166.25,163.03,163.79,163.7,166.55,163.55,165.89,165.02,165.69,165.91,163.47,163.73,165.62,163.8,163.39,166.36,166.5,163.94,166.1,165.73,166.29,163.3,163.37,166.81,163.44,166.61,166.51,167.16,165.18,163.45,165.09,163.81,163.32,163.39,162.96,165.83,166.6,163.64,163.41,163.95,165.63,167.79,163.39,163.4,163.4,166.2,164.98,163.04,163.2,164.06,163.78,166.82,163.28,163.31,162.64,163.75,166.24,163.43,165.08,164.0,163.84,164.5,163.54,164.14,163.38,167.93,163.82,162.97,166.04,164.25,163.75,163.7,163.59,163.59,165.0,163.55,166.16,164.03,163.21,163.64,163.58,163.91,163.25,167.21,163.58,163.52,163.38,163.07,165.47,162.72,163.38,163.67,166.07,163.27,163.48,166.62,163.57,163.08,163.94,163.49,166.67,163.36,163.5,163.3,165.52,166.29,163.15,166.49,165.92,166.51,163.69,163.57,165.9,163.36,166.38,166.86,163.48,163.4,165.02,165.63,166.81,165.34,165.9,163.89,163.47,165.87,163.63,162.79,166.66,162.65,163.32,163.81,166.62,166.0,164.17,163.26,166.26,163.84,165.42,165.58,163.57,166.4,164.81,163.42,165.66,166.15,163.47,166.6,166.6,165.76,163.73,163.42,166.24,166.73,163.32,165.83,166.64,166.38,168.42,163.85,162.79,165.89,165.94,165.01,166.17,163.44,168.05,166.75,163.37,163.87,163.67,163.93,163.04,164.0,163.76,163.82,165.61,162.38,167.88,163.37,163.05,165.42,163.97,163.57,163.69,163.1,167.95,166.28,166.45,166.29,168.17,165.63,166.68,166.69,163.07,167.71,164.0,163.77,162.48,165.18,166.63,165.57,165.61,163.08,166.38,163.25,166.03,163.5,167.91,166.79,166.57,165.69,165.67,166.59,166.52,163.54,164.14,165.94,163.45,163.65,166.06,166.71,163.34,167.87,166.4,165.58,166.57,166.3,165.05,165.86,165.45,165.92,163.3,163.27,165.8,166.42,166.63,163.31,166.4,163.55,163.55,163.14,163.46,163.78,163.1,163.55,166.2,163.83,163.07,165.99,163.43,163.66,165.87,166.24,163.45,163.01,165.63,163.48,165.7,163.36,163.5,167.89,163.23,165.97,165.71,164.99,162.99,163.51,166.68,168.92,163.36,166.96,163.36,166.27,163.15,166.63,165.88,163.48,166.37,163.55,163.99,168.53,163.48,163.43,165.77,166.39,163.2,163.55,163.4,165.59,166.45,166.05,163.8,166.49,166.73,166.21,163.9,163.47,163.01,166.4,167.17,164.42,165.6,168.0,163.67,163.09,166.28,165.5,166.2,163.16,163.63,166.2,165.02,163.24,168.15,165.95,163.65,166.19,163.19,163.74,163.31,166.81,163.97,166.52,163.45,165.96,166.45,163.56,163.54,163.33,166.85,166.54,166.17,163.85,163.21,164.0,165.0,165.66,163.71,166.17,163.6,163.39,166.78,162.95,163.36,166.66,163.44,166.37,163.23,163.4,166.78,163.64,166.57,163.91,163.97,163.5,163.83,166.29,163.26,163.9,163.41,163.02,163.73,168.0,168.02,165.34,163.34,166.36,163.64,162.98,166.39,163.35,163.58,163.96,163.26,164.16,167.95,166.08,167.2,163.83,163.25,163.86,167.01,163.34,166.38,163.01,163.42,166.73,166.01,163.95,163.63,167.21,163.15,163.5,166.63,165.8,166.14,163.44,162.86,166.5,166.53,166.44,163.48,166.05,166.3,165.57,166.32,168.21,166.23,163.41,164.04,166.14,166.63,166.74,165.59,166.55,163.66,166.21,163.54,163.84,163.62,166.38,163.1,163.37,163.59,168.57,163.4,166.45,162.85,163.87,166.01,165.01,165.66,163.51,163.37,163.76,164.59,163.5,166.72,162.71,167.06,166.43,166.59,162.89,166.5,167.95,164.5,166.82,166.68,165.95,165.19,162.97,162.47,168.44,165.5,162.98,165.81,164.01,164.03,166.21,166.62,166.82,166.69,162.95,162.34,165.02,164.99,166.78,165.76,168.25,165.94,162.63,163.82,166.51,163.41,168.39,163.2,165.04,166.27,163.75,166.07,162.88,163.17,166.7,163.68,168.09,166.5,163.47,165.63,163.76,168.19,167.21,163.68,166.65,168.24,163.58,163.88,163.03,165.49,166.5,163.39,163.4,166.54,166.45,163.25,165.98,165.95,164.96,162.83,166.63,163.24,163.11,163.65,163.45,163.35,166.03,163.78,163.97,163.96,165.53,163.51,165.94,163.52,168.35,163.69,162.97,166.5,163.58,166.38,163.44,166.41,163.37,166.69,165.65,163.15,163.75,163.0,163.07,162.29,166.95,163.0,163.59,166.63,166.78,165.55,165.17,163.08,163.84,166.29,166.69,165.92,165.45,163.73,164.2,166.0,163.46,163.5,162.85,163.34,163.04,163.03,166.23,163.6,165.79,163.8,168.0,168.06,166.02,163.97,166.17,163.65,163.97,163.63,164.93,163.42,166.0,163.96,165.96,163.69,166.68,163.12,165.97,166.73,163.71,163.97,163.32,163.37,166.92,165.99,165.84,165.73,166.62,163.76,167.33,163.99,163.31,164.03,163.94,163.37,163.4,167.02,163.59,166.0,163.33,165.84,164.06,165.9,166.77,163.62,162.9,162.69,162.65,163.59,166.5,165.57,165.3,165.55,166.11,166.19,162.78,166.04,163.7,163.58,162.97,165.8,163.85,164.18,166.43,164.04,165.9,163.63,166.44,163.91,166.5,163.82,168.19,166.06,165.97,164.01,165.64,163.36,163.47,164.97,165.77,163.34,163.4,166.35,163.99,163.6,165.94,167.86,163.85,163.76,165.06,163.09,165.46,168.4,163.41,163.36,165.03,162.63,163.56,163.22,166.34,163.81,163.36,166.44,165.81,166.63,165.7,163.52,163.47,166.6,163.84,165.88,163.32,163.7,162.81,165.76,163.47,162.63,165.11,166.41,166.55,164.07,166.03,163.85,164.67,168.24,164.13,163.75,167.0,163.56,166.46,163.46,166.71,163.98,164.1,166.65,165.8,167.98,163.83,164.92,166.85,165.3,163.88,163.59,166.49,163.01,166.6,165.81,163.35,163.91,162.9,168.12,163.38,165.55,165.77,163.08,163.54,163.03,165.58,166.8,166.52,166.5,167.97,163.8,166.38,165.63,165.98,163.87,165.9,163.11,163.29,166.13,163.0,163.82,166.11,166.55,165.17,165.98,166.28,166.26,165.78,163.22,163.56,163.55,164.12,163.35,163.7,163.87,165.44,163.71,166.38,166.2,167.2,162.98,165.8,163.34,163.49,163.39,165.91,165.56,166.46,163.25,163.45,163.4,163.7,163.06,163.99,166.06,163.88,165.64,163.1,163.55,163.5,163.5,163.36,162.89,163.46,165.49,164.02,168.04,164.1,166.54,167.99,166.7,163.55,165.88,166.76,163.24,162.63,166.41,163.12,163.58,162.88,166.01,163.98,163.04,166.59,163.99,163.8,165.52,163.57,166.55,163.49,166.67,163.39,163.28,163.59,166.76,163.9,166.27,163.16,163.99,162.86,164.64,162.96,163.11,165.61,163.92,166.78,163.57,163.06,166.46,166.04,166.36,166.73,162.6,167.99,163.2,165.95,163.1,163.72,166.05,165.5,166.54,163.88,166.26,163.72,166.04,166.2,163.74,165.89,166.64,164.12,163.76,165.67,165.85,166.05,164.04,163.94,166.12,164.0,163.85,163.0,166.55,163.91,164.93,165.33,165.83,163.98,166.9,163.46,166.18,165.44,166.01,164.1,163.74,167.0,162.91,163.16,163.38,165.38,163.46,165.6,164.23,165.88,165.76,162.86,165.59,163.09,163.56,168.17,167.09,162.75,166.07,168.39,166.95,165.37,163.43,166.08,163.01,163.35,167.21,163.9,168.3,166.1,165.61,163.35,166.29,163.05,166.53,165.41,166.75,163.39,166.5,163.65,163.47,166.06,163.19,163.1,165.89,165.95,163.86,163.1,163.96,165.76,163.56,166.85,163.54,163.09,164.03,165.77,168.01,165.8,165.79,164.13,163.27,163.24,163.46,166.3,163.77,163.43,166.69,163.37,163.31,168.07,167.87,163.13,163.4,164.3,163.95,166.54,165.67,163.53,163.44,163.21,165.72,163.79,163.47,163.92,163.75,166.25,165.9,166.04,165.94,163.62,163.4,166.72,165.76,165.52,163.36,165.87,167.08,163.68,163.87,166.77,168.22,168.02,163.97,166.02,166.78,165.82,162.49,166.74,165.8,163.49,163.64,166.06,166.8,166.25,165.7,163.57,163.39,166.43,166.36,164.84,166.68,166.55,164.1,163.63,166.69,163.56,163.41,167.85,163.34,163.96,163.69,165.74,162.93,163.85,165.69,166.76,167.03,163.73,163.43,165.51,164.03,165.67,165.83,163.63,163.34,163.01,166.32,165.45,163.55,164.0,166.2,165.76,165.63,163.76,163.23,165.85,166.62,167.95,162.93,168.34,163.02,166.36,164.01,165.85,166.53,166.76,166.03,164.01,166.5,166.81,163.24,163.31,164.0,165.54,166.48,165.6,166.54,162.99,166.55,165.86,164.0,163.44,163.25,163.55,168.13,163.94,163.42,163.72,167.0,164.91,162.88,163.29,166.6,166.21,168.31,166.44,163.7,165.55,163.22,163.55,166.22,163.56,163.73,166.95,163.99,168.3,166.52,166.0,163.24,163.74,165.56,163.31,166.08,165.22,163.01,168.0,162.98,162.86,163.19,163.09,163.39,166.8,168.48,163.13,163.12,165.34,164.08,166.49,166.43,164.91,166.59,163.29,162.81,166.46,166.37,163.13,168.18,165.47,163.4,163.24,165.91,163.41,163.44,163.68,163.35,168.0,163.62,166.25,165.49,163.57,165.99,166.21,167.99,165.56,165.8,168.26,165.88,163.52,163.58,165.41,163.05,163.57,166.4,166.46,165.92,165.3,164.05,166.1,165.02,163.16,163.79,163.91,163.23,162.9,164.0,163.68],\"yaxis\":\"y\",\"type\":\"scattergl\"}],                        {\"template\":{\"data\":{\"histogram2dcontour\":[{\"type\":\"histogram2dcontour\",\"colorbar\":{\"outlinewidth\":0,\"ticks\":\"\"},\"colorscale\":[[0.0,\"#0d0887\"],[0.1111111111111111,\"#46039f\"],[0.2222222222222222,\"#7201a8\"],[0.3333333333333333,\"#9c179e\"],[0.4444444444444444,\"#bd3786\"],[0.5555555555555556,\"#d8576b\"],[0.6666666666666666,\"#ed7953\"],[0.7777777777777778,\"#fb9f3a\"],[0.8888888888888888,\"#fdca26\"],[1.0,\"#f0f921\"]]}],\"choropleth\":[{\"type\":\"choropleth\",\"colorbar\":{\"outlinewidth\":0,\"ticks\":\"\"}}],\"histogram2d\":[{\"type\":\"histogram2d\",\"colorbar\":{\"outlinewidth\":0,\"ticks\":\"\"},\"colorscale\":[[0.0,\"#0d0887\"],[0.1111111111111111,\"#46039f\"],[0.2222222222222222,\"#7201a8\"],[0.3333333333333333,\"#9c179e\"],[0.4444444444444444,\"#bd3786\"],[0.5555555555555556,\"#d8576b\"],[0.6666666666666666,\"#ed7953\"],[0.7777777777777778,\"#fb9f3a\"],[0.8888888888888888,\"#fdca26\"],[1.0,\"#f0f921\"]]}],\"heatmap\":[{\"type\":\"heatmap\",\"colorbar\":{\"outlinewidth\":0,\"ticks\":\"\"},\"colorscale\":[[0.0,\"#0d0887\"],[0.1111111111111111,\"#46039f\"],[0.2222222222222222,\"#7201a8\"],[0.3333333333333333,\"#9c179e\"],[0.4444444444444444,\"#bd3786\"],[0.5555555555555556,\"#d8576b\"],[0.6666666666666666,\"#ed7953\"],[0.7777777777777778,\"#fb9f3a\"],[0.8888888888888888,\"#fdca26\"],[1.0,\"#f0f921\"]]}],\"heatmapgl\":[{\"type\":\"heatmapgl\",\"colorbar\":{\"outlinewidth\":0,\"ticks\":\"\"},\"colorscale\":[[0.0,\"#0d0887\"],[0.1111111111111111,\"#46039f\"],[0.2222222222222222,\"#7201a8\"],[0.3333333333333333,\"#9c179e\"],[0.4444444444444444,\"#bd3786\"],[0.5555555555555556,\"#d8576b\"],[0.6666666666666666,\"#ed7953\"],[0.7777777777777778,\"#fb9f3a\"],[0.8888888888888888,\"#fdca26\"],[1.0,\"#f0f921\"]]}],\"contourcarpet\":[{\"type\":\"contourcarpet\",\"colorbar\":{\"outlinewidth\":0,\"ticks\":\"\"}}],\"contour\":[{\"type\":\"contour\",\"colorbar\":{\"outlinewidth\":0,\"ticks\":\"\"},\"colorscale\":[[0.0,\"#0d0887\"],[0.1111111111111111,\"#46039f\"],[0.2222222222222222,\"#7201a8\"],[0.3333333333333333,\"#9c179e\"],[0.4444444444444444,\"#bd3786\"],[0.5555555555555556,\"#d8576b\"],[0.6666666666666666,\"#ed7953\"],[0.7777777777777778,\"#fb9f3a\"],[0.8888888888888888,\"#fdca26\"],[1.0,\"#f0f921\"]]}],\"surface\":[{\"type\":\"surface\",\"colorbar\":{\"outlinewidth\":0,\"ticks\":\"\"},\"colorscale\":[[0.0,\"#0d0887\"],[0.1111111111111111,\"#46039f\"],[0.2222222222222222,\"#7201a8\"],[0.3333333333333333,\"#9c179e\"],[0.4444444444444444,\"#bd3786\"],[0.5555555555555556,\"#d8576b\"],[0.6666666666666666,\"#ed7953\"],[0.7777777777777778,\"#fb9f3a\"],[0.8888888888888888,\"#fdca26\"],[1.0,\"#f0f921\"]]}],\"mesh3d\":[{\"type\":\"mesh3d\",\"colorbar\":{\"outlinewidth\":0,\"ticks\":\"\"}}],\"scatter\":[{\"fillpattern\":{\"fillmode\":\"overlay\",\"size\":10,\"solidity\":0.2},\"type\":\"scatter\"}],\"parcoords\":[{\"type\":\"parcoords\",\"line\":{\"colorbar\":{\"outlinewidth\":0,\"ticks\":\"\"}}}],\"scatterpolargl\":[{\"type\":\"scatterpolargl\",\"marker\":{\"colorbar\":{\"outlinewidth\":0,\"ticks\":\"\"}}}],\"bar\":[{\"error_x\":{\"color\":\"#2a3f5f\"},\"error_y\":{\"color\":\"#2a3f5f\"},\"marker\":{\"line\":{\"color\":\"#E5ECF6\",\"width\":0.5},\"pattern\":{\"fillmode\":\"overlay\",\"size\":10,\"solidity\":0.2}},\"type\":\"bar\"}],\"scattergeo\":[{\"type\":\"scattergeo\",\"marker\":{\"colorbar\":{\"outlinewidth\":0,\"ticks\":\"\"}}}],\"scatterpolar\":[{\"type\":\"scatterpolar\",\"marker\":{\"colorbar\":{\"outlinewidth\":0,\"ticks\":\"\"}}}],\"histogram\":[{\"marker\":{\"pattern\":{\"fillmode\":\"overlay\",\"size\":10,\"solidity\":0.2}},\"type\":\"histogram\"}],\"scattergl\":[{\"type\":\"scattergl\",\"marker\":{\"colorbar\":{\"outlinewidth\":0,\"ticks\":\"\"}}}],\"scatter3d\":[{\"type\":\"scatter3d\",\"line\":{\"colorbar\":{\"outlinewidth\":0,\"ticks\":\"\"}},\"marker\":{\"colorbar\":{\"outlinewidth\":0,\"ticks\":\"\"}}}],\"scattermapbox\":[{\"type\":\"scattermapbox\",\"marker\":{\"colorbar\":{\"outlinewidth\":0,\"ticks\":\"\"}}}],\"scatterternary\":[{\"type\":\"scatterternary\",\"marker\":{\"colorbar\":{\"outlinewidth\":0,\"ticks\":\"\"}}}],\"scattercarpet\":[{\"type\":\"scattercarpet\",\"marker\":{\"colorbar\":{\"outlinewidth\":0,\"ticks\":\"\"}}}],\"carpet\":[{\"aaxis\":{\"endlinecolor\":\"#2a3f5f\",\"gridcolor\":\"white\",\"linecolor\":\"white\",\"minorgridcolor\":\"white\",\"startlinecolor\":\"#2a3f5f\"},\"baxis\":{\"endlinecolor\":\"#2a3f5f\",\"gridcolor\":\"white\",\"linecolor\":\"white\",\"minorgridcolor\":\"white\",\"startlinecolor\":\"#2a3f5f\"},\"type\":\"carpet\"}],\"table\":[{\"cells\":{\"fill\":{\"color\":\"#EBF0F8\"},\"line\":{\"color\":\"white\"}},\"header\":{\"fill\":{\"color\":\"#C8D4E3\"},\"line\":{\"color\":\"white\"}},\"type\":\"table\"}],\"barpolar\":[{\"marker\":{\"line\":{\"color\":\"#E5ECF6\",\"width\":0.5},\"pattern\":{\"fillmode\":\"overlay\",\"size\":10,\"solidity\":0.2}},\"type\":\"barpolar\"}],\"pie\":[{\"automargin\":true,\"type\":\"pie\"}]},\"layout\":{\"autotypenumbers\":\"strict\",\"colorway\":[\"#636efa\",\"#EF553B\",\"#00cc96\",\"#ab63fa\",\"#FFA15A\",\"#19d3f3\",\"#FF6692\",\"#B6E880\",\"#FF97FF\",\"#FECB52\"],\"font\":{\"color\":\"#2a3f5f\"},\"hovermode\":\"closest\",\"hoverlabel\":{\"align\":\"left\"},\"paper_bgcolor\":\"white\",\"plot_bgcolor\":\"#E5ECF6\",\"polar\":{\"bgcolor\":\"#E5ECF6\",\"angularaxis\":{\"gridcolor\":\"white\",\"linecolor\":\"white\",\"ticks\":\"\"},\"radialaxis\":{\"gridcolor\":\"white\",\"linecolor\":\"white\",\"ticks\":\"\"}},\"ternary\":{\"bgcolor\":\"#E5ECF6\",\"aaxis\":{\"gridcolor\":\"white\",\"linecolor\":\"white\",\"ticks\":\"\"},\"baxis\":{\"gridcolor\":\"white\",\"linecolor\":\"white\",\"ticks\":\"\"},\"caxis\":{\"gridcolor\":\"white\",\"linecolor\":\"white\",\"ticks\":\"\"}},\"coloraxis\":{\"colorbar\":{\"outlinewidth\":0,\"ticks\":\"\"}},\"colorscale\":{\"sequential\":[[0.0,\"#0d0887\"],[0.1111111111111111,\"#46039f\"],[0.2222222222222222,\"#7201a8\"],[0.3333333333333333,\"#9c179e\"],[0.4444444444444444,\"#bd3786\"],[0.5555555555555556,\"#d8576b\"],[0.6666666666666666,\"#ed7953\"],[0.7777777777777778,\"#fb9f3a\"],[0.8888888888888888,\"#fdca26\"],[1.0,\"#f0f921\"]],\"sequentialminus\":[[0.0,\"#0d0887\"],[0.1111111111111111,\"#46039f\"],[0.2222222222222222,\"#7201a8\"],[0.3333333333333333,\"#9c179e\"],[0.4444444444444444,\"#bd3786\"],[0.5555555555555556,\"#d8576b\"],[0.6666666666666666,\"#ed7953\"],[0.7777777777777778,\"#fb9f3a\"],[0.8888888888888888,\"#fdca26\"],[1.0,\"#f0f921\"]],\"diverging\":[[0,\"#8e0152\"],[0.1,\"#c51b7d\"],[0.2,\"#de77ae\"],[0.3,\"#f1b6da\"],[0.4,\"#fde0ef\"],[0.5,\"#f7f7f7\"],[0.6,\"#e6f5d0\"],[0.7,\"#b8e186\"],[0.8,\"#7fbc41\"],[0.9,\"#4d9221\"],[1,\"#276419\"]]},\"xaxis\":{\"gridcolor\":\"white\",\"linecolor\":\"white\",\"ticks\":\"\",\"title\":{\"standoff\":15},\"zerolinecolor\":\"white\",\"automargin\":true,\"zerolinewidth\":2},\"yaxis\":{\"gridcolor\":\"white\",\"linecolor\":\"white\",\"ticks\":\"\",\"title\":{\"standoff\":15},\"zerolinecolor\":\"white\",\"automargin\":true,\"zerolinewidth\":2},\"scene\":{\"xaxis\":{\"backgroundcolor\":\"#E5ECF6\",\"gridcolor\":\"white\",\"linecolor\":\"white\",\"showbackground\":true,\"ticks\":\"\",\"zerolinecolor\":\"white\",\"gridwidth\":2},\"yaxis\":{\"backgroundcolor\":\"#E5ECF6\",\"gridcolor\":\"white\",\"linecolor\":\"white\",\"showbackground\":true,\"ticks\":\"\",\"zerolinecolor\":\"white\",\"gridwidth\":2},\"zaxis\":{\"backgroundcolor\":\"#E5ECF6\",\"gridcolor\":\"white\",\"linecolor\":\"white\",\"showbackground\":true,\"ticks\":\"\",\"zerolinecolor\":\"white\",\"gridwidth\":2}},\"shapedefaults\":{\"line\":{\"color\":\"#2a3f5f\"}},\"annotationdefaults\":{\"arrowcolor\":\"#2a3f5f\",\"arrowhead\":0,\"arrowwidth\":1},\"geo\":{\"bgcolor\":\"white\",\"landcolor\":\"#E5ECF6\",\"subunitcolor\":\"white\",\"showland\":true,\"showlakes\":true,\"lakecolor\":\"white\"},\"title\":{\"x\":0.05},\"mapbox\":{\"style\":\"light\"}}},\"xaxis\":{\"anchor\":\"y\",\"domain\":[0.0,1.0],\"title\":{\"text\":\"index\"}},\"yaxis\":{\"anchor\":\"x\",\"domain\":[0.0,1.0],\"title\":{\"text\":\"close\"}},\"legend\":{\"tracegroupgap\":0},\"margin\":{\"t\":60}},                        {\"responsive\": true}                    ).then(function(){\n",
       "                            \n",
       "var gd = document.getElementById('d1cfe368-a227-4508-8470-c31b53c60d33');\n",
       "var x = new MutationObserver(function (mutations, observer) {{\n",
       "        var display = window.getComputedStyle(gd).display;\n",
       "        if (!display || display === 'none') {{\n",
       "            console.log([gd, 'removed!']);\n",
       "            Plotly.purge(gd);\n",
       "            observer.disconnect();\n",
       "        }}\n",
       "}});\n",
       "\n",
       "// Listen for the removal of the full notebook cells\n",
       "var notebookContainer = gd.closest('#notebook-container');\n",
       "if (notebookContainer) {{\n",
       "    x.observe(notebookContainer, {childList: true});\n",
       "}}\n",
       "\n",
       "// Listen for the clearing of the current output cell\n",
       "var outputEl = gd.closest('.output');\n",
       "if (outputEl) {{\n",
       "    x.observe(outputEl, {childList: true});\n",
       "}}\n",
       "\n",
       "                        })                };                });            </script>        </div>"
      ]
     },
     "metadata": {},
     "output_type": "display_data"
    }
   ],
   "source": [
    "fig = px.line(all_data, x=all_data.index, y=\"close\", hover_data=[\"rsi\", \"bb\"])\n",
    "fig.update_traces(mode=\"markers+lines\")\n",
    "\n",
    "fig.show()"
   ]
  },
  {
   "cell_type": "code",
   "execution_count": 19,
   "metadata": {},
   "outputs": [
    {
     "data": {
      "application/vnd.plotly.v1+json": {
       "config": {
        "plotlyServerURL": "https://plot.ly"
       },
       "data": [
        {
         "hovertemplate": "x=%{x}<br>y=%{y}<extra></extra>",
         "legendgroup": "",
         "marker": {
          "color": "#636efa",
          "symbol": "circle"
         },
         "mode": "markers",
         "name": "",
         "orientation": "v",
         "showlegend": false,
         "type": "scatter",
         "x": [
          0,
          2,
          4,
          6,
          8,
          10,
          12,
          14,
          16,
          18,
          20,
          22,
          24,
          26,
          28,
          30,
          32,
          34,
          36,
          38,
          40,
          42,
          44,
          46,
          48
         ],
         "xaxis": "x",
         "y": [
          162.49,
          163.54,
          166.35,
          165.74,
          164.02,
          168.02,
          163.3,
          163.18,
          165.51,
          166.27,
          166.22,
          168.06,
          163.99,
          166.6,
          166.42,
          162.99,
          165.93,
          166.52,
          168.4,
          163.48,
          163.23,
          163.96,
          166.2,
          165.75,
          163.1
         ],
         "yaxis": "y"
        },
        {
         "line": {
          "color": "gray"
         },
         "mode": "lines",
         "showlegend": false,
         "type": "scatter",
         "x": [
          0,
          1,
          2,
          3,
          4,
          5,
          6,
          7,
          8,
          9,
          10,
          11,
          12,
          13,
          14,
          15,
          16,
          17,
          18,
          19,
          20,
          21,
          22,
          23,
          24,
          25,
          26,
          27,
          28,
          29,
          30,
          31,
          32,
          33,
          34,
          35,
          36,
          37,
          38,
          39,
          40,
          41,
          42,
          43,
          44,
          45,
          46,
          47,
          48,
          49
         ],
         "y": [
          162.49,
          165.8,
          163.54,
          165.99,
          166.35,
          163.71,
          165.74,
          163.92,
          164.02,
          163.78,
          168.02,
          165.83,
          163.3,
          165.66,
          163.18,
          166.84,
          165.51,
          163.24,
          166.27,
          165.51,
          166.22,
          163.24,
          168.06,
          163.53,
          163.99,
          166.58,
          166.6,
          166.37,
          166.42,
          162.91,
          162.99,
          163.63,
          165.93,
          166.2,
          166.52,
          163.43,
          168.4,
          166.86,
          163.48,
          166.45,
          163.23,
          166.43,
          163.96,
          163.42,
          166.2,
          163.99,
          165.75,
          166.25,
          163.1,
          166.63
         ]
        }
       ],
       "layout": {
        "legend": {
         "tracegroupgap": 0
        },
        "template": {
         "data": {
          "bar": [
           {
            "error_x": {
             "color": "#2a3f5f"
            },
            "error_y": {
             "color": "#2a3f5f"
            },
            "marker": {
             "line": {
              "color": "#E5ECF6",
              "width": 0.5
             },
             "pattern": {
              "fillmode": "overlay",
              "size": 10,
              "solidity": 0.2
             }
            },
            "type": "bar"
           }
          ],
          "barpolar": [
           {
            "marker": {
             "line": {
              "color": "#E5ECF6",
              "width": 0.5
             },
             "pattern": {
              "fillmode": "overlay",
              "size": 10,
              "solidity": 0.2
             }
            },
            "type": "barpolar"
           }
          ],
          "carpet": [
           {
            "aaxis": {
             "endlinecolor": "#2a3f5f",
             "gridcolor": "white",
             "linecolor": "white",
             "minorgridcolor": "white",
             "startlinecolor": "#2a3f5f"
            },
            "baxis": {
             "endlinecolor": "#2a3f5f",
             "gridcolor": "white",
             "linecolor": "white",
             "minorgridcolor": "white",
             "startlinecolor": "#2a3f5f"
            },
            "type": "carpet"
           }
          ],
          "choropleth": [
           {
            "colorbar": {
             "outlinewidth": 0,
             "ticks": ""
            },
            "type": "choropleth"
           }
          ],
          "contour": [
           {
            "colorbar": {
             "outlinewidth": 0,
             "ticks": ""
            },
            "colorscale": [
             [
              0,
              "#0d0887"
             ],
             [
              0.1111111111111111,
              "#46039f"
             ],
             [
              0.2222222222222222,
              "#7201a8"
             ],
             [
              0.3333333333333333,
              "#9c179e"
             ],
             [
              0.4444444444444444,
              "#bd3786"
             ],
             [
              0.5555555555555556,
              "#d8576b"
             ],
             [
              0.6666666666666666,
              "#ed7953"
             ],
             [
              0.7777777777777778,
              "#fb9f3a"
             ],
             [
              0.8888888888888888,
              "#fdca26"
             ],
             [
              1,
              "#f0f921"
             ]
            ],
            "type": "contour"
           }
          ],
          "contourcarpet": [
           {
            "colorbar": {
             "outlinewidth": 0,
             "ticks": ""
            },
            "type": "contourcarpet"
           }
          ],
          "heatmap": [
           {
            "colorbar": {
             "outlinewidth": 0,
             "ticks": ""
            },
            "colorscale": [
             [
              0,
              "#0d0887"
             ],
             [
              0.1111111111111111,
              "#46039f"
             ],
             [
              0.2222222222222222,
              "#7201a8"
             ],
             [
              0.3333333333333333,
              "#9c179e"
             ],
             [
              0.4444444444444444,
              "#bd3786"
             ],
             [
              0.5555555555555556,
              "#d8576b"
             ],
             [
              0.6666666666666666,
              "#ed7953"
             ],
             [
              0.7777777777777778,
              "#fb9f3a"
             ],
             [
              0.8888888888888888,
              "#fdca26"
             ],
             [
              1,
              "#f0f921"
             ]
            ],
            "type": "heatmap"
           }
          ],
          "heatmapgl": [
           {
            "colorbar": {
             "outlinewidth": 0,
             "ticks": ""
            },
            "colorscale": [
             [
              0,
              "#0d0887"
             ],
             [
              0.1111111111111111,
              "#46039f"
             ],
             [
              0.2222222222222222,
              "#7201a8"
             ],
             [
              0.3333333333333333,
              "#9c179e"
             ],
             [
              0.4444444444444444,
              "#bd3786"
             ],
             [
              0.5555555555555556,
              "#d8576b"
             ],
             [
              0.6666666666666666,
              "#ed7953"
             ],
             [
              0.7777777777777778,
              "#fb9f3a"
             ],
             [
              0.8888888888888888,
              "#fdca26"
             ],
             [
              1,
              "#f0f921"
             ]
            ],
            "type": "heatmapgl"
           }
          ],
          "histogram": [
           {
            "marker": {
             "pattern": {
              "fillmode": "overlay",
              "size": 10,
              "solidity": 0.2
             }
            },
            "type": "histogram"
           }
          ],
          "histogram2d": [
           {
            "colorbar": {
             "outlinewidth": 0,
             "ticks": ""
            },
            "colorscale": [
             [
              0,
              "#0d0887"
             ],
             [
              0.1111111111111111,
              "#46039f"
             ],
             [
              0.2222222222222222,
              "#7201a8"
             ],
             [
              0.3333333333333333,
              "#9c179e"
             ],
             [
              0.4444444444444444,
              "#bd3786"
             ],
             [
              0.5555555555555556,
              "#d8576b"
             ],
             [
              0.6666666666666666,
              "#ed7953"
             ],
             [
              0.7777777777777778,
              "#fb9f3a"
             ],
             [
              0.8888888888888888,
              "#fdca26"
             ],
             [
              1,
              "#f0f921"
             ]
            ],
            "type": "histogram2d"
           }
          ],
          "histogram2dcontour": [
           {
            "colorbar": {
             "outlinewidth": 0,
             "ticks": ""
            },
            "colorscale": [
             [
              0,
              "#0d0887"
             ],
             [
              0.1111111111111111,
              "#46039f"
             ],
             [
              0.2222222222222222,
              "#7201a8"
             ],
             [
              0.3333333333333333,
              "#9c179e"
             ],
             [
              0.4444444444444444,
              "#bd3786"
             ],
             [
              0.5555555555555556,
              "#d8576b"
             ],
             [
              0.6666666666666666,
              "#ed7953"
             ],
             [
              0.7777777777777778,
              "#fb9f3a"
             ],
             [
              0.8888888888888888,
              "#fdca26"
             ],
             [
              1,
              "#f0f921"
             ]
            ],
            "type": "histogram2dcontour"
           }
          ],
          "mesh3d": [
           {
            "colorbar": {
             "outlinewidth": 0,
             "ticks": ""
            },
            "type": "mesh3d"
           }
          ],
          "parcoords": [
           {
            "line": {
             "colorbar": {
              "outlinewidth": 0,
              "ticks": ""
             }
            },
            "type": "parcoords"
           }
          ],
          "pie": [
           {
            "automargin": true,
            "type": "pie"
           }
          ],
          "scatter": [
           {
            "fillpattern": {
             "fillmode": "overlay",
             "size": 10,
             "solidity": 0.2
            },
            "type": "scatter"
           }
          ],
          "scatter3d": [
           {
            "line": {
             "colorbar": {
              "outlinewidth": 0,
              "ticks": ""
             }
            },
            "marker": {
             "colorbar": {
              "outlinewidth": 0,
              "ticks": ""
             }
            },
            "type": "scatter3d"
           }
          ],
          "scattercarpet": [
           {
            "marker": {
             "colorbar": {
              "outlinewidth": 0,
              "ticks": ""
             }
            },
            "type": "scattercarpet"
           }
          ],
          "scattergeo": [
           {
            "marker": {
             "colorbar": {
              "outlinewidth": 0,
              "ticks": ""
             }
            },
            "type": "scattergeo"
           }
          ],
          "scattergl": [
           {
            "marker": {
             "colorbar": {
              "outlinewidth": 0,
              "ticks": ""
             }
            },
            "type": "scattergl"
           }
          ],
          "scattermapbox": [
           {
            "marker": {
             "colorbar": {
              "outlinewidth": 0,
              "ticks": ""
             }
            },
            "type": "scattermapbox"
           }
          ],
          "scatterpolar": [
           {
            "marker": {
             "colorbar": {
              "outlinewidth": 0,
              "ticks": ""
             }
            },
            "type": "scatterpolar"
           }
          ],
          "scatterpolargl": [
           {
            "marker": {
             "colorbar": {
              "outlinewidth": 0,
              "ticks": ""
             }
            },
            "type": "scatterpolargl"
           }
          ],
          "scatterternary": [
           {
            "marker": {
             "colorbar": {
              "outlinewidth": 0,
              "ticks": ""
             }
            },
            "type": "scatterternary"
           }
          ],
          "surface": [
           {
            "colorbar": {
             "outlinewidth": 0,
             "ticks": ""
            },
            "colorscale": [
             [
              0,
              "#0d0887"
             ],
             [
              0.1111111111111111,
              "#46039f"
             ],
             [
              0.2222222222222222,
              "#7201a8"
             ],
             [
              0.3333333333333333,
              "#9c179e"
             ],
             [
              0.4444444444444444,
              "#bd3786"
             ],
             [
              0.5555555555555556,
              "#d8576b"
             ],
             [
              0.6666666666666666,
              "#ed7953"
             ],
             [
              0.7777777777777778,
              "#fb9f3a"
             ],
             [
              0.8888888888888888,
              "#fdca26"
             ],
             [
              1,
              "#f0f921"
             ]
            ],
            "type": "surface"
           }
          ],
          "table": [
           {
            "cells": {
             "fill": {
              "color": "#EBF0F8"
             },
             "line": {
              "color": "white"
             }
            },
            "header": {
             "fill": {
              "color": "#C8D4E3"
             },
             "line": {
              "color": "white"
             }
            },
            "type": "table"
           }
          ]
         },
         "layout": {
          "annotationdefaults": {
           "arrowcolor": "#2a3f5f",
           "arrowhead": 0,
           "arrowwidth": 1
          },
          "autotypenumbers": "strict",
          "coloraxis": {
           "colorbar": {
            "outlinewidth": 0,
            "ticks": ""
           }
          },
          "colorscale": {
           "diverging": [
            [
             0,
             "#8e0152"
            ],
            [
             0.1,
             "#c51b7d"
            ],
            [
             0.2,
             "#de77ae"
            ],
            [
             0.3,
             "#f1b6da"
            ],
            [
             0.4,
             "#fde0ef"
            ],
            [
             0.5,
             "#f7f7f7"
            ],
            [
             0.6,
             "#e6f5d0"
            ],
            [
             0.7,
             "#b8e186"
            ],
            [
             0.8,
             "#7fbc41"
            ],
            [
             0.9,
             "#4d9221"
            ],
            [
             1,
             "#276419"
            ]
           ],
           "sequential": [
            [
             0,
             "#0d0887"
            ],
            [
             0.1111111111111111,
             "#46039f"
            ],
            [
             0.2222222222222222,
             "#7201a8"
            ],
            [
             0.3333333333333333,
             "#9c179e"
            ],
            [
             0.4444444444444444,
             "#bd3786"
            ],
            [
             0.5555555555555556,
             "#d8576b"
            ],
            [
             0.6666666666666666,
             "#ed7953"
            ],
            [
             0.7777777777777778,
             "#fb9f3a"
            ],
            [
             0.8888888888888888,
             "#fdca26"
            ],
            [
             1,
             "#f0f921"
            ]
           ],
           "sequentialminus": [
            [
             0,
             "#0d0887"
            ],
            [
             0.1111111111111111,
             "#46039f"
            ],
            [
             0.2222222222222222,
             "#7201a8"
            ],
            [
             0.3333333333333333,
             "#9c179e"
            ],
            [
             0.4444444444444444,
             "#bd3786"
            ],
            [
             0.5555555555555556,
             "#d8576b"
            ],
            [
             0.6666666666666666,
             "#ed7953"
            ],
            [
             0.7777777777777778,
             "#fb9f3a"
            ],
            [
             0.8888888888888888,
             "#fdca26"
            ],
            [
             1,
             "#f0f921"
            ]
           ]
          },
          "colorway": [
           "#636efa",
           "#EF553B",
           "#00cc96",
           "#ab63fa",
           "#FFA15A",
           "#19d3f3",
           "#FF6692",
           "#B6E880",
           "#FF97FF",
           "#FECB52"
          ],
          "font": {
           "color": "#2a3f5f"
          },
          "geo": {
           "bgcolor": "white",
           "lakecolor": "white",
           "landcolor": "#E5ECF6",
           "showlakes": true,
           "showland": true,
           "subunitcolor": "white"
          },
          "hoverlabel": {
           "align": "left"
          },
          "hovermode": "closest",
          "mapbox": {
           "style": "light"
          },
          "paper_bgcolor": "white",
          "plot_bgcolor": "#E5ECF6",
          "polar": {
           "angularaxis": {
            "gridcolor": "white",
            "linecolor": "white",
            "ticks": ""
           },
           "bgcolor": "#E5ECF6",
           "radialaxis": {
            "gridcolor": "white",
            "linecolor": "white",
            "ticks": ""
           }
          },
          "scene": {
           "xaxis": {
            "backgroundcolor": "#E5ECF6",
            "gridcolor": "white",
            "gridwidth": 2,
            "linecolor": "white",
            "showbackground": true,
            "ticks": "",
            "zerolinecolor": "white"
           },
           "yaxis": {
            "backgroundcolor": "#E5ECF6",
            "gridcolor": "white",
            "gridwidth": 2,
            "linecolor": "white",
            "showbackground": true,
            "ticks": "",
            "zerolinecolor": "white"
           },
           "zaxis": {
            "backgroundcolor": "#E5ECF6",
            "gridcolor": "white",
            "gridwidth": 2,
            "linecolor": "white",
            "showbackground": true,
            "ticks": "",
            "zerolinecolor": "white"
           }
          },
          "shapedefaults": {
           "line": {
            "color": "#2a3f5f"
           }
          },
          "ternary": {
           "aaxis": {
            "gridcolor": "white",
            "linecolor": "white",
            "ticks": ""
           },
           "baxis": {
            "gridcolor": "white",
            "linecolor": "white",
            "ticks": ""
           },
           "bgcolor": "#E5ECF6",
           "caxis": {
            "gridcolor": "white",
            "linecolor": "white",
            "ticks": ""
           }
          },
          "title": {
           "x": 0.05
          },
          "xaxis": {
           "automargin": true,
           "gridcolor": "white",
           "linecolor": "white",
           "ticks": "",
           "title": {
            "standoff": 15
           },
           "zerolinecolor": "white",
           "zerolinewidth": 2
          },
          "yaxis": {
           "automargin": true,
           "gridcolor": "white",
           "linecolor": "white",
           "ticks": "",
           "title": {
            "standoff": 15
           },
           "zerolinecolor": "white",
           "zerolinewidth": 2
          }
         }
        },
        "title": {
         "text": "Using The add_trace() method With A Plotly Express Figure"
        },
        "xaxis": {
         "anchor": "y",
         "domain": [
          0,
          1
         ],
         "title": {
          "text": "x"
         }
        },
        "yaxis": {
         "anchor": "x",
         "domain": [
          0,
          1
         ],
         "title": {
          "text": "y"
         }
        }
       }
      },
      "text/html": [
       "<div>                            <div id=\"ca210158-82dd-490a-a230-cc6d8483fd03\" class=\"plotly-graph-div\" style=\"height:525px; width:100%;\"></div>            <script type=\"text/javascript\">                require([\"plotly\"], function(Plotly) {                    window.PLOTLYENV=window.PLOTLYENV || {};                                    if (document.getElementById(\"ca210158-82dd-490a-a230-cc6d8483fd03\")) {                    Plotly.newPlot(                        \"ca210158-82dd-490a-a230-cc6d8483fd03\",                        [{\"hovertemplate\":\"x=%{x}\\u003cbr\\u003ey=%{y}\\u003cextra\\u003e\\u003c\\u002fextra\\u003e\",\"legendgroup\":\"\",\"marker\":{\"color\":\"#636efa\",\"symbol\":\"circle\"},\"mode\":\"markers\",\"name\":\"\",\"orientation\":\"v\",\"showlegend\":false,\"x\":[0,2,4,6,8,10,12,14,16,18,20,22,24,26,28,30,32,34,36,38,40,42,44,46,48],\"xaxis\":\"x\",\"y\":[162.49,163.54,166.35,165.74,164.02,168.02,163.3,163.18,165.51,166.27,166.22,168.06,163.99,166.6,166.42,162.99,165.93,166.52,168.4,163.48,163.23,163.96,166.2,165.75,163.1],\"yaxis\":\"y\",\"type\":\"scatter\"},{\"line\":{\"color\":\"gray\"},\"mode\":\"lines\",\"showlegend\":false,\"x\":[0,1,2,3,4,5,6,7,8,9,10,11,12,13,14,15,16,17,18,19,20,21,22,23,24,25,26,27,28,29,30,31,32,33,34,35,36,37,38,39,40,41,42,43,44,45,46,47,48,49],\"y\":[162.49,165.8,163.54,165.99,166.35,163.71,165.74,163.92,164.02,163.78,168.02,165.83,163.3,165.66,163.18,166.84,165.51,163.24,166.27,165.51,166.22,163.24,168.06,163.53,163.99,166.58,166.6,166.37,166.42,162.91,162.99,163.63,165.93,166.2,166.52,163.43,168.4,166.86,163.48,166.45,163.23,166.43,163.96,163.42,166.2,163.99,165.75,166.25,163.1,166.63],\"type\":\"scatter\"}],                        {\"template\":{\"data\":{\"histogram2dcontour\":[{\"type\":\"histogram2dcontour\",\"colorbar\":{\"outlinewidth\":0,\"ticks\":\"\"},\"colorscale\":[[0.0,\"#0d0887\"],[0.1111111111111111,\"#46039f\"],[0.2222222222222222,\"#7201a8\"],[0.3333333333333333,\"#9c179e\"],[0.4444444444444444,\"#bd3786\"],[0.5555555555555556,\"#d8576b\"],[0.6666666666666666,\"#ed7953\"],[0.7777777777777778,\"#fb9f3a\"],[0.8888888888888888,\"#fdca26\"],[1.0,\"#f0f921\"]]}],\"choropleth\":[{\"type\":\"choropleth\",\"colorbar\":{\"outlinewidth\":0,\"ticks\":\"\"}}],\"histogram2d\":[{\"type\":\"histogram2d\",\"colorbar\":{\"outlinewidth\":0,\"ticks\":\"\"},\"colorscale\":[[0.0,\"#0d0887\"],[0.1111111111111111,\"#46039f\"],[0.2222222222222222,\"#7201a8\"],[0.3333333333333333,\"#9c179e\"],[0.4444444444444444,\"#bd3786\"],[0.5555555555555556,\"#d8576b\"],[0.6666666666666666,\"#ed7953\"],[0.7777777777777778,\"#fb9f3a\"],[0.8888888888888888,\"#fdca26\"],[1.0,\"#f0f921\"]]}],\"heatmap\":[{\"type\":\"heatmap\",\"colorbar\":{\"outlinewidth\":0,\"ticks\":\"\"},\"colorscale\":[[0.0,\"#0d0887\"],[0.1111111111111111,\"#46039f\"],[0.2222222222222222,\"#7201a8\"],[0.3333333333333333,\"#9c179e\"],[0.4444444444444444,\"#bd3786\"],[0.5555555555555556,\"#d8576b\"],[0.6666666666666666,\"#ed7953\"],[0.7777777777777778,\"#fb9f3a\"],[0.8888888888888888,\"#fdca26\"],[1.0,\"#f0f921\"]]}],\"heatmapgl\":[{\"type\":\"heatmapgl\",\"colorbar\":{\"outlinewidth\":0,\"ticks\":\"\"},\"colorscale\":[[0.0,\"#0d0887\"],[0.1111111111111111,\"#46039f\"],[0.2222222222222222,\"#7201a8\"],[0.3333333333333333,\"#9c179e\"],[0.4444444444444444,\"#bd3786\"],[0.5555555555555556,\"#d8576b\"],[0.6666666666666666,\"#ed7953\"],[0.7777777777777778,\"#fb9f3a\"],[0.8888888888888888,\"#fdca26\"],[1.0,\"#f0f921\"]]}],\"contourcarpet\":[{\"type\":\"contourcarpet\",\"colorbar\":{\"outlinewidth\":0,\"ticks\":\"\"}}],\"contour\":[{\"type\":\"contour\",\"colorbar\":{\"outlinewidth\":0,\"ticks\":\"\"},\"colorscale\":[[0.0,\"#0d0887\"],[0.1111111111111111,\"#46039f\"],[0.2222222222222222,\"#7201a8\"],[0.3333333333333333,\"#9c179e\"],[0.4444444444444444,\"#bd3786\"],[0.5555555555555556,\"#d8576b\"],[0.6666666666666666,\"#ed7953\"],[0.7777777777777778,\"#fb9f3a\"],[0.8888888888888888,\"#fdca26\"],[1.0,\"#f0f921\"]]}],\"surface\":[{\"type\":\"surface\",\"colorbar\":{\"outlinewidth\":0,\"ticks\":\"\"},\"colorscale\":[[0.0,\"#0d0887\"],[0.1111111111111111,\"#46039f\"],[0.2222222222222222,\"#7201a8\"],[0.3333333333333333,\"#9c179e\"],[0.4444444444444444,\"#bd3786\"],[0.5555555555555556,\"#d8576b\"],[0.6666666666666666,\"#ed7953\"],[0.7777777777777778,\"#fb9f3a\"],[0.8888888888888888,\"#fdca26\"],[1.0,\"#f0f921\"]]}],\"mesh3d\":[{\"type\":\"mesh3d\",\"colorbar\":{\"outlinewidth\":0,\"ticks\":\"\"}}],\"scatter\":[{\"fillpattern\":{\"fillmode\":\"overlay\",\"size\":10,\"solidity\":0.2},\"type\":\"scatter\"}],\"parcoords\":[{\"type\":\"parcoords\",\"line\":{\"colorbar\":{\"outlinewidth\":0,\"ticks\":\"\"}}}],\"scatterpolargl\":[{\"type\":\"scatterpolargl\",\"marker\":{\"colorbar\":{\"outlinewidth\":0,\"ticks\":\"\"}}}],\"bar\":[{\"error_x\":{\"color\":\"#2a3f5f\"},\"error_y\":{\"color\":\"#2a3f5f\"},\"marker\":{\"line\":{\"color\":\"#E5ECF6\",\"width\":0.5},\"pattern\":{\"fillmode\":\"overlay\",\"size\":10,\"solidity\":0.2}},\"type\":\"bar\"}],\"scattergeo\":[{\"type\":\"scattergeo\",\"marker\":{\"colorbar\":{\"outlinewidth\":0,\"ticks\":\"\"}}}],\"scatterpolar\":[{\"type\":\"scatterpolar\",\"marker\":{\"colorbar\":{\"outlinewidth\":0,\"ticks\":\"\"}}}],\"histogram\":[{\"marker\":{\"pattern\":{\"fillmode\":\"overlay\",\"size\":10,\"solidity\":0.2}},\"type\":\"histogram\"}],\"scattergl\":[{\"type\":\"scattergl\",\"marker\":{\"colorbar\":{\"outlinewidth\":0,\"ticks\":\"\"}}}],\"scatter3d\":[{\"type\":\"scatter3d\",\"line\":{\"colorbar\":{\"outlinewidth\":0,\"ticks\":\"\"}},\"marker\":{\"colorbar\":{\"outlinewidth\":0,\"ticks\":\"\"}}}],\"scattermapbox\":[{\"type\":\"scattermapbox\",\"marker\":{\"colorbar\":{\"outlinewidth\":0,\"ticks\":\"\"}}}],\"scatterternary\":[{\"type\":\"scatterternary\",\"marker\":{\"colorbar\":{\"outlinewidth\":0,\"ticks\":\"\"}}}],\"scattercarpet\":[{\"type\":\"scattercarpet\",\"marker\":{\"colorbar\":{\"outlinewidth\":0,\"ticks\":\"\"}}}],\"carpet\":[{\"aaxis\":{\"endlinecolor\":\"#2a3f5f\",\"gridcolor\":\"white\",\"linecolor\":\"white\",\"minorgridcolor\":\"white\",\"startlinecolor\":\"#2a3f5f\"},\"baxis\":{\"endlinecolor\":\"#2a3f5f\",\"gridcolor\":\"white\",\"linecolor\":\"white\",\"minorgridcolor\":\"white\",\"startlinecolor\":\"#2a3f5f\"},\"type\":\"carpet\"}],\"table\":[{\"cells\":{\"fill\":{\"color\":\"#EBF0F8\"},\"line\":{\"color\":\"white\"}},\"header\":{\"fill\":{\"color\":\"#C8D4E3\"},\"line\":{\"color\":\"white\"}},\"type\":\"table\"}],\"barpolar\":[{\"marker\":{\"line\":{\"color\":\"#E5ECF6\",\"width\":0.5},\"pattern\":{\"fillmode\":\"overlay\",\"size\":10,\"solidity\":0.2}},\"type\":\"barpolar\"}],\"pie\":[{\"automargin\":true,\"type\":\"pie\"}]},\"layout\":{\"autotypenumbers\":\"strict\",\"colorway\":[\"#636efa\",\"#EF553B\",\"#00cc96\",\"#ab63fa\",\"#FFA15A\",\"#19d3f3\",\"#FF6692\",\"#B6E880\",\"#FF97FF\",\"#FECB52\"],\"font\":{\"color\":\"#2a3f5f\"},\"hovermode\":\"closest\",\"hoverlabel\":{\"align\":\"left\"},\"paper_bgcolor\":\"white\",\"plot_bgcolor\":\"#E5ECF6\",\"polar\":{\"bgcolor\":\"#E5ECF6\",\"angularaxis\":{\"gridcolor\":\"white\",\"linecolor\":\"white\",\"ticks\":\"\"},\"radialaxis\":{\"gridcolor\":\"white\",\"linecolor\":\"white\",\"ticks\":\"\"}},\"ternary\":{\"bgcolor\":\"#E5ECF6\",\"aaxis\":{\"gridcolor\":\"white\",\"linecolor\":\"white\",\"ticks\":\"\"},\"baxis\":{\"gridcolor\":\"white\",\"linecolor\":\"white\",\"ticks\":\"\"},\"caxis\":{\"gridcolor\":\"white\",\"linecolor\":\"white\",\"ticks\":\"\"}},\"coloraxis\":{\"colorbar\":{\"outlinewidth\":0,\"ticks\":\"\"}},\"colorscale\":{\"sequential\":[[0.0,\"#0d0887\"],[0.1111111111111111,\"#46039f\"],[0.2222222222222222,\"#7201a8\"],[0.3333333333333333,\"#9c179e\"],[0.4444444444444444,\"#bd3786\"],[0.5555555555555556,\"#d8576b\"],[0.6666666666666666,\"#ed7953\"],[0.7777777777777778,\"#fb9f3a\"],[0.8888888888888888,\"#fdca26\"],[1.0,\"#f0f921\"]],\"sequentialminus\":[[0.0,\"#0d0887\"],[0.1111111111111111,\"#46039f\"],[0.2222222222222222,\"#7201a8\"],[0.3333333333333333,\"#9c179e\"],[0.4444444444444444,\"#bd3786\"],[0.5555555555555556,\"#d8576b\"],[0.6666666666666666,\"#ed7953\"],[0.7777777777777778,\"#fb9f3a\"],[0.8888888888888888,\"#fdca26\"],[1.0,\"#f0f921\"]],\"diverging\":[[0,\"#8e0152\"],[0.1,\"#c51b7d\"],[0.2,\"#de77ae\"],[0.3,\"#f1b6da\"],[0.4,\"#fde0ef\"],[0.5,\"#f7f7f7\"],[0.6,\"#e6f5d0\"],[0.7,\"#b8e186\"],[0.8,\"#7fbc41\"],[0.9,\"#4d9221\"],[1,\"#276419\"]]},\"xaxis\":{\"gridcolor\":\"white\",\"linecolor\":\"white\",\"ticks\":\"\",\"title\":{\"standoff\":15},\"zerolinecolor\":\"white\",\"automargin\":true,\"zerolinewidth\":2},\"yaxis\":{\"gridcolor\":\"white\",\"linecolor\":\"white\",\"ticks\":\"\",\"title\":{\"standoff\":15},\"zerolinecolor\":\"white\",\"automargin\":true,\"zerolinewidth\":2},\"scene\":{\"xaxis\":{\"backgroundcolor\":\"#E5ECF6\",\"gridcolor\":\"white\",\"linecolor\":\"white\",\"showbackground\":true,\"ticks\":\"\",\"zerolinecolor\":\"white\",\"gridwidth\":2},\"yaxis\":{\"backgroundcolor\":\"#E5ECF6\",\"gridcolor\":\"white\",\"linecolor\":\"white\",\"showbackground\":true,\"ticks\":\"\",\"zerolinecolor\":\"white\",\"gridwidth\":2},\"zaxis\":{\"backgroundcolor\":\"#E5ECF6\",\"gridcolor\":\"white\",\"linecolor\":\"white\",\"showbackground\":true,\"ticks\":\"\",\"zerolinecolor\":\"white\",\"gridwidth\":2}},\"shapedefaults\":{\"line\":{\"color\":\"#2a3f5f\"}},\"annotationdefaults\":{\"arrowcolor\":\"#2a3f5f\",\"arrowhead\":0,\"arrowwidth\":1},\"geo\":{\"bgcolor\":\"white\",\"landcolor\":\"#E5ECF6\",\"subunitcolor\":\"white\",\"showland\":true,\"showlakes\":true,\"lakecolor\":\"white\"},\"title\":{\"x\":0.05},\"mapbox\":{\"style\":\"light\"}}},\"xaxis\":{\"anchor\":\"y\",\"domain\":[0.0,1.0],\"title\":{\"text\":\"x\"}},\"yaxis\":{\"anchor\":\"x\",\"domain\":[0.0,1.0],\"title\":{\"text\":\"y\"}},\"legend\":{\"tracegroupgap\":0},\"title\":{\"text\":\"Using The add_trace() method With A Plotly Express Figure\"}},                        {\"responsive\": true}                    ).then(function(){\n",
       "                            \n",
       "var gd = document.getElementById('ca210158-82dd-490a-a230-cc6d8483fd03');\n",
       "var x = new MutationObserver(function (mutations, observer) {{\n",
       "        var display = window.getComputedStyle(gd).display;\n",
       "        if (!display || display === 'none') {{\n",
       "            console.log([gd, 'removed!']);\n",
       "            Plotly.purge(gd);\n",
       "            observer.disconnect();\n",
       "        }}\n",
       "}});\n",
       "\n",
       "// Listen for the removal of the full notebook cells\n",
       "var notebookContainer = gd.closest('#notebook-container');\n",
       "if (notebookContainer) {{\n",
       "    x.observe(notebookContainer, {childList: true});\n",
       "}}\n",
       "\n",
       "// Listen for the clearing of the current output cell\n",
       "var outputEl = gd.closest('.output');\n",
       "if (outputEl) {{\n",
       "    x.observe(outputEl, {childList: true});\n",
       "}}\n",
       "\n",
       "                        })                };                });            </script>        </div>"
      ]
     },
     "metadata": {},
     "output_type": "display_data"
    }
   ],
   "source": [
    "fig = px.scatter(\n",
    "    x=x_buy, y=y_buy, title=\"Using The add_trace() method With A Plotly Express Figure\"\n",
    ")\n",
    "\n",
    "fig.add_trace(\n",
    "    go.Scatter(\n",
    "        x=x, y=price, mode=\"lines\", line=go.scatter.Line(color=\"gray\"), showlegend=False\n",
    "    )\n",
    ")\n",
    "fig.show()"
   ]
  },
  {
   "cell_type": "code",
   "execution_count": 15,
   "metadata": {},
   "outputs": [
    {
     "data": {
      "image/png": "[encoded data removed]",
      "text/plain": [
       "<Figure size 640x480 with 1 Axes>"
      ]
     },
     "metadata": {},
     "output_type": "display_data"
    }
   ],
   "source": [
    "import matplotlib.pyplot as plt\n",
    "\n",
    "\n",
    "plt.plot(x, price)\n",
    "plt.scatter(x_buy, y_buy)"
   ]
  },
  {
   "cell_type": "code",
   "execution_count": 12,
   "metadata": {},
   "outputs": [
    {
     "data": {
      "text/html": [
       "<div>\n",
       "<style scoped>\n",
       "    .dataframe tbody tr th:only-of-type {\n",
       "        vertical-align: middle;\n",
       "    }\n",
       "\n",
       "    .dataframe tbody tr th {\n",
       "        vertical-align: top;\n",
       "    }\n",
       "\n",
       "    .dataframe thead th {\n",
       "        text-align: right;\n",
       "    }\n",
       "</style>\n",
       "<table border=\"1\" class=\"dataframe\">\n",
       "  <thead>\n",
       "    <tr style=\"text-align: right;\">\n",
       "      <th></th>\n",
       "      <th>rsi</th>\n",
       "      <th>bb</th>\n",
       "      <th>target</th>\n",
       "      <th>open</th>\n",
       "      <th>high</th>\n",
       "      <th>low</th>\n",
       "      <th>close</th>\n",
       "      <th>volume</th>\n",
       "    </tr>\n",
       "  </thead>\n",
       "  <tbody>\n",
       "    <tr>\n",
       "      <th>0</th>\n",
       "      <td>42.566510</td>\n",
       "      <td>-1.228299</td>\n",
       "      <td>1</td>\n",
       "      <td>163.36</td>\n",
       "      <td>163.36</td>\n",
       "      <td>163.28</td>\n",
       "      <td>163.36</td>\n",
       "      <td>177090.0</td>\n",
       "    </tr>\n",
       "    <tr>\n",
       "      <th>1</th>\n",
       "      <td>51.131824</td>\n",
       "      <td>1.174911</td>\n",
       "      <td>1</td>\n",
       "      <td>166.70</td>\n",
       "      <td>166.81</td>\n",
       "      <td>166.66</td>\n",
       "      <td>166.81</td>\n",
       "      <td>27390.0</td>\n",
       "    </tr>\n",
       "    <tr>\n",
       "      <th>2</th>\n",
       "      <td>50.086957</td>\n",
       "      <td>-0.663223</td>\n",
       "      <td>1</td>\n",
       "      <td>164.00</td>\n",
       "      <td>164.08</td>\n",
       "      <td>163.97</td>\n",
       "      <td>164.08</td>\n",
       "      <td>7740.0</td>\n",
       "    </tr>\n",
       "    <tr>\n",
       "      <th>3</th>\n",
       "      <td>53.951063</td>\n",
       "      <td>1.827532</td>\n",
       "      <td>0</td>\n",
       "      <td>168.07</td>\n",
       "      <td>168.15</td>\n",
       "      <td>168.03</td>\n",
       "      <td>168.10</td>\n",
       "      <td>31330.0</td>\n",
       "    </tr>\n",
       "    <tr>\n",
       "      <th>4</th>\n",
       "      <td>55.578512</td>\n",
       "      <td>0.528205</td>\n",
       "      <td>1</td>\n",
       "      <td>165.84</td>\n",
       "      <td>166.20</td>\n",
       "      <td>165.83</td>\n",
       "      <td>166.17</td>\n",
       "      <td>246030.0</td>\n",
       "    </tr>\n",
       "    <tr>\n",
       "      <th>...</th>\n",
       "      <td>...</td>\n",
       "      <td>...</td>\n",
       "      <td>...</td>\n",
       "      <td>...</td>\n",
       "      <td>...</td>\n",
       "      <td>...</td>\n",
       "      <td>...</td>\n",
       "      <td>...</td>\n",
       "    </tr>\n",
       "    <tr>\n",
       "      <th>2117</th>\n",
       "      <td>44.632153</td>\n",
       "      <td>-1.456529</td>\n",
       "      <td>1</td>\n",
       "      <td>163.28</td>\n",
       "      <td>163.38</td>\n",
       "      <td>163.26</td>\n",
       "      <td>163.38</td>\n",
       "      <td>45040.0</td>\n",
       "    </tr>\n",
       "    <tr>\n",
       "      <th>2118</th>\n",
       "      <td>48.030691</td>\n",
       "      <td>0.905347</td>\n",
       "      <td>0</td>\n",
       "      <td>167.89</td>\n",
       "      <td>167.89</td>\n",
       "      <td>167.78</td>\n",
       "      <td>167.80</td>\n",
       "      <td>21310.0</td>\n",
       "    </tr>\n",
       "    <tr>\n",
       "      <th>2119</th>\n",
       "      <td>41.938365</td>\n",
       "      <td>-1.435991</td>\n",
       "      <td>0</td>\n",
       "      <td>163.59</td>\n",
       "      <td>163.60</td>\n",
       "      <td>163.50</td>\n",
       "      <td>163.54</td>\n",
       "      <td>91250.0</td>\n",
       "    </tr>\n",
       "    <tr>\n",
       "      <th>2120</th>\n",
       "      <td>46.058091</td>\n",
       "      <td>0.306427</td>\n",
       "      <td>0</td>\n",
       "      <td>166.72</td>\n",
       "      <td>166.75</td>\n",
       "      <td>166.47</td>\n",
       "      <td>166.49</td>\n",
       "      <td>105300.0</td>\n",
       "    </tr>\n",
       "    <tr>\n",
       "      <th>2121</th>\n",
       "      <td>44.453344</td>\n",
       "      <td>-1.241618</td>\n",
       "      <td>0</td>\n",
       "      <td>163.49</td>\n",
       "      <td>163.49</td>\n",
       "      <td>163.49</td>\n",
       "      <td>163.49</td>\n",
       "      <td>276730.0</td>\n",
       "    </tr>\n",
       "  </tbody>\n",
       "</table>\n",
       "<p>2122 rows × 8 columns</p>\n",
       "</div>"
      ],
      "text/plain": [
       "            rsi        bb  target    open    high     low   close    volume\n",
       "0     42.566510 -1.228299       1  163.36  163.36  163.28  163.36  177090.0\n",
       "1     51.131824  1.174911       1  166.70  166.81  166.66  166.81   27390.0\n",
       "2     50.086957 -0.663223       1  164.00  164.08  163.97  164.08    7740.0\n",
       "3     53.951063  1.827532       0  168.07  168.15  168.03  168.10   31330.0\n",
       "4     55.578512  0.528205       1  165.84  166.20  165.83  166.17  246030.0\n",
       "...         ...       ...     ...     ...     ...     ...     ...       ...\n",
       "2117  44.632153 -1.456529       1  163.28  163.38  163.26  163.38   45040.0\n",
       "2118  48.030691  0.905347       0  167.89  167.89  167.78  167.80   21310.0\n",
       "2119  41.938365 -1.435991       0  163.59  163.60  163.50  163.54   91250.0\n",
       "2120  46.058091  0.306427       0  166.72  166.75  166.47  166.49  105300.0\n",
       "2121  44.453344 -1.241618       0  163.49  163.49  163.49  163.49  276730.0\n",
       "\n",
       "[2122 rows x 8 columns]"
      ]
     },
     "execution_count": 12,
     "metadata": {},
     "output_type": "execute_result"
    }
   ],
   "source": [
    "all_data"
   ]
  },
  {
   "cell_type": "code",
   "execution_count": 45,
   "metadata": {},
   "outputs": [
    {
     "data": {
      "text/plain": [
       "0.07212937"
      ]
     },
     "execution_count": 45,
     "metadata": {},
     "output_type": "execute_result"
    }
   ],
   "source": [
    "import gym\n",
    "from stable_baselines3 import PPO\n",
    "from stable_baselines3.common.env_util import make_vec_env\n",
    "from gym import spaces\n",
    "from stable_baselines3.common.vec_env import DummyVecEnv\n",
    "from stable_baselines3.common.evaluation import evaluate_policy\n",
    "from stable_baselines3.common.callbacks import ProgressBarCallback\n",
    "\n",
    "# Your DataFrame `df` should contain all observations and you will have your reward function `reward_function`\n",
    "df = res.copy()\n",
    "df.columns = [col.lower() for col in df.columns]\n",
    "\n",
    "steps_obs = 3\n",
    "commision_bps = 0\n",
    "rewards = []\n",
    "Statistics = []\n",
    "\n",
    "init_balance = 200\n",
    "init_active = 10\n",
    "\n",
    "start_price = all_data[\"close\"].iloc[0]\n",
    "init_pv = init_balance + init_active * start_price\n",
    "\n",
    "MAX_BALANCE = 2 * init_pv\n",
    "MAX_ACTIVE = 2 * init_pv / start_price\n",
    "\n",
    "\n",
    "class CustomEnv(gym.Env):\n",
    "    def __init__(self, df, init_balance, init_active, test=False):\n",
    "        super(CustomEnv, self).__init__()\n",
    "        self.df = df\n",
    "        self.test = test\n",
    "        self.seed = lambda x: 0\n",
    "        self.current_step = 0\n",
    "        # Assume observation space is a 1D array of features (adjust according to your data)\n",
    "        self.observation_space = spaces.Box(low=0, high=1, shape=(4,), dtype=np.float32)\n",
    "        self.balance = init_balance\n",
    "        self.active = init_active\n",
    "        self.current_price = self.df[\"close\"].iloc[self.current_step]\n",
    "        self.pv = self.balance + self.active * self.current_price\n",
    "        # Adjust according to your action space\n",
    "        self.action_space = spaces.Box(\n",
    "            low=np.array([-1]),\n",
    "            high=np.array([1]),\n",
    "            dtype=np.float32,\n",
    "        )\n",
    "\n",
    "    def reset(self):\n",
    "        # Reset the state of the environment to an initial state\n",
    "        print(\"reseting...\")\n",
    "        self.current_step = 0\n",
    "        if self.test:\n",
    "            rewards.append([])\n",
    "            Statistics.append([])\n",
    "        return self.df.iloc[self.current_step, -6:].values\n",
    "\n",
    "    def reward_function(self, action):\n",
    "        next_price = self.df[\"close\"].iloc[self.current_step + 1]\n",
    "        # покупаем\n",
    "        if action > 0:\n",
    "            money_to_spend = self.balance * action\n",
    "            self.active += money_to_spend / self.current_price\n",
    "            self.balance -= money_to_spend\n",
    "        # продаем\n",
    "        elif action < 0:\n",
    "            active_to_sell = self.active * abs(action)\n",
    "            self.active -= active_to_sell\n",
    "            self.balance += active_to_sell * self.current_price\n",
    "        new_pv = self.active * next_price + self.balance\n",
    "        reward = (new_pv - self.pv) / self.pv * 1e4\n",
    "\n",
    "        return reward\n",
    "\n",
    "    def step(self, action):\n",
    "        # Calculate the reward\n",
    "\n",
    "        reward = self.reward_function(action)\n",
    "        self.current_step += 1\n",
    "        if self.current_step < len(self.df.index) - (steps_obs + 1):\n",
    "            next_state = np.append(\n",
    "                self.df[indicator_data.columns].iloc[self.current_step].values,\n",
    "                np.array([self.balance / MAX_BALANCE, self.active / MAX_ACTIVE]),\n",
    "            )\n",
    "            done = False\n",
    "        else:\n",
    "            # The episode is finished\n",
    "            next_state = np.zeros(self.observation_space.shape)\n",
    "            done = True\n",
    "\n",
    "        # Placeholder for info, additional data can be added if needed\n",
    "        info = {}\n",
    "        # print(next_state)\n",
    "        if self.test:\n",
    "            rewards[-1].append(reward)\n",
    "        self.current_price = self.df[\"close\"].iloc[self.current_step]\n",
    "        self.pv = self.active * self.current_price + self.balance\n",
    "\n",
    "        return next_state, reward, done, info"
   ]
  },
  {
   "cell_type": "code",
   "execution_count": 17,
   "metadata": {},
   "outputs": [
    {
     "data": {
      "text/plain": [
       "torch.Size([5, 3, 20])"
      ]
     },
     "execution_count": 17,
     "metadata": {},
     "output_type": "execute_result"
    }
   ],
   "source": [
    "# Create multiple environments\n",
    "env = CustomEnv()\n",
    "env = DummyVecEnv([lambda: env])\n",
    "\n",
    "# Create the PPO model\n",
    "model = PPO(\"MlpPolicy\", env, verbose=1)\n",
    "\n",
    "# Train the model\n",
    "model.learn(total_timesteps=10000, progress_bar=True)\n",
    "\n",
    "# Evaluate the trained model\n",
    "mean_reward, std_reward = evaluate_policy(model, env, n_eval_episodes=10)\n",
    "print(f\"Mean reward: {mean_reward} +/- {std_reward}\")"
   ]
  },
  {
   "cell_type": "code",
   "execution_count": null,
   "metadata": {},
   "outputs": [],
   "source": []
  }
 ],
 "metadata": {
  "kernelspec": {
   "display_name": "Python 3 (ipykernel)",
   "language": "python",
   "name": "python3"
  },
  "language_info": {
   "codemirror_mode": {
    "name": "ipython",
    "version": 3
   },
   "file_extension": ".py",
   "mimetype": "text/x-python",
   "name": "python",
   "nbconvert_exporter": "python",
   "pygments_lexer": "ipython3",
   "version": "3.10.13"
  }
 },
 "nbformat": 4,
 "nbformat_minor": 4
}
